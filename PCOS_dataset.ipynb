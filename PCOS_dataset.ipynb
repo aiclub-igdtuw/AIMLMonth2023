{
 "cells": [
  {
   "cell_type": "code",
   "execution_count": 1,
   "id": "5420953c",
   "metadata": {},
   "outputs": [],
   "source": [
    "# importing all necessary libraries\n",
    "import numpy as np\n",
    "import matplotlib.pyplot as plt\n",
    "import pandas as pd\n",
    "import seaborn as sns\n",
    "\n",
    "sns.set_theme(style='whitegrid')"
   ]
  },
  {
   "cell_type": "code",
   "execution_count": 2,
   "id": "439d9ef2",
   "metadata": {},
   "outputs": [],
   "source": [
    "df_inf = pd.read_csv(\"PCOS_infertility.csv\")\n",
    "df_woinf = pd.read_excel(\"PCOS_data_without_infertility.xlsx\", sheet_name='Full_new')"
   ]
  },
  {
   "cell_type": "code",
   "execution_count": 3,
   "id": "c4795a89",
   "metadata": {},
   "outputs": [
    {
     "data": {
      "text/plain": [
       "(541, 45)"
      ]
     },
     "execution_count": 3,
     "metadata": {},
     "output_type": "execute_result"
    }
   ],
   "source": [
    "df_woinf.shape"
   ]
  },
  {
   "cell_type": "code",
   "execution_count": 4,
   "id": "deea723b",
   "metadata": {},
   "outputs": [
    {
     "data": {
      "text/html": [
       "<div>\n",
       "<style scoped>\n",
       "    .dataframe tbody tr th:only-of-type {\n",
       "        vertical-align: middle;\n",
       "    }\n",
       "\n",
       "    .dataframe tbody tr th {\n",
       "        vertical-align: top;\n",
       "    }\n",
       "\n",
       "    .dataframe thead th {\n",
       "        text-align: right;\n",
       "    }\n",
       "</style>\n",
       "<table border=\"1\" class=\"dataframe\">\n",
       "  <thead>\n",
       "    <tr style=\"text-align: right;\">\n",
       "      <th></th>\n",
       "      <th>Sl. No</th>\n",
       "      <th>Patient File No.</th>\n",
       "      <th>PCOS (Y/N)</th>\n",
       "      <th>Age (yrs)</th>\n",
       "      <th>Weight (Kg)</th>\n",
       "      <th>Height(Cm)</th>\n",
       "      <th>BMI</th>\n",
       "      <th>Blood Group</th>\n",
       "      <th>Pulse rate(bpm)</th>\n",
       "      <th>RR (breaths/min)</th>\n",
       "      <th>...</th>\n",
       "      <th>Fast food (Y/N)</th>\n",
       "      <th>Reg.Exercise(Y/N)</th>\n",
       "      <th>BP _Systolic (mmHg)</th>\n",
       "      <th>BP _Diastolic (mmHg)</th>\n",
       "      <th>Follicle No. (L)</th>\n",
       "      <th>Follicle No. (R)</th>\n",
       "      <th>Avg. F size (L) (mm)</th>\n",
       "      <th>Avg. F size (R) (mm)</th>\n",
       "      <th>Endometrium (mm)</th>\n",
       "      <th>Unnamed: 44</th>\n",
       "    </tr>\n",
       "  </thead>\n",
       "  <tbody>\n",
       "    <tr>\n",
       "      <th>0</th>\n",
       "      <td>1</td>\n",
       "      <td>1</td>\n",
       "      <td>0</td>\n",
       "      <td>28</td>\n",
       "      <td>44.6</td>\n",
       "      <td>152.0</td>\n",
       "      <td>19.300000</td>\n",
       "      <td>15</td>\n",
       "      <td>78</td>\n",
       "      <td>22</td>\n",
       "      <td>...</td>\n",
       "      <td>1.0</td>\n",
       "      <td>0</td>\n",
       "      <td>110</td>\n",
       "      <td>80</td>\n",
       "      <td>3</td>\n",
       "      <td>3</td>\n",
       "      <td>18.0</td>\n",
       "      <td>18.0</td>\n",
       "      <td>8.5</td>\n",
       "      <td>NaN</td>\n",
       "    </tr>\n",
       "    <tr>\n",
       "      <th>1</th>\n",
       "      <td>2</td>\n",
       "      <td>2</td>\n",
       "      <td>0</td>\n",
       "      <td>36</td>\n",
       "      <td>65.0</td>\n",
       "      <td>161.5</td>\n",
       "      <td>24.921163</td>\n",
       "      <td>15</td>\n",
       "      <td>74</td>\n",
       "      <td>20</td>\n",
       "      <td>...</td>\n",
       "      <td>0.0</td>\n",
       "      <td>0</td>\n",
       "      <td>120</td>\n",
       "      <td>70</td>\n",
       "      <td>3</td>\n",
       "      <td>5</td>\n",
       "      <td>15.0</td>\n",
       "      <td>14.0</td>\n",
       "      <td>3.7</td>\n",
       "      <td>NaN</td>\n",
       "    </tr>\n",
       "    <tr>\n",
       "      <th>2</th>\n",
       "      <td>3</td>\n",
       "      <td>3</td>\n",
       "      <td>1</td>\n",
       "      <td>33</td>\n",
       "      <td>68.8</td>\n",
       "      <td>165.0</td>\n",
       "      <td>25.270891</td>\n",
       "      <td>11</td>\n",
       "      <td>72</td>\n",
       "      <td>18</td>\n",
       "      <td>...</td>\n",
       "      <td>1.0</td>\n",
       "      <td>0</td>\n",
       "      <td>120</td>\n",
       "      <td>80</td>\n",
       "      <td>13</td>\n",
       "      <td>15</td>\n",
       "      <td>18.0</td>\n",
       "      <td>20.0</td>\n",
       "      <td>10.0</td>\n",
       "      <td>NaN</td>\n",
       "    </tr>\n",
       "    <tr>\n",
       "      <th>3</th>\n",
       "      <td>4</td>\n",
       "      <td>4</td>\n",
       "      <td>0</td>\n",
       "      <td>37</td>\n",
       "      <td>65.0</td>\n",
       "      <td>148.0</td>\n",
       "      <td>29.674945</td>\n",
       "      <td>13</td>\n",
       "      <td>72</td>\n",
       "      <td>20</td>\n",
       "      <td>...</td>\n",
       "      <td>0.0</td>\n",
       "      <td>0</td>\n",
       "      <td>120</td>\n",
       "      <td>70</td>\n",
       "      <td>2</td>\n",
       "      <td>2</td>\n",
       "      <td>15.0</td>\n",
       "      <td>14.0</td>\n",
       "      <td>7.5</td>\n",
       "      <td>NaN</td>\n",
       "    </tr>\n",
       "    <tr>\n",
       "      <th>4</th>\n",
       "      <td>5</td>\n",
       "      <td>5</td>\n",
       "      <td>0</td>\n",
       "      <td>25</td>\n",
       "      <td>52.0</td>\n",
       "      <td>161.0</td>\n",
       "      <td>20.060954</td>\n",
       "      <td>11</td>\n",
       "      <td>72</td>\n",
       "      <td>18</td>\n",
       "      <td>...</td>\n",
       "      <td>0.0</td>\n",
       "      <td>0</td>\n",
       "      <td>120</td>\n",
       "      <td>80</td>\n",
       "      <td>3</td>\n",
       "      <td>4</td>\n",
       "      <td>16.0</td>\n",
       "      <td>14.0</td>\n",
       "      <td>7.0</td>\n",
       "      <td>NaN</td>\n",
       "    </tr>\n",
       "  </tbody>\n",
       "</table>\n",
       "<p>5 rows × 45 columns</p>\n",
       "</div>"
      ],
      "text/plain": [
       "   Sl. No  Patient File No.  PCOS (Y/N)   Age (yrs)  Weight (Kg)  Height(Cm)   \\\n",
       "0       1                 1           0          28         44.6        152.0   \n",
       "1       2                 2           0          36         65.0        161.5   \n",
       "2       3                 3           1          33         68.8        165.0   \n",
       "3       4                 4           0          37         65.0        148.0   \n",
       "4       5                 5           0          25         52.0        161.0   \n",
       "\n",
       "         BMI  Blood Group  Pulse rate(bpm)   RR (breaths/min)  ...  \\\n",
       "0  19.300000           15                78                22  ...   \n",
       "1  24.921163           15                74                20  ...   \n",
       "2  25.270891           11                72                18  ...   \n",
       "3  29.674945           13                72                20  ...   \n",
       "4  20.060954           11                72                18  ...   \n",
       "\n",
       "   Fast food (Y/N)  Reg.Exercise(Y/N)  BP _Systolic (mmHg)  \\\n",
       "0              1.0                  0                  110   \n",
       "1              0.0                  0                  120   \n",
       "2              1.0                  0                  120   \n",
       "3              0.0                  0                  120   \n",
       "4              0.0                  0                  120   \n",
       "\n",
       "   BP _Diastolic (mmHg)  Follicle No. (L)  Follicle No. (R)  \\\n",
       "0                    80                 3                 3   \n",
       "1                    70                 3                 5   \n",
       "2                    80                13                15   \n",
       "3                    70                 2                 2   \n",
       "4                    80                 3                 4   \n",
       "\n",
       "   Avg. F size (L) (mm) Avg. F size (R) (mm)  Endometrium (mm)  Unnamed: 44  \n",
       "0                  18.0                 18.0               8.5          NaN  \n",
       "1                  15.0                 14.0               3.7          NaN  \n",
       "2                  18.0                 20.0              10.0          NaN  \n",
       "3                  15.0                 14.0               7.5          NaN  \n",
       "4                  16.0                 14.0               7.0          NaN  \n",
       "\n",
       "[5 rows x 45 columns]"
      ]
     },
     "execution_count": 4,
     "metadata": {},
     "output_type": "execute_result"
    }
   ],
   "source": [
    "df_woinf.head()"
   ]
  },
  {
   "cell_type": "code",
   "execution_count": 5,
   "id": "67c694f4",
   "metadata": {},
   "outputs": [],
   "source": [
    "# df has a column which is unknown so dropping that column\n",
    "final_df = df_woinf.drop(columns=['Unnamed: 44'])"
   ]
  },
  {
   "cell_type": "code",
   "execution_count": 6,
   "id": "d1e9c804",
   "metadata": {},
   "outputs": [
    {
     "data": {
      "text/plain": [
       "Sl. No                      int64\n",
       "Patient File No.            int64\n",
       "PCOS (Y/N)                  int64\n",
       " Age (yrs)                  int64\n",
       "Weight (Kg)               float64\n",
       "Height(Cm)                float64\n",
       "BMI                       float64\n",
       "Blood Group                 int64\n",
       "Pulse rate(bpm)             int64\n",
       "RR (breaths/min)            int64\n",
       "Hb(g/dl)                  float64\n",
       "Cycle(R/I)                  int64\n",
       "Cycle length(days)          int64\n",
       "Marraige Status (Yrs)     float64\n",
       "Pregnant(Y/N)               int64\n",
       "No. of aborptions           int64\n",
       "  I   beta-HCG(mIU/mL)    float64\n",
       "II    beta-HCG(mIU/mL)     object\n",
       "FSH(mIU/mL)               float64\n",
       "LH(mIU/mL)                float64\n",
       "FSH/LH                    float64\n",
       "Hip(inch)                   int64\n",
       "Waist(inch)                 int64\n",
       "Waist:Hip Ratio           float64\n",
       "TSH (mIU/L)               float64\n",
       "AMH(ng/mL)                 object\n",
       "PRL(ng/mL)                float64\n",
       "Vit D3 (ng/mL)            float64\n",
       "PRG(ng/mL)                float64\n",
       "RBS(mg/dl)                float64\n",
       "Weight gain(Y/N)            int64\n",
       "hair growth(Y/N)            int64\n",
       "Skin darkening (Y/N)        int64\n",
       "Hair loss(Y/N)              int64\n",
       "Pimples(Y/N)                int64\n",
       "Fast food (Y/N)           float64\n",
       "Reg.Exercise(Y/N)           int64\n",
       "BP _Systolic (mmHg)         int64\n",
       "BP _Diastolic (mmHg)        int64\n",
       "Follicle No. (L)            int64\n",
       "Follicle No. (R)            int64\n",
       "Avg. F size (L) (mm)      float64\n",
       "Avg. F size (R) (mm)      float64\n",
       "Endometrium (mm)          float64\n",
       "dtype: object"
      ]
     },
     "execution_count": 6,
     "metadata": {},
     "output_type": "execute_result"
    }
   ],
   "source": [
    "final_df.dtypes"
   ]
  },
  {
   "cell_type": "code",
   "execution_count": 7,
   "id": "fecf8f76",
   "metadata": {},
   "outputs": [],
   "source": [
    "# there are 4 object datatypes in the df but they are all in numeric form\n",
    "# so converting the object dt to numeric.\n",
    "\n",
    "final_df[\"AMH(ng/mL)\"] = pd.to_numeric(final_df[\"AMH(ng/mL)\"], errors='coerce')\n",
    "final_df[\"II    beta-HCG(mIU/mL)\"] = pd.to_numeric(final_df[\"II    beta-HCG(mIU/mL)\"], errors='coerce')"
   ]
  },
  {
   "cell_type": "code",
   "execution_count": 8,
   "id": "f2d3c49c",
   "metadata": {},
   "outputs": [
    {
     "data": {
      "text/plain": [
       "Sl. No                    0\n",
       "Patient File No.          0\n",
       "PCOS (Y/N)                0\n",
       " Age (yrs)                0\n",
       "Weight (Kg)               0\n",
       "Height(Cm)                0\n",
       "BMI                       0\n",
       "Blood Group               0\n",
       "Pulse rate(bpm)           0\n",
       "RR (breaths/min)          0\n",
       "Hb(g/dl)                  0\n",
       "Cycle(R/I)                0\n",
       "Cycle length(days)        0\n",
       "Marraige Status (Yrs)     1\n",
       "Pregnant(Y/N)             0\n",
       "No. of aborptions         0\n",
       "  I   beta-HCG(mIU/mL)    0\n",
       "II    beta-HCG(mIU/mL)    1\n",
       "FSH(mIU/mL)               0\n",
       "LH(mIU/mL)                0\n",
       "FSH/LH                    0\n",
       "Hip(inch)                 0\n",
       "Waist(inch)               0\n",
       "Waist:Hip Ratio           0\n",
       "TSH (mIU/L)               0\n",
       "AMH(ng/mL)                1\n",
       "PRL(ng/mL)                0\n",
       "Vit D3 (ng/mL)            0\n",
       "PRG(ng/mL)                0\n",
       "RBS(mg/dl)                0\n",
       "Weight gain(Y/N)          0\n",
       "hair growth(Y/N)          0\n",
       "Skin darkening (Y/N)      0\n",
       "Hair loss(Y/N)            0\n",
       "Pimples(Y/N)              0\n",
       "Fast food (Y/N)           1\n",
       "Reg.Exercise(Y/N)         0\n",
       "BP _Systolic (mmHg)       0\n",
       "BP _Diastolic (mmHg)      0\n",
       "Follicle No. (L)          0\n",
       "Follicle No. (R)          0\n",
       "Avg. F size (L) (mm)      0\n",
       "Avg. F size (R) (mm)      0\n",
       "Endometrium (mm)          0\n",
       "dtype: int64"
      ]
     },
     "execution_count": 8,
     "metadata": {},
     "output_type": "execute_result"
    }
   ],
   "source": [
    "# checking for missing values\n",
    "final_df.isnull().sum()"
   ]
  },
  {
   "cell_type": "code",
   "execution_count": 9,
   "id": "47081788",
   "metadata": {},
   "outputs": [],
   "source": [
    "# there are 4 columns which have 1 missing value\n",
    "# replacing the missing value with the median\n",
    "\n",
    "\n",
    "final_df['Marraige Status (Yrs)'].fillna(final_df['Marraige Status (Yrs)'].median(),inplace=True)\n",
    "final_df['II    beta-HCG(mIU/mL)'].fillna(final_df['II    beta-HCG(mIU/mL)'].median(),inplace=True)\n",
    "final_df['AMH(ng/mL)'].fillna(final_df['AMH(ng/mL)'].median(),inplace=True)\n",
    "final_df['Fast food (Y/N)'].fillna(final_df['Fast food (Y/N)'].median(),inplace=True)"
   ]
  },
  {
   "cell_type": "code",
   "execution_count": 10,
   "id": "e4ab48a0",
   "metadata": {},
   "outputs": [
    {
     "data": {
      "text/plain": [
       "0    0.672828\n",
       "1    0.327172\n",
       "Name: PCOS (Y/N), dtype: float64"
      ]
     },
     "execution_count": 10,
     "metadata": {},
     "output_type": "execute_result"
    }
   ],
   "source": [
    "final_df['PCOS (Y/N)'].value_counts(normalize=True)"
   ]
  },
  {
   "cell_type": "code",
   "execution_count": 11,
   "id": "8047b5d9",
   "metadata": {},
   "outputs": [
    {
     "data": {
      "image/png": "[encoded data removed]",
      "text/plain": [
       "<Figure size 432x288 with 1 Axes>"
      ]
     },
     "metadata": {},
     "output_type": "display_data"
    }
   ],
   "source": [
    "sns.countplot(x=final_df['PCOS (Y/N)'])\n",
    "plt.show()"
   ]
  },
  {
   "cell_type": "code",
   "execution_count": 12,
   "id": "c543c577",
   "metadata": {},
   "outputs": [
    {
     "data": {
      "text/plain": [
       "1    0.694915\n",
       "0    0.305085\n",
       "Name: Pimples(Y/N), dtype: float64"
      ]
     },
     "execution_count": 12,
     "metadata": {},
     "output_type": "execute_result"
    }
   ],
   "source": [
    "# analysis of PCOS (Y) and Pimple(Y/N)\n",
    "values = final_df[final_df['PCOS (Y/N)'] == 1]['Pimples(Y/N)'].value_counts(normalize=True)\n",
    "values"
   ]
  },
  {
   "cell_type": "code",
   "execution_count": 13,
   "id": "411efdea",
   "metadata": {},
   "outputs": [
    {
     "data": {
      "image/png": "[encoded data removed]",
      "text/plain": [
       "<Figure size 432x288 with 1 Axes>"
      ]
     },
     "metadata": {},
     "output_type": "display_data"
    }
   ],
   "source": [
    "plt.pie(values, labels=['Have Pimples', 'Does not have pimples'])\n",
    "plt.title(\"Plot of women already having PCOS\")\n",
    "plt.show()\n"
   ]
  },
  {
   "cell_type": "code",
   "execution_count": 14,
   "id": "d2145c77",
   "metadata": {},
   "outputs": [
    {
     "data": {
      "text/plain": [
       "1    0.621469\n",
       "0    0.378531\n",
       "Name: Skin darkening (Y/N), dtype: float64"
      ]
     },
     "execution_count": 14,
     "metadata": {},
     "output_type": "execute_result"
    }
   ],
   "source": [
    "# analysis of PCOS (Y) and Skin darkening\n",
    "values = final_df[final_df['PCOS (Y/N)'] == 1]['Skin darkening (Y/N)'].value_counts(normalize=True)\n",
    "values"
   ]
  },
  {
   "cell_type": "code",
   "execution_count": 15,
   "id": "708be8d0",
   "metadata": {},
   "outputs": [
    {
     "data": {
      "image/png": "[encoded data removed]",
      "text/plain": [
       "<Figure size 432x288 with 1 Axes>"
      ]
     },
     "metadata": {},
     "output_type": "display_data"
    }
   ],
   "source": [
    "plt.pie(values, labels=['Have darkened their skin', 'Have not darkened their skin'])\n",
    "plt.title('Plot of women already having PCOS')\n",
    "plt.show()"
   ]
  },
  {
   "cell_type": "code",
   "execution_count": 16,
   "id": "0ae1ca30",
   "metadata": {},
   "outputs": [
    {
     "data": {
      "text/plain": [
       "1    0.570621\n",
       "0    0.429379\n",
       "Name: hair growth(Y/N), dtype: float64"
      ]
     },
     "execution_count": 16,
     "metadata": {},
     "output_type": "execute_result"
    }
   ],
   "source": [
    "# analysis of PCOS (Y) and Hair Growth\n",
    "values = final_df[final_df['PCOS (Y/N)'] == 1]['hair growth(Y/N)'].value_counts(normalize=True)\n",
    "values"
   ]
  },
  {
   "cell_type": "code",
   "execution_count": 17,
   "id": "4c8cb48b",
   "metadata": {},
   "outputs": [
    {
     "data": {
      "image/png": "[encoded data removed]",
      "text/plain": [
       "<Figure size 432x288 with 1 Axes>"
      ]
     },
     "metadata": {},
     "output_type": "display_data"
    }
   ],
   "source": [
    "plt.pie(values, labels=['Have growth their hair', 'Have not growth their hair'])\n",
    "plt.title('Plot of women already having PCOS')\n",
    "plt.show()"
   ]
  },
  {
   "cell_type": "code",
   "execution_count": 18,
   "id": "dbc8ea94",
   "metadata": {},
   "outputs": [
    {
     "data": {
      "text/plain": [
       "1    0.683616\n",
       "0    0.316384\n",
       "Name: Weight gain(Y/N), dtype: float64"
      ]
     },
     "execution_count": 18,
     "metadata": {},
     "output_type": "execute_result"
    }
   ],
   "source": [
    "# analysis of PCOS (Y) and Weight gain\n",
    "values = final_df[final_df['PCOS (Y/N)'] == 1]['Weight gain(Y/N)'].value_counts(normalize=True)\n",
    "values"
   ]
  },
  {
   "cell_type": "code",
   "execution_count": 19,
   "id": "a3ad6ac8",
   "metadata": {},
   "outputs": [
    {
     "data": {
      "image/png": "[encoded data removed]",
      "text/plain": [
       "<Figure size 432x288 with 1 Axes>"
      ]
     },
     "metadata": {},
     "output_type": "display_data"
    }
   ],
   "source": [
    "plt.pie(values, labels=['Have gained weight', 'Have not gained weight'])\n",
    "plt.title('Plot of women already having PCOS')\n",
    "plt.show()\n"
   ]
  },
  {
   "cell_type": "code",
   "execution_count": 20,
   "id": "b3e2ddc6",
   "metadata": {},
   "outputs": [
    {
     "data": {
      "image/png": "[encoded data removed]",
      "text/plain": [
       "<Figure size 432x288 with 1 Axes>"
      ]
     },
     "metadata": {},
     "output_type": "display_data"
    }
   ],
   "source": [
    "sns.barplot(x=final_df['PCOS (Y/N)'], y=final_df['BMI'])\n",
    "plt.title('Body Mass Index v/s PCOS')\n",
    "plt.show()"
   ]
  },
  {
   "cell_type": "code",
   "execution_count": 21,
   "id": "8cf9a7de",
   "metadata": {},
   "outputs": [
    {
     "data": {
      "text/plain": [
       "PCOS (Y/N)                1.000000\n",
       "Follicle No. (R)          0.648327\n",
       "Follicle No. (L)          0.603346\n",
       "Skin darkening (Y/N)      0.475733\n",
       "hair growth(Y/N)          0.464667\n",
       "Weight gain(Y/N)          0.441047\n",
       "Cycle(R/I)                0.401644\n",
       "Fast food (Y/N)           0.376183\n",
       "Pimples(Y/N)              0.286077\n",
       "AMH(ng/mL)                0.264141\n",
       "Weight (Kg)               0.211938\n",
       "BMI                       0.199534\n",
       "Hair loss(Y/N)            0.172879\n",
       "Waist(inch)               0.164598\n",
       "Hip(inch)                 0.162297\n",
       "Avg. F size (L) (mm)      0.132992\n",
       "Endometrium (mm)          0.106648\n",
       "Avg. F size (R) (mm)      0.097690\n",
       "Pulse rate(bpm)           0.091821\n",
       "Hb(g/dl)                  0.087170\n",
       "Vit D3 (ng/mL)            0.085494\n",
       "Height(Cm)                0.068254\n",
       "Reg.Exercise(Y/N)         0.065337\n",
       "LH(mIU/mL)                0.063879\n",
       "Sl. No                    0.060998\n",
       "Patient File No.          0.060998\n",
       "RBS(mg/dl)                0.048922\n",
       "BP _Diastolic (mmHg)      0.038032\n",
       "RR (breaths/min)          0.036928\n",
       "Blood Group               0.036433\n",
       "II    beta-HCG(mIU/mL)    0.012760\n",
       "Waist:Hip Ratio           0.012386\n",
       "BP _Systolic (mmHg)       0.007942\n",
       "PRL(ng/mL)                0.005143\n",
       "TSH (mIU/L)              -0.010140\n",
       "FSH/LH                   -0.018336\n",
       "Pregnant(Y/N)            -0.027565\n",
       "  I   beta-HCG(mIU/mL)   -0.027617\n",
       "FSH(mIU/mL)              -0.030319\n",
       "PRG(ng/mL)               -0.043834\n",
       "No. of aborptions        -0.057158\n",
       "Marraige Status (Yrs)    -0.113056\n",
       " Age (yrs)               -0.168513\n",
       "Cycle length(days)       -0.178480\n",
       "Name: PCOS (Y/N), dtype: float64"
      ]
     },
     "execution_count": 21,
     "metadata": {},
     "output_type": "execute_result"
    }
   ],
   "source": [
    "#Examaning a correlation matrix of all the features\n",
    "\n",
    "corrmat = final_df.corr()\n",
    "\n",
    "#How all the features correlate with the PCOS\n",
    "\n",
    "corrmat[\"PCOS (Y/N)\"].sort_values(ascending=False)"
   ]
  },
  {
   "cell_type": "code",
   "execution_count": 22,
   "id": "628ee162",
   "metadata": {},
   "outputs": [
    {
     "data": {
      "text/plain": [
       "0    0.60989\n",
       "1    0.39011\n",
       "Name: Pimples(Y/N), dtype: float64"
      ]
     },
     "execution_count": 22,
     "metadata": {},
     "output_type": "execute_result"
    }
   ],
   "source": [
    "# analysis of PCOS (N) and Pimple(Y/N)\n",
    "values = final_df[final_df['PCOS (Y/N)'] == 0]['Pimples(Y/N)'].value_counts(normalize=True)\n",
    "values"
   ]
  },
  {
   "cell_type": "code",
   "execution_count": 23,
   "id": "59147171",
   "metadata": {},
   "outputs": [
    {
     "data": {
      "text/plain": [
       "0    0.846154\n",
       "1    0.153846\n",
       "Name: Skin darkening (Y/N), dtype: float64"
      ]
     },
     "execution_count": 23,
     "metadata": {},
     "output_type": "execute_result"
    }
   ],
   "source": [
    "# analysis of PCOS (N) and Skin darkening (Y/N)\n",
    "values = final_df[final_df['PCOS (Y/N)'] == 0]['Skin darkening (Y/N)'].value_counts(normalize=True)\n",
    "values"
   ]
  },
  {
   "cell_type": "code",
   "execution_count": 24,
   "id": "918e154a",
   "metadata": {},
   "outputs": [
    {
     "data": {
      "text/plain": [
       "0    0.870879\n",
       "1    0.129121\n",
       "Name: hair growth(Y/N), dtype: float64"
      ]
     },
     "execution_count": 24,
     "metadata": {},
     "output_type": "execute_result"
    }
   ],
   "source": [
    "# analysis of PCOS (N) and hair growth (Y/N)\n",
    "values = final_df[final_df['PCOS (Y/N)'] == 0]['hair growth(Y/N)'].value_counts(normalize=True)\n",
    "values"
   ]
  },
  {
   "cell_type": "code",
   "execution_count": 25,
   "id": "499cddca",
   "metadata": {},
   "outputs": [
    {
     "data": {
      "text/plain": [
       "0    0.771978\n",
       "1    0.228022\n",
       "Name: Weight gain(Y/N), dtype: float64"
      ]
     },
     "execution_count": 25,
     "metadata": {},
     "output_type": "execute_result"
    }
   ],
   "source": [
    "# analysis of PCOS (N) and weight gain (Y/N)\n",
    "values = final_df[final_df['PCOS (Y/N)'] == 0]['Weight gain(Y/N)'].value_counts(normalize=True)\n",
    "values"
   ]
  },
  {
   "cell_type": "code",
   "execution_count": 26,
   "id": "a07581fe",
   "metadata": {},
   "outputs": [
    {
     "data": {
      "text/plain": [
       "Index(['PCOS (Y/N)', 'Follicle No. (R)', 'Follicle No. (L)',\n",
       "       'Skin darkening (Y/N)', 'hair growth(Y/N)', 'Weight gain(Y/N)',\n",
       "       'Cycle(R/I)'],\n",
       "      dtype='object')"
      ]
     },
     "execution_count": 26,
     "metadata": {},
     "output_type": "execute_result"
    }
   ],
   "source": [
    "# we can remove some columns which have no or very less impact on the output\n",
    "corr_features=corrmat['PCOS (Y/N)'].abs().sort_values(ascending=False)\n",
    "\n",
    "#features with correlation more than 0.4\n",
    "\n",
    "corr_features=corr_features[corr_features>0.4].index\n",
    "corr_features"
   ]
  },
  {
   "cell_type": "code",
   "execution_count": 27,
   "id": "e5a041db",
   "metadata": {},
   "outputs": [],
   "source": [
    "X = final_df[corr_features]\n",
    "Y = final_df['PCOS (Y/N)']"
   ]
  },
  {
   "cell_type": "code",
   "execution_count": 28,
   "id": "39b1ef2b",
   "metadata": {},
   "outputs": [],
   "source": [
    "from sklearn.model_selection import train_test_split"
   ]
  },
  {
   "cell_type": "code",
   "execution_count": 29,
   "id": "b6cf9fe6",
   "metadata": {},
   "outputs": [],
   "source": [
    "X_train, X_test, Y_train, Y_test = train_test_split(X, Y, test_size=0.2, random_state=10)"
   ]
  },
  {
   "cell_type": "code",
   "execution_count": 30,
   "id": "f7c19d44",
   "metadata": {},
   "outputs": [
    {
     "data": {
      "text/plain": [
       "((432, 7), (109, 7))"
      ]
     },
     "execution_count": 30,
     "metadata": {},
     "output_type": "execute_result"
    }
   ],
   "source": [
    "X_train.shape, X_test.shape"
   ]
  },
  {
   "cell_type": "code",
   "execution_count": 31,
   "id": "7f1d4c2d",
   "metadata": {},
   "outputs": [
    {
     "data": {
      "text/plain": [
       "((432,), (109,))"
      ]
     },
     "execution_count": 31,
     "metadata": {},
     "output_type": "execute_result"
    }
   ],
   "source": [
    "Y_train.shape, Y_test.shape"
   ]
  },
  {
   "cell_type": "code",
   "execution_count": 32,
   "id": "35510eaa",
   "metadata": {},
   "outputs": [],
   "source": [
    "from sklearn.linear_model import LogisticRegression"
   ]
  },
  {
   "cell_type": "code",
   "execution_count": 33,
   "id": "b2919b6e",
   "metadata": {},
   "outputs": [],
   "source": [
    "model = LogisticRegression()"
   ]
  },
  {
   "cell_type": "code",
   "execution_count": 34,
   "id": "34955fb0",
   "metadata": {},
   "outputs": [
    {
     "data": {
      "text/plain": [
       "LogisticRegression()"
      ]
     },
     "execution_count": 34,
     "metadata": {},
     "output_type": "execute_result"
    }
   ],
   "source": [
    "model.fit(X_train, Y_train)"
   ]
  },
  {
   "cell_type": "code",
   "execution_count": 35,
   "id": "ae3b16f7",
   "metadata": {},
   "outputs": [
    {
     "data": {
      "text/plain": [
       "0.9908256880733946"
      ]
     },
     "execution_count": 35,
     "metadata": {},
     "output_type": "execute_result"
    }
   ],
   "source": [
    "model.score(X_test, Y_test)"
   ]
  },
  {
   "cell_type": "code",
   "execution_count": 36,
   "id": "db50e3ba",
   "metadata": {},
   "outputs": [
    {
     "data": {
      "text/plain": [
       "0.9976851851851852"
      ]
     },
     "execution_count": 36,
     "metadata": {},
     "output_type": "execute_result"
    }
   ],
   "source": [
    "model.score(X_train, Y_train)"
   ]
  },
  {
   "cell_type": "code",
   "execution_count": 37,
   "id": "9a3fa7aa",
   "metadata": {},
   "outputs": [
    {
     "data": {
      "text/plain": [
       "array([1, 0, 1, 1, 0, 0, 1, 1, 1, 0, 1, 0, 1, 0, 1, 0, 0, 0, 0, 0, 0, 1,\n",
       "       0, 0, 0, 1, 0, 0, 1, 0, 0, 0, 0, 0, 0, 0, 0, 1, 0, 0, 0, 1, 0, 0,\n",
       "       0, 0, 0, 0, 0, 0, 1, 1, 0, 0, 1, 0, 0, 0, 0, 1, 0, 1, 1, 0, 0, 1,\n",
       "       0, 0, 0, 0, 1, 0, 0, 0, 0, 0, 0, 0, 1, 0, 1, 1, 1, 0, 0, 1, 0, 0,\n",
       "       0, 0, 1, 1, 1, 1, 0, 0, 0, 0, 0, 0, 1, 0, 1, 0, 1, 0, 1, 1, 0],\n",
       "      dtype=int64)"
      ]
     },
     "execution_count": 37,
     "metadata": {},
     "output_type": "execute_result"
    }
   ],
   "source": [
    "model.predict(X_test)"
   ]
  },
  {
   "cell_type": "code",
   "execution_count": 38,
   "id": "17a510d0",
   "metadata": {},
   "outputs": [
    {
     "data": {
      "text/plain": [
       "array([1, 0, 1, 1, 0, 0, 1, 1, 1, 0, 1, 0, 1, 0, 1, 0, 0, 0, 0, 0, 0, 1,\n",
       "       0, 0, 0, 1, 0, 0, 1, 0, 0, 0, 0, 0, 0, 0, 0, 1, 0, 0, 0, 1, 0, 0,\n",
       "       0, 0, 0, 0, 0, 0, 1, 1, 0, 0, 1, 0, 0, 0, 0, 1, 0, 1, 1, 0, 0, 1,\n",
       "       0, 0, 0, 0, 1, 0, 0, 0, 1, 0, 0, 0, 1, 0, 1, 1, 1, 0, 0, 1, 0, 0,\n",
       "       0, 0, 1, 1, 1, 1, 0, 0, 0, 0, 0, 0, 1, 0, 1, 0, 1, 0, 1, 1, 0],\n",
       "      dtype=int64)"
      ]
     },
     "execution_count": 38,
     "metadata": {},
     "output_type": "execute_result"
    }
   ],
   "source": [
    "np.array(Y_test)"
   ]
  },
  {
   "cell_type": "code",
   "execution_count": null,
   "id": "17e1b7b1",
   "metadata": {},
   "outputs": [],
   "source": []
  }
 ],
 "metadata": {
  "kernelspec": {
   "display_name": "Python 3",
   "language": "python",
   "name": "python3"
  },
  "language_info": {
   "codemirror_mode": {
    "name": "ipython",
    "version": 3
   },
   "file_extension": ".py",
   "mimetype": "text/x-python",
   "name": "python",
   "nbconvert_exporter": "python",
   "pygments_lexer": "ipython3",
   "version": "3.8.8"
  }
 },
 "nbformat": 4,
 "nbformat_minor": 5
}
