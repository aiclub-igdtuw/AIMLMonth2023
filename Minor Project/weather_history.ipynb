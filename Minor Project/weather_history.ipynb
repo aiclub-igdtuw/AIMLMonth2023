{
 "cells": [
  {
   "attachments": {},
   "cell_type": "markdown",
   "metadata": {},
   "source": [
    "## TASK 1 - Exploratory Data Analysis"
   ]
  },
  {
   "cell_type": "code",
   "execution_count": 1,
   "metadata": {},
   "outputs": [],
   "source": [
    "import numpy as np\n",
    "import pandas as pd\n"
   ]
  },
  {
   "cell_type": "code",
   "execution_count": 2,
   "metadata": {},
   "outputs": [],
   "source": [
    "weather = pd.read_csv('KCLT.csv')"
   ]
  },
  {
   "attachments": {},
   "cell_type": "markdown",
   "metadata": {},
   "source": [
    "##  Q1 - What are the key insights you can derive from the dataset in terms of its structure, size, and basic statistics?"
   ]
  },
  {
   "cell_type": "code",
   "execution_count": 3,
   "metadata": {},
   "outputs": [
    {
     "data": {
      "text/plain": [
       "('2014-7-1', '2015-6-30')"
      ]
     },
     "execution_count": 3,
     "metadata": {},
     "output_type": "execute_result"
    }
   ],
   "source": [
    "#the data provided is data of a single year starting from\n",
    "temp = weather['date'].to_numpy()\n",
    "temp[0], temp[-1]"
   ]
  },
  {
   "cell_type": "code",
   "execution_count": 4,
   "metadata": {},
   "outputs": [
    {
     "data": {
      "text/html": [
       "<div>\n",
       "<style scoped>\n",
       "    .dataframe tbody tr th:only-of-type {\n",
       "        vertical-align: middle;\n",
       "    }\n",
       "\n",
       "    .dataframe tbody tr th {\n",
       "        vertical-align: top;\n",
       "    }\n",
       "\n",
       "    .dataframe thead th {\n",
       "        text-align: right;\n",
       "    }\n",
       "</style>\n",
       "<table border=\"1\" class=\"dataframe\">\n",
       "  <thead>\n",
       "    <tr style=\"text-align: right;\">\n",
       "      <th></th>\n",
       "      <th>date</th>\n",
       "      <th>actual_mean_temp</th>\n",
       "      <th>actual_min_temp</th>\n",
       "      <th>actual_max_temp</th>\n",
       "      <th>average_min_temp</th>\n",
       "      <th>average_max_temp</th>\n",
       "      <th>record_min_temp</th>\n",
       "      <th>record_max_temp</th>\n",
       "      <th>record_min_temp_year</th>\n",
       "      <th>record_max_temp_year</th>\n",
       "      <th>actual_precipitation</th>\n",
       "      <th>average_precipitation</th>\n",
       "      <th>record_precipitation</th>\n",
       "    </tr>\n",
       "  </thead>\n",
       "  <tbody>\n",
       "    <tr>\n",
       "      <th>0</th>\n",
       "      <td>2014-7-1</td>\n",
       "      <td>81</td>\n",
       "      <td>70</td>\n",
       "      <td>91</td>\n",
       "      <td>67</td>\n",
       "      <td>89</td>\n",
       "      <td>56</td>\n",
       "      <td>104</td>\n",
       "      <td>1919</td>\n",
       "      <td>2012</td>\n",
       "      <td>0.00</td>\n",
       "      <td>0.10</td>\n",
       "      <td>5.91</td>\n",
       "    </tr>\n",
       "    <tr>\n",
       "      <th>1</th>\n",
       "      <td>2014-7-2</td>\n",
       "      <td>85</td>\n",
       "      <td>74</td>\n",
       "      <td>95</td>\n",
       "      <td>68</td>\n",
       "      <td>89</td>\n",
       "      <td>56</td>\n",
       "      <td>101</td>\n",
       "      <td>2008</td>\n",
       "      <td>1931</td>\n",
       "      <td>0.00</td>\n",
       "      <td>0.10</td>\n",
       "      <td>1.53</td>\n",
       "    </tr>\n",
       "    <tr>\n",
       "      <th>2</th>\n",
       "      <td>2014-7-3</td>\n",
       "      <td>82</td>\n",
       "      <td>71</td>\n",
       "      <td>93</td>\n",
       "      <td>68</td>\n",
       "      <td>89</td>\n",
       "      <td>56</td>\n",
       "      <td>99</td>\n",
       "      <td>2010</td>\n",
       "      <td>1931</td>\n",
       "      <td>0.14</td>\n",
       "      <td>0.11</td>\n",
       "      <td>2.50</td>\n",
       "    </tr>\n",
       "    <tr>\n",
       "      <th>3</th>\n",
       "      <td>2014-7-4</td>\n",
       "      <td>75</td>\n",
       "      <td>64</td>\n",
       "      <td>86</td>\n",
       "      <td>68</td>\n",
       "      <td>89</td>\n",
       "      <td>55</td>\n",
       "      <td>99</td>\n",
       "      <td>1933</td>\n",
       "      <td>1955</td>\n",
       "      <td>0.00</td>\n",
       "      <td>0.10</td>\n",
       "      <td>2.63</td>\n",
       "    </tr>\n",
       "    <tr>\n",
       "      <th>4</th>\n",
       "      <td>2014-7-5</td>\n",
       "      <td>72</td>\n",
       "      <td>60</td>\n",
       "      <td>84</td>\n",
       "      <td>68</td>\n",
       "      <td>89</td>\n",
       "      <td>57</td>\n",
       "      <td>100</td>\n",
       "      <td>1967</td>\n",
       "      <td>1954</td>\n",
       "      <td>0.00</td>\n",
       "      <td>0.10</td>\n",
       "      <td>1.65</td>\n",
       "    </tr>\n",
       "  </tbody>\n",
       "</table>\n",
       "</div>"
      ],
      "text/plain": [
       "       date  actual_mean_temp  actual_min_temp  actual_max_temp  \\\n",
       "0  2014-7-1                81               70               91   \n",
       "1  2014-7-2                85               74               95   \n",
       "2  2014-7-3                82               71               93   \n",
       "3  2014-7-4                75               64               86   \n",
       "4  2014-7-5                72               60               84   \n",
       "\n",
       "   average_min_temp  average_max_temp  record_min_temp  record_max_temp  \\\n",
       "0                67                89               56              104   \n",
       "1                68                89               56              101   \n",
       "2                68                89               56               99   \n",
       "3                68                89               55               99   \n",
       "4                68                89               57              100   \n",
       "\n",
       "   record_min_temp_year  record_max_temp_year  actual_precipitation  \\\n",
       "0                  1919                  2012                  0.00   \n",
       "1                  2008                  1931                  0.00   \n",
       "2                  2010                  1931                  0.14   \n",
       "3                  1933                  1955                  0.00   \n",
       "4                  1967                  1954                  0.00   \n",
       "\n",
       "   average_precipitation  record_precipitation  \n",
       "0                   0.10                  5.91  \n",
       "1                   0.10                  1.53  \n",
       "2                   0.11                  2.50  \n",
       "3                   0.10                  2.63  \n",
       "4                   0.10                  1.65  "
      ]
     },
     "execution_count": 4,
     "metadata": {},
     "output_type": "execute_result"
    }
   ],
   "source": [
    "weather.head()"
   ]
  },
  {
   "cell_type": "code",
   "execution_count": 5,
   "metadata": {},
   "outputs": [
    {
     "data": {
      "text/html": [
       "<div>\n",
       "<style scoped>\n",
       "    .dataframe tbody tr th:only-of-type {\n",
       "        vertical-align: middle;\n",
       "    }\n",
       "\n",
       "    .dataframe tbody tr th {\n",
       "        vertical-align: top;\n",
       "    }\n",
       "\n",
       "    .dataframe thead th {\n",
       "        text-align: right;\n",
       "    }\n",
       "</style>\n",
       "<table border=\"1\" class=\"dataframe\">\n",
       "  <thead>\n",
       "    <tr style=\"text-align: right;\">\n",
       "      <th></th>\n",
       "      <th>date</th>\n",
       "      <th>actual_mean_temp</th>\n",
       "      <th>actual_min_temp</th>\n",
       "      <th>actual_max_temp</th>\n",
       "      <th>average_min_temp</th>\n",
       "      <th>average_max_temp</th>\n",
       "      <th>record_min_temp</th>\n",
       "      <th>record_max_temp</th>\n",
       "      <th>record_min_temp_year</th>\n",
       "      <th>record_max_temp_year</th>\n",
       "      <th>actual_precipitation</th>\n",
       "      <th>average_precipitation</th>\n",
       "      <th>record_precipitation</th>\n",
       "    </tr>\n",
       "  </thead>\n",
       "  <tbody>\n",
       "    <tr>\n",
       "      <th>360</th>\n",
       "      <td>2015-6-26</td>\n",
       "      <td>85</td>\n",
       "      <td>70</td>\n",
       "      <td>100</td>\n",
       "      <td>67</td>\n",
       "      <td>88</td>\n",
       "      <td>55</td>\n",
       "      <td>102</td>\n",
       "      <td>1979</td>\n",
       "      <td>1952</td>\n",
       "      <td>1.21</td>\n",
       "      <td>0.11</td>\n",
       "      <td>1.98</td>\n",
       "    </tr>\n",
       "    <tr>\n",
       "      <th>361</th>\n",
       "      <td>2015-6-27</td>\n",
       "      <td>82</td>\n",
       "      <td>71</td>\n",
       "      <td>92</td>\n",
       "      <td>67</td>\n",
       "      <td>88</td>\n",
       "      <td>56</td>\n",
       "      <td>103</td>\n",
       "      <td>2012</td>\n",
       "      <td>1954</td>\n",
       "      <td>0.55</td>\n",
       "      <td>0.11</td>\n",
       "      <td>1.86</td>\n",
       "    </tr>\n",
       "    <tr>\n",
       "      <th>362</th>\n",
       "      <td>2015-6-28</td>\n",
       "      <td>76</td>\n",
       "      <td>66</td>\n",
       "      <td>85</td>\n",
       "      <td>67</td>\n",
       "      <td>88</td>\n",
       "      <td>53</td>\n",
       "      <td>101</td>\n",
       "      <td>1968</td>\n",
       "      <td>1959</td>\n",
       "      <td>0.00</td>\n",
       "      <td>0.11</td>\n",
       "      <td>1.83</td>\n",
       "    </tr>\n",
       "    <tr>\n",
       "      <th>363</th>\n",
       "      <td>2015-6-29</td>\n",
       "      <td>73</td>\n",
       "      <td>59</td>\n",
       "      <td>87</td>\n",
       "      <td>67</td>\n",
       "      <td>88</td>\n",
       "      <td>54</td>\n",
       "      <td>104</td>\n",
       "      <td>1974</td>\n",
       "      <td>2012</td>\n",
       "      <td>0.00</td>\n",
       "      <td>0.11</td>\n",
       "      <td>2.39</td>\n",
       "    </tr>\n",
       "    <tr>\n",
       "      <th>364</th>\n",
       "      <td>2015-6-30</td>\n",
       "      <td>83</td>\n",
       "      <td>71</td>\n",
       "      <td>94</td>\n",
       "      <td>67</td>\n",
       "      <td>89</td>\n",
       "      <td>54</td>\n",
       "      <td>104</td>\n",
       "      <td>1962</td>\n",
       "      <td>2012</td>\n",
       "      <td>0.00</td>\n",
       "      <td>0.11</td>\n",
       "      <td>2.75</td>\n",
       "    </tr>\n",
       "  </tbody>\n",
       "</table>\n",
       "</div>"
      ],
      "text/plain": [
       "          date  actual_mean_temp  actual_min_temp  actual_max_temp  \\\n",
       "360  2015-6-26                85               70              100   \n",
       "361  2015-6-27                82               71               92   \n",
       "362  2015-6-28                76               66               85   \n",
       "363  2015-6-29                73               59               87   \n",
       "364  2015-6-30                83               71               94   \n",
       "\n",
       "     average_min_temp  average_max_temp  record_min_temp  record_max_temp  \\\n",
       "360                67                88               55              102   \n",
       "361                67                88               56              103   \n",
       "362                67                88               53              101   \n",
       "363                67                88               54              104   \n",
       "364                67                89               54              104   \n",
       "\n",
       "     record_min_temp_year  record_max_temp_year  actual_precipitation  \\\n",
       "360                  1979                  1952                  1.21   \n",
       "361                  2012                  1954                  0.55   \n",
       "362                  1968                  1959                  0.00   \n",
       "363                  1974                  2012                  0.00   \n",
       "364                  1962                  2012                  0.00   \n",
       "\n",
       "     average_precipitation  record_precipitation  \n",
       "360                   0.11                  1.98  \n",
       "361                   0.11                  1.86  \n",
       "362                   0.11                  1.83  \n",
       "363                   0.11                  2.39  \n",
       "364                   0.11                  2.75  "
      ]
     },
     "execution_count": 5,
     "metadata": {},
     "output_type": "execute_result"
    }
   ],
   "source": [
    "weather.tail()"
   ]
  },
  {
   "cell_type": "code",
   "execution_count": 6,
   "metadata": {},
   "outputs": [
    {
     "data": {
      "text/plain": [
       "(365, 13)"
      ]
     },
     "execution_count": 6,
     "metadata": {},
     "output_type": "execute_result"
    }
   ],
   "source": [
    "weather.shape #this dataset contains 365 rows and 13 columns"
   ]
  },
  {
   "cell_type": "code",
   "execution_count": 7,
   "metadata": {},
   "outputs": [
    {
     "data": {
      "text/plain": [
       "(Index(['date', 'actual_mean_temp', 'actual_min_temp', 'actual_max_temp',\n",
       "        'average_min_temp', 'average_max_temp', 'record_min_temp',\n",
       "        'record_max_temp', 'record_min_temp_year', 'record_max_temp_year',\n",
       "        'actual_precipitation', 'average_precipitation',\n",
       "        'record_precipitation'],\n",
       "       dtype='object'),\n",
       " 13)"
      ]
     },
     "execution_count": 7,
     "metadata": {},
     "output_type": "execute_result"
    }
   ],
   "source": [
    "weather.columns, weather.columns.size #these are the column names/headings"
   ]
  },
  {
   "cell_type": "code",
   "execution_count": 8,
   "metadata": {},
   "outputs": [
    {
     "data": {
      "text/plain": [
       "dtype('int64')"
      ]
     },
     "execution_count": 8,
     "metadata": {},
     "output_type": "execute_result"
    }
   ],
   "source": [
    "weather['actual_mean_temp'].dtype"
   ]
  },
  {
   "cell_type": "code",
   "execution_count": 9,
   "metadata": {},
   "outputs": [
    {
     "name": "stdout",
     "output_type": "stream",
     "text": [
      "date--object\n",
      "actual_mean_temp--int64\n",
      "actual_min_temp--int64\n",
      "actual_max_temp--int64\n",
      "average_min_temp--int64\n",
      "average_max_temp--int64\n",
      "record_min_temp--int64\n",
      "record_max_temp--int64\n",
      "record_min_temp_year--int64\n",
      "record_max_temp_year--int64\n",
      "actual_precipitation--float64\n",
      "average_precipitation--float64\n",
      "record_precipitation--float64\n"
     ]
    }
   ],
   "source": [
    "for i in weather.columns:\n",
    "    x = 0\n",
    "    print(i,weather[i].dtype, sep=\"--\") #see type of data in each column\n",
    "    x = x+1\n"
   ]
  },
  {
   "cell_type": "code",
   "execution_count": 10,
   "metadata": {},
   "outputs": [],
   "source": [
    "#weather['actual_mean_temp'].mean(), weather['actual_mean_temp'].median(), weather['actual_mean_temp'].min(), weather['actual_mean_temp'].max(), weather['actual_mean_temp'].std()"
   ]
  },
  {
   "cell_type": "code",
   "execution_count": 11,
   "metadata": {},
   "outputs": [],
   "source": [
    "temp_col = weather.columns.drop(['date','record_min_temp_year','record_max_temp_year'])"
   ]
  },
  {
   "cell_type": "code",
   "execution_count": 12,
   "metadata": {},
   "outputs": [
    {
     "name": "stdout",
     "output_type": "stream",
     "text": [
      "actual_mean_temp -- ( 61.049 , 63.0 , 18 , 88 , 16.062 )\n",
      "actual_min_temp -- ( 49.959 , 52.0 , 7 , 75 , 16.576 )\n",
      "actual_max_temp -- ( 71.63 , 73.0 , 26 , 100 , 16.45 )\n",
      "average_min_temp -- ( 48.819 , 48.0 , 29 , 68 , 13.832 )\n",
      "average_max_temp -- ( 70.984 , 72.0 , 50 , 89 , 13.495 )\n",
      "record_min_temp -- ( 31.466 , 30.0 , -5 , 62 , 18.431 )\n",
      "record_max_temp -- ( 88.729 , 90.0 , 69 , 104 , 9.961 )\n",
      "actual_precipitation -- ( 0.102 , 0.0 , 0.0 , 2.65 , 0.301 )\n",
      "average_precipitation -- ( 0.114 , 0.11 , 0.09 , 0.15 , 0.014 )\n",
      "record_precipitation -- ( 2.209 , 1.98 , 0.85 , 6.88 , 0.879 )\n"
     ]
    }
   ],
   "source": [
    "#mean, median, min, max and standard deviation in each column except date and year column\n",
    "for i in temp_col:\n",
    "    print(i, \"--\", \"(\",weather[i].mean().__round__(3),\",\", weather[i].median(), \",\",weather[i].min(), \",\",weather[i].max(), \",\",weather[i].std().__round__(3), \")\")"
   ]
  },
  {
   "cell_type": "code",
   "execution_count": 13,
   "metadata": {},
   "outputs": [
    {
     "name": "stdout",
     "output_type": "stream",
     "text": [
      "0.25    47.0\n",
      "0.50    63.0\n",
      "0.75    75.0\n",
      "Name: actual_mean_temp, dtype: float64\n",
      "0.25    37.0\n",
      "0.50    52.0\n",
      "0.75    65.0\n",
      "Name: actual_min_temp, dtype: float64\n",
      "0.25    58.0\n",
      "0.50    73.0\n",
      "0.75    86.0\n",
      "Name: actual_max_temp, dtype: float64\n",
      "0.25    36.0\n",
      "0.50    48.0\n",
      "0.75    63.0\n",
      "Name: average_min_temp, dtype: float64\n",
      "0.25    58.0\n",
      "0.50    72.0\n",
      "0.75    84.0\n",
      "Name: average_max_temp, dtype: float64\n",
      "0.25    15.0\n",
      "0.50    30.0\n",
      "0.75    49.0\n",
      "Name: record_min_temp, dtype: float64\n",
      "0.25    79.0\n",
      "0.50    90.0\n",
      "0.75    98.0\n",
      "Name: record_max_temp, dtype: float64\n",
      "0.25    0.00\n",
      "0.50    0.00\n",
      "0.75    0.03\n",
      "Name: actual_precipitation, dtype: float64\n",
      "0.25    0.10\n",
      "0.50    0.11\n",
      "0.75    0.12\n",
      "Name: average_precipitation, dtype: float64\n",
      "0.25    1.65\n",
      "0.50    1.98\n",
      "0.75    2.54\n",
      "Name: record_precipitation, dtype: float64\n"
     ]
    }
   ],
   "source": [
    "for i in temp_col:\n",
    "    print(weather[i].quantile([0.25, 0.5, 0.75]))"
   ]
  },
  {
   "attachments": {},
   "cell_type": "markdown",
   "metadata": {},
   "source": [
    "##  Q2 - What will be the best way to Visualize the average_min_temprature over year 2014"
   ]
  },
  {
   "cell_type": "code",
   "execution_count": 14,
   "metadata": {},
   "outputs": [],
   "source": [
    "#Coverted the date column into datetime format\n",
    "weather['date'] = pd.to_datetime(weather['date'])"
   ]
  },
  {
   "cell_type": "code",
   "execution_count": 15,
   "metadata": {},
   "outputs": [],
   "source": [
    "#Filter data for the year 2014\n",
    "weather_2014 = weather[weather['date'].dt.year == 2014]"
   ]
  },
  {
   "cell_type": "code",
   "execution_count": 16,
   "metadata": {},
   "outputs": [
    {
     "data": {
      "text/html": [
       "<div>\n",
       "<style scoped>\n",
       "    .dataframe tbody tr th:only-of-type {\n",
       "        vertical-align: middle;\n",
       "    }\n",
       "\n",
       "    .dataframe tbody tr th {\n",
       "        vertical-align: top;\n",
       "    }\n",
       "\n",
       "    .dataframe thead th {\n",
       "        text-align: right;\n",
       "    }\n",
       "</style>\n",
       "<table border=\"1\" class=\"dataframe\">\n",
       "  <thead>\n",
       "    <tr style=\"text-align: right;\">\n",
       "      <th></th>\n",
       "      <th>date</th>\n",
       "      <th>actual_mean_temp</th>\n",
       "      <th>actual_min_temp</th>\n",
       "      <th>actual_max_temp</th>\n",
       "      <th>average_min_temp</th>\n",
       "      <th>average_max_temp</th>\n",
       "      <th>record_min_temp</th>\n",
       "      <th>record_max_temp</th>\n",
       "      <th>record_min_temp_year</th>\n",
       "      <th>record_max_temp_year</th>\n",
       "      <th>actual_precipitation</th>\n",
       "      <th>average_precipitation</th>\n",
       "      <th>record_precipitation</th>\n",
       "    </tr>\n",
       "  </thead>\n",
       "  <tbody>\n",
       "    <tr>\n",
       "      <th>179</th>\n",
       "      <td>2014-12-27</td>\n",
       "      <td>48</td>\n",
       "      <td>32</td>\n",
       "      <td>64</td>\n",
       "      <td>30</td>\n",
       "      <td>51</td>\n",
       "      <td>15</td>\n",
       "      <td>72</td>\n",
       "      <td>1970</td>\n",
       "      <td>1971</td>\n",
       "      <td>0.00</td>\n",
       "      <td>0.10</td>\n",
       "      <td>1.25</td>\n",
       "    </tr>\n",
       "    <tr>\n",
       "      <th>180</th>\n",
       "      <td>2014-12-28</td>\n",
       "      <td>55</td>\n",
       "      <td>49</td>\n",
       "      <td>60</td>\n",
       "      <td>30</td>\n",
       "      <td>51</td>\n",
       "      <td>10</td>\n",
       "      <td>77</td>\n",
       "      <td>1925</td>\n",
       "      <td>1971</td>\n",
       "      <td>0.04</td>\n",
       "      <td>0.11</td>\n",
       "      <td>1.67</td>\n",
       "    </tr>\n",
       "    <tr>\n",
       "      <th>181</th>\n",
       "      <td>2014-12-29</td>\n",
       "      <td>51</td>\n",
       "      <td>44</td>\n",
       "      <td>58</td>\n",
       "      <td>30</td>\n",
       "      <td>51</td>\n",
       "      <td>2</td>\n",
       "      <td>74</td>\n",
       "      <td>1894</td>\n",
       "      <td>1984</td>\n",
       "      <td>0.59</td>\n",
       "      <td>0.10</td>\n",
       "      <td>1.82</td>\n",
       "    </tr>\n",
       "    <tr>\n",
       "      <th>182</th>\n",
       "      <td>2014-12-30</td>\n",
       "      <td>39</td>\n",
       "      <td>32</td>\n",
       "      <td>45</td>\n",
       "      <td>30</td>\n",
       "      <td>50</td>\n",
       "      <td>-5</td>\n",
       "      <td>76</td>\n",
       "      <td>1880</td>\n",
       "      <td>1984</td>\n",
       "      <td>0.06</td>\n",
       "      <td>0.10</td>\n",
       "      <td>1.21</td>\n",
       "    </tr>\n",
       "    <tr>\n",
       "      <th>183</th>\n",
       "      <td>2014-12-31</td>\n",
       "      <td>37</td>\n",
       "      <td>27</td>\n",
       "      <td>46</td>\n",
       "      <td>30</td>\n",
       "      <td>50</td>\n",
       "      <td>0</td>\n",
       "      <td>70</td>\n",
       "      <td>1890</td>\n",
       "      <td>1996</td>\n",
       "      <td>0.00</td>\n",
       "      <td>0.10</td>\n",
       "      <td>2.15</td>\n",
       "    </tr>\n",
       "  </tbody>\n",
       "</table>\n",
       "</div>"
      ],
      "text/plain": [
       "          date  actual_mean_temp  actual_min_temp  actual_max_temp  \\\n",
       "179 2014-12-27                48               32               64   \n",
       "180 2014-12-28                55               49               60   \n",
       "181 2014-12-29                51               44               58   \n",
       "182 2014-12-30                39               32               45   \n",
       "183 2014-12-31                37               27               46   \n",
       "\n",
       "     average_min_temp  average_max_temp  record_min_temp  record_max_temp  \\\n",
       "179                30                51               15               72   \n",
       "180                30                51               10               77   \n",
       "181                30                51                2               74   \n",
       "182                30                50               -5               76   \n",
       "183                30                50                0               70   \n",
       "\n",
       "     record_min_temp_year  record_max_temp_year  actual_precipitation  \\\n",
       "179                  1970                  1971                  0.00   \n",
       "180                  1925                  1971                  0.04   \n",
       "181                  1894                  1984                  0.59   \n",
       "182                  1880                  1984                  0.06   \n",
       "183                  1890                  1996                  0.00   \n",
       "\n",
       "     average_precipitation  record_precipitation  \n",
       "179                   0.10                  1.25  \n",
       "180                   0.11                  1.67  \n",
       "181                   0.10                  1.82  \n",
       "182                   0.10                  1.21  \n",
       "183                   0.10                  2.15  "
      ]
     },
     "execution_count": 16,
     "metadata": {},
     "output_type": "execute_result"
    }
   ],
   "source": [
    "weather_2014.tail()"
   ]
  },
  {
   "cell_type": "code",
   "execution_count": 17,
   "metadata": {},
   "outputs": [
    {
     "data": {
      "text/plain": [
       "array([67.968, 67.258, 60.5  , 48.839, 39.233, 31.935])"
      ]
     },
     "execution_count": 17,
     "metadata": {},
     "output_type": "execute_result"
    }
   ],
   "source": [
    "#beginning fromt he 7th month this is avg min temp each month of 2014\n",
    "monthly_avg_min_temp = weather_2014.groupby(weather_2014['date'].dt.month)['average_min_temp'].mean().__round__(3)\n",
    "monthly_avg_min_temp = monthly_avg_min_temp.to_numpy()\n",
    "monthly_avg_min_temp"
   ]
  },
  {
   "cell_type": "code",
   "execution_count": 18,
   "metadata": {},
   "outputs": [],
   "source": [
    "import matplotlib.pyplot as plt"
   ]
  },
  {
   "cell_type": "code",
   "execution_count": 19,
   "metadata": {},
   "outputs": [],
   "source": [
    "\n",
    "months = np.array([7,8,9,10,11,12])"
   ]
  },
  {
   "cell_type": "code",
   "execution_count": 20,
   "metadata": {},
   "outputs": [
    {
     "data": {
      "image/png": "[encoded data removed]",
      "text/plain": [
       "<Figure size 1200x800 with 1 Axes>"
      ]
     },
     "metadata": {},
     "output_type": "display_data"
    }
   ],
   "source": [
    "fig, ax = plt.subplots(figsize=(12,8))\n",
    "plt.plot(months,monthly_avg_min_temp, marker = 'o', ms = 10,mfc = 'g')\n",
    "plt.xlabel(\"Month\")\n",
    "plt.ylabel(\"Average Min Temperature (°F)\")\n",
    "plt.title(\"Average Minimum Temperature in 2014\")\n",
    "\n",
    "for index in range(len(months)):\n",
    "  ax.text(months[index], monthly_avg_min_temp[index],monthly_avg_min_temp[index], size = 10)"
   ]
  },
  {
   "attachments": {},
   "cell_type": "markdown",
   "metadata": {},
   "source": [
    "## Q3 - Are there any outliers in actual_max_temp? Use an appropriate plot to show."
   ]
  },
  {
   "cell_type": "code",
   "execution_count": 21,
   "metadata": {},
   "outputs": [
    {
     "data": {
      "image/png": "[encoded data removed]",
      "text/plain": [
       "<Figure size 640x480 with 1 Axes>"
      ]
     },
     "metadata": {},
     "output_type": "display_data"
    }
   ],
   "source": [
    "# EXAMPLE to understand outliers. here 40 is an outlier and is shown\n",
    "x = np.array([1,2,3,9,40])\n",
    "plt.boxplot(x,vert = 0)\n",
    "plt.show()"
   ]
  },
  {
   "cell_type": "code",
   "execution_count": 22,
   "metadata": {},
   "outputs": [
    {
     "data": {
      "image/png": "[encoded data removed]",
      "text/plain": [
       "<Figure size 800x600 with 1 Axes>"
      ]
     },
     "metadata": {},
     "output_type": "display_data"
    }
   ],
   "source": [
    "#create a box plot for actual_max_temprature\n",
    "plt.figure(figsize=(8, 6))\n",
    "plt.boxplot(weather['actual_max_temp'],notch = True,vert = 0) \n",
    "plt.xlabel('Actual Max Temperature (°F)')\n",
    "plt.title('Box Plot of Actual Max Temperature')\n",
    "plt.show()\n",
    "\n",
    "#final ans: No outliers are present in actual_max_temp data of weather dataframe"
   ]
  },
  {
   "attachments": {},
   "cell_type": "markdown",
   "metadata": {},
   "source": [
    "## Q4 - Which month has highest average_precipitation over the year 2014 and 2015 , use a suitable filtering of data to find.\n"
   ]
  },
  {
   "cell_type": "code",
   "execution_count": 23,
   "metadata": {},
   "outputs": [],
   "source": [
    "weather_2014 = weather[weather['date'].dt.year == 2014]\n",
    "weather_2015 = weather[weather['date'].dt.year == 2015]"
   ]
  },
  {
   "cell_type": "code",
   "execution_count": 24,
   "metadata": {},
   "outputs": [
    {
     "data": {
      "text/plain": [
       "33   2014-08-03\n",
       "34   2014-08-04\n",
       "35   2014-08-05\n",
       "52   2014-08-22\n",
       "Name: date, dtype: datetime64[ns]"
      ]
     },
     "execution_count": 24,
     "metadata": {},
     "output_type": "execute_result"
    }
   ],
   "source": [
    "max_p_2014 = weather_2014['average_precipitation'].max()\n",
    "weather_2014[weather_2014['average_precipitation'] == max_p_2014]['date'] #we got dates in 2014 when the avg precipitation is highest\n"
   ]
  },
  {
   "cell_type": "code",
   "execution_count": 25,
   "metadata": {},
   "outputs": [
    {
     "data": {
      "text/plain": [
       "33    August\n",
       "Name: date, dtype: object"
      ]
     },
     "execution_count": 25,
     "metadata": {},
     "output_type": "execute_result"
    }
   ],
   "source": [
    "#Ans1\n",
    "weather_2014[weather_2014['average_precipitation'] == max_p_2014]['date'].dt.month_name().drop_duplicates() #month(s) in which avg precipitation is highest is the 8th month of the yr 2014"
   ]
  },
  {
   "cell_type": "code",
   "execution_count": 26,
   "metadata": {},
   "outputs": [
    {
     "data": {
      "text/plain": [
       "244   2015-03-02\n",
       "247   2015-03-05\n",
       "249   2015-03-07\n",
       "250   2015-03-08\n",
       "251   2015-03-09\n",
       "253   2015-03-11\n",
       "254   2015-03-12\n",
       "256   2015-03-14\n",
       "257   2015-03-15\n",
       "341   2015-06-07\n",
       "345   2015-06-11\n",
       "349   2015-06-15\n",
       "Name: date, dtype: datetime64[ns]"
      ]
     },
     "execution_count": 26,
     "metadata": {},
     "output_type": "execute_result"
    }
   ],
   "source": [
    "max_p_2015 = weather_2015['average_precipitation'].max()\n",
    "weather_2015[weather_2015['average_precipitation'] == max_p_2015]['date'] #we got dates in 2015 when the avg precipitation is highest\n"
   ]
  },
  {
   "cell_type": "code",
   "execution_count": 27,
   "metadata": {},
   "outputs": [
    {
     "data": {
      "text/plain": [
       "244    March\n",
       "341     June\n",
       "Name: date, dtype: object"
      ]
     },
     "execution_count": 27,
     "metadata": {},
     "output_type": "execute_result"
    }
   ],
   "source": [
    "#Ans2\n",
    "weather_2015[weather_2015['average_precipitation'] == max_p_2015]['date'].dt.month_name().drop_duplicates() #in month march and june we have highest avg precipiation in the yr 2015"
   ]
  },
  {
   "cell_type": "code",
   "execution_count": 28,
   "metadata": {},
   "outputs": [
    {
     "data": {
      "text/plain": [
       "(33    August\n",
       " Name: date, dtype: object,\n",
       " 33    2014\n",
       " Name: date, dtype: int64)"
      ]
     },
     "execution_count": 28,
     "metadata": {},
     "output_type": "execute_result"
    }
   ],
   "source": [
    "#Final Ans\n",
    "weather[weather['average_precipitation'] == weather['average_precipitation'].max()]['date'].dt.month_name().drop_duplicates(), weather[weather['average_precipitation'] == weather['average_precipitation'].max()]['date'].dt.year.drop_duplicates() #month of august in yr 2014 has highest avg precipitation overall"
   ]
  },
  {
   "attachments": {},
   "cell_type": "markdown",
   "metadata": {},
   "source": [
    "## Q5 - Print the first 10 rows, then remove the row containing data of ‘2014-7-3’, save this row in a variable of type series (data structure). Print the first 10 rows after removal of row."
   ]
  },
  {
   "cell_type": "code",
   "execution_count": 29,
   "metadata": {},
   "outputs": [
    {
     "data": {
      "text/html": [
       "<div>\n",
       "<style scoped>\n",
       "    .dataframe tbody tr th:only-of-type {\n",
       "        vertical-align: middle;\n",
       "    }\n",
       "\n",
       "    .dataframe tbody tr th {\n",
       "        vertical-align: top;\n",
       "    }\n",
       "\n",
       "    .dataframe thead th {\n",
       "        text-align: right;\n",
       "    }\n",
       "</style>\n",
       "<table border=\"1\" class=\"dataframe\">\n",
       "  <thead>\n",
       "    <tr style=\"text-align: right;\">\n",
       "      <th></th>\n",
       "      <th>date</th>\n",
       "      <th>actual_mean_temp</th>\n",
       "      <th>actual_min_temp</th>\n",
       "      <th>actual_max_temp</th>\n",
       "      <th>average_min_temp</th>\n",
       "      <th>average_max_temp</th>\n",
       "      <th>record_min_temp</th>\n",
       "      <th>record_max_temp</th>\n",
       "      <th>record_min_temp_year</th>\n",
       "      <th>record_max_temp_year</th>\n",
       "      <th>actual_precipitation</th>\n",
       "      <th>average_precipitation</th>\n",
       "      <th>record_precipitation</th>\n",
       "    </tr>\n",
       "  </thead>\n",
       "  <tbody>\n",
       "    <tr>\n",
       "      <th>0</th>\n",
       "      <td>2014-07-01</td>\n",
       "      <td>81</td>\n",
       "      <td>70</td>\n",
       "      <td>91</td>\n",
       "      <td>67</td>\n",
       "      <td>89</td>\n",
       "      <td>56</td>\n",
       "      <td>104</td>\n",
       "      <td>1919</td>\n",
       "      <td>2012</td>\n",
       "      <td>0.00</td>\n",
       "      <td>0.10</td>\n",
       "      <td>5.91</td>\n",
       "    </tr>\n",
       "    <tr>\n",
       "      <th>1</th>\n",
       "      <td>2014-07-02</td>\n",
       "      <td>85</td>\n",
       "      <td>74</td>\n",
       "      <td>95</td>\n",
       "      <td>68</td>\n",
       "      <td>89</td>\n",
       "      <td>56</td>\n",
       "      <td>101</td>\n",
       "      <td>2008</td>\n",
       "      <td>1931</td>\n",
       "      <td>0.00</td>\n",
       "      <td>0.10</td>\n",
       "      <td>1.53</td>\n",
       "    </tr>\n",
       "    <tr>\n",
       "      <th>2</th>\n",
       "      <td>2014-07-03</td>\n",
       "      <td>82</td>\n",
       "      <td>71</td>\n",
       "      <td>93</td>\n",
       "      <td>68</td>\n",
       "      <td>89</td>\n",
       "      <td>56</td>\n",
       "      <td>99</td>\n",
       "      <td>2010</td>\n",
       "      <td>1931</td>\n",
       "      <td>0.14</td>\n",
       "      <td>0.11</td>\n",
       "      <td>2.50</td>\n",
       "    </tr>\n",
       "    <tr>\n",
       "      <th>3</th>\n",
       "      <td>2014-07-04</td>\n",
       "      <td>75</td>\n",
       "      <td>64</td>\n",
       "      <td>86</td>\n",
       "      <td>68</td>\n",
       "      <td>89</td>\n",
       "      <td>55</td>\n",
       "      <td>99</td>\n",
       "      <td>1933</td>\n",
       "      <td>1955</td>\n",
       "      <td>0.00</td>\n",
       "      <td>0.10</td>\n",
       "      <td>2.63</td>\n",
       "    </tr>\n",
       "    <tr>\n",
       "      <th>4</th>\n",
       "      <td>2014-07-05</td>\n",
       "      <td>72</td>\n",
       "      <td>60</td>\n",
       "      <td>84</td>\n",
       "      <td>68</td>\n",
       "      <td>89</td>\n",
       "      <td>57</td>\n",
       "      <td>100</td>\n",
       "      <td>1967</td>\n",
       "      <td>1954</td>\n",
       "      <td>0.00</td>\n",
       "      <td>0.10</td>\n",
       "      <td>1.65</td>\n",
       "    </tr>\n",
       "    <tr>\n",
       "      <th>5</th>\n",
       "      <td>2014-07-06</td>\n",
       "      <td>74</td>\n",
       "      <td>61</td>\n",
       "      <td>87</td>\n",
       "      <td>68</td>\n",
       "      <td>89</td>\n",
       "      <td>57</td>\n",
       "      <td>99</td>\n",
       "      <td>1964</td>\n",
       "      <td>1948</td>\n",
       "      <td>0.00</td>\n",
       "      <td>0.10</td>\n",
       "      <td>1.95</td>\n",
       "    </tr>\n",
       "    <tr>\n",
       "      <th>6</th>\n",
       "      <td>2014-07-07</td>\n",
       "      <td>79</td>\n",
       "      <td>67</td>\n",
       "      <td>91</td>\n",
       "      <td>68</td>\n",
       "      <td>89</td>\n",
       "      <td>55</td>\n",
       "      <td>100</td>\n",
       "      <td>1972</td>\n",
       "      <td>1954</td>\n",
       "      <td>0.00</td>\n",
       "      <td>0.11</td>\n",
       "      <td>2.37</td>\n",
       "    </tr>\n",
       "    <tr>\n",
       "      <th>7</th>\n",
       "      <td>2014-07-08</td>\n",
       "      <td>83</td>\n",
       "      <td>72</td>\n",
       "      <td>94</td>\n",
       "      <td>68</td>\n",
       "      <td>89</td>\n",
       "      <td>58</td>\n",
       "      <td>101</td>\n",
       "      <td>1892</td>\n",
       "      <td>2010</td>\n",
       "      <td>0.00</td>\n",
       "      <td>0.11</td>\n",
       "      <td>1.87</td>\n",
       "    </tr>\n",
       "    <tr>\n",
       "      <th>8</th>\n",
       "      <td>2014-07-09</td>\n",
       "      <td>80</td>\n",
       "      <td>71</td>\n",
       "      <td>89</td>\n",
       "      <td>68</td>\n",
       "      <td>89</td>\n",
       "      <td>57</td>\n",
       "      <td>101</td>\n",
       "      <td>1891</td>\n",
       "      <td>1986</td>\n",
       "      <td>0.15</td>\n",
       "      <td>0.12</td>\n",
       "      <td>3.71</td>\n",
       "    </tr>\n",
       "    <tr>\n",
       "      <th>9</th>\n",
       "      <td>2014-07-10</td>\n",
       "      <td>78</td>\n",
       "      <td>71</td>\n",
       "      <td>85</td>\n",
       "      <td>68</td>\n",
       "      <td>89</td>\n",
       "      <td>53</td>\n",
       "      <td>101</td>\n",
       "      <td>1961</td>\n",
       "      <td>1926</td>\n",
       "      <td>0.00</td>\n",
       "      <td>0.11</td>\n",
       "      <td>2.45</td>\n",
       "    </tr>\n",
       "  </tbody>\n",
       "</table>\n",
       "</div>"
      ],
      "text/plain": [
       "        date  actual_mean_temp  actual_min_temp  actual_max_temp  \\\n",
       "0 2014-07-01                81               70               91   \n",
       "1 2014-07-02                85               74               95   \n",
       "2 2014-07-03                82               71               93   \n",
       "3 2014-07-04                75               64               86   \n",
       "4 2014-07-05                72               60               84   \n",
       "5 2014-07-06                74               61               87   \n",
       "6 2014-07-07                79               67               91   \n",
       "7 2014-07-08                83               72               94   \n",
       "8 2014-07-09                80               71               89   \n",
       "9 2014-07-10                78               71               85   \n",
       "\n",
       "   average_min_temp  average_max_temp  record_min_temp  record_max_temp  \\\n",
       "0                67                89               56              104   \n",
       "1                68                89               56              101   \n",
       "2                68                89               56               99   \n",
       "3                68                89               55               99   \n",
       "4                68                89               57              100   \n",
       "5                68                89               57               99   \n",
       "6                68                89               55              100   \n",
       "7                68                89               58              101   \n",
       "8                68                89               57              101   \n",
       "9                68                89               53              101   \n",
       "\n",
       "   record_min_temp_year  record_max_temp_year  actual_precipitation  \\\n",
       "0                  1919                  2012                  0.00   \n",
       "1                  2008                  1931                  0.00   \n",
       "2                  2010                  1931                  0.14   \n",
       "3                  1933                  1955                  0.00   \n",
       "4                  1967                  1954                  0.00   \n",
       "5                  1964                  1948                  0.00   \n",
       "6                  1972                  1954                  0.00   \n",
       "7                  1892                  2010                  0.00   \n",
       "8                  1891                  1986                  0.15   \n",
       "9                  1961                  1926                  0.00   \n",
       "\n",
       "   average_precipitation  record_precipitation  \n",
       "0                   0.10                  5.91  \n",
       "1                   0.10                  1.53  \n",
       "2                   0.11                  2.50  \n",
       "3                   0.10                  2.63  \n",
       "4                   0.10                  1.65  \n",
       "5                   0.10                  1.95  \n",
       "6                   0.11                  2.37  \n",
       "7                   0.11                  1.87  \n",
       "8                   0.12                  3.71  \n",
       "9                   0.11                  2.45  "
      ]
     },
     "execution_count": 29,
     "metadata": {},
     "output_type": "execute_result"
    }
   ],
   "source": [
    "weather.head(10)"
   ]
  },
  {
   "cell_type": "code",
   "execution_count": 30,
   "metadata": {},
   "outputs": [],
   "source": [
    "deleted_row = weather[weather['date'] == '2014-7-3']\n",
    "weather_new = weather.drop(weather[weather['date'] == '2014-7-3'].index)"
   ]
  },
  {
   "cell_type": "code",
   "execution_count": 31,
   "metadata": {},
   "outputs": [
    {
     "data": {
      "text/html": [
       "<div>\n",
       "<style scoped>\n",
       "    .dataframe tbody tr th:only-of-type {\n",
       "        vertical-align: middle;\n",
       "    }\n",
       "\n",
       "    .dataframe tbody tr th {\n",
       "        vertical-align: top;\n",
       "    }\n",
       "\n",
       "    .dataframe thead th {\n",
       "        text-align: right;\n",
       "    }\n",
       "</style>\n",
       "<table border=\"1\" class=\"dataframe\">\n",
       "  <thead>\n",
       "    <tr style=\"text-align: right;\">\n",
       "      <th></th>\n",
       "      <th>date</th>\n",
       "      <th>actual_mean_temp</th>\n",
       "      <th>actual_min_temp</th>\n",
       "      <th>actual_max_temp</th>\n",
       "      <th>average_min_temp</th>\n",
       "      <th>average_max_temp</th>\n",
       "      <th>record_min_temp</th>\n",
       "      <th>record_max_temp</th>\n",
       "      <th>record_min_temp_year</th>\n",
       "      <th>record_max_temp_year</th>\n",
       "      <th>actual_precipitation</th>\n",
       "      <th>average_precipitation</th>\n",
       "      <th>record_precipitation</th>\n",
       "    </tr>\n",
       "  </thead>\n",
       "  <tbody>\n",
       "    <tr>\n",
       "      <th>0</th>\n",
       "      <td>2014-07-01</td>\n",
       "      <td>81</td>\n",
       "      <td>70</td>\n",
       "      <td>91</td>\n",
       "      <td>67</td>\n",
       "      <td>89</td>\n",
       "      <td>56</td>\n",
       "      <td>104</td>\n",
       "      <td>1919</td>\n",
       "      <td>2012</td>\n",
       "      <td>0.00</td>\n",
       "      <td>0.10</td>\n",
       "      <td>5.91</td>\n",
       "    </tr>\n",
       "    <tr>\n",
       "      <th>1</th>\n",
       "      <td>2014-07-02</td>\n",
       "      <td>85</td>\n",
       "      <td>74</td>\n",
       "      <td>95</td>\n",
       "      <td>68</td>\n",
       "      <td>89</td>\n",
       "      <td>56</td>\n",
       "      <td>101</td>\n",
       "      <td>2008</td>\n",
       "      <td>1931</td>\n",
       "      <td>0.00</td>\n",
       "      <td>0.10</td>\n",
       "      <td>1.53</td>\n",
       "    </tr>\n",
       "    <tr>\n",
       "      <th>3</th>\n",
       "      <td>2014-07-04</td>\n",
       "      <td>75</td>\n",
       "      <td>64</td>\n",
       "      <td>86</td>\n",
       "      <td>68</td>\n",
       "      <td>89</td>\n",
       "      <td>55</td>\n",
       "      <td>99</td>\n",
       "      <td>1933</td>\n",
       "      <td>1955</td>\n",
       "      <td>0.00</td>\n",
       "      <td>0.10</td>\n",
       "      <td>2.63</td>\n",
       "    </tr>\n",
       "    <tr>\n",
       "      <th>4</th>\n",
       "      <td>2014-07-05</td>\n",
       "      <td>72</td>\n",
       "      <td>60</td>\n",
       "      <td>84</td>\n",
       "      <td>68</td>\n",
       "      <td>89</td>\n",
       "      <td>57</td>\n",
       "      <td>100</td>\n",
       "      <td>1967</td>\n",
       "      <td>1954</td>\n",
       "      <td>0.00</td>\n",
       "      <td>0.10</td>\n",
       "      <td>1.65</td>\n",
       "    </tr>\n",
       "    <tr>\n",
       "      <th>5</th>\n",
       "      <td>2014-07-06</td>\n",
       "      <td>74</td>\n",
       "      <td>61</td>\n",
       "      <td>87</td>\n",
       "      <td>68</td>\n",
       "      <td>89</td>\n",
       "      <td>57</td>\n",
       "      <td>99</td>\n",
       "      <td>1964</td>\n",
       "      <td>1948</td>\n",
       "      <td>0.00</td>\n",
       "      <td>0.10</td>\n",
       "      <td>1.95</td>\n",
       "    </tr>\n",
       "    <tr>\n",
       "      <th>6</th>\n",
       "      <td>2014-07-07</td>\n",
       "      <td>79</td>\n",
       "      <td>67</td>\n",
       "      <td>91</td>\n",
       "      <td>68</td>\n",
       "      <td>89</td>\n",
       "      <td>55</td>\n",
       "      <td>100</td>\n",
       "      <td>1972</td>\n",
       "      <td>1954</td>\n",
       "      <td>0.00</td>\n",
       "      <td>0.11</td>\n",
       "      <td>2.37</td>\n",
       "    </tr>\n",
       "    <tr>\n",
       "      <th>7</th>\n",
       "      <td>2014-07-08</td>\n",
       "      <td>83</td>\n",
       "      <td>72</td>\n",
       "      <td>94</td>\n",
       "      <td>68</td>\n",
       "      <td>89</td>\n",
       "      <td>58</td>\n",
       "      <td>101</td>\n",
       "      <td>1892</td>\n",
       "      <td>2010</td>\n",
       "      <td>0.00</td>\n",
       "      <td>0.11</td>\n",
       "      <td>1.87</td>\n",
       "    </tr>\n",
       "    <tr>\n",
       "      <th>8</th>\n",
       "      <td>2014-07-09</td>\n",
       "      <td>80</td>\n",
       "      <td>71</td>\n",
       "      <td>89</td>\n",
       "      <td>68</td>\n",
       "      <td>89</td>\n",
       "      <td>57</td>\n",
       "      <td>101</td>\n",
       "      <td>1891</td>\n",
       "      <td>1986</td>\n",
       "      <td>0.15</td>\n",
       "      <td>0.12</td>\n",
       "      <td>3.71</td>\n",
       "    </tr>\n",
       "    <tr>\n",
       "      <th>9</th>\n",
       "      <td>2014-07-10</td>\n",
       "      <td>78</td>\n",
       "      <td>71</td>\n",
       "      <td>85</td>\n",
       "      <td>68</td>\n",
       "      <td>89</td>\n",
       "      <td>53</td>\n",
       "      <td>101</td>\n",
       "      <td>1961</td>\n",
       "      <td>1926</td>\n",
       "      <td>0.00</td>\n",
       "      <td>0.11</td>\n",
       "      <td>2.45</td>\n",
       "    </tr>\n",
       "    <tr>\n",
       "      <th>10</th>\n",
       "      <td>2014-07-11</td>\n",
       "      <td>78</td>\n",
       "      <td>68</td>\n",
       "      <td>87</td>\n",
       "      <td>68</td>\n",
       "      <td>89</td>\n",
       "      <td>55</td>\n",
       "      <td>100</td>\n",
       "      <td>1961</td>\n",
       "      <td>1986</td>\n",
       "      <td>0.00</td>\n",
       "      <td>0.12</td>\n",
       "      <td>3.10</td>\n",
       "    </tr>\n",
       "  </tbody>\n",
       "</table>\n",
       "</div>"
      ],
      "text/plain": [
       "         date  actual_mean_temp  actual_min_temp  actual_max_temp  \\\n",
       "0  2014-07-01                81               70               91   \n",
       "1  2014-07-02                85               74               95   \n",
       "3  2014-07-04                75               64               86   \n",
       "4  2014-07-05                72               60               84   \n",
       "5  2014-07-06                74               61               87   \n",
       "6  2014-07-07                79               67               91   \n",
       "7  2014-07-08                83               72               94   \n",
       "8  2014-07-09                80               71               89   \n",
       "9  2014-07-10                78               71               85   \n",
       "10 2014-07-11                78               68               87   \n",
       "\n",
       "    average_min_temp  average_max_temp  record_min_temp  record_max_temp  \\\n",
       "0                 67                89               56              104   \n",
       "1                 68                89               56              101   \n",
       "3                 68                89               55               99   \n",
       "4                 68                89               57              100   \n",
       "5                 68                89               57               99   \n",
       "6                 68                89               55              100   \n",
       "7                 68                89               58              101   \n",
       "8                 68                89               57              101   \n",
       "9                 68                89               53              101   \n",
       "10                68                89               55              100   \n",
       "\n",
       "    record_min_temp_year  record_max_temp_year  actual_precipitation  \\\n",
       "0                   1919                  2012                  0.00   \n",
       "1                   2008                  1931                  0.00   \n",
       "3                   1933                  1955                  0.00   \n",
       "4                   1967                  1954                  0.00   \n",
       "5                   1964                  1948                  0.00   \n",
       "6                   1972                  1954                  0.00   \n",
       "7                   1892                  2010                  0.00   \n",
       "8                   1891                  1986                  0.15   \n",
       "9                   1961                  1926                  0.00   \n",
       "10                  1961                  1986                  0.00   \n",
       "\n",
       "    average_precipitation  record_precipitation  \n",
       "0                    0.10                  5.91  \n",
       "1                    0.10                  1.53  \n",
       "3                    0.10                  2.63  \n",
       "4                    0.10                  1.65  \n",
       "5                    0.10                  1.95  \n",
       "6                    0.11                  2.37  \n",
       "7                    0.11                  1.87  \n",
       "8                    0.12                  3.71  \n",
       "9                    0.11                  2.45  \n",
       "10                   0.12                  3.10  "
      ]
     },
     "execution_count": 31,
     "metadata": {},
     "output_type": "execute_result"
    }
   ],
   "source": [
    "weather_new.head(10)"
   ]
  },
  {
   "cell_type": "code",
   "execution_count": 32,
   "metadata": {},
   "outputs": [
    {
     "data": {
      "text/html": [
       "<div>\n",
       "<style scoped>\n",
       "    .dataframe tbody tr th:only-of-type {\n",
       "        vertical-align: middle;\n",
       "    }\n",
       "\n",
       "    .dataframe tbody tr th {\n",
       "        vertical-align: top;\n",
       "    }\n",
       "\n",
       "    .dataframe thead th {\n",
       "        text-align: right;\n",
       "    }\n",
       "</style>\n",
       "<table border=\"1\" class=\"dataframe\">\n",
       "  <thead>\n",
       "    <tr style=\"text-align: right;\">\n",
       "      <th></th>\n",
       "      <th>date</th>\n",
       "      <th>actual_mean_temp</th>\n",
       "      <th>actual_min_temp</th>\n",
       "      <th>actual_max_temp</th>\n",
       "      <th>average_min_temp</th>\n",
       "      <th>average_max_temp</th>\n",
       "      <th>record_min_temp</th>\n",
       "      <th>record_max_temp</th>\n",
       "      <th>record_min_temp_year</th>\n",
       "      <th>record_max_temp_year</th>\n",
       "      <th>actual_precipitation</th>\n",
       "      <th>average_precipitation</th>\n",
       "      <th>record_precipitation</th>\n",
       "    </tr>\n",
       "  </thead>\n",
       "  <tbody>\n",
       "    <tr>\n",
       "      <th>2</th>\n",
       "      <td>2014-07-03</td>\n",
       "      <td>82</td>\n",
       "      <td>71</td>\n",
       "      <td>93</td>\n",
       "      <td>68</td>\n",
       "      <td>89</td>\n",
       "      <td>56</td>\n",
       "      <td>99</td>\n",
       "      <td>2010</td>\n",
       "      <td>1931</td>\n",
       "      <td>0.14</td>\n",
       "      <td>0.11</td>\n",
       "      <td>2.5</td>\n",
       "    </tr>\n",
       "  </tbody>\n",
       "</table>\n",
       "</div>"
      ],
      "text/plain": [
       "        date  actual_mean_temp  actual_min_temp  actual_max_temp  \\\n",
       "2 2014-07-03                82               71               93   \n",
       "\n",
       "   average_min_temp  average_max_temp  record_min_temp  record_max_temp  \\\n",
       "2                68                89               56               99   \n",
       "\n",
       "   record_min_temp_year  record_max_temp_year  actual_precipitation  \\\n",
       "2                  2010                  1931                  0.14   \n",
       "\n",
       "   average_precipitation  record_precipitation  \n",
       "2                   0.11                   2.5  "
      ]
     },
     "execution_count": 32,
     "metadata": {},
     "output_type": "execute_result"
    }
   ],
   "source": [
    "deleted_row"
   ]
  },
  {
   "attachments": {},
   "cell_type": "markdown",
   "metadata": {},
   "source": [
    "# TASK 2 - Classification/Regression"
   ]
  },
  {
   "cell_type": "code",
   "execution_count": 655,
   "metadata": {},
   "outputs": [],
   "source": [
    "# Showing relationship between temprature and precipitation\n",
    "import sklearn\n",
    "import pandas as pd\n",
    "import numpy as np\n",
    "weather = pd.read_csv('KCLT.csv')"
   ]
  },
  {
   "cell_type": "code",
   "execution_count": 656,
   "metadata": {},
   "outputs": [
    {
     "data": {
      "text/plain": [
       "Index(['date', 'actual_mean_temp', 'actual_min_temp', 'actual_max_temp',\n",
       "       'average_min_temp', 'average_max_temp', 'record_min_temp',\n",
       "       'record_max_temp', 'record_min_temp_year', 'record_max_temp_year',\n",
       "       'actual_precipitation', 'average_precipitation',\n",
       "       'record_precipitation'],\n",
       "      dtype='object')"
      ]
     },
     "execution_count": 656,
     "metadata": {},
     "output_type": "execute_result"
    }
   ],
   "source": [
    "\n",
    "weather.columns\n"
   ]
  },
  {
   "cell_type": "code",
   "execution_count": 657,
   "metadata": {},
   "outputs": [],
   "source": [
    "a = weather[['actual_mean_temp','actual_min_temp', 'actual_max_temp',\n",
    "       'average_min_temp', 'average_max_temp', 'record_min_temp']]\n",
    "b = weather[['actual_precipitation', 'average_precipitation', 'record_precipitation']]"
   ]
  },
  {
   "cell_type": "code",
   "execution_count": 659,
   "metadata": {},
   "outputs": [],
   "source": [
    "a = a.to_numpy()\n",
    "b = b.to_numpy()"
   ]
  },
  {
   "cell_type": "code",
   "execution_count": 660,
   "metadata": {},
   "outputs": [],
   "source": [
    "#converted temprature columns from fahrenheit to celsius for better modelling\n",
    "for j in a:\n",
    "    count = 0\n",
    "    for i in j:\n",
    "       j[count] = (i - 32) * 5/9\n",
    "       count = count + 1"
   ]
  },
  {
   "cell_type": "code",
   "execution_count": 661,
   "metadata": {},
   "outputs": [
    {
     "data": {
      "text/plain": [
       "array([[27, 21, 32, 19, 31, 13],\n",
       "       [29, 23, 35, 20, 31, 13],\n",
       "       [27, 21, 33, 20, 31, 13],\n",
       "       ...,\n",
       "       [24, 18, 29, 19, 31, 11],\n",
       "       [22, 15, 30, 19, 31, 12],\n",
       "       [28, 21, 34, 19, 31, 12]], dtype=int64)"
      ]
     },
     "execution_count": 661,
     "metadata": {},
     "output_type": "execute_result"
    }
   ],
   "source": [
    "a #celsius values"
   ]
  },
  {
   "cell_type": "code",
   "execution_count": 662,
   "metadata": {},
   "outputs": [],
   "source": [
    "a = a.astype(float)"
   ]
  },
  {
   "cell_type": "code",
   "execution_count": 663,
   "metadata": {},
   "outputs": [],
   "source": [
    "from sklearn.model_selection import train_test_split"
   ]
  },
  {
   "cell_type": "code",
   "execution_count": 664,
   "metadata": {},
   "outputs": [],
   "source": [
    "A_train, A_test, B_train, B_test = train_test_split(a, b, test_size=0.2)"
   ]
  },
  {
   "cell_type": "code",
   "execution_count": 665,
   "metadata": {},
   "outputs": [
    {
     "data": {
      "text/plain": [
       "((292, 6), (73, 6))"
      ]
     },
     "execution_count": 665,
     "metadata": {},
     "output_type": "execute_result"
    }
   ],
   "source": [
    "A_train.shape, A_test.shape"
   ]
  },
  {
   "cell_type": "code",
   "execution_count": 666,
   "metadata": {},
   "outputs": [],
   "source": [
    "from sklearn.linear_model import LinearRegression "
   ]
  },
  {
   "cell_type": "code",
   "execution_count": 667,
   "metadata": {},
   "outputs": [],
   "source": [
    "a_model = LinearRegression()"
   ]
  },
  {
   "cell_type": "code",
   "execution_count": 668,
   "metadata": {},
   "outputs": [
    {
     "data": {
      "text/html": [
       "<style>#sk-container-id-41 {color: black;background-color: white;}#sk-container-id-41 pre{padding: 0;}#sk-container-id-41 div.sk-toggleable {background-color: white;}#sk-container-id-41 label.sk-toggleable__label {cursor: pointer;display: block;width: 100%;margin-bottom: 0;padding: 0.3em;box-sizing: border-box;text-align: center;}#sk-container-id-41 label.sk-toggleable__label-arrow:before {content: \"▸\";float: left;margin-right: 0.25em;color: #696969;}#sk-container-id-41 label.sk-toggleable__label-arrow:hover:before {color: black;}#sk-container-id-41 div.sk-estimator:hover label.sk-toggleable__label-arrow:before {color: black;}#sk-container-id-41 div.sk-toggleable__content {max-height: 0;max-width: 0;overflow: hidden;text-align: left;background-color: #f0f8ff;}#sk-container-id-41 div.sk-toggleable__content pre {margin: 0.2em;color: black;border-radius: 0.25em;background-color: #f0f8ff;}#sk-container-id-41 input.sk-toggleable__control:checked~div.sk-toggleable__content {max-height: 200px;max-width: 100%;overflow: auto;}#sk-container-id-41 input.sk-toggleable__control:checked~label.sk-toggleable__label-arrow:before {content: \"▾\";}#sk-container-id-41 div.sk-estimator input.sk-toggleable__control:checked~label.sk-toggleable__label {background-color: #d4ebff;}#sk-container-id-41 div.sk-label input.sk-toggleable__control:checked~label.sk-toggleable__label {background-color: #d4ebff;}#sk-container-id-41 input.sk-hidden--visually {border: 0;clip: rect(1px 1px 1px 1px);clip: rect(1px, 1px, 1px, 1px);height: 1px;margin: -1px;overflow: hidden;padding: 0;position: absolute;width: 1px;}#sk-container-id-41 div.sk-estimator {font-family: monospace;background-color: #f0f8ff;border: 1px dotted black;border-radius: 0.25em;box-sizing: border-box;margin-bottom: 0.5em;}#sk-container-id-41 div.sk-estimator:hover {background-color: #d4ebff;}#sk-container-id-41 div.sk-parallel-item::after {content: \"\";width: 100%;border-bottom: 1px solid gray;flex-grow: 1;}#sk-container-id-41 div.sk-label:hover label.sk-toggleable__label {background-color: #d4ebff;}#sk-container-id-41 div.sk-serial::before {content: \"\";position: absolute;border-left: 1px solid gray;box-sizing: border-box;top: 0;bottom: 0;left: 50%;z-index: 0;}#sk-container-id-41 div.sk-serial {display: flex;flex-direction: column;align-items: center;background-color: white;padding-right: 0.2em;padding-left: 0.2em;position: relative;}#sk-container-id-41 div.sk-item {position: relative;z-index: 1;}#sk-container-id-41 div.sk-parallel {display: flex;align-items: stretch;justify-content: center;background-color: white;position: relative;}#sk-container-id-41 div.sk-item::before, #sk-container-id-41 div.sk-parallel-item::before {content: \"\";position: absolute;border-left: 1px solid gray;box-sizing: border-box;top: 0;bottom: 0;left: 50%;z-index: -1;}#sk-container-id-41 div.sk-parallel-item {display: flex;flex-direction: column;z-index: 1;position: relative;background-color: white;}#sk-container-id-41 div.sk-parallel-item:first-child::after {align-self: flex-end;width: 50%;}#sk-container-id-41 div.sk-parallel-item:last-child::after {align-self: flex-start;width: 50%;}#sk-container-id-41 div.sk-parallel-item:only-child::after {width: 0;}#sk-container-id-41 div.sk-dashed-wrapped {border: 1px dashed gray;margin: 0 0.4em 0.5em 0.4em;box-sizing: border-box;padding-bottom: 0.4em;background-color: white;}#sk-container-id-41 div.sk-label label {font-family: monospace;font-weight: bold;display: inline-block;line-height: 1.2em;}#sk-container-id-41 div.sk-label-container {text-align: center;}#sk-container-id-41 div.sk-container {/* jupyter's `normalize.less` sets `[hidden] { display: none; }` but bootstrap.min.css set `[hidden] { display: none !important; }` so we also need the `!important` here to be able to override the default hidden behavior on the sphinx rendered scikit-learn.org. See: https://github.com/scikit-learn/scikit-learn/issues/21755 */display: inline-block !important;position: relative;}#sk-container-id-41 div.sk-text-repr-fallback {display: none;}</style><div id=\"sk-container-id-41\" class=\"sk-top-container\"><div class=\"sk-text-repr-fallback\"><pre>LinearRegression()</pre><b>In a Jupyter environment, please rerun this cell to show the HTML representation or trust the notebook. <br />On GitHub, the HTML representation is unable to render, please try loading this page with nbviewer.org.</b></div><div class=\"sk-container\" hidden><div class=\"sk-item\"><div class=\"sk-estimator sk-toggleable\"><input class=\"sk-toggleable__control sk-hidden--visually\" id=\"sk-estimator-id-41\" type=\"checkbox\" checked><label for=\"sk-estimator-id-41\" class=\"sk-toggleable__label sk-toggleable__label-arrow\">LinearRegression</label><div class=\"sk-toggleable__content\"><pre>LinearRegression()</pre></div></div></div></div></div>"
      ],
      "text/plain": [
       "LinearRegression()"
      ]
     },
     "execution_count": 668,
     "metadata": {},
     "output_type": "execute_result"
    }
   ],
   "source": [
    "a_model.fit(A_train,B_train)"
   ]
  },
  {
   "cell_type": "code",
   "execution_count": 669,
   "metadata": {},
   "outputs": [
    {
     "data": {
      "text/plain": [
       "array([[ 0.05171512, -0.00299078, -0.04296688, -0.02020854,  0.02163171,\n",
       "        -0.00477787],\n",
       "       [ 0.0004227 , -0.00021069, -0.00041865,  0.00281043, -0.00193976,\n",
       "        -0.0001483 ],\n",
       "       [ 0.03264762, -0.01645098, -0.01484556,  0.10056672, -0.01766498,\n",
       "        -0.03235597]])"
      ]
     },
     "execution_count": 669,
     "metadata": {},
     "output_type": "execute_result"
    }
   ],
   "source": [
    "w = a_model.coef_\n",
    "w"
   ]
  },
  {
   "cell_type": "code",
   "execution_count": 670,
   "metadata": {},
   "outputs": [
    {
     "data": {
      "text/plain": [
       "array([-0.03707887,  0.13423739,  1.63681541])"
      ]
     },
     "execution_count": 670,
     "metadata": {},
     "output_type": "execute_result"
    }
   ],
   "source": [
    "wo = a_model.intercept_\n",
    "wo"
   ]
  },
  {
   "cell_type": "code",
   "execution_count": 671,
   "metadata": {},
   "outputs": [
    {
     "data": {
      "text/plain": [
       "0.1272403447383922"
      ]
     },
     "execution_count": 671,
     "metadata": {},
     "output_type": "execute_result"
    }
   ],
   "source": [
    "r2_score = a_model.score(A_test,B_test)"
   ]
  },
  {
   "cell_type": "code",
   "execution_count": 672,
   "metadata": {},
   "outputs": [
    {
     "data": {
      "text/plain": [
       "(array([[0.12, 0.11, 1.92]]), array([0.  , 0.12, 1.89]))"
      ]
     },
     "execution_count": 672,
     "metadata": {},
     "output_type": "execute_result"
    }
   ],
   "source": [
    "a_model.predict(A_test[10].reshape(1,-1)).round(2), B_test[10]"
   ]
  },
  {
   "attachments": {},
   "cell_type": "markdown",
   "metadata": {},
   "source": [
    "### P.S. While fine tuning the model we can get upto 0.16 test data accuracy score"
   ]
  },
  {
   "attachments": {},
   "cell_type": "markdown",
   "metadata": {},
   "source": [
    "## FINAL ANALYSIS\n",
    "\n",
    "With a model score of 0.12 for our linear regression model indicates that the model is not performing well in predicting the precipitation values based on the temperature features alone. Here are some analysis points we can draw from this result:\n",
    "\n",
    "1. Weak Relationship: The low model score suggests that there is a weak linear relationship between the temperature variables and the precipitation. It indicates that the temperature alone may not be a strong predictor for precipitation values, or there may be other factors influencing precipitation that are not captured by the temperature variables.\n",
    "\n",
    "2. Insufficient Features: Using only temperature variables as input features may not be enough to accurately predict precipitation. Precipitation is influenced by various factors such as humidity, wind speed, atmospheric pressure, and geographical factors, which are not considered in your current model. Adding more relevant features that capture these factors may improve the model's performance.\n",
    "\n",
    "3. Non-Linear Relationship: Linear regression assumes a linear relationship between the input features and the target variable. However, precipitation might have a more complex relationship with temperature that cannot be captured by a simple linear model. Exploring non-linear regression techniques or considering polynomial features might be necessary to capture such relationships. Polynomial regression could be used after more information is determined.\n",
    "\n",
    "4. Data Limitations: It's essential to consider the limitations of your dataset. The quality, completeness, and representativeness of the data can impact the model's performance. Analyzing the dataset for missing values, outliers, or inconsistencies can provide insights into potential data issues affecting the model's score.\n",
    "\n",
    "Based on this analysis, we may need to revisit our feature selection, consider additional relevant features, explore non-linear regression techniques, and evaluate the data quality to improve the model's performance."
   ]
  },
  {
   "attachments": {},
   "cell_type": "markdown",
   "metadata": {},
   "source": []
  }
 ],
 "metadata": {
  "kernelspec": {
   "display_name": "base",
   "language": "python",
   "name": "python3"
  },
  "language_info": {
   "codemirror_mode": {
    "name": "ipython",
    "version": 3
   },
   "file_extension": ".py",
   "mimetype": "text/x-python",
   "name": "python",
   "nbconvert_exporter": "python",
   "pygments_lexer": "ipython3",
   "version": "3.9.16"
  },
  "orig_nbformat": 4
 },
 "nbformat": 4,
 "nbformat_minor": 2
}
