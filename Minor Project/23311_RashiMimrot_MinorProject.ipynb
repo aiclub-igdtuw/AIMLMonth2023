{
  "nbformat": 4,
  "nbformat_minor": 0,
  "metadata": {
    "colab": {
      "provenance": [],
      "collapsed_sections": [
        "0cMtLrokuof_"
      ]
    },
    "kernelspec": {
      "name": "python3",
      "display_name": "Python 3"
    },
    "language_info": {
      "name": "python"
    }
  },
  "cells": [
    {
      "cell_type": "markdown",
      "source": [
        "# **MINOR PROJECT**\n",
        "\n",
        "---\n",
        "\n",
        "\n",
        "\n",
        "\n"
      ],
      "metadata": {
        "id": "3j27_cT6kBA6"
      }
    },
    {
      "cell_type": "markdown",
      "source": [
        "# **TASK 1** - Exploratory Data Analysis"
      ],
      "metadata": {
        "id": "0cMtLrokuof_"
      }
    },
    {
      "cell_type": "markdown",
      "source": [
        "Q.1 Are there any missing values in the Uber vs Lyft dataset?"
      ],
      "metadata": {
        "id": "Ec0_MjBDkkJu"
      }
    },
    {
      "cell_type": "code",
      "source": [
        "import pandas as pd\n",
        "import numpy as np\n",
        "import datetime\n",
        "\n",
        "import matplotlib.pyplot as plt\n",
        "import seaborn as sns\n",
        "\n",
        "import warnings\n",
        "warnings.filterwarnings('ignore')\n"
      ],
      "metadata": {
        "id": "0tywXRCfgDr5"
      },
      "execution_count": null,
      "outputs": []
    },
    {
      "cell_type": "code",
      "source": [
        "df = pd.read_csv('rideshare_kaggle.csv')"
      ],
      "metadata": {
        "id": "6yvoRJvQqXLV"
      },
      "execution_count": null,
      "outputs": []
    },
    {
      "cell_type": "code",
      "source": [
        "df.head()"
      ],
      "metadata": {
        "colab": {
          "base_uri": "https://localhost:8080/",
          "height": 560
        },
        "id": "U2eQr4IjrHY2",
        "outputId": "ac3d386d-89e4-4c83-e721-8eff8d3ee91a"
      },
      "execution_count": null,
      "outputs": [
        {
          "output_type": "execute_result",
          "data": {
            "text/plain": [
              "                                     id     timestamp  hour  day  month  \\\n",
              "0  424553bb-7174-41ea-aeb4-fe06d4f4b9d7  1.544953e+09     9   16     12   \n",
              "1  4bd23055-6827-41c6-b23b-3c491f24e74d  1.543284e+09     2   27     11   \n",
              "2  981a3613-77af-4620-a42a-0c0866077d1e  1.543367e+09     1   28     11   \n",
              "3  c2d88af2-d278-4bfd-a8d0-29ca77cc5512  1.543554e+09     4   30     11   \n",
              "4  e0126e1f-8ca9-4f2e-82b3-50505a09db9a  1.543463e+09     3   29     11   \n",
              "\n",
              "              datetime          timezone            source    destination  \\\n",
              "0  2018-12-16 09:30:07  America/New_York  Haymarket Square  North Station   \n",
              "1  2018-11-27 02:00:23  America/New_York  Haymarket Square  North Station   \n",
              "2  2018-11-28 01:00:22  America/New_York  Haymarket Square  North Station   \n",
              "3  2018-11-30 04:53:02  America/New_York  Haymarket Square  North Station   \n",
              "4  2018-11-29 03:49:20  America/New_York  Haymarket Square  North Station   \n",
              "\n",
              "  cab_type  ... precipIntensityMax   uvIndexTime  temperatureMin  \\\n",
              "0     Lyft  ...             0.1276  1.544980e+09           39.89   \n",
              "1     Lyft  ...             0.1300  1.543252e+09           40.49   \n",
              "2     Lyft  ...             0.1064  1.543338e+09           35.36   \n",
              "3     Lyft  ...             0.0000  1.543507e+09           34.67   \n",
              "4     Lyft  ...             0.0001  1.543421e+09           33.10   \n",
              "\n",
              "   temperatureMinTime  temperatureMax  temperatureMaxTime  \\\n",
              "0        1.545012e+09           43.68        1.544969e+09   \n",
              "1        1.543234e+09           47.30        1.543252e+09   \n",
              "2        1.543378e+09           47.55        1.543320e+09   \n",
              "3        1.543550e+09           45.03        1.543511e+09   \n",
              "4        1.543403e+09           42.18        1.543421e+09   \n",
              "\n",
              "   apparentTemperatureMin  apparentTemperatureMinTime  apparentTemperatureMax  \\\n",
              "0                   33.73                1.545012e+09                   38.07   \n",
              "1                   36.20                1.543291e+09                   43.92   \n",
              "2                   31.04                1.543378e+09                   44.12   \n",
              "3                   30.30                1.543550e+09                   38.53   \n",
              "4                   29.11                1.543392e+09                   35.75   \n",
              "\n",
              "  apparentTemperatureMaxTime  \n",
              "0               1.544958e+09  \n",
              "1               1.543252e+09  \n",
              "2               1.543320e+09  \n",
              "3               1.543511e+09  \n",
              "4               1.543421e+09  \n",
              "\n",
              "[5 rows x 57 columns]"
            ],
            "text/html": [
              "\n",
              "  <div id=\"df-beee9720-ef6d-418d-8a95-6fd082b6e854\">\n",
              "    <div class=\"colab-df-container\">\n",
              "      <div>\n",
              "<style scoped>\n",
              "    .dataframe tbody tr th:only-of-type {\n",
              "        vertical-align: middle;\n",
              "    }\n",
              "\n",
              "    .dataframe tbody tr th {\n",
              "        vertical-align: top;\n",
              "    }\n",
              "\n",
              "    .dataframe thead th {\n",
              "        text-align: right;\n",
              "    }\n",
              "</style>\n",
              "<table border=\"1\" class=\"dataframe\">\n",
              "  <thead>\n",
              "    <tr style=\"text-align: right;\">\n",
              "      <th></th>\n",
              "      <th>id</th>\n",
              "      <th>timestamp</th>\n",
              "      <th>hour</th>\n",
              "      <th>day</th>\n",
              "      <th>month</th>\n",
              "      <th>datetime</th>\n",
              "      <th>timezone</th>\n",
              "      <th>source</th>\n",
              "      <th>destination</th>\n",
              "      <th>cab_type</th>\n",
              "      <th>...</th>\n",
              "      <th>precipIntensityMax</th>\n",
              "      <th>uvIndexTime</th>\n",
              "      <th>temperatureMin</th>\n",
              "      <th>temperatureMinTime</th>\n",
              "      <th>temperatureMax</th>\n",
              "      <th>temperatureMaxTime</th>\n",
              "      <th>apparentTemperatureMin</th>\n",
              "      <th>apparentTemperatureMinTime</th>\n",
              "      <th>apparentTemperatureMax</th>\n",
              "      <th>apparentTemperatureMaxTime</th>\n",
              "    </tr>\n",
              "  </thead>\n",
              "  <tbody>\n",
              "    <tr>\n",
              "      <th>0</th>\n",
              "      <td>424553bb-7174-41ea-aeb4-fe06d4f4b9d7</td>\n",
              "      <td>1.544953e+09</td>\n",
              "      <td>9</td>\n",
              "      <td>16</td>\n",
              "      <td>12</td>\n",
              "      <td>2018-12-16 09:30:07</td>\n",
              "      <td>America/New_York</td>\n",
              "      <td>Haymarket Square</td>\n",
              "      <td>North Station</td>\n",
              "      <td>Lyft</td>\n",
              "      <td>...</td>\n",
              "      <td>0.1276</td>\n",
              "      <td>1.544980e+09</td>\n",
              "      <td>39.89</td>\n",
              "      <td>1.545012e+09</td>\n",
              "      <td>43.68</td>\n",
              "      <td>1.544969e+09</td>\n",
              "      <td>33.73</td>\n",
              "      <td>1.545012e+09</td>\n",
              "      <td>38.07</td>\n",
              "      <td>1.544958e+09</td>\n",
              "    </tr>\n",
              "    <tr>\n",
              "      <th>1</th>\n",
              "      <td>4bd23055-6827-41c6-b23b-3c491f24e74d</td>\n",
              "      <td>1.543284e+09</td>\n",
              "      <td>2</td>\n",
              "      <td>27</td>\n",
              "      <td>11</td>\n",
              "      <td>2018-11-27 02:00:23</td>\n",
              "      <td>America/New_York</td>\n",
              "      <td>Haymarket Square</td>\n",
              "      <td>North Station</td>\n",
              "      <td>Lyft</td>\n",
              "      <td>...</td>\n",
              "      <td>0.1300</td>\n",
              "      <td>1.543252e+09</td>\n",
              "      <td>40.49</td>\n",
              "      <td>1.543234e+09</td>\n",
              "      <td>47.30</td>\n",
              "      <td>1.543252e+09</td>\n",
              "      <td>36.20</td>\n",
              "      <td>1.543291e+09</td>\n",
              "      <td>43.92</td>\n",
              "      <td>1.543252e+09</td>\n",
              "    </tr>\n",
              "    <tr>\n",
              "      <th>2</th>\n",
              "      <td>981a3613-77af-4620-a42a-0c0866077d1e</td>\n",
              "      <td>1.543367e+09</td>\n",
              "      <td>1</td>\n",
              "      <td>28</td>\n",
              "      <td>11</td>\n",
              "      <td>2018-11-28 01:00:22</td>\n",
              "      <td>America/New_York</td>\n",
              "      <td>Haymarket Square</td>\n",
              "      <td>North Station</td>\n",
              "      <td>Lyft</td>\n",
              "      <td>...</td>\n",
              "      <td>0.1064</td>\n",
              "      <td>1.543338e+09</td>\n",
              "      <td>35.36</td>\n",
              "      <td>1.543378e+09</td>\n",
              "      <td>47.55</td>\n",
              "      <td>1.543320e+09</td>\n",
              "      <td>31.04</td>\n",
              "      <td>1.543378e+09</td>\n",
              "      <td>44.12</td>\n",
              "      <td>1.543320e+09</td>\n",
              "    </tr>\n",
              "    <tr>\n",
              "      <th>3</th>\n",
              "      <td>c2d88af2-d278-4bfd-a8d0-29ca77cc5512</td>\n",
              "      <td>1.543554e+09</td>\n",
              "      <td>4</td>\n",
              "      <td>30</td>\n",
              "      <td>11</td>\n",
              "      <td>2018-11-30 04:53:02</td>\n",
              "      <td>America/New_York</td>\n",
              "      <td>Haymarket Square</td>\n",
              "      <td>North Station</td>\n",
              "      <td>Lyft</td>\n",
              "      <td>...</td>\n",
              "      <td>0.0000</td>\n",
              "      <td>1.543507e+09</td>\n",
              "      <td>34.67</td>\n",
              "      <td>1.543550e+09</td>\n",
              "      <td>45.03</td>\n",
              "      <td>1.543511e+09</td>\n",
              "      <td>30.30</td>\n",
              "      <td>1.543550e+09</td>\n",
              "      <td>38.53</td>\n",
              "      <td>1.543511e+09</td>\n",
              "    </tr>\n",
              "    <tr>\n",
              "      <th>4</th>\n",
              "      <td>e0126e1f-8ca9-4f2e-82b3-50505a09db9a</td>\n",
              "      <td>1.543463e+09</td>\n",
              "      <td>3</td>\n",
              "      <td>29</td>\n",
              "      <td>11</td>\n",
              "      <td>2018-11-29 03:49:20</td>\n",
              "      <td>America/New_York</td>\n",
              "      <td>Haymarket Square</td>\n",
              "      <td>North Station</td>\n",
              "      <td>Lyft</td>\n",
              "      <td>...</td>\n",
              "      <td>0.0001</td>\n",
              "      <td>1.543421e+09</td>\n",
              "      <td>33.10</td>\n",
              "      <td>1.543403e+09</td>\n",
              "      <td>42.18</td>\n",
              "      <td>1.543421e+09</td>\n",
              "      <td>29.11</td>\n",
              "      <td>1.543392e+09</td>\n",
              "      <td>35.75</td>\n",
              "      <td>1.543421e+09</td>\n",
              "    </tr>\n",
              "  </tbody>\n",
              "</table>\n",
              "<p>5 rows × 57 columns</p>\n",
              "</div>\n",
              "      <button class=\"colab-df-convert\" onclick=\"convertToInteractive('df-beee9720-ef6d-418d-8a95-6fd082b6e854')\"\n",
              "              title=\"Convert this dataframe to an interactive table.\"\n",
              "              style=\"display:none;\">\n",
              "        \n",
              "  <svg xmlns=\"http://www.w3.org/2000/svg\" height=\"24px\"viewBox=\"0 0 24 24\"\n",
              "       width=\"24px\">\n",
              "    <path d=\"M0 0h24v24H0V0z\" fill=\"none\"/>\n",
              "    <path d=\"M18.56 5.44l.94 2.06.94-2.06 2.06-.94-2.06-.94-.94-2.06-.94 2.06-2.06.94zm-11 1L8.5 8.5l.94-2.06 2.06-.94-2.06-.94L8.5 2.5l-.94 2.06-2.06.94zm10 10l.94 2.06.94-2.06 2.06-.94-2.06-.94-.94-2.06-.94 2.06-2.06.94z\"/><path d=\"M17.41 7.96l-1.37-1.37c-.4-.4-.92-.59-1.43-.59-.52 0-1.04.2-1.43.59L10.3 9.45l-7.72 7.72c-.78.78-.78 2.05 0 2.83L4 21.41c.39.39.9.59 1.41.59.51 0 1.02-.2 1.41-.59l7.78-7.78 2.81-2.81c.8-.78.8-2.07 0-2.86zM5.41 20L4 18.59l7.72-7.72 1.47 1.35L5.41 20z\"/>\n",
              "  </svg>\n",
              "      </button>\n",
              "      \n",
              "  <style>\n",
              "    .colab-df-container {\n",
              "      display:flex;\n",
              "      flex-wrap:wrap;\n",
              "      gap: 12px;\n",
              "    }\n",
              "\n",
              "    .colab-df-convert {\n",
              "      background-color: #E8F0FE;\n",
              "      border: none;\n",
              "      border-radius: 50%;\n",
              "      cursor: pointer;\n",
              "      display: none;\n",
              "      fill: #1967D2;\n",
              "      height: 32px;\n",
              "      padding: 0 0 0 0;\n",
              "      width: 32px;\n",
              "    }\n",
              "\n",
              "    .colab-df-convert:hover {\n",
              "      background-color: #E2EBFA;\n",
              "      box-shadow: 0px 1px 2px rgba(60, 64, 67, 0.3), 0px 1px 3px 1px rgba(60, 64, 67, 0.15);\n",
              "      fill: #174EA6;\n",
              "    }\n",
              "\n",
              "    [theme=dark] .colab-df-convert {\n",
              "      background-color: #3B4455;\n",
              "      fill: #D2E3FC;\n",
              "    }\n",
              "\n",
              "    [theme=dark] .colab-df-convert:hover {\n",
              "      background-color: #434B5C;\n",
              "      box-shadow: 0px 1px 3px 1px rgba(0, 0, 0, 0.15);\n",
              "      filter: drop-shadow(0px 1px 2px rgba(0, 0, 0, 0.3));\n",
              "      fill: #FFFFFF;\n",
              "    }\n",
              "  </style>\n",
              "\n",
              "      <script>\n",
              "        const buttonEl =\n",
              "          document.querySelector('#df-beee9720-ef6d-418d-8a95-6fd082b6e854 button.colab-df-convert');\n",
              "        buttonEl.style.display =\n",
              "          google.colab.kernel.accessAllowed ? 'block' : 'none';\n",
              "\n",
              "        async function convertToInteractive(key) {\n",
              "          const element = document.querySelector('#df-beee9720-ef6d-418d-8a95-6fd082b6e854');\n",
              "          const dataTable =\n",
              "            await google.colab.kernel.invokeFunction('convertToInteractive',\n",
              "                                                     [key], {});\n",
              "          if (!dataTable) return;\n",
              "\n",
              "          const docLinkHtml = 'Like what you see? Visit the ' +\n",
              "            '<a target=\"_blank\" href=https://colab.research.google.com/notebooks/data_table.ipynb>data table notebook</a>'\n",
              "            + ' to learn more about interactive tables.';\n",
              "          element.innerHTML = '';\n",
              "          dataTable['output_type'] = 'display_data';\n",
              "          await google.colab.output.renderOutput(dataTable, element);\n",
              "          const docLink = document.createElement('div');\n",
              "          docLink.innerHTML = docLinkHtml;\n",
              "          element.appendChild(docLink);\n",
              "        }\n",
              "      </script>\n",
              "    </div>\n",
              "  </div>\n",
              "  "
            ]
          },
          "metadata": {},
          "execution_count": 11
        }
      ]
    },
    {
      "cell_type": "code",
      "source": [
        "df.tail()"
      ],
      "metadata": {
        "colab": {
          "base_uri": "https://localhost:8080/",
          "height": 560
        },
        "id": "nayfrYb404Xb",
        "outputId": "a5e8fcdc-81d2-486f-fc2f-67a748307576"
      },
      "execution_count": null,
      "outputs": [
        {
          "output_type": "execute_result",
          "data": {
            "text/plain": [
              "                                         id     timestamp  hour  day  month  \\\n",
              "43493  2d3a7245-6e8c-4d3e-8c26-16d47d23c4ca  1.545008e+09     0   17     12   \n",
              "43494  7a7842a0-ad45-4ad3-a504-fe6445518eb6  1.543812e+09     4    3     12   \n",
              "43495  a55a6510-abc3-4f45-bfe2-e9aa475d3973  1.543416e+09    14   28     11   \n",
              "43496  e96ee182-29b9-4620-9d95-f30fc3ee5c17  1.543526e+09    21   29     11   \n",
              "43497  f266dc22-45a5-46de-bace-d60fb60f89ba  1.543426e+09    17   28     11   \n",
              "\n",
              "                  datetime          timezone                   source  \\\n",
              "43493  2018-12-17 00:45:12  America/New_York  Northeastern University   \n",
              "43494  2018-12-03 04:43:05  America/New_York  Northeastern University   \n",
              "43495  2018-11-28 14:35:08  America/New_York  Northeastern University   \n",
              "43496  2018-11-29 21:18:04  America/New_York  Northeastern University   \n",
              "43497                  NaN               NaN                      NaN   \n",
              "\n",
              "              destination cab_type  ... precipIntensityMax   uvIndexTime  \\\n",
              "43493  Financial District     Lyft  ...             0.1254  1.544980e+09   \n",
              "43494  Financial District     Lyft  ...             0.1055  1.543770e+09   \n",
              "43495  Financial District     Lyft  ...             0.0000  1.543421e+09   \n",
              "43496  Financial District     Lyft  ...             0.0000  1.543511e+09   \n",
              "43497                 NaN      NaN  ...                NaN           NaN   \n",
              "\n",
              "       temperatureMin  temperatureMinTime  temperatureMax  temperatureMaxTime  \\\n",
              "43493           38.94        1.544954e+09           43.73        1.544990e+09   \n",
              "43494           36.35        1.543727e+09           52.86        1.543788e+09   \n",
              "43495           33.75        1.543399e+09           42.60        1.543439e+09   \n",
              "43496           35.12        1.543550e+09           44.76        1.543511e+09   \n",
              "43497             NaN                 NaN             NaN                 NaN   \n",
              "\n",
              "       apparentTemperatureMin  apparentTemperatureMinTime  \\\n",
              "43493                   33.99                1.545019e+09   \n",
              "43494                   35.33                1.543745e+09   \n",
              "43495                   29.97                1.543399e+09   \n",
              "43496                   30.85                1.543550e+09   \n",
              "43497                     NaN                         NaN   \n",
              "\n",
              "       apparentTemperatureMax apparentTemperatureMaxTime  \n",
              "43493                   38.39               1.544987e+09  \n",
              "43494                   52.19               1.543788e+09  \n",
              "43495                   36.58               1.543439e+09  \n",
              "43496                   38.44               1.543511e+09  \n",
              "43497                     NaN                        NaN  \n",
              "\n",
              "[5 rows x 57 columns]"
            ],
            "text/html": [
              "\n",
              "  <div id=\"df-27c3da71-c3a9-4a19-bd00-699e8be6183d\">\n",
              "    <div class=\"colab-df-container\">\n",
              "      <div>\n",
              "<style scoped>\n",
              "    .dataframe tbody tr th:only-of-type {\n",
              "        vertical-align: middle;\n",
              "    }\n",
              "\n",
              "    .dataframe tbody tr th {\n",
              "        vertical-align: top;\n",
              "    }\n",
              "\n",
              "    .dataframe thead th {\n",
              "        text-align: right;\n",
              "    }\n",
              "</style>\n",
              "<table border=\"1\" class=\"dataframe\">\n",
              "  <thead>\n",
              "    <tr style=\"text-align: right;\">\n",
              "      <th></th>\n",
              "      <th>id</th>\n",
              "      <th>timestamp</th>\n",
              "      <th>hour</th>\n",
              "      <th>day</th>\n",
              "      <th>month</th>\n",
              "      <th>datetime</th>\n",
              "      <th>timezone</th>\n",
              "      <th>source</th>\n",
              "      <th>destination</th>\n",
              "      <th>cab_type</th>\n",
              "      <th>...</th>\n",
              "      <th>precipIntensityMax</th>\n",
              "      <th>uvIndexTime</th>\n",
              "      <th>temperatureMin</th>\n",
              "      <th>temperatureMinTime</th>\n",
              "      <th>temperatureMax</th>\n",
              "      <th>temperatureMaxTime</th>\n",
              "      <th>apparentTemperatureMin</th>\n",
              "      <th>apparentTemperatureMinTime</th>\n",
              "      <th>apparentTemperatureMax</th>\n",
              "      <th>apparentTemperatureMaxTime</th>\n",
              "    </tr>\n",
              "  </thead>\n",
              "  <tbody>\n",
              "    <tr>\n",
              "      <th>43493</th>\n",
              "      <td>2d3a7245-6e8c-4d3e-8c26-16d47d23c4ca</td>\n",
              "      <td>1.545008e+09</td>\n",
              "      <td>0</td>\n",
              "      <td>17</td>\n",
              "      <td>12</td>\n",
              "      <td>2018-12-17 00:45:12</td>\n",
              "      <td>America/New_York</td>\n",
              "      <td>Northeastern University</td>\n",
              "      <td>Financial District</td>\n",
              "      <td>Lyft</td>\n",
              "      <td>...</td>\n",
              "      <td>0.1254</td>\n",
              "      <td>1.544980e+09</td>\n",
              "      <td>38.94</td>\n",
              "      <td>1.544954e+09</td>\n",
              "      <td>43.73</td>\n",
              "      <td>1.544990e+09</td>\n",
              "      <td>33.99</td>\n",
              "      <td>1.545019e+09</td>\n",
              "      <td>38.39</td>\n",
              "      <td>1.544987e+09</td>\n",
              "    </tr>\n",
              "    <tr>\n",
              "      <th>43494</th>\n",
              "      <td>7a7842a0-ad45-4ad3-a504-fe6445518eb6</td>\n",
              "      <td>1.543812e+09</td>\n",
              "      <td>4</td>\n",
              "      <td>3</td>\n",
              "      <td>12</td>\n",
              "      <td>2018-12-03 04:43:05</td>\n",
              "      <td>America/New_York</td>\n",
              "      <td>Northeastern University</td>\n",
              "      <td>Financial District</td>\n",
              "      <td>Lyft</td>\n",
              "      <td>...</td>\n",
              "      <td>0.1055</td>\n",
              "      <td>1.543770e+09</td>\n",
              "      <td>36.35</td>\n",
              "      <td>1.543727e+09</td>\n",
              "      <td>52.86</td>\n",
              "      <td>1.543788e+09</td>\n",
              "      <td>35.33</td>\n",
              "      <td>1.543745e+09</td>\n",
              "      <td>52.19</td>\n",
              "      <td>1.543788e+09</td>\n",
              "    </tr>\n",
              "    <tr>\n",
              "      <th>43495</th>\n",
              "      <td>a55a6510-abc3-4f45-bfe2-e9aa475d3973</td>\n",
              "      <td>1.543416e+09</td>\n",
              "      <td>14</td>\n",
              "      <td>28</td>\n",
              "      <td>11</td>\n",
              "      <td>2018-11-28 14:35:08</td>\n",
              "      <td>America/New_York</td>\n",
              "      <td>Northeastern University</td>\n",
              "      <td>Financial District</td>\n",
              "      <td>Lyft</td>\n",
              "      <td>...</td>\n",
              "      <td>0.0000</td>\n",
              "      <td>1.543421e+09</td>\n",
              "      <td>33.75</td>\n",
              "      <td>1.543399e+09</td>\n",
              "      <td>42.60</td>\n",
              "      <td>1.543439e+09</td>\n",
              "      <td>29.97</td>\n",
              "      <td>1.543399e+09</td>\n",
              "      <td>36.58</td>\n",
              "      <td>1.543439e+09</td>\n",
              "    </tr>\n",
              "    <tr>\n",
              "      <th>43496</th>\n",
              "      <td>e96ee182-29b9-4620-9d95-f30fc3ee5c17</td>\n",
              "      <td>1.543526e+09</td>\n",
              "      <td>21</td>\n",
              "      <td>29</td>\n",
              "      <td>11</td>\n",
              "      <td>2018-11-29 21:18:04</td>\n",
              "      <td>America/New_York</td>\n",
              "      <td>Northeastern University</td>\n",
              "      <td>Financial District</td>\n",
              "      <td>Lyft</td>\n",
              "      <td>...</td>\n",
              "      <td>0.0000</td>\n",
              "      <td>1.543511e+09</td>\n",
              "      <td>35.12</td>\n",
              "      <td>1.543550e+09</td>\n",
              "      <td>44.76</td>\n",
              "      <td>1.543511e+09</td>\n",
              "      <td>30.85</td>\n",
              "      <td>1.543550e+09</td>\n",
              "      <td>38.44</td>\n",
              "      <td>1.543511e+09</td>\n",
              "    </tr>\n",
              "    <tr>\n",
              "      <th>43497</th>\n",
              "      <td>f266dc22-45a5-46de-bace-d60fb60f89ba</td>\n",
              "      <td>1.543426e+09</td>\n",
              "      <td>17</td>\n",
              "      <td>28</td>\n",
              "      <td>11</td>\n",
              "      <td>NaN</td>\n",
              "      <td>NaN</td>\n",
              "      <td>NaN</td>\n",
              "      <td>NaN</td>\n",
              "      <td>NaN</td>\n",
              "      <td>...</td>\n",
              "      <td>NaN</td>\n",
              "      <td>NaN</td>\n",
              "      <td>NaN</td>\n",
              "      <td>NaN</td>\n",
              "      <td>NaN</td>\n",
              "      <td>NaN</td>\n",
              "      <td>NaN</td>\n",
              "      <td>NaN</td>\n",
              "      <td>NaN</td>\n",
              "      <td>NaN</td>\n",
              "    </tr>\n",
              "  </tbody>\n",
              "</table>\n",
              "<p>5 rows × 57 columns</p>\n",
              "</div>\n",
              "      <button class=\"colab-df-convert\" onclick=\"convertToInteractive('df-27c3da71-c3a9-4a19-bd00-699e8be6183d')\"\n",
              "              title=\"Convert this dataframe to an interactive table.\"\n",
              "              style=\"display:none;\">\n",
              "        \n",
              "  <svg xmlns=\"http://www.w3.org/2000/svg\" height=\"24px\"viewBox=\"0 0 24 24\"\n",
              "       width=\"24px\">\n",
              "    <path d=\"M0 0h24v24H0V0z\" fill=\"none\"/>\n",
              "    <path d=\"M18.56 5.44l.94 2.06.94-2.06 2.06-.94-2.06-.94-.94-2.06-.94 2.06-2.06.94zm-11 1L8.5 8.5l.94-2.06 2.06-.94-2.06-.94L8.5 2.5l-.94 2.06-2.06.94zm10 10l.94 2.06.94-2.06 2.06-.94-2.06-.94-.94-2.06-.94 2.06-2.06.94z\"/><path d=\"M17.41 7.96l-1.37-1.37c-.4-.4-.92-.59-1.43-.59-.52 0-1.04.2-1.43.59L10.3 9.45l-7.72 7.72c-.78.78-.78 2.05 0 2.83L4 21.41c.39.39.9.59 1.41.59.51 0 1.02-.2 1.41-.59l7.78-7.78 2.81-2.81c.8-.78.8-2.07 0-2.86zM5.41 20L4 18.59l7.72-7.72 1.47 1.35L5.41 20z\"/>\n",
              "  </svg>\n",
              "      </button>\n",
              "      \n",
              "  <style>\n",
              "    .colab-df-container {\n",
              "      display:flex;\n",
              "      flex-wrap:wrap;\n",
              "      gap: 12px;\n",
              "    }\n",
              "\n",
              "    .colab-df-convert {\n",
              "      background-color: #E8F0FE;\n",
              "      border: none;\n",
              "      border-radius: 50%;\n",
              "      cursor: pointer;\n",
              "      display: none;\n",
              "      fill: #1967D2;\n",
              "      height: 32px;\n",
              "      padding: 0 0 0 0;\n",
              "      width: 32px;\n",
              "    }\n",
              "\n",
              "    .colab-df-convert:hover {\n",
              "      background-color: #E2EBFA;\n",
              "      box-shadow: 0px 1px 2px rgba(60, 64, 67, 0.3), 0px 1px 3px 1px rgba(60, 64, 67, 0.15);\n",
              "      fill: #174EA6;\n",
              "    }\n",
              "\n",
              "    [theme=dark] .colab-df-convert {\n",
              "      background-color: #3B4455;\n",
              "      fill: #D2E3FC;\n",
              "    }\n",
              "\n",
              "    [theme=dark] .colab-df-convert:hover {\n",
              "      background-color: #434B5C;\n",
              "      box-shadow: 0px 1px 3px 1px rgba(0, 0, 0, 0.15);\n",
              "      filter: drop-shadow(0px 1px 2px rgba(0, 0, 0, 0.3));\n",
              "      fill: #FFFFFF;\n",
              "    }\n",
              "  </style>\n",
              "\n",
              "      <script>\n",
              "        const buttonEl =\n",
              "          document.querySelector('#df-27c3da71-c3a9-4a19-bd00-699e8be6183d button.colab-df-convert');\n",
              "        buttonEl.style.display =\n",
              "          google.colab.kernel.accessAllowed ? 'block' : 'none';\n",
              "\n",
              "        async function convertToInteractive(key) {\n",
              "          const element = document.querySelector('#df-27c3da71-c3a9-4a19-bd00-699e8be6183d');\n",
              "          const dataTable =\n",
              "            await google.colab.kernel.invokeFunction('convertToInteractive',\n",
              "                                                     [key], {});\n",
              "          if (!dataTable) return;\n",
              "\n",
              "          const docLinkHtml = 'Like what you see? Visit the ' +\n",
              "            '<a target=\"_blank\" href=https://colab.research.google.com/notebooks/data_table.ipynb>data table notebook</a>'\n",
              "            + ' to learn more about interactive tables.';\n",
              "          element.innerHTML = '';\n",
              "          dataTable['output_type'] = 'display_data';\n",
              "          await google.colab.output.renderOutput(dataTable, element);\n",
              "          const docLink = document.createElement('div');\n",
              "          docLink.innerHTML = docLinkHtml;\n",
              "          element.appendChild(docLink);\n",
              "        }\n",
              "      </script>\n",
              "    </div>\n",
              "  </div>\n",
              "  "
            ]
          },
          "metadata": {},
          "execution_count": 12
        }
      ]
    },
    {
      "cell_type": "code",
      "source": [
        "df.isnull().sum()"
      ],
      "metadata": {
        "id": "Vo4e7f6PvhVv",
        "colab": {
          "base_uri": "https://localhost:8080/"
        },
        "outputId": "ab6af9cb-f4e0-4952-d1c8-7bf98f358472"
      },
      "execution_count": null,
      "outputs": [
        {
          "output_type": "execute_result",
          "data": {
            "text/plain": [
              "id                                0\n",
              "timestamp                         0\n",
              "hour                              0\n",
              "day                               0\n",
              "month                             0\n",
              "datetime                          1\n",
              "timezone                          1\n",
              "source                            1\n",
              "destination                       1\n",
              "cab_type                          1\n",
              "product_id                        1\n",
              "name                              1\n",
              "price                          3413\n",
              "distance                          1\n",
              "surge_multiplier                  1\n",
              "latitude                          1\n",
              "longitude                         1\n",
              "temperature                       1\n",
              "apparentTemperature               1\n",
              "short_summary                     1\n",
              "long_summary                      1\n",
              "precipIntensity                   1\n",
              "precipProbability                 1\n",
              "humidity                          1\n",
              "windSpeed                         1\n",
              "windGust                          1\n",
              "windGustTime                      1\n",
              "visibility                        1\n",
              "temperatureHigh                   1\n",
              "temperatureHighTime               1\n",
              "temperatureLow                    1\n",
              "temperatureLowTime                1\n",
              "apparentTemperatureHigh           1\n",
              "apparentTemperatureHighTime       1\n",
              "apparentTemperatureLow            1\n",
              "apparentTemperatureLowTime        1\n",
              "icon                              1\n",
              "dewPoint                          1\n",
              "pressure                          1\n",
              "windBearing                       1\n",
              "cloudCover                        1\n",
              "uvIndex                           1\n",
              "visibility.1                      1\n",
              "ozone                             1\n",
              "sunriseTime                       1\n",
              "sunsetTime                        1\n",
              "moonPhase                         1\n",
              "precipIntensityMax                1\n",
              "uvIndexTime                       1\n",
              "temperatureMin                    1\n",
              "temperatureMinTime                1\n",
              "temperatureMax                    1\n",
              "temperatureMaxTime                1\n",
              "apparentTemperatureMin            1\n",
              "apparentTemperatureMinTime        1\n",
              "apparentTemperatureMax            1\n",
              "apparentTemperatureMaxTime        1\n",
              "dtype: int64"
            ]
          },
          "metadata": {},
          "execution_count": 13
        }
      ]
    },
    {
      "cell_type": "code",
      "source": [
        "#price column has missing values\n",
        "\n",
        "df['price'].isnull().sum()"
      ],
      "metadata": {
        "id": "5Jlm2VnhvhST",
        "colab": {
          "base_uri": "https://localhost:8080/"
        },
        "outputId": "35e04ee0-157d-4822-9072-b4abe934317f"
      },
      "execution_count": null,
      "outputs": [
        {
          "output_type": "execute_result",
          "data": {
            "text/plain": [
              "3413"
            ]
          },
          "metadata": {},
          "execution_count": 14
        }
      ]
    },
    {
      "cell_type": "code",
      "source": [
        "mean_value = round(df['price'].mean(),1)\n",
        "\n",
        "mean_value"
      ],
      "metadata": {
        "colab": {
          "base_uri": "https://localhost:8080/"
        },
        "id": "UhuYaesUre8B",
        "outputId": "c8869823-0dd4-4d78-e1e2-2bcbc2a4f006"
      },
      "execution_count": null,
      "outputs": [
        {
          "output_type": "execute_result",
          "data": {
            "text/plain": [
              "16.6"
            ]
          },
          "metadata": {},
          "execution_count": 15
        }
      ]
    },
    {
      "cell_type": "markdown",
      "source": [
        "Summarizing your analysis and observation"
      ],
      "metadata": {
        "id": "DQhXQwp9p263"
      }
    },
    {
      "cell_type": "code",
      "source": [
        "df['price'].isnull().sum()  #removes all missing values"
      ],
      "metadata": {
        "colab": {
          "base_uri": "https://localhost:8080/"
        },
        "id": "141kiw4Srd5v",
        "outputId": "a5b7561c-f63e-423f-9620-3cb5a04a06bd"
      },
      "execution_count": null,
      "outputs": [
        {
          "output_type": "execute_result",
          "data": {
            "text/plain": [
              "3413"
            ]
          },
          "metadata": {},
          "execution_count": 16
        }
      ]
    },
    {
      "cell_type": "markdown",
      "source": [
        "Q.2 Which company has more rides, depict the value in percentage?\n",
        "\n",
        "\n"
      ],
      "metadata": {
        "id": "cPa96surrJOz"
      }
    },
    {
      "cell_type": "code",
      "source": [
        "df['cab_type'].value_counts()"
      ],
      "metadata": {
        "id": "xB_9DeBJp2LO",
        "colab": {
          "base_uri": "https://localhost:8080/"
        },
        "outputId": "1b146d0a-4a2b-427a-835a-db82f9ce2c76"
      },
      "execution_count": null,
      "outputs": [
        {
          "output_type": "execute_result",
          "data": {
            "text/plain": [
              "Uber    23821\n",
              "Lyft    19676\n",
              "Name: cab_type, dtype: int64"
            ]
          },
          "metadata": {},
          "execution_count": 17
        }
      ]
    },
    {
      "cell_type": "markdown",
      "source": [
        "Summarizing your analysis and observations"
      ],
      "metadata": {
        "id": "EfjH6OQvv-8K"
      }
    },
    {
      "cell_type": "code",
      "source": [
        "Ncab_type = [df.cab_type[(df.cab_type)=='Uber'].count(),\\\n",
        "             df.cab_type[(df.cab_type)=='Lyft'].count()]\n",
        "\n",
        "cab_type = ['Uber','Lyft']\n",
        "fig = plt.figure(figsize = (3, 3))\n",
        "\n",
        "plt.pie(Ncab_type, labels=cab_type, startangle=90, autopct='%.1f%%')\n",
        "\n",
        "plt.title(\"Pie Chart representation of ride distribution\")\n",
        "plt.show()"
      ],
      "metadata": {
        "id": "GTLBZ96Qwgsj",
        "colab": {
          "base_uri": "https://localhost:8080/",
          "height": 290
        },
        "outputId": "d3d599f1-8184-43ab-c1bf-21d187d53f6d"
      },
      "execution_count": null,
      "outputs": [
        {
          "output_type": "display_data",
          "data": {
            "text/plain": [
              "<Figure size 300x300 with 1 Axes>"
            ],
            "image/png": "[encoded data removed]"
          },
          "metadata": {}
        }
      ]
    },
    {
      "cell_type": "markdown",
      "source": [
        "Hence, Uber has more rides."
      ],
      "metadata": {
        "id": "MdH41TmlslIn"
      }
    },
    {
      "cell_type": "markdown",
      "source": [
        "Q.3 Plot an Uber vs Lyft ride distrubution bar graph.\n",
        "\n",
        "\n"
      ],
      "metadata": {
        "id": "UmtxT6Y9wbSY"
      }
    },
    {
      "cell_type": "code",
      "source": [
        "x=['Uber','Lyft']\n",
        "y = [df.cab_type[(df.cab_type)=='Uber'].count(),\\\n",
        "     df.cab_type[(df.cab_type)=='Lyft'].count()]\n"
      ],
      "metadata": {
        "id": "NnLrdGcRwbSY"
      },
      "execution_count": null,
      "outputs": []
    },
    {
      "cell_type": "markdown",
      "source": [
        "Summarizing your analysis and observation"
      ],
      "metadata": {
        "id": "0aFNKRQSwbSZ"
      }
    },
    {
      "cell_type": "code",
      "source": [
        "fig = plt.figure(figsize = (3, 3))\n",
        "c = '#7eb54e'\n",
        "\n",
        "\n",
        "plt.bar(x, y, color = c,\n",
        "        width = 0.4)\n",
        "\n",
        "plt.xlabel(\"Cab Type\")\n",
        "plt.ylabel(\"No. of cabs\")\n",
        "plt.title(\"Bar Graph representation of ride distribution\")\n",
        "plt.show()"
      ],
      "metadata": {
        "id": "6AyPGfHNwbSZ",
        "colab": {
          "base_uri": "https://localhost:8080/",
          "height": 333
        },
        "outputId": "f187dda0-7aa3-432b-c88e-1e4765baa7bc"
      },
      "execution_count": null,
      "outputs": [
        {
          "output_type": "display_data",
          "data": {
            "text/plain": [
              "<Figure size 300x300 with 1 Axes>"
            ],
            "image/png": "[encoded data removed]"
          },
          "metadata": {}
        }
      ]
    },
    {
      "cell_type": "markdown",
      "source": [
        "Q.4 Show which time of the day has the most amount of rides(depict using an appropriate visualization figure)"
      ],
      "metadata": {
        "id": "VjYUkQCLwbSa"
      }
    },
    {
      "cell_type": "code",
      "source": [
        "df['datetime'].value_counts()"
      ],
      "metadata": {
        "id": "CrTTrNYhwbSa",
        "colab": {
          "base_uri": "https://localhost:8080/"
        },
        "outputId": "f7b6906b-77bc-4634-b5df-6f4f4b4c98f0"
      },
      "execution_count": null,
      "outputs": [
        {
          "output_type": "execute_result",
          "data": {
            "text/plain": [
              "2018-11-29 01:32:08    18\n",
              "2018-11-26 23:21:14    18\n",
              "2018-11-28 23:26:08    16\n",
              "2018-11-28 14:29:08    15\n",
              "2018-11-29 02:06:47    14\n",
              "                       ..\n",
              "2018-12-03 12:03:03     1\n",
              "2018-12-15 13:15:05     1\n",
              "2018-12-15 03:20:11     1\n",
              "2018-11-28 22:23:38     1\n",
              "2018-11-29 21:18:04     1\n",
              "Name: datetime, Length: 21553, dtype: int64"
            ]
          },
          "metadata": {},
          "execution_count": 21
        }
      ]
    },
    {
      "cell_type": "code",
      "source": [
        "df['datetime'].head(100)"
      ],
      "metadata": {
        "colab": {
          "base_uri": "https://localhost:8080/"
        },
        "id": "pmOm659D0t-Q",
        "outputId": "6bd6949f-44b5-4760-ac51-891409f7a6c3"
      },
      "execution_count": null,
      "outputs": [
        {
          "output_type": "execute_result",
          "data": {
            "text/plain": [
              "0     2018-12-16 09:30:07\n",
              "1     2018-11-27 02:00:23\n",
              "2     2018-11-28 01:00:22\n",
              "3     2018-11-30 04:53:02\n",
              "4     2018-11-29 03:49:20\n",
              "             ...         \n",
              "95    2018-12-13 07:25:10\n",
              "96    2018-12-14 18:35:09\n",
              "97    2018-12-16 09:35:12\n",
              "98    2018-12-18 03:15:03\n",
              "99    2018-11-28 21:35:07\n",
              "Name: datetime, Length: 100, dtype: object"
            ]
          },
          "metadata": {},
          "execution_count": 22
        }
      ]
    },
    {
      "cell_type": "code",
      "source": [
        "df['hour'].head()"
      ],
      "metadata": {
        "colab": {
          "base_uri": "https://localhost:8080/"
        },
        "id": "LEyvb95W1Fjm",
        "outputId": "58d3f59e-9513-47cc-85ad-0c616b763434"
      },
      "execution_count": null,
      "outputs": [
        {
          "output_type": "execute_result",
          "data": {
            "text/plain": [
              "0    9\n",
              "1    2\n",
              "2    1\n",
              "3    4\n",
              "4    3\n",
              "Name: hour, dtype: int64"
            ]
          },
          "metadata": {},
          "execution_count": 23
        }
      ]
    },
    {
      "cell_type": "markdown",
      "source": [
        "Summarizing your analysis and observations"
      ],
      "metadata": {
        "id": "gr4VOY0gwbSa"
      }
    },
    {
      "cell_type": "code",
      "source": [
        "day=pd.cut(x=df['hour'],bins=[0,10,15,19,23],labels = ['Morning','Afternoon','Evening','Night'])\n",
        "plt.title('Day',fontsize=30)\n",
        "sns.countplot(x=day)\n",
        "day"
      ],
      "metadata": {
        "id": "8PgE1Q1JwbSa",
        "colab": {
          "base_uri": "https://localhost:8080/",
          "height": 717
        },
        "outputId": "425b10c3-1ef8-4c10-89c8-b69d232a30d9"
      },
      "execution_count": null,
      "outputs": [
        {
          "output_type": "execute_result",
          "data": {
            "text/plain": [
              "0          Morning\n",
              "1          Morning\n",
              "2          Morning\n",
              "3          Morning\n",
              "4          Morning\n",
              "           ...    \n",
              "43493          NaN\n",
              "43494      Morning\n",
              "43495    Afternoon\n",
              "43496        Night\n",
              "43497      Evening\n",
              "Name: hour, Length: 43498, dtype: category\n",
              "Categories (4, object): ['Morning' < 'Afternoon' < 'Evening' < 'Night']"
            ]
          },
          "metadata": {},
          "execution_count": 24
        },
        {
          "output_type": "display_data",
          "data": {
            "text/plain": [
              "<Figure size 640x480 with 1 Axes>"
            ],
            "image/png": "[encoded data removed]"
          },
          "metadata": {}
        }
      ]
    },
    {
      "cell_type": "markdown",
      "source": [
        "So, as you can see most rides are booked in the Morning hours.\n"
      ],
      "metadata": {
        "id": "cha7HgUC3zs7"
      }
    },
    {
      "cell_type": "markdown",
      "source": [
        "Q.5 Which are the most popular destinations on Uber and Lyft?(depict it using stacked bar graph)"
      ],
      "metadata": {
        "id": "VbWuvMbqwdgV"
      }
    },
    {
      "cell_type": "code",
      "source": [
        "df[\"source\"].value_counts().reset_index()"
      ],
      "metadata": {
        "colab": {
          "base_uri": "https://localhost:8080/",
          "height": 425
        },
        "id": "S4DFU2nD1nI9",
        "outputId": "e2880563-6674-4788-cba5-8cb5661f18ff"
      },
      "execution_count": null,
      "outputs": [
        {
          "output_type": "execute_result",
          "data": {
            "text/plain": [
              "                      index  source\n",
              "0          Theatre District    1315\n",
              "1             North Station    1240\n",
              "2        Financial District    1221\n",
              "3                  West End    1208\n",
              "4                    Fenway    1184\n",
              "5                 North End    1172\n",
              "6                  Back Bay    1161\n",
              "7          Haymarket Square    1116\n",
              "8               Beacon Hill    1081\n",
              "9             South Station    1064\n",
              "10        Boston University    1031\n",
              "11  Northeastern University    1026"
            ],
            "text/html": [
              "\n",
              "  <div id=\"df-557f2f93-0b54-488b-b5d9-baf4a3dd8d04\">\n",
              "    <div class=\"colab-df-container\">\n",
              "      <div>\n",
              "<style scoped>\n",
              "    .dataframe tbody tr th:only-of-type {\n",
              "        vertical-align: middle;\n",
              "    }\n",
              "\n",
              "    .dataframe tbody tr th {\n",
              "        vertical-align: top;\n",
              "    }\n",
              "\n",
              "    .dataframe thead th {\n",
              "        text-align: right;\n",
              "    }\n",
              "</style>\n",
              "<table border=\"1\" class=\"dataframe\">\n",
              "  <thead>\n",
              "    <tr style=\"text-align: right;\">\n",
              "      <th></th>\n",
              "      <th>index</th>\n",
              "      <th>source</th>\n",
              "    </tr>\n",
              "  </thead>\n",
              "  <tbody>\n",
              "    <tr>\n",
              "      <th>0</th>\n",
              "      <td>Theatre District</td>\n",
              "      <td>1315</td>\n",
              "    </tr>\n",
              "    <tr>\n",
              "      <th>1</th>\n",
              "      <td>North Station</td>\n",
              "      <td>1240</td>\n",
              "    </tr>\n",
              "    <tr>\n",
              "      <th>2</th>\n",
              "      <td>Financial District</td>\n",
              "      <td>1221</td>\n",
              "    </tr>\n",
              "    <tr>\n",
              "      <th>3</th>\n",
              "      <td>West End</td>\n",
              "      <td>1208</td>\n",
              "    </tr>\n",
              "    <tr>\n",
              "      <th>4</th>\n",
              "      <td>Fenway</td>\n",
              "      <td>1184</td>\n",
              "    </tr>\n",
              "    <tr>\n",
              "      <th>5</th>\n",
              "      <td>North End</td>\n",
              "      <td>1172</td>\n",
              "    </tr>\n",
              "    <tr>\n",
              "      <th>6</th>\n",
              "      <td>Back Bay</td>\n",
              "      <td>1161</td>\n",
              "    </tr>\n",
              "    <tr>\n",
              "      <th>7</th>\n",
              "      <td>Haymarket Square</td>\n",
              "      <td>1116</td>\n",
              "    </tr>\n",
              "    <tr>\n",
              "      <th>8</th>\n",
              "      <td>Beacon Hill</td>\n",
              "      <td>1081</td>\n",
              "    </tr>\n",
              "    <tr>\n",
              "      <th>9</th>\n",
              "      <td>South Station</td>\n",
              "      <td>1064</td>\n",
              "    </tr>\n",
              "    <tr>\n",
              "      <th>10</th>\n",
              "      <td>Boston University</td>\n",
              "      <td>1031</td>\n",
              "    </tr>\n",
              "    <tr>\n",
              "      <th>11</th>\n",
              "      <td>Northeastern University</td>\n",
              "      <td>1026</td>\n",
              "    </tr>\n",
              "  </tbody>\n",
              "</table>\n",
              "</div>\n",
              "      <button class=\"colab-df-convert\" onclick=\"convertToInteractive('df-557f2f93-0b54-488b-b5d9-baf4a3dd8d04')\"\n",
              "              title=\"Convert this dataframe to an interactive table.\"\n",
              "              style=\"display:none;\">\n",
              "        \n",
              "  <svg xmlns=\"http://www.w3.org/2000/svg\" height=\"24px\"viewBox=\"0 0 24 24\"\n",
              "       width=\"24px\">\n",
              "    <path d=\"M0 0h24v24H0V0z\" fill=\"none\"/>\n",
              "    <path d=\"M18.56 5.44l.94 2.06.94-2.06 2.06-.94-2.06-.94-.94-2.06-.94 2.06-2.06.94zm-11 1L8.5 8.5l.94-2.06 2.06-.94-2.06-.94L8.5 2.5l-.94 2.06-2.06.94zm10 10l.94 2.06.94-2.06 2.06-.94-2.06-.94-.94-2.06-.94 2.06-2.06.94z\"/><path d=\"M17.41 7.96l-1.37-1.37c-.4-.4-.92-.59-1.43-.59-.52 0-1.04.2-1.43.59L10.3 9.45l-7.72 7.72c-.78.78-.78 2.05 0 2.83L4 21.41c.39.39.9.59 1.41.59.51 0 1.02-.2 1.41-.59l7.78-7.78 2.81-2.81c.8-.78.8-2.07 0-2.86zM5.41 20L4 18.59l7.72-7.72 1.47 1.35L5.41 20z\"/>\n",
              "  </svg>\n",
              "      </button>\n",
              "      \n",
              "  <style>\n",
              "    .colab-df-container {\n",
              "      display:flex;\n",
              "      flex-wrap:wrap;\n",
              "      gap: 12px;\n",
              "    }\n",
              "\n",
              "    .colab-df-convert {\n",
              "      background-color: #E8F0FE;\n",
              "      border: none;\n",
              "      border-radius: 50%;\n",
              "      cursor: pointer;\n",
              "      display: none;\n",
              "      fill: #1967D2;\n",
              "      height: 32px;\n",
              "      padding: 0 0 0 0;\n",
              "      width: 32px;\n",
              "    }\n",
              "\n",
              "    .colab-df-convert:hover {\n",
              "      background-color: #E2EBFA;\n",
              "      box-shadow: 0px 1px 2px rgba(60, 64, 67, 0.3), 0px 1px 3px 1px rgba(60, 64, 67, 0.15);\n",
              "      fill: #174EA6;\n",
              "    }\n",
              "\n",
              "    [theme=dark] .colab-df-convert {\n",
              "      background-color: #3B4455;\n",
              "      fill: #D2E3FC;\n",
              "    }\n",
              "\n",
              "    [theme=dark] .colab-df-convert:hover {\n",
              "      background-color: #434B5C;\n",
              "      box-shadow: 0px 1px 3px 1px rgba(0, 0, 0, 0.15);\n",
              "      filter: drop-shadow(0px 1px 2px rgba(0, 0, 0, 0.3));\n",
              "      fill: #FFFFFF;\n",
              "    }\n",
              "  </style>\n",
              "\n",
              "      <script>\n",
              "        const buttonEl =\n",
              "          document.querySelector('#df-557f2f93-0b54-488b-b5d9-baf4a3dd8d04 button.colab-df-convert');\n",
              "        buttonEl.style.display =\n",
              "          google.colab.kernel.accessAllowed ? 'block' : 'none';\n",
              "\n",
              "        async function convertToInteractive(key) {\n",
              "          const element = document.querySelector('#df-557f2f93-0b54-488b-b5d9-baf4a3dd8d04');\n",
              "          const dataTable =\n",
              "            await google.colab.kernel.invokeFunction('convertToInteractive',\n",
              "                                                     [key], {});\n",
              "          if (!dataTable) return;\n",
              "\n",
              "          const docLinkHtml = 'Like what you see? Visit the ' +\n",
              "            '<a target=\"_blank\" href=https://colab.research.google.com/notebooks/data_table.ipynb>data table notebook</a>'\n",
              "            + ' to learn more about interactive tables.';\n",
              "          element.innerHTML = '';\n",
              "          dataTable['output_type'] = 'display_data';\n",
              "          await google.colab.output.renderOutput(dataTable, element);\n",
              "          const docLink = document.createElement('div');\n",
              "          docLink.innerHTML = docLinkHtml;\n",
              "          element.appendChild(docLink);\n",
              "        }\n",
              "      </script>\n",
              "    </div>\n",
              "  </div>\n",
              "  "
            ]
          },
          "metadata": {},
          "execution_count": 5
        }
      ]
    },
    {
      "cell_type": "code",
      "source": [
        "# Creating lists for source and counts\n",
        "src_freq = list(df[\"source\"].value_counts())\n",
        "src = list(df['source'].unique())\n",
        "src"
      ],
      "metadata": {
        "colab": {
          "base_uri": "https://localhost:8080/"
        },
        "id": "OUxWRpR81srJ",
        "outputId": "6ff39a42-afc1-4ab2-f474-8f8df21b4768"
      },
      "execution_count": null,
      "outputs": [
        {
          "output_type": "execute_result",
          "data": {
            "text/plain": [
              "['Haymarket Square',\n",
              " 'Back Bay',\n",
              " 'North End',\n",
              " 'North Station',\n",
              " 'Beacon Hill',\n",
              " 'Boston University',\n",
              " 'Fenway',\n",
              " 'South Station',\n",
              " 'Theatre District',\n",
              " 'West End',\n",
              " 'Financial District',\n",
              " 'Northeastern University']"
            ]
          },
          "metadata": {},
          "execution_count": 6
        }
      ]
    },
    {
      "cell_type": "code",
      "source": [
        "def make_autopct(values):\n",
        "    def my_autopct(pct):\n",
        "        total = sum(values)\n",
        "        val = int(round(pct*total/100.0))\n",
        "        return '{p:.1f}%  '.format(p=pct)\n",
        "    return my_autopct"
      ],
      "metadata": {
        "id": "-6VMmvNK1w_R"
      },
      "execution_count": null,
      "outputs": []
    },
    {
      "cell_type": "markdown",
      "source": [
        "Summarizing your analysis and observation"
      ],
      "metadata": {
        "id": "m8JUp2kAwdgh"
      }
    },
    {
      "cell_type": "code",
      "source": [
        "plt.show()\n",
        "fig, ax = plt.subplots(2,1, figsize=(8,8))\n",
        "ax[0].pie(src_freq,autopct=make_autopct(src_freq), labels = src)\n",
        "\n",
        "# # Adding legend\n",
        "# ax[0].legend(title='source',\n",
        "#             loc=\"upper right\",\n",
        "#             bbox_to_anchor=(2,1));\n",
        "ax[0].set_title(\"Percentage count of source\", fontsize=15)\n",
        "\n",
        "sns.countplot(y='source', data=df, ax=ax[1])"
      ],
      "metadata": {
        "id": "WNy3P4C2wdgh",
        "colab": {
          "base_uri": "https://localhost:8080/",
          "height": 737
        },
        "outputId": "058ca312-9715-44f2-b6ca-37a70aed5fec"
      },
      "execution_count": null,
      "outputs": [
        {
          "output_type": "execute_result",
          "data": {
            "text/plain": [
              "<Axes: xlabel='count', ylabel='source'>"
            ]
          },
          "metadata": {},
          "execution_count": 8
        },
        {
          "output_type": "display_data",
          "data": {
            "text/plain": [
              "<Figure size 800x800 with 2 Axes>"
            ],
            "image/png": "[encoded data removed]"
          },
          "metadata": {}
        }
      ]
    },
    {
      "cell_type": "markdown",
      "source": [
        "# **TASK 2** - Classification/Regression"
      ],
      "metadata": {
        "id": "Ox8z7yNIwosG"
      }
    },
    {
      "cell_type": "markdown",
      "source": [
        "Perform following steps on the same dataset which you used for EDA.\n",
        "> - Data Preprocessing (as per requirement)\n",
        "> - Feature Engineering\n",
        "> - Split dataset in train-test (80:20 ratio)\n",
        "> - Model selection\n",
        "> - Model training\n",
        "> - Model evaluation\n",
        "> - Fine-tune the Model\n",
        "> - Make predictions\n",
        "\n",
        "Summarize your model's performance by evaluation metrices\n",
        "\n"
      ],
      "metadata": {
        "id": "glXi_qALwz7v"
      }
    },
    {
      "cell_type": "code",
      "source": [
        "import sklearn\n",
        "from sklearn.preprocessing import MinMaxScaler, StandardScaler\n",
        "from sklearn.model_selection import train_test_split, GridSearchCV, KFold\n",
        "from sklearn.linear_model import LinearRegression, Ridge, Lasso\n",
        "\n",
        "from sklearn.feature_selection import RFE\n",
        "from sklearn.metrics import r2_score\n",
        "from sklearn.metrics import mean_squared_error"
      ],
      "metadata": {
        "id": "PmvSGECE5_on"
      },
      "execution_count": null,
      "outputs": []
    },
    {
      "cell_type": "code",
      "source": [
        "mask = df.dtypes == object\n",
        "categorical_cols = df.columns[mask]\n",
        "print(categorical_cols)"
      ],
      "metadata": {
        "colab": {
          "base_uri": "https://localhost:8080/"
        },
        "id": "qFS4a30lQahw",
        "outputId": "b8cff116-e982-4374-e48b-6f78d99727fc"
      },
      "execution_count": null,
      "outputs": [
        {
          "output_type": "stream",
          "name": "stdout",
          "text": [
            "Index(['source', 'destination', 'cab_type', 'name', 'short_summary',\n",
            "       'long_summary'],\n",
            "      dtype='object')\n"
          ]
        }
      ]
    },
    {
      "cell_type": "code",
      "source": [
        "mask_int = df.dtypes == int\n",
        "int_cols = df.columns[mask_int]\n",
        "print(int_cols)"
      ],
      "metadata": {
        "colab": {
          "base_uri": "https://localhost:8080/"
        },
        "id": "IZRehk1dQgLM",
        "outputId": "853e3769-5abe-4703-e90a-8699a336fd16"
      },
      "execution_count": null,
      "outputs": [
        {
          "output_type": "stream",
          "name": "stdout",
          "text": [
            "Index(['hour', 'day', 'month', 'windGustTime', 'temperatureHighTime',\n",
            "       'temperatureLowTime', 'apparentTemperatureHighTime',\n",
            "       'apparentTemperatureLowTime', 'windBearing', 'uvIndex', 'sunriseTime',\n",
            "       'sunsetTime', 'uvIndexTime', 'temperatureMinTime'],\n",
            "      dtype='object')\n"
          ]
        }
      ]
    },
    {
      "cell_type": "code",
      "source": [
        "mask_float = df.dtypes == float\n",
        "float_cols = df.columns[mask_float]\n",
        "print(float_cols)"
      ],
      "metadata": {
        "colab": {
          "base_uri": "https://localhost:8080/"
        },
        "id": "eu2F2vFCQlVq",
        "outputId": "7953750f-9fe9-475f-9528-c696269c3632"
      },
      "execution_count": null,
      "outputs": [
        {
          "output_type": "stream",
          "name": "stdout",
          "text": [
            "Index(['price', 'distance', 'surge_multiplier', 'latitude', 'longitude',\n",
            "       'temperature', 'apparentTemperature', 'precipIntensity',\n",
            "       'precipProbability', 'humidity', 'windSpeed', 'windGust', 'visibility',\n",
            "       'temperatureHigh', 'temperatureLow', 'apparentTemperatureHigh',\n",
            "       'apparentTemperatureLow', 'dewPoint', 'pressure', 'cloudCover',\n",
            "       'visibility.1', 'ozone', 'moonPhase', 'precipIntensityMax',\n",
            "       'temperatureMin', 'temperatureMax', 'temperatureMaxTime',\n",
            "       'apparentTemperatureMin', 'apparentTemperatureMinTime',\n",
            "       'apparentTemperatureMax', 'apparentTemperatureMaxTime'],\n",
            "      dtype='object')\n"
          ]
        }
      ]
    },
    {
      "cell_type": "code",
      "source": [
        "# Determine how many extra columns would be created\n",
        "num_ohc_cols = (df[categorical_cols]\n",
        "                .apply(lambda x: x.nunique())\n",
        "                .sort_values(ascending=False))\n",
        "# No need to encode if there is only one value\n",
        "small_num_ohc_cols = num_ohc_cols.loc[num_ohc_cols>1]\n",
        "\n",
        "# Number of one-hot columns is one less than the number of categories\n",
        "small_num_ohc_cols -= 1\n",
        "\n",
        "small_num_ohc_cols.sum()"
      ],
      "metadata": {
        "colab": {
          "base_uri": "https://localhost:8080/"
        },
        "id": "MLrDFmNEQqVj",
        "outputId": "36e4b8ed-7f30-49e9-e926-fdc58d94689e"
      },
      "execution_count": null,
      "outputs": [
        {
          "output_type": "execute_result",
          "data": {
            "text/plain": [
              "53"
            ]
          },
          "metadata": {},
          "execution_count": 17
        }
      ]
    },
    {
      "cell_type": "code",
      "source": [
        "num_ohc_cols"
      ],
      "metadata": {
        "colab": {
          "base_uri": "https://localhost:8080/"
        },
        "id": "zLIctf5uQ1C3",
        "outputId": "c7271897-4ad5-4568-ffc7-a80f26d6fbd9"
      },
      "execution_count": null,
      "outputs": [
        {
          "output_type": "execute_result",
          "data": {
            "text/plain": [
              "name             13\n",
              "source           12\n",
              "destination      12\n",
              "long_summary     11\n",
              "short_summary     9\n",
              "cab_type          2\n",
              "dtype: int64"
            ]
          },
          "metadata": {},
          "execution_count": 18
        }
      ]
    },
    {
      "cell_type": "code",
      "source": [
        "df.source.value_counts()"
      ],
      "metadata": {
        "colab": {
          "base_uri": "https://localhost:8080/"
        },
        "id": "8dWlpCBpQ3Yg",
        "outputId": "4825a4af-9848-48d9-dbea-700d99e9632a"
      },
      "execution_count": null,
      "outputs": [
        {
          "output_type": "execute_result",
          "data": {
            "text/plain": [
              "Theatre District           1315\n",
              "North Station              1240\n",
              "Financial District         1221\n",
              "West End                   1208\n",
              "Fenway                     1184\n",
              "North End                  1172\n",
              "Back Bay                   1161\n",
              "Haymarket Square           1116\n",
              "Beacon Hill                1081\n",
              "South Station              1064\n",
              "Boston University          1031\n",
              "Northeastern University    1026\n",
              "Name: source, dtype: int64"
            ]
          },
          "metadata": {},
          "execution_count": 19
        }
      ]
    },
    {
      "cell_type": "code",
      "source": [
        "df.destination.value_counts()"
      ],
      "metadata": {
        "colab": {
          "base_uri": "https://localhost:8080/"
        },
        "id": "JrDQhS_XQ7NZ",
        "outputId": "d1b1f8b3-ae86-41e3-affc-07e26f650b86"
      },
      "execution_count": null,
      "outputs": [
        {
          "output_type": "execute_result",
          "data": {
            "text/plain": [
              "North End                  1349\n",
              "Fenway                     1228\n",
              "Northeastern University    1201\n",
              "Haymarket Square           1176\n",
              "West End                   1173\n",
              "Boston University          1173\n",
              "Beacon Hill                1169\n",
              "North Station              1147\n",
              "Theatre District           1117\n",
              "South Station              1099\n",
              "Back Bay                   1013\n",
              "Financial District          974\n",
              "Name: destination, dtype: int64"
            ]
          },
          "metadata": {},
          "execution_count": 20
        }
      ]
    },
    {
      "cell_type": "code",
      "source": [
        "df.cab_type.value_counts()"
      ],
      "metadata": {
        "colab": {
          "base_uri": "https://localhost:8080/"
        },
        "id": "z-r31aSEQ-zC",
        "outputId": "9a88a4a9-ce83-4ff5-d809-46d700c7ec66"
      },
      "execution_count": null,
      "outputs": [
        {
          "output_type": "execute_result",
          "data": {
            "text/plain": [
              "Uber    7583\n",
              "Lyft    6236\n",
              "Name: cab_type, dtype: int64"
            ]
          },
          "metadata": {},
          "execution_count": 21
        }
      ]
    },
    {
      "cell_type": "code",
      "source": [
        "df.name.value_counts()"
      ],
      "metadata": {
        "colab": {
          "base_uri": "https://localhost:8080/"
        },
        "id": "GDWe2vToRG5v",
        "outputId": "e71d9bde-a66e-4405-a66b-818cc2c977c2"
      },
      "execution_count": null,
      "outputs": [
        {
          "output_type": "execute_result",
          "data": {
            "text/plain": [
              "UberPool        1089\n",
              "UberX           1086\n",
              "UberXL          1084\n",
              "Black SUV       1084\n",
              "Black           1083\n",
              "Taxi            1080\n",
              "WAV             1077\n",
              "Shared          1048\n",
              "Lux             1043\n",
              "Lux Black XL    1042\n",
              "Lyft XL         1036\n",
              "Lux Black       1036\n",
              "Lyft            1031\n",
              "Name: name, dtype: int64"
            ]
          },
          "metadata": {},
          "execution_count": 23
        }
      ]
    },
    {
      "cell_type": "code",
      "source": [
        "df.short_summary.value_counts()"
      ],
      "metadata": {
        "colab": {
          "base_uri": "https://localhost:8080/"
        },
        "id": "WT8cIRChRKzP",
        "outputId": "b986e833-5b45-4af4-84f3-398dd3a5bf12"
      },
      "execution_count": null,
      "outputs": [
        {
          "output_type": "execute_result",
          "data": {
            "text/plain": [
              " Overcast             4352\n",
              " Mostly Cloudy        2978\n",
              " Partly Cloudy        2478\n",
              " Clear                1756\n",
              " Light Rain           1066\n",
              " Rain                  483\n",
              " Possible Drizzle      394\n",
              " Foggy                 186\n",
              " Drizzle               126\n",
              "Name: short_summary, dtype: int64"
            ]
          },
          "metadata": {},
          "execution_count": 24
        }
      ]
    },
    {
      "cell_type": "code",
      "source": [
        "df.long_summary.value_counts()"
      ],
      "metadata": {
        "colab": {
          "base_uri": "https://localhost:8080/"
        },
        "id": "VeWKSYsAROi4",
        "outputId": "5ff36215-4f14-46b0-dce2-d0d497b58e75"
      },
      "execution_count": null,
      "outputs": [
        {
          "output_type": "execute_result",
          "data": {
            "text/plain": [
              " Mostly cloudy throughout the day.                      4072\n",
              " Partly cloudy throughout the day.                      2924\n",
              " Light rain in the morning.                             2036\n",
              " Rain throughout the day.                               1041\n",
              " Rain until morning, starting again in the evening.     1017\n",
              " Light rain in the morning and overnight.                993\n",
              " Foggy in the morning.                                   875\n",
              " Light rain until evening.                               673\n",
              " Overcast throughout the day.                            140\n",
              " Possible drizzle in the morning.                         38\n",
              " Rain in the morning and afternoon.                       10\n",
              "Name: long_summary, dtype: int64"
            ]
          },
          "metadata": {},
          "execution_count": 25
        }
      ]
    },
    {
      "cell_type": "markdown",
      "source": [
        "###Label Encoding and One-hot Encoding"
      ],
      "metadata": {
        "id": "SMhr5XR3RcdN"
      }
    },
    {
      "cell_type": "code",
      "source": [
        "%%time\n",
        "from sklearn.preprocessing import OneHotEncoder, LabelEncoder\n",
        "\n",
        "# The encoders\n",
        "le = LabelEncoder()\n",
        "ohc = OneHotEncoder()\n",
        "\n",
        "for col in num_ohc_cols.index:\n",
        "\n",
        "    # Integer encode the string categories\n",
        "    dat = le.fit_transform(df[col]).astype(int)\n",
        "\n",
        "    # One hot encode the data--this returns a sparse array\n",
        "    new_dat = ohc.fit_transform(dat.reshape(-1,1))\n",
        "\n",
        "    # Create unique column names\n",
        "    n_cols = new_dat.shape[1]\n",
        "    col_names = ['_'.join([col, str(x)]) for x in range(n_cols)]\n",
        "\n",
        "    # Create the new dataframe\n",
        "    new_df = pd.DataFrame(new_dat.toarray(),\n",
        "                          index=df.index,\n",
        "                          columns=col_names)\n",
        "\n",
        "    # Append the new data to the dataframe\n",
        "    df = pd.concat([df, new_df], axis=1)\n",
        "\n",
        "    # Remove the original column from the dataframe\n",
        "    df = df.drop(col, axis=1)"
      ],
      "metadata": {
        "colab": {
          "base_uri": "https://localhost:8080/"
        },
        "id": "PpFlriAKRWTI",
        "outputId": "46ff83f3-e084-4fd3-8ae9-383bda3d0131"
      },
      "execution_count": null,
      "outputs": [
        {
          "output_type": "stream",
          "name": "stdout",
          "text": [
            "CPU times: user 108 ms, sys: 19.5 ms, total: 128 ms\n",
            "Wall time: 229 ms\n"
          ]
        }
      ]
    },
    {
      "cell_type": "code",
      "source": [
        "df_train, df_test = train_test_split(data, train_size=0.8, random_state = 100)"
      ],
      "metadata": {
        "id": "Pj8Azl7882aJ"
      },
      "execution_count": null,
      "outputs": []
    },
    {
      "cell_type": "code",
      "source": [
        "print(\"X train data size ->\", df_train.shape)\n",
        "print(\"X test data size ->\", df_test.shape)"
      ],
      "metadata": {
        "colab": {
          "base_uri": "https://localhost:8080/"
        },
        "id": "eLdnoj8ai8pB",
        "outputId": "0fbf0967-21ca-4791-9626-589992fd5b86"
      },
      "execution_count": null,
      "outputs": [
        {
          "output_type": "stream",
          "name": "stdout",
          "text": [
            "X train data size -> (11055, 104)\n",
            "X test data size -> (2764, 104)\n"
          ]
        }
      ]
    },
    {
      "cell_type": "code",
      "source": [
        "corr = df_train.corr()\n",
        "corr"
      ],
      "metadata": {
        "id": "ijpSjW_xlQNx",
        "colab": {
          "base_uri": "https://localhost:8080/",
          "height": 487
        },
        "outputId": "fd2595d4-0c43-4d38-cc33-c5799d690fa5"
      },
      "execution_count": null,
      "outputs": [
        {
          "output_type": "execute_result",
          "data": {
            "text/plain": [
              "                     hour       day     month     price  distance  \\\n",
              "hour             1.000000  0.058790 -0.079302 -0.008217  0.008593   \n",
              "day              0.058790  1.000000 -0.864297  0.001292  0.011707   \n",
              "month           -0.079302 -0.864297  1.000000 -0.003007  0.001145   \n",
              "price           -0.008217  0.001292 -0.003007  1.000000  0.336323   \n",
              "distance         0.008593  0.011707  0.001145  0.336323  1.000000   \n",
              "...                   ...       ...       ...       ...       ...   \n",
              "short_summary_6  0.148626 -0.031892  0.022886 -0.015489  0.003574   \n",
              "short_summary_7  0.079425 -0.031243  0.013021 -0.012108 -0.010887   \n",
              "short_summary_8 -0.260396  0.145976 -0.168337  0.016185  0.007830   \n",
              "cab_type_0      -0.012444  0.021453 -0.020840  0.072881 -0.024410   \n",
              "cab_type_1       0.012444 -0.021453  0.020840 -0.072881  0.024410   \n",
              "\n",
              "                 surge_multiplier  latitude  longitude  temperature  \\\n",
              "hour                    -0.013677  0.020016   0.020424     0.215862   \n",
              "day                      0.005766  0.002846   0.074780    -0.071604   \n",
              "month                    0.004876  0.086725  -0.125413    -0.102658   \n",
              "price                    0.233052  0.015892  -0.018773     0.015175   \n",
              "distance                 0.010488  0.015897  -0.027562    -0.013010   \n",
              "...                           ...       ...        ...          ...   \n",
              "short_summary_6         -0.000717 -0.037274   0.020874    -0.074446   \n",
              "short_summary_7         -0.008630 -0.038995   0.023712     0.094604   \n",
              "short_summary_8          0.000935 -0.092674   0.111396     0.108214   \n",
              "cab_type_0               0.172332 -0.008752   0.009414    -0.002516   \n",
              "cab_type_1              -0.172332  0.008752  -0.009414     0.002516   \n",
              "\n",
              "                 apparentTemperature  ...  short_summary_1  short_summary_2  \\\n",
              "hour                        0.195131  ...        -0.036459        -0.059338   \n",
              "day                        -0.214296  ...         0.012065        -0.071201   \n",
              "month                       0.007398  ...         0.034610         0.008590   \n",
              "price                       0.009290  ...         0.007265         0.003534   \n",
              "distance                   -0.018515  ...        -0.007512         0.028652   \n",
              "...                              ...  ...              ...              ...   \n",
              "short_summary_6            -0.054499  ...        -0.044888        -0.053840   \n",
              "short_summary_7             0.094818  ...        -0.016608        -0.019919   \n",
              "short_summary_8             0.044010  ...        -0.018685        -0.022411   \n",
              "cab_type_0                 -0.003506  ...         0.007656         0.012230   \n",
              "cab_type_1                  0.003506  ...        -0.007656        -0.012230   \n",
              "\n",
              "                 short_summary_3  short_summary_4  short_summary_5  \\\n",
              "hour                    0.001506        -0.007238         0.110969   \n",
              "day                    -0.058944         0.014743        -0.030049   \n",
              "month                  -0.023443        -0.038889         0.078929   \n",
              "price                   0.007155        -0.001808        -0.000563   \n",
              "distance               -0.003178         0.001444        -0.009579   \n",
              "...                          ...              ...              ...   \n",
              "short_summary_6        -0.134288        -0.242106        -0.312730   \n",
              "short_summary_7        -0.049683        -0.089573        -0.115702   \n",
              "short_summary_8        -0.055898        -0.100778        -0.130176   \n",
              "cab_type_0              0.004183        -0.009682        -0.005514   \n",
              "cab_type_1             -0.004183         0.009682         0.005514   \n",
              "\n",
              "                 short_summary_6  short_summary_7  short_summary_8  \\\n",
              "hour                    0.148626         0.079425        -0.260396   \n",
              "day                    -0.031892        -0.031243         0.145976   \n",
              "month                   0.022886         0.013021        -0.168337   \n",
              "price                  -0.015489        -0.012108         0.016185   \n",
              "distance                0.003574        -0.010887         0.007830   \n",
              "...                          ...              ...              ...   \n",
              "short_summary_6         1.000000        -0.078498        -0.088317   \n",
              "short_summary_7        -0.078498         1.000000        -0.032675   \n",
              "short_summary_8        -0.088317        -0.032675         1.000000   \n",
              "cab_type_0              0.005624        -0.016247         0.004025   \n",
              "cab_type_1             -0.005624         0.016247        -0.004025   \n",
              "\n",
              "                 cab_type_0  cab_type_1  \n",
              "hour              -0.012444    0.012444  \n",
              "day                0.021453   -0.021453  \n",
              "month             -0.020840    0.020840  \n",
              "price              0.072881   -0.072881  \n",
              "distance          -0.024410    0.024410  \n",
              "...                     ...         ...  \n",
              "short_summary_6    0.005624   -0.005624  \n",
              "short_summary_7   -0.016247    0.016247  \n",
              "short_summary_8    0.004025   -0.004025  \n",
              "cab_type_0         1.000000   -1.000000  \n",
              "cab_type_1        -1.000000    1.000000  \n",
              "\n",
              "[104 rows x 104 columns]"
            ],
            "text/html": [
              "\n",
              "  <div id=\"df-30bd4658-5b61-4638-88d1-50caec16b54a\">\n",
              "    <div class=\"colab-df-container\">\n",
              "      <div>\n",
              "<style scoped>\n",
              "    .dataframe tbody tr th:only-of-type {\n",
              "        vertical-align: middle;\n",
              "    }\n",
              "\n",
              "    .dataframe tbody tr th {\n",
              "        vertical-align: top;\n",
              "    }\n",
              "\n",
              "    .dataframe thead th {\n",
              "        text-align: right;\n",
              "    }\n",
              "</style>\n",
              "<table border=\"1\" class=\"dataframe\">\n",
              "  <thead>\n",
              "    <tr style=\"text-align: right;\">\n",
              "      <th></th>\n",
              "      <th>hour</th>\n",
              "      <th>day</th>\n",
              "      <th>month</th>\n",
              "      <th>price</th>\n",
              "      <th>distance</th>\n",
              "      <th>surge_multiplier</th>\n",
              "      <th>latitude</th>\n",
              "      <th>longitude</th>\n",
              "      <th>temperature</th>\n",
              "      <th>apparentTemperature</th>\n",
              "      <th>...</th>\n",
              "      <th>short_summary_1</th>\n",
              "      <th>short_summary_2</th>\n",
              "      <th>short_summary_3</th>\n",
              "      <th>short_summary_4</th>\n",
              "      <th>short_summary_5</th>\n",
              "      <th>short_summary_6</th>\n",
              "      <th>short_summary_7</th>\n",
              "      <th>short_summary_8</th>\n",
              "      <th>cab_type_0</th>\n",
              "      <th>cab_type_1</th>\n",
              "    </tr>\n",
              "  </thead>\n",
              "  <tbody>\n",
              "    <tr>\n",
              "      <th>hour</th>\n",
              "      <td>1.000000</td>\n",
              "      <td>0.058790</td>\n",
              "      <td>-0.079302</td>\n",
              "      <td>-0.008217</td>\n",
              "      <td>0.008593</td>\n",
              "      <td>-0.013677</td>\n",
              "      <td>0.020016</td>\n",
              "      <td>0.020424</td>\n",
              "      <td>0.215862</td>\n",
              "      <td>0.195131</td>\n",
              "      <td>...</td>\n",
              "      <td>-0.036459</td>\n",
              "      <td>-0.059338</td>\n",
              "      <td>0.001506</td>\n",
              "      <td>-0.007238</td>\n",
              "      <td>0.110969</td>\n",
              "      <td>0.148626</td>\n",
              "      <td>0.079425</td>\n",
              "      <td>-0.260396</td>\n",
              "      <td>-0.012444</td>\n",
              "      <td>0.012444</td>\n",
              "    </tr>\n",
              "    <tr>\n",
              "      <th>day</th>\n",
              "      <td>0.058790</td>\n",
              "      <td>1.000000</td>\n",
              "      <td>-0.864297</td>\n",
              "      <td>0.001292</td>\n",
              "      <td>0.011707</td>\n",
              "      <td>0.005766</td>\n",
              "      <td>0.002846</td>\n",
              "      <td>0.074780</td>\n",
              "      <td>-0.071604</td>\n",
              "      <td>-0.214296</td>\n",
              "      <td>...</td>\n",
              "      <td>0.012065</td>\n",
              "      <td>-0.071201</td>\n",
              "      <td>-0.058944</td>\n",
              "      <td>0.014743</td>\n",
              "      <td>-0.030049</td>\n",
              "      <td>-0.031892</td>\n",
              "      <td>-0.031243</td>\n",
              "      <td>0.145976</td>\n",
              "      <td>0.021453</td>\n",
              "      <td>-0.021453</td>\n",
              "    </tr>\n",
              "    <tr>\n",
              "      <th>month</th>\n",
              "      <td>-0.079302</td>\n",
              "      <td>-0.864297</td>\n",
              "      <td>1.000000</td>\n",
              "      <td>-0.003007</td>\n",
              "      <td>0.001145</td>\n",
              "      <td>0.004876</td>\n",
              "      <td>0.086725</td>\n",
              "      <td>-0.125413</td>\n",
              "      <td>-0.102658</td>\n",
              "      <td>0.007398</td>\n",
              "      <td>...</td>\n",
              "      <td>0.034610</td>\n",
              "      <td>0.008590</td>\n",
              "      <td>-0.023443</td>\n",
              "      <td>-0.038889</td>\n",
              "      <td>0.078929</td>\n",
              "      <td>0.022886</td>\n",
              "      <td>0.013021</td>\n",
              "      <td>-0.168337</td>\n",
              "      <td>-0.020840</td>\n",
              "      <td>0.020840</td>\n",
              "    </tr>\n",
              "    <tr>\n",
              "      <th>price</th>\n",
              "      <td>-0.008217</td>\n",
              "      <td>0.001292</td>\n",
              "      <td>-0.003007</td>\n",
              "      <td>1.000000</td>\n",
              "      <td>0.336323</td>\n",
              "      <td>0.233052</td>\n",
              "      <td>0.015892</td>\n",
              "      <td>-0.018773</td>\n",
              "      <td>0.015175</td>\n",
              "      <td>0.009290</td>\n",
              "      <td>...</td>\n",
              "      <td>0.007265</td>\n",
              "      <td>0.003534</td>\n",
              "      <td>0.007155</td>\n",
              "      <td>-0.001808</td>\n",
              "      <td>-0.000563</td>\n",
              "      <td>-0.015489</td>\n",
              "      <td>-0.012108</td>\n",
              "      <td>0.016185</td>\n",
              "      <td>0.072881</td>\n",
              "      <td>-0.072881</td>\n",
              "    </tr>\n",
              "    <tr>\n",
              "      <th>distance</th>\n",
              "      <td>0.008593</td>\n",
              "      <td>0.011707</td>\n",
              "      <td>0.001145</td>\n",
              "      <td>0.336323</td>\n",
              "      <td>1.000000</td>\n",
              "      <td>0.010488</td>\n",
              "      <td>0.015897</td>\n",
              "      <td>-0.027562</td>\n",
              "      <td>-0.013010</td>\n",
              "      <td>-0.018515</td>\n",
              "      <td>...</td>\n",
              "      <td>-0.007512</td>\n",
              "      <td>0.028652</td>\n",
              "      <td>-0.003178</td>\n",
              "      <td>0.001444</td>\n",
              "      <td>-0.009579</td>\n",
              "      <td>0.003574</td>\n",
              "      <td>-0.010887</td>\n",
              "      <td>0.007830</td>\n",
              "      <td>-0.024410</td>\n",
              "      <td>0.024410</td>\n",
              "    </tr>\n",
              "    <tr>\n",
              "      <th>...</th>\n",
              "      <td>...</td>\n",
              "      <td>...</td>\n",
              "      <td>...</td>\n",
              "      <td>...</td>\n",
              "      <td>...</td>\n",
              "      <td>...</td>\n",
              "      <td>...</td>\n",
              "      <td>...</td>\n",
              "      <td>...</td>\n",
              "      <td>...</td>\n",
              "      <td>...</td>\n",
              "      <td>...</td>\n",
              "      <td>...</td>\n",
              "      <td>...</td>\n",
              "      <td>...</td>\n",
              "      <td>...</td>\n",
              "      <td>...</td>\n",
              "      <td>...</td>\n",
              "      <td>...</td>\n",
              "      <td>...</td>\n",
              "      <td>...</td>\n",
              "    </tr>\n",
              "    <tr>\n",
              "      <th>short_summary_6</th>\n",
              "      <td>0.148626</td>\n",
              "      <td>-0.031892</td>\n",
              "      <td>0.022886</td>\n",
              "      <td>-0.015489</td>\n",
              "      <td>0.003574</td>\n",
              "      <td>-0.000717</td>\n",
              "      <td>-0.037274</td>\n",
              "      <td>0.020874</td>\n",
              "      <td>-0.074446</td>\n",
              "      <td>-0.054499</td>\n",
              "      <td>...</td>\n",
              "      <td>-0.044888</td>\n",
              "      <td>-0.053840</td>\n",
              "      <td>-0.134288</td>\n",
              "      <td>-0.242106</td>\n",
              "      <td>-0.312730</td>\n",
              "      <td>1.000000</td>\n",
              "      <td>-0.078498</td>\n",
              "      <td>-0.088317</td>\n",
              "      <td>0.005624</td>\n",
              "      <td>-0.005624</td>\n",
              "    </tr>\n",
              "    <tr>\n",
              "      <th>short_summary_7</th>\n",
              "      <td>0.079425</td>\n",
              "      <td>-0.031243</td>\n",
              "      <td>0.013021</td>\n",
              "      <td>-0.012108</td>\n",
              "      <td>-0.010887</td>\n",
              "      <td>-0.008630</td>\n",
              "      <td>-0.038995</td>\n",
              "      <td>0.023712</td>\n",
              "      <td>0.094604</td>\n",
              "      <td>0.094818</td>\n",
              "      <td>...</td>\n",
              "      <td>-0.016608</td>\n",
              "      <td>-0.019919</td>\n",
              "      <td>-0.049683</td>\n",
              "      <td>-0.089573</td>\n",
              "      <td>-0.115702</td>\n",
              "      <td>-0.078498</td>\n",
              "      <td>1.000000</td>\n",
              "      <td>-0.032675</td>\n",
              "      <td>-0.016247</td>\n",
              "      <td>0.016247</td>\n",
              "    </tr>\n",
              "    <tr>\n",
              "      <th>short_summary_8</th>\n",
              "      <td>-0.260396</td>\n",
              "      <td>0.145976</td>\n",
              "      <td>-0.168337</td>\n",
              "      <td>0.016185</td>\n",
              "      <td>0.007830</td>\n",
              "      <td>0.000935</td>\n",
              "      <td>-0.092674</td>\n",
              "      <td>0.111396</td>\n",
              "      <td>0.108214</td>\n",
              "      <td>0.044010</td>\n",
              "      <td>...</td>\n",
              "      <td>-0.018685</td>\n",
              "      <td>-0.022411</td>\n",
              "      <td>-0.055898</td>\n",
              "      <td>-0.100778</td>\n",
              "      <td>-0.130176</td>\n",
              "      <td>-0.088317</td>\n",
              "      <td>-0.032675</td>\n",
              "      <td>1.000000</td>\n",
              "      <td>0.004025</td>\n",
              "      <td>-0.004025</td>\n",
              "    </tr>\n",
              "    <tr>\n",
              "      <th>cab_type_0</th>\n",
              "      <td>-0.012444</td>\n",
              "      <td>0.021453</td>\n",
              "      <td>-0.020840</td>\n",
              "      <td>0.072881</td>\n",
              "      <td>-0.024410</td>\n",
              "      <td>0.172332</td>\n",
              "      <td>-0.008752</td>\n",
              "      <td>0.009414</td>\n",
              "      <td>-0.002516</td>\n",
              "      <td>-0.003506</td>\n",
              "      <td>...</td>\n",
              "      <td>0.007656</td>\n",
              "      <td>0.012230</td>\n",
              "      <td>0.004183</td>\n",
              "      <td>-0.009682</td>\n",
              "      <td>-0.005514</td>\n",
              "      <td>0.005624</td>\n",
              "      <td>-0.016247</td>\n",
              "      <td>0.004025</td>\n",
              "      <td>1.000000</td>\n",
              "      <td>-1.000000</td>\n",
              "    </tr>\n",
              "    <tr>\n",
              "      <th>cab_type_1</th>\n",
              "      <td>0.012444</td>\n",
              "      <td>-0.021453</td>\n",
              "      <td>0.020840</td>\n",
              "      <td>-0.072881</td>\n",
              "      <td>0.024410</td>\n",
              "      <td>-0.172332</td>\n",
              "      <td>0.008752</td>\n",
              "      <td>-0.009414</td>\n",
              "      <td>0.002516</td>\n",
              "      <td>0.003506</td>\n",
              "      <td>...</td>\n",
              "      <td>-0.007656</td>\n",
              "      <td>-0.012230</td>\n",
              "      <td>-0.004183</td>\n",
              "      <td>0.009682</td>\n",
              "      <td>0.005514</td>\n",
              "      <td>-0.005624</td>\n",
              "      <td>0.016247</td>\n",
              "      <td>-0.004025</td>\n",
              "      <td>-1.000000</td>\n",
              "      <td>1.000000</td>\n",
              "    </tr>\n",
              "  </tbody>\n",
              "</table>\n",
              "<p>104 rows × 104 columns</p>\n",
              "</div>\n",
              "      <button class=\"colab-df-convert\" onclick=\"convertToInteractive('df-30bd4658-5b61-4638-88d1-50caec16b54a')\"\n",
              "              title=\"Convert this dataframe to an interactive table.\"\n",
              "              style=\"display:none;\">\n",
              "        \n",
              "  <svg xmlns=\"http://www.w3.org/2000/svg\" height=\"24px\"viewBox=\"0 0 24 24\"\n",
              "       width=\"24px\">\n",
              "    <path d=\"M0 0h24v24H0V0z\" fill=\"none\"/>\n",
              "    <path d=\"M18.56 5.44l.94 2.06.94-2.06 2.06-.94-2.06-.94-.94-2.06-.94 2.06-2.06.94zm-11 1L8.5 8.5l.94-2.06 2.06-.94-2.06-.94L8.5 2.5l-.94 2.06-2.06.94zm10 10l.94 2.06.94-2.06 2.06-.94-2.06-.94-.94-2.06-.94 2.06-2.06.94z\"/><path d=\"M17.41 7.96l-1.37-1.37c-.4-.4-.92-.59-1.43-.59-.52 0-1.04.2-1.43.59L10.3 9.45l-7.72 7.72c-.78.78-.78 2.05 0 2.83L4 21.41c.39.39.9.59 1.41.59.51 0 1.02-.2 1.41-.59l7.78-7.78 2.81-2.81c.8-.78.8-2.07 0-2.86zM5.41 20L4 18.59l7.72-7.72 1.47 1.35L5.41 20z\"/>\n",
              "  </svg>\n",
              "      </button>\n",
              "      \n",
              "  <style>\n",
              "    .colab-df-container {\n",
              "      display:flex;\n",
              "      flex-wrap:wrap;\n",
              "      gap: 12px;\n",
              "    }\n",
              "\n",
              "    .colab-df-convert {\n",
              "      background-color: #E8F0FE;\n",
              "      border: none;\n",
              "      border-radius: 50%;\n",
              "      cursor: pointer;\n",
              "      display: none;\n",
              "      fill: #1967D2;\n",
              "      height: 32px;\n",
              "      padding: 0 0 0 0;\n",
              "      width: 32px;\n",
              "    }\n",
              "\n",
              "    .colab-df-convert:hover {\n",
              "      background-color: #E2EBFA;\n",
              "      box-shadow: 0px 1px 2px rgba(60, 64, 67, 0.3), 0px 1px 3px 1px rgba(60, 64, 67, 0.15);\n",
              "      fill: #174EA6;\n",
              "    }\n",
              "\n",
              "    [theme=dark] .colab-df-convert {\n",
              "      background-color: #3B4455;\n",
              "      fill: #D2E3FC;\n",
              "    }\n",
              "\n",
              "    [theme=dark] .colab-df-convert:hover {\n",
              "      background-color: #434B5C;\n",
              "      box-shadow: 0px 1px 3px 1px rgba(0, 0, 0, 0.15);\n",
              "      filter: drop-shadow(0px 1px 2px rgba(0, 0, 0, 0.3));\n",
              "      fill: #FFFFFF;\n",
              "    }\n",
              "  </style>\n",
              "\n",
              "      <script>\n",
              "        const buttonEl =\n",
              "          document.querySelector('#df-30bd4658-5b61-4638-88d1-50caec16b54a button.colab-df-convert');\n",
              "        buttonEl.style.display =\n",
              "          google.colab.kernel.accessAllowed ? 'block' : 'none';\n",
              "\n",
              "        async function convertToInteractive(key) {\n",
              "          const element = document.querySelector('#df-30bd4658-5b61-4638-88d1-50caec16b54a');\n",
              "          const dataTable =\n",
              "            await google.colab.kernel.invokeFunction('convertToInteractive',\n",
              "                                                     [key], {});\n",
              "          if (!dataTable) return;\n",
              "\n",
              "          const docLinkHtml = 'Like what you see? Visit the ' +\n",
              "            '<a target=\"_blank\" href=https://colab.research.google.com/notebooks/data_table.ipynb>data table notebook</a>'\n",
              "            + ' to learn more about interactive tables.';\n",
              "          element.innerHTML = '';\n",
              "          dataTable['output_type'] = 'display_data';\n",
              "          await google.colab.output.renderOutput(dataTable, element);\n",
              "          const docLink = document.createElement('div');\n",
              "          docLink.innerHTML = docLinkHtml;\n",
              "          element.appendChild(docLink);\n",
              "        }\n",
              "      </script>\n",
              "    </div>\n",
              "  </div>\n",
              "  "
            ]
          },
          "metadata": {},
          "execution_count": 31
        }
      ]
    },
    {
      "cell_type": "code",
      "source": [
        "df = df.drop(['id', 'datetime', 'timezone', 'timestamp', 'product_id', 'icon'], axis=1)"
      ],
      "metadata": {
        "id": "iWafS7xuPUtf"
      },
      "execution_count": null,
      "outputs": []
    },
    {
      "cell_type": "code",
      "source": [
        "# Check the data types\n",
        "print(df.dtypes)"
      ],
      "metadata": {
        "colab": {
          "base_uri": "https://localhost:8080/"
        },
        "id": "GXjDCfAy66Qv",
        "outputId": "d4005f04-d720-43f8-f0ea-8e1c08b57451"
      },
      "execution_count": null,
      "outputs": [
        {
          "output_type": "stream",
          "name": "stdout",
          "text": [
            "id                              object\n",
            "timestamp                      float64\n",
            "hour                             int64\n",
            "day                              int64\n",
            "month                            int64\n",
            "datetime                        object\n",
            "timezone                        object\n",
            "source                          object\n",
            "destination                     object\n",
            "cab_type                        object\n",
            "product_id                      object\n",
            "name                            object\n",
            "price                          float64\n",
            "distance                       float64\n",
            "surge_multiplier               float64\n",
            "latitude                       float64\n",
            "longitude                      float64\n",
            "temperature                    float64\n",
            "apparentTemperature            float64\n",
            "short_summary                   object\n",
            "long_summary                    object\n",
            "precipIntensity                float64\n",
            "precipProbability              float64\n",
            "humidity                       float64\n",
            "windSpeed                      float64\n",
            "windGust                       float64\n",
            "windGustTime                     int64\n",
            "visibility                     float64\n",
            "temperatureHigh                float64\n",
            "temperatureHighTime              int64\n",
            "temperatureLow                 float64\n",
            "temperatureLowTime               int64\n",
            "apparentTemperatureHigh        float64\n",
            "apparentTemperatureHighTime      int64\n",
            "apparentTemperatureLow         float64\n",
            "apparentTemperatureLowTime       int64\n",
            "icon                            object\n",
            "dewPoint                       float64\n",
            "pressure                       float64\n",
            "windBearing                      int64\n",
            "cloudCover                     float64\n",
            "uvIndex                          int64\n",
            "visibility.1                   float64\n",
            "ozone                          float64\n",
            "sunriseTime                      int64\n",
            "sunsetTime                       int64\n",
            "moonPhase                      float64\n",
            "precipIntensityMax             float64\n",
            "uvIndexTime                      int64\n",
            "temperatureMin                 float64\n",
            "temperatureMinTime               int64\n",
            "temperatureMax                 float64\n",
            "temperatureMaxTime             float64\n",
            "apparentTemperatureMin         float64\n",
            "apparentTemperatureMinTime     float64\n",
            "apparentTemperatureMax         float64\n",
            "apparentTemperatureMaxTime     float64\n",
            "dtype: object\n"
          ]
        }
      ]
    },
    {
      "cell_type": "code",
      "source": [],
      "metadata": {
        "id": "s79L-LGr8e0h"
      },
      "execution_count": null,
      "outputs": []
    }
  ]
}