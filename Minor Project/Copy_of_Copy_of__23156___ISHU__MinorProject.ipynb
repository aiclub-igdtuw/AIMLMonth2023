{
  "nbformat": 4,
  "nbformat_minor": 0,
  "metadata": {
    "colab": {
      "provenance": []
    },
    "kernelspec": {
      "name": "python3",
      "display_name": "Python 3"
    },
    "language_info": {
      "name": "python"
    }
  },
  "cells": [
    {
      "cell_type": "markdown",
      "source": [
        "# **MINOR PROJECT**\n",
        "\n",
        "---\n",
        "\n",
        "\n",
        "\n",
        "\n"
      ],
      "metadata": {
        "id": "3j27_cT6kBA6"
      }
    },
    {
      "cell_type": "code",
      "source": [
        "import pandas as pd\n",
        "import numpy as np\n",
        "import matplotlib.pyplot as plt\n",
        "import seaborn as sns"
      ],
      "metadata": {
        "id": "t6yN0AvCgN74"
      },
      "execution_count": null,
      "outputs": []
    },
    {
      "cell_type": "code",
      "source": [],
      "metadata": {
        "id": "NN01YbhFgdyU"
      },
      "execution_count": null,
      "outputs": []
    },
    {
      "cell_type": "code",
      "source": [
        "df = pd.read_csv(robots.csv)"
      ],
      "metadata": {
        "id": "oDD-DgAMgfIq"
      },
      "execution_count": null,
      "outputs": []
    },
    {
      "cell_type": "code",
      "source": [
        "import warningswarnings.filterwarnings(ignore)"
      ],
      "metadata": {
        "id": "ysu9WwNpgucv"
      },
      "execution_count": null,
      "outputs": []
    },
    {
      "cell_type": "markdown",
      "source": [
        "# **TASK 1** - Exploratory Data Analysis"
      ],
      "metadata": {
        "id": "0cMtLrokuof_"
      }
    },
    {
      "cell_type": "markdown",
      "source": [
        "<-----------------------Question 1----------------------------->"
      ],
      "metadata": {
        "id": "Ec0_MjBDkkJu"
      }
    },
    {
      "cell_type": "code",
      "source": [
        "x = df[`source`].nunique()\n",
        "x\n",
        "5\n",
        "y = df[`source`].value_counts()"
      ],
      "metadata": {
        "id": "0tywXRCfgDr5"
      },
      "execution_count": null,
      "outputs": []
    },
    {
      "cell_type": "code",
      "source": [
        "0    100000\n",
        "1    100000\n",
        "2    100000\n",
        "3    100000\n",
        "4    100000\n",
        "name: source, dtype:np.np.int64"
      ],
      "metadata": {
        "id": "Vo4e7f6PvhVv"
      },
      "execution_count": null,
      "outputs": []
    },
    {
      "cell_type": "code",
      "source": [],
      "metadata": {
        "id": "5Jlm2VnhvhST"
      },
      "execution_count": null,
      "outputs": []
    },
    {
      "cell_type": "markdown",
      "source": [
        "<-----------------------Question 2----------------------------->"
      ],
      "metadata": {
        "id": "cPa96surrJOz"
      }
    },
    {
      "cell_type": "code",
      "source": [
        "y\n",
        "0    100000\n",
        "1    100000\n",
        "2    100000\n",
        "3    100000\n",
        "4    100000\n",
        "name: source, dtype:int64"
      ],
      "metadata": {
        "id": "xB_9DeBJp2LO",
        "colab": {
          "base_uri": "https://localhost:8080/",
          "height": 130
        },
        "outputId": "ebe29c1a-d0aa-4928-dde6-704edf4bb899"
      },
      "execution_count": null,
      "outputs": [
        {
          "output_type": "error",
          "ename": "SyntaxError",
          "evalue": "ignored",
          "traceback": [
            "\u001b[0;36m  File \u001b[0;32m\"<ipython-input-6-6d2d98a0e929>\"\u001b[0;36m, line \u001b[0;32m2\u001b[0m\n\u001b[0;31m    0    100000\u001b[0m\n\u001b[0m         ^\u001b[0m\n\u001b[0;31mSyntaxError\u001b[0m\u001b[0;31m:\u001b[0m invalid syntax\n"
          ]
        }
      ]
    },
    {
      "cell_type": "code",
      "source": [
        "np,array(y)\n",
        "array(100000, 100000, 100000, 100000, 100000)"
      ],
      "metadata": {
        "id": "4BB9XdGqp2Ie"
      },
      "execution_count": null,
      "outputs": []
    },
    {
      "cell_type": "code",
      "source": [
        "x = np.unique(df[`source`])"
      ],
      "metadata": {
        "id": "HktaYYj1wHeY"
      },
      "execution_count": null,
      "outputs": []
    },
    {
      "cell_type": "code",
      "source": [
        "x\n",
        "array([0, 1, 2, 3, 4,])"
      ],
      "metadata": {
        "id": "GTLBZ96Qwgsj"
      },
      "execution_count": null,
      "outputs": []
    },
    {
      "cell_type": "markdown",
      "source": [
        "<-----------------------Question 3----------------------------->"
      ],
      "metadata": {
        "id": "UmtxT6Y9wbSY"
      }
    },
    {
      "cell_type": "code",
      "source": [
        "data.isna().sum()\n",
        "source    0\n",
        "num1      0\n",
        "num2      0\n",
        "num3      1\n",
        "num4      1\n",
        "num5      1\n",
        "num6      1\n",
        "num7      1\n",
        "num8      1\n",
        "num9      1\n",
        "num10     1\n",
        "dtype: np.int64"
      ],
      "metadata": {
        "id": "NnLrdGcRwbSY",
        "colab": {
          "base_uri": "https://localhost:8080/",
          "height": 130
        },
        "outputId": "b2af1d73-5c74-421a-873f-84b9cbc81488"
      },
      "execution_count": null,
      "outputs": [
        {
          "output_type": "error",
          "ename": "SyntaxError",
          "evalue": "ignored",
          "traceback": [
            "\u001b[0;36m  File \u001b[0;32m\"<ipython-input-7-dafe655693de>\"\u001b[0;36m, line \u001b[0;32m2\u001b[0m\n\u001b[0;31m    source    0\u001b[0m\n\u001b[0m              ^\u001b[0m\n\u001b[0;31mSyntaxError\u001b[0m\u001b[0;31m:\u001b[0m invalid syntax\n"
          ]
        }
      ]
    },
    {
      "cell_type": "markdown",
      "source": [
        "Summarizing your analysis and observation"
      ],
      "metadata": {
        "id": "0aFNKRQSwbSZ"
      }
    },
    {
      "cell_type": "code",
      "source": [
        "data = data.fillna(value`other`)"
      ],
      "metadata": {
        "id": "6AyPGfHNwbSZ"
      },
      "execution_count": null,
      "outputs": []
    },
    {
      "cell_type": "code",
      "source": [
        "data.isna().sum()\n",
        "source    0\n",
        "num1      0\n",
        "num2      0\n",
        "num3      0\n",
        "num4      0\n",
        "num5      0\n",
        "num6      0\n",
        "num7      0\n",
        "num8      0\n",
        "num9      0\n",
        "num10     0\n",
        "dtype: int64"
      ],
      "metadata": {
        "id": "ymmJAoJJwbSZ"
      },
      "execution_count": null,
      "outputs": []
    },
    {
      "cell_type": "markdown",
      "source": [
        "<-----------------------Question 4----------------------------->"
      ],
      "metadata": {
        "id": "VjYUkQCLwbSa"
      }
    },
    {
      "cell_type": "code",
      "source": [],
      "metadata": {
        "id": "8PgE1Q1JwbSa"
      },
      "execution_count": null,
      "outputs": []
    },
    {
      "cell_type": "code",
      "source": [
        "class_distribution = data[`source`].value_counts()\n",
        "\n",
        "# print the class distribution\n",
        "print(\"class distribution:\")\n",
        "print(class_distribution)\n",
        "\n",
        "# check if the dataset is balanced\n",
        "is_balanced = all(class_distribution = class_distribution[0])\n",
        "\n",
        "# print the result\n",
        "if is_balanced:\n",
        "    print(\"the dataset is balanced\")\n"
      ],
      "metadata": {
        "id": "r7xNJvAssmW3"
      },
      "execution_count": null,
      "outputs": []
    },
    {
      "cell_type": "code",
      "source": [
        "class Distribution\n",
        "0    65071\n",
        "1    65071\n",
        "2    65070\n",
        "3    65070\n",
        "4    65070\n",
        "name: source, dtype: int64\n",
        "the dataset is not balanced"
      ],
      "metadata": {
        "id": "KRbMgKo4uJ3_"
      },
      "execution_count": null,
      "outputs": []
    },
    {
      "cell_type": "code",
      "source": [
        "label_counts = data[`source`].value_counts()\n",
        "\n",
        "# visualize the label counts using a pie chart\n",
        "label_counts.plot(kind=`pie`, autopct='%1.1f%%')\n",
        "\n",
        "# Add tittle\n",
        "plt.tittle(`distributionof robot lables`)\n",
        "\n",
        "\n",
        "\n",
        "\n",
        "\n",
        "\n",
        "\n"
      ],
      "metadata": {
        "id": "oMnJ0Vo5vjBP"
      },
      "execution_count": null,
      "outputs": []
    },
    {
      "cell_type": "markdown",
      "source": [
        "<-----------------------Question 5----------------------------->"
      ],
      "metadata": {
        "id": "VbWuvMbqwdgV"
      }
    },
    {
      "cell_type": "code",
      "source": [
        "import pandas as pd\n",
        "import numpy as np\n",
        "import matplotlib.pyplot as plt\n",
        "import seaborn as sns\n",
        "\n",
        "import warnings\n",
        "warnings.filterwarnings(`ignore`)"
      ],
      "metadata": {
        "id": "374hZpa0-ar_"
      },
      "execution_count": null,
      "outputs": []
    },
    {
      "cell_type": "code",
      "source": [
        "data = pd.read_csv(`robotics.csv`)"
      ],
      "metadata": {
        "id": "Rh-jCW3m-6an"
      },
      "execution_count": null,
      "outputs": []
    },
    {
      "cell_type": "code",
      "source": [
        "data.dtypes\n",
        "source     int64\n",
        "num1       int64\n",
        "num2       int64\n",
        "num3       int64\n",
        "num4     float64\n",
        "num5     float64\n",
        "num6     float64\n",
        "num7     float64\n",
        "num8     float64\n",
        "num9     float64\n",
        "num10    float64\n",
        "dtype: object"
      ],
      "metadata": {
        "id": "CXMSX1lU_Jrc"
      },
      "execution_count": null,
      "outputs": []
    },
    {
      "cell_type": "code",
      "source": [
        "data = data.astype(`float64`)\n",
        "source   float64\n",
        "num1     float64\n",
        "num2     float64\n",
        "num3     float64\n",
        "num4     float64\n",
        "num5     float64\n",
        "num6     float64\n",
        "num7     float64\n",
        "num8     float64\n",
        "num9     float64\n",
        "num10    float64\n",
        "dtype: object\n"
      ],
      "metadata": {
        "id": "4OK4f4RB_50f"
      },
      "execution_count": null,
      "outputs": []
    },
    {
      "cell_type": "code",
      "source": [
        "# define the sequence spoken by robots\n",
        "sequence = np.array([1, 2, 3, 4, 5, 6, 7, 8, 9, 10],\n",
        "                    [2, 4, 6, 8, 10, 12, 14, 16, 18, 20],\n",
        "                    [3, 6, 9, 12, 15, 18, 21, 24, 27, 30],\n",
        "                    [4, 8, 12, 16, 20, 24, 28, 32, 36, 40],\n",
        "                    [5, 10, 15, 20, 25, 30, 35, 40, 45, 50,])\n",
        "\n",
        "# compute the correlation matrix\n",
        "correlation_matrix = np.corrcoef(sequence)\n"
      ],
      "metadata": {
        "id": "tlykwP9jAouh"
      },
      "execution_count": null,
      "outputs": []
    },
    {
      "cell_type": "markdown",
      "source": [
        "# **TASK 2** - Classification/Regression"
      ],
      "metadata": {
        "id": "Ox8z7yNIwosG"
      }
    },
    {
      "cell_type": "markdown",
      "source": [
        "Perform following steps on the same dataset which you used for EDA.\n",
        "> - Data Preprocessing (as per requirement)\n",
        "> - Feature Engineering\n",
        "> - Split dataset in train-test (80:20 ratio)\n",
        "> - Model selection\n",
        "> - Model training\n",
        "> - Model evaluation\n",
        "> - Fine-tune the Model\n",
        "> - Make predictions\n",
        "\n",
        "Summarize your model's performance by evaluation metrices\n",
        "\n"
      ],
      "metadata": {
        "id": "glXi_qALwz7v"
      }
    },
    {
      "cell_type": "code",
      "source": [
        "from sklearn.model_selection import train_test_split"
      ],
      "metadata": {
        "id": "J2dxcmxsDi4m"
      },
      "execution_count": null,
      "outputs": []
    },
    {
      "cell_type": "code",
      "source": [
        "y = df[`source`]"
      ],
      "metadata": {
        "id": "znKKWLxZDt3m"
      },
      "execution_count": null,
      "outputs": []
    },
    {
      "cell_type": "code",
      "source": [],
      "metadata": {
        "id": "WDJTshfxPHwh"
      },
      "execution_count": null,
      "outputs": []
    },
    {
      "cell_type": "code",
      "source": [
        "y\n",
        "0        0\n",
        "1        1\n",
        "2        2\n",
        "3        3\n",
        "4        4\n",
        "\n",
        "        ..\n",
        "499995   0\n",
        "499996   1\n",
        "499997   2\n",
        "499998   3\n",
        "499999   4\n",
        "name: source, length: 500000, dtype: int64\n"
      ],
      "metadata": {
        "id": "e6x8zykqDyPi"
      },
      "execution_count": null,
      "outputs": []
    },
    {
      "cell_type": "code",
      "source": [
        "x = df.drop(columns = `source`)"
      ],
      "metadata": {
        "id": "yXI6MHIuEeAR"
      },
      "execution_count": null,
      "outputs": []
    },
    {
      "cell_type": "code",
      "source": [
        "X.head(5)\n",
        "    num1      num2      num3      num4      num5      num6       num7       num8       num9       num10\n",
        "0      2         5         2         5         6         2          1          8          1           3\n",
        "1   1747      1749      1751      1758      1765      1767       1772       1774       1783        1785\n",
        "2  65056    195168   1561344   7806720  31226880 187361280  749445120 6745006080  6745006080  6745006080\n",
        "3   2855      2860      2865      2870      2875      2880       2885       2890        2895       2900\n",
        "4  11440     57200    286000   1430000   7150000  35750000  178750000  893750000  4468750000  22343750000\n"
      ],
      "metadata": {
        "id": "B9UP7YyPEkvl"
      },
      "execution_count": null,
      "outputs": []
    },
    {
      "cell_type": "code",
      "source": [
        "X_train, X_test, y_train, y_test = train_test_split(X, y, test_size=0.2, random_state=42)\n"
      ],
      "metadata": {
        "id": "AN93KPzueB0H"
      },
      "execution_count": null,
      "outputs": []
    },
    {
      "cell_type": "code",
      "source": [
        "x_train.shape , y_train.shape\n",
        "((400000, 10), (400000, ))"
      ],
      "metadata": {
        "id": "QrLko06ReMuF"
      },
      "execution_count": null,
      "outputs": []
    },
    {
      "cell_type": "code",
      "source": [
        "x_train"
      ],
      "metadata": {
        "id": "lo3P7z0beiXE"
      },
      "execution_count": null,
      "outputs": []
    },
    {
      "cell_type": "code",
      "source": [
        "array([[   9136,        9142,        9150,       9184,           9186,         9187 ]\n",
        "       [   1860,        9300,       46500,  145312500,      726562500,   3632812500]\n",
        "       [   8535,        8540,        8545,       8570,           8575,         8580]\n",
        "       [    661,        5949,       41643,    1249290,        4997160,     19988640]\n",
        "       [   7109,       28436,      113744,  2579713920,    7739141760,  38695708800]\n",
        "       [   5271,        5276,        5281,        5306,          5311,         5316]])"
      ],
      "metadata": {
        "id": "urM4Q70efFxt"
      },
      "execution_count": null,
      "outputs": []
    },
    {
      "cell_type": "code",
      "source": [
        "x_test = np.array(x_test)"
      ],
      "metadata": {
        "id": "Ql7nRX6HhupK"
      },
      "execution_count": null,
      "outputs": []
    },
    {
      "cell_type": "code",
      "source": [
        "x_train.shape,y_train.shape\n",
        "((400000, 10) , (400000,))"
      ],
      "metadata": {
        "id": "PF5qk4ddh0H5"
      },
      "execution_count": null,
      "outputs": []
    },
    {
      "cell_type": "code",
      "source": [
        "y_test"
      ],
      "metadata": {
        "id": "vOHlDzo3iKLp"
      },
      "execution_count": null,
      "outputs": []
    },
    {
      "cell_type": "code",
      "source": [
        "104241     1\n",
        "199676     1\n",
        "140199     4\n",
        "132814     4\n",
        "408697     2\n",
        "          ..\n",
        "66361      1\n",
        "497228     3\n",
        "152728     3\n",
        "50155      0\n",
        "240408     3\n",
        "name:source, length: 100000, dtype:int64"
      ],
      "metadata": {
        "id": "1BDgCD8NiSfU"
      },
      "execution_count": null,
      "outputs": []
    },
    {
      "cell_type": "code",
      "source": [
        "x_train.shape , y_train.shape\n",
        "((100000, 10), (100000,))"
      ],
      "metadata": {
        "id": "KnkI-FU2jESx"
      },
      "execution_count": null,
      "outputs": []
    },
    {
      "cell_type": "code",
      "source": [
        "from sklearn.tree import DecisionTreeClassifier"
      ],
      "metadata": {
        "id": "c5d7lHDdjNnY"
      },
      "execution_count": null,
      "outputs": []
    },
    {
      "cell_type": "code",
      "source": [
        "model = DecisionTreeClassifier(critirion=`entropy`)"
      ],
      "metadata": {
        "id": "vdmur0DFjZ20"
      },
      "execution_count": null,
      "outputs": []
    },
    {
      "cell_type": "code",
      "source": [
        "model.score(x_test , y_test)"
      ],
      "metadata": {
        "id": "QgXnsPlQjqAa"
      },
      "execution_count": null,
      "outputs": []
    },
    {
      "cell_type": "code",
      "source": [
        "0.97381"
      ],
      "metadata": {
        "id": "HJnmZ7Moj0A7"
      },
      "execution_count": null,
      "outputs": []
    },
    {
      "cell_type": "code",
      "source": [
        "model.predict(x_test)\n",
        "array([1, 1, 4, ....., 3, 0, 3])"
      ],
      "metadata": {
        "id": "Xn_Rs3TKj4I2"
      },
      "execution_count": null,
      "outputs": []
    },
    {
      "cell_type": "code",
      "source": [
        "y_test"
      ],
      "metadata": {
        "id": "Ei4fIucwkIP4"
      },
      "execution_count": null,
      "outputs": []
    },
    {
      "cell_type": "code",
      "source": [
        "104241     1\n",
        "199676     1\n",
        "140199     4\n",
        "132814     4\n",
        "408697     2\n",
        "          ..\n",
        " 66361     1\n",
        "497228     3\n",
        "152728     3\n",
        "50155      0\n",
        "240408     3\n",
        "name: source, length: 100000, datatype: int64"
      ],
      "metadata": {
        "id": "BZkgmwZ7kRs5"
      },
      "execution_count": null,
      "outputs": []
    }
  ]
}