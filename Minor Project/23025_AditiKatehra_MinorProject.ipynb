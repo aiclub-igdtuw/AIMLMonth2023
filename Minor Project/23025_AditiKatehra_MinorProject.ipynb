{
  "nbformat": 4,
  "nbformat_minor": 0,
  "metadata": {
    "colab": {
      "provenance": []
    },
    "kernelspec": {
      "name": "python3",
      "display_name": "Python 3"
    },
    "language_info": {
      "name": "python"
    }
  },
  "cells": [
    {
      "cell_type": "markdown",
      "source": [
        "# **MINOR PROJECT**"
      ],
      "metadata": {
        "id": "QVxBnKvUhrPW"
      }
    },
    {
      "cell_type": "markdown",
      "source": [
        "### ***Problem Statement 2 - Disease Burden by Cause 1990-2019***"
      ],
      "metadata": {
        "id": "Y9yjc9iBhCMQ"
      }
    },
    {
      "cell_type": "markdown",
      "source": [
        "## **TASK 1 - Exploratory Data Analysis**"
      ],
      "metadata": {
        "id": "75bfJ5m-gm6g"
      }
    },
    {
      "cell_type": "code",
      "source": [
        "#Following are the steps to load the dataset from kaggle :"
      ],
      "metadata": {
        "id": "F81HrEgZiAET"
      },
      "execution_count": 90,
      "outputs": []
    },
    {
      "cell_type": "code",
      "source": [
        "from google.colab import files\n",
        "files.upload()"
      ],
      "metadata": {
        "id": "2GDd4Kt1kgEM",
        "colab": {
          "base_uri": "https://localhost:8080/",
          "height": 88
        },
        "outputId": "cb9d6406-30c5-4548-fb13-e40d726668ed"
      },
      "execution_count": 91,
      "outputs": [
        {
          "output_type": "display_data",
          "data": {
            "text/plain": [
              "<IPython.core.display.HTML object>"
            ],
            "text/html": [
              "\n",
              "     <input type=\"file\" id=\"files-36427245-f36e-4496-991d-a2b6660f47a3\" name=\"files[]\" multiple disabled\n",
              "        style=\"border:none\" />\n",
              "     <output id=\"result-36427245-f36e-4496-991d-a2b6660f47a3\">\n",
              "      Upload widget is only available when the cell has been executed in the\n",
              "      current browser session. Please rerun this cell to enable.\n",
              "      </output>\n",
              "      <script>// Copyright 2017 Google LLC\n",
              "//\n",
              "// Licensed under the Apache License, Version 2.0 (the \"License\");\n",
              "// you may not use this file except in compliance with the License.\n",
              "// You may obtain a copy of the License at\n",
              "//\n",
              "//      http://www.apache.org/licenses/LICENSE-2.0\n",
              "//\n",
              "// Unless required by applicable law or agreed to in writing, software\n",
              "// distributed under the License is distributed on an \"AS IS\" BASIS,\n",
              "// WITHOUT WARRANTIES OR CONDITIONS OF ANY KIND, either express or implied.\n",
              "// See the License for the specific language governing permissions and\n",
              "// limitations under the License.\n",
              "\n",
              "/**\n",
              " * @fileoverview Helpers for google.colab Python module.\n",
              " */\n",
              "(function(scope) {\n",
              "function span(text, styleAttributes = {}) {\n",
              "  const element = document.createElement('span');\n",
              "  element.textContent = text;\n",
              "  for (const key of Object.keys(styleAttributes)) {\n",
              "    element.style[key] = styleAttributes[key];\n",
              "  }\n",
              "  return element;\n",
              "}\n",
              "\n",
              "// Max number of bytes which will be uploaded at a time.\n",
              "const MAX_PAYLOAD_SIZE = 100 * 1024;\n",
              "\n",
              "function _uploadFiles(inputId, outputId) {\n",
              "  const steps = uploadFilesStep(inputId, outputId);\n",
              "  const outputElement = document.getElementById(outputId);\n",
              "  // Cache steps on the outputElement to make it available for the next call\n",
              "  // to uploadFilesContinue from Python.\n",
              "  outputElement.steps = steps;\n",
              "\n",
              "  return _uploadFilesContinue(outputId);\n",
              "}\n",
              "\n",
              "// This is roughly an async generator (not supported in the browser yet),\n",
              "// where there are multiple asynchronous steps and the Python side is going\n",
              "// to poll for completion of each step.\n",
              "// This uses a Promise to block the python side on completion of each step,\n",
              "// then passes the result of the previous step as the input to the next step.\n",
              "function _uploadFilesContinue(outputId) {\n",
              "  const outputElement = document.getElementById(outputId);\n",
              "  const steps = outputElement.steps;\n",
              "\n",
              "  const next = steps.next(outputElement.lastPromiseValue);\n",
              "  return Promise.resolve(next.value.promise).then((value) => {\n",
              "    // Cache the last promise value to make it available to the next\n",
              "    // step of the generator.\n",
              "    outputElement.lastPromiseValue = value;\n",
              "    return next.value.response;\n",
              "  });\n",
              "}\n",
              "\n",
              "/**\n",
              " * Generator function which is called between each async step of the upload\n",
              " * process.\n",
              " * @param {string} inputId Element ID of the input file picker element.\n",
              " * @param {string} outputId Element ID of the output display.\n",
              " * @return {!Iterable<!Object>} Iterable of next steps.\n",
              " */\n",
              "function* uploadFilesStep(inputId, outputId) {\n",
              "  const inputElement = document.getElementById(inputId);\n",
              "  inputElement.disabled = false;\n",
              "\n",
              "  const outputElement = document.getElementById(outputId);\n",
              "  outputElement.innerHTML = '';\n",
              "\n",
              "  const pickedPromise = new Promise((resolve) => {\n",
              "    inputElement.addEventListener('change', (e) => {\n",
              "      resolve(e.target.files);\n",
              "    });\n",
              "  });\n",
              "\n",
              "  const cancel = document.createElement('button');\n",
              "  inputElement.parentElement.appendChild(cancel);\n",
              "  cancel.textContent = 'Cancel upload';\n",
              "  const cancelPromise = new Promise((resolve) => {\n",
              "    cancel.onclick = () => {\n",
              "      resolve(null);\n",
              "    };\n",
              "  });\n",
              "\n",
              "  // Wait for the user to pick the files.\n",
              "  const files = yield {\n",
              "    promise: Promise.race([pickedPromise, cancelPromise]),\n",
              "    response: {\n",
              "      action: 'starting',\n",
              "    }\n",
              "  };\n",
              "\n",
              "  cancel.remove();\n",
              "\n",
              "  // Disable the input element since further picks are not allowed.\n",
              "  inputElement.disabled = true;\n",
              "\n",
              "  if (!files) {\n",
              "    return {\n",
              "      response: {\n",
              "        action: 'complete',\n",
              "      }\n",
              "    };\n",
              "  }\n",
              "\n",
              "  for (const file of files) {\n",
              "    const li = document.createElement('li');\n",
              "    li.append(span(file.name, {fontWeight: 'bold'}));\n",
              "    li.append(span(\n",
              "        `(${file.type || 'n/a'}) - ${file.size} bytes, ` +\n",
              "        `last modified: ${\n",
              "            file.lastModifiedDate ? file.lastModifiedDate.toLocaleDateString() :\n",
              "                                    'n/a'} - `));\n",
              "    const percent = span('0% done');\n",
              "    li.appendChild(percent);\n",
              "\n",
              "    outputElement.appendChild(li);\n",
              "\n",
              "    const fileDataPromise = new Promise((resolve) => {\n",
              "      const reader = new FileReader();\n",
              "      reader.onload = (e) => {\n",
              "        resolve(e.target.result);\n",
              "      };\n",
              "      reader.readAsArrayBuffer(file);\n",
              "    });\n",
              "    // Wait for the data to be ready.\n",
              "    let fileData = yield {\n",
              "      promise: fileDataPromise,\n",
              "      response: {\n",
              "        action: 'continue',\n",
              "      }\n",
              "    };\n",
              "\n",
              "    // Use a chunked sending to avoid message size limits. See b/62115660.\n",
              "    let position = 0;\n",
              "    do {\n",
              "      const length = Math.min(fileData.byteLength - position, MAX_PAYLOAD_SIZE);\n",
              "      const chunk = new Uint8Array(fileData, position, length);\n",
              "      position += length;\n",
              "\n",
              "      const base64 = btoa(String.fromCharCode.apply(null, chunk));\n",
              "      yield {\n",
              "        response: {\n",
              "          action: 'append',\n",
              "          file: file.name,\n",
              "          data: base64,\n",
              "        },\n",
              "      };\n",
              "\n",
              "      let percentDone = fileData.byteLength === 0 ?\n",
              "          100 :\n",
              "          Math.round((position / fileData.byteLength) * 100);\n",
              "      percent.textContent = `${percentDone}% done`;\n",
              "\n",
              "    } while (position < fileData.byteLength);\n",
              "  }\n",
              "\n",
              "  // All done.\n",
              "  yield {\n",
              "    response: {\n",
              "      action: 'complete',\n",
              "    }\n",
              "  };\n",
              "}\n",
              "\n",
              "scope.google = scope.google || {};\n",
              "scope.google.colab = scope.google.colab || {};\n",
              "scope.google.colab._files = {\n",
              "  _uploadFiles,\n",
              "  _uploadFilesContinue,\n",
              "};\n",
              "})(self);\n",
              "</script> "
            ]
          },
          "metadata": {}
        },
        {
          "output_type": "stream",
          "name": "stdout",
          "text": [
            "Saving kaggle.json to kaggle (1).json\n"
          ]
        },
        {
          "output_type": "execute_result",
          "data": {
            "text/plain": [
              "{'kaggle.json': b'{\"username\":\"aditikatehra\",\"key\":\"a7728c297e7b2497c3ece0edad65bfd9\"}'}"
            ]
          },
          "metadata": {},
          "execution_count": 91
        }
      ]
    },
    {
      "cell_type": "code",
      "source": [
        "!pip install -q kaggle"
      ],
      "metadata": {
        "id": "Tdres0_YYkAx"
      },
      "execution_count": 92,
      "outputs": []
    },
    {
      "cell_type": "code",
      "source": [
        "!mkdir ~/.kaggle\n",
        "!cp kaggle.json ~/.kaggle\n",
        "!chmod 600 ~/.kaggle/kaggle.json"
      ],
      "metadata": {
        "colab": {
          "base_uri": "https://localhost:8080/"
        },
        "id": "e-F-X2flaNIR",
        "outputId": "3f519721-f84e-4813-aaf5-91416b6e0686"
      },
      "execution_count": 93,
      "outputs": [
        {
          "output_type": "stream",
          "name": "stdout",
          "text": [
            "mkdir: cannot create directory ‘/root/.kaggle’: File exists\n"
          ]
        }
      ]
    },
    {
      "cell_type": "code",
      "source": [
        "!kaggle datasets download -d shivkumarganesh/disease-burden-by-cause"
      ],
      "metadata": {
        "colab": {
          "base_uri": "https://localhost:8080/"
        },
        "id": "qQifdCjobQY-",
        "outputId": "2f0d896c-b6af-4775-801a-91323f32ca16"
      },
      "execution_count": 94,
      "outputs": [
        {
          "output_type": "stream",
          "name": "stdout",
          "text": [
            "disease-burden-by-cause.zip: Skipping, found more recently modified local copy (use --force to force download)\n"
          ]
        }
      ]
    },
    {
      "cell_type": "code",
      "source": [
        "!unzip /content/disease-burden-by-cause.zip"
      ],
      "metadata": {
        "colab": {
          "base_uri": "https://localhost:8080/"
        },
        "id": "CW3CFyiScOga",
        "outputId": "07069cc7-5803-4560-85ee-a0902c1c40b2"
      },
      "execution_count": 95,
      "outputs": [
        {
          "output_type": "stream",
          "name": "stdout",
          "text": [
            "Archive:  /content/disease-burden-by-cause.zip\n",
            "replace output.csv? [y]es, [n]o, [A]ll, [N]one, [r]ename: "
          ]
        }
      ]
    },
    {
      "cell_type": "code",
      "source": [
        "import numpy as np\n",
        "import pandas as pd\n",
        "\n",
        "import matplotlib.pyplot as plt\n",
        "import seaborn as sns\n",
        "\n",
        "import warnings\n",
        "warnings.filterwarnings('ignore')"
      ],
      "metadata": {
        "id": "AckO99zPcV71"
      },
      "execution_count": 96,
      "outputs": []
    },
    {
      "cell_type": "code",
      "source": [
        "data = pd.read_csv(\"/content/output.csv\")"
      ],
      "metadata": {
        "id": "etKpeu6ycjmq"
      },
      "execution_count": 97,
      "outputs": []
    },
    {
      "cell_type": "code",
      "source": [
        "type(data)"
      ],
      "metadata": {
        "colab": {
          "base_uri": "https://localhost:8080/"
        },
        "id": "vE4yr-29c4sX",
        "outputId": "f28730e7-9e8b-415d-b7cb-1c5863d333a7"
      },
      "execution_count": 98,
      "outputs": [
        {
          "output_type": "execute_result",
          "data": {
            "text/plain": [
              "pandas.core.frame.DataFrame"
            ]
          },
          "metadata": {},
          "execution_count": 98
        }
      ]
    },
    {
      "cell_type": "code",
      "source": [
        "data.shape"
      ],
      "metadata": {
        "colab": {
          "base_uri": "https://localhost:8080/"
        },
        "id": "XHwbdVJKdpPr",
        "outputId": "d4706316-755c-4c86-ff84-ce9e21de42dd"
      },
      "execution_count": 99,
      "outputs": [
        {
          "output_type": "execute_result",
          "data": {
            "text/plain": [
              "(8010, 29)"
            ]
          },
          "metadata": {},
          "execution_count": 99
        }
      ]
    },
    {
      "cell_type": "code",
      "source": [
        "data.columns"
      ],
      "metadata": {
        "colab": {
          "base_uri": "https://localhost:8080/"
        },
        "id": "H47HGZsMdsLH",
        "outputId": "880cac64-6a27-449d-cb17-4354fad45073"
      },
      "execution_count": 100,
      "outputs": [
        {
          "output_type": "execute_result",
          "data": {
            "text/plain": [
              "Index(['Unnamed: 0', 'Entity', 'Code', 'Year', 'Self-harm',\n",
              "       'Exposure to forces of nature', 'Conflict and terrorism',\n",
              "       'Interpersonal violence', 'Neglected tropical diseases and malaria',\n",
              "       'Substance use disorders', 'Skin and subcutaneous diseases',\n",
              "       'Enteric infections', 'Diabetes and kidney diseases',\n",
              "       'Cardiovascular diseases', 'Digestive diseases',\n",
              "       'Nutritional deficiencies', 'Respiratory infections and tuberculosis',\n",
              "       'Neonatal disorders', 'Chronic respiratory diseases',\n",
              "       'Other non-communicable diseases', 'Maternal disorders',\n",
              "       'Unintentional injuries', 'Musculoskeletal disorders', 'Neoplasms',\n",
              "       'Mental disorders', 'Neurological disorders',\n",
              "       'HIV/AIDS and sexually transmitted infections', 'Transport injuries',\n",
              "       'Sense organ diseases'],\n",
              "      dtype='object')"
            ]
          },
          "metadata": {},
          "execution_count": 100
        }
      ]
    },
    {
      "cell_type": "code",
      "source": [
        "data.head(5)"
      ],
      "metadata": {
        "colab": {
          "base_uri": "https://localhost:8080/",
          "height": 369
        },
        "id": "uN6fGYasdwtp",
        "outputId": "9450d6d9-571e-43b9-c343-a2a94865779c"
      },
      "execution_count": 101,
      "outputs": [
        {
          "output_type": "execute_result",
          "data": {
            "text/plain": [
              "   Unnamed: 0       Entity Code  Year  Self-harm  \\\n",
              "0           0  Afghanistan  AFG  1990   0.305874   \n",
              "1           1  Afghanistan  AFG  1991   0.312853   \n",
              "2           2  Afghanistan  AFG  1992   0.328217   \n",
              "3           3  Afghanistan  AFG  1993   0.332590   \n",
              "4           4  Afghanistan  AFG  1994   0.324567   \n",
              "\n",
              "   Exposure to forces of nature  Conflict and terrorism  \\\n",
              "0                      0.007185                3.688980   \n",
              "1                      0.662918                4.598062   \n",
              "2                      0.293873                4.939704   \n",
              "3                      0.114703                4.546126   \n",
              "4                      0.084153                6.225331   \n",
              "\n",
              "   Interpersonal violence  Neglected tropical diseases and malaria  \\\n",
              "0                0.829299                                 1.118338   \n",
              "1                1.007482                                 1.136197   \n",
              "2                1.057353                                 1.100388   \n",
              "3                1.085709                                 0.964654   \n",
              "4                1.103499                                 0.922281   \n",
              "\n",
              "   Substance use disorders  ...  Other non-communicable diseases  \\\n",
              "0                 0.187690  ...                        11.937438   \n",
              "1                 0.193772  ...                        11.866293   \n",
              "2                 0.204869  ...                        12.268632   \n",
              "3                 0.206346  ...                        12.497789   \n",
              "4                 0.200465  ...                        12.183113   \n",
              "\n",
              "   Maternal disorders  Unintentional injuries  Musculoskeletal disorders  \\\n",
              "0            1.347937                3.807512                   0.937570   \n",
              "1            1.376094                4.350370                   0.921341   \n",
              "2            1.436542                3.941653                   0.900800   \n",
              "3            1.448949                3.797663                   0.865468   \n",
              "4            1.410758                3.711383                   0.823579   \n",
              "\n",
              "   Neoplasms  Mental disorders  Neurological disorders  \\\n",
              "0   3.269981          1.696670                1.283453   \n",
              "1   3.130858          1.734281                1.269533   \n",
              "2   2.977764          1.791189                1.268217   \n",
              "3   2.837313          1.776779                1.244622   \n",
              "4   2.699818          1.712986                1.198240   \n",
              "\n",
              "   HIV/AIDS and sexually transmitted infections  Transport injuries  \\\n",
              "0                                      0.121302            2.375831   \n",
              "1                                      0.123435            2.353230   \n",
              "2                                      0.146242            2.420953   \n",
              "3                                      0.170525            2.484723   \n",
              "4                                      0.171896            2.407289   \n",
              "\n",
              "   Sense organ diseases  \n",
              "0              0.646459  \n",
              "1              0.626081  \n",
              "2              0.598476  \n",
              "3              0.566259  \n",
              "4              0.535983  \n",
              "\n",
              "[5 rows x 29 columns]"
            ],
            "text/html": [
              "\n",
              "  <div id=\"df-a7a4f012-e4ec-4fe4-8aab-1e7929f5d9b5\">\n",
              "    <div class=\"colab-df-container\">\n",
              "      <div>\n",
              "<style scoped>\n",
              "    .dataframe tbody tr th:only-of-type {\n",
              "        vertical-align: middle;\n",
              "    }\n",
              "\n",
              "    .dataframe tbody tr th {\n",
              "        vertical-align: top;\n",
              "    }\n",
              "\n",
              "    .dataframe thead th {\n",
              "        text-align: right;\n",
              "    }\n",
              "</style>\n",
              "<table border=\"1\" class=\"dataframe\">\n",
              "  <thead>\n",
              "    <tr style=\"text-align: right;\">\n",
              "      <th></th>\n",
              "      <th>Unnamed: 0</th>\n",
              "      <th>Entity</th>\n",
              "      <th>Code</th>\n",
              "      <th>Year</th>\n",
              "      <th>Self-harm</th>\n",
              "      <th>Exposure to forces of nature</th>\n",
              "      <th>Conflict and terrorism</th>\n",
              "      <th>Interpersonal violence</th>\n",
              "      <th>Neglected tropical diseases and malaria</th>\n",
              "      <th>Substance use disorders</th>\n",
              "      <th>...</th>\n",
              "      <th>Other non-communicable diseases</th>\n",
              "      <th>Maternal disorders</th>\n",
              "      <th>Unintentional injuries</th>\n",
              "      <th>Musculoskeletal disorders</th>\n",
              "      <th>Neoplasms</th>\n",
              "      <th>Mental disorders</th>\n",
              "      <th>Neurological disorders</th>\n",
              "      <th>HIV/AIDS and sexually transmitted infections</th>\n",
              "      <th>Transport injuries</th>\n",
              "      <th>Sense organ diseases</th>\n",
              "    </tr>\n",
              "  </thead>\n",
              "  <tbody>\n",
              "    <tr>\n",
              "      <th>0</th>\n",
              "      <td>0</td>\n",
              "      <td>Afghanistan</td>\n",
              "      <td>AFG</td>\n",
              "      <td>1990</td>\n",
              "      <td>0.305874</td>\n",
              "      <td>0.007185</td>\n",
              "      <td>3.688980</td>\n",
              "      <td>0.829299</td>\n",
              "      <td>1.118338</td>\n",
              "      <td>0.187690</td>\n",
              "      <td>...</td>\n",
              "      <td>11.937438</td>\n",
              "      <td>1.347937</td>\n",
              "      <td>3.807512</td>\n",
              "      <td>0.937570</td>\n",
              "      <td>3.269981</td>\n",
              "      <td>1.696670</td>\n",
              "      <td>1.283453</td>\n",
              "      <td>0.121302</td>\n",
              "      <td>2.375831</td>\n",
              "      <td>0.646459</td>\n",
              "    </tr>\n",
              "    <tr>\n",
              "      <th>1</th>\n",
              "      <td>1</td>\n",
              "      <td>Afghanistan</td>\n",
              "      <td>AFG</td>\n",
              "      <td>1991</td>\n",
              "      <td>0.312853</td>\n",
              "      <td>0.662918</td>\n",
              "      <td>4.598062</td>\n",
              "      <td>1.007482</td>\n",
              "      <td>1.136197</td>\n",
              "      <td>0.193772</td>\n",
              "      <td>...</td>\n",
              "      <td>11.866293</td>\n",
              "      <td>1.376094</td>\n",
              "      <td>4.350370</td>\n",
              "      <td>0.921341</td>\n",
              "      <td>3.130858</td>\n",
              "      <td>1.734281</td>\n",
              "      <td>1.269533</td>\n",
              "      <td>0.123435</td>\n",
              "      <td>2.353230</td>\n",
              "      <td>0.626081</td>\n",
              "    </tr>\n",
              "    <tr>\n",
              "      <th>2</th>\n",
              "      <td>2</td>\n",
              "      <td>Afghanistan</td>\n",
              "      <td>AFG</td>\n",
              "      <td>1992</td>\n",
              "      <td>0.328217</td>\n",
              "      <td>0.293873</td>\n",
              "      <td>4.939704</td>\n",
              "      <td>1.057353</td>\n",
              "      <td>1.100388</td>\n",
              "      <td>0.204869</td>\n",
              "      <td>...</td>\n",
              "      <td>12.268632</td>\n",
              "      <td>1.436542</td>\n",
              "      <td>3.941653</td>\n",
              "      <td>0.900800</td>\n",
              "      <td>2.977764</td>\n",
              "      <td>1.791189</td>\n",
              "      <td>1.268217</td>\n",
              "      <td>0.146242</td>\n",
              "      <td>2.420953</td>\n",
              "      <td>0.598476</td>\n",
              "    </tr>\n",
              "    <tr>\n",
              "      <th>3</th>\n",
              "      <td>3</td>\n",
              "      <td>Afghanistan</td>\n",
              "      <td>AFG</td>\n",
              "      <td>1993</td>\n",
              "      <td>0.332590</td>\n",
              "      <td>0.114703</td>\n",
              "      <td>4.546126</td>\n",
              "      <td>1.085709</td>\n",
              "      <td>0.964654</td>\n",
              "      <td>0.206346</td>\n",
              "      <td>...</td>\n",
              "      <td>12.497789</td>\n",
              "      <td>1.448949</td>\n",
              "      <td>3.797663</td>\n",
              "      <td>0.865468</td>\n",
              "      <td>2.837313</td>\n",
              "      <td>1.776779</td>\n",
              "      <td>1.244622</td>\n",
              "      <td>0.170525</td>\n",
              "      <td>2.484723</td>\n",
              "      <td>0.566259</td>\n",
              "    </tr>\n",
              "    <tr>\n",
              "      <th>4</th>\n",
              "      <td>4</td>\n",
              "      <td>Afghanistan</td>\n",
              "      <td>AFG</td>\n",
              "      <td>1994</td>\n",
              "      <td>0.324567</td>\n",
              "      <td>0.084153</td>\n",
              "      <td>6.225331</td>\n",
              "      <td>1.103499</td>\n",
              "      <td>0.922281</td>\n",
              "      <td>0.200465</td>\n",
              "      <td>...</td>\n",
              "      <td>12.183113</td>\n",
              "      <td>1.410758</td>\n",
              "      <td>3.711383</td>\n",
              "      <td>0.823579</td>\n",
              "      <td>2.699818</td>\n",
              "      <td>1.712986</td>\n",
              "      <td>1.198240</td>\n",
              "      <td>0.171896</td>\n",
              "      <td>2.407289</td>\n",
              "      <td>0.535983</td>\n",
              "    </tr>\n",
              "  </tbody>\n",
              "</table>\n",
              "<p>5 rows × 29 columns</p>\n",
              "</div>\n",
              "      <button class=\"colab-df-convert\" onclick=\"convertToInteractive('df-a7a4f012-e4ec-4fe4-8aab-1e7929f5d9b5')\"\n",
              "              title=\"Convert this dataframe to an interactive table.\"\n",
              "              style=\"display:none;\">\n",
              "        \n",
              "  <svg xmlns=\"http://www.w3.org/2000/svg\" height=\"24px\"viewBox=\"0 0 24 24\"\n",
              "       width=\"24px\">\n",
              "    <path d=\"M0 0h24v24H0V0z\" fill=\"none\"/>\n",
              "    <path d=\"M18.56 5.44l.94 2.06.94-2.06 2.06-.94-2.06-.94-.94-2.06-.94 2.06-2.06.94zm-11 1L8.5 8.5l.94-2.06 2.06-.94-2.06-.94L8.5 2.5l-.94 2.06-2.06.94zm10 10l.94 2.06.94-2.06 2.06-.94-2.06-.94-.94-2.06-.94 2.06-2.06.94z\"/><path d=\"M17.41 7.96l-1.37-1.37c-.4-.4-.92-.59-1.43-.59-.52 0-1.04.2-1.43.59L10.3 9.45l-7.72 7.72c-.78.78-.78 2.05 0 2.83L4 21.41c.39.39.9.59 1.41.59.51 0 1.02-.2 1.41-.59l7.78-7.78 2.81-2.81c.8-.78.8-2.07 0-2.86zM5.41 20L4 18.59l7.72-7.72 1.47 1.35L5.41 20z\"/>\n",
              "  </svg>\n",
              "      </button>\n",
              "      \n",
              "  <style>\n",
              "    .colab-df-container {\n",
              "      display:flex;\n",
              "      flex-wrap:wrap;\n",
              "      gap: 12px;\n",
              "    }\n",
              "\n",
              "    .colab-df-convert {\n",
              "      background-color: #E8F0FE;\n",
              "      border: none;\n",
              "      border-radius: 50%;\n",
              "      cursor: pointer;\n",
              "      display: none;\n",
              "      fill: #1967D2;\n",
              "      height: 32px;\n",
              "      padding: 0 0 0 0;\n",
              "      width: 32px;\n",
              "    }\n",
              "\n",
              "    .colab-df-convert:hover {\n",
              "      background-color: #E2EBFA;\n",
              "      box-shadow: 0px 1px 2px rgba(60, 64, 67, 0.3), 0px 1px 3px 1px rgba(60, 64, 67, 0.15);\n",
              "      fill: #174EA6;\n",
              "    }\n",
              "\n",
              "    [theme=dark] .colab-df-convert {\n",
              "      background-color: #3B4455;\n",
              "      fill: #D2E3FC;\n",
              "    }\n",
              "\n",
              "    [theme=dark] .colab-df-convert:hover {\n",
              "      background-color: #434B5C;\n",
              "      box-shadow: 0px 1px 3px 1px rgba(0, 0, 0, 0.15);\n",
              "      filter: drop-shadow(0px 1px 2px rgba(0, 0, 0, 0.3));\n",
              "      fill: #FFFFFF;\n",
              "    }\n",
              "  </style>\n",
              "\n",
              "      <script>\n",
              "        const buttonEl =\n",
              "          document.querySelector('#df-a7a4f012-e4ec-4fe4-8aab-1e7929f5d9b5 button.colab-df-convert');\n",
              "        buttonEl.style.display =\n",
              "          google.colab.kernel.accessAllowed ? 'block' : 'none';\n",
              "\n",
              "        async function convertToInteractive(key) {\n",
              "          const element = document.querySelector('#df-a7a4f012-e4ec-4fe4-8aab-1e7929f5d9b5');\n",
              "          const dataTable =\n",
              "            await google.colab.kernel.invokeFunction('convertToInteractive',\n",
              "                                                     [key], {});\n",
              "          if (!dataTable) return;\n",
              "\n",
              "          const docLinkHtml = 'Like what you see? Visit the ' +\n",
              "            '<a target=\"_blank\" href=https://colab.research.google.com/notebooks/data_table.ipynb>data table notebook</a>'\n",
              "            + ' to learn more about interactive tables.';\n",
              "          element.innerHTML = '';\n",
              "          dataTable['output_type'] = 'display_data';\n",
              "          await google.colab.output.renderOutput(dataTable, element);\n",
              "          const docLink = document.createElement('div');\n",
              "          docLink.innerHTML = docLinkHtml;\n",
              "          element.appendChild(docLink);\n",
              "        }\n",
              "      </script>\n",
              "    </div>\n",
              "  </div>\n",
              "  "
            ]
          },
          "metadata": {},
          "execution_count": 101
        }
      ]
    },
    {
      "cell_type": "markdown",
      "source": [
        "**QUESTION-1 : Are there any missing values and duplicate instances in the dataset? If so, how do you plan to handle them?**"
      ],
      "metadata": {
        "id": "KYzQinykhcRm"
      }
    },
    {
      "cell_type": "code",
      "source": [
        "#To find sum of null values\n",
        "data.isnull().sum()"
      ],
      "metadata": {
        "colab": {
          "base_uri": "https://localhost:8080/"
        },
        "id": "kXLnCZ_yeDYx",
        "outputId": "0b81521e-ff51-4fd2-f4d4-874d6eb1a0a6"
      },
      "execution_count": 102,
      "outputs": [
        {
          "output_type": "execute_result",
          "data": {
            "text/plain": [
              "Unnamed: 0                                         0\n",
              "Entity                                             0\n",
              "Code                                            1860\n",
              "Year                                               0\n",
              "Self-harm                                          0\n",
              "Exposure to forces of nature                       0\n",
              "Conflict and terrorism                             0\n",
              "Interpersonal violence                             0\n",
              "Neglected tropical diseases and malaria            0\n",
              "Substance use disorders                            0\n",
              "Skin and subcutaneous diseases                     0\n",
              "Enteric infections                                 0\n",
              "Diabetes and kidney diseases                       0\n",
              "Cardiovascular diseases                            0\n",
              "Digestive diseases                                 0\n",
              "Nutritional deficiencies                           0\n",
              "Respiratory infections and tuberculosis            0\n",
              "Neonatal disorders                                 0\n",
              "Chronic respiratory diseases                       0\n",
              "Other non-communicable diseases                    0\n",
              "Maternal disorders                                 0\n",
              "Unintentional injuries                             0\n",
              "Musculoskeletal disorders                          0\n",
              "Neoplasms                                          0\n",
              "Mental disorders                                   0\n",
              "Neurological disorders                             0\n",
              "HIV/AIDS and sexually transmitted infections       0\n",
              "Transport injuries                                 0\n",
              "Sense organ diseases                               0\n",
              "dtype: int64"
            ]
          },
          "metadata": {},
          "execution_count": 102
        }
      ]
    },
    {
      "cell_type": "code",
      "source": [
        "#To find duplicated rows\n",
        "duplicated_rows = data[data.duplicated()]\n",
        "print(duplicated_rows)"
      ],
      "metadata": {
        "colab": {
          "base_uri": "https://localhost:8080/"
        },
        "id": "6AAihzAEeUCj",
        "outputId": "82fad0d3-13f9-4b1e-9ab4-cade8195427d"
      },
      "execution_count": 103,
      "outputs": [
        {
          "output_type": "stream",
          "name": "stdout",
          "text": [
            "Empty DataFrame\n",
            "Columns: [Unnamed: 0, Entity, Code, Year, Self-harm, Exposure to forces of nature, Conflict and terrorism, Interpersonal violence, Neglected tropical diseases and malaria, Substance use disorders, Skin and subcutaneous diseases, Enteric infections, Diabetes and kidney diseases, Cardiovascular diseases, Digestive diseases, Nutritional deficiencies, Respiratory infections and tuberculosis, Neonatal disorders, Chronic respiratory diseases, Other non-communicable diseases, Maternal disorders, Unintentional injuries, Musculoskeletal disorders, Neoplasms, Mental disorders, Neurological disorders, HIV/AIDS and sexually transmitted infections, Transport injuries, Sense organ diseases]\n",
            "Index: []\n",
            "\n",
            "[0 rows x 29 columns]\n"
          ]
        }
      ]
    },
    {
      "cell_type": "code",
      "source": [
        "#To find duplicated columns\n",
        "new_data = data.transpose()\n",
        "duplicated_columns = new_data[new_data.duplicated()]\n",
        "print(duplicated_columns)"
      ],
      "metadata": {
        "colab": {
          "base_uri": "https://localhost:8080/"
        },
        "id": "CCf0p7QUfhq-",
        "outputId": "acd584a0-0393-45d2-be37-42c644959678"
      },
      "execution_count": 104,
      "outputs": [
        {
          "output_type": "stream",
          "name": "stdout",
          "text": [
            "Empty DataFrame\n",
            "Columns: [0, 1, 2, 3, 4, 5, 6, 7, 8, 9, 10, 11, 12, 13, 14, 15, 16, 17, 18, 19, 20, 21, 22, 23, 24, 25, 26, 27, 28, 29, 30, 31, 32, 33, 34, 35, 36, 37, 38, 39, 40, 41, 42, 43, 44, 45, 46, 47, 48, 49, 50, 51, 52, 53, 54, 55, 56, 57, 58, 59, 60, 61, 62, 63, 64, 65, 66, 67, 68, 69, 70, 71, 72, 73, 74, 75, 76, 77, 78, 79, 80, 81, 82, 83, 84, 85, 86, 87, 88, 89, 90, 91, 92, 93, 94, 95, 96, 97, 98, 99, ...]\n",
            "Index: []\n",
            "\n",
            "[0 rows x 8010 columns]\n"
          ]
        }
      ]
    },
    {
      "cell_type": "code",
      "source": [
        "data = data.fillna(value='Other')"
      ],
      "metadata": {
        "id": "Ewe2IvPejz-_"
      },
      "execution_count": 105,
      "outputs": []
    },
    {
      "cell_type": "code",
      "source": [
        "data.isnull().sum()"
      ],
      "metadata": {
        "colab": {
          "base_uri": "https://localhost:8080/"
        },
        "id": "XKByhGTOk7iV",
        "outputId": "54c95189-ff69-4bf8-be67-7feb64ba239e"
      },
      "execution_count": 106,
      "outputs": [
        {
          "output_type": "execute_result",
          "data": {
            "text/plain": [
              "Unnamed: 0                                      0\n",
              "Entity                                          0\n",
              "Code                                            0\n",
              "Year                                            0\n",
              "Self-harm                                       0\n",
              "Exposure to forces of nature                    0\n",
              "Conflict and terrorism                          0\n",
              "Interpersonal violence                          0\n",
              "Neglected tropical diseases and malaria         0\n",
              "Substance use disorders                         0\n",
              "Skin and subcutaneous diseases                  0\n",
              "Enteric infections                              0\n",
              "Diabetes and kidney diseases                    0\n",
              "Cardiovascular diseases                         0\n",
              "Digestive diseases                              0\n",
              "Nutritional deficiencies                        0\n",
              "Respiratory infections and tuberculosis         0\n",
              "Neonatal disorders                              0\n",
              "Chronic respiratory diseases                    0\n",
              "Other non-communicable diseases                 0\n",
              "Maternal disorders                              0\n",
              "Unintentional injuries                          0\n",
              "Musculoskeletal disorders                       0\n",
              "Neoplasms                                       0\n",
              "Mental disorders                                0\n",
              "Neurological disorders                          0\n",
              "HIV/AIDS and sexually transmitted infections    0\n",
              "Transport injuries                              0\n",
              "Sense organ diseases                            0\n",
              "dtype: int64"
            ]
          },
          "metadata": {},
          "execution_count": 106
        }
      ]
    },
    {
      "cell_type": "markdown",
      "source": [
        " **CONCLUSION : Since the ML model doesn't take the data with missing values, thus preprocessing step is necessary to make the data fit for the model.\n",
        " This includes -**\n",
        "*   **treating the missing values with some constant**\n",
        "*   **or deleting the missing values**\n",
        "\n",
        "**Since deleting the missing values of column 'code' would have resulted in loss of data, we filled it with some constant. Also, we checked and found that there aren't any duplicated instances in our dataset.**\n",
        "\n",
        "\n",
        "\n"
      ],
      "metadata": {
        "id": "mby1pLiflDb0"
      }
    },
    {
      "cell_type": "markdown",
      "source": [
        "**--------------------------------------------------------------------------------------------------------------------------------------------**"
      ],
      "metadata": {
        "id": "CdkBktcfoip-"
      }
    },
    {
      "cell_type": "markdown",
      "source": [
        "**QUESTION 2 - What is the distribution of the disease burden (DALYs) across different sub-categories of disease or injury?**"
      ],
      "metadata": {
        "id": "4K_q6CULoOzn"
      }
    },
    {
      "cell_type": "code",
      "source": [
        "data['Self-harm'].value_counts()"
      ],
      "metadata": {
        "colab": {
          "base_uri": "https://localhost:8080/"
        },
        "id": "kMsuOxUGpcff",
        "outputId": "cce197e0-b2f9-4fd9-8589-64f227b7d2d0"
      },
      "execution_count": 107,
      "outputs": [
        {
          "output_type": "execute_result",
          "data": {
            "text/plain": [
              "1.310950    2\n",
              "0.472750    2\n",
              "0.374197    2\n",
              "0.396282    2\n",
              "0.393514    2\n",
              "           ..\n",
              "2.852689    1\n",
              "2.882341    1\n",
              "2.941520    1\n",
              "2.989638    1\n",
              "1.568798    1\n",
              "Name: Self-harm, Length: 7950, dtype: int64"
            ]
          },
          "metadata": {},
          "execution_count": 107
        }
      ]
    },
    {
      "cell_type": "code",
      "source": [
        "sns.barplot(x='Self-harm', y='Year', data=data)\n",
        "plt.xlabel('Self-harm')\n",
        "plt.ylabel('Year')\n",
        "plt.title('Distribution of Sub-Categories')"
      ],
      "metadata": {
        "id": "qLiY3h-uc-BK"
      },
      "execution_count": null,
      "outputs": []
    },
    {
      "cell_type": "code",
      "source": [
        "data['Skin and subcutaneous diseases'].value_counts()"
      ],
      "metadata": {
        "colab": {
          "base_uri": "https://localhost:8080/"
        },
        "id": "IiG4fZM12hVV",
        "outputId": "71b52f1c-f3cd-4381-e784-95778e555809"
      },
      "execution_count": 109,
      "outputs": [
        {
          "output_type": "execute_result",
          "data": {
            "text/plain": [
              "1.766301    2\n",
              "0.750881    2\n",
              "0.558945    2\n",
              "0.595188    2\n",
              "0.597065    2\n",
              "           ..\n",
              "3.161100    1\n",
              "3.149975    1\n",
              "3.087553    1\n",
              "3.080778    1\n",
              "0.962243    1\n",
              "Name: Skin and subcutaneous diseases, Length: 7950, dtype: int64"
            ]
          },
          "metadata": {},
          "execution_count": 109
        }
      ]
    },
    {
      "cell_type": "code",
      "source": [
        "sns.barplot(x='Skin and subcutaneous diseases', y='Year', data=data)\n",
        "plt.xlabel('Skin and subcutaneous diseases')\n",
        "plt.ylabel('Year')\n",
        "plt.title('Distribution of Sub-Categories')"
      ],
      "metadata": {
        "colab": {
          "base_uri": "https://localhost:8080/",
          "height": 489
        },
        "id": "KaneTjGD3m1l",
        "outputId": "4c0c4fc6-17c4-4408-b25f-e13705bced33"
      },
      "execution_count": 110,
      "outputs": [
        {
          "output_type": "execute_result",
          "data": {
            "text/plain": [
              "Text(0.5, 1.0, 'Distribution of Sub-Categories')"
            ]
          },
          "metadata": {},
          "execution_count": 110
        },
        {
          "output_type": "display_data",
          "data": {
            "text/plain": [
              "<Figure size 640x480 with 1 Axes>"
            ],
            "image/png": "[encoded data removed]"
          },
          "metadata": {}
        }
      ]
    },
    {
      "cell_type": "code",
      "source": [
        "data['Cardiovascular diseases'].value_counts()"
      ],
      "metadata": {
        "colab": {
          "base_uri": "https://localhost:8080/"
        },
        "id": "XKUAQPeb4AaB",
        "outputId": "76a5bf13-f4c0-4b4d-9535-2b69421a523d"
      },
      "execution_count": 111,
      "outputs": [
        {
          "output_type": "execute_result",
          "data": {
            "text/plain": [
              "13.831871    2\n",
              "5.075082     2\n",
              "4.404624     2\n",
              "4.618278     2\n",
              "4.587371     2\n",
              "            ..\n",
              "13.851221    1\n",
              "14.020047    1\n",
              "14.430603    1\n",
              "14.609052    1\n",
              "6.791331     1\n",
              "Name: Cardiovascular diseases, Length: 7950, dtype: int64"
            ]
          },
          "metadata": {},
          "execution_count": 111
        }
      ]
    },
    {
      "cell_type": "code",
      "source": [
        "sns.barplot(x='Cardiovascular diseases', y='Year', data=data)\n",
        "plt.xlabel('Cardiovascular diseases')\n",
        "plt.ylabel('Year')\n",
        "plt.title('Distribution of Sub-Categories')"
      ],
      "metadata": {
        "colab": {
          "base_uri": "https://localhost:8080/",
          "height": 489
        },
        "id": "iB-O5hKA4LWv",
        "outputId": "cbead756-7767-4723-afa7-c22a8a6a3856"
      },
      "execution_count": 112,
      "outputs": [
        {
          "output_type": "execute_result",
          "data": {
            "text/plain": [
              "Text(0.5, 1.0, 'Distribution of Sub-Categories')"
            ]
          },
          "metadata": {},
          "execution_count": 112
        },
        {
          "output_type": "display_data",
          "data": {
            "text/plain": [
              "<Figure size 640x480 with 1 Axes>"
            ],
            "image/png": "[encoded data removed]"
          },
          "metadata": {}
        }
      ]
    },
    {
      "cell_type": "code",
      "source": [
        "data['Unintentional injuries'].value_counts()"
      ],
      "metadata": {
        "colab": {
          "base_uri": "https://localhost:8080/"
        },
        "id": "9NX7cToS4Sg3",
        "outputId": "deaacf09-508a-4146-d0fa-398a4a1379a2"
      },
      "execution_count": 113,
      "outputs": [
        {
          "output_type": "execute_result",
          "data": {
            "text/plain": [
              "5.136684    2\n",
              "2.273749    2\n",
              "2.177995    2\n",
              "2.252675    2\n",
              "2.188364    2\n",
              "           ..\n",
              "6.473609    1\n",
              "6.430942    1\n",
              "6.504247    1\n",
              "6.352650    1\n",
              "3.861686    1\n",
              "Name: Unintentional injuries, Length: 7950, dtype: int64"
            ]
          },
          "metadata": {},
          "execution_count": 113
        }
      ]
    },
    {
      "cell_type": "code",
      "source": [
        "sns.barplot(x='Unintentional injuries', y='Year', data=data)\n",
        "plt.xlabel('Unintentional injuries')\n",
        "plt.ylabel('Year')\n",
        "plt.title('Distribution of Sub-Categories')"
      ],
      "metadata": {
        "id": "k4cHF90I4fDY"
      },
      "execution_count": null,
      "outputs": []
    },
    {
      "cell_type": "markdown",
      "source": [
        "**CONCLUSION : The disease burden (DALYs) across diff sub-categories of few diseases or injuries are represented above in form of bar graphs.**"
      ],
      "metadata": {
        "id": "V_hks0Cp4lXp"
      }
    },
    {
      "cell_type": "markdown",
      "source": [
        "**--------------------------------------------------------------------------------------------------------------------------------------------**"
      ],
      "metadata": {
        "id": "ydQF6QRk6b0M"
      }
    },
    {
      "cell_type": "markdown",
      "source": [
        "**QUESTION-3 : How does the disease burden vary across different countries or regions and years? Are there any significant trends or patterns?**"
      ],
      "metadata": {
        "id": "SOD9Xg1_6jE5"
      }
    },
    {
      "cell_type": "code",
      "source": [
        "#To visualise significant trends or patterns of the 2 diseases - Neglected tropical diseases and malaria and Neurological disorders"
      ],
      "metadata": {
        "id": "zYfwBpoP4kZT"
      },
      "execution_count": null,
      "outputs": []
    },
    {
      "cell_type": "code",
      "source": [
        "plt.figure(figsize=(20, 7))\n",
        "fig = sns.lineplot(x=data['Year'], y=data['Neglected tropical diseases and malaria'], hue=data['Entity'])\n",
        "plt.show()"
      ],
      "metadata": {
        "id": "O7bOp1jS7qkV"
      },
      "execution_count": null,
      "outputs": []
    },
    {
      "cell_type": "code",
      "source": [
        "plt.figure(figsize=(20, 7))\n",
        "fig = sns.lineplot(x=data['Year'], y=data['Neurological disorders'], hue=data['Entity'])\n",
        "plt.show()"
      ],
      "metadata": {
        "id": "VXKYqXst71ug"
      },
      "execution_count": null,
      "outputs": []
    },
    {
      "cell_type": "markdown",
      "source": [
        "**CONCLUSION : From the above 2 graphs, it is clearly visible that tropical diseases have huge variations i.e. they are highly represented whereas the neurological disorders generally stays low even if it is growing.**"
      ],
      "metadata": {
        "id": "BAEZLT2f_bOS"
      }
    },
    {
      "cell_type": "markdown",
      "source": [
        "**--------------------------------------------------------------------------------------------------------------------------------------------**"
      ],
      "metadata": {
        "id": "2qbxeyryAM9U"
      }
    },
    {
      "cell_type": "markdown",
      "source": [
        "**QUESTION-4 : Can we identify any outliers or extreme values in the disease burden data? How do they impact the overall analysis? Perform the required visualization task.**"
      ],
      "metadata": {
        "id": "GqNxbVCCAQEd"
      }
    },
    {
      "cell_type": "code",
      "source": [
        "# scatter plot\n",
        "ax = sns.scatterplot(x='Year', y='Cardiovascular diseases', data=data, s=50)\n",
        "\n",
        "# notations indicating an outlier\n",
        "ax.annotate('Outlier', xy=(190,105), xytext=(183,102), fontsize=14,\n",
        "            arrowprops=dict(arrowstyle='->', ec='grey', lw=2), bbox = dict(boxstyle=\"round\", fc=\"0.8\"))\n",
        "ax.annotate('Outlier', xy=(165,85), xytext=(158,82), fontsize=14,\n",
        "            arrowprops=dict(arrowstyle='->', ec='grey', lw=2), bbox = dict(boxstyle=\"round\", fc=\"0.8\"))\n",
        "\n",
        "# ticks\n",
        "plt.xticks(fontsize=14)\n",
        "plt.yticks(fontsize=14)\n",
        "\n",
        "# labels and title\n",
        "plt.xlabel('Year', fontsize=14)\n",
        "plt.ylabel('Cardiovascular diseases', fontsize=14)\n",
        "plt.title('Relation between disease and Year', fontsize=20);"
      ],
      "metadata": {
        "id": "WwqQOAF4_XT4"
      },
      "execution_count": null,
      "outputs": []
    },
    {
      "cell_type": "code",
      "source": [
        "# scatter plot\n",
        "ax = sns.scatterplot(x='Year', y='Neurological disorders', data=data, s=50)\n",
        "\n",
        "# notations indicating an outlier\n",
        "ax.annotate('Outlier', xy=(190,105), xytext=(183,102), fontsize=14,\n",
        "            arrowprops=dict(arrowstyle='->', ec='grey', lw=2), bbox = dict(boxstyle=\"round\", fc=\"0.8\"))\n",
        "ax.annotate('Outlier', xy=(165,85), xytext=(158,82), fontsize=14,\n",
        "            arrowprops=dict(arrowstyle='->', ec='grey', lw=2), bbox = dict(boxstyle=\"round\", fc=\"0.8\"))\n",
        "\n",
        "# ticks\n",
        "plt.xticks(fontsize=14)\n",
        "plt.yticks(fontsize=14)\n",
        "\n",
        "# labels and title\n",
        "plt.xlabel('Year', fontsize=14)\n",
        "plt.ylabel('Neurological disorders', fontsize=14)\n",
        "plt.title('Relation between disease and Year', fontsize=20);"
      ],
      "metadata": {
        "id": "FZW85ITLBN5L"
      },
      "execution_count": null,
      "outputs": []
    },
    {
      "cell_type": "code",
      "source": [
        "# scatter plot\n",
        "ax = sns.scatterplot(x='Year', y='Chronic respiratory diseases', data=data, s=50)\n",
        "\n",
        "# notations indicating an outlier\n",
        "ax.annotate('Outlier', xy=(190,105), xytext=(183,102), fontsize=14,\n",
        "            arrowprops=dict(arrowstyle='->', ec='grey', lw=2), bbox = dict(boxstyle=\"round\", fc=\"0.8\"))\n",
        "ax.annotate('Outlier', xy=(165,85), xytext=(158,82), fontsize=14,\n",
        "            arrowprops=dict(arrowstyle='->', ec='grey', lw=2), bbox = dict(boxstyle=\"round\", fc=\"0.8\"))\n",
        "\n",
        "# ticks\n",
        "plt.xticks(fontsize=14)\n",
        "plt.yticks(fontsize=14)\n",
        "\n",
        "# labels and title\n",
        "plt.xlabel('Year', fontsize=14)\n",
        "plt.ylabel('Chronic respiratory diseases', fontsize=14)\n",
        "plt.title('Relation between disease and Year', fontsize=20);"
      ],
      "metadata": {
        "id": "vVcL3JDqB_Wb"
      },
      "execution_count": null,
      "outputs": []
    },
    {
      "cell_type": "code",
      "source": [
        "# scatter plot\n",
        "ax = sns.scatterplot(x='Year', y='Self-harm', data=data, s=50)\n",
        "\n",
        "# notations indicating an outlier\n",
        "ax.annotate('Outlier', xy=(190,105), xytext=(183,102), fontsize=14,\n",
        "            arrowprops=dict(arrowstyle='->', ec='grey', lw=2), bbox = dict(boxstyle=\"round\", fc=\"0.8\"))\n",
        "ax.annotate('Outlier', xy=(165,85), xytext=(158,82), fontsize=14,\n",
        "            arrowprops=dict(arrowstyle='->', ec='grey', lw=2), bbox = dict(boxstyle=\"round\", fc=\"0.8\"))\n",
        "\n",
        "# ticks\n",
        "plt.xticks(fontsize=14)\n",
        "plt.yticks(fontsize=14)\n",
        "\n",
        "# labels and title\n",
        "plt.xlabel('Year', fontsize=14)\n",
        "plt.ylabel('Self-harm', fontsize=14)\n",
        "plt.title('Relation between disease and Year', fontsize=20);"
      ],
      "metadata": {
        "id": "DSyvRdSzCbHU"
      },
      "execution_count": null,
      "outputs": []
    },
    {
      "cell_type": "markdown",
      "source": [
        "**CONCLUSION : Thus, we can conclude that our dataset contains both outliers and extreme values. Since an outlier is one that deviates from the rest of the values, it is visible that the point above the year 1995 is an outlier in the 1st 3 plots. Also, we can see other trends including the extreme values in our plots**"
      ],
      "metadata": {
        "id": "oA5Lem_mCjF9"
      }
    },
    {
      "cell_type": "markdown",
      "source": [
        "**--------------------------------------------------------------------------------------------------------------------------------------------**"
      ],
      "metadata": {
        "id": "xgfYVs_vDdNG"
      }
    },
    {
      "cell_type": "markdown",
      "source": [
        "**QUESTION-5 : Perform preprocessing and normalization on the data? How data normalization will help you in model training and prediction.**"
      ],
      "metadata": {
        "id": "bm6OGN36DgGR"
      }
    },
    {
      "cell_type": "code",
      "source": [
        "new_data = data[data['Code'] == 'Other']\n",
        "new_data.head()"
      ],
      "metadata": {
        "id": "p7zNf16vChov"
      },
      "execution_count": null,
      "outputs": []
    },
    {
      "cell_type": "code",
      "source": [
        "new_data.shape"
      ],
      "metadata": {
        "id": "fD9bqNANEwTQ"
      },
      "execution_count": null,
      "outputs": []
    },
    {
      "cell_type": "code",
      "source": [
        "new_data['Entity'].value_counts(normalize=True)"
      ],
      "metadata": {
        "id": "9pRR6c-eE4W5"
      },
      "execution_count": null,
      "outputs": []
    },
    {
      "cell_type": "markdown",
      "source": [
        "**CONCLUSION :\n",
        "(1) Preprocessing which involves treating\n",
        "missing values helps in making the data fit for the ML model since the ML model does not take NaN values.\n",
        "Preprocessing for the given dataset has already been done in the 1st question.\n",
        "(2) Data normalization, on the other hand, is essential for improving model performance by ensuring all features are on a similar scale, allowing the model to make better-informed decisions. It also helps in handling the outliners.**\n",
        "\n",
        "**The above code explains normalising the data for diff entities or regions for the code = 'Other'.**"
      ],
      "metadata": {
        "id": "vkZB8HAeG7Kb"
      }
    },
    {
      "cell_type": "markdown",
      "source": [
        "**--------------------------------------------------------------------------------------------------------------------------------------------**"
      ],
      "metadata": {
        "id": "CRhQ2pTGI_y-"
      }
    },
    {
      "cell_type": "markdown",
      "source": [
        "# **TASK 2 - Classification/Regression**"
      ],
      "metadata": {
        "id": "Xx1zT0wkJImA"
      }
    },
    {
      "cell_type": "markdown",
      "source": [
        "Perform following steps on the same dataset which you used for EDA.\n",
        "> - Data Preprocessing (as per requirement)\n",
        "> - Feature Engineering\n",
        "> - Split dataset in train-test (80:20 ratio)\n",
        "> - Model selection\n",
        "> - Model training\n",
        "> - Model evaluation\n",
        "> - Fine-tune the Model\n",
        "> - Make predictions\n",
        "\n",
        "Summarize your model's performance by evaluation metrices\n",
        "\n"
      ],
      "metadata": {
        "id": "glXi_qALwz7v"
      }
    },
    {
      "cell_type": "code",
      "source": [
        "from sklearn.linear_model import LogisticRegression\n",
        "from sklearn.linear_model import LinearRegression\n",
        "from sklearn.metrics import accuracy_score"
      ],
      "metadata": {
        "id": "3UNqCiPvFEyc"
      },
      "execution_count": 143,
      "outputs": []
    },
    {
      "cell_type": "markdown",
      "source": [
        "***Data Preprocessing :***\n",
        "(Already done in Q1 of 1st task)("
      ],
      "metadata": {
        "id": "rdbs1dCPZp2i"
      }
    },
    {
      "cell_type": "code",
      "source": [
        "data.head()"
      ],
      "metadata": {
        "colab": {
          "base_uri": "https://localhost:8080/",
          "height": 369
        },
        "id": "oQc4an98bHnd",
        "outputId": "314679cf-858d-45a3-c58a-273565347702"
      },
      "execution_count": 127,
      "outputs": [
        {
          "output_type": "execute_result",
          "data": {
            "text/plain": [
              "   Unnamed: 0       Entity Code  Year  Self-harm  \\\n",
              "0           0  Afghanistan  AFG  1990   0.305874   \n",
              "1           1  Afghanistan  AFG  1991   0.312853   \n",
              "2           2  Afghanistan  AFG  1992   0.328217   \n",
              "3           3  Afghanistan  AFG  1993   0.332590   \n",
              "4           4  Afghanistan  AFG  1994   0.324567   \n",
              "\n",
              "   Exposure to forces of nature  Conflict and terrorism  \\\n",
              "0                      0.007185                3.688980   \n",
              "1                      0.662918                4.598062   \n",
              "2                      0.293873                4.939704   \n",
              "3                      0.114703                4.546126   \n",
              "4                      0.084153                6.225331   \n",
              "\n",
              "   Interpersonal violence  Neglected tropical diseases and malaria  \\\n",
              "0                0.829299                                 1.118338   \n",
              "1                1.007482                                 1.136197   \n",
              "2                1.057353                                 1.100388   \n",
              "3                1.085709                                 0.964654   \n",
              "4                1.103499                                 0.922281   \n",
              "\n",
              "   Substance use disorders  ...  Other non-communicable diseases  \\\n",
              "0                 0.187690  ...                        11.937438   \n",
              "1                 0.193772  ...                        11.866293   \n",
              "2                 0.204869  ...                        12.268632   \n",
              "3                 0.206346  ...                        12.497789   \n",
              "4                 0.200465  ...                        12.183113   \n",
              "\n",
              "   Maternal disorders  Unintentional injuries  Musculoskeletal disorders  \\\n",
              "0            1.347937                3.807512                   0.937570   \n",
              "1            1.376094                4.350370                   0.921341   \n",
              "2            1.436542                3.941653                   0.900800   \n",
              "3            1.448949                3.797663                   0.865468   \n",
              "4            1.410758                3.711383                   0.823579   \n",
              "\n",
              "   Neoplasms  Mental disorders  Neurological disorders  \\\n",
              "0   3.269981          1.696670                1.283453   \n",
              "1   3.130858          1.734281                1.269533   \n",
              "2   2.977764          1.791189                1.268217   \n",
              "3   2.837313          1.776779                1.244622   \n",
              "4   2.699818          1.712986                1.198240   \n",
              "\n",
              "   HIV/AIDS and sexually transmitted infections  Transport injuries  \\\n",
              "0                                      0.121302            2.375831   \n",
              "1                                      0.123435            2.353230   \n",
              "2                                      0.146242            2.420953   \n",
              "3                                      0.170525            2.484723   \n",
              "4                                      0.171896            2.407289   \n",
              "\n",
              "   Sense organ diseases  \n",
              "0              0.646459  \n",
              "1              0.626081  \n",
              "2              0.598476  \n",
              "3              0.566259  \n",
              "4              0.535983  \n",
              "\n",
              "[5 rows x 29 columns]"
            ],
            "text/html": [
              "\n",
              "  <div id=\"df-f549583f-653e-4d03-93a2-9194ca2265b2\">\n",
              "    <div class=\"colab-df-container\">\n",
              "      <div>\n",
              "<style scoped>\n",
              "    .dataframe tbody tr th:only-of-type {\n",
              "        vertical-align: middle;\n",
              "    }\n",
              "\n",
              "    .dataframe tbody tr th {\n",
              "        vertical-align: top;\n",
              "    }\n",
              "\n",
              "    .dataframe thead th {\n",
              "        text-align: right;\n",
              "    }\n",
              "</style>\n",
              "<table border=\"1\" class=\"dataframe\">\n",
              "  <thead>\n",
              "    <tr style=\"text-align: right;\">\n",
              "      <th></th>\n",
              "      <th>Unnamed: 0</th>\n",
              "      <th>Entity</th>\n",
              "      <th>Code</th>\n",
              "      <th>Year</th>\n",
              "      <th>Self-harm</th>\n",
              "      <th>Exposure to forces of nature</th>\n",
              "      <th>Conflict and terrorism</th>\n",
              "      <th>Interpersonal violence</th>\n",
              "      <th>Neglected tropical diseases and malaria</th>\n",
              "      <th>Substance use disorders</th>\n",
              "      <th>...</th>\n",
              "      <th>Other non-communicable diseases</th>\n",
              "      <th>Maternal disorders</th>\n",
              "      <th>Unintentional injuries</th>\n",
              "      <th>Musculoskeletal disorders</th>\n",
              "      <th>Neoplasms</th>\n",
              "      <th>Mental disorders</th>\n",
              "      <th>Neurological disorders</th>\n",
              "      <th>HIV/AIDS and sexually transmitted infections</th>\n",
              "      <th>Transport injuries</th>\n",
              "      <th>Sense organ diseases</th>\n",
              "    </tr>\n",
              "  </thead>\n",
              "  <tbody>\n",
              "    <tr>\n",
              "      <th>0</th>\n",
              "      <td>0</td>\n",
              "      <td>Afghanistan</td>\n",
              "      <td>AFG</td>\n",
              "      <td>1990</td>\n",
              "      <td>0.305874</td>\n",
              "      <td>0.007185</td>\n",
              "      <td>3.688980</td>\n",
              "      <td>0.829299</td>\n",
              "      <td>1.118338</td>\n",
              "      <td>0.187690</td>\n",
              "      <td>...</td>\n",
              "      <td>11.937438</td>\n",
              "      <td>1.347937</td>\n",
              "      <td>3.807512</td>\n",
              "      <td>0.937570</td>\n",
              "      <td>3.269981</td>\n",
              "      <td>1.696670</td>\n",
              "      <td>1.283453</td>\n",
              "      <td>0.121302</td>\n",
              "      <td>2.375831</td>\n",
              "      <td>0.646459</td>\n",
              "    </tr>\n",
              "    <tr>\n",
              "      <th>1</th>\n",
              "      <td>1</td>\n",
              "      <td>Afghanistan</td>\n",
              "      <td>AFG</td>\n",
              "      <td>1991</td>\n",
              "      <td>0.312853</td>\n",
              "      <td>0.662918</td>\n",
              "      <td>4.598062</td>\n",
              "      <td>1.007482</td>\n",
              "      <td>1.136197</td>\n",
              "      <td>0.193772</td>\n",
              "      <td>...</td>\n",
              "      <td>11.866293</td>\n",
              "      <td>1.376094</td>\n",
              "      <td>4.350370</td>\n",
              "      <td>0.921341</td>\n",
              "      <td>3.130858</td>\n",
              "      <td>1.734281</td>\n",
              "      <td>1.269533</td>\n",
              "      <td>0.123435</td>\n",
              "      <td>2.353230</td>\n",
              "      <td>0.626081</td>\n",
              "    </tr>\n",
              "    <tr>\n",
              "      <th>2</th>\n",
              "      <td>2</td>\n",
              "      <td>Afghanistan</td>\n",
              "      <td>AFG</td>\n",
              "      <td>1992</td>\n",
              "      <td>0.328217</td>\n",
              "      <td>0.293873</td>\n",
              "      <td>4.939704</td>\n",
              "      <td>1.057353</td>\n",
              "      <td>1.100388</td>\n",
              "      <td>0.204869</td>\n",
              "      <td>...</td>\n",
              "      <td>12.268632</td>\n",
              "      <td>1.436542</td>\n",
              "      <td>3.941653</td>\n",
              "      <td>0.900800</td>\n",
              "      <td>2.977764</td>\n",
              "      <td>1.791189</td>\n",
              "      <td>1.268217</td>\n",
              "      <td>0.146242</td>\n",
              "      <td>2.420953</td>\n",
              "      <td>0.598476</td>\n",
              "    </tr>\n",
              "    <tr>\n",
              "      <th>3</th>\n",
              "      <td>3</td>\n",
              "      <td>Afghanistan</td>\n",
              "      <td>AFG</td>\n",
              "      <td>1993</td>\n",
              "      <td>0.332590</td>\n",
              "      <td>0.114703</td>\n",
              "      <td>4.546126</td>\n",
              "      <td>1.085709</td>\n",
              "      <td>0.964654</td>\n",
              "      <td>0.206346</td>\n",
              "      <td>...</td>\n",
              "      <td>12.497789</td>\n",
              "      <td>1.448949</td>\n",
              "      <td>3.797663</td>\n",
              "      <td>0.865468</td>\n",
              "      <td>2.837313</td>\n",
              "      <td>1.776779</td>\n",
              "      <td>1.244622</td>\n",
              "      <td>0.170525</td>\n",
              "      <td>2.484723</td>\n",
              "      <td>0.566259</td>\n",
              "    </tr>\n",
              "    <tr>\n",
              "      <th>4</th>\n",
              "      <td>4</td>\n",
              "      <td>Afghanistan</td>\n",
              "      <td>AFG</td>\n",
              "      <td>1994</td>\n",
              "      <td>0.324567</td>\n",
              "      <td>0.084153</td>\n",
              "      <td>6.225331</td>\n",
              "      <td>1.103499</td>\n",
              "      <td>0.922281</td>\n",
              "      <td>0.200465</td>\n",
              "      <td>...</td>\n",
              "      <td>12.183113</td>\n",
              "      <td>1.410758</td>\n",
              "      <td>3.711383</td>\n",
              "      <td>0.823579</td>\n",
              "      <td>2.699818</td>\n",
              "      <td>1.712986</td>\n",
              "      <td>1.198240</td>\n",
              "      <td>0.171896</td>\n",
              "      <td>2.407289</td>\n",
              "      <td>0.535983</td>\n",
              "    </tr>\n",
              "  </tbody>\n",
              "</table>\n",
              "<p>5 rows × 29 columns</p>\n",
              "</div>\n",
              "      <button class=\"colab-df-convert\" onclick=\"convertToInteractive('df-f549583f-653e-4d03-93a2-9194ca2265b2')\"\n",
              "              title=\"Convert this dataframe to an interactive table.\"\n",
              "              style=\"display:none;\">\n",
              "        \n",
              "  <svg xmlns=\"http://www.w3.org/2000/svg\" height=\"24px\"viewBox=\"0 0 24 24\"\n",
              "       width=\"24px\">\n",
              "    <path d=\"M0 0h24v24H0V0z\" fill=\"none\"/>\n",
              "    <path d=\"M18.56 5.44l.94 2.06.94-2.06 2.06-.94-2.06-.94-.94-2.06-.94 2.06-2.06.94zm-11 1L8.5 8.5l.94-2.06 2.06-.94-2.06-.94L8.5 2.5l-.94 2.06-2.06.94zm10 10l.94 2.06.94-2.06 2.06-.94-2.06-.94-.94-2.06-.94 2.06-2.06.94z\"/><path d=\"M17.41 7.96l-1.37-1.37c-.4-.4-.92-.59-1.43-.59-.52 0-1.04.2-1.43.59L10.3 9.45l-7.72 7.72c-.78.78-.78 2.05 0 2.83L4 21.41c.39.39.9.59 1.41.59.51 0 1.02-.2 1.41-.59l7.78-7.78 2.81-2.81c.8-.78.8-2.07 0-2.86zM5.41 20L4 18.59l7.72-7.72 1.47 1.35L5.41 20z\"/>\n",
              "  </svg>\n",
              "      </button>\n",
              "      \n",
              "  <style>\n",
              "    .colab-df-container {\n",
              "      display:flex;\n",
              "      flex-wrap:wrap;\n",
              "      gap: 12px;\n",
              "    }\n",
              "\n",
              "    .colab-df-convert {\n",
              "      background-color: #E8F0FE;\n",
              "      border: none;\n",
              "      border-radius: 50%;\n",
              "      cursor: pointer;\n",
              "      display: none;\n",
              "      fill: #1967D2;\n",
              "      height: 32px;\n",
              "      padding: 0 0 0 0;\n",
              "      width: 32px;\n",
              "    }\n",
              "\n",
              "    .colab-df-convert:hover {\n",
              "      background-color: #E2EBFA;\n",
              "      box-shadow: 0px 1px 2px rgba(60, 64, 67, 0.3), 0px 1px 3px 1px rgba(60, 64, 67, 0.15);\n",
              "      fill: #174EA6;\n",
              "    }\n",
              "\n",
              "    [theme=dark] .colab-df-convert {\n",
              "      background-color: #3B4455;\n",
              "      fill: #D2E3FC;\n",
              "    }\n",
              "\n",
              "    [theme=dark] .colab-df-convert:hover {\n",
              "      background-color: #434B5C;\n",
              "      box-shadow: 0px 1px 3px 1px rgba(0, 0, 0, 0.15);\n",
              "      filter: drop-shadow(0px 1px 2px rgba(0, 0, 0, 0.3));\n",
              "      fill: #FFFFFF;\n",
              "    }\n",
              "  </style>\n",
              "\n",
              "      <script>\n",
              "        const buttonEl =\n",
              "          document.querySelector('#df-f549583f-653e-4d03-93a2-9194ca2265b2 button.colab-df-convert');\n",
              "        buttonEl.style.display =\n",
              "          google.colab.kernel.accessAllowed ? 'block' : 'none';\n",
              "\n",
              "        async function convertToInteractive(key) {\n",
              "          const element = document.querySelector('#df-f549583f-653e-4d03-93a2-9194ca2265b2');\n",
              "          const dataTable =\n",
              "            await google.colab.kernel.invokeFunction('convertToInteractive',\n",
              "                                                     [key], {});\n",
              "          if (!dataTable) return;\n",
              "\n",
              "          const docLinkHtml = 'Like what you see? Visit the ' +\n",
              "            '<a target=\"_blank\" href=https://colab.research.google.com/notebooks/data_table.ipynb>data table notebook</a>'\n",
              "            + ' to learn more about interactive tables.';\n",
              "          element.innerHTML = '';\n",
              "          dataTable['output_type'] = 'display_data';\n",
              "          await google.colab.output.renderOutput(dataTable, element);\n",
              "          const docLink = document.createElement('div');\n",
              "          docLink.innerHTML = docLinkHtml;\n",
              "          element.appendChild(docLink);\n",
              "        }\n",
              "      </script>\n",
              "    </div>\n",
              "  </div>\n",
              "  "
            ]
          },
          "metadata": {},
          "execution_count": 127
        }
      ]
    },
    {
      "cell_type": "code",
      "source": [
        "data = data.drop(['Unnamed: 0'], axis=1)"
      ],
      "metadata": {
        "id": "ckcv4k48Zz41"
      },
      "execution_count": 128,
      "outputs": []
    },
    {
      "cell_type": "code",
      "source": [
        "data.head()"
      ],
      "metadata": {
        "colab": {
          "base_uri": "https://localhost:8080/",
          "height": 369
        },
        "id": "Uyj9NmF6epRf",
        "outputId": "3e0b6904-0a3b-4950-995c-3401fccf72f3"
      },
      "execution_count": 129,
      "outputs": [
        {
          "output_type": "execute_result",
          "data": {
            "text/plain": [
              "        Entity Code  Year  Self-harm  Exposure to forces of nature  \\\n",
              "0  Afghanistan  AFG  1990   0.305874                      0.007185   \n",
              "1  Afghanistan  AFG  1991   0.312853                      0.662918   \n",
              "2  Afghanistan  AFG  1992   0.328217                      0.293873   \n",
              "3  Afghanistan  AFG  1993   0.332590                      0.114703   \n",
              "4  Afghanistan  AFG  1994   0.324567                      0.084153   \n",
              "\n",
              "   Conflict and terrorism  Interpersonal violence  \\\n",
              "0                3.688980                0.829299   \n",
              "1                4.598062                1.007482   \n",
              "2                4.939704                1.057353   \n",
              "3                4.546126                1.085709   \n",
              "4                6.225331                1.103499   \n",
              "\n",
              "   Neglected tropical diseases and malaria  Substance use disorders  \\\n",
              "0                                 1.118338                 0.187690   \n",
              "1                                 1.136197                 0.193772   \n",
              "2                                 1.100388                 0.204869   \n",
              "3                                 0.964654                 0.206346   \n",
              "4                                 0.922281                 0.200465   \n",
              "\n",
              "   Skin and subcutaneous diseases  ...  Other non-communicable diseases  \\\n",
              "0                        0.415665  ...                        11.937438   \n",
              "1                        0.424702  ...                        11.866293   \n",
              "2                        0.438182  ...                        12.268632   \n",
              "3                        0.434898  ...                        12.497789   \n",
              "4                        0.420710  ...                        12.183113   \n",
              "\n",
              "   Maternal disorders  Unintentional injuries  Musculoskeletal disorders  \\\n",
              "0            1.347937                3.807512                   0.937570   \n",
              "1            1.376094                4.350370                   0.921341   \n",
              "2            1.436542                3.941653                   0.900800   \n",
              "3            1.448949                3.797663                   0.865468   \n",
              "4            1.410758                3.711383                   0.823579   \n",
              "\n",
              "   Neoplasms  Mental disorders  Neurological disorders  \\\n",
              "0   3.269981          1.696670                1.283453   \n",
              "1   3.130858          1.734281                1.269533   \n",
              "2   2.977764          1.791189                1.268217   \n",
              "3   2.837313          1.776779                1.244622   \n",
              "4   2.699818          1.712986                1.198240   \n",
              "\n",
              "   HIV/AIDS and sexually transmitted infections  Transport injuries  \\\n",
              "0                                      0.121302            2.375831   \n",
              "1                                      0.123435            2.353230   \n",
              "2                                      0.146242            2.420953   \n",
              "3                                      0.170525            2.484723   \n",
              "4                                      0.171896            2.407289   \n",
              "\n",
              "   Sense organ diseases  \n",
              "0              0.646459  \n",
              "1              0.626081  \n",
              "2              0.598476  \n",
              "3              0.566259  \n",
              "4              0.535983  \n",
              "\n",
              "[5 rows x 28 columns]"
            ],
            "text/html": [
              "\n",
              "  <div id=\"df-d8691866-4145-4cd9-a4f2-7456e261b2c7\">\n",
              "    <div class=\"colab-df-container\">\n",
              "      <div>\n",
              "<style scoped>\n",
              "    .dataframe tbody tr th:only-of-type {\n",
              "        vertical-align: middle;\n",
              "    }\n",
              "\n",
              "    .dataframe tbody tr th {\n",
              "        vertical-align: top;\n",
              "    }\n",
              "\n",
              "    .dataframe thead th {\n",
              "        text-align: right;\n",
              "    }\n",
              "</style>\n",
              "<table border=\"1\" class=\"dataframe\">\n",
              "  <thead>\n",
              "    <tr style=\"text-align: right;\">\n",
              "      <th></th>\n",
              "      <th>Entity</th>\n",
              "      <th>Code</th>\n",
              "      <th>Year</th>\n",
              "      <th>Self-harm</th>\n",
              "      <th>Exposure to forces of nature</th>\n",
              "      <th>Conflict and terrorism</th>\n",
              "      <th>Interpersonal violence</th>\n",
              "      <th>Neglected tropical diseases and malaria</th>\n",
              "      <th>Substance use disorders</th>\n",
              "      <th>Skin and subcutaneous diseases</th>\n",
              "      <th>...</th>\n",
              "      <th>Other non-communicable diseases</th>\n",
              "      <th>Maternal disorders</th>\n",
              "      <th>Unintentional injuries</th>\n",
              "      <th>Musculoskeletal disorders</th>\n",
              "      <th>Neoplasms</th>\n",
              "      <th>Mental disorders</th>\n",
              "      <th>Neurological disorders</th>\n",
              "      <th>HIV/AIDS and sexually transmitted infections</th>\n",
              "      <th>Transport injuries</th>\n",
              "      <th>Sense organ diseases</th>\n",
              "    </tr>\n",
              "  </thead>\n",
              "  <tbody>\n",
              "    <tr>\n",
              "      <th>0</th>\n",
              "      <td>Afghanistan</td>\n",
              "      <td>AFG</td>\n",
              "      <td>1990</td>\n",
              "      <td>0.305874</td>\n",
              "      <td>0.007185</td>\n",
              "      <td>3.688980</td>\n",
              "      <td>0.829299</td>\n",
              "      <td>1.118338</td>\n",
              "      <td>0.187690</td>\n",
              "      <td>0.415665</td>\n",
              "      <td>...</td>\n",
              "      <td>11.937438</td>\n",
              "      <td>1.347937</td>\n",
              "      <td>3.807512</td>\n",
              "      <td>0.937570</td>\n",
              "      <td>3.269981</td>\n",
              "      <td>1.696670</td>\n",
              "      <td>1.283453</td>\n",
              "      <td>0.121302</td>\n",
              "      <td>2.375831</td>\n",
              "      <td>0.646459</td>\n",
              "    </tr>\n",
              "    <tr>\n",
              "      <th>1</th>\n",
              "      <td>Afghanistan</td>\n",
              "      <td>AFG</td>\n",
              "      <td>1991</td>\n",
              "      <td>0.312853</td>\n",
              "      <td>0.662918</td>\n",
              "      <td>4.598062</td>\n",
              "      <td>1.007482</td>\n",
              "      <td>1.136197</td>\n",
              "      <td>0.193772</td>\n",
              "      <td>0.424702</td>\n",
              "      <td>...</td>\n",
              "      <td>11.866293</td>\n",
              "      <td>1.376094</td>\n",
              "      <td>4.350370</td>\n",
              "      <td>0.921341</td>\n",
              "      <td>3.130858</td>\n",
              "      <td>1.734281</td>\n",
              "      <td>1.269533</td>\n",
              "      <td>0.123435</td>\n",
              "      <td>2.353230</td>\n",
              "      <td>0.626081</td>\n",
              "    </tr>\n",
              "    <tr>\n",
              "      <th>2</th>\n",
              "      <td>Afghanistan</td>\n",
              "      <td>AFG</td>\n",
              "      <td>1992</td>\n",
              "      <td>0.328217</td>\n",
              "      <td>0.293873</td>\n",
              "      <td>4.939704</td>\n",
              "      <td>1.057353</td>\n",
              "      <td>1.100388</td>\n",
              "      <td>0.204869</td>\n",
              "      <td>0.438182</td>\n",
              "      <td>...</td>\n",
              "      <td>12.268632</td>\n",
              "      <td>1.436542</td>\n",
              "      <td>3.941653</td>\n",
              "      <td>0.900800</td>\n",
              "      <td>2.977764</td>\n",
              "      <td>1.791189</td>\n",
              "      <td>1.268217</td>\n",
              "      <td>0.146242</td>\n",
              "      <td>2.420953</td>\n",
              "      <td>0.598476</td>\n",
              "    </tr>\n",
              "    <tr>\n",
              "      <th>3</th>\n",
              "      <td>Afghanistan</td>\n",
              "      <td>AFG</td>\n",
              "      <td>1993</td>\n",
              "      <td>0.332590</td>\n",
              "      <td>0.114703</td>\n",
              "      <td>4.546126</td>\n",
              "      <td>1.085709</td>\n",
              "      <td>0.964654</td>\n",
              "      <td>0.206346</td>\n",
              "      <td>0.434898</td>\n",
              "      <td>...</td>\n",
              "      <td>12.497789</td>\n",
              "      <td>1.448949</td>\n",
              "      <td>3.797663</td>\n",
              "      <td>0.865468</td>\n",
              "      <td>2.837313</td>\n",
              "      <td>1.776779</td>\n",
              "      <td>1.244622</td>\n",
              "      <td>0.170525</td>\n",
              "      <td>2.484723</td>\n",
              "      <td>0.566259</td>\n",
              "    </tr>\n",
              "    <tr>\n",
              "      <th>4</th>\n",
              "      <td>Afghanistan</td>\n",
              "      <td>AFG</td>\n",
              "      <td>1994</td>\n",
              "      <td>0.324567</td>\n",
              "      <td>0.084153</td>\n",
              "      <td>6.225331</td>\n",
              "      <td>1.103499</td>\n",
              "      <td>0.922281</td>\n",
              "      <td>0.200465</td>\n",
              "      <td>0.420710</td>\n",
              "      <td>...</td>\n",
              "      <td>12.183113</td>\n",
              "      <td>1.410758</td>\n",
              "      <td>3.711383</td>\n",
              "      <td>0.823579</td>\n",
              "      <td>2.699818</td>\n",
              "      <td>1.712986</td>\n",
              "      <td>1.198240</td>\n",
              "      <td>0.171896</td>\n",
              "      <td>2.407289</td>\n",
              "      <td>0.535983</td>\n",
              "    </tr>\n",
              "  </tbody>\n",
              "</table>\n",
              "<p>5 rows × 28 columns</p>\n",
              "</div>\n",
              "      <button class=\"colab-df-convert\" onclick=\"convertToInteractive('df-d8691866-4145-4cd9-a4f2-7456e261b2c7')\"\n",
              "              title=\"Convert this dataframe to an interactive table.\"\n",
              "              style=\"display:none;\">\n",
              "        \n",
              "  <svg xmlns=\"http://www.w3.org/2000/svg\" height=\"24px\"viewBox=\"0 0 24 24\"\n",
              "       width=\"24px\">\n",
              "    <path d=\"M0 0h24v24H0V0z\" fill=\"none\"/>\n",
              "    <path d=\"M18.56 5.44l.94 2.06.94-2.06 2.06-.94-2.06-.94-.94-2.06-.94 2.06-2.06.94zm-11 1L8.5 8.5l.94-2.06 2.06-.94-2.06-.94L8.5 2.5l-.94 2.06-2.06.94zm10 10l.94 2.06.94-2.06 2.06-.94-2.06-.94-.94-2.06-.94 2.06-2.06.94z\"/><path d=\"M17.41 7.96l-1.37-1.37c-.4-.4-.92-.59-1.43-.59-.52 0-1.04.2-1.43.59L10.3 9.45l-7.72 7.72c-.78.78-.78 2.05 0 2.83L4 21.41c.39.39.9.59 1.41.59.51 0 1.02-.2 1.41-.59l7.78-7.78 2.81-2.81c.8-.78.8-2.07 0-2.86zM5.41 20L4 18.59l7.72-7.72 1.47 1.35L5.41 20z\"/>\n",
              "  </svg>\n",
              "      </button>\n",
              "      \n",
              "  <style>\n",
              "    .colab-df-container {\n",
              "      display:flex;\n",
              "      flex-wrap:wrap;\n",
              "      gap: 12px;\n",
              "    }\n",
              "\n",
              "    .colab-df-convert {\n",
              "      background-color: #E8F0FE;\n",
              "      border: none;\n",
              "      border-radius: 50%;\n",
              "      cursor: pointer;\n",
              "      display: none;\n",
              "      fill: #1967D2;\n",
              "      height: 32px;\n",
              "      padding: 0 0 0 0;\n",
              "      width: 32px;\n",
              "    }\n",
              "\n",
              "    .colab-df-convert:hover {\n",
              "      background-color: #E2EBFA;\n",
              "      box-shadow: 0px 1px 2px rgba(60, 64, 67, 0.3), 0px 1px 3px 1px rgba(60, 64, 67, 0.15);\n",
              "      fill: #174EA6;\n",
              "    }\n",
              "\n",
              "    [theme=dark] .colab-df-convert {\n",
              "      background-color: #3B4455;\n",
              "      fill: #D2E3FC;\n",
              "    }\n",
              "\n",
              "    [theme=dark] .colab-df-convert:hover {\n",
              "      background-color: #434B5C;\n",
              "      box-shadow: 0px 1px 3px 1px rgba(0, 0, 0, 0.15);\n",
              "      filter: drop-shadow(0px 1px 2px rgba(0, 0, 0, 0.3));\n",
              "      fill: #FFFFFF;\n",
              "    }\n",
              "  </style>\n",
              "\n",
              "      <script>\n",
              "        const buttonEl =\n",
              "          document.querySelector('#df-d8691866-4145-4cd9-a4f2-7456e261b2c7 button.colab-df-convert');\n",
              "        buttonEl.style.display =\n",
              "          google.colab.kernel.accessAllowed ? 'block' : 'none';\n",
              "\n",
              "        async function convertToInteractive(key) {\n",
              "          const element = document.querySelector('#df-d8691866-4145-4cd9-a4f2-7456e261b2c7');\n",
              "          const dataTable =\n",
              "            await google.colab.kernel.invokeFunction('convertToInteractive',\n",
              "                                                     [key], {});\n",
              "          if (!dataTable) return;\n",
              "\n",
              "          const docLinkHtml = 'Like what you see? Visit the ' +\n",
              "            '<a target=\"_blank\" href=https://colab.research.google.com/notebooks/data_table.ipynb>data table notebook</a>'\n",
              "            + ' to learn more about interactive tables.';\n",
              "          element.innerHTML = '';\n",
              "          dataTable['output_type'] = 'display_data';\n",
              "          await google.colab.output.renderOutput(dataTable, element);\n",
              "          const docLink = document.createElement('div');\n",
              "          docLink.innerHTML = docLinkHtml;\n",
              "          element.appendChild(docLink);\n",
              "        }\n",
              "      </script>\n",
              "    </div>\n",
              "  </div>\n",
              "  "
            ]
          },
          "metadata": {},
          "execution_count": 129
        }
      ]
    },
    {
      "cell_type": "code",
      "source": [
        "data.isnull().sum()"
      ],
      "metadata": {
        "colab": {
          "base_uri": "https://localhost:8080/"
        },
        "id": "6lD_b-c8Zz7L",
        "outputId": "13612c94-1158-42c0-dc3d-d8ba1c69dd7c"
      },
      "execution_count": 130,
      "outputs": [
        {
          "output_type": "execute_result",
          "data": {
            "text/plain": [
              "Entity                                          0\n",
              "Code                                            0\n",
              "Year                                            0\n",
              "Self-harm                                       0\n",
              "Exposure to forces of nature                    0\n",
              "Conflict and terrorism                          0\n",
              "Interpersonal violence                          0\n",
              "Neglected tropical diseases and malaria         0\n",
              "Substance use disorders                         0\n",
              "Skin and subcutaneous diseases                  0\n",
              "Enteric infections                              0\n",
              "Diabetes and kidney diseases                    0\n",
              "Cardiovascular diseases                         0\n",
              "Digestive diseases                              0\n",
              "Nutritional deficiencies                        0\n",
              "Respiratory infections and tuberculosis         0\n",
              "Neonatal disorders                              0\n",
              "Chronic respiratory diseases                    0\n",
              "Other non-communicable diseases                 0\n",
              "Maternal disorders                              0\n",
              "Unintentional injuries                          0\n",
              "Musculoskeletal disorders                       0\n",
              "Neoplasms                                       0\n",
              "Mental disorders                                0\n",
              "Neurological disorders                          0\n",
              "HIV/AIDS and sexually transmitted infections    0\n",
              "Transport injuries                              0\n",
              "Sense organ diseases                            0\n",
              "dtype: int64"
            ]
          },
          "metadata": {},
          "execution_count": 130
        }
      ]
    },
    {
      "cell_type": "markdown",
      "source": [
        "***Feature Engineering :***"
      ],
      "metadata": {
        "id": "l9tOdAumfEzw"
      }
    },
    {
      "cell_type": "code",
      "source": [
        "data['Year'] = pd.to_datetime(data['Year'])"
      ],
      "metadata": {
        "id": "JAR5eBfpYkoV"
      },
      "execution_count": 133,
      "outputs": []
    },
    {
      "cell_type": "code",
      "source": [
        "data.dtypes"
      ],
      "metadata": {
        "colab": {
          "base_uri": "https://localhost:8080/"
        },
        "id": "x13v0OdMZN_8",
        "outputId": "ac0c5e9d-2168-4d53-f62d-5557cf4ab83d"
      },
      "execution_count": 73,
      "outputs": [
        {
          "output_type": "execute_result",
          "data": {
            "text/plain": [
              "Unnamed: 0                                               int64\n",
              "Entity                                                  object\n",
              "Code                                                    object\n",
              "Year                                            datetime64[ns]\n",
              "Self-harm                                              float64\n",
              "Exposure to forces of nature                           float64\n",
              "Conflict and terrorism                                 float64\n",
              "Interpersonal violence                                 float64\n",
              "Neglected tropical diseases and malaria                float64\n",
              "Substance use disorders                                float64\n",
              "Skin and subcutaneous diseases                         float64\n",
              "Enteric infections                                     float64\n",
              "Diabetes and kidney diseases                           float64\n",
              "Cardiovascular diseases                                float64\n",
              "Digestive diseases                                     float64\n",
              "Nutritional deficiencies                               float64\n",
              "Respiratory infections and tuberculosis                float64\n",
              "Neonatal disorders                                     float64\n",
              "Chronic respiratory diseases                           float64\n",
              "Other non-communicable diseases                        float64\n",
              "Maternal disorders                                     float64\n",
              "Unintentional injuries                                 float64\n",
              "Musculoskeletal disorders                              float64\n",
              "Neoplasms                                              float64\n",
              "Mental disorders                                       float64\n",
              "Neurological disorders                                 float64\n",
              "HIV/AIDS and sexually transmitted infections           float64\n",
              "Transport injuries                                     float64\n",
              "Sense organ diseases                                   float64\n",
              "dtype: object"
            ]
          },
          "metadata": {},
          "execution_count": 73
        }
      ]
    },
    {
      "cell_type": "code",
      "source": [
        "a = data['Year'][0]\n",
        "a"
      ],
      "metadata": {
        "colab": {
          "base_uri": "https://localhost:8080/"
        },
        "id": "A3UrXn_bZclk",
        "outputId": "cd612292-2852-432b-faa2-5e5fd8c02377"
      },
      "execution_count": 134,
      "outputs": [
        {
          "output_type": "execute_result",
          "data": {
            "text/plain": [
              "Timestamp('1970-01-01 00:00:00.000001990')"
            ]
          },
          "metadata": {},
          "execution_count": 134
        }
      ]
    },
    {
      "cell_type": "code",
      "source": [
        "a.dayofweek"
      ],
      "metadata": {
        "colab": {
          "base_uri": "https://localhost:8080/"
        },
        "id": "NuIenIsoZlXZ",
        "outputId": "f2834f71-aed9-4066-d9fd-44b718a13b48"
      },
      "execution_count": 135,
      "outputs": [
        {
          "output_type": "execute_result",
          "data": {
            "text/plain": [
              "3"
            ]
          },
          "metadata": {},
          "execution_count": 135
        }
      ]
    },
    {
      "cell_type": "code",
      "source": [
        "a.month"
      ],
      "metadata": {
        "colab": {
          "base_uri": "https://localhost:8080/"
        },
        "id": "CNoxuiDgfhRQ",
        "outputId": "60d41523-96f1-4a40-c77b-a1033447fb40"
      },
      "execution_count": 136,
      "outputs": [
        {
          "output_type": "execute_result",
          "data": {
            "text/plain": [
              "1"
            ]
          },
          "metadata": {},
          "execution_count": 136
        }
      ]
    },
    {
      "cell_type": "code",
      "source": [
        "a.day"
      ],
      "metadata": {
        "colab": {
          "base_uri": "https://localhost:8080/"
        },
        "id": "c7GfiYATfzqh",
        "outputId": "be8c844e-eba7-4c49-8f01-6d0849fb730b"
      },
      "execution_count": 137,
      "outputs": [
        {
          "output_type": "execute_result",
          "data": {
            "text/plain": [
              "1"
            ]
          },
          "metadata": {},
          "execution_count": 137
        }
      ]
    },
    {
      "cell_type": "code",
      "source": [
        "a.year"
      ],
      "metadata": {
        "colab": {
          "base_uri": "https://localhost:8080/"
        },
        "id": "k6wOyfHLf1Dk",
        "outputId": "c12efadf-bb8c-4e4f-a42b-9f02005cb095"
      },
      "execution_count": 138,
      "outputs": [
        {
          "output_type": "execute_result",
          "data": {
            "text/plain": [
              "1970"
            ]
          },
          "metadata": {},
          "execution_count": 138
        }
      ]
    },
    {
      "cell_type": "code",
      "source": [
        "data['Year'].dt.year"
      ],
      "metadata": {
        "colab": {
          "base_uri": "https://localhost:8080/"
        },
        "id": "CHSAgAxwf2q5",
        "outputId": "4c9b6314-07c8-4191-a650-234a0cd79249"
      },
      "execution_count": 139,
      "outputs": [
        {
          "output_type": "execute_result",
          "data": {
            "text/plain": [
              "0       1970\n",
              "1       1970\n",
              "2       1970\n",
              "3       1970\n",
              "4       1970\n",
              "        ... \n",
              "8005    1970\n",
              "8006    1970\n",
              "8007    1970\n",
              "8008    1970\n",
              "8009    1970\n",
              "Name: Year, Length: 8010, dtype: int64"
            ]
          },
          "metadata": {},
          "execution_count": 139
        }
      ]
    },
    {
      "cell_type": "code",
      "source": [
        "# Creating New features/Columns\n",
        "data['HOUR'] = data['Year'].dt.hour\n",
        "data['DAY'] = data['Year'].dt.day\n",
        "data['MONTH'] = data['Year'].dt.month\n",
        "data['DAYOFWEEK'] = data['Year'].dt.dayofweek\n",
        "data['DAYNAME'] = data['Year'].dt.day_name()"
      ],
      "metadata": {
        "id": "0JvETnJLf79T"
      },
      "execution_count": 140,
      "outputs": []
    },
    {
      "cell_type": "code",
      "source": [
        "data.head()"
      ],
      "metadata": {
        "colab": {
          "base_uri": "https://localhost:8080/",
          "height": 456
        },
        "id": "7Id66SMLgPNS",
        "outputId": "3b16792e-5b8b-4537-e3bd-eeb8cb954841"
      },
      "execution_count": 141,
      "outputs": [
        {
          "output_type": "execute_result",
          "data": {
            "text/plain": [
              "        Entity Code                          Year  Self-harm  \\\n",
              "0  Afghanistan  AFG 1970-01-01 00:00:00.000001990   0.305874   \n",
              "1  Afghanistan  AFG 1970-01-01 00:00:00.000001991   0.312853   \n",
              "2  Afghanistan  AFG 1970-01-01 00:00:00.000001992   0.328217   \n",
              "3  Afghanistan  AFG 1970-01-01 00:00:00.000001993   0.332590   \n",
              "4  Afghanistan  AFG 1970-01-01 00:00:00.000001994   0.324567   \n",
              "\n",
              "   Exposure to forces of nature  Conflict and terrorism  \\\n",
              "0                      0.007185                3.688980   \n",
              "1                      0.662918                4.598062   \n",
              "2                      0.293873                4.939704   \n",
              "3                      0.114703                4.546126   \n",
              "4                      0.084153                6.225331   \n",
              "\n",
              "   Interpersonal violence  Neglected tropical diseases and malaria  \\\n",
              "0                0.829299                                 1.118338   \n",
              "1                1.007482                                 1.136197   \n",
              "2                1.057353                                 1.100388   \n",
              "3                1.085709                                 0.964654   \n",
              "4                1.103499                                 0.922281   \n",
              "\n",
              "   Substance use disorders  Skin and subcutaneous diseases  ...  \\\n",
              "0                 0.187690                        0.415665  ...   \n",
              "1                 0.193772                        0.424702  ...   \n",
              "2                 0.204869                        0.438182  ...   \n",
              "3                 0.206346                        0.434898  ...   \n",
              "4                 0.200465                        0.420710  ...   \n",
              "\n",
              "   Mental disorders  Neurological disorders  \\\n",
              "0          1.696670                1.283453   \n",
              "1          1.734281                1.269533   \n",
              "2          1.791189                1.268217   \n",
              "3          1.776779                1.244622   \n",
              "4          1.712986                1.198240   \n",
              "\n",
              "   HIV/AIDS and sexually transmitted infections  Transport injuries  \\\n",
              "0                                      0.121302            2.375831   \n",
              "1                                      0.123435            2.353230   \n",
              "2                                      0.146242            2.420953   \n",
              "3                                      0.170525            2.484723   \n",
              "4                                      0.171896            2.407289   \n",
              "\n",
              "   Sense organ diseases  HOUR  DAY  MONTH  DAYOFWEEK   DAYNAME  \n",
              "0              0.646459     0    1      1          3  Thursday  \n",
              "1              0.626081     0    1      1          3  Thursday  \n",
              "2              0.598476     0    1      1          3  Thursday  \n",
              "3              0.566259     0    1      1          3  Thursday  \n",
              "4              0.535983     0    1      1          3  Thursday  \n",
              "\n",
              "[5 rows x 33 columns]"
            ],
            "text/html": [
              "\n",
              "  <div id=\"df-0979e3bb-4ea6-41bb-81d1-4d27c7147032\">\n",
              "    <div class=\"colab-df-container\">\n",
              "      <div>\n",
              "<style scoped>\n",
              "    .dataframe tbody tr th:only-of-type {\n",
              "        vertical-align: middle;\n",
              "    }\n",
              "\n",
              "    .dataframe tbody tr th {\n",
              "        vertical-align: top;\n",
              "    }\n",
              "\n",
              "    .dataframe thead th {\n",
              "        text-align: right;\n",
              "    }\n",
              "</style>\n",
              "<table border=\"1\" class=\"dataframe\">\n",
              "  <thead>\n",
              "    <tr style=\"text-align: right;\">\n",
              "      <th></th>\n",
              "      <th>Entity</th>\n",
              "      <th>Code</th>\n",
              "      <th>Year</th>\n",
              "      <th>Self-harm</th>\n",
              "      <th>Exposure to forces of nature</th>\n",
              "      <th>Conflict and terrorism</th>\n",
              "      <th>Interpersonal violence</th>\n",
              "      <th>Neglected tropical diseases and malaria</th>\n",
              "      <th>Substance use disorders</th>\n",
              "      <th>Skin and subcutaneous diseases</th>\n",
              "      <th>...</th>\n",
              "      <th>Mental disorders</th>\n",
              "      <th>Neurological disorders</th>\n",
              "      <th>HIV/AIDS and sexually transmitted infections</th>\n",
              "      <th>Transport injuries</th>\n",
              "      <th>Sense organ diseases</th>\n",
              "      <th>HOUR</th>\n",
              "      <th>DAY</th>\n",
              "      <th>MONTH</th>\n",
              "      <th>DAYOFWEEK</th>\n",
              "      <th>DAYNAME</th>\n",
              "    </tr>\n",
              "  </thead>\n",
              "  <tbody>\n",
              "    <tr>\n",
              "      <th>0</th>\n",
              "      <td>Afghanistan</td>\n",
              "      <td>AFG</td>\n",
              "      <td>1970-01-01 00:00:00.000001990</td>\n",
              "      <td>0.305874</td>\n",
              "      <td>0.007185</td>\n",
              "      <td>3.688980</td>\n",
              "      <td>0.829299</td>\n",
              "      <td>1.118338</td>\n",
              "      <td>0.187690</td>\n",
              "      <td>0.415665</td>\n",
              "      <td>...</td>\n",
              "      <td>1.696670</td>\n",
              "      <td>1.283453</td>\n",
              "      <td>0.121302</td>\n",
              "      <td>2.375831</td>\n",
              "      <td>0.646459</td>\n",
              "      <td>0</td>\n",
              "      <td>1</td>\n",
              "      <td>1</td>\n",
              "      <td>3</td>\n",
              "      <td>Thursday</td>\n",
              "    </tr>\n",
              "    <tr>\n",
              "      <th>1</th>\n",
              "      <td>Afghanistan</td>\n",
              "      <td>AFG</td>\n",
              "      <td>1970-01-01 00:00:00.000001991</td>\n",
              "      <td>0.312853</td>\n",
              "      <td>0.662918</td>\n",
              "      <td>4.598062</td>\n",
              "      <td>1.007482</td>\n",
              "      <td>1.136197</td>\n",
              "      <td>0.193772</td>\n",
              "      <td>0.424702</td>\n",
              "      <td>...</td>\n",
              "      <td>1.734281</td>\n",
              "      <td>1.269533</td>\n",
              "      <td>0.123435</td>\n",
              "      <td>2.353230</td>\n",
              "      <td>0.626081</td>\n",
              "      <td>0</td>\n",
              "      <td>1</td>\n",
              "      <td>1</td>\n",
              "      <td>3</td>\n",
              "      <td>Thursday</td>\n",
              "    </tr>\n",
              "    <tr>\n",
              "      <th>2</th>\n",
              "      <td>Afghanistan</td>\n",
              "      <td>AFG</td>\n",
              "      <td>1970-01-01 00:00:00.000001992</td>\n",
              "      <td>0.328217</td>\n",
              "      <td>0.293873</td>\n",
              "      <td>4.939704</td>\n",
              "      <td>1.057353</td>\n",
              "      <td>1.100388</td>\n",
              "      <td>0.204869</td>\n",
              "      <td>0.438182</td>\n",
              "      <td>...</td>\n",
              "      <td>1.791189</td>\n",
              "      <td>1.268217</td>\n",
              "      <td>0.146242</td>\n",
              "      <td>2.420953</td>\n",
              "      <td>0.598476</td>\n",
              "      <td>0</td>\n",
              "      <td>1</td>\n",
              "      <td>1</td>\n",
              "      <td>3</td>\n",
              "      <td>Thursday</td>\n",
              "    </tr>\n",
              "    <tr>\n",
              "      <th>3</th>\n",
              "      <td>Afghanistan</td>\n",
              "      <td>AFG</td>\n",
              "      <td>1970-01-01 00:00:00.000001993</td>\n",
              "      <td>0.332590</td>\n",
              "      <td>0.114703</td>\n",
              "      <td>4.546126</td>\n",
              "      <td>1.085709</td>\n",
              "      <td>0.964654</td>\n",
              "      <td>0.206346</td>\n",
              "      <td>0.434898</td>\n",
              "      <td>...</td>\n",
              "      <td>1.776779</td>\n",
              "      <td>1.244622</td>\n",
              "      <td>0.170525</td>\n",
              "      <td>2.484723</td>\n",
              "      <td>0.566259</td>\n",
              "      <td>0</td>\n",
              "      <td>1</td>\n",
              "      <td>1</td>\n",
              "      <td>3</td>\n",
              "      <td>Thursday</td>\n",
              "    </tr>\n",
              "    <tr>\n",
              "      <th>4</th>\n",
              "      <td>Afghanistan</td>\n",
              "      <td>AFG</td>\n",
              "      <td>1970-01-01 00:00:00.000001994</td>\n",
              "      <td>0.324567</td>\n",
              "      <td>0.084153</td>\n",
              "      <td>6.225331</td>\n",
              "      <td>1.103499</td>\n",
              "      <td>0.922281</td>\n",
              "      <td>0.200465</td>\n",
              "      <td>0.420710</td>\n",
              "      <td>...</td>\n",
              "      <td>1.712986</td>\n",
              "      <td>1.198240</td>\n",
              "      <td>0.171896</td>\n",
              "      <td>2.407289</td>\n",
              "      <td>0.535983</td>\n",
              "      <td>0</td>\n",
              "      <td>1</td>\n",
              "      <td>1</td>\n",
              "      <td>3</td>\n",
              "      <td>Thursday</td>\n",
              "    </tr>\n",
              "  </tbody>\n",
              "</table>\n",
              "<p>5 rows × 33 columns</p>\n",
              "</div>\n",
              "      <button class=\"colab-df-convert\" onclick=\"convertToInteractive('df-0979e3bb-4ea6-41bb-81d1-4d27c7147032')\"\n",
              "              title=\"Convert this dataframe to an interactive table.\"\n",
              "              style=\"display:none;\">\n",
              "        \n",
              "  <svg xmlns=\"http://www.w3.org/2000/svg\" height=\"24px\"viewBox=\"0 0 24 24\"\n",
              "       width=\"24px\">\n",
              "    <path d=\"M0 0h24v24H0V0z\" fill=\"none\"/>\n",
              "    <path d=\"M18.56 5.44l.94 2.06.94-2.06 2.06-.94-2.06-.94-.94-2.06-.94 2.06-2.06.94zm-11 1L8.5 8.5l.94-2.06 2.06-.94-2.06-.94L8.5 2.5l-.94 2.06-2.06.94zm10 10l.94 2.06.94-2.06 2.06-.94-2.06-.94-.94-2.06-.94 2.06-2.06.94z\"/><path d=\"M17.41 7.96l-1.37-1.37c-.4-.4-.92-.59-1.43-.59-.52 0-1.04.2-1.43.59L10.3 9.45l-7.72 7.72c-.78.78-.78 2.05 0 2.83L4 21.41c.39.39.9.59 1.41.59.51 0 1.02-.2 1.41-.59l7.78-7.78 2.81-2.81c.8-.78.8-2.07 0-2.86zM5.41 20L4 18.59l7.72-7.72 1.47 1.35L5.41 20z\"/>\n",
              "  </svg>\n",
              "      </button>\n",
              "      \n",
              "  <style>\n",
              "    .colab-df-container {\n",
              "      display:flex;\n",
              "      flex-wrap:wrap;\n",
              "      gap: 12px;\n",
              "    }\n",
              "\n",
              "    .colab-df-convert {\n",
              "      background-color: #E8F0FE;\n",
              "      border: none;\n",
              "      border-radius: 50%;\n",
              "      cursor: pointer;\n",
              "      display: none;\n",
              "      fill: #1967D2;\n",
              "      height: 32px;\n",
              "      padding: 0 0 0 0;\n",
              "      width: 32px;\n",
              "    }\n",
              "\n",
              "    .colab-df-convert:hover {\n",
              "      background-color: #E2EBFA;\n",
              "      box-shadow: 0px 1px 2px rgba(60, 64, 67, 0.3), 0px 1px 3px 1px rgba(60, 64, 67, 0.15);\n",
              "      fill: #174EA6;\n",
              "    }\n",
              "\n",
              "    [theme=dark] .colab-df-convert {\n",
              "      background-color: #3B4455;\n",
              "      fill: #D2E3FC;\n",
              "    }\n",
              "\n",
              "    [theme=dark] .colab-df-convert:hover {\n",
              "      background-color: #434B5C;\n",
              "      box-shadow: 0px 1px 3px 1px rgba(0, 0, 0, 0.15);\n",
              "      filter: drop-shadow(0px 1px 2px rgba(0, 0, 0, 0.3));\n",
              "      fill: #FFFFFF;\n",
              "    }\n",
              "  </style>\n",
              "\n",
              "      <script>\n",
              "        const buttonEl =\n",
              "          document.querySelector('#df-0979e3bb-4ea6-41bb-81d1-4d27c7147032 button.colab-df-convert');\n",
              "        buttonEl.style.display =\n",
              "          google.colab.kernel.accessAllowed ? 'block' : 'none';\n",
              "\n",
              "        async function convertToInteractive(key) {\n",
              "          const element = document.querySelector('#df-0979e3bb-4ea6-41bb-81d1-4d27c7147032');\n",
              "          const dataTable =\n",
              "            await google.colab.kernel.invokeFunction('convertToInteractive',\n",
              "                                                     [key], {});\n",
              "          if (!dataTable) return;\n",
              "\n",
              "          const docLinkHtml = 'Like what you see? Visit the ' +\n",
              "            '<a target=\"_blank\" href=https://colab.research.google.com/notebooks/data_table.ipynb>data table notebook</a>'\n",
              "            + ' to learn more about interactive tables.';\n",
              "          element.innerHTML = '';\n",
              "          dataTable['output_type'] = 'display_data';\n",
              "          await google.colab.output.renderOutput(dataTable, element);\n",
              "          const docLink = document.createElement('div');\n",
              "          docLink.innerHTML = docLinkHtml;\n",
              "          element.appendChild(docLink);\n",
              "        }\n",
              "      </script>\n",
              "    </div>\n",
              "  </div>\n",
              "  "
            ]
          },
          "metadata": {},
          "execution_count": 141
        }
      ]
    },
    {
      "cell_type": "code",
      "source": [
        "data.shape"
      ],
      "metadata": {
        "colab": {
          "base_uri": "https://localhost:8080/"
        },
        "id": "4AfpmcYcgRGE",
        "outputId": "13bfcd1d-0887-44ae-d66d-b3466188dcf6"
      },
      "execution_count": 142,
      "outputs": [
        {
          "output_type": "execute_result",
          "data": {
            "text/plain": [
              "(8010, 33)"
            ]
          },
          "metadata": {},
          "execution_count": 142
        }
      ]
    },
    {
      "cell_type": "markdown",
      "source": [
        "***Split dataset in train-test (80:20 ratio)***"
      ],
      "metadata": {
        "id": "a9sTGZ4XgXeo"
      }
    },
    {
      "cell_type": "code",
      "source": [
        "from sklearn.model_selection import train_test_split"
      ],
      "metadata": {
        "id": "3l0nIGpLgVjp"
      },
      "execution_count": 144,
      "outputs": []
    },
    {
      "cell_type": "code",
      "source": [
        "#Droping columns because ML model doesn't take string values\n",
        "data = data.drop(columns = ['Entity','Code','Year','DAYNAME'])\n",
        "data"
      ],
      "metadata": {
        "colab": {
          "base_uri": "https://localhost:8080/",
          "height": 557
        },
        "id": "D3woW-15kx8x",
        "outputId": "d1a8990f-0c68-4e39-887f-5398e37683f6"
      },
      "execution_count": 179,
      "outputs": [
        {
          "output_type": "execute_result",
          "data": {
            "text/plain": [
              "      Self-harm  Exposure to forces of nature  Conflict and terrorism  \\\n",
              "0      0.305874                      0.007185                3.688980   \n",
              "1      0.312853                      0.662918                4.598062   \n",
              "2      0.328217                      0.293873                4.939704   \n",
              "3      0.332590                      0.114703                4.546126   \n",
              "4      0.324567                      0.084153                6.225331   \n",
              "...         ...                           ...                     ...   \n",
              "8005   1.362600                      0.014487                0.016186   \n",
              "8006   1.428423                      0.027868                0.010141   \n",
              "8007   1.478082                      0.216581                0.009301   \n",
              "8008   1.539683                      0.003842                0.013141   \n",
              "8009   1.568798                      0.584679                0.014987   \n",
              "\n",
              "      Interpersonal violence  Neglected tropical diseases and malaria  \\\n",
              "0                   0.829299                                 1.118338   \n",
              "1                   1.007482                                 1.136197   \n",
              "2                   1.057353                                 1.100388   \n",
              "3                   1.085709                                 0.964654   \n",
              "4                   1.103499                                 0.922281   \n",
              "...                      ...                                      ...   \n",
              "8005                1.086859                                 3.233132   \n",
              "8006                1.138339                                 2.776631   \n",
              "8007                1.172027                                 2.847641   \n",
              "8008                1.228683                                 2.860908   \n",
              "8009                1.262896                                 2.824403   \n",
              "\n",
              "      Substance use disorders  Skin and subcutaneous diseases  \\\n",
              "0                    0.187690                        0.415665   \n",
              "1                    0.193772                        0.424702   \n",
              "2                    0.204869                        0.438182   \n",
              "3                    0.206346                        0.434898   \n",
              "4                    0.200465                        0.420710   \n",
              "...                       ...                             ...   \n",
              "8005                 0.583358                        0.845799   \n",
              "8006                 0.604536                        0.877621   \n",
              "8007                 0.626932                        0.906919   \n",
              "8008                 0.663348                        0.944215   \n",
              "8009                 0.694364                        0.962243   \n",
              "\n",
              "      Enteric infections  Diabetes and kidney diseases  \\\n",
              "0               3.458800                      1.779318   \n",
              "1               3.739355                      1.690362   \n",
              "2               4.172208                      1.585048   \n",
              "3               4.969801                      1.500105   \n",
              "4               4.646844                      1.427607   \n",
              "...                  ...                           ...   \n",
              "8005            3.962277                      2.492019   \n",
              "8006            3.987824                      2.616122   \n",
              "8007            4.018377                      2.714075   \n",
              "8008            3.945463                      2.848142   \n",
              "8009            3.857185                      2.930875   \n",
              "\n",
              "      Cardiovascular diseases  ...  Neoplasms  Mental disorders  \\\n",
              "0                   10.223438  ...   3.269981          1.696670   \n",
              "1                    9.688834  ...   3.130858          1.734281   \n",
              "2                    9.006707  ...   2.977764          1.791189   \n",
              "3                    8.471459  ...   2.837313          1.776779   \n",
              "4                    8.083866  ...   2.699818          1.712986   \n",
              "...                       ...  ...        ...               ...   \n",
              "8005                 5.954285  ...   4.428028          2.193166   \n",
              "8006                 6.185585  ...   4.646471          2.279813   \n",
              "8007                 6.378046  ...   4.837236          2.364265   \n",
              "8008                 6.643349  ...   5.083664          2.472949   \n",
              "8009                 6.791331  ...   5.229256          2.525892   \n",
              "\n",
              "      Neurological disorders  HIV/AIDS and sexually transmitted infections  \\\n",
              "0                   1.283453                                      0.121302   \n",
              "1                   1.269533                                      0.123435   \n",
              "2                   1.268217                                      0.146242   \n",
              "3                   1.244622                                      0.170525   \n",
              "4                   1.198240                                      0.171896   \n",
              "...                      ...                                           ...   \n",
              "8005                1.752999                                     22.387117   \n",
              "8006                1.821130                                     21.173024   \n",
              "8007                1.882369                                     19.765751   \n",
              "8008                1.967834                                     18.053551   \n",
              "8009                2.014722                                     16.958300   \n",
              "\n",
              "      Transport injuries  Sense organ diseases  HOUR  DAY  MONTH  DAYOFWEEK  \n",
              "0               2.375831              0.646459     0    1      1          3  \n",
              "1               2.353230              0.626081     0    1      1          3  \n",
              "2               2.420953              0.598476     0    1      1          3  \n",
              "3               2.484723              0.566259     0    1      1          3  \n",
              "4               2.407289              0.535983     0    1      1          3  \n",
              "...                  ...                   ...   ...  ...    ...        ...  \n",
              "8005            1.965196              0.981618     0    1      1          3  \n",
              "8006            2.067382              1.018384     0    1      1          3  \n",
              "8007            2.159994              1.054630     0    1      1          3  \n",
              "8008            2.262843              1.103874     0    1      1          3  \n",
              "8009            2.230180              1.130488     0    1      1          3  \n",
              "\n",
              "[8010 rows x 29 columns]"
            ],
            "text/html": [
              "\n",
              "  <div id=\"df-1ff99a9c-e5dc-4fb4-816d-e081644f42ee\">\n",
              "    <div class=\"colab-df-container\">\n",
              "      <div>\n",
              "<style scoped>\n",
              "    .dataframe tbody tr th:only-of-type {\n",
              "        vertical-align: middle;\n",
              "    }\n",
              "\n",
              "    .dataframe tbody tr th {\n",
              "        vertical-align: top;\n",
              "    }\n",
              "\n",
              "    .dataframe thead th {\n",
              "        text-align: right;\n",
              "    }\n",
              "</style>\n",
              "<table border=\"1\" class=\"dataframe\">\n",
              "  <thead>\n",
              "    <tr style=\"text-align: right;\">\n",
              "      <th></th>\n",
              "      <th>Self-harm</th>\n",
              "      <th>Exposure to forces of nature</th>\n",
              "      <th>Conflict and terrorism</th>\n",
              "      <th>Interpersonal violence</th>\n",
              "      <th>Neglected tropical diseases and malaria</th>\n",
              "      <th>Substance use disorders</th>\n",
              "      <th>Skin and subcutaneous diseases</th>\n",
              "      <th>Enteric infections</th>\n",
              "      <th>Diabetes and kidney diseases</th>\n",
              "      <th>Cardiovascular diseases</th>\n",
              "      <th>...</th>\n",
              "      <th>Neoplasms</th>\n",
              "      <th>Mental disorders</th>\n",
              "      <th>Neurological disorders</th>\n",
              "      <th>HIV/AIDS and sexually transmitted infections</th>\n",
              "      <th>Transport injuries</th>\n",
              "      <th>Sense organ diseases</th>\n",
              "      <th>HOUR</th>\n",
              "      <th>DAY</th>\n",
              "      <th>MONTH</th>\n",
              "      <th>DAYOFWEEK</th>\n",
              "    </tr>\n",
              "  </thead>\n",
              "  <tbody>\n",
              "    <tr>\n",
              "      <th>0</th>\n",
              "      <td>0.305874</td>\n",
              "      <td>0.007185</td>\n",
              "      <td>3.688980</td>\n",
              "      <td>0.829299</td>\n",
              "      <td>1.118338</td>\n",
              "      <td>0.187690</td>\n",
              "      <td>0.415665</td>\n",
              "      <td>3.458800</td>\n",
              "      <td>1.779318</td>\n",
              "      <td>10.223438</td>\n",
              "      <td>...</td>\n",
              "      <td>3.269981</td>\n",
              "      <td>1.696670</td>\n",
              "      <td>1.283453</td>\n",
              "      <td>0.121302</td>\n",
              "      <td>2.375831</td>\n",
              "      <td>0.646459</td>\n",
              "      <td>0</td>\n",
              "      <td>1</td>\n",
              "      <td>1</td>\n",
              "      <td>3</td>\n",
              "    </tr>\n",
              "    <tr>\n",
              "      <th>1</th>\n",
              "      <td>0.312853</td>\n",
              "      <td>0.662918</td>\n",
              "      <td>4.598062</td>\n",
              "      <td>1.007482</td>\n",
              "      <td>1.136197</td>\n",
              "      <td>0.193772</td>\n",
              "      <td>0.424702</td>\n",
              "      <td>3.739355</td>\n",
              "      <td>1.690362</td>\n",
              "      <td>9.688834</td>\n",
              "      <td>...</td>\n",
              "      <td>3.130858</td>\n",
              "      <td>1.734281</td>\n",
              "      <td>1.269533</td>\n",
              "      <td>0.123435</td>\n",
              "      <td>2.353230</td>\n",
              "      <td>0.626081</td>\n",
              "      <td>0</td>\n",
              "      <td>1</td>\n",
              "      <td>1</td>\n",
              "      <td>3</td>\n",
              "    </tr>\n",
              "    <tr>\n",
              "      <th>2</th>\n",
              "      <td>0.328217</td>\n",
              "      <td>0.293873</td>\n",
              "      <td>4.939704</td>\n",
              "      <td>1.057353</td>\n",
              "      <td>1.100388</td>\n",
              "      <td>0.204869</td>\n",
              "      <td>0.438182</td>\n",
              "      <td>4.172208</td>\n",
              "      <td>1.585048</td>\n",
              "      <td>9.006707</td>\n",
              "      <td>...</td>\n",
              "      <td>2.977764</td>\n",
              "      <td>1.791189</td>\n",
              "      <td>1.268217</td>\n",
              "      <td>0.146242</td>\n",
              "      <td>2.420953</td>\n",
              "      <td>0.598476</td>\n",
              "      <td>0</td>\n",
              "      <td>1</td>\n",
              "      <td>1</td>\n",
              "      <td>3</td>\n",
              "    </tr>\n",
              "    <tr>\n",
              "      <th>3</th>\n",
              "      <td>0.332590</td>\n",
              "      <td>0.114703</td>\n",
              "      <td>4.546126</td>\n",
              "      <td>1.085709</td>\n",
              "      <td>0.964654</td>\n",
              "      <td>0.206346</td>\n",
              "      <td>0.434898</td>\n",
              "      <td>4.969801</td>\n",
              "      <td>1.500105</td>\n",
              "      <td>8.471459</td>\n",
              "      <td>...</td>\n",
              "      <td>2.837313</td>\n",
              "      <td>1.776779</td>\n",
              "      <td>1.244622</td>\n",
              "      <td>0.170525</td>\n",
              "      <td>2.484723</td>\n",
              "      <td>0.566259</td>\n",
              "      <td>0</td>\n",
              "      <td>1</td>\n",
              "      <td>1</td>\n",
              "      <td>3</td>\n",
              "    </tr>\n",
              "    <tr>\n",
              "      <th>4</th>\n",
              "      <td>0.324567</td>\n",
              "      <td>0.084153</td>\n",
              "      <td>6.225331</td>\n",
              "      <td>1.103499</td>\n",
              "      <td>0.922281</td>\n",
              "      <td>0.200465</td>\n",
              "      <td>0.420710</td>\n",
              "      <td>4.646844</td>\n",
              "      <td>1.427607</td>\n",
              "      <td>8.083866</td>\n",
              "      <td>...</td>\n",
              "      <td>2.699818</td>\n",
              "      <td>1.712986</td>\n",
              "      <td>1.198240</td>\n",
              "      <td>0.171896</td>\n",
              "      <td>2.407289</td>\n",
              "      <td>0.535983</td>\n",
              "      <td>0</td>\n",
              "      <td>1</td>\n",
              "      <td>1</td>\n",
              "      <td>3</td>\n",
              "    </tr>\n",
              "    <tr>\n",
              "      <th>...</th>\n",
              "      <td>...</td>\n",
              "      <td>...</td>\n",
              "      <td>...</td>\n",
              "      <td>...</td>\n",
              "      <td>...</td>\n",
              "      <td>...</td>\n",
              "      <td>...</td>\n",
              "      <td>...</td>\n",
              "      <td>...</td>\n",
              "      <td>...</td>\n",
              "      <td>...</td>\n",
              "      <td>...</td>\n",
              "      <td>...</td>\n",
              "      <td>...</td>\n",
              "      <td>...</td>\n",
              "      <td>...</td>\n",
              "      <td>...</td>\n",
              "      <td>...</td>\n",
              "      <td>...</td>\n",
              "      <td>...</td>\n",
              "      <td>...</td>\n",
              "    </tr>\n",
              "    <tr>\n",
              "      <th>8005</th>\n",
              "      <td>1.362600</td>\n",
              "      <td>0.014487</td>\n",
              "      <td>0.016186</td>\n",
              "      <td>1.086859</td>\n",
              "      <td>3.233132</td>\n",
              "      <td>0.583358</td>\n",
              "      <td>0.845799</td>\n",
              "      <td>3.962277</td>\n",
              "      <td>2.492019</td>\n",
              "      <td>5.954285</td>\n",
              "      <td>...</td>\n",
              "      <td>4.428028</td>\n",
              "      <td>2.193166</td>\n",
              "      <td>1.752999</td>\n",
              "      <td>22.387117</td>\n",
              "      <td>1.965196</td>\n",
              "      <td>0.981618</td>\n",
              "      <td>0</td>\n",
              "      <td>1</td>\n",
              "      <td>1</td>\n",
              "      <td>3</td>\n",
              "    </tr>\n",
              "    <tr>\n",
              "      <th>8006</th>\n",
              "      <td>1.428423</td>\n",
              "      <td>0.027868</td>\n",
              "      <td>0.010141</td>\n",
              "      <td>1.138339</td>\n",
              "      <td>2.776631</td>\n",
              "      <td>0.604536</td>\n",
              "      <td>0.877621</td>\n",
              "      <td>3.987824</td>\n",
              "      <td>2.616122</td>\n",
              "      <td>6.185585</td>\n",
              "      <td>...</td>\n",
              "      <td>4.646471</td>\n",
              "      <td>2.279813</td>\n",
              "      <td>1.821130</td>\n",
              "      <td>21.173024</td>\n",
              "      <td>2.067382</td>\n",
              "      <td>1.018384</td>\n",
              "      <td>0</td>\n",
              "      <td>1</td>\n",
              "      <td>1</td>\n",
              "      <td>3</td>\n",
              "    </tr>\n",
              "    <tr>\n",
              "      <th>8007</th>\n",
              "      <td>1.478082</td>\n",
              "      <td>0.216581</td>\n",
              "      <td>0.009301</td>\n",
              "      <td>1.172027</td>\n",
              "      <td>2.847641</td>\n",
              "      <td>0.626932</td>\n",
              "      <td>0.906919</td>\n",
              "      <td>4.018377</td>\n",
              "      <td>2.714075</td>\n",
              "      <td>6.378046</td>\n",
              "      <td>...</td>\n",
              "      <td>4.837236</td>\n",
              "      <td>2.364265</td>\n",
              "      <td>1.882369</td>\n",
              "      <td>19.765751</td>\n",
              "      <td>2.159994</td>\n",
              "      <td>1.054630</td>\n",
              "      <td>0</td>\n",
              "      <td>1</td>\n",
              "      <td>1</td>\n",
              "      <td>3</td>\n",
              "    </tr>\n",
              "    <tr>\n",
              "      <th>8008</th>\n",
              "      <td>1.539683</td>\n",
              "      <td>0.003842</td>\n",
              "      <td>0.013141</td>\n",
              "      <td>1.228683</td>\n",
              "      <td>2.860908</td>\n",
              "      <td>0.663348</td>\n",
              "      <td>0.944215</td>\n",
              "      <td>3.945463</td>\n",
              "      <td>2.848142</td>\n",
              "      <td>6.643349</td>\n",
              "      <td>...</td>\n",
              "      <td>5.083664</td>\n",
              "      <td>2.472949</td>\n",
              "      <td>1.967834</td>\n",
              "      <td>18.053551</td>\n",
              "      <td>2.262843</td>\n",
              "      <td>1.103874</td>\n",
              "      <td>0</td>\n",
              "      <td>1</td>\n",
              "      <td>1</td>\n",
              "      <td>3</td>\n",
              "    </tr>\n",
              "    <tr>\n",
              "      <th>8009</th>\n",
              "      <td>1.568798</td>\n",
              "      <td>0.584679</td>\n",
              "      <td>0.014987</td>\n",
              "      <td>1.262896</td>\n",
              "      <td>2.824403</td>\n",
              "      <td>0.694364</td>\n",
              "      <td>0.962243</td>\n",
              "      <td>3.857185</td>\n",
              "      <td>2.930875</td>\n",
              "      <td>6.791331</td>\n",
              "      <td>...</td>\n",
              "      <td>5.229256</td>\n",
              "      <td>2.525892</td>\n",
              "      <td>2.014722</td>\n",
              "      <td>16.958300</td>\n",
              "      <td>2.230180</td>\n",
              "      <td>1.130488</td>\n",
              "      <td>0</td>\n",
              "      <td>1</td>\n",
              "      <td>1</td>\n",
              "      <td>3</td>\n",
              "    </tr>\n",
              "  </tbody>\n",
              "</table>\n",
              "<p>8010 rows × 29 columns</p>\n",
              "</div>\n",
              "      <button class=\"colab-df-convert\" onclick=\"convertToInteractive('df-1ff99a9c-e5dc-4fb4-816d-e081644f42ee')\"\n",
              "              title=\"Convert this dataframe to an interactive table.\"\n",
              "              style=\"display:none;\">\n",
              "        \n",
              "  <svg xmlns=\"http://www.w3.org/2000/svg\" height=\"24px\"viewBox=\"0 0 24 24\"\n",
              "       width=\"24px\">\n",
              "    <path d=\"M0 0h24v24H0V0z\" fill=\"none\"/>\n",
              "    <path d=\"M18.56 5.44l.94 2.06.94-2.06 2.06-.94-2.06-.94-.94-2.06-.94 2.06-2.06.94zm-11 1L8.5 8.5l.94-2.06 2.06-.94-2.06-.94L8.5 2.5l-.94 2.06-2.06.94zm10 10l.94 2.06.94-2.06 2.06-.94-2.06-.94-.94-2.06-.94 2.06-2.06.94z\"/><path d=\"M17.41 7.96l-1.37-1.37c-.4-.4-.92-.59-1.43-.59-.52 0-1.04.2-1.43.59L10.3 9.45l-7.72 7.72c-.78.78-.78 2.05 0 2.83L4 21.41c.39.39.9.59 1.41.59.51 0 1.02-.2 1.41-.59l7.78-7.78 2.81-2.81c.8-.78.8-2.07 0-2.86zM5.41 20L4 18.59l7.72-7.72 1.47 1.35L5.41 20z\"/>\n",
              "  </svg>\n",
              "      </button>\n",
              "      \n",
              "  <style>\n",
              "    .colab-df-container {\n",
              "      display:flex;\n",
              "      flex-wrap:wrap;\n",
              "      gap: 12px;\n",
              "    }\n",
              "\n",
              "    .colab-df-convert {\n",
              "      background-color: #E8F0FE;\n",
              "      border: none;\n",
              "      border-radius: 50%;\n",
              "      cursor: pointer;\n",
              "      display: none;\n",
              "      fill: #1967D2;\n",
              "      height: 32px;\n",
              "      padding: 0 0 0 0;\n",
              "      width: 32px;\n",
              "    }\n",
              "\n",
              "    .colab-df-convert:hover {\n",
              "      background-color: #E2EBFA;\n",
              "      box-shadow: 0px 1px 2px rgba(60, 64, 67, 0.3), 0px 1px 3px 1px rgba(60, 64, 67, 0.15);\n",
              "      fill: #174EA6;\n",
              "    }\n",
              "\n",
              "    [theme=dark] .colab-df-convert {\n",
              "      background-color: #3B4455;\n",
              "      fill: #D2E3FC;\n",
              "    }\n",
              "\n",
              "    [theme=dark] .colab-df-convert:hover {\n",
              "      background-color: #434B5C;\n",
              "      box-shadow: 0px 1px 3px 1px rgba(0, 0, 0, 0.15);\n",
              "      filter: drop-shadow(0px 1px 2px rgba(0, 0, 0, 0.3));\n",
              "      fill: #FFFFFF;\n",
              "    }\n",
              "  </style>\n",
              "\n",
              "      <script>\n",
              "        const buttonEl =\n",
              "          document.querySelector('#df-1ff99a9c-e5dc-4fb4-816d-e081644f42ee button.colab-df-convert');\n",
              "        buttonEl.style.display =\n",
              "          google.colab.kernel.accessAllowed ? 'block' : 'none';\n",
              "\n",
              "        async function convertToInteractive(key) {\n",
              "          const element = document.querySelector('#df-1ff99a9c-e5dc-4fb4-816d-e081644f42ee');\n",
              "          const dataTable =\n",
              "            await google.colab.kernel.invokeFunction('convertToInteractive',\n",
              "                                                     [key], {});\n",
              "          if (!dataTable) return;\n",
              "\n",
              "          const docLinkHtml = 'Like what you see? Visit the ' +\n",
              "            '<a target=\"_blank\" href=https://colab.research.google.com/notebooks/data_table.ipynb>data table notebook</a>'\n",
              "            + ' to learn more about interactive tables.';\n",
              "          element.innerHTML = '';\n",
              "          dataTable['output_type'] = 'display_data';\n",
              "          await google.colab.output.renderOutput(dataTable, element);\n",
              "          const docLink = document.createElement('div');\n",
              "          docLink.innerHTML = docLinkHtml;\n",
              "          element.appendChild(docLink);\n",
              "        }\n",
              "      </script>\n",
              "    </div>\n",
              "  </div>\n",
              "  "
            ]
          },
          "metadata": {},
          "execution_count": 179
        }
      ]
    },
    {
      "cell_type": "code",
      "source": [
        "X = data.drop('Self-harm', axis=1)"
      ],
      "metadata": {
        "id": "vB-DOi4ehdT4"
      },
      "execution_count": 180,
      "outputs": []
    },
    {
      "cell_type": "code",
      "source": [
        "X.shape"
      ],
      "metadata": {
        "colab": {
          "base_uri": "https://localhost:8080/"
        },
        "id": "4blVwbXph0Zy",
        "outputId": "27498349-3a65-4cdc-f7f6-08555a189a59"
      },
      "execution_count": 181,
      "outputs": [
        {
          "output_type": "execute_result",
          "data": {
            "text/plain": [
              "(8010, 28)"
            ]
          },
          "metadata": {},
          "execution_count": 181
        }
      ]
    },
    {
      "cell_type": "code",
      "source": [
        "Y = data['Self-harm']"
      ],
      "metadata": {
        "id": "Tsnql9f0h4vh"
      },
      "execution_count": 182,
      "outputs": []
    },
    {
      "cell_type": "code",
      "source": [
        "# Split the dataset into 80% training and 20% testing\n",
        "X_train, X_test, Y_train, Y_test = train_test_split(X, Y, test_size=0.2)"
      ],
      "metadata": {
        "id": "Aba-fMKlh9TV"
      },
      "execution_count": 183,
      "outputs": []
    },
    {
      "cell_type": "code",
      "source": [
        "X_train.shape, Y_train.shape"
      ],
      "metadata": {
        "colab": {
          "base_uri": "https://localhost:8080/"
        },
        "id": "g8t46D8bjoWy",
        "outputId": "7604aa12-151d-4ce2-9034-53c48ebc4758"
      },
      "execution_count": 184,
      "outputs": [
        {
          "output_type": "execute_result",
          "data": {
            "text/plain": [
              "((6408, 28), (6408,))"
            ]
          },
          "metadata": {},
          "execution_count": 184
        }
      ]
    },
    {
      "cell_type": "code",
      "source": [
        "X_test.shape, Y_test.shape"
      ],
      "metadata": {
        "colab": {
          "base_uri": "https://localhost:8080/"
        },
        "id": "0b3zL2WSjrMw",
        "outputId": "c22d5149-eb3a-4c12-c810-a529043f4285"
      },
      "execution_count": 185,
      "outputs": [
        {
          "output_type": "execute_result",
          "data": {
            "text/plain": [
              "((1602, 28), (1602,))"
            ]
          },
          "metadata": {},
          "execution_count": 185
        }
      ]
    },
    {
      "cell_type": "code",
      "source": [
        "X_train.info()"
      ],
      "metadata": {
        "colab": {
          "base_uri": "https://localhost:8080/"
        },
        "id": "lX4uTvnUlugv",
        "outputId": "d4f9c2c6-4e04-4ddd-d330-41f57a52f648"
      },
      "execution_count": 186,
      "outputs": [
        {
          "output_type": "stream",
          "name": "stdout",
          "text": [
            "<class 'pandas.core.frame.DataFrame'>\n",
            "Int64Index: 6408 entries, 5609 to 3404\n",
            "Data columns (total 28 columns):\n",
            " #   Column                                        Non-Null Count  Dtype  \n",
            "---  ------                                        --------------  -----  \n",
            " 0   Exposure to forces of nature                  6408 non-null   float64\n",
            " 1   Conflict and terrorism                        6408 non-null   float64\n",
            " 2   Interpersonal violence                        6408 non-null   float64\n",
            " 3   Neglected tropical diseases and malaria       6408 non-null   float64\n",
            " 4   Substance use disorders                       6408 non-null   float64\n",
            " 5   Skin and subcutaneous diseases                6408 non-null   float64\n",
            " 6   Enteric infections                            6408 non-null   float64\n",
            " 7   Diabetes and kidney diseases                  6408 non-null   float64\n",
            " 8   Cardiovascular diseases                       6408 non-null   float64\n",
            " 9   Digestive diseases                            6408 non-null   float64\n",
            " 10  Nutritional deficiencies                      6408 non-null   float64\n",
            " 11  Respiratory infections and tuberculosis       6408 non-null   float64\n",
            " 12  Neonatal disorders                            6408 non-null   float64\n",
            " 13  Chronic respiratory diseases                  6408 non-null   float64\n",
            " 14  Other non-communicable diseases               6408 non-null   float64\n",
            " 15  Maternal disorders                            6408 non-null   float64\n",
            " 16  Unintentional injuries                        6408 non-null   float64\n",
            " 17  Musculoskeletal disorders                     6408 non-null   float64\n",
            " 18  Neoplasms                                     6408 non-null   float64\n",
            " 19  Mental disorders                              6408 non-null   float64\n",
            " 20  Neurological disorders                        6408 non-null   float64\n",
            " 21  HIV/AIDS and sexually transmitted infections  6408 non-null   float64\n",
            " 22  Transport injuries                            6408 non-null   float64\n",
            " 23  Sense organ diseases                          6408 non-null   float64\n",
            " 24  HOUR                                          6408 non-null   int64  \n",
            " 25  DAY                                           6408 non-null   int64  \n",
            " 26  MONTH                                         6408 non-null   int64  \n",
            " 27  DAYOFWEEK                                     6408 non-null   int64  \n",
            "dtypes: float64(24), int64(4)\n",
            "memory usage: 1.4 MB\n"
          ]
        }
      ]
    },
    {
      "cell_type": "code",
      "source": [
        "Y_train.info()"
      ],
      "metadata": {
        "colab": {
          "base_uri": "https://localhost:8080/"
        },
        "id": "mLcwsJVumH41",
        "outputId": "e6005d61-ea1f-40a3-d0bb-0f5837fd69eb"
      },
      "execution_count": 187,
      "outputs": [
        {
          "output_type": "stream",
          "name": "stdout",
          "text": [
            "<class 'pandas.core.series.Series'>\n",
            "Int64Index: 6408 entries, 5609 to 3404\n",
            "Series name: Self-harm\n",
            "Non-Null Count  Dtype  \n",
            "--------------  -----  \n",
            "6408 non-null   float64\n",
            "dtypes: float64(1)\n",
            "memory usage: 100.1 KB\n"
          ]
        }
      ]
    },
    {
      "cell_type": "markdown",
      "source": [
        "***Model Selection, Training, Evaluation and Predictions :***"
      ],
      "metadata": {
        "id": "JTKRdDnLq4zs"
      }
    },
    {
      "cell_type": "code",
      "source": [
        "# creating a model\n",
        "model = LinearRegression()"
      ],
      "metadata": {
        "id": "swyVKIo_jzpg"
      },
      "execution_count": 188,
      "outputs": []
    },
    {
      "cell_type": "code",
      "source": [
        "# train a model using training data\n",
        "model.fit(X_train, Y_train)"
      ],
      "metadata": {
        "colab": {
          "base_uri": "https://localhost:8080/",
          "height": 75
        },
        "id": "8zM2Y-_akFuV",
        "outputId": "a025118d-9480-4af6-d649-7df57c97004a"
      },
      "execution_count": 189,
      "outputs": [
        {
          "output_type": "execute_result",
          "data": {
            "text/plain": [
              "LinearRegression()"
            ],
            "text/html": [
              "<style>#sk-container-id-1 {color: black;background-color: white;}#sk-container-id-1 pre{padding: 0;}#sk-container-id-1 div.sk-toggleable {background-color: white;}#sk-container-id-1 label.sk-toggleable__label {cursor: pointer;display: block;width: 100%;margin-bottom: 0;padding: 0.3em;box-sizing: border-box;text-align: center;}#sk-container-id-1 label.sk-toggleable__label-arrow:before {content: \"▸\";float: left;margin-right: 0.25em;color: #696969;}#sk-container-id-1 label.sk-toggleable__label-arrow:hover:before {color: black;}#sk-container-id-1 div.sk-estimator:hover label.sk-toggleable__label-arrow:before {color: black;}#sk-container-id-1 div.sk-toggleable__content {max-height: 0;max-width: 0;overflow: hidden;text-align: left;background-color: #f0f8ff;}#sk-container-id-1 div.sk-toggleable__content pre {margin: 0.2em;color: black;border-radius: 0.25em;background-color: #f0f8ff;}#sk-container-id-1 input.sk-toggleable__control:checked~div.sk-toggleable__content {max-height: 200px;max-width: 100%;overflow: auto;}#sk-container-id-1 input.sk-toggleable__control:checked~label.sk-toggleable__label-arrow:before {content: \"▾\";}#sk-container-id-1 div.sk-estimator input.sk-toggleable__control:checked~label.sk-toggleable__label {background-color: #d4ebff;}#sk-container-id-1 div.sk-label input.sk-toggleable__control:checked~label.sk-toggleable__label {background-color: #d4ebff;}#sk-container-id-1 input.sk-hidden--visually {border: 0;clip: rect(1px 1px 1px 1px);clip: rect(1px, 1px, 1px, 1px);height: 1px;margin: -1px;overflow: hidden;padding: 0;position: absolute;width: 1px;}#sk-container-id-1 div.sk-estimator {font-family: monospace;background-color: #f0f8ff;border: 1px dotted black;border-radius: 0.25em;box-sizing: border-box;margin-bottom: 0.5em;}#sk-container-id-1 div.sk-estimator:hover {background-color: #d4ebff;}#sk-container-id-1 div.sk-parallel-item::after {content: \"\";width: 100%;border-bottom: 1px solid gray;flex-grow: 1;}#sk-container-id-1 div.sk-label:hover label.sk-toggleable__label {background-color: #d4ebff;}#sk-container-id-1 div.sk-serial::before {content: \"\";position: absolute;border-left: 1px solid gray;box-sizing: border-box;top: 0;bottom: 0;left: 50%;z-index: 0;}#sk-container-id-1 div.sk-serial {display: flex;flex-direction: column;align-items: center;background-color: white;padding-right: 0.2em;padding-left: 0.2em;position: relative;}#sk-container-id-1 div.sk-item {position: relative;z-index: 1;}#sk-container-id-1 div.sk-parallel {display: flex;align-items: stretch;justify-content: center;background-color: white;position: relative;}#sk-container-id-1 div.sk-item::before, #sk-container-id-1 div.sk-parallel-item::before {content: \"\";position: absolute;border-left: 1px solid gray;box-sizing: border-box;top: 0;bottom: 0;left: 50%;z-index: -1;}#sk-container-id-1 div.sk-parallel-item {display: flex;flex-direction: column;z-index: 1;position: relative;background-color: white;}#sk-container-id-1 div.sk-parallel-item:first-child::after {align-self: flex-end;width: 50%;}#sk-container-id-1 div.sk-parallel-item:last-child::after {align-self: flex-start;width: 50%;}#sk-container-id-1 div.sk-parallel-item:only-child::after {width: 0;}#sk-container-id-1 div.sk-dashed-wrapped {border: 1px dashed gray;margin: 0 0.4em 0.5em 0.4em;box-sizing: border-box;padding-bottom: 0.4em;background-color: white;}#sk-container-id-1 div.sk-label label {font-family: monospace;font-weight: bold;display: inline-block;line-height: 1.2em;}#sk-container-id-1 div.sk-label-container {text-align: center;}#sk-container-id-1 div.sk-container {/* jupyter's `normalize.less` sets `[hidden] { display: none; }` but bootstrap.min.css set `[hidden] { display: none !important; }` so we also need the `!important` here to be able to override the default hidden behavior on the sphinx rendered scikit-learn.org. See: https://github.com/scikit-learn/scikit-learn/issues/21755 */display: inline-block !important;position: relative;}#sk-container-id-1 div.sk-text-repr-fallback {display: none;}</style><div id=\"sk-container-id-1\" class=\"sk-top-container\"><div class=\"sk-text-repr-fallback\"><pre>LinearRegression()</pre><b>In a Jupyter environment, please rerun this cell to show the HTML representation or trust the notebook. <br />On GitHub, the HTML representation is unable to render, please try loading this page with nbviewer.org.</b></div><div class=\"sk-container\" hidden><div class=\"sk-item\"><div class=\"sk-estimator sk-toggleable\"><input class=\"sk-toggleable__control sk-hidden--visually\" id=\"sk-estimator-id-1\" type=\"checkbox\" checked><label for=\"sk-estimator-id-1\" class=\"sk-toggleable__label sk-toggleable__label-arrow\">LinearRegression</label><div class=\"sk-toggleable__content\"><pre>LinearRegression()</pre></div></div></div></div></div>"
            ]
          },
          "metadata": {},
          "execution_count": 189
        }
      ]
    },
    {
      "cell_type": "code",
      "source": [
        "model.intercept_"
      ],
      "metadata": {
        "colab": {
          "base_uri": "https://localhost:8080/"
        },
        "id": "GbzVqVhqkJQf",
        "outputId": "b4ac47f9-1dc8-47fa-f9f1-cfa655b6868e"
      },
      "execution_count": 190,
      "outputs": [
        {
          "output_type": "execute_result",
          "data": {
            "text/plain": [
              "21.01627117134976"
            ]
          },
          "metadata": {},
          "execution_count": 190
        }
      ]
    },
    {
      "cell_type": "code",
      "source": [
        "model.coef_.round(2)"
      ],
      "metadata": {
        "colab": {
          "base_uri": "https://localhost:8080/"
        },
        "id": "S5-oKmPtmRo8",
        "outputId": "319c23ca-61dc-43c3-ac55-a6c9a6aa5ebf"
      },
      "execution_count": 191,
      "outputs": [
        {
          "output_type": "execute_result",
          "data": {
            "text/plain": [
              "array([-0.19, -0.21, -0.2 , -0.21, -0.07, -0.1 , -0.27, -0.2 , -0.19,\n",
              "       -0.07, -0.26, -0.27, -0.21, -0.13, -0.35, -0.19, -0.02, -0.13,\n",
              "       -0.21, -0.11, -0.43, -0.19, -0.19, -0.4 ,  0.  ,  0.  ,  0.  ,\n",
              "        0.  ])"
            ]
          },
          "metadata": {},
          "execution_count": 191
        }
      ]
    },
    {
      "cell_type": "code",
      "source": [
        "model.score(X_train, Y_train)"
      ],
      "metadata": {
        "colab": {
          "base_uri": "https://localhost:8080/"
        },
        "id": "YV2MXTuVmU-x",
        "outputId": "89ef3b7d-f897-44ab-ea42-7a7264f37802"
      },
      "execution_count": 192,
      "outputs": [
        {
          "output_type": "execute_result",
          "data": {
            "text/plain": [
              "0.6156589356321576"
            ]
          },
          "metadata": {},
          "execution_count": 192
        }
      ]
    },
    {
      "cell_type": "code",
      "source": [
        "model.score(X_test, Y_test)"
      ],
      "metadata": {
        "colab": {
          "base_uri": "https://localhost:8080/"
        },
        "id": "-3ftU9HymYg6",
        "outputId": "e79c96d3-4881-4748-9955-d7277223091f"
      },
      "execution_count": 193,
      "outputs": [
        {
          "output_type": "execute_result",
          "data": {
            "text/plain": [
              "0.6314410116418135"
            ]
          },
          "metadata": {},
          "execution_count": 193
        }
      ]
    },
    {
      "cell_type": "code",
      "source": [
        "X_test"
      ],
      "metadata": {
        "colab": {
          "base_uri": "https://localhost:8080/",
          "height": 557
        },
        "id": "wJuv93PambwN",
        "outputId": "1d86a9c4-74d2-433b-a45b-97ecb5692721"
      },
      "execution_count": 203,
      "outputs": [
        {
          "output_type": "execute_result",
          "data": {
            "text/plain": [
              "      Exposure to forces of nature  Conflict and terrorism  \\\n",
              "3078                      0.002043                0.015036   \n",
              "2374                      0.000000                0.000238   \n",
              "2786                      0.000075                0.001115   \n",
              "4219                      0.024274                0.044523   \n",
              "1838                      0.000179                0.220009   \n",
              "...                            ...                     ...   \n",
              "5696                      0.001082                0.053387   \n",
              "3213                      0.018062                0.012437   \n",
              "2932                      0.002728                0.003477   \n",
              "6937                      0.123424                1.059800   \n",
              "6176                      0.001084                0.185337   \n",
              "\n",
              "      Interpersonal violence  Neglected tropical diseases and malaria  \\\n",
              "3078                0.563435                                16.080387   \n",
              "2374                0.335102                                15.444592   \n",
              "2786                0.787226                                 9.601911   \n",
              "4219                0.390876                                 4.857598   \n",
              "1838                0.572890                                 0.146554   \n",
              "...                      ...                                      ...   \n",
              "5696                0.306556                                 0.078085   \n",
              "3213                0.923870                                 0.085002   \n",
              "2932                0.338180                                 0.109258   \n",
              "6937                1.544737                                 0.580591   \n",
              "6176                0.422162                                 0.146722   \n",
              "\n",
              "      Substance use disorders  Skin and subcutaneous diseases  \\\n",
              "3078                 0.129266                        0.600150   \n",
              "2374                 0.172249                        0.460773   \n",
              "2786                 0.688866                        1.264835   \n",
              "4219                 0.323115                        0.986742   \n",
              "1838                 1.632328                        1.164088   \n",
              "...                       ...                             ...   \n",
              "5696                 1.669968                        2.419891   \n",
              "3213                 2.109744                        2.228362   \n",
              "2932                 1.420016                        2.207938   \n",
              "6937                 0.989787                        1.384180   \n",
              "6176                 1.239866                        1.200152   \n",
              "\n",
              "      Enteric infections  Diabetes and kidney diseases  \\\n",
              "3078            9.203012                      1.496890   \n",
              "2374           19.125966                      1.026366   \n",
              "2786            3.025370                      4.839554   \n",
              "4219           17.150972                      1.359541   \n",
              "1838            0.436462                      3.879414   \n",
              "...                  ...                           ...   \n",
              "5696            0.284065                      6.380430   \n",
              "3213            0.260424                      3.435920   \n",
              "2932            0.207138                      4.314342   \n",
              "6937           12.398922                      1.231585   \n",
              "6176            0.359279                      6.277573   \n",
              "\n",
              "      Cardiovascular diseases  Digestive diseases  ...  Neoplasms  \\\n",
              "3078                 4.356314            1.917431  ...   2.779351   \n",
              "2374                 3.620277            1.393077  ...   1.499873   \n",
              "2786                 9.182298            3.296717  ...   5.964354   \n",
              "4219                 7.797465            2.210946  ...   2.740164   \n",
              "1838                29.164697            5.293985  ...  17.754890   \n",
              "...                       ...                 ...  ...        ...   \n",
              "5696                15.392042            3.537242  ...  18.976570   \n",
              "3213                19.981570            3.708787  ...  17.092175   \n",
              "2932                22.453270            2.538948  ...  19.529212   \n",
              "6937                11.836933            2.915701  ...   4.326785   \n",
              "6176                31.252924            3.630735  ...  20.389827   \n",
              "\n",
              "      Mental disorders  Neurological disorders  \\\n",
              "3078          1.599057                1.369066   \n",
              "2374          1.393963                0.859476   \n",
              "2786          4.740359                3.068893   \n",
              "4219          2.675014                1.293979   \n",
              "1838          4.653731                4.053836   \n",
              "...                ...                     ...   \n",
              "5696          8.368235                6.512777   \n",
              "3213          6.522837                5.008639   \n",
              "2932          8.340543                6.240750   \n",
              "6937          2.520843                2.726366   \n",
              "6176          4.244069                4.295235   \n",
              "\n",
              "      HIV/AIDS and sexually transmitted infections  Transport injuries  \\\n",
              "3078                                      4.321970            1.788202   \n",
              "2374                                      2.941952            2.497602   \n",
              "2786                                     11.209130            4.911991   \n",
              "4219                                      2.800698            1.688783   \n",
              "1838                                      0.063644            3.525401   \n",
              "...                                            ...                 ...   \n",
              "5696                                      0.790415            1.403091   \n",
              "3213                                      1.210429            3.413911   \n",
              "2932                                      0.082162            2.344359   \n",
              "6937                                      0.217659            1.550872   \n",
              "6176                                      0.162039            1.863886   \n",
              "\n",
              "      Sense organ diseases  HOUR  DAY  MONTH  DAYOFWEEK  \n",
              "3078              0.747598     0    1      1          3  \n",
              "2374              0.544884     0    1      1          3  \n",
              "2786              1.379936     0    1      1          3  \n",
              "4219              0.943886     0    1      1          3  \n",
              "1838              2.277286     0    1      1          3  \n",
              "...                    ...   ...  ...    ...        ...  \n",
              "5696              2.467253     0    1      1          3  \n",
              "3213              2.123114     0    1      1          3  \n",
              "2932              2.439686     0    1      1          3  \n",
              "6937              1.106340     0    1      1          3  \n",
              "6176              2.526785     0    1      1          3  \n",
              "\n",
              "[1602 rows x 28 columns]"
            ],
            "text/html": [
              "\n",
              "  <div id=\"df-3420d272-a6df-44bc-b8ac-0189bf17a807\">\n",
              "    <div class=\"colab-df-container\">\n",
              "      <div>\n",
              "<style scoped>\n",
              "    .dataframe tbody tr th:only-of-type {\n",
              "        vertical-align: middle;\n",
              "    }\n",
              "\n",
              "    .dataframe tbody tr th {\n",
              "        vertical-align: top;\n",
              "    }\n",
              "\n",
              "    .dataframe thead th {\n",
              "        text-align: right;\n",
              "    }\n",
              "</style>\n",
              "<table border=\"1\" class=\"dataframe\">\n",
              "  <thead>\n",
              "    <tr style=\"text-align: right;\">\n",
              "      <th></th>\n",
              "      <th>Exposure to forces of nature</th>\n",
              "      <th>Conflict and terrorism</th>\n",
              "      <th>Interpersonal violence</th>\n",
              "      <th>Neglected tropical diseases and malaria</th>\n",
              "      <th>Substance use disorders</th>\n",
              "      <th>Skin and subcutaneous diseases</th>\n",
              "      <th>Enteric infections</th>\n",
              "      <th>Diabetes and kidney diseases</th>\n",
              "      <th>Cardiovascular diseases</th>\n",
              "      <th>Digestive diseases</th>\n",
              "      <th>...</th>\n",
              "      <th>Neoplasms</th>\n",
              "      <th>Mental disorders</th>\n",
              "      <th>Neurological disorders</th>\n",
              "      <th>HIV/AIDS and sexually transmitted infections</th>\n",
              "      <th>Transport injuries</th>\n",
              "      <th>Sense organ diseases</th>\n",
              "      <th>HOUR</th>\n",
              "      <th>DAY</th>\n",
              "      <th>MONTH</th>\n",
              "      <th>DAYOFWEEK</th>\n",
              "    </tr>\n",
              "  </thead>\n",
              "  <tbody>\n",
              "    <tr>\n",
              "      <th>3078</th>\n",
              "      <td>0.002043</td>\n",
              "      <td>0.015036</td>\n",
              "      <td>0.563435</td>\n",
              "      <td>16.080387</td>\n",
              "      <td>0.129266</td>\n",
              "      <td>0.600150</td>\n",
              "      <td>9.203012</td>\n",
              "      <td>1.496890</td>\n",
              "      <td>4.356314</td>\n",
              "      <td>1.917431</td>\n",
              "      <td>...</td>\n",
              "      <td>2.779351</td>\n",
              "      <td>1.599057</td>\n",
              "      <td>1.369066</td>\n",
              "      <td>4.321970</td>\n",
              "      <td>1.788202</td>\n",
              "      <td>0.747598</td>\n",
              "      <td>0</td>\n",
              "      <td>1</td>\n",
              "      <td>1</td>\n",
              "      <td>3</td>\n",
              "    </tr>\n",
              "    <tr>\n",
              "      <th>2374</th>\n",
              "      <td>0.000000</td>\n",
              "      <td>0.000238</td>\n",
              "      <td>0.335102</td>\n",
              "      <td>15.444592</td>\n",
              "      <td>0.172249</td>\n",
              "      <td>0.460773</td>\n",
              "      <td>19.125966</td>\n",
              "      <td>1.026366</td>\n",
              "      <td>3.620277</td>\n",
              "      <td>1.393077</td>\n",
              "      <td>...</td>\n",
              "      <td>1.499873</td>\n",
              "      <td>1.393963</td>\n",
              "      <td>0.859476</td>\n",
              "      <td>2.941952</td>\n",
              "      <td>2.497602</td>\n",
              "      <td>0.544884</td>\n",
              "      <td>0</td>\n",
              "      <td>1</td>\n",
              "      <td>1</td>\n",
              "      <td>3</td>\n",
              "    </tr>\n",
              "    <tr>\n",
              "      <th>2786</th>\n",
              "      <td>0.000075</td>\n",
              "      <td>0.001115</td>\n",
              "      <td>0.787226</td>\n",
              "      <td>9.601911</td>\n",
              "      <td>0.688866</td>\n",
              "      <td>1.264835</td>\n",
              "      <td>3.025370</td>\n",
              "      <td>4.839554</td>\n",
              "      <td>9.182298</td>\n",
              "      <td>3.296717</td>\n",
              "      <td>...</td>\n",
              "      <td>5.964354</td>\n",
              "      <td>4.740359</td>\n",
              "      <td>3.068893</td>\n",
              "      <td>11.209130</td>\n",
              "      <td>4.911991</td>\n",
              "      <td>1.379936</td>\n",
              "      <td>0</td>\n",
              "      <td>1</td>\n",
              "      <td>1</td>\n",
              "      <td>3</td>\n",
              "    </tr>\n",
              "    <tr>\n",
              "      <th>4219</th>\n",
              "      <td>0.024274</td>\n",
              "      <td>0.044523</td>\n",
              "      <td>0.390876</td>\n",
              "      <td>4.857598</td>\n",
              "      <td>0.323115</td>\n",
              "      <td>0.986742</td>\n",
              "      <td>17.150972</td>\n",
              "      <td>1.359541</td>\n",
              "      <td>7.797465</td>\n",
              "      <td>2.210946</td>\n",
              "      <td>...</td>\n",
              "      <td>2.740164</td>\n",
              "      <td>2.675014</td>\n",
              "      <td>1.293979</td>\n",
              "      <td>2.800698</td>\n",
              "      <td>1.688783</td>\n",
              "      <td>0.943886</td>\n",
              "      <td>0</td>\n",
              "      <td>1</td>\n",
              "      <td>1</td>\n",
              "      <td>3</td>\n",
              "    </tr>\n",
              "    <tr>\n",
              "      <th>1838</th>\n",
              "      <td>0.000179</td>\n",
              "      <td>0.220009</td>\n",
              "      <td>0.572890</td>\n",
              "      <td>0.146554</td>\n",
              "      <td>1.632328</td>\n",
              "      <td>1.164088</td>\n",
              "      <td>0.436462</td>\n",
              "      <td>3.879414</td>\n",
              "      <td>29.164697</td>\n",
              "      <td>5.293985</td>\n",
              "      <td>...</td>\n",
              "      <td>17.754890</td>\n",
              "      <td>4.653731</td>\n",
              "      <td>4.053836</td>\n",
              "      <td>0.063644</td>\n",
              "      <td>3.525401</td>\n",
              "      <td>2.277286</td>\n",
              "      <td>0</td>\n",
              "      <td>1</td>\n",
              "      <td>1</td>\n",
              "      <td>3</td>\n",
              "    </tr>\n",
              "    <tr>\n",
              "      <th>...</th>\n",
              "      <td>...</td>\n",
              "      <td>...</td>\n",
              "      <td>...</td>\n",
              "      <td>...</td>\n",
              "      <td>...</td>\n",
              "      <td>...</td>\n",
              "      <td>...</td>\n",
              "      <td>...</td>\n",
              "      <td>...</td>\n",
              "      <td>...</td>\n",
              "      <td>...</td>\n",
              "      <td>...</td>\n",
              "      <td>...</td>\n",
              "      <td>...</td>\n",
              "      <td>...</td>\n",
              "      <td>...</td>\n",
              "      <td>...</td>\n",
              "      <td>...</td>\n",
              "      <td>...</td>\n",
              "      <td>...</td>\n",
              "      <td>...</td>\n",
              "    </tr>\n",
              "    <tr>\n",
              "      <th>5696</th>\n",
              "      <td>0.001082</td>\n",
              "      <td>0.053387</td>\n",
              "      <td>0.306556</td>\n",
              "      <td>0.078085</td>\n",
              "      <td>1.669968</td>\n",
              "      <td>2.419891</td>\n",
              "      <td>0.284065</td>\n",
              "      <td>6.380430</td>\n",
              "      <td>15.392042</td>\n",
              "      <td>3.537242</td>\n",
              "      <td>...</td>\n",
              "      <td>18.976570</td>\n",
              "      <td>8.368235</td>\n",
              "      <td>6.512777</td>\n",
              "      <td>0.790415</td>\n",
              "      <td>1.403091</td>\n",
              "      <td>2.467253</td>\n",
              "      <td>0</td>\n",
              "      <td>1</td>\n",
              "      <td>1</td>\n",
              "      <td>3</td>\n",
              "    </tr>\n",
              "    <tr>\n",
              "      <th>3213</th>\n",
              "      <td>0.018062</td>\n",
              "      <td>0.012437</td>\n",
              "      <td>0.923870</td>\n",
              "      <td>0.085002</td>\n",
              "      <td>2.109744</td>\n",
              "      <td>2.228362</td>\n",
              "      <td>0.260424</td>\n",
              "      <td>3.435920</td>\n",
              "      <td>19.981570</td>\n",
              "      <td>3.708787</td>\n",
              "      <td>...</td>\n",
              "      <td>17.092175</td>\n",
              "      <td>6.522837</td>\n",
              "      <td>5.008639</td>\n",
              "      <td>1.210429</td>\n",
              "      <td>3.413911</td>\n",
              "      <td>2.123114</td>\n",
              "      <td>0</td>\n",
              "      <td>1</td>\n",
              "      <td>1</td>\n",
              "      <td>3</td>\n",
              "    </tr>\n",
              "    <tr>\n",
              "      <th>2932</th>\n",
              "      <td>0.002728</td>\n",
              "      <td>0.003477</td>\n",
              "      <td>0.338180</td>\n",
              "      <td>0.109258</td>\n",
              "      <td>1.420016</td>\n",
              "      <td>2.207938</td>\n",
              "      <td>0.207138</td>\n",
              "      <td>4.314342</td>\n",
              "      <td>22.453270</td>\n",
              "      <td>2.538948</td>\n",
              "      <td>...</td>\n",
              "      <td>19.529212</td>\n",
              "      <td>8.340543</td>\n",
              "      <td>6.240750</td>\n",
              "      <td>0.082162</td>\n",
              "      <td>2.344359</td>\n",
              "      <td>2.439686</td>\n",
              "      <td>0</td>\n",
              "      <td>1</td>\n",
              "      <td>1</td>\n",
              "      <td>3</td>\n",
              "    </tr>\n",
              "    <tr>\n",
              "      <th>6937</th>\n",
              "      <td>0.123424</td>\n",
              "      <td>1.059800</td>\n",
              "      <td>1.544737</td>\n",
              "      <td>0.580591</td>\n",
              "      <td>0.989787</td>\n",
              "      <td>1.384180</td>\n",
              "      <td>12.398922</td>\n",
              "      <td>1.231585</td>\n",
              "      <td>11.836933</td>\n",
              "      <td>2.915701</td>\n",
              "      <td>...</td>\n",
              "      <td>4.326785</td>\n",
              "      <td>2.520843</td>\n",
              "      <td>2.726366</td>\n",
              "      <td>0.217659</td>\n",
              "      <td>1.550872</td>\n",
              "      <td>1.106340</td>\n",
              "      <td>0</td>\n",
              "      <td>1</td>\n",
              "      <td>1</td>\n",
              "      <td>3</td>\n",
              "    </tr>\n",
              "    <tr>\n",
              "      <th>6176</th>\n",
              "      <td>0.001084</td>\n",
              "      <td>0.185337</td>\n",
              "      <td>0.422162</td>\n",
              "      <td>0.146722</td>\n",
              "      <td>1.239866</td>\n",
              "      <td>1.200152</td>\n",
              "      <td>0.359279</td>\n",
              "      <td>6.277573</td>\n",
              "      <td>31.252924</td>\n",
              "      <td>3.630735</td>\n",
              "      <td>...</td>\n",
              "      <td>20.389827</td>\n",
              "      <td>4.244069</td>\n",
              "      <td>4.295235</td>\n",
              "      <td>0.162039</td>\n",
              "      <td>1.863886</td>\n",
              "      <td>2.526785</td>\n",
              "      <td>0</td>\n",
              "      <td>1</td>\n",
              "      <td>1</td>\n",
              "      <td>3</td>\n",
              "    </tr>\n",
              "  </tbody>\n",
              "</table>\n",
              "<p>1602 rows × 28 columns</p>\n",
              "</div>\n",
              "      <button class=\"colab-df-convert\" onclick=\"convertToInteractive('df-3420d272-a6df-44bc-b8ac-0189bf17a807')\"\n",
              "              title=\"Convert this dataframe to an interactive table.\"\n",
              "              style=\"display:none;\">\n",
              "        \n",
              "  <svg xmlns=\"http://www.w3.org/2000/svg\" height=\"24px\"viewBox=\"0 0 24 24\"\n",
              "       width=\"24px\">\n",
              "    <path d=\"M0 0h24v24H0V0z\" fill=\"none\"/>\n",
              "    <path d=\"M18.56 5.44l.94 2.06.94-2.06 2.06-.94-2.06-.94-.94-2.06-.94 2.06-2.06.94zm-11 1L8.5 8.5l.94-2.06 2.06-.94-2.06-.94L8.5 2.5l-.94 2.06-2.06.94zm10 10l.94 2.06.94-2.06 2.06-.94-2.06-.94-.94-2.06-.94 2.06-2.06.94z\"/><path d=\"M17.41 7.96l-1.37-1.37c-.4-.4-.92-.59-1.43-.59-.52 0-1.04.2-1.43.59L10.3 9.45l-7.72 7.72c-.78.78-.78 2.05 0 2.83L4 21.41c.39.39.9.59 1.41.59.51 0 1.02-.2 1.41-.59l7.78-7.78 2.81-2.81c.8-.78.8-2.07 0-2.86zM5.41 20L4 18.59l7.72-7.72 1.47 1.35L5.41 20z\"/>\n",
              "  </svg>\n",
              "      </button>\n",
              "      \n",
              "  <style>\n",
              "    .colab-df-container {\n",
              "      display:flex;\n",
              "      flex-wrap:wrap;\n",
              "      gap: 12px;\n",
              "    }\n",
              "\n",
              "    .colab-df-convert {\n",
              "      background-color: #E8F0FE;\n",
              "      border: none;\n",
              "      border-radius: 50%;\n",
              "      cursor: pointer;\n",
              "      display: none;\n",
              "      fill: #1967D2;\n",
              "      height: 32px;\n",
              "      padding: 0 0 0 0;\n",
              "      width: 32px;\n",
              "    }\n",
              "\n",
              "    .colab-df-convert:hover {\n",
              "      background-color: #E2EBFA;\n",
              "      box-shadow: 0px 1px 2px rgba(60, 64, 67, 0.3), 0px 1px 3px 1px rgba(60, 64, 67, 0.15);\n",
              "      fill: #174EA6;\n",
              "    }\n",
              "\n",
              "    [theme=dark] .colab-df-convert {\n",
              "      background-color: #3B4455;\n",
              "      fill: #D2E3FC;\n",
              "    }\n",
              "\n",
              "    [theme=dark] .colab-df-convert:hover {\n",
              "      background-color: #434B5C;\n",
              "      box-shadow: 0px 1px 3px 1px rgba(0, 0, 0, 0.15);\n",
              "      filter: drop-shadow(0px 1px 2px rgba(0, 0, 0, 0.3));\n",
              "      fill: #FFFFFF;\n",
              "    }\n",
              "  </style>\n",
              "\n",
              "      <script>\n",
              "        const buttonEl =\n",
              "          document.querySelector('#df-3420d272-a6df-44bc-b8ac-0189bf17a807 button.colab-df-convert');\n",
              "        buttonEl.style.display =\n",
              "          google.colab.kernel.accessAllowed ? 'block' : 'none';\n",
              "\n",
              "        async function convertToInteractive(key) {\n",
              "          const element = document.querySelector('#df-3420d272-a6df-44bc-b8ac-0189bf17a807');\n",
              "          const dataTable =\n",
              "            await google.colab.kernel.invokeFunction('convertToInteractive',\n",
              "                                                     [key], {});\n",
              "          if (!dataTable) return;\n",
              "\n",
              "          const docLinkHtml = 'Like what you see? Visit the ' +\n",
              "            '<a target=\"_blank\" href=https://colab.research.google.com/notebooks/data_table.ipynb>data table notebook</a>'\n",
              "            + ' to learn more about interactive tables.';\n",
              "          element.innerHTML = '';\n",
              "          dataTable['output_type'] = 'display_data';\n",
              "          await google.colab.output.renderOutput(dataTable, element);\n",
              "          const docLink = document.createElement('div');\n",
              "          docLink.innerHTML = docLinkHtml;\n",
              "          element.appendChild(docLink);\n",
              "        }\n",
              "      </script>\n",
              "    </div>\n",
              "  </div>\n",
              "  "
            ]
          },
          "metadata": {},
          "execution_count": 203
        }
      ]
    },
    {
      "cell_type": "code",
      "source": [
        "y_pred_test = model.predict(X_test)"
      ],
      "metadata": {
        "id": "TrjYLZkWmeHd"
      },
      "execution_count": 204,
      "outputs": []
    },
    {
      "cell_type": "code",
      "source": [
        "y_pred_test.shape"
      ],
      "metadata": {
        "colab": {
          "base_uri": "https://localhost:8080/"
        },
        "id": "yCiJL4cpmrou",
        "outputId": "1088e4d0-4b8f-4939-bde5-9c1428c3155c"
      },
      "execution_count": 205,
      "outputs": [
        {
          "output_type": "execute_result",
          "data": {
            "text/plain": [
              "(1602,)"
            ]
          },
          "metadata": {},
          "execution_count": 205
        }
      ]
    },
    {
      "cell_type": "code",
      "source": [
        "y_pred_test[:5]"
      ],
      "metadata": {
        "colab": {
          "base_uri": "https://localhost:8080/"
        },
        "id": "0yFt4tRhmucS",
        "outputId": "787d1a01-2411-42a6-aa11-5b64aa286553"
      },
      "execution_count": 206,
      "outputs": [
        {
          "output_type": "execute_result",
          "data": {
            "text/plain": [
              "array([ 0.28080395, -0.21561149,  0.77941989, -0.37766224,  2.3818821 ])"
            ]
          },
          "metadata": {},
          "execution_count": 206
        }
      ]
    },
    {
      "cell_type": "markdown",
      "source": [
        "**CONCLUSION :\n",
        "For the given dataset, the predicted model value is quite precise.\n",
        "Model prediction is a critical step in machine learning and predictive analytics. It is the process of applying a trained model to new data points to generate predictions or estimations.**"
      ],
      "metadata": {
        "id": "J1Hb1ntGrHnP"
      }
    }
  ]
}