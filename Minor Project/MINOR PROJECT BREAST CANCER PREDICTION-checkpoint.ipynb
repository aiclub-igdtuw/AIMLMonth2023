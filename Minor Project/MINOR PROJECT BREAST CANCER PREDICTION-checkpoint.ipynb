{
 "cells": [
  {
   "cell_type": "markdown",
   "id": "e2535f15",
   "metadata": {},
   "source": [
    "# TASK 1 - Exploratory Data Analysis"
   ]
  },
  {
   "cell_type": "code",
   "execution_count": 69,
   "id": "727bb8b5",
   "metadata": {},
   "outputs": [],
   "source": [
    "import numpy as np\n",
    "import pandas as pd\n",
    "import matplotlib.pyplot as plt\n",
    "import seaborn as sns\n",
    "import warnings\n",
    "warnings.filterwarnings('ignore')"
   ]
  },
  {
   "cell_type": "code",
   "execution_count": 70,
   "id": "cbc95c68",
   "metadata": {},
   "outputs": [],
   "source": [
    "bcancer=pd.read_csv('Breast_cancer_data.csv')"
   ]
  },
  {
   "cell_type": "code",
   "execution_count": 71,
   "id": "816b881f",
   "metadata": {},
   "outputs": [
    {
     "data": {
      "text/html": [
       "<div>\n",
       "<style scoped>\n",
       "    .dataframe tbody tr th:only-of-type {\n",
       "        vertical-align: middle;\n",
       "    }\n",
       "\n",
       "    .dataframe tbody tr th {\n",
       "        vertical-align: top;\n",
       "    }\n",
       "\n",
       "    .dataframe thead th {\n",
       "        text-align: right;\n",
       "    }\n",
       "</style>\n",
       "<table border=\"1\" class=\"dataframe\">\n",
       "  <thead>\n",
       "    <tr style=\"text-align: right;\">\n",
       "      <th></th>\n",
       "      <th>mean_radius</th>\n",
       "      <th>mean_texture</th>\n",
       "      <th>mean_perimeter</th>\n",
       "      <th>mean_area</th>\n",
       "      <th>mean_smoothness</th>\n",
       "      <th>diagnosis</th>\n",
       "    </tr>\n",
       "  </thead>\n",
       "  <tbody>\n",
       "    <tr>\n",
       "      <th>0</th>\n",
       "      <td>17.99</td>\n",
       "      <td>10.38</td>\n",
       "      <td>122.80</td>\n",
       "      <td>1001.0</td>\n",
       "      <td>0.11840</td>\n",
       "      <td>0</td>\n",
       "    </tr>\n",
       "    <tr>\n",
       "      <th>1</th>\n",
       "      <td>20.57</td>\n",
       "      <td>17.77</td>\n",
       "      <td>132.90</td>\n",
       "      <td>1326.0</td>\n",
       "      <td>0.08474</td>\n",
       "      <td>0</td>\n",
       "    </tr>\n",
       "    <tr>\n",
       "      <th>2</th>\n",
       "      <td>19.69</td>\n",
       "      <td>21.25</td>\n",
       "      <td>130.00</td>\n",
       "      <td>1203.0</td>\n",
       "      <td>0.10960</td>\n",
       "      <td>0</td>\n",
       "    </tr>\n",
       "    <tr>\n",
       "      <th>3</th>\n",
       "      <td>11.42</td>\n",
       "      <td>20.38</td>\n",
       "      <td>77.58</td>\n",
       "      <td>386.1</td>\n",
       "      <td>0.14250</td>\n",
       "      <td>0</td>\n",
       "    </tr>\n",
       "    <tr>\n",
       "      <th>4</th>\n",
       "      <td>20.29</td>\n",
       "      <td>14.34</td>\n",
       "      <td>135.10</td>\n",
       "      <td>1297.0</td>\n",
       "      <td>0.10030</td>\n",
       "      <td>0</td>\n",
       "    </tr>\n",
       "    <tr>\n",
       "      <th>...</th>\n",
       "      <td>...</td>\n",
       "      <td>...</td>\n",
       "      <td>...</td>\n",
       "      <td>...</td>\n",
       "      <td>...</td>\n",
       "      <td>...</td>\n",
       "    </tr>\n",
       "    <tr>\n",
       "      <th>564</th>\n",
       "      <td>21.56</td>\n",
       "      <td>22.39</td>\n",
       "      <td>142.00</td>\n",
       "      <td>1479.0</td>\n",
       "      <td>0.11100</td>\n",
       "      <td>0</td>\n",
       "    </tr>\n",
       "    <tr>\n",
       "      <th>565</th>\n",
       "      <td>20.13</td>\n",
       "      <td>28.25</td>\n",
       "      <td>131.20</td>\n",
       "      <td>1261.0</td>\n",
       "      <td>0.09780</td>\n",
       "      <td>0</td>\n",
       "    </tr>\n",
       "    <tr>\n",
       "      <th>566</th>\n",
       "      <td>16.60</td>\n",
       "      <td>28.08</td>\n",
       "      <td>108.30</td>\n",
       "      <td>858.1</td>\n",
       "      <td>0.08455</td>\n",
       "      <td>0</td>\n",
       "    </tr>\n",
       "    <tr>\n",
       "      <th>567</th>\n",
       "      <td>20.60</td>\n",
       "      <td>29.33</td>\n",
       "      <td>140.10</td>\n",
       "      <td>1265.0</td>\n",
       "      <td>0.11780</td>\n",
       "      <td>0</td>\n",
       "    </tr>\n",
       "    <tr>\n",
       "      <th>568</th>\n",
       "      <td>7.76</td>\n",
       "      <td>24.54</td>\n",
       "      <td>47.92</td>\n",
       "      <td>181.0</td>\n",
       "      <td>0.05263</td>\n",
       "      <td>1</td>\n",
       "    </tr>\n",
       "  </tbody>\n",
       "</table>\n",
       "<p>569 rows × 6 columns</p>\n",
       "</div>"
      ],
      "text/plain": [
       "     mean_radius  mean_texture  mean_perimeter  mean_area  mean_smoothness  \\\n",
       "0          17.99         10.38          122.80     1001.0          0.11840   \n",
       "1          20.57         17.77          132.90     1326.0          0.08474   \n",
       "2          19.69         21.25          130.00     1203.0          0.10960   \n",
       "3          11.42         20.38           77.58      386.1          0.14250   \n",
       "4          20.29         14.34          135.10     1297.0          0.10030   \n",
       "..           ...           ...             ...        ...              ...   \n",
       "564        21.56         22.39          142.00     1479.0          0.11100   \n",
       "565        20.13         28.25          131.20     1261.0          0.09780   \n",
       "566        16.60         28.08          108.30      858.1          0.08455   \n",
       "567        20.60         29.33          140.10     1265.0          0.11780   \n",
       "568         7.76         24.54           47.92      181.0          0.05263   \n",
       "\n",
       "     diagnosis  \n",
       "0            0  \n",
       "1            0  \n",
       "2            0  \n",
       "3            0  \n",
       "4            0  \n",
       "..         ...  \n",
       "564          0  \n",
       "565          0  \n",
       "566          0  \n",
       "567          0  \n",
       "568          1  \n",
       "\n",
       "[569 rows x 6 columns]"
      ]
     },
     "execution_count": 71,
     "metadata": {},
     "output_type": "execute_result"
    }
   ],
   "source": [
    "bcancer"
   ]
  },
  {
   "cell_type": "code",
   "execution_count": 72,
   "id": "15357b21",
   "metadata": {},
   "outputs": [
    {
     "data": {
      "text/plain": [
       "Index(['mean_radius', 'mean_texture', 'mean_perimeter', 'mean_area',\n",
       "       'mean_smoothness', 'diagnosis'],\n",
       "      dtype='object')"
      ]
     },
     "execution_count": 72,
     "metadata": {},
     "output_type": "execute_result"
    }
   ],
   "source": [
    "bcancer.columns\n"
   ]
  },
  {
   "cell_type": "code",
   "execution_count": 73,
   "id": "715889e6",
   "metadata": {},
   "outputs": [],
   "source": [
    "columns=['MEAN_RADIUS', 'MEAN_TEXTURE', 'MEAN_PERIMETER', 'MEAN_AREA',\n",
    "       'MEAN_SMOOTHNESS', 'DIAGNOSIS']"
   ]
  },
  {
   "cell_type": "code",
   "execution_count": 74,
   "id": "cb1c0d35",
   "metadata": {},
   "outputs": [],
   "source": [
    "bcancer.columns=columns"
   ]
  },
  {
   "cell_type": "code",
   "execution_count": 75,
   "id": "315222ef",
   "metadata": {},
   "outputs": [
    {
     "data": {
      "text/html": [
       "<div>\n",
       "<style scoped>\n",
       "    .dataframe tbody tr th:only-of-type {\n",
       "        vertical-align: middle;\n",
       "    }\n",
       "\n",
       "    .dataframe tbody tr th {\n",
       "        vertical-align: top;\n",
       "    }\n",
       "\n",
       "    .dataframe thead th {\n",
       "        text-align: right;\n",
       "    }\n",
       "</style>\n",
       "<table border=\"1\" class=\"dataframe\">\n",
       "  <thead>\n",
       "    <tr style=\"text-align: right;\">\n",
       "      <th></th>\n",
       "      <th>MEAN_RADIUS</th>\n",
       "      <th>MEAN_TEXTURE</th>\n",
       "      <th>MEAN_PERIMETER</th>\n",
       "      <th>MEAN_AREA</th>\n",
       "      <th>MEAN_SMOOTHNESS</th>\n",
       "      <th>DIAGNOSIS</th>\n",
       "    </tr>\n",
       "  </thead>\n",
       "  <tbody>\n",
       "    <tr>\n",
       "      <th>0</th>\n",
       "      <td>17.99</td>\n",
       "      <td>10.38</td>\n",
       "      <td>122.80</td>\n",
       "      <td>1001.0</td>\n",
       "      <td>0.11840</td>\n",
       "      <td>0</td>\n",
       "    </tr>\n",
       "    <tr>\n",
       "      <th>1</th>\n",
       "      <td>20.57</td>\n",
       "      <td>17.77</td>\n",
       "      <td>132.90</td>\n",
       "      <td>1326.0</td>\n",
       "      <td>0.08474</td>\n",
       "      <td>0</td>\n",
       "    </tr>\n",
       "    <tr>\n",
       "      <th>2</th>\n",
       "      <td>19.69</td>\n",
       "      <td>21.25</td>\n",
       "      <td>130.00</td>\n",
       "      <td>1203.0</td>\n",
       "      <td>0.10960</td>\n",
       "      <td>0</td>\n",
       "    </tr>\n",
       "    <tr>\n",
       "      <th>3</th>\n",
       "      <td>11.42</td>\n",
       "      <td>20.38</td>\n",
       "      <td>77.58</td>\n",
       "      <td>386.1</td>\n",
       "      <td>0.14250</td>\n",
       "      <td>0</td>\n",
       "    </tr>\n",
       "    <tr>\n",
       "      <th>4</th>\n",
       "      <td>20.29</td>\n",
       "      <td>14.34</td>\n",
       "      <td>135.10</td>\n",
       "      <td>1297.0</td>\n",
       "      <td>0.10030</td>\n",
       "      <td>0</td>\n",
       "    </tr>\n",
       "  </tbody>\n",
       "</table>\n",
       "</div>"
      ],
      "text/plain": [
       "   MEAN_RADIUS  MEAN_TEXTURE  MEAN_PERIMETER  MEAN_AREA  MEAN_SMOOTHNESS  \\\n",
       "0        17.99         10.38          122.80     1001.0          0.11840   \n",
       "1        20.57         17.77          132.90     1326.0          0.08474   \n",
       "2        19.69         21.25          130.00     1203.0          0.10960   \n",
       "3        11.42         20.38           77.58      386.1          0.14250   \n",
       "4        20.29         14.34          135.10     1297.0          0.10030   \n",
       "\n",
       "   DIAGNOSIS  \n",
       "0          0  \n",
       "1          0  \n",
       "2          0  \n",
       "3          0  \n",
       "4          0  "
      ]
     },
     "execution_count": 75,
     "metadata": {},
     "output_type": "execute_result"
    }
   ],
   "source": [
    "bcancer.head()"
   ]
  },
  {
   "cell_type": "code",
   "execution_count": null,
   "id": "4a51d205",
   "metadata": {},
   "outputs": [],
   "source": []
  },
  {
   "cell_type": "markdown",
   "id": "d7580dcc",
   "metadata": {},
   "source": [
    "Q-1 Are there any missing values and duplicate records in the dataset? If so, how will you handle them?"
   ]
  },
  {
   "cell_type": "code",
   "execution_count": 76,
   "id": "f3e54b42",
   "metadata": {},
   "outputs": [
    {
     "data": {
      "text/plain": [
       "MEAN_RADIUS        0\n",
       "MEAN_TEXTURE       0\n",
       "MEAN_PERIMETER     0\n",
       "MEAN_AREA          0\n",
       "MEAN_SMOOTHNESS    0\n",
       "DIAGNOSIS          0\n",
       "dtype: int64"
      ]
     },
     "execution_count": 76,
     "metadata": {},
     "output_type": "execute_result"
    }
   ],
   "source": [
    "bcancer.isna().sum()"
   ]
  },
  {
   "cell_type": "code",
   "execution_count": 77,
   "id": "2f281c8b",
   "metadata": {},
   "outputs": [
    {
     "data": {
      "text/html": [
       "<div>\n",
       "<style scoped>\n",
       "    .dataframe tbody tr th:only-of-type {\n",
       "        vertical-align: middle;\n",
       "    }\n",
       "\n",
       "    .dataframe tbody tr th {\n",
       "        vertical-align: top;\n",
       "    }\n",
       "\n",
       "    .dataframe thead th {\n",
       "        text-align: right;\n",
       "    }\n",
       "</style>\n",
       "<table border=\"1\" class=\"dataframe\">\n",
       "  <thead>\n",
       "    <tr style=\"text-align: right;\">\n",
       "      <th></th>\n",
       "      <th>MEAN_RADIUS</th>\n",
       "      <th>MEAN_TEXTURE</th>\n",
       "      <th>MEAN_PERIMETER</th>\n",
       "      <th>MEAN_AREA</th>\n",
       "      <th>MEAN_SMOOTHNESS</th>\n",
       "      <th>DIAGNOSIS</th>\n",
       "    </tr>\n",
       "  </thead>\n",
       "  <tbody>\n",
       "    <tr>\n",
       "      <th>0</th>\n",
       "      <td>17.99</td>\n",
       "      <td>10.38</td>\n",
       "      <td>122.80</td>\n",
       "      <td>1001.0</td>\n",
       "      <td>0.11840</td>\n",
       "      <td>0</td>\n",
       "    </tr>\n",
       "    <tr>\n",
       "      <th>1</th>\n",
       "      <td>20.57</td>\n",
       "      <td>17.77</td>\n",
       "      <td>132.90</td>\n",
       "      <td>1326.0</td>\n",
       "      <td>0.08474</td>\n",
       "      <td>0</td>\n",
       "    </tr>\n",
       "    <tr>\n",
       "      <th>2</th>\n",
       "      <td>19.69</td>\n",
       "      <td>21.25</td>\n",
       "      <td>130.00</td>\n",
       "      <td>1203.0</td>\n",
       "      <td>0.10960</td>\n",
       "      <td>0</td>\n",
       "    </tr>\n",
       "    <tr>\n",
       "      <th>3</th>\n",
       "      <td>11.42</td>\n",
       "      <td>20.38</td>\n",
       "      <td>77.58</td>\n",
       "      <td>386.1</td>\n",
       "      <td>0.14250</td>\n",
       "      <td>0</td>\n",
       "    </tr>\n",
       "    <tr>\n",
       "      <th>4</th>\n",
       "      <td>20.29</td>\n",
       "      <td>14.34</td>\n",
       "      <td>135.10</td>\n",
       "      <td>1297.0</td>\n",
       "      <td>0.10030</td>\n",
       "      <td>0</td>\n",
       "    </tr>\n",
       "  </tbody>\n",
       "</table>\n",
       "</div>"
      ],
      "text/plain": [
       "   MEAN_RADIUS  MEAN_TEXTURE  MEAN_PERIMETER  MEAN_AREA  MEAN_SMOOTHNESS  \\\n",
       "0        17.99         10.38          122.80     1001.0          0.11840   \n",
       "1        20.57         17.77          132.90     1326.0          0.08474   \n",
       "2        19.69         21.25          130.00     1203.0          0.10960   \n",
       "3        11.42         20.38           77.58      386.1          0.14250   \n",
       "4        20.29         14.34          135.10     1297.0          0.10030   \n",
       "\n",
       "   DIAGNOSIS  \n",
       "0          0  \n",
       "1          0  \n",
       "2          0  \n",
       "3          0  \n",
       "4          0  "
      ]
     },
     "execution_count": 77,
     "metadata": {},
     "output_type": "execute_result"
    }
   ],
   "source": [
    "bcancer.head()"
   ]
  },
  {
   "cell_type": "markdown",
   "id": "c6b48d7a",
   "metadata": {},
   "source": [
    "there are no missing values or duplicate records here.\n",
    "If there had been any missing values ,then we can fill them with some other value. "
   ]
  },
  {
   "cell_type": "code",
   "execution_count": null,
   "id": "a440fe6c",
   "metadata": {},
   "outputs": [],
   "source": []
  },
  {
   "cell_type": "markdown",
   "id": "6ed4f7c1",
   "metadata": {},
   "source": [
    "Q-2 What is the distribution of the diagnosis variable? Is it a balanced or imbalanced dataset? If the dataset is imbalanced (unequal number of cancerous and non-cancerous cases), how will you address this issue? Can you consider techniques such as oversampling, undersampling, or synthetic data generation?"
   ]
  },
  {
   "cell_type": "code",
   "execution_count": 78,
   "id": "1538fa3d",
   "metadata": {},
   "outputs": [
    {
     "data": {
      "text/plain": [
       "(569, 6)"
      ]
     },
     "execution_count": 78,
     "metadata": {},
     "output_type": "execute_result"
    }
   ],
   "source": [
    "bcancer.shape"
   ]
  },
  {
   "cell_type": "code",
   "execution_count": 79,
   "id": "4e03c42e",
   "metadata": {},
   "outputs": [
    {
     "data": {
      "text/plain": [
       "DIAGNOSIS\n",
       "1    357\n",
       "0    212\n",
       "Name: count, dtype: int64"
      ]
     },
     "execution_count": 79,
     "metadata": {},
     "output_type": "execute_result"
    }
   ],
   "source": [
    "bcancer['DIAGNOSIS'].value_counts()"
   ]
  },
  {
   "cell_type": "code",
   "execution_count": 80,
   "id": "c4ee846b",
   "metadata": {},
   "outputs": [
    {
     "data": {
      "text/plain": [
       "DIAGNOSIS\n",
       "1    62.741652\n",
       "0    37.258348\n",
       "Name: proportion, dtype: float64"
      ]
     },
     "execution_count": 80,
     "metadata": {},
     "output_type": "execute_result"
    }
   ],
   "source": [
    "bcancer['DIAGNOSIS'].value_counts(normalize=True)*100"
   ]
  },
  {
   "cell_type": "markdown",
   "id": "7542da75",
   "metadata": {},
   "source": [
    "Thus , this shows imbalanced dataset.\n",
    "There are 357 people diagnosed,\n",
    "That means 62% people are diagnosed.\n",
    "This means that in every 100 women ,62 women are diagnosed with breast cancer.\n",
    "No, we cannot consider techniques such as oversampling, undersampling, or synthetic data generation, it would lead to wrong interpretation of the dataset."
   ]
  },
  {
   "cell_type": "code",
   "execution_count": null,
   "id": "a9e29ce7",
   "metadata": {},
   "outputs": [],
   "source": []
  },
  {
   "cell_type": "markdown",
   "id": "8a3924a9",
   "metadata": {},
   "source": [
    "Q-3 How does the mean area vary with respect to the mean radius? Can you visualize it using a scatter plot? Are there any notable differences in the mean smoothness between cancerous and non-cancerous cases?"
   ]
  },
  {
   "cell_type": "code",
   "execution_count": 81,
   "id": "48520ee9",
   "metadata": {},
   "outputs": [
    {
     "data": {
      "text/plain": [
       "0      1001.0\n",
       "1      1326.0\n",
       "2      1203.0\n",
       "3       386.1\n",
       "4      1297.0\n",
       "        ...  \n",
       "564    1479.0\n",
       "565    1261.0\n",
       "566     858.1\n",
       "567    1265.0\n",
       "568     181.0\n",
       "Name: MEAN_AREA, Length: 569, dtype: float64"
      ]
     },
     "execution_count": 81,
     "metadata": {},
     "output_type": "execute_result"
    }
   ],
   "source": [
    "bcancer['MEAN_AREA']"
   ]
  },
  {
   "cell_type": "code",
   "execution_count": 82,
   "id": "c4696e88",
   "metadata": {},
   "outputs": [
    {
     "data": {
      "text/plain": [
       "0      17.99\n",
       "1      20.57\n",
       "2      19.69\n",
       "3      11.42\n",
       "4      20.29\n",
       "       ...  \n",
       "564    21.56\n",
       "565    20.13\n",
       "566    16.60\n",
       "567    20.60\n",
       "568     7.76\n",
       "Name: MEAN_RADIUS, Length: 569, dtype: float64"
      ]
     },
     "execution_count": 82,
     "metadata": {},
     "output_type": "execute_result"
    }
   ],
   "source": [
    "bcancer['MEAN_RADIUS']"
   ]
  },
  {
   "cell_type": "code",
   "execution_count": 83,
   "id": "2df544e2",
   "metadata": {},
   "outputs": [],
   "source": [
    "#to check how does the mean area vary with respect to the mean radius we need to understand it visually by plotting a graph."
   ]
  },
  {
   "cell_type": "code",
   "execution_count": 84,
   "id": "b25312dc",
   "metadata": {},
   "outputs": [],
   "source": [
    "x=bcancer['MEAN_RADIUS']"
   ]
  },
  {
   "cell_type": "code",
   "execution_count": 85,
   "id": "522bc873",
   "metadata": {},
   "outputs": [],
   "source": [
    "y=bcancer['MEAN_AREA']"
   ]
  },
  {
   "cell_type": "code",
   "execution_count": 86,
   "id": "727e1680",
   "metadata": {},
   "outputs": [
    {
     "data": {
      "image/png": "[encoded data removed]",
      "text/plain": [
       "<Figure size 640x480 with 1 Axes>"
      ]
     },
     "metadata": {},
     "output_type": "display_data"
    }
   ],
   "source": [
    "plt.scatter(x ,y,color=\"red\") # this shows the visual representation \n",
    "plt.xlabel('mean radius')\n",
    "plt.ylabel('mean area')\n",
    "plt.show()# scatter plot shows how mean area vary with respect to mean radius"
   ]
  },
  {
   "cell_type": "code",
   "execution_count": 87,
   "id": "f8870941",
   "metadata": {},
   "outputs": [],
   "source": [
    "check1=bcancer[bcancer['DIAGNOSIS']==0] #non cancer patients\n",
    "check2=bcancer[bcancer['DIAGNOSIS']==1] #cancer patients"
   ]
  },
  {
   "cell_type": "code",
   "execution_count": 88,
   "id": "1e3b1a98",
   "metadata": {},
   "outputs": [
    {
     "data": {
      "text/plain": [
       "0      0.11840\n",
       "1      0.08474\n",
       "2      0.10960\n",
       "3      0.14250\n",
       "4      0.10030\n",
       "        ...   \n",
       "563    0.10990\n",
       "564    0.11100\n",
       "565    0.09780\n",
       "566    0.08455\n",
       "567    0.11780\n",
       "Name: MEAN_SMOOTHNESS, Length: 212, dtype: float64"
      ]
     },
     "execution_count": 88,
     "metadata": {},
     "output_type": "execute_result"
    }
   ],
   "source": [
    "mean_smoothness_noncancerous=check1['MEAN_SMOOTHNESS']# checks the mean smoothness of non cancer patients.\n",
    "mean_smoothness_noncancerous\n"
   ]
  },
  {
   "cell_type": "code",
   "execution_count": 89,
   "id": "4795e3e0",
   "metadata": {},
   "outputs": [
    {
     "data": {
      "text/plain": [
       "19     0.09779\n",
       "20     0.10750\n",
       "21     0.10240\n",
       "37     0.08983\n",
       "46     0.08600\n",
       "        ...   \n",
       "558    0.08473\n",
       "559    0.09261\n",
       "560    0.09929\n",
       "561    0.07449\n",
       "568    0.05263\n",
       "Name: MEAN_SMOOTHNESS, Length: 357, dtype: float64"
      ]
     },
     "execution_count": 89,
     "metadata": {},
     "output_type": "execute_result"
    }
   ],
   "source": [
    "mean_smoothness_cancerous=check2['MEAN_SMOOTHNESS']# checks the mean smoothness of cancer patients.\n",
    "mean_smoothness_cancerous"
   ]
  },
  {
   "cell_type": "code",
   "execution_count": 90,
   "id": "1c8dc8f4",
   "metadata": {},
   "outputs": [
    {
     "data": {
      "text/plain": [
       "0.10289849056603775"
      ]
     },
     "execution_count": 90,
     "metadata": {},
     "output_type": "execute_result"
    }
   ],
   "source": [
    "check1['MEAN_SMOOTHNESS'].mean()# average of the mean smoothness of non cancer patients"
   ]
  },
  {
   "cell_type": "code",
   "execution_count": 91,
   "id": "de21c848",
   "metadata": {},
   "outputs": [
    {
     "data": {
      "text/plain": [
       "0.09247764705882354"
      ]
     },
     "execution_count": 91,
     "metadata": {},
     "output_type": "execute_result"
    }
   ],
   "source": [
    "check2['MEAN_SMOOTHNESS'].mean()# average of the mean smoothness of non cancer patients"
   ]
  },
  {
   "cell_type": "markdown",
   "id": "af4f17cc",
   "metadata": {},
   "source": [
    "as we can see the differences in the mean smoothness between cancerous and non-cancerous cases\n",
    "is very less\n",
    "but to see some notable difference we can plot a visual data."
   ]
  },
  {
   "cell_type": "code",
   "execution_count": 92,
   "id": "c6fc3996",
   "metadata": {},
   "outputs": [
    {
     "data": {
      "image/png": "[encoded data removed]",
      "text/plain": [
       "<Figure size 1000x600 with 1 Axes>"
      ]
     },
     "metadata": {},
     "output_type": "display_data"
    }
   ],
   "source": [
    "plt.figure(figsize=(10,6))\n",
    "plt.hist(mean_smoothness_cancerous,bins=80,alpha=0.6,label='cancerous')\n",
    "plt.hist(mean_smoothness_noncancerous,bins=80,alpha=0.5,label='non-cancerous')\n",
    "plt.xlabel('mean smoothness')\n",
    "plt.ylabel('frequency')\n",
    "plt.show()"
   ]
  },
  {
   "cell_type": "markdown",
   "id": "ef03a0f2",
   "metadata": {},
   "source": [
    "by plotting a histogram we can see the notable difference between mean smoothness between cancerous and non-cancerous cases."
   ]
  },
  {
   "cell_type": "code",
   "execution_count": null,
   "id": "bae9fa1b",
   "metadata": {},
   "outputs": [],
   "source": []
  },
  {
   "cell_type": "markdown",
   "id": "e24546b1",
   "metadata": {},
   "source": [
    "Q-4 Are there any categorical variables in the dataset that need to be encoded? How will you handle them?"
   ]
  },
  {
   "cell_type": "code",
   "execution_count": 93,
   "id": "67e418ff",
   "metadata": {},
   "outputs": [
    {
     "data": {
      "text/plain": [
       "MEAN_RADIUS        float64\n",
       "MEAN_TEXTURE       float64\n",
       "MEAN_PERIMETER     float64\n",
       "MEAN_AREA          float64\n",
       "MEAN_SMOOTHNESS    float64\n",
       "DIAGNOSIS            int64\n",
       "dtype: object"
      ]
     },
     "execution_count": 93,
     "metadata": {},
     "output_type": "execute_result"
    }
   ],
   "source": [
    "bcancer.dtypes"
   ]
  },
  {
   "cell_type": "markdown",
   "id": "ae8d9936",
   "metadata": {},
   "source": [
    "This shows that every columns has a float or an integer value and thus no 'string' or 'object'.\n",
    "As, categorical variables are typically represented as 'object' or 'string' data type.\n",
    "If there had been any categorical variable like \"yes\" or \"no\" we could have handled it by making them in form of '1' or '0' as a numerical value."
   ]
  },
  {
   "cell_type": "code",
   "execution_count": null,
   "id": "1c8d080b",
   "metadata": {},
   "outputs": [],
   "source": []
  },
  {
   "cell_type": "markdown",
   "id": "4c1ad8e4",
   "metadata": {},
   "source": [
    "Q-5 Can you analyse the pairwise correlations between the features? Are there any features that are highly correlated with each other? How might you handle multicollinearity if present?"
   ]
  },
  {
   "cell_type": "code",
   "execution_count": 94,
   "id": "fd6bde42",
   "metadata": {},
   "outputs": [
    {
     "data": {
      "text/html": [
       "<div>\n",
       "<style scoped>\n",
       "    .dataframe tbody tr th:only-of-type {\n",
       "        vertical-align: middle;\n",
       "    }\n",
       "\n",
       "    .dataframe tbody tr th {\n",
       "        vertical-align: top;\n",
       "    }\n",
       "\n",
       "    .dataframe thead th {\n",
       "        text-align: right;\n",
       "    }\n",
       "</style>\n",
       "<table border=\"1\" class=\"dataframe\">\n",
       "  <thead>\n",
       "    <tr style=\"text-align: right;\">\n",
       "      <th></th>\n",
       "      <th>MEAN_RADIUS</th>\n",
       "      <th>MEAN_TEXTURE</th>\n",
       "      <th>MEAN_PERIMETER</th>\n",
       "      <th>MEAN_AREA</th>\n",
       "      <th>MEAN_SMOOTHNESS</th>\n",
       "      <th>DIAGNOSIS</th>\n",
       "    </tr>\n",
       "  </thead>\n",
       "  <tbody>\n",
       "    <tr>\n",
       "      <th>MEAN_RADIUS</th>\n",
       "      <td>1.000000</td>\n",
       "      <td>0.323782</td>\n",
       "      <td>0.997855</td>\n",
       "      <td>0.987357</td>\n",
       "      <td>0.170581</td>\n",
       "      <td>-0.730029</td>\n",
       "    </tr>\n",
       "    <tr>\n",
       "      <th>MEAN_TEXTURE</th>\n",
       "      <td>0.323782</td>\n",
       "      <td>1.000000</td>\n",
       "      <td>0.329533</td>\n",
       "      <td>0.321086</td>\n",
       "      <td>-0.023389</td>\n",
       "      <td>-0.415185</td>\n",
       "    </tr>\n",
       "    <tr>\n",
       "      <th>MEAN_PERIMETER</th>\n",
       "      <td>0.997855</td>\n",
       "      <td>0.329533</td>\n",
       "      <td>1.000000</td>\n",
       "      <td>0.986507</td>\n",
       "      <td>0.207278</td>\n",
       "      <td>-0.742636</td>\n",
       "    </tr>\n",
       "    <tr>\n",
       "      <th>MEAN_AREA</th>\n",
       "      <td>0.987357</td>\n",
       "      <td>0.321086</td>\n",
       "      <td>0.986507</td>\n",
       "      <td>1.000000</td>\n",
       "      <td>0.177028</td>\n",
       "      <td>-0.708984</td>\n",
       "    </tr>\n",
       "    <tr>\n",
       "      <th>MEAN_SMOOTHNESS</th>\n",
       "      <td>0.170581</td>\n",
       "      <td>-0.023389</td>\n",
       "      <td>0.207278</td>\n",
       "      <td>0.177028</td>\n",
       "      <td>1.000000</td>\n",
       "      <td>-0.358560</td>\n",
       "    </tr>\n",
       "    <tr>\n",
       "      <th>DIAGNOSIS</th>\n",
       "      <td>-0.730029</td>\n",
       "      <td>-0.415185</td>\n",
       "      <td>-0.742636</td>\n",
       "      <td>-0.708984</td>\n",
       "      <td>-0.358560</td>\n",
       "      <td>1.000000</td>\n",
       "    </tr>\n",
       "  </tbody>\n",
       "</table>\n",
       "</div>"
      ],
      "text/plain": [
       "                 MEAN_RADIUS  MEAN_TEXTURE  MEAN_PERIMETER  MEAN_AREA  \\\n",
       "MEAN_RADIUS         1.000000      0.323782        0.997855   0.987357   \n",
       "MEAN_TEXTURE        0.323782      1.000000        0.329533   0.321086   \n",
       "MEAN_PERIMETER      0.997855      0.329533        1.000000   0.986507   \n",
       "MEAN_AREA           0.987357      0.321086        0.986507   1.000000   \n",
       "MEAN_SMOOTHNESS     0.170581     -0.023389        0.207278   0.177028   \n",
       "DIAGNOSIS          -0.730029     -0.415185       -0.742636  -0.708984   \n",
       "\n",
       "                 MEAN_SMOOTHNESS  DIAGNOSIS  \n",
       "MEAN_RADIUS             0.170581  -0.730029  \n",
       "MEAN_TEXTURE           -0.023389  -0.415185  \n",
       "MEAN_PERIMETER          0.207278  -0.742636  \n",
       "MEAN_AREA               0.177028  -0.708984  \n",
       "MEAN_SMOOTHNESS         1.000000  -0.358560  \n",
       "DIAGNOSIS              -0.358560   1.000000  "
      ]
     },
     "execution_count": 94,
     "metadata": {},
     "output_type": "execute_result"
    }
   ],
   "source": [
    "bcancer.corr() # pairwise correlation between the features"
   ]
  },
  {
   "cell_type": "code",
   "execution_count": 97,
   "id": "5cc5bcc5",
   "metadata": {},
   "outputs": [
    {
     "data": {
      "image/png": "[encoded data removed]",
      "text/plain": [
       "<Figure size 640x480 with 2 Axes>"
      ]
     },
     "metadata": {},
     "output_type": "display_data"
    }
   ],
   "source": [
    "sns.heatmap(bcancer.corr(),annot=True) #annnot= True means it will write the numbers inside\n",
    "plt.show()"
   ]
  },
  {
   "cell_type": "markdown",
   "id": "d17e43e5",
   "metadata": {},
   "source": [
    "So, by seeing this we can observe that \n",
    "'MEAN_RADIUS' and 'MEAN_PERIMETER' are highly correlated.\n",
    "'MEAN_RADIUS' and 'MEAN_AREA' are highly correlated.\n",
    "'MEAN_PERIMETER' and 'MEAN_AREA' are highly correlated.\n",
    "we can also visualise the correlation matrix."
   ]
  },
  {
   "cell_type": "markdown",
   "id": "bb56d5ef",
   "metadata": {},
   "source": [
    "Multicollinearity is when two or more independent variables in a regression model are highly correlated with each other.\n",
    "So, we can handle them by "
   ]
  },
  {
   "cell_type": "markdown",
   "id": "e924bdce",
   "metadata": {},
   "source": [
    "(1) by dropping any one of the highly correlated variable."
   ]
  },
  {
   "cell_type": "markdown",
   "id": "b04ab4e5",
   "metadata": {},
   "source": [
    "(2) by using Partial least square regression or PCA."
   ]
  },
  {
   "cell_type": "code",
   "execution_count": null,
   "id": "1ffa3cbc",
   "metadata": {},
   "outputs": [],
   "source": []
  }
 ],
 "metadata": {
  "kernelspec": {
   "display_name": "Python 3 (ipykernel)",
   "language": "python",
   "name": "python3"
  },
  "language_info": {
   "codemirror_mode": {
    "name": "ipython",
    "version": 3
   },
   "file_extension": ".py",
   "mimetype": "text/x-python",
   "name": "python",
   "nbconvert_exporter": "python",
   "pygments_lexer": "ipython3",
   "version": "3.11.4"
  }
 },
 "nbformat": 4,
 "nbformat_minor": 5
}
