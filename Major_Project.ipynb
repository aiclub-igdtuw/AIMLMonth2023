{
  "cells": [
    {
      "cell_type": "markdown",
      "metadata": {
        "id": "view-in-github",
        "colab_type": "text"
      },
      "source": [
        "<a href=\"https://colab.research.google.com/github/ShreyaJV/AIMLMonth2023/blob/main/Major_Project.ipynb\" target=\"_parent\"><img src=\"https://colab.research.google.com/assets/colab-badge.svg\" alt=\"Open In Colab\"/></a>"
      ]
    },
    {
      "cell_type": "code",
      "execution_count": 61,
      "metadata": {
        "id": "-KpxuCFS1EuC",
        "colab": {
          "base_uri": "https://localhost:8080/"
        },
        "outputId": "8ecac0f4-3515-486e-eb08-63f01de1b247"
      },
      "outputs": [
        {
          "output_type": "stream",
          "name": "stdout",
          "text": [
            "Drive already mounted at /content/drive; to attempt to forcibly remount, call drive.mount(\"/content/drive\", force_remount=True).\n"
          ]
        }
      ],
      "source": [
        "from google.colab import drive\n",
        "drive.mount('/content/drive')"
      ]
    },
    {
      "cell_type": "code",
      "execution_count": 62,
      "metadata": {
        "id": "L5mvxQqrb6UE"
      },
      "outputs": [],
      "source": [
        "import numpy as np\n",
        "import pandas as pd\n",
        "import matplotlib.pyplot as plt\n",
        "import seaborn as sns\n"
      ]
    },
    {
      "cell_type": "code",
      "execution_count": 63,
      "metadata": {
        "id": "DrNHv9_hzvdo",
        "colab": {
          "base_uri": "https://localhost:8080/",
          "height": 443
        },
        "outputId": "89f91ce7-e2d2-415e-af41-7f3463e407c7"
      },
      "outputs": [
        {
          "output_type": "execute_result",
          "data": {
            "text/plain": [
              "      year  customer_id  phone_no  gender  age  no_of_days_subscribed  \\\n",
              "0     2020       100198  409-8743  Female   36                     62   \n",
              "1     2020       100643  340-5930  Female   39                    149   \n",
              "2     2020       100756  372-3750  Female   65                    126   \n",
              "3     2020       101595  331-4902  Female   24                    131   \n",
              "4     2020       101653  351-8398  Female   40                    191   \n",
              "...    ...          ...       ...     ...  ...                    ...   \n",
              "1995  2020       997132  385-7387  Female   54                     75   \n",
              "1996  2020       998086  383-9255    Male   45                    127   \n",
              "1997  2020       998474  353-2080     NaN   53                     94   \n",
              "1998  2020       998934  359-7788    Male   40                     94   \n",
              "1999  2020       999961  414-1496    Male   37                     73   \n",
              "\n",
              "     multi_screen mail_subscribed  weekly_mins_watched  minimum_daily_mins  \\\n",
              "0              no              no               148.35                12.2   \n",
              "1              no              no               294.45                 7.7   \n",
              "2              no              no                87.30                11.9   \n",
              "3              no             yes               321.30                 9.5   \n",
              "4              no              no               243.00                10.9   \n",
              "...           ...             ...                  ...                 ...   \n",
              "1995           no             yes               182.25                11.3   \n",
              "1996           no              no               273.45                 9.3   \n",
              "1997           no              no               128.85                15.6   \n",
              "1998           no              no               178.05                10.4   \n",
              "1999           no              no               326.70                10.3   \n",
              "\n",
              "      maximum_daily_mins  weekly_max_night_mins  videos_watched  \\\n",
              "0                  16.81                     82               1   \n",
              "1                  33.37                     87               3   \n",
              "2                   9.89                     91               1   \n",
              "3                  36.41                    102               4   \n",
              "4                  27.54                     83               7   \n",
              "...                  ...                    ...             ...   \n",
              "1995               20.66                     97               5   \n",
              "1996               30.99                    116               3   \n",
              "1997               14.60                    110              16   \n",
              "1998               20.18                    100               6   \n",
              "1999               37.03                     89               6   \n",
              "\n",
              "      maximum_days_inactive  customer_support_calls  churn  \n",
              "0                       4.0                       1    0.0  \n",
              "1                       3.0                       2    0.0  \n",
              "2                       4.0                       5    1.0  \n",
              "3                       3.0                       3    0.0  \n",
              "4                       3.0                       1    0.0  \n",
              "...                     ...                     ...    ...  \n",
              "1995                    4.0                       2    NaN  \n",
              "1996                    3.0                       1    0.0  \n",
              "1997                    5.0                       0    0.0  \n",
              "1998                    NaN                       3    0.0  \n",
              "1999                    3.0                       1    1.0  \n",
              "\n",
              "[2000 rows x 16 columns]"
            ],
            "text/html": [
              "\n",
              "  <div id=\"df-65909861-8aad-460d-9957-c0a9ea9a01d6\" class=\"colab-df-container\">\n",
              "    <div>\n",
              "<style scoped>\n",
              "    .dataframe tbody tr th:only-of-type {\n",
              "        vertical-align: middle;\n",
              "    }\n",
              "\n",
              "    .dataframe tbody tr th {\n",
              "        vertical-align: top;\n",
              "    }\n",
              "\n",
              "    .dataframe thead th {\n",
              "        text-align: right;\n",
              "    }\n",
              "</style>\n",
              "<table border=\"1\" class=\"dataframe\">\n",
              "  <thead>\n",
              "    <tr style=\"text-align: right;\">\n",
              "      <th></th>\n",
              "      <th>year</th>\n",
              "      <th>customer_id</th>\n",
              "      <th>phone_no</th>\n",
              "      <th>gender</th>\n",
              "      <th>age</th>\n",
              "      <th>no_of_days_subscribed</th>\n",
              "      <th>multi_screen</th>\n",
              "      <th>mail_subscribed</th>\n",
              "      <th>weekly_mins_watched</th>\n",
              "      <th>minimum_daily_mins</th>\n",
              "      <th>maximum_daily_mins</th>\n",
              "      <th>weekly_max_night_mins</th>\n",
              "      <th>videos_watched</th>\n",
              "      <th>maximum_days_inactive</th>\n",
              "      <th>customer_support_calls</th>\n",
              "      <th>churn</th>\n",
              "    </tr>\n",
              "  </thead>\n",
              "  <tbody>\n",
              "    <tr>\n",
              "      <th>0</th>\n",
              "      <td>2020</td>\n",
              "      <td>100198</td>\n",
              "      <td>409-8743</td>\n",
              "      <td>Female</td>\n",
              "      <td>36</td>\n",
              "      <td>62</td>\n",
              "      <td>no</td>\n",
              "      <td>no</td>\n",
              "      <td>148.35</td>\n",
              "      <td>12.2</td>\n",
              "      <td>16.81</td>\n",
              "      <td>82</td>\n",
              "      <td>1</td>\n",
              "      <td>4.0</td>\n",
              "      <td>1</td>\n",
              "      <td>0.0</td>\n",
              "    </tr>\n",
              "    <tr>\n",
              "      <th>1</th>\n",
              "      <td>2020</td>\n",
              "      <td>100643</td>\n",
              "      <td>340-5930</td>\n",
              "      <td>Female</td>\n",
              "      <td>39</td>\n",
              "      <td>149</td>\n",
              "      <td>no</td>\n",
              "      <td>no</td>\n",
              "      <td>294.45</td>\n",
              "      <td>7.7</td>\n",
              "      <td>33.37</td>\n",
              "      <td>87</td>\n",
              "      <td>3</td>\n",
              "      <td>3.0</td>\n",
              "      <td>2</td>\n",
              "      <td>0.0</td>\n",
              "    </tr>\n",
              "    <tr>\n",
              "      <th>2</th>\n",
              "      <td>2020</td>\n",
              "      <td>100756</td>\n",
              "      <td>372-3750</td>\n",
              "      <td>Female</td>\n",
              "      <td>65</td>\n",
              "      <td>126</td>\n",
              "      <td>no</td>\n",
              "      <td>no</td>\n",
              "      <td>87.30</td>\n",
              "      <td>11.9</td>\n",
              "      <td>9.89</td>\n",
              "      <td>91</td>\n",
              "      <td>1</td>\n",
              "      <td>4.0</td>\n",
              "      <td>5</td>\n",
              "      <td>1.0</td>\n",
              "    </tr>\n",
              "    <tr>\n",
              "      <th>3</th>\n",
              "      <td>2020</td>\n",
              "      <td>101595</td>\n",
              "      <td>331-4902</td>\n",
              "      <td>Female</td>\n",
              "      <td>24</td>\n",
              "      <td>131</td>\n",
              "      <td>no</td>\n",
              "      <td>yes</td>\n",
              "      <td>321.30</td>\n",
              "      <td>9.5</td>\n",
              "      <td>36.41</td>\n",
              "      <td>102</td>\n",
              "      <td>4</td>\n",
              "      <td>3.0</td>\n",
              "      <td>3</td>\n",
              "      <td>0.0</td>\n",
              "    </tr>\n",
              "    <tr>\n",
              "      <th>4</th>\n",
              "      <td>2020</td>\n",
              "      <td>101653</td>\n",
              "      <td>351-8398</td>\n",
              "      <td>Female</td>\n",
              "      <td>40</td>\n",
              "      <td>191</td>\n",
              "      <td>no</td>\n",
              "      <td>no</td>\n",
              "      <td>243.00</td>\n",
              "      <td>10.9</td>\n",
              "      <td>27.54</td>\n",
              "      <td>83</td>\n",
              "      <td>7</td>\n",
              "      <td>3.0</td>\n",
              "      <td>1</td>\n",
              "      <td>0.0</td>\n",
              "    </tr>\n",
              "    <tr>\n",
              "      <th>...</th>\n",
              "      <td>...</td>\n",
              "      <td>...</td>\n",
              "      <td>...</td>\n",
              "      <td>...</td>\n",
              "      <td>...</td>\n",
              "      <td>...</td>\n",
              "      <td>...</td>\n",
              "      <td>...</td>\n",
              "      <td>...</td>\n",
              "      <td>...</td>\n",
              "      <td>...</td>\n",
              "      <td>...</td>\n",
              "      <td>...</td>\n",
              "      <td>...</td>\n",
              "      <td>...</td>\n",
              "      <td>...</td>\n",
              "    </tr>\n",
              "    <tr>\n",
              "      <th>1995</th>\n",
              "      <td>2020</td>\n",
              "      <td>997132</td>\n",
              "      <td>385-7387</td>\n",
              "      <td>Female</td>\n",
              "      <td>54</td>\n",
              "      <td>75</td>\n",
              "      <td>no</td>\n",
              "      <td>yes</td>\n",
              "      <td>182.25</td>\n",
              "      <td>11.3</td>\n",
              "      <td>20.66</td>\n",
              "      <td>97</td>\n",
              "      <td>5</td>\n",
              "      <td>4.0</td>\n",
              "      <td>2</td>\n",
              "      <td>NaN</td>\n",
              "    </tr>\n",
              "    <tr>\n",
              "      <th>1996</th>\n",
              "      <td>2020</td>\n",
              "      <td>998086</td>\n",
              "      <td>383-9255</td>\n",
              "      <td>Male</td>\n",
              "      <td>45</td>\n",
              "      <td>127</td>\n",
              "      <td>no</td>\n",
              "      <td>no</td>\n",
              "      <td>273.45</td>\n",
              "      <td>9.3</td>\n",
              "      <td>30.99</td>\n",
              "      <td>116</td>\n",
              "      <td>3</td>\n",
              "      <td>3.0</td>\n",
              "      <td>1</td>\n",
              "      <td>0.0</td>\n",
              "    </tr>\n",
              "    <tr>\n",
              "      <th>1997</th>\n",
              "      <td>2020</td>\n",
              "      <td>998474</td>\n",
              "      <td>353-2080</td>\n",
              "      <td>NaN</td>\n",
              "      <td>53</td>\n",
              "      <td>94</td>\n",
              "      <td>no</td>\n",
              "      <td>no</td>\n",
              "      <td>128.85</td>\n",
              "      <td>15.6</td>\n",
              "      <td>14.60</td>\n",
              "      <td>110</td>\n",
              "      <td>16</td>\n",
              "      <td>5.0</td>\n",
              "      <td>0</td>\n",
              "      <td>0.0</td>\n",
              "    </tr>\n",
              "    <tr>\n",
              "      <th>1998</th>\n",
              "      <td>2020</td>\n",
              "      <td>998934</td>\n",
              "      <td>359-7788</td>\n",
              "      <td>Male</td>\n",
              "      <td>40</td>\n",
              "      <td>94</td>\n",
              "      <td>no</td>\n",
              "      <td>no</td>\n",
              "      <td>178.05</td>\n",
              "      <td>10.4</td>\n",
              "      <td>20.18</td>\n",
              "      <td>100</td>\n",
              "      <td>6</td>\n",
              "      <td>NaN</td>\n",
              "      <td>3</td>\n",
              "      <td>0.0</td>\n",
              "    </tr>\n",
              "    <tr>\n",
              "      <th>1999</th>\n",
              "      <td>2020</td>\n",
              "      <td>999961</td>\n",
              "      <td>414-1496</td>\n",
              "      <td>Male</td>\n",
              "      <td>37</td>\n",
              "      <td>73</td>\n",
              "      <td>no</td>\n",
              "      <td>no</td>\n",
              "      <td>326.70</td>\n",
              "      <td>10.3</td>\n",
              "      <td>37.03</td>\n",
              "      <td>89</td>\n",
              "      <td>6</td>\n",
              "      <td>3.0</td>\n",
              "      <td>1</td>\n",
              "      <td>1.0</td>\n",
              "    </tr>\n",
              "  </tbody>\n",
              "</table>\n",
              "<p>2000 rows × 16 columns</p>\n",
              "</div>\n",
              "    <div class=\"colab-df-buttons\">\n",
              "\n",
              "  <div class=\"colab-df-container\">\n",
              "    <button class=\"colab-df-convert\" onclick=\"convertToInteractive('df-65909861-8aad-460d-9957-c0a9ea9a01d6')\"\n",
              "            title=\"Convert this dataframe to an interactive table.\"\n",
              "            style=\"display:none;\">\n",
              "\n",
              "  <svg xmlns=\"http://www.w3.org/2000/svg\" height=\"24px\" viewBox=\"0 -960 960 960\">\n",
              "    <path d=\"M120-120v-720h720v720H120Zm60-500h600v-160H180v160Zm220 220h160v-160H400v160Zm0 220h160v-160H400v160ZM180-400h160v-160H180v160Zm440 0h160v-160H620v160ZM180-180h160v-160H180v160Zm440 0h160v-160H620v160Z\"/>\n",
              "  </svg>\n",
              "    </button>\n",
              "\n",
              "  <style>\n",
              "    .colab-df-container {\n",
              "      display:flex;\n",
              "      gap: 12px;\n",
              "    }\n",
              "\n",
              "    .colab-df-convert {\n",
              "      background-color: #E8F0FE;\n",
              "      border: none;\n",
              "      border-radius: 50%;\n",
              "      cursor: pointer;\n",
              "      display: none;\n",
              "      fill: #1967D2;\n",
              "      height: 32px;\n",
              "      padding: 0 0 0 0;\n",
              "      width: 32px;\n",
              "    }\n",
              "\n",
              "    .colab-df-convert:hover {\n",
              "      background-color: #E2EBFA;\n",
              "      box-shadow: 0px 1px 2px rgba(60, 64, 67, 0.3), 0px 1px 3px 1px rgba(60, 64, 67, 0.15);\n",
              "      fill: #174EA6;\n",
              "    }\n",
              "\n",
              "    .colab-df-buttons div {\n",
              "      margin-bottom: 4px;\n",
              "    }\n",
              "\n",
              "    [theme=dark] .colab-df-convert {\n",
              "      background-color: #3B4455;\n",
              "      fill: #D2E3FC;\n",
              "    }\n",
              "\n",
              "    [theme=dark] .colab-df-convert:hover {\n",
              "      background-color: #434B5C;\n",
              "      box-shadow: 0px 1px 3px 1px rgba(0, 0, 0, 0.15);\n",
              "      filter: drop-shadow(0px 1px 2px rgba(0, 0, 0, 0.3));\n",
              "      fill: #FFFFFF;\n",
              "    }\n",
              "  </style>\n",
              "\n",
              "    <script>\n",
              "      const buttonEl =\n",
              "        document.querySelector('#df-65909861-8aad-460d-9957-c0a9ea9a01d6 button.colab-df-convert');\n",
              "      buttonEl.style.display =\n",
              "        google.colab.kernel.accessAllowed ? 'block' : 'none';\n",
              "\n",
              "      async function convertToInteractive(key) {\n",
              "        const element = document.querySelector('#df-65909861-8aad-460d-9957-c0a9ea9a01d6');\n",
              "        const dataTable =\n",
              "          await google.colab.kernel.invokeFunction('convertToInteractive',\n",
              "                                                    [key], {});\n",
              "        if (!dataTable) return;\n",
              "\n",
              "        const docLinkHtml = 'Like what you see? Visit the ' +\n",
              "          '<a target=\"_blank\" href=https://colab.research.google.com/notebooks/data_table.ipynb>data table notebook</a>'\n",
              "          + ' to learn more about interactive tables.';\n",
              "        element.innerHTML = '';\n",
              "        dataTable['output_type'] = 'display_data';\n",
              "        await google.colab.output.renderOutput(dataTable, element);\n",
              "        const docLink = document.createElement('div');\n",
              "        docLink.innerHTML = docLinkHtml;\n",
              "        element.appendChild(docLink);\n",
              "      }\n",
              "    </script>\n",
              "  </div>\n",
              "\n",
              "\n",
              "<div id=\"df-973cf9d7-0632-498e-9c4f-2d381e6135ad\">\n",
              "  <button class=\"colab-df-quickchart\" onclick=\"quickchart('df-973cf9d7-0632-498e-9c4f-2d381e6135ad')\"\n",
              "            title=\"Suggest charts\"\n",
              "            style=\"display:none;\">\n",
              "\n",
              "<svg xmlns=\"http://www.w3.org/2000/svg\" height=\"24px\"viewBox=\"0 0 24 24\"\n",
              "     width=\"24px\">\n",
              "    <g>\n",
              "        <path d=\"M19 3H5c-1.1 0-2 .9-2 2v14c0 1.1.9 2 2 2h14c1.1 0 2-.9 2-2V5c0-1.1-.9-2-2-2zM9 17H7v-7h2v7zm4 0h-2V7h2v10zm4 0h-2v-4h2v4z\"/>\n",
              "    </g>\n",
              "</svg>\n",
              "  </button>\n",
              "\n",
              "<style>\n",
              "  .colab-df-quickchart {\n",
              "      --bg-color: #E8F0FE;\n",
              "      --fill-color: #1967D2;\n",
              "      --hover-bg-color: #E2EBFA;\n",
              "      --hover-fill-color: #174EA6;\n",
              "      --disabled-fill-color: #AAA;\n",
              "      --disabled-bg-color: #DDD;\n",
              "  }\n",
              "\n",
              "  [theme=dark] .colab-df-quickchart {\n",
              "      --bg-color: #3B4455;\n",
              "      --fill-color: #D2E3FC;\n",
              "      --hover-bg-color: #434B5C;\n",
              "      --hover-fill-color: #FFFFFF;\n",
              "      --disabled-bg-color: #3B4455;\n",
              "      --disabled-fill-color: #666;\n",
              "  }\n",
              "\n",
              "  .colab-df-quickchart {\n",
              "    background-color: var(--bg-color);\n",
              "    border: none;\n",
              "    border-radius: 50%;\n",
              "    cursor: pointer;\n",
              "    display: none;\n",
              "    fill: var(--fill-color);\n",
              "    height: 32px;\n",
              "    padding: 0;\n",
              "    width: 32px;\n",
              "  }\n",
              "\n",
              "  .colab-df-quickchart:hover {\n",
              "    background-color: var(--hover-bg-color);\n",
              "    box-shadow: 0 1px 2px rgba(60, 64, 67, 0.3), 0 1px 3px 1px rgba(60, 64, 67, 0.15);\n",
              "    fill: var(--button-hover-fill-color);\n",
              "  }\n",
              "\n",
              "  .colab-df-quickchart-complete:disabled,\n",
              "  .colab-df-quickchart-complete:disabled:hover {\n",
              "    background-color: var(--disabled-bg-color);\n",
              "    fill: var(--disabled-fill-color);\n",
              "    box-shadow: none;\n",
              "  }\n",
              "\n",
              "  .colab-df-spinner {\n",
              "    border: 2px solid var(--fill-color);\n",
              "    border-color: transparent;\n",
              "    border-bottom-color: var(--fill-color);\n",
              "    animation:\n",
              "      spin 1s steps(1) infinite;\n",
              "  }\n",
              "\n",
              "  @keyframes spin {\n",
              "    0% {\n",
              "      border-color: transparent;\n",
              "      border-bottom-color: var(--fill-color);\n",
              "      border-left-color: var(--fill-color);\n",
              "    }\n",
              "    20% {\n",
              "      border-color: transparent;\n",
              "      border-left-color: var(--fill-color);\n",
              "      border-top-color: var(--fill-color);\n",
              "    }\n",
              "    30% {\n",
              "      border-color: transparent;\n",
              "      border-left-color: var(--fill-color);\n",
              "      border-top-color: var(--fill-color);\n",
              "      border-right-color: var(--fill-color);\n",
              "    }\n",
              "    40% {\n",
              "      border-color: transparent;\n",
              "      border-right-color: var(--fill-color);\n",
              "      border-top-color: var(--fill-color);\n",
              "    }\n",
              "    60% {\n",
              "      border-color: transparent;\n",
              "      border-right-color: var(--fill-color);\n",
              "    }\n",
              "    80% {\n",
              "      border-color: transparent;\n",
              "      border-right-color: var(--fill-color);\n",
              "      border-bottom-color: var(--fill-color);\n",
              "    }\n",
              "    90% {\n",
              "      border-color: transparent;\n",
              "      border-bottom-color: var(--fill-color);\n",
              "    }\n",
              "  }\n",
              "</style>\n",
              "\n",
              "  <script>\n",
              "    async function quickchart(key) {\n",
              "      const quickchartButtonEl =\n",
              "        document.querySelector('#' + key + ' button');\n",
              "      quickchartButtonEl.disabled = true;  // To prevent multiple clicks.\n",
              "      quickchartButtonEl.classList.add('colab-df-spinner');\n",
              "      try {\n",
              "        const charts = await google.colab.kernel.invokeFunction(\n",
              "            'suggestCharts', [key], {});\n",
              "      } catch (error) {\n",
              "        console.error('Error during call to suggestCharts:', error);\n",
              "      }\n",
              "      quickchartButtonEl.classList.remove('colab-df-spinner');\n",
              "      quickchartButtonEl.classList.add('colab-df-quickchart-complete');\n",
              "    }\n",
              "    (() => {\n",
              "      let quickchartButtonEl =\n",
              "        document.querySelector('#df-973cf9d7-0632-498e-9c4f-2d381e6135ad button');\n",
              "      quickchartButtonEl.style.display =\n",
              "        google.colab.kernel.accessAllowed ? 'block' : 'none';\n",
              "    })();\n",
              "  </script>\n",
              "</div>\n",
              "    </div>\n",
              "  </div>\n"
            ]
          },
          "metadata": {},
          "execution_count": 63
        }
      ],
      "source": [
        "path = '/content/drive/MyDrive/dataset/ott_churn_model_dataset.csv'\n",
        "data = pd.read_csv(path)\n",
        "data"
      ]
    },
    {
      "cell_type": "markdown",
      "metadata": {
        "id": "h2Gv3twKIzHr"
      },
      "source": [
        "# **EDA**"
      ]
    },
    {
      "cell_type": "code",
      "execution_count": 64,
      "metadata": {
        "id": "b24i1rT10JEw",
        "colab": {
          "base_uri": "https://localhost:8080/",
          "height": 320
        },
        "outputId": "3a90a7f9-463e-4bc3-8205-242a45ea14c3"
      },
      "outputs": [
        {
          "output_type": "execute_result",
          "data": {
            "text/plain": [
              "         year   customer_id         age  no_of_days_subscribed  \\\n",
              "count  2000.0    2000.00000  2000.00000            2000.000000   \n",
              "mean   2020.0  554887.16250    38.69050              99.750000   \n",
              "std       0.0  261033.69218    10.20641              39.755386   \n",
              "min    2020.0  100198.00000    18.00000               1.000000   \n",
              "25%    2020.0  328634.75000    32.00000              73.000000   \n",
              "50%    2020.0  567957.50000    37.00000              99.000000   \n",
              "75%    2020.0  773280.25000    44.00000             127.000000   \n",
              "max    2020.0  999961.00000    82.00000             243.000000   \n",
              "\n",
              "       weekly_mins_watched  minimum_daily_mins  maximum_daily_mins  \\\n",
              "count          2000.000000         2000.000000         2000.000000   \n",
              "mean            270.178425           10.198700           30.620780   \n",
              "std              80.551627            2.785519            9.129165   \n",
              "min               0.000000            0.000000            0.000000   \n",
              "25%             218.212500            8.400000           24.735000   \n",
              "50%             269.925000           10.200000           30.590000   \n",
              "75%             324.675000           12.000000           36.797500   \n",
              "max             526.200000           20.000000           59.640000   \n",
              "\n",
              "       weekly_max_night_mins  videos_watched  maximum_days_inactive  \\\n",
              "count            2000.000000     2000.000000            1972.000000   \n",
              "mean              100.415500        4.482500               3.250507   \n",
              "std                19.529454        2.487728               0.809084   \n",
              "min                42.000000        0.000000               0.000000   \n",
              "25%                87.000000        3.000000               3.000000   \n",
              "50%               101.000000        4.000000               3.000000   \n",
              "75%               114.000000        6.000000               4.000000   \n",
              "max               175.000000       19.000000               6.000000   \n",
              "\n",
              "       customer_support_calls        churn  \n",
              "count             2000.000000  1965.000000  \n",
              "mean                 1.547000     0.133333  \n",
              "std                  1.315164     0.340021  \n",
              "min                  0.000000     0.000000  \n",
              "25%                  1.000000     0.000000  \n",
              "50%                  1.000000     0.000000  \n",
              "75%                  2.000000     0.000000  \n",
              "max                  9.000000     1.000000  "
            ],
            "text/html": [
              "\n",
              "  <div id=\"df-e24e2ceb-ecaa-470a-995e-ff1f8b063791\" class=\"colab-df-container\">\n",
              "    <div>\n",
              "<style scoped>\n",
              "    .dataframe tbody tr th:only-of-type {\n",
              "        vertical-align: middle;\n",
              "    }\n",
              "\n",
              "    .dataframe tbody tr th {\n",
              "        vertical-align: top;\n",
              "    }\n",
              "\n",
              "    .dataframe thead th {\n",
              "        text-align: right;\n",
              "    }\n",
              "</style>\n",
              "<table border=\"1\" class=\"dataframe\">\n",
              "  <thead>\n",
              "    <tr style=\"text-align: right;\">\n",
              "      <th></th>\n",
              "      <th>year</th>\n",
              "      <th>customer_id</th>\n",
              "      <th>age</th>\n",
              "      <th>no_of_days_subscribed</th>\n",
              "      <th>weekly_mins_watched</th>\n",
              "      <th>minimum_daily_mins</th>\n",
              "      <th>maximum_daily_mins</th>\n",
              "      <th>weekly_max_night_mins</th>\n",
              "      <th>videos_watched</th>\n",
              "      <th>maximum_days_inactive</th>\n",
              "      <th>customer_support_calls</th>\n",
              "      <th>churn</th>\n",
              "    </tr>\n",
              "  </thead>\n",
              "  <tbody>\n",
              "    <tr>\n",
              "      <th>count</th>\n",
              "      <td>2000.0</td>\n",
              "      <td>2000.00000</td>\n",
              "      <td>2000.00000</td>\n",
              "      <td>2000.000000</td>\n",
              "      <td>2000.000000</td>\n",
              "      <td>2000.000000</td>\n",
              "      <td>2000.000000</td>\n",
              "      <td>2000.000000</td>\n",
              "      <td>2000.000000</td>\n",
              "      <td>1972.000000</td>\n",
              "      <td>2000.000000</td>\n",
              "      <td>1965.000000</td>\n",
              "    </tr>\n",
              "    <tr>\n",
              "      <th>mean</th>\n",
              "      <td>2020.0</td>\n",
              "      <td>554887.16250</td>\n",
              "      <td>38.69050</td>\n",
              "      <td>99.750000</td>\n",
              "      <td>270.178425</td>\n",
              "      <td>10.198700</td>\n",
              "      <td>30.620780</td>\n",
              "      <td>100.415500</td>\n",
              "      <td>4.482500</td>\n",
              "      <td>3.250507</td>\n",
              "      <td>1.547000</td>\n",
              "      <td>0.133333</td>\n",
              "    </tr>\n",
              "    <tr>\n",
              "      <th>std</th>\n",
              "      <td>0.0</td>\n",
              "      <td>261033.69218</td>\n",
              "      <td>10.20641</td>\n",
              "      <td>39.755386</td>\n",
              "      <td>80.551627</td>\n",
              "      <td>2.785519</td>\n",
              "      <td>9.129165</td>\n",
              "      <td>19.529454</td>\n",
              "      <td>2.487728</td>\n",
              "      <td>0.809084</td>\n",
              "      <td>1.315164</td>\n",
              "      <td>0.340021</td>\n",
              "    </tr>\n",
              "    <tr>\n",
              "      <th>min</th>\n",
              "      <td>2020.0</td>\n",
              "      <td>100198.00000</td>\n",
              "      <td>18.00000</td>\n",
              "      <td>1.000000</td>\n",
              "      <td>0.000000</td>\n",
              "      <td>0.000000</td>\n",
              "      <td>0.000000</td>\n",
              "      <td>42.000000</td>\n",
              "      <td>0.000000</td>\n",
              "      <td>0.000000</td>\n",
              "      <td>0.000000</td>\n",
              "      <td>0.000000</td>\n",
              "    </tr>\n",
              "    <tr>\n",
              "      <th>25%</th>\n",
              "      <td>2020.0</td>\n",
              "      <td>328634.75000</td>\n",
              "      <td>32.00000</td>\n",
              "      <td>73.000000</td>\n",
              "      <td>218.212500</td>\n",
              "      <td>8.400000</td>\n",
              "      <td>24.735000</td>\n",
              "      <td>87.000000</td>\n",
              "      <td>3.000000</td>\n",
              "      <td>3.000000</td>\n",
              "      <td>1.000000</td>\n",
              "      <td>0.000000</td>\n",
              "    </tr>\n",
              "    <tr>\n",
              "      <th>50%</th>\n",
              "      <td>2020.0</td>\n",
              "      <td>567957.50000</td>\n",
              "      <td>37.00000</td>\n",
              "      <td>99.000000</td>\n",
              "      <td>269.925000</td>\n",
              "      <td>10.200000</td>\n",
              "      <td>30.590000</td>\n",
              "      <td>101.000000</td>\n",
              "      <td>4.000000</td>\n",
              "      <td>3.000000</td>\n",
              "      <td>1.000000</td>\n",
              "      <td>0.000000</td>\n",
              "    </tr>\n",
              "    <tr>\n",
              "      <th>75%</th>\n",
              "      <td>2020.0</td>\n",
              "      <td>773280.25000</td>\n",
              "      <td>44.00000</td>\n",
              "      <td>127.000000</td>\n",
              "      <td>324.675000</td>\n",
              "      <td>12.000000</td>\n",
              "      <td>36.797500</td>\n",
              "      <td>114.000000</td>\n",
              "      <td>6.000000</td>\n",
              "      <td>4.000000</td>\n",
              "      <td>2.000000</td>\n",
              "      <td>0.000000</td>\n",
              "    </tr>\n",
              "    <tr>\n",
              "      <th>max</th>\n",
              "      <td>2020.0</td>\n",
              "      <td>999961.00000</td>\n",
              "      <td>82.00000</td>\n",
              "      <td>243.000000</td>\n",
              "      <td>526.200000</td>\n",
              "      <td>20.000000</td>\n",
              "      <td>59.640000</td>\n",
              "      <td>175.000000</td>\n",
              "      <td>19.000000</td>\n",
              "      <td>6.000000</td>\n",
              "      <td>9.000000</td>\n",
              "      <td>1.000000</td>\n",
              "    </tr>\n",
              "  </tbody>\n",
              "</table>\n",
              "</div>\n",
              "    <div class=\"colab-df-buttons\">\n",
              "\n",
              "  <div class=\"colab-df-container\">\n",
              "    <button class=\"colab-df-convert\" onclick=\"convertToInteractive('df-e24e2ceb-ecaa-470a-995e-ff1f8b063791')\"\n",
              "            title=\"Convert this dataframe to an interactive table.\"\n",
              "            style=\"display:none;\">\n",
              "\n",
              "  <svg xmlns=\"http://www.w3.org/2000/svg\" height=\"24px\" viewBox=\"0 -960 960 960\">\n",
              "    <path d=\"M120-120v-720h720v720H120Zm60-500h600v-160H180v160Zm220 220h160v-160H400v160Zm0 220h160v-160H400v160ZM180-400h160v-160H180v160Zm440 0h160v-160H620v160ZM180-180h160v-160H180v160Zm440 0h160v-160H620v160Z\"/>\n",
              "  </svg>\n",
              "    </button>\n",
              "\n",
              "  <style>\n",
              "    .colab-df-container {\n",
              "      display:flex;\n",
              "      gap: 12px;\n",
              "    }\n",
              "\n",
              "    .colab-df-convert {\n",
              "      background-color: #E8F0FE;\n",
              "      border: none;\n",
              "      border-radius: 50%;\n",
              "      cursor: pointer;\n",
              "      display: none;\n",
              "      fill: #1967D2;\n",
              "      height: 32px;\n",
              "      padding: 0 0 0 0;\n",
              "      width: 32px;\n",
              "    }\n",
              "\n",
              "    .colab-df-convert:hover {\n",
              "      background-color: #E2EBFA;\n",
              "      box-shadow: 0px 1px 2px rgba(60, 64, 67, 0.3), 0px 1px 3px 1px rgba(60, 64, 67, 0.15);\n",
              "      fill: #174EA6;\n",
              "    }\n",
              "\n",
              "    .colab-df-buttons div {\n",
              "      margin-bottom: 4px;\n",
              "    }\n",
              "\n",
              "    [theme=dark] .colab-df-convert {\n",
              "      background-color: #3B4455;\n",
              "      fill: #D2E3FC;\n",
              "    }\n",
              "\n",
              "    [theme=dark] .colab-df-convert:hover {\n",
              "      background-color: #434B5C;\n",
              "      box-shadow: 0px 1px 3px 1px rgba(0, 0, 0, 0.15);\n",
              "      filter: drop-shadow(0px 1px 2px rgba(0, 0, 0, 0.3));\n",
              "      fill: #FFFFFF;\n",
              "    }\n",
              "  </style>\n",
              "\n",
              "    <script>\n",
              "      const buttonEl =\n",
              "        document.querySelector('#df-e24e2ceb-ecaa-470a-995e-ff1f8b063791 button.colab-df-convert');\n",
              "      buttonEl.style.display =\n",
              "        google.colab.kernel.accessAllowed ? 'block' : 'none';\n",
              "\n",
              "      async function convertToInteractive(key) {\n",
              "        const element = document.querySelector('#df-e24e2ceb-ecaa-470a-995e-ff1f8b063791');\n",
              "        const dataTable =\n",
              "          await google.colab.kernel.invokeFunction('convertToInteractive',\n",
              "                                                    [key], {});\n",
              "        if (!dataTable) return;\n",
              "\n",
              "        const docLinkHtml = 'Like what you see? Visit the ' +\n",
              "          '<a target=\"_blank\" href=https://colab.research.google.com/notebooks/data_table.ipynb>data table notebook</a>'\n",
              "          + ' to learn more about interactive tables.';\n",
              "        element.innerHTML = '';\n",
              "        dataTable['output_type'] = 'display_data';\n",
              "        await google.colab.output.renderOutput(dataTable, element);\n",
              "        const docLink = document.createElement('div');\n",
              "        docLink.innerHTML = docLinkHtml;\n",
              "        element.appendChild(docLink);\n",
              "      }\n",
              "    </script>\n",
              "  </div>\n",
              "\n",
              "\n",
              "<div id=\"df-756bf0ba-8613-4b43-8314-647efc109321\">\n",
              "  <button class=\"colab-df-quickchart\" onclick=\"quickchart('df-756bf0ba-8613-4b43-8314-647efc109321')\"\n",
              "            title=\"Suggest charts\"\n",
              "            style=\"display:none;\">\n",
              "\n",
              "<svg xmlns=\"http://www.w3.org/2000/svg\" height=\"24px\"viewBox=\"0 0 24 24\"\n",
              "     width=\"24px\">\n",
              "    <g>\n",
              "        <path d=\"M19 3H5c-1.1 0-2 .9-2 2v14c0 1.1.9 2 2 2h14c1.1 0 2-.9 2-2V5c0-1.1-.9-2-2-2zM9 17H7v-7h2v7zm4 0h-2V7h2v10zm4 0h-2v-4h2v4z\"/>\n",
              "    </g>\n",
              "</svg>\n",
              "  </button>\n",
              "\n",
              "<style>\n",
              "  .colab-df-quickchart {\n",
              "      --bg-color: #E8F0FE;\n",
              "      --fill-color: #1967D2;\n",
              "      --hover-bg-color: #E2EBFA;\n",
              "      --hover-fill-color: #174EA6;\n",
              "      --disabled-fill-color: #AAA;\n",
              "      --disabled-bg-color: #DDD;\n",
              "  }\n",
              "\n",
              "  [theme=dark] .colab-df-quickchart {\n",
              "      --bg-color: #3B4455;\n",
              "      --fill-color: #D2E3FC;\n",
              "      --hover-bg-color: #434B5C;\n",
              "      --hover-fill-color: #FFFFFF;\n",
              "      --disabled-bg-color: #3B4455;\n",
              "      --disabled-fill-color: #666;\n",
              "  }\n",
              "\n",
              "  .colab-df-quickchart {\n",
              "    background-color: var(--bg-color);\n",
              "    border: none;\n",
              "    border-radius: 50%;\n",
              "    cursor: pointer;\n",
              "    display: none;\n",
              "    fill: var(--fill-color);\n",
              "    height: 32px;\n",
              "    padding: 0;\n",
              "    width: 32px;\n",
              "  }\n",
              "\n",
              "  .colab-df-quickchart:hover {\n",
              "    background-color: var(--hover-bg-color);\n",
              "    box-shadow: 0 1px 2px rgba(60, 64, 67, 0.3), 0 1px 3px 1px rgba(60, 64, 67, 0.15);\n",
              "    fill: var(--button-hover-fill-color);\n",
              "  }\n",
              "\n",
              "  .colab-df-quickchart-complete:disabled,\n",
              "  .colab-df-quickchart-complete:disabled:hover {\n",
              "    background-color: var(--disabled-bg-color);\n",
              "    fill: var(--disabled-fill-color);\n",
              "    box-shadow: none;\n",
              "  }\n",
              "\n",
              "  .colab-df-spinner {\n",
              "    border: 2px solid var(--fill-color);\n",
              "    border-color: transparent;\n",
              "    border-bottom-color: var(--fill-color);\n",
              "    animation:\n",
              "      spin 1s steps(1) infinite;\n",
              "  }\n",
              "\n",
              "  @keyframes spin {\n",
              "    0% {\n",
              "      border-color: transparent;\n",
              "      border-bottom-color: var(--fill-color);\n",
              "      border-left-color: var(--fill-color);\n",
              "    }\n",
              "    20% {\n",
              "      border-color: transparent;\n",
              "      border-left-color: var(--fill-color);\n",
              "      border-top-color: var(--fill-color);\n",
              "    }\n",
              "    30% {\n",
              "      border-color: transparent;\n",
              "      border-left-color: var(--fill-color);\n",
              "      border-top-color: var(--fill-color);\n",
              "      border-right-color: var(--fill-color);\n",
              "    }\n",
              "    40% {\n",
              "      border-color: transparent;\n",
              "      border-right-color: var(--fill-color);\n",
              "      border-top-color: var(--fill-color);\n",
              "    }\n",
              "    60% {\n",
              "      border-color: transparent;\n",
              "      border-right-color: var(--fill-color);\n",
              "    }\n",
              "    80% {\n",
              "      border-color: transparent;\n",
              "      border-right-color: var(--fill-color);\n",
              "      border-bottom-color: var(--fill-color);\n",
              "    }\n",
              "    90% {\n",
              "      border-color: transparent;\n",
              "      border-bottom-color: var(--fill-color);\n",
              "    }\n",
              "  }\n",
              "</style>\n",
              "\n",
              "  <script>\n",
              "    async function quickchart(key) {\n",
              "      const quickchartButtonEl =\n",
              "        document.querySelector('#' + key + ' button');\n",
              "      quickchartButtonEl.disabled = true;  // To prevent multiple clicks.\n",
              "      quickchartButtonEl.classList.add('colab-df-spinner');\n",
              "      try {\n",
              "        const charts = await google.colab.kernel.invokeFunction(\n",
              "            'suggestCharts', [key], {});\n",
              "      } catch (error) {\n",
              "        console.error('Error during call to suggestCharts:', error);\n",
              "      }\n",
              "      quickchartButtonEl.classList.remove('colab-df-spinner');\n",
              "      quickchartButtonEl.classList.add('colab-df-quickchart-complete');\n",
              "    }\n",
              "    (() => {\n",
              "      let quickchartButtonEl =\n",
              "        document.querySelector('#df-756bf0ba-8613-4b43-8314-647efc109321 button');\n",
              "      quickchartButtonEl.style.display =\n",
              "        google.colab.kernel.accessAllowed ? 'block' : 'none';\n",
              "    })();\n",
              "  </script>\n",
              "</div>\n",
              "    </div>\n",
              "  </div>\n"
            ]
          },
          "metadata": {},
          "execution_count": 64
        }
      ],
      "source": [
        "data.describe()"
      ]
    },
    {
      "cell_type": "code",
      "execution_count": 65,
      "metadata": {
        "id": "Ml03jF2j05Kr",
        "colab": {
          "base_uri": "https://localhost:8080/"
        },
        "outputId": "b91bca98-edaa-4d82-9545-39f17eed6d14"
      },
      "outputs": [
        {
          "output_type": "execute_result",
          "data": {
            "text/plain": [
              "year                       0\n",
              "customer_id                0\n",
              "phone_no                   0\n",
              "gender                    24\n",
              "age                        0\n",
              "no_of_days_subscribed      0\n",
              "multi_screen               0\n",
              "mail_subscribed            0\n",
              "weekly_mins_watched        0\n",
              "minimum_daily_mins         0\n",
              "maximum_daily_mins         0\n",
              "weekly_max_night_mins      0\n",
              "videos_watched             0\n",
              "maximum_days_inactive     28\n",
              "customer_support_calls     0\n",
              "churn                     35\n",
              "dtype: int64"
            ]
          },
          "metadata": {},
          "execution_count": 65
        }
      ],
      "source": [
        "data.isna().sum()"
      ]
    },
    {
      "cell_type": "code",
      "execution_count": 66,
      "metadata": {
        "id": "4ji9WvofKd9H",
        "colab": {
          "base_uri": "https://localhost:8080/"
        },
        "outputId": "359708b7-0949-4ee9-df90-297cd4c40913"
      },
      "outputs": [
        {
          "output_type": "execute_result",
          "data": {
            "text/plain": [
              "Male      1053\n",
              "Female     923\n",
              "Name: gender, dtype: int64"
            ]
          },
          "metadata": {},
          "execution_count": 66
        }
      ],
      "source": [
        "data.gender.value_counts()"
      ]
    },
    {
      "cell_type": "code",
      "execution_count": 67,
      "metadata": {
        "id": "KPytPmtfKcjl"
      },
      "outputs": [],
      "source": [
        "data.gender.fillna('other', inplace = True)"
      ]
    },
    {
      "cell_type": "code",
      "execution_count": 68,
      "metadata": {
        "id": "Amub4HWkKcfz",
        "colab": {
          "base_uri": "https://localhost:8080/",
          "height": 73
        },
        "outputId": "b74be994-01a8-4a65-f6fd-daad882dd1d2"
      },
      "outputs": [
        {
          "output_type": "execute_result",
          "data": {
            "text/plain": [
              "Empty DataFrame\n",
              "Columns: [year, customer_id, phone_no, gender, age, no_of_days_subscribed, multi_screen, mail_subscribed, weekly_mins_watched, minimum_daily_mins, maximum_daily_mins, weekly_max_night_mins, videos_watched, maximum_days_inactive, customer_support_calls, churn]\n",
              "Index: []"
            ],
            "text/html": [
              "\n",
              "  <div id=\"df-e8071375-b162-4738-9f53-9669c6b36652\" class=\"colab-df-container\">\n",
              "    <div>\n",
              "<style scoped>\n",
              "    .dataframe tbody tr th:only-of-type {\n",
              "        vertical-align: middle;\n",
              "    }\n",
              "\n",
              "    .dataframe tbody tr th {\n",
              "        vertical-align: top;\n",
              "    }\n",
              "\n",
              "    .dataframe thead th {\n",
              "        text-align: right;\n",
              "    }\n",
              "</style>\n",
              "<table border=\"1\" class=\"dataframe\">\n",
              "  <thead>\n",
              "    <tr style=\"text-align: right;\">\n",
              "      <th></th>\n",
              "      <th>year</th>\n",
              "      <th>customer_id</th>\n",
              "      <th>phone_no</th>\n",
              "      <th>gender</th>\n",
              "      <th>age</th>\n",
              "      <th>no_of_days_subscribed</th>\n",
              "      <th>multi_screen</th>\n",
              "      <th>mail_subscribed</th>\n",
              "      <th>weekly_mins_watched</th>\n",
              "      <th>minimum_daily_mins</th>\n",
              "      <th>maximum_daily_mins</th>\n",
              "      <th>weekly_max_night_mins</th>\n",
              "      <th>videos_watched</th>\n",
              "      <th>maximum_days_inactive</th>\n",
              "      <th>customer_support_calls</th>\n",
              "      <th>churn</th>\n",
              "    </tr>\n",
              "  </thead>\n",
              "  <tbody>\n",
              "  </tbody>\n",
              "</table>\n",
              "</div>\n",
              "    <div class=\"colab-df-buttons\">\n",
              "\n",
              "  <div class=\"colab-df-container\">\n",
              "    <button class=\"colab-df-convert\" onclick=\"convertToInteractive('df-e8071375-b162-4738-9f53-9669c6b36652')\"\n",
              "            title=\"Convert this dataframe to an interactive table.\"\n",
              "            style=\"display:none;\">\n",
              "\n",
              "  <svg xmlns=\"http://www.w3.org/2000/svg\" height=\"24px\" viewBox=\"0 -960 960 960\">\n",
              "    <path d=\"M120-120v-720h720v720H120Zm60-500h600v-160H180v160Zm220 220h160v-160H400v160Zm0 220h160v-160H400v160ZM180-400h160v-160H180v160Zm440 0h160v-160H620v160ZM180-180h160v-160H180v160Zm440 0h160v-160H620v160Z\"/>\n",
              "  </svg>\n",
              "    </button>\n",
              "\n",
              "  <style>\n",
              "    .colab-df-container {\n",
              "      display:flex;\n",
              "      gap: 12px;\n",
              "    }\n",
              "\n",
              "    .colab-df-convert {\n",
              "      background-color: #E8F0FE;\n",
              "      border: none;\n",
              "      border-radius: 50%;\n",
              "      cursor: pointer;\n",
              "      display: none;\n",
              "      fill: #1967D2;\n",
              "      height: 32px;\n",
              "      padding: 0 0 0 0;\n",
              "      width: 32px;\n",
              "    }\n",
              "\n",
              "    .colab-df-convert:hover {\n",
              "      background-color: #E2EBFA;\n",
              "      box-shadow: 0px 1px 2px rgba(60, 64, 67, 0.3), 0px 1px 3px 1px rgba(60, 64, 67, 0.15);\n",
              "      fill: #174EA6;\n",
              "    }\n",
              "\n",
              "    .colab-df-buttons div {\n",
              "      margin-bottom: 4px;\n",
              "    }\n",
              "\n",
              "    [theme=dark] .colab-df-convert {\n",
              "      background-color: #3B4455;\n",
              "      fill: #D2E3FC;\n",
              "    }\n",
              "\n",
              "    [theme=dark] .colab-df-convert:hover {\n",
              "      background-color: #434B5C;\n",
              "      box-shadow: 0px 1px 3px 1px rgba(0, 0, 0, 0.15);\n",
              "      filter: drop-shadow(0px 1px 2px rgba(0, 0, 0, 0.3));\n",
              "      fill: #FFFFFF;\n",
              "    }\n",
              "  </style>\n",
              "\n",
              "    <script>\n",
              "      const buttonEl =\n",
              "        document.querySelector('#df-e8071375-b162-4738-9f53-9669c6b36652 button.colab-df-convert');\n",
              "      buttonEl.style.display =\n",
              "        google.colab.kernel.accessAllowed ? 'block' : 'none';\n",
              "\n",
              "      async function convertToInteractive(key) {\n",
              "        const element = document.querySelector('#df-e8071375-b162-4738-9f53-9669c6b36652');\n",
              "        const dataTable =\n",
              "          await google.colab.kernel.invokeFunction('convertToInteractive',\n",
              "                                                    [key], {});\n",
              "        if (!dataTable) return;\n",
              "\n",
              "        const docLinkHtml = 'Like what you see? Visit the ' +\n",
              "          '<a target=\"_blank\" href=https://colab.research.google.com/notebooks/data_table.ipynb>data table notebook</a>'\n",
              "          + ' to learn more about interactive tables.';\n",
              "        element.innerHTML = '';\n",
              "        dataTable['output_type'] = 'display_data';\n",
              "        await google.colab.output.renderOutput(dataTable, element);\n",
              "        const docLink = document.createElement('div');\n",
              "        docLink.innerHTML = docLinkHtml;\n",
              "        element.appendChild(docLink);\n",
              "      }\n",
              "    </script>\n",
              "  </div>\n",
              "\n",
              "    </div>\n",
              "  </div>\n"
            ]
          },
          "metadata": {},
          "execution_count": 68
        }
      ],
      "source": [
        "data[data.duplicated()]"
      ]
    },
    {
      "cell_type": "code",
      "execution_count": 69,
      "metadata": {
        "id": "9mzwVccOKcc7"
      },
      "outputs": [],
      "source": [
        "data.maximum_days_inactive.fillna(data.maximum_days_inactive.mode()[0], inplace = True)"
      ]
    },
    {
      "cell_type": "code",
      "execution_count": 70,
      "metadata": {
        "id": "_oNVUqhxKcZv"
      },
      "outputs": [],
      "source": [
        "data.churn.fillna(1.0,inplace = True)"
      ]
    },
    {
      "cell_type": "code",
      "execution_count": 71,
      "metadata": {
        "id": "EE43EEQxKcW7",
        "colab": {
          "base_uri": "https://localhost:8080/",
          "height": 423
        },
        "outputId": "5c484e97-ba09-44a6-fd9a-04cecda8318a"
      },
      "outputs": [
        {
          "output_type": "execute_result",
          "data": {
            "text/plain": [
              "      Female  Male  other\n",
              "0          1     0      0\n",
              "1          1     0      0\n",
              "2          1     0      0\n",
              "3          1     0      0\n",
              "4          1     0      0\n",
              "...      ...   ...    ...\n",
              "1995       1     0      0\n",
              "1996       0     1      0\n",
              "1997       0     0      1\n",
              "1998       0     1      0\n",
              "1999       0     1      0\n",
              "\n",
              "[2000 rows x 3 columns]"
            ],
            "text/html": [
              "\n",
              "  <div id=\"df-6b5f8ae4-da7e-4e1c-a134-617cc85671ee\" class=\"colab-df-container\">\n",
              "    <div>\n",
              "<style scoped>\n",
              "    .dataframe tbody tr th:only-of-type {\n",
              "        vertical-align: middle;\n",
              "    }\n",
              "\n",
              "    .dataframe tbody tr th {\n",
              "        vertical-align: top;\n",
              "    }\n",
              "\n",
              "    .dataframe thead th {\n",
              "        text-align: right;\n",
              "    }\n",
              "</style>\n",
              "<table border=\"1\" class=\"dataframe\">\n",
              "  <thead>\n",
              "    <tr style=\"text-align: right;\">\n",
              "      <th></th>\n",
              "      <th>Female</th>\n",
              "      <th>Male</th>\n",
              "      <th>other</th>\n",
              "    </tr>\n",
              "  </thead>\n",
              "  <tbody>\n",
              "    <tr>\n",
              "      <th>0</th>\n",
              "      <td>1</td>\n",
              "      <td>0</td>\n",
              "      <td>0</td>\n",
              "    </tr>\n",
              "    <tr>\n",
              "      <th>1</th>\n",
              "      <td>1</td>\n",
              "      <td>0</td>\n",
              "      <td>0</td>\n",
              "    </tr>\n",
              "    <tr>\n",
              "      <th>2</th>\n",
              "      <td>1</td>\n",
              "      <td>0</td>\n",
              "      <td>0</td>\n",
              "    </tr>\n",
              "    <tr>\n",
              "      <th>3</th>\n",
              "      <td>1</td>\n",
              "      <td>0</td>\n",
              "      <td>0</td>\n",
              "    </tr>\n",
              "    <tr>\n",
              "      <th>4</th>\n",
              "      <td>1</td>\n",
              "      <td>0</td>\n",
              "      <td>0</td>\n",
              "    </tr>\n",
              "    <tr>\n",
              "      <th>...</th>\n",
              "      <td>...</td>\n",
              "      <td>...</td>\n",
              "      <td>...</td>\n",
              "    </tr>\n",
              "    <tr>\n",
              "      <th>1995</th>\n",
              "      <td>1</td>\n",
              "      <td>0</td>\n",
              "      <td>0</td>\n",
              "    </tr>\n",
              "    <tr>\n",
              "      <th>1996</th>\n",
              "      <td>0</td>\n",
              "      <td>1</td>\n",
              "      <td>0</td>\n",
              "    </tr>\n",
              "    <tr>\n",
              "      <th>1997</th>\n",
              "      <td>0</td>\n",
              "      <td>0</td>\n",
              "      <td>1</td>\n",
              "    </tr>\n",
              "    <tr>\n",
              "      <th>1998</th>\n",
              "      <td>0</td>\n",
              "      <td>1</td>\n",
              "      <td>0</td>\n",
              "    </tr>\n",
              "    <tr>\n",
              "      <th>1999</th>\n",
              "      <td>0</td>\n",
              "      <td>1</td>\n",
              "      <td>0</td>\n",
              "    </tr>\n",
              "  </tbody>\n",
              "</table>\n",
              "<p>2000 rows × 3 columns</p>\n",
              "</div>\n",
              "    <div class=\"colab-df-buttons\">\n",
              "\n",
              "  <div class=\"colab-df-container\">\n",
              "    <button class=\"colab-df-convert\" onclick=\"convertToInteractive('df-6b5f8ae4-da7e-4e1c-a134-617cc85671ee')\"\n",
              "            title=\"Convert this dataframe to an interactive table.\"\n",
              "            style=\"display:none;\">\n",
              "\n",
              "  <svg xmlns=\"http://www.w3.org/2000/svg\" height=\"24px\" viewBox=\"0 -960 960 960\">\n",
              "    <path d=\"M120-120v-720h720v720H120Zm60-500h600v-160H180v160Zm220 220h160v-160H400v160Zm0 220h160v-160H400v160ZM180-400h160v-160H180v160Zm440 0h160v-160H620v160ZM180-180h160v-160H180v160Zm440 0h160v-160H620v160Z\"/>\n",
              "  </svg>\n",
              "    </button>\n",
              "\n",
              "  <style>\n",
              "    .colab-df-container {\n",
              "      display:flex;\n",
              "      gap: 12px;\n",
              "    }\n",
              "\n",
              "    .colab-df-convert {\n",
              "      background-color: #E8F0FE;\n",
              "      border: none;\n",
              "      border-radius: 50%;\n",
              "      cursor: pointer;\n",
              "      display: none;\n",
              "      fill: #1967D2;\n",
              "      height: 32px;\n",
              "      padding: 0 0 0 0;\n",
              "      width: 32px;\n",
              "    }\n",
              "\n",
              "    .colab-df-convert:hover {\n",
              "      background-color: #E2EBFA;\n",
              "      box-shadow: 0px 1px 2px rgba(60, 64, 67, 0.3), 0px 1px 3px 1px rgba(60, 64, 67, 0.15);\n",
              "      fill: #174EA6;\n",
              "    }\n",
              "\n",
              "    .colab-df-buttons div {\n",
              "      margin-bottom: 4px;\n",
              "    }\n",
              "\n",
              "    [theme=dark] .colab-df-convert {\n",
              "      background-color: #3B4455;\n",
              "      fill: #D2E3FC;\n",
              "    }\n",
              "\n",
              "    [theme=dark] .colab-df-convert:hover {\n",
              "      background-color: #434B5C;\n",
              "      box-shadow: 0px 1px 3px 1px rgba(0, 0, 0, 0.15);\n",
              "      filter: drop-shadow(0px 1px 2px rgba(0, 0, 0, 0.3));\n",
              "      fill: #FFFFFF;\n",
              "    }\n",
              "  </style>\n",
              "\n",
              "    <script>\n",
              "      const buttonEl =\n",
              "        document.querySelector('#df-6b5f8ae4-da7e-4e1c-a134-617cc85671ee button.colab-df-convert');\n",
              "      buttonEl.style.display =\n",
              "        google.colab.kernel.accessAllowed ? 'block' : 'none';\n",
              "\n",
              "      async function convertToInteractive(key) {\n",
              "        const element = document.querySelector('#df-6b5f8ae4-da7e-4e1c-a134-617cc85671ee');\n",
              "        const dataTable =\n",
              "          await google.colab.kernel.invokeFunction('convertToInteractive',\n",
              "                                                    [key], {});\n",
              "        if (!dataTable) return;\n",
              "\n",
              "        const docLinkHtml = 'Like what you see? Visit the ' +\n",
              "          '<a target=\"_blank\" href=https://colab.research.google.com/notebooks/data_table.ipynb>data table notebook</a>'\n",
              "          + ' to learn more about interactive tables.';\n",
              "        element.innerHTML = '';\n",
              "        dataTable['output_type'] = 'display_data';\n",
              "        await google.colab.output.renderOutput(dataTable, element);\n",
              "        const docLink = document.createElement('div');\n",
              "        docLink.innerHTML = docLinkHtml;\n",
              "        element.appendChild(docLink);\n",
              "      }\n",
              "    </script>\n",
              "  </div>\n",
              "\n",
              "\n",
              "<div id=\"df-e8126be9-5d31-4cd8-a926-91ef195e4a48\">\n",
              "  <button class=\"colab-df-quickchart\" onclick=\"quickchart('df-e8126be9-5d31-4cd8-a926-91ef195e4a48')\"\n",
              "            title=\"Suggest charts\"\n",
              "            style=\"display:none;\">\n",
              "\n",
              "<svg xmlns=\"http://www.w3.org/2000/svg\" height=\"24px\"viewBox=\"0 0 24 24\"\n",
              "     width=\"24px\">\n",
              "    <g>\n",
              "        <path d=\"M19 3H5c-1.1 0-2 .9-2 2v14c0 1.1.9 2 2 2h14c1.1 0 2-.9 2-2V5c0-1.1-.9-2-2-2zM9 17H7v-7h2v7zm4 0h-2V7h2v10zm4 0h-2v-4h2v4z\"/>\n",
              "    </g>\n",
              "</svg>\n",
              "  </button>\n",
              "\n",
              "<style>\n",
              "  .colab-df-quickchart {\n",
              "      --bg-color: #E8F0FE;\n",
              "      --fill-color: #1967D2;\n",
              "      --hover-bg-color: #E2EBFA;\n",
              "      --hover-fill-color: #174EA6;\n",
              "      --disabled-fill-color: #AAA;\n",
              "      --disabled-bg-color: #DDD;\n",
              "  }\n",
              "\n",
              "  [theme=dark] .colab-df-quickchart {\n",
              "      --bg-color: #3B4455;\n",
              "      --fill-color: #D2E3FC;\n",
              "      --hover-bg-color: #434B5C;\n",
              "      --hover-fill-color: #FFFFFF;\n",
              "      --disabled-bg-color: #3B4455;\n",
              "      --disabled-fill-color: #666;\n",
              "  }\n",
              "\n",
              "  .colab-df-quickchart {\n",
              "    background-color: var(--bg-color);\n",
              "    border: none;\n",
              "    border-radius: 50%;\n",
              "    cursor: pointer;\n",
              "    display: none;\n",
              "    fill: var(--fill-color);\n",
              "    height: 32px;\n",
              "    padding: 0;\n",
              "    width: 32px;\n",
              "  }\n",
              "\n",
              "  .colab-df-quickchart:hover {\n",
              "    background-color: var(--hover-bg-color);\n",
              "    box-shadow: 0 1px 2px rgba(60, 64, 67, 0.3), 0 1px 3px 1px rgba(60, 64, 67, 0.15);\n",
              "    fill: var(--button-hover-fill-color);\n",
              "  }\n",
              "\n",
              "  .colab-df-quickchart-complete:disabled,\n",
              "  .colab-df-quickchart-complete:disabled:hover {\n",
              "    background-color: var(--disabled-bg-color);\n",
              "    fill: var(--disabled-fill-color);\n",
              "    box-shadow: none;\n",
              "  }\n",
              "\n",
              "  .colab-df-spinner {\n",
              "    border: 2px solid var(--fill-color);\n",
              "    border-color: transparent;\n",
              "    border-bottom-color: var(--fill-color);\n",
              "    animation:\n",
              "      spin 1s steps(1) infinite;\n",
              "  }\n",
              "\n",
              "  @keyframes spin {\n",
              "    0% {\n",
              "      border-color: transparent;\n",
              "      border-bottom-color: var(--fill-color);\n",
              "      border-left-color: var(--fill-color);\n",
              "    }\n",
              "    20% {\n",
              "      border-color: transparent;\n",
              "      border-left-color: var(--fill-color);\n",
              "      border-top-color: var(--fill-color);\n",
              "    }\n",
              "    30% {\n",
              "      border-color: transparent;\n",
              "      border-left-color: var(--fill-color);\n",
              "      border-top-color: var(--fill-color);\n",
              "      border-right-color: var(--fill-color);\n",
              "    }\n",
              "    40% {\n",
              "      border-color: transparent;\n",
              "      border-right-color: var(--fill-color);\n",
              "      border-top-color: var(--fill-color);\n",
              "    }\n",
              "    60% {\n",
              "      border-color: transparent;\n",
              "      border-right-color: var(--fill-color);\n",
              "    }\n",
              "    80% {\n",
              "      border-color: transparent;\n",
              "      border-right-color: var(--fill-color);\n",
              "      border-bottom-color: var(--fill-color);\n",
              "    }\n",
              "    90% {\n",
              "      border-color: transparent;\n",
              "      border-bottom-color: var(--fill-color);\n",
              "    }\n",
              "  }\n",
              "</style>\n",
              "\n",
              "  <script>\n",
              "    async function quickchart(key) {\n",
              "      const quickchartButtonEl =\n",
              "        document.querySelector('#' + key + ' button');\n",
              "      quickchartButtonEl.disabled = true;  // To prevent multiple clicks.\n",
              "      quickchartButtonEl.classList.add('colab-df-spinner');\n",
              "      try {\n",
              "        const charts = await google.colab.kernel.invokeFunction(\n",
              "            'suggestCharts', [key], {});\n",
              "      } catch (error) {\n",
              "        console.error('Error during call to suggestCharts:', error);\n",
              "      }\n",
              "      quickchartButtonEl.classList.remove('colab-df-spinner');\n",
              "      quickchartButtonEl.classList.add('colab-df-quickchart-complete');\n",
              "    }\n",
              "    (() => {\n",
              "      let quickchartButtonEl =\n",
              "        document.querySelector('#df-e8126be9-5d31-4cd8-a926-91ef195e4a48 button');\n",
              "      quickchartButtonEl.style.display =\n",
              "        google.colab.kernel.accessAllowed ? 'block' : 'none';\n",
              "    })();\n",
              "  </script>\n",
              "</div>\n",
              "    </div>\n",
              "  </div>\n"
            ]
          },
          "metadata": {},
          "execution_count": 71
        }
      ],
      "source": [
        "gender_data = pd.get_dummies(data.gender)\n",
        "gender_data"
      ]
    },
    {
      "cell_type": "code",
      "execution_count": 72,
      "metadata": {
        "id": "OIdaLIvNKcT6",
        "colab": {
          "base_uri": "https://localhost:8080/",
          "height": 443
        },
        "outputId": "066806f9-78cb-434a-a13b-d91ee9d44940"
      },
      "outputs": [
        {
          "output_type": "execute_result",
          "data": {
            "text/plain": [
              "      year  customer_id  phone_no  gender  age  no_of_days_subscribed  \\\n",
              "0     2020       100198  409-8743  Female   36                     62   \n",
              "1     2020       100643  340-5930  Female   39                    149   \n",
              "2     2020       100756  372-3750  Female   65                    126   \n",
              "3     2020       101595  331-4902  Female   24                    131   \n",
              "4     2020       101653  351-8398  Female   40                    191   \n",
              "...    ...          ...       ...     ...  ...                    ...   \n",
              "1995  2020       997132  385-7387  Female   54                     75   \n",
              "1996  2020       998086  383-9255    Male   45                    127   \n",
              "1997  2020       998474  353-2080   other   53                     94   \n",
              "1998  2020       998934  359-7788    Male   40                     94   \n",
              "1999  2020       999961  414-1496    Male   37                     73   \n",
              "\n",
              "     multi_screen mail_subscribed  weekly_mins_watched  minimum_daily_mins  \\\n",
              "0              no              no               148.35                12.2   \n",
              "1              no              no               294.45                 7.7   \n",
              "2              no              no                87.30                11.9   \n",
              "3              no             yes               321.30                 9.5   \n",
              "4              no              no               243.00                10.9   \n",
              "...           ...             ...                  ...                 ...   \n",
              "1995           no             yes               182.25                11.3   \n",
              "1996           no              no               273.45                 9.3   \n",
              "1997           no              no               128.85                15.6   \n",
              "1998           no              no               178.05                10.4   \n",
              "1999           no              no               326.70                10.3   \n",
              "\n",
              "      maximum_daily_mins  weekly_max_night_mins  videos_watched  \\\n",
              "0                  16.81                     82               1   \n",
              "1                  33.37                     87               3   \n",
              "2                   9.89                     91               1   \n",
              "3                  36.41                    102               4   \n",
              "4                  27.54                     83               7   \n",
              "...                  ...                    ...             ...   \n",
              "1995               20.66                     97               5   \n",
              "1996               30.99                    116               3   \n",
              "1997               14.60                    110              16   \n",
              "1998               20.18                    100               6   \n",
              "1999               37.03                     89               6   \n",
              "\n",
              "      maximum_days_inactive  customer_support_calls  churn  Female  Male  \\\n",
              "0                       4.0                       1    0.0       1     0   \n",
              "1                       3.0                       2    0.0       1     0   \n",
              "2                       4.0                       5    1.0       1     0   \n",
              "3                       3.0                       3    0.0       1     0   \n",
              "4                       3.0                       1    0.0       1     0   \n",
              "...                     ...                     ...    ...     ...   ...   \n",
              "1995                    4.0                       2    1.0       1     0   \n",
              "1996                    3.0                       1    0.0       0     1   \n",
              "1997                    5.0                       0    0.0       0     0   \n",
              "1998                    3.0                       3    0.0       0     1   \n",
              "1999                    3.0                       1    1.0       0     1   \n",
              "\n",
              "      other  \n",
              "0         0  \n",
              "1         0  \n",
              "2         0  \n",
              "3         0  \n",
              "4         0  \n",
              "...     ...  \n",
              "1995      0  \n",
              "1996      0  \n",
              "1997      1  \n",
              "1998      0  \n",
              "1999      0  \n",
              "\n",
              "[2000 rows x 19 columns]"
            ],
            "text/html": [
              "\n",
              "  <div id=\"df-611944c2-a1c4-46aa-9b76-5110e7d885ac\" class=\"colab-df-container\">\n",
              "    <div>\n",
              "<style scoped>\n",
              "    .dataframe tbody tr th:only-of-type {\n",
              "        vertical-align: middle;\n",
              "    }\n",
              "\n",
              "    .dataframe tbody tr th {\n",
              "        vertical-align: top;\n",
              "    }\n",
              "\n",
              "    .dataframe thead th {\n",
              "        text-align: right;\n",
              "    }\n",
              "</style>\n",
              "<table border=\"1\" class=\"dataframe\">\n",
              "  <thead>\n",
              "    <tr style=\"text-align: right;\">\n",
              "      <th></th>\n",
              "      <th>year</th>\n",
              "      <th>customer_id</th>\n",
              "      <th>phone_no</th>\n",
              "      <th>gender</th>\n",
              "      <th>age</th>\n",
              "      <th>no_of_days_subscribed</th>\n",
              "      <th>multi_screen</th>\n",
              "      <th>mail_subscribed</th>\n",
              "      <th>weekly_mins_watched</th>\n",
              "      <th>minimum_daily_mins</th>\n",
              "      <th>maximum_daily_mins</th>\n",
              "      <th>weekly_max_night_mins</th>\n",
              "      <th>videos_watched</th>\n",
              "      <th>maximum_days_inactive</th>\n",
              "      <th>customer_support_calls</th>\n",
              "      <th>churn</th>\n",
              "      <th>Female</th>\n",
              "      <th>Male</th>\n",
              "      <th>other</th>\n",
              "    </tr>\n",
              "  </thead>\n",
              "  <tbody>\n",
              "    <tr>\n",
              "      <th>0</th>\n",
              "      <td>2020</td>\n",
              "      <td>100198</td>\n",
              "      <td>409-8743</td>\n",
              "      <td>Female</td>\n",
              "      <td>36</td>\n",
              "      <td>62</td>\n",
              "      <td>no</td>\n",
              "      <td>no</td>\n",
              "      <td>148.35</td>\n",
              "      <td>12.2</td>\n",
              "      <td>16.81</td>\n",
              "      <td>82</td>\n",
              "      <td>1</td>\n",
              "      <td>4.0</td>\n",
              "      <td>1</td>\n",
              "      <td>0.0</td>\n",
              "      <td>1</td>\n",
              "      <td>0</td>\n",
              "      <td>0</td>\n",
              "    </tr>\n",
              "    <tr>\n",
              "      <th>1</th>\n",
              "      <td>2020</td>\n",
              "      <td>100643</td>\n",
              "      <td>340-5930</td>\n",
              "      <td>Female</td>\n",
              "      <td>39</td>\n",
              "      <td>149</td>\n",
              "      <td>no</td>\n",
              "      <td>no</td>\n",
              "      <td>294.45</td>\n",
              "      <td>7.7</td>\n",
              "      <td>33.37</td>\n",
              "      <td>87</td>\n",
              "      <td>3</td>\n",
              "      <td>3.0</td>\n",
              "      <td>2</td>\n",
              "      <td>0.0</td>\n",
              "      <td>1</td>\n",
              "      <td>0</td>\n",
              "      <td>0</td>\n",
              "    </tr>\n",
              "    <tr>\n",
              "      <th>2</th>\n",
              "      <td>2020</td>\n",
              "      <td>100756</td>\n",
              "      <td>372-3750</td>\n",
              "      <td>Female</td>\n",
              "      <td>65</td>\n",
              "      <td>126</td>\n",
              "      <td>no</td>\n",
              "      <td>no</td>\n",
              "      <td>87.30</td>\n",
              "      <td>11.9</td>\n",
              "      <td>9.89</td>\n",
              "      <td>91</td>\n",
              "      <td>1</td>\n",
              "      <td>4.0</td>\n",
              "      <td>5</td>\n",
              "      <td>1.0</td>\n",
              "      <td>1</td>\n",
              "      <td>0</td>\n",
              "      <td>0</td>\n",
              "    </tr>\n",
              "    <tr>\n",
              "      <th>3</th>\n",
              "      <td>2020</td>\n",
              "      <td>101595</td>\n",
              "      <td>331-4902</td>\n",
              "      <td>Female</td>\n",
              "      <td>24</td>\n",
              "      <td>131</td>\n",
              "      <td>no</td>\n",
              "      <td>yes</td>\n",
              "      <td>321.30</td>\n",
              "      <td>9.5</td>\n",
              "      <td>36.41</td>\n",
              "      <td>102</td>\n",
              "      <td>4</td>\n",
              "      <td>3.0</td>\n",
              "      <td>3</td>\n",
              "      <td>0.0</td>\n",
              "      <td>1</td>\n",
              "      <td>0</td>\n",
              "      <td>0</td>\n",
              "    </tr>\n",
              "    <tr>\n",
              "      <th>4</th>\n",
              "      <td>2020</td>\n",
              "      <td>101653</td>\n",
              "      <td>351-8398</td>\n",
              "      <td>Female</td>\n",
              "      <td>40</td>\n",
              "      <td>191</td>\n",
              "      <td>no</td>\n",
              "      <td>no</td>\n",
              "      <td>243.00</td>\n",
              "      <td>10.9</td>\n",
              "      <td>27.54</td>\n",
              "      <td>83</td>\n",
              "      <td>7</td>\n",
              "      <td>3.0</td>\n",
              "      <td>1</td>\n",
              "      <td>0.0</td>\n",
              "      <td>1</td>\n",
              "      <td>0</td>\n",
              "      <td>0</td>\n",
              "    </tr>\n",
              "    <tr>\n",
              "      <th>...</th>\n",
              "      <td>...</td>\n",
              "      <td>...</td>\n",
              "      <td>...</td>\n",
              "      <td>...</td>\n",
              "      <td>...</td>\n",
              "      <td>...</td>\n",
              "      <td>...</td>\n",
              "      <td>...</td>\n",
              "      <td>...</td>\n",
              "      <td>...</td>\n",
              "      <td>...</td>\n",
              "      <td>...</td>\n",
              "      <td>...</td>\n",
              "      <td>...</td>\n",
              "      <td>...</td>\n",
              "      <td>...</td>\n",
              "      <td>...</td>\n",
              "      <td>...</td>\n",
              "      <td>...</td>\n",
              "    </tr>\n",
              "    <tr>\n",
              "      <th>1995</th>\n",
              "      <td>2020</td>\n",
              "      <td>997132</td>\n",
              "      <td>385-7387</td>\n",
              "      <td>Female</td>\n",
              "      <td>54</td>\n",
              "      <td>75</td>\n",
              "      <td>no</td>\n",
              "      <td>yes</td>\n",
              "      <td>182.25</td>\n",
              "      <td>11.3</td>\n",
              "      <td>20.66</td>\n",
              "      <td>97</td>\n",
              "      <td>5</td>\n",
              "      <td>4.0</td>\n",
              "      <td>2</td>\n",
              "      <td>1.0</td>\n",
              "      <td>1</td>\n",
              "      <td>0</td>\n",
              "      <td>0</td>\n",
              "    </tr>\n",
              "    <tr>\n",
              "      <th>1996</th>\n",
              "      <td>2020</td>\n",
              "      <td>998086</td>\n",
              "      <td>383-9255</td>\n",
              "      <td>Male</td>\n",
              "      <td>45</td>\n",
              "      <td>127</td>\n",
              "      <td>no</td>\n",
              "      <td>no</td>\n",
              "      <td>273.45</td>\n",
              "      <td>9.3</td>\n",
              "      <td>30.99</td>\n",
              "      <td>116</td>\n",
              "      <td>3</td>\n",
              "      <td>3.0</td>\n",
              "      <td>1</td>\n",
              "      <td>0.0</td>\n",
              "      <td>0</td>\n",
              "      <td>1</td>\n",
              "      <td>0</td>\n",
              "    </tr>\n",
              "    <tr>\n",
              "      <th>1997</th>\n",
              "      <td>2020</td>\n",
              "      <td>998474</td>\n",
              "      <td>353-2080</td>\n",
              "      <td>other</td>\n",
              "      <td>53</td>\n",
              "      <td>94</td>\n",
              "      <td>no</td>\n",
              "      <td>no</td>\n",
              "      <td>128.85</td>\n",
              "      <td>15.6</td>\n",
              "      <td>14.60</td>\n",
              "      <td>110</td>\n",
              "      <td>16</td>\n",
              "      <td>5.0</td>\n",
              "      <td>0</td>\n",
              "      <td>0.0</td>\n",
              "      <td>0</td>\n",
              "      <td>0</td>\n",
              "      <td>1</td>\n",
              "    </tr>\n",
              "    <tr>\n",
              "      <th>1998</th>\n",
              "      <td>2020</td>\n",
              "      <td>998934</td>\n",
              "      <td>359-7788</td>\n",
              "      <td>Male</td>\n",
              "      <td>40</td>\n",
              "      <td>94</td>\n",
              "      <td>no</td>\n",
              "      <td>no</td>\n",
              "      <td>178.05</td>\n",
              "      <td>10.4</td>\n",
              "      <td>20.18</td>\n",
              "      <td>100</td>\n",
              "      <td>6</td>\n",
              "      <td>3.0</td>\n",
              "      <td>3</td>\n",
              "      <td>0.0</td>\n",
              "      <td>0</td>\n",
              "      <td>1</td>\n",
              "      <td>0</td>\n",
              "    </tr>\n",
              "    <tr>\n",
              "      <th>1999</th>\n",
              "      <td>2020</td>\n",
              "      <td>999961</td>\n",
              "      <td>414-1496</td>\n",
              "      <td>Male</td>\n",
              "      <td>37</td>\n",
              "      <td>73</td>\n",
              "      <td>no</td>\n",
              "      <td>no</td>\n",
              "      <td>326.70</td>\n",
              "      <td>10.3</td>\n",
              "      <td>37.03</td>\n",
              "      <td>89</td>\n",
              "      <td>6</td>\n",
              "      <td>3.0</td>\n",
              "      <td>1</td>\n",
              "      <td>1.0</td>\n",
              "      <td>0</td>\n",
              "      <td>1</td>\n",
              "      <td>0</td>\n",
              "    </tr>\n",
              "  </tbody>\n",
              "</table>\n",
              "<p>2000 rows × 19 columns</p>\n",
              "</div>\n",
              "    <div class=\"colab-df-buttons\">\n",
              "\n",
              "  <div class=\"colab-df-container\">\n",
              "    <button class=\"colab-df-convert\" onclick=\"convertToInteractive('df-611944c2-a1c4-46aa-9b76-5110e7d885ac')\"\n",
              "            title=\"Convert this dataframe to an interactive table.\"\n",
              "            style=\"display:none;\">\n",
              "\n",
              "  <svg xmlns=\"http://www.w3.org/2000/svg\" height=\"24px\" viewBox=\"0 -960 960 960\">\n",
              "    <path d=\"M120-120v-720h720v720H120Zm60-500h600v-160H180v160Zm220 220h160v-160H400v160Zm0 220h160v-160H400v160ZM180-400h160v-160H180v160Zm440 0h160v-160H620v160ZM180-180h160v-160H180v160Zm440 0h160v-160H620v160Z\"/>\n",
              "  </svg>\n",
              "    </button>\n",
              "\n",
              "  <style>\n",
              "    .colab-df-container {\n",
              "      display:flex;\n",
              "      gap: 12px;\n",
              "    }\n",
              "\n",
              "    .colab-df-convert {\n",
              "      background-color: #E8F0FE;\n",
              "      border: none;\n",
              "      border-radius: 50%;\n",
              "      cursor: pointer;\n",
              "      display: none;\n",
              "      fill: #1967D2;\n",
              "      height: 32px;\n",
              "      padding: 0 0 0 0;\n",
              "      width: 32px;\n",
              "    }\n",
              "\n",
              "    .colab-df-convert:hover {\n",
              "      background-color: #E2EBFA;\n",
              "      box-shadow: 0px 1px 2px rgba(60, 64, 67, 0.3), 0px 1px 3px 1px rgba(60, 64, 67, 0.15);\n",
              "      fill: #174EA6;\n",
              "    }\n",
              "\n",
              "    .colab-df-buttons div {\n",
              "      margin-bottom: 4px;\n",
              "    }\n",
              "\n",
              "    [theme=dark] .colab-df-convert {\n",
              "      background-color: #3B4455;\n",
              "      fill: #D2E3FC;\n",
              "    }\n",
              "\n",
              "    [theme=dark] .colab-df-convert:hover {\n",
              "      background-color: #434B5C;\n",
              "      box-shadow: 0px 1px 3px 1px rgba(0, 0, 0, 0.15);\n",
              "      filter: drop-shadow(0px 1px 2px rgba(0, 0, 0, 0.3));\n",
              "      fill: #FFFFFF;\n",
              "    }\n",
              "  </style>\n",
              "\n",
              "    <script>\n",
              "      const buttonEl =\n",
              "        document.querySelector('#df-611944c2-a1c4-46aa-9b76-5110e7d885ac button.colab-df-convert');\n",
              "      buttonEl.style.display =\n",
              "        google.colab.kernel.accessAllowed ? 'block' : 'none';\n",
              "\n",
              "      async function convertToInteractive(key) {\n",
              "        const element = document.querySelector('#df-611944c2-a1c4-46aa-9b76-5110e7d885ac');\n",
              "        const dataTable =\n",
              "          await google.colab.kernel.invokeFunction('convertToInteractive',\n",
              "                                                    [key], {});\n",
              "        if (!dataTable) return;\n",
              "\n",
              "        const docLinkHtml = 'Like what you see? Visit the ' +\n",
              "          '<a target=\"_blank\" href=https://colab.research.google.com/notebooks/data_table.ipynb>data table notebook</a>'\n",
              "          + ' to learn more about interactive tables.';\n",
              "        element.innerHTML = '';\n",
              "        dataTable['output_type'] = 'display_data';\n",
              "        await google.colab.output.renderOutput(dataTable, element);\n",
              "        const docLink = document.createElement('div');\n",
              "        docLink.innerHTML = docLinkHtml;\n",
              "        element.appendChild(docLink);\n",
              "      }\n",
              "    </script>\n",
              "  </div>\n",
              "\n",
              "\n",
              "<div id=\"df-8df26d0d-a4bc-434f-a763-76f3f10280ce\">\n",
              "  <button class=\"colab-df-quickchart\" onclick=\"quickchart('df-8df26d0d-a4bc-434f-a763-76f3f10280ce')\"\n",
              "            title=\"Suggest charts\"\n",
              "            style=\"display:none;\">\n",
              "\n",
              "<svg xmlns=\"http://www.w3.org/2000/svg\" height=\"24px\"viewBox=\"0 0 24 24\"\n",
              "     width=\"24px\">\n",
              "    <g>\n",
              "        <path d=\"M19 3H5c-1.1 0-2 .9-2 2v14c0 1.1.9 2 2 2h14c1.1 0 2-.9 2-2V5c0-1.1-.9-2-2-2zM9 17H7v-7h2v7zm4 0h-2V7h2v10zm4 0h-2v-4h2v4z\"/>\n",
              "    </g>\n",
              "</svg>\n",
              "  </button>\n",
              "\n",
              "<style>\n",
              "  .colab-df-quickchart {\n",
              "      --bg-color: #E8F0FE;\n",
              "      --fill-color: #1967D2;\n",
              "      --hover-bg-color: #E2EBFA;\n",
              "      --hover-fill-color: #174EA6;\n",
              "      --disabled-fill-color: #AAA;\n",
              "      --disabled-bg-color: #DDD;\n",
              "  }\n",
              "\n",
              "  [theme=dark] .colab-df-quickchart {\n",
              "      --bg-color: #3B4455;\n",
              "      --fill-color: #D2E3FC;\n",
              "      --hover-bg-color: #434B5C;\n",
              "      --hover-fill-color: #FFFFFF;\n",
              "      --disabled-bg-color: #3B4455;\n",
              "      --disabled-fill-color: #666;\n",
              "  }\n",
              "\n",
              "  .colab-df-quickchart {\n",
              "    background-color: var(--bg-color);\n",
              "    border: none;\n",
              "    border-radius: 50%;\n",
              "    cursor: pointer;\n",
              "    display: none;\n",
              "    fill: var(--fill-color);\n",
              "    height: 32px;\n",
              "    padding: 0;\n",
              "    width: 32px;\n",
              "  }\n",
              "\n",
              "  .colab-df-quickchart:hover {\n",
              "    background-color: var(--hover-bg-color);\n",
              "    box-shadow: 0 1px 2px rgba(60, 64, 67, 0.3), 0 1px 3px 1px rgba(60, 64, 67, 0.15);\n",
              "    fill: var(--button-hover-fill-color);\n",
              "  }\n",
              "\n",
              "  .colab-df-quickchart-complete:disabled,\n",
              "  .colab-df-quickchart-complete:disabled:hover {\n",
              "    background-color: var(--disabled-bg-color);\n",
              "    fill: var(--disabled-fill-color);\n",
              "    box-shadow: none;\n",
              "  }\n",
              "\n",
              "  .colab-df-spinner {\n",
              "    border: 2px solid var(--fill-color);\n",
              "    border-color: transparent;\n",
              "    border-bottom-color: var(--fill-color);\n",
              "    animation:\n",
              "      spin 1s steps(1) infinite;\n",
              "  }\n",
              "\n",
              "  @keyframes spin {\n",
              "    0% {\n",
              "      border-color: transparent;\n",
              "      border-bottom-color: var(--fill-color);\n",
              "      border-left-color: var(--fill-color);\n",
              "    }\n",
              "    20% {\n",
              "      border-color: transparent;\n",
              "      border-left-color: var(--fill-color);\n",
              "      border-top-color: var(--fill-color);\n",
              "    }\n",
              "    30% {\n",
              "      border-color: transparent;\n",
              "      border-left-color: var(--fill-color);\n",
              "      border-top-color: var(--fill-color);\n",
              "      border-right-color: var(--fill-color);\n",
              "    }\n",
              "    40% {\n",
              "      border-color: transparent;\n",
              "      border-right-color: var(--fill-color);\n",
              "      border-top-color: var(--fill-color);\n",
              "    }\n",
              "    60% {\n",
              "      border-color: transparent;\n",
              "      border-right-color: var(--fill-color);\n",
              "    }\n",
              "    80% {\n",
              "      border-color: transparent;\n",
              "      border-right-color: var(--fill-color);\n",
              "      border-bottom-color: var(--fill-color);\n",
              "    }\n",
              "    90% {\n",
              "      border-color: transparent;\n",
              "      border-bottom-color: var(--fill-color);\n",
              "    }\n",
              "  }\n",
              "</style>\n",
              "\n",
              "  <script>\n",
              "    async function quickchart(key) {\n",
              "      const quickchartButtonEl =\n",
              "        document.querySelector('#' + key + ' button');\n",
              "      quickchartButtonEl.disabled = true;  // To prevent multiple clicks.\n",
              "      quickchartButtonEl.classList.add('colab-df-spinner');\n",
              "      try {\n",
              "        const charts = await google.colab.kernel.invokeFunction(\n",
              "            'suggestCharts', [key], {});\n",
              "      } catch (error) {\n",
              "        console.error('Error during call to suggestCharts:', error);\n",
              "      }\n",
              "      quickchartButtonEl.classList.remove('colab-df-spinner');\n",
              "      quickchartButtonEl.classList.add('colab-df-quickchart-complete');\n",
              "    }\n",
              "    (() => {\n",
              "      let quickchartButtonEl =\n",
              "        document.querySelector('#df-8df26d0d-a4bc-434f-a763-76f3f10280ce button');\n",
              "      quickchartButtonEl.style.display =\n",
              "        google.colab.kernel.accessAllowed ? 'block' : 'none';\n",
              "    })();\n",
              "  </script>\n",
              "</div>\n",
              "    </div>\n",
              "  </div>\n"
            ]
          },
          "metadata": {},
          "execution_count": 72
        }
      ],
      "source": [
        "data = pd.concat([data,gender_data], axis = 1)\n",
        "data"
      ]
    },
    {
      "cell_type": "code",
      "execution_count": 73,
      "metadata": {
        "id": "6UCs9-qlKt--"
      },
      "outputs": [],
      "source": [
        "data.replace({'no':0,'yes':1}, inplace = True)"
      ]
    },
    {
      "cell_type": "code",
      "execution_count": 74,
      "metadata": {
        "id": "Q9ibAlAEKt8T",
        "colab": {
          "base_uri": "https://localhost:8080/"
        },
        "outputId": "45719669-bee6-4f07-fc61-d99b6fb67490"
      },
      "outputs": [
        {
          "output_type": "execute_result",
          "data": {
            "text/plain": [
              "year                        int64\n",
              "customer_id                 int64\n",
              "phone_no                   object\n",
              "gender                     object\n",
              "age                         int64\n",
              "no_of_days_subscribed       int64\n",
              "multi_screen                int64\n",
              "mail_subscribed             int64\n",
              "weekly_mins_watched       float64\n",
              "minimum_daily_mins        float64\n",
              "maximum_daily_mins        float64\n",
              "weekly_max_night_mins       int64\n",
              "videos_watched              int64\n",
              "maximum_days_inactive     float64\n",
              "customer_support_calls      int64\n",
              "churn                     float64\n",
              "Female                      uint8\n",
              "Male                        uint8\n",
              "other                       uint8\n",
              "dtype: object"
            ]
          },
          "metadata": {},
          "execution_count": 74
        }
      ],
      "source": [
        "data.dtypes"
      ]
    },
    {
      "cell_type": "code",
      "execution_count": 75,
      "metadata": {
        "id": "OtDx16iZKt2L",
        "colab": {
          "base_uri": "https://localhost:8080/"
        },
        "outputId": "2bf0f5da-8851-4a1d-fdbf-97f567f64898"
      },
      "outputs": [
        {
          "output_type": "execute_result",
          "data": {
            "text/plain": [
              "year                        int64\n",
              "customer_id                 int64\n",
              "gender                     object\n",
              "age                         int64\n",
              "no_of_days_subscribed       int64\n",
              "multi_screen                int64\n",
              "mail_subscribed             int64\n",
              "weekly_mins_watched       float64\n",
              "minimum_daily_mins        float64\n",
              "maximum_daily_mins        float64\n",
              "weekly_max_night_mins       int64\n",
              "videos_watched              int64\n",
              "maximum_days_inactive     float64\n",
              "customer_support_calls      int64\n",
              "churn                     float64\n",
              "Female                      uint8\n",
              "Male                        uint8\n",
              "other                       uint8\n",
              "dtype: object"
            ]
          },
          "metadata": {},
          "execution_count": 75
        }
      ],
      "source": [
        "data.drop('phone_no', axis=1, inplace = True)\n",
        "data.dtypes"
      ]
    },
    {
      "cell_type": "code",
      "execution_count": 76,
      "metadata": {
        "id": "1r8SEhRMKtzU"
      },
      "outputs": [],
      "source": [
        "for i in range(len(data)):\n",
        "    age = data.loc[i, 'age']\n",
        "    if age <= 18:\n",
        "        data.loc[i, 'age_group'] = 'Under 18'\n",
        "    elif 19 <= age <= 25:\n",
        "        data.loc[i, 'age_group'] = '19-25'\n",
        "    elif 26 <= age <= 35:\n",
        "        data.loc[i, 'age_group'] = '26-35'\n",
        "    elif 36 <= age <= 45:\n",
        "        data.loc[i, 'age_group'] = '36-45'\n",
        "    elif 46 <= age <= 60:\n",
        "        data.loc[i, 'age_group'] = '46-60'\n",
        "    else:\n",
        "        data.loc[i, 'age_group'] = 'over 60'"
      ]
    },
    {
      "cell_type": "code",
      "execution_count": 77,
      "metadata": {
        "id": "9cGZpciINLz0"
      },
      "outputs": [],
      "source": [
        "age_group_mapping = {\n",
        "    'Under 18': 1,\n",
        "    '19-25': 2,\n",
        "    '26-35': 3,\n",
        "    '36-45': 4,\n",
        "    '46-60': 5,\n",
        "    'over 60': 6\n",
        "}\n",
        "\n",
        "data['age_group_numeric'] = data['age_group'].map(age_group_mapping).astype(float)"
      ]
    },
    {
      "cell_type": "code",
      "execution_count": 78,
      "metadata": {
        "id": "oDaE_PPqKtwR",
        "colab": {
          "base_uri": "https://localhost:8080/"
        },
        "outputId": "ef804d20-e105-4b7d-a970-0c8afca48e92"
      },
      "outputs": [
        {
          "output_type": "execute_result",
          "data": {
            "text/plain": [
              "year                        int64\n",
              "customer_id                 int64\n",
              "gender                     object\n",
              "age                         int64\n",
              "no_of_days_subscribed       int64\n",
              "multi_screen                int64\n",
              "mail_subscribed             int64\n",
              "weekly_mins_watched       float64\n",
              "minimum_daily_mins        float64\n",
              "maximum_daily_mins        float64\n",
              "weekly_max_night_mins       int64\n",
              "videos_watched              int64\n",
              "maximum_days_inactive     float64\n",
              "customer_support_calls      int64\n",
              "churn                     float64\n",
              "Female                      uint8\n",
              "Male                        uint8\n",
              "other                       uint8\n",
              "age_group                  object\n",
              "age_group_numeric         float64\n",
              "dtype: object"
            ]
          },
          "metadata": {},
          "execution_count": 78
        }
      ],
      "source": [
        "data.dtypes"
      ]
    },
    {
      "cell_type": "markdown",
      "metadata": {
        "id": "EHaGedwIDfq4"
      },
      "source": [
        "% of Respective columns generating churn"
      ]
    },
    {
      "cell_type": "code",
      "execution_count": 79,
      "metadata": {
        "id": "xh4n4F8gCvQA"
      },
      "outputs": [],
      "source": [
        "y = data.churn"
      ]
    },
    {
      "cell_type": "code",
      "execution_count": 80,
      "metadata": {
        "id": "hwg8-ym9Du58"
      },
      "outputs": [],
      "source": [
        "X = data.drop(['churn'], axis=1)"
      ]
    },
    {
      "cell_type": "code",
      "execution_count": 81,
      "metadata": {
        "id": "d6CZ867aDxl3",
        "colab": {
          "base_uri": "https://localhost:8080/"
        },
        "outputId": "477e3e02-fe99-4541-ac8e-632faad63f86"
      },
      "outputs": [
        {
          "output_type": "stream",
          "name": "stdout",
          "text": [
            "(2000, 19) (2000,)\n"
          ]
        }
      ],
      "source": [
        "print(X.shape, y.shape)"
      ]
    },
    {
      "cell_type": "code",
      "execution_count": 82,
      "metadata": {
        "id": "OBQdK-MzDzTU"
      },
      "outputs": [],
      "source": [
        "from collections import Counter"
      ]
    },
    {
      "cell_type": "code",
      "execution_count": 83,
      "metadata": {
        "id": "VA9Y3Ep_D0_5"
      },
      "outputs": [],
      "source": [
        "def per_count(x):\n",
        "    counter=Counter(x)\n",
        "    pt=[list(counter.keys()),list(counter.values())]\n",
        "    Count = data.churn.value_counts()\n",
        "    data2 = pd.DataFrame(np.array(pt).T, columns=['Churn','Count'])\n",
        "    data2['Count'] = data2['Count'].astype('int64')\n",
        "    data2['%'] = round(data2['Count'] / x.shape[0] * 100, 2)\n",
        "    return data2.sort_values('Count',ascending=False)"
      ]
    },
    {
      "cell_type": "code",
      "execution_count": 84,
      "metadata": {
        "id": "143pVt-7D3yt",
        "colab": {
          "base_uri": "https://localhost:8080/",
          "height": 112
        },
        "outputId": "d6475e00-2002-4dec-fe17-8debc4f00163"
      },
      "outputs": [
        {
          "output_type": "execute_result",
          "data": {
            "text/plain": [
              "   Churn  Count      %\n",
              "0    0.0   1703  85.15\n",
              "1    1.0    297  14.85"
            ],
            "text/html": [
              "\n",
              "  <div id=\"df-7dde5b75-a550-4c91-b9ed-0beb8008dab0\" class=\"colab-df-container\">\n",
              "    <div>\n",
              "<style scoped>\n",
              "    .dataframe tbody tr th:only-of-type {\n",
              "        vertical-align: middle;\n",
              "    }\n",
              "\n",
              "    .dataframe tbody tr th {\n",
              "        vertical-align: top;\n",
              "    }\n",
              "\n",
              "    .dataframe thead th {\n",
              "        text-align: right;\n",
              "    }\n",
              "</style>\n",
              "<table border=\"1\" class=\"dataframe\">\n",
              "  <thead>\n",
              "    <tr style=\"text-align: right;\">\n",
              "      <th></th>\n",
              "      <th>Churn</th>\n",
              "      <th>Count</th>\n",
              "      <th>%</th>\n",
              "    </tr>\n",
              "  </thead>\n",
              "  <tbody>\n",
              "    <tr>\n",
              "      <th>0</th>\n",
              "      <td>0.0</td>\n",
              "      <td>1703</td>\n",
              "      <td>85.15</td>\n",
              "    </tr>\n",
              "    <tr>\n",
              "      <th>1</th>\n",
              "      <td>1.0</td>\n",
              "      <td>297</td>\n",
              "      <td>14.85</td>\n",
              "    </tr>\n",
              "  </tbody>\n",
              "</table>\n",
              "</div>\n",
              "    <div class=\"colab-df-buttons\">\n",
              "\n",
              "  <div class=\"colab-df-container\">\n",
              "    <button class=\"colab-df-convert\" onclick=\"convertToInteractive('df-7dde5b75-a550-4c91-b9ed-0beb8008dab0')\"\n",
              "            title=\"Convert this dataframe to an interactive table.\"\n",
              "            style=\"display:none;\">\n",
              "\n",
              "  <svg xmlns=\"http://www.w3.org/2000/svg\" height=\"24px\" viewBox=\"0 -960 960 960\">\n",
              "    <path d=\"M120-120v-720h720v720H120Zm60-500h600v-160H180v160Zm220 220h160v-160H400v160Zm0 220h160v-160H400v160ZM180-400h160v-160H180v160Zm440 0h160v-160H620v160ZM180-180h160v-160H180v160Zm440 0h160v-160H620v160Z\"/>\n",
              "  </svg>\n",
              "    </button>\n",
              "\n",
              "  <style>\n",
              "    .colab-df-container {\n",
              "      display:flex;\n",
              "      gap: 12px;\n",
              "    }\n",
              "\n",
              "    .colab-df-convert {\n",
              "      background-color: #E8F0FE;\n",
              "      border: none;\n",
              "      border-radius: 50%;\n",
              "      cursor: pointer;\n",
              "      display: none;\n",
              "      fill: #1967D2;\n",
              "      height: 32px;\n",
              "      padding: 0 0 0 0;\n",
              "      width: 32px;\n",
              "    }\n",
              "\n",
              "    .colab-df-convert:hover {\n",
              "      background-color: #E2EBFA;\n",
              "      box-shadow: 0px 1px 2px rgba(60, 64, 67, 0.3), 0px 1px 3px 1px rgba(60, 64, 67, 0.15);\n",
              "      fill: #174EA6;\n",
              "    }\n",
              "\n",
              "    .colab-df-buttons div {\n",
              "      margin-bottom: 4px;\n",
              "    }\n",
              "\n",
              "    [theme=dark] .colab-df-convert {\n",
              "      background-color: #3B4455;\n",
              "      fill: #D2E3FC;\n",
              "    }\n",
              "\n",
              "    [theme=dark] .colab-df-convert:hover {\n",
              "      background-color: #434B5C;\n",
              "      box-shadow: 0px 1px 3px 1px rgba(0, 0, 0, 0.15);\n",
              "      filter: drop-shadow(0px 1px 2px rgba(0, 0, 0, 0.3));\n",
              "      fill: #FFFFFF;\n",
              "    }\n",
              "  </style>\n",
              "\n",
              "    <script>\n",
              "      const buttonEl =\n",
              "        document.querySelector('#df-7dde5b75-a550-4c91-b9ed-0beb8008dab0 button.colab-df-convert');\n",
              "      buttonEl.style.display =\n",
              "        google.colab.kernel.accessAllowed ? 'block' : 'none';\n",
              "\n",
              "      async function convertToInteractive(key) {\n",
              "        const element = document.querySelector('#df-7dde5b75-a550-4c91-b9ed-0beb8008dab0');\n",
              "        const dataTable =\n",
              "          await google.colab.kernel.invokeFunction('convertToInteractive',\n",
              "                                                    [key], {});\n",
              "        if (!dataTable) return;\n",
              "\n",
              "        const docLinkHtml = 'Like what you see? Visit the ' +\n",
              "          '<a target=\"_blank\" href=https://colab.research.google.com/notebooks/data_table.ipynb>data table notebook</a>'\n",
              "          + ' to learn more about interactive tables.';\n",
              "        element.innerHTML = '';\n",
              "        dataTable['output_type'] = 'display_data';\n",
              "        await google.colab.output.renderOutput(dataTable, element);\n",
              "        const docLink = document.createElement('div');\n",
              "        docLink.innerHTML = docLinkHtml;\n",
              "        element.appendChild(docLink);\n",
              "      }\n",
              "    </script>\n",
              "  </div>\n",
              "\n",
              "\n",
              "<div id=\"df-94816fc5-98b8-467e-9bc1-8d3a04f3eb12\">\n",
              "  <button class=\"colab-df-quickchart\" onclick=\"quickchart('df-94816fc5-98b8-467e-9bc1-8d3a04f3eb12')\"\n",
              "            title=\"Suggest charts\"\n",
              "            style=\"display:none;\">\n",
              "\n",
              "<svg xmlns=\"http://www.w3.org/2000/svg\" height=\"24px\"viewBox=\"0 0 24 24\"\n",
              "     width=\"24px\">\n",
              "    <g>\n",
              "        <path d=\"M19 3H5c-1.1 0-2 .9-2 2v14c0 1.1.9 2 2 2h14c1.1 0 2-.9 2-2V5c0-1.1-.9-2-2-2zM9 17H7v-7h2v7zm4 0h-2V7h2v10zm4 0h-2v-4h2v4z\"/>\n",
              "    </g>\n",
              "</svg>\n",
              "  </button>\n",
              "\n",
              "<style>\n",
              "  .colab-df-quickchart {\n",
              "      --bg-color: #E8F0FE;\n",
              "      --fill-color: #1967D2;\n",
              "      --hover-bg-color: #E2EBFA;\n",
              "      --hover-fill-color: #174EA6;\n",
              "      --disabled-fill-color: #AAA;\n",
              "      --disabled-bg-color: #DDD;\n",
              "  }\n",
              "\n",
              "  [theme=dark] .colab-df-quickchart {\n",
              "      --bg-color: #3B4455;\n",
              "      --fill-color: #D2E3FC;\n",
              "      --hover-bg-color: #434B5C;\n",
              "      --hover-fill-color: #FFFFFF;\n",
              "      --disabled-bg-color: #3B4455;\n",
              "      --disabled-fill-color: #666;\n",
              "  }\n",
              "\n",
              "  .colab-df-quickchart {\n",
              "    background-color: var(--bg-color);\n",
              "    border: none;\n",
              "    border-radius: 50%;\n",
              "    cursor: pointer;\n",
              "    display: none;\n",
              "    fill: var(--fill-color);\n",
              "    height: 32px;\n",
              "    padding: 0;\n",
              "    width: 32px;\n",
              "  }\n",
              "\n",
              "  .colab-df-quickchart:hover {\n",
              "    background-color: var(--hover-bg-color);\n",
              "    box-shadow: 0 1px 2px rgba(60, 64, 67, 0.3), 0 1px 3px 1px rgba(60, 64, 67, 0.15);\n",
              "    fill: var(--button-hover-fill-color);\n",
              "  }\n",
              "\n",
              "  .colab-df-quickchart-complete:disabled,\n",
              "  .colab-df-quickchart-complete:disabled:hover {\n",
              "    background-color: var(--disabled-bg-color);\n",
              "    fill: var(--disabled-fill-color);\n",
              "    box-shadow: none;\n",
              "  }\n",
              "\n",
              "  .colab-df-spinner {\n",
              "    border: 2px solid var(--fill-color);\n",
              "    border-color: transparent;\n",
              "    border-bottom-color: var(--fill-color);\n",
              "    animation:\n",
              "      spin 1s steps(1) infinite;\n",
              "  }\n",
              "\n",
              "  @keyframes spin {\n",
              "    0% {\n",
              "      border-color: transparent;\n",
              "      border-bottom-color: var(--fill-color);\n",
              "      border-left-color: var(--fill-color);\n",
              "    }\n",
              "    20% {\n",
              "      border-color: transparent;\n",
              "      border-left-color: var(--fill-color);\n",
              "      border-top-color: var(--fill-color);\n",
              "    }\n",
              "    30% {\n",
              "      border-color: transparent;\n",
              "      border-left-color: var(--fill-color);\n",
              "      border-top-color: var(--fill-color);\n",
              "      border-right-color: var(--fill-color);\n",
              "    }\n",
              "    40% {\n",
              "      border-color: transparent;\n",
              "      border-right-color: var(--fill-color);\n",
              "      border-top-color: var(--fill-color);\n",
              "    }\n",
              "    60% {\n",
              "      border-color: transparent;\n",
              "      border-right-color: var(--fill-color);\n",
              "    }\n",
              "    80% {\n",
              "      border-color: transparent;\n",
              "      border-right-color: var(--fill-color);\n",
              "      border-bottom-color: var(--fill-color);\n",
              "    }\n",
              "    90% {\n",
              "      border-color: transparent;\n",
              "      border-bottom-color: var(--fill-color);\n",
              "    }\n",
              "  }\n",
              "</style>\n",
              "\n",
              "  <script>\n",
              "    async function quickchart(key) {\n",
              "      const quickchartButtonEl =\n",
              "        document.querySelector('#' + key + ' button');\n",
              "      quickchartButtonEl.disabled = true;  // To prevent multiple clicks.\n",
              "      quickchartButtonEl.classList.add('colab-df-spinner');\n",
              "      try {\n",
              "        const charts = await google.colab.kernel.invokeFunction(\n",
              "            'suggestCharts', [key], {});\n",
              "      } catch (error) {\n",
              "        console.error('Error during call to suggestCharts:', error);\n",
              "      }\n",
              "      quickchartButtonEl.classList.remove('colab-df-spinner');\n",
              "      quickchartButtonEl.classList.add('colab-df-quickchart-complete');\n",
              "    }\n",
              "    (() => {\n",
              "      let quickchartButtonEl =\n",
              "        document.querySelector('#df-94816fc5-98b8-467e-9bc1-8d3a04f3eb12 button');\n",
              "      quickchartButtonEl.style.display =\n",
              "        google.colab.kernel.accessAllowed ? 'block' : 'none';\n",
              "    })();\n",
              "  </script>\n",
              "</div>\n",
              "    </div>\n",
              "  </div>\n"
            ]
          },
          "metadata": {},
          "execution_count": 84
        }
      ],
      "source": [
        "per_count(y)"
      ]
    },
    {
      "cell_type": "code",
      "execution_count": 85,
      "metadata": {
        "id": "UPCpOULGD6HQ"
      },
      "outputs": [],
      "source": [
        "gender_churn= (data.groupby('gender')['churn'].mean())*100"
      ]
    },
    {
      "cell_type": "code",
      "execution_count": 86,
      "metadata": {
        "id": "-n48cfvAD8m4",
        "colab": {
          "base_uri": "https://localhost:8080/"
        },
        "outputId": "c87fc954-6aa6-473a-9172-faad45c04ccd"
      },
      "outputs": [
        {
          "output_type": "execute_result",
          "data": {
            "text/plain": [
              "gender\n",
              "Female    15.167931\n",
              "Male      14.719848\n",
              "other      8.333333\n",
              "Name: churn, dtype: float64"
            ]
          },
          "metadata": {},
          "execution_count": 86
        }
      ],
      "source": [
        "gender_churn"
      ]
    },
    {
      "cell_type": "code",
      "source": [
        "data['Female'].value_counts()"
      ],
      "metadata": {
        "colab": {
          "base_uri": "https://localhost:8080/"
        },
        "id": "ULEIfq_uxxCI",
        "outputId": "238ceb96-1191-422f-b6e5-a448d636a754"
      },
      "execution_count": 87,
      "outputs": [
        {
          "output_type": "execute_result",
          "data": {
            "text/plain": [
              "0    1077\n",
              "1     923\n",
              "Name: Female, dtype: int64"
            ]
          },
          "metadata": {},
          "execution_count": 87
        }
      ]
    },
    {
      "cell_type": "code",
      "source": [
        "data['Male'].value_counts()"
      ],
      "metadata": {
        "colab": {
          "base_uri": "https://localhost:8080/"
        },
        "id": "5fZU-Tr-xw3m",
        "outputId": "9be86274-7d3f-40f7-aa76-0ee083ba5457"
      },
      "execution_count": 88,
      "outputs": [
        {
          "output_type": "execute_result",
          "data": {
            "text/plain": [
              "1    1053\n",
              "0     947\n",
              "Name: Male, dtype: int64"
            ]
          },
          "metadata": {},
          "execution_count": 88
        }
      ]
    },
    {
      "cell_type": "code",
      "source": [
        "data['other'].value_counts()"
      ],
      "metadata": {
        "colab": {
          "base_uri": "https://localhost:8080/"
        },
        "id": "xtJDJgy7xwzw",
        "outputId": "dad291f5-f875-4822-b657-e19ae123d5b9"
      },
      "execution_count": 89,
      "outputs": [
        {
          "output_type": "execute_result",
          "data": {
            "text/plain": [
              "0    1976\n",
              "1      24\n",
              "Name: other, dtype: int64"
            ]
          },
          "metadata": {},
          "execution_count": 89
        }
      ]
    },
    {
      "cell_type": "code",
      "source": [
        "df = data.groupby(['Female','churn'], sort=False).size().reset_index(name='Count')\n",
        "print (df)"
      ],
      "metadata": {
        "colab": {
          "base_uri": "https://localhost:8080/"
        },
        "id": "bqt8cnOXydpM",
        "outputId": "d4109635-fd36-4178-a881-6daeec4acc0f"
      },
      "execution_count": 90,
      "outputs": [
        {
          "output_type": "stream",
          "name": "stdout",
          "text": [
            "   Female  churn  Count\n",
            "0       1    0.0    783\n",
            "1       1    1.0    140\n",
            "2       0    1.0    157\n",
            "3       0    0.0    920\n"
          ]
        }
      ]
    },
    {
      "cell_type": "code",
      "source": [
        "dm = data.groupby(['Male','churn'], sort=False).size().reset_index(name='Count')\n",
        "print (dm)"
      ],
      "metadata": {
        "colab": {
          "base_uri": "https://localhost:8080/"
        },
        "id": "RmVkAzLRydlb",
        "outputId": "cfdf54c9-3951-4074-ae99-de304f86c472"
      },
      "execution_count": 91,
      "outputs": [
        {
          "output_type": "stream",
          "name": "stdout",
          "text": [
            "   Male  churn  Count\n",
            "0     0    0.0    805\n",
            "1     0    1.0    142\n",
            "2     1    0.0    898\n",
            "3     1    1.0    155\n"
          ]
        }
      ]
    },
    {
      "cell_type": "code",
      "source": [
        "do = data.groupby(['other','churn'], sort=False).size().reset_index(name='Count')\n",
        "print (do)"
      ],
      "metadata": {
        "colab": {
          "base_uri": "https://localhost:8080/"
        },
        "id": "_xfikR0K0k5a",
        "outputId": "66acc469-7a04-42dd-a1f3-31d9a59ae46f"
      },
      "execution_count": 92,
      "outputs": [
        {
          "output_type": "stream",
          "name": "stdout",
          "text": [
            "   other  churn  Count\n",
            "0      0    0.0   1681\n",
            "1      0    1.0    295\n",
            "2      1    1.0      2\n",
            "3      1    0.0     22\n"
          ]
        }
      ]
    },
    {
      "cell_type": "code",
      "source": [
        "percent_cf= ((140/923)*100)\n",
        "print(percent_cf)"
      ],
      "metadata": {
        "colab": {
          "base_uri": "https://localhost:8080/"
        },
        "id": "ZJ4HJcWDydiQ",
        "outputId": "5b7fedf3-1da3-4867-b401-37790519be27"
      },
      "execution_count": 93,
      "outputs": [
        {
          "output_type": "stream",
          "name": "stdout",
          "text": [
            "15.167930660888407\n"
          ]
        }
      ]
    },
    {
      "cell_type": "code",
      "source": [
        "percent_cm= ((155/1053)*100)\n",
        "print(percent_cm)"
      ],
      "metadata": {
        "colab": {
          "base_uri": "https://localhost:8080/"
        },
        "id": "azlNQbf21gKS",
        "outputId": "f68fdd00-7715-40a1-83b0-e4b110cca6f6"
      },
      "execution_count": 94,
      "outputs": [
        {
          "output_type": "stream",
          "name": "stdout",
          "text": [
            "14.719848053181387\n"
          ]
        }
      ]
    },
    {
      "cell_type": "code",
      "source": [
        "percent_co= ((2/24)*100)\n",
        "print(percent_co)"
      ],
      "metadata": {
        "colab": {
          "base_uri": "https://localhost:8080/"
        },
        "id": "vSwOIy8tyde8",
        "outputId": "1cf73bf7-9f44-41f2-dde6-3d914cd1b13d"
      },
      "execution_count": 95,
      "outputs": [
        {
          "output_type": "stream",
          "name": "stdout",
          "text": [
            "8.333333333333332\n"
          ]
        }
      ]
    },
    {
      "cell_type": "code",
      "source": [
        "percent_chf= ((140/2000)*100)\n",
        "print(percent_chf)"
      ],
      "metadata": {
        "colab": {
          "base_uri": "https://localhost:8080/"
        },
        "outputId": "327f0ae7-fde6-4d3f-b384-a1f4e0dbc3a0",
        "id": "TEAX_fpx5vU2"
      },
      "execution_count": 96,
      "outputs": [
        {
          "output_type": "stream",
          "name": "stdout",
          "text": [
            "7.000000000000001\n"
          ]
        }
      ]
    },
    {
      "cell_type": "code",
      "source": [
        "percent_chm= ((155/2000)*100)\n",
        "print(percent_chm)"
      ],
      "metadata": {
        "colab": {
          "base_uri": "https://localhost:8080/"
        },
        "outputId": "3f29d321-9aca-4392-f225-72d34d51403d",
        "id": "uQLBCiiq5vU2"
      },
      "execution_count": 97,
      "outputs": [
        {
          "output_type": "stream",
          "name": "stdout",
          "text": [
            "7.75\n"
          ]
        }
      ]
    },
    {
      "cell_type": "code",
      "source": [
        "percent_cho= ((2/2000)*100)\n",
        "print(percent_cho)"
      ],
      "metadata": {
        "colab": {
          "base_uri": "https://localhost:8080/"
        },
        "outputId": "b0f8280a-7a92-40eb-8acb-21eee2b11adc",
        "id": "YYOF24gB5vU3"
      },
      "execution_count": 98,
      "outputs": [
        {
          "output_type": "stream",
          "name": "stdout",
          "text": [
            "0.1\n"
          ]
        }
      ]
    },
    {
      "cell_type": "code",
      "execution_count": 99,
      "metadata": {
        "id": "F7NhE4CsOQvI",
        "colab": {
          "base_uri": "https://localhost:8080/",
          "height": 472
        },
        "outputId": "7ce51b13-c06e-4adf-9468-139917ac0b13"
      },
      "outputs": [
        {
          "output_type": "display_data",
          "data": {
            "text/plain": [
              "<Figure size 640x480 with 1 Axes>"
            ],
            "image/png": "[encoded data removed]"
          },
          "metadata": {}
        }
      ],
      "source": [
        "plt.bar(gender_churn.index, gender_churn.values)\n",
        "plt.xlabel('Gender')\n",
        "plt.ylabel('Churn Rate')\n",
        "plt.title('Churn Rate by Gender')\n",
        "plt.show()"
      ]
    },
    {
      "cell_type": "code",
      "execution_count": 100,
      "metadata": {
        "id": "wu9FjYJVECIV",
        "colab": {
          "base_uri": "https://localhost:8080/"
        },
        "outputId": "ad837b54-6305-4807-e24d-61bf407daaba"
      },
      "outputs": [
        {
          "output_type": "execute_result",
          "data": {
            "text/plain": [
              "4.0    761\n",
              "3.0    697\n",
              "5.0    322\n",
              "2.0    131\n",
              "6.0     86\n",
              "1.0      3\n",
              "Name: age_group_numeric, dtype: int64"
            ]
          },
          "metadata": {},
          "execution_count": 100
        }
      ],
      "source": [
        "data.age_group_numeric.value_counts()"
      ]
    },
    {
      "cell_type": "code",
      "execution_count": 101,
      "metadata": {
        "id": "dm5BpNVRJOp5"
      },
      "outputs": [],
      "source": [
        "age_churn = (data.groupby('age_group_numeric')['churn'].mean())*100"
      ]
    },
    {
      "cell_type": "code",
      "execution_count": 102,
      "metadata": {
        "id": "mbY-eFUXJSdz",
        "colab": {
          "base_uri": "https://localhost:8080/"
        },
        "outputId": "ec1546be-a304-4338-edc9-a9d945c51622"
      },
      "outputs": [
        {
          "output_type": "execute_result",
          "data": {
            "text/plain": [
              "age_group_numeric\n",
              "1.0    33.333333\n",
              "2.0    15.267176\n",
              "3.0    14.777618\n",
              "4.0    14.586071\n",
              "5.0    14.285714\n",
              "6.0    18.604651\n",
              "Name: churn, dtype: float64"
            ]
          },
          "metadata": {},
          "execution_count": 102
        }
      ],
      "source": [
        "age_churn"
      ]
    },
    {
      "cell_type": "code",
      "source": [
        "dAge = data.groupby(['age_group_numeric','churn'], sort=False).size().reset_index(name='Count')\n",
        "print (dAge)"
      ],
      "metadata": {
        "colab": {
          "base_uri": "https://localhost:8080/"
        },
        "id": "ICF762SRR4LE",
        "outputId": "9478e817-ba18-40d4-c326-3996192176b9"
      },
      "execution_count": 103,
      "outputs": [
        {
          "output_type": "stream",
          "name": "stdout",
          "text": [
            "    age_group_numeric  churn  Count\n",
            "0                 4.0    0.0    650\n",
            "1                 6.0    1.0     16\n",
            "2                 2.0    0.0    111\n",
            "3                 3.0    1.0    103\n",
            "4                 5.0    0.0    276\n",
            "5                 4.0    1.0    111\n",
            "6                 6.0    0.0     70\n",
            "7                 3.0    0.0    594\n",
            "8                 2.0    1.0     20\n",
            "9                 5.0    1.0     46\n",
            "10                1.0    0.0      2\n",
            "11                1.0    1.0      1\n"
          ]
        }
      ]
    },
    {
      "cell_type": "code",
      "source": [
        "percent_cAge1= ((1/3)*100)\n",
        "print(percent_cAge1)"
      ],
      "metadata": {
        "colab": {
          "base_uri": "https://localhost:8080/"
        },
        "id": "C5n3nsU8Sgg4",
        "outputId": "04559a46-cf49-4551-919b-d22d38e08c26"
      },
      "execution_count": 104,
      "outputs": [
        {
          "output_type": "stream",
          "name": "stdout",
          "text": [
            "33.33333333333333\n"
          ]
        }
      ]
    },
    {
      "cell_type": "code",
      "source": [
        "percent_cAge2= ((20/131)*100)\n",
        "print(percent_cAge1)"
      ],
      "metadata": {
        "colab": {
          "base_uri": "https://localhost:8080/"
        },
        "id": "ogTbcer2Sga0",
        "outputId": "e3725ed0-86a9-4ae3-d605-84311bff299c"
      },
      "execution_count": 105,
      "outputs": [
        {
          "output_type": "stream",
          "name": "stdout",
          "text": [
            "33.33333333333333\n"
          ]
        }
      ]
    },
    {
      "cell_type": "code",
      "source": [
        "percent_cAge3= ((103/697)*100)\n",
        "print(percent_cAge3)"
      ],
      "metadata": {
        "colab": {
          "base_uri": "https://localhost:8080/"
        },
        "id": "psgFQ4lMSgWr",
        "outputId": "e6c4074e-b31b-4dfc-9407-a9d4c8ad7236"
      },
      "execution_count": 106,
      "outputs": [
        {
          "output_type": "stream",
          "name": "stdout",
          "text": [
            "14.777618364418938\n"
          ]
        }
      ]
    },
    {
      "cell_type": "code",
      "source": [
        "percent_cAge4= ((111/761)*100)\n",
        "print(percent_cAge4)"
      ],
      "metadata": {
        "colab": {
          "base_uri": "https://localhost:8080/"
        },
        "id": "l1m93aLeSgTP",
        "outputId": "3fc18575-3ae0-49d5-b7fb-e0da6776a3bb"
      },
      "execution_count": 107,
      "outputs": [
        {
          "output_type": "stream",
          "name": "stdout",
          "text": [
            "14.586070959264127\n"
          ]
        }
      ]
    },
    {
      "cell_type": "code",
      "source": [
        "percent_cAge5= ((46/322)*100)\n",
        "print(percent_cAge5)"
      ],
      "metadata": {
        "colab": {
          "base_uri": "https://localhost:8080/"
        },
        "id": "fKLnMcX4SgRk",
        "outputId": "b83646cb-fb5a-4ca7-c879-743b3b43029e"
      },
      "execution_count": 108,
      "outputs": [
        {
          "output_type": "stream",
          "name": "stdout",
          "text": [
            "14.285714285714285\n"
          ]
        }
      ]
    },
    {
      "cell_type": "code",
      "source": [
        "percent_cAge6= ((16/86)*100)\n",
        "print(percent_cAge6)"
      ],
      "metadata": {
        "colab": {
          "base_uri": "https://localhost:8080/"
        },
        "id": "1JOxESQMSgNX",
        "outputId": "48a503d5-e469-448d-de02-5087cb118832"
      },
      "execution_count": 109,
      "outputs": [
        {
          "output_type": "stream",
          "name": "stdout",
          "text": [
            "18.6046511627907\n"
          ]
        }
      ]
    },
    {
      "cell_type": "code",
      "execution_count": 110,
      "metadata": {
        "id": "lQTwMYJAJUPI",
        "colab": {
          "base_uri": "https://localhost:8080/",
          "height": 472
        },
        "outputId": "566f324d-00e5-4bdb-f06e-5a99d0aba050"
      },
      "outputs": [
        {
          "output_type": "display_data",
          "data": {
            "text/plain": [
              "<Figure size 640x480 with 1 Axes>"
            ],
            "image/png": "[encoded data removed]"
          },
          "metadata": {}
        }
      ],
      "source": [
        "plt.bar(age_churn.index, age_churn.values)\n",
        "plt.xlabel('Age Group')\n",
        "plt.ylabel('Churn Rate')\n",
        "plt.title('Churn Rate by Age')\n",
        "plt.show()"
      ]
    },
    {
      "cell_type": "code",
      "execution_count": 111,
      "metadata": {
        "id": "tFRm-Y7nJayT",
        "colab": {
          "base_uri": "https://localhost:8080/"
        },
        "outputId": "08db32cc-1ccb-484c-961f-ad45ac47f7d5"
      },
      "outputs": [
        {
          "output_type": "execute_result",
          "data": {
            "text/plain": [
              "0    1430\n",
              "1     570\n",
              "Name: mail_subscribed, dtype: int64"
            ]
          },
          "metadata": {},
          "execution_count": 111
        }
      ],
      "source": [
        "data.mail_subscribed.value_counts()"
      ]
    },
    {
      "cell_type": "code",
      "execution_count": 112,
      "metadata": {
        "id": "bBLZrHu5JeiH"
      },
      "outputs": [],
      "source": [
        "mail_churn = (data.groupby('mail_subscribed')['churn'].mean())*100"
      ]
    },
    {
      "cell_type": "code",
      "execution_count": 113,
      "metadata": {
        "id": "39b82kifJhAQ",
        "colab": {
          "base_uri": "https://localhost:8080/"
        },
        "outputId": "ada727e9-59de-4662-f071-1a2a09a563c7"
      },
      "outputs": [
        {
          "output_type": "execute_result",
          "data": {
            "text/plain": [
              "mail_subscribed\n",
              "0    16.573427\n",
              "1    10.526316\n",
              "Name: churn, dtype: float64"
            ]
          },
          "metadata": {},
          "execution_count": 113
        }
      ],
      "source": [
        "mail_churn"
      ]
    },
    {
      "cell_type": "code",
      "source": [
        "dMail = data.groupby(['mail_subscribed','churn'], sort=False).size().reset_index(name='Count')\n",
        "print (dMail)"
      ],
      "metadata": {
        "colab": {
          "base_uri": "https://localhost:8080/"
        },
        "id": "qJQCaiNHVebq",
        "outputId": "bc389098-ad98-47d5-fbde-b79ac9430c4a"
      },
      "execution_count": 114,
      "outputs": [
        {
          "output_type": "stream",
          "name": "stdout",
          "text": [
            "   mail_subscribed  churn  Count\n",
            "0                0    0.0   1193\n",
            "1                0    1.0    237\n",
            "2                1    0.0    510\n",
            "3                1    1.0     60\n"
          ]
        }
      ]
    },
    {
      "cell_type": "code",
      "source": [
        "percent_cMail0= ((237/1430)*100)\n",
        "print(percent_cMail0)"
      ],
      "metadata": {
        "colab": {
          "base_uri": "https://localhost:8080/"
        },
        "id": "kdlQfgVbVq0d",
        "outputId": "be1f6832-fc4a-47b0-d011-063d50591b08"
      },
      "execution_count": 115,
      "outputs": [
        {
          "output_type": "stream",
          "name": "stdout",
          "text": [
            "16.573426573426573\n"
          ]
        }
      ]
    },
    {
      "cell_type": "code",
      "source": [
        "percent_cMail1= ((60/570)*100)\n",
        "print(percent_cMail1)"
      ],
      "metadata": {
        "colab": {
          "base_uri": "https://localhost:8080/"
        },
        "id": "F-TuDyOaVqqV",
        "outputId": "d62cdfa1-c149-4492-fd66-9a65cf0a6c8a"
      },
      "execution_count": 116,
      "outputs": [
        {
          "output_type": "stream",
          "name": "stdout",
          "text": [
            "10.526315789473683\n"
          ]
        }
      ]
    },
    {
      "cell_type": "code",
      "execution_count": 117,
      "metadata": {
        "id": "ECXQrqYiJjqT",
        "colab": {
          "base_uri": "https://localhost:8080/"
        },
        "outputId": "0858e153-bee3-47d8-da31-62739b431e5e"
      },
      "outputs": [
        {
          "output_type": "execute_result",
          "data": {
            "text/plain": [
              "10.1987"
            ]
          },
          "metadata": {},
          "execution_count": 117
        }
      ],
      "source": [
        "avg_mins = data['minimum_daily_mins'].mean()\n",
        "avg_mins"
      ]
    },
    {
      "cell_type": "code",
      "execution_count": 118,
      "metadata": {
        "id": "ybsbxfGSJm_b",
        "colab": {
          "base_uri": "https://localhost:8080/"
        },
        "outputId": "5ddef226-c0da-42a8-aa3b-28e8ffde51a2"
      },
      "outputs": [
        {
          "output_type": "execute_result",
          "data": {
            "text/plain": [
              "30.62078"
            ]
          },
          "metadata": {},
          "execution_count": 118
        }
      ],
      "source": [
        "avg_max = data['maximum_daily_mins'].mean()\n",
        "avg_max"
      ]
    },
    {
      "cell_type": "code",
      "source": [
        "churned = data[data['churn'] == 1]\n",
        "sum_column1 = churned['weekly_mins_watched'].sum()\n",
        "sum_column2 = churned['weekly_max_night_mins'].sum()\n",
        "rows_churned= len(churned)\n",
        "print(rows_churned)\n",
        "tot_sum = sum_column1+sum_column2\n",
        "print(\"Total weekly minutes watched by 297 people\",tot_sum)"
      ],
      "metadata": {
        "id": "9Z7_M4OdLj_F",
        "colab": {
          "base_uri": "https://localhost:8080/"
        },
        "outputId": "6b61168f-622f-4abe-c3b8-c092b793356d"
      },
      "execution_count": 119,
      "outputs": [
        {
          "output_type": "stream",
          "name": "stdout",
          "text": [
            "297\n",
            "Total weekly minutes watched by 297 people 119491.45\n"
          ]
        }
      ]
    },
    {
      "cell_type": "code",
      "source": [
        "avg_weekly_churned= ((tot_sum)/rows_churned)\n",
        "print(avg_weekly_churned)"
      ],
      "metadata": {
        "colab": {
          "base_uri": "https://localhost:8080/"
        },
        "id": "oZC5rjSWL6a3",
        "outputId": "8ae45c36-0922-42b7-e61a-c4f367e5198f"
      },
      "execution_count": 120,
      "outputs": [
        {
          "output_type": "stream",
          "name": "stdout",
          "text": [
            "402.32811447811446\n"
          ]
        }
      ]
    },
    {
      "cell_type": "code",
      "source": [
        "threshold = 402.32  # Adjust this threshold value as needed\n",
        "\n",
        "# Calculate the total time spent by each customer\n",
        "data['total_time_spent'] = data['weekly_mins_watched'] + data['minimum_daily_mins'] + data['maximum_daily_mins'] + data['weekly_max_night_mins']\n",
        "\n",
        "# Create two new columns: one for the sum and one for the average of daily and weekly minutes watched\n",
        "data['total_weekly_mins'] = data['weekly_mins_watched'] + data['weekly_max_night_mins']\n",
        "data['total_daily_mins'] = data['minimum_daily_mins'] + data['maximum_daily_mins']\n",
        "\n",
        "# Create a binary column 'time_threshold_exceeded' based on the threshold\n",
        "data['time_threshold_exceeded'] = (data['total_time_spent'] > threshold).astype(int)\n"
      ],
      "metadata": {
        "id": "L9kJQ1uNk1M9"
      },
      "execution_count": 121,
      "outputs": []
    },
    {
      "cell_type": "code",
      "source": [
        "mean_videos_watched = data['videos_watched'].mean()\n",
        "\n",
        "print(\"Mean Number of Videos Watched:\", mean_videos_watched)"
      ],
      "metadata": {
        "id": "95_BXos6npB9",
        "colab": {
          "base_uri": "https://localhost:8080/"
        },
        "outputId": "4c0f3554-9bc6-4d24-9b7b-3acaf2b02ffe"
      },
      "execution_count": 122,
      "outputs": [
        {
          "output_type": "stream",
          "name": "stdout",
          "text": [
            "Mean Number of Videos Watched: 4.4825\n"
          ]
        }
      ]
    },
    {
      "cell_type": "code",
      "source": [
        "data"
      ],
      "metadata": {
        "id": "YFW3cnoIlNwd",
        "colab": {
          "base_uri": "https://localhost:8080/",
          "height": 443
        },
        "outputId": "677e0950-14dc-4396-a449-0be4e236bcfd"
      },
      "execution_count": 123,
      "outputs": [
        {
          "output_type": "execute_result",
          "data": {
            "text/plain": [
              "      year  customer_id  gender  age  no_of_days_subscribed  multi_screen  \\\n",
              "0     2020       100198  Female   36                     62             0   \n",
              "1     2020       100643  Female   39                    149             0   \n",
              "2     2020       100756  Female   65                    126             0   \n",
              "3     2020       101595  Female   24                    131             0   \n",
              "4     2020       101653  Female   40                    191             0   \n",
              "...    ...          ...     ...  ...                    ...           ...   \n",
              "1995  2020       997132  Female   54                     75             0   \n",
              "1996  2020       998086    Male   45                    127             0   \n",
              "1997  2020       998474   other   53                     94             0   \n",
              "1998  2020       998934    Male   40                     94             0   \n",
              "1999  2020       999961    Male   37                     73             0   \n",
              "\n",
              "      mail_subscribed  weekly_mins_watched  minimum_daily_mins  \\\n",
              "0                   0               148.35                12.2   \n",
              "1                   0               294.45                 7.7   \n",
              "2                   0                87.30                11.9   \n",
              "3                   1               321.30                 9.5   \n",
              "4                   0               243.00                10.9   \n",
              "...               ...                  ...                 ...   \n",
              "1995                1               182.25                11.3   \n",
              "1996                0               273.45                 9.3   \n",
              "1997                0               128.85                15.6   \n",
              "1998                0               178.05                10.4   \n",
              "1999                0               326.70                10.3   \n",
              "\n",
              "      maximum_daily_mins  ...  churn  Female  Male  other  age_group  \\\n",
              "0                  16.81  ...    0.0       1     0      0      36-45   \n",
              "1                  33.37  ...    0.0       1     0      0      36-45   \n",
              "2                   9.89  ...    1.0       1     0      0    over 60   \n",
              "3                  36.41  ...    0.0       1     0      0      19-25   \n",
              "4                  27.54  ...    0.0       1     0      0      36-45   \n",
              "...                  ...  ...    ...     ...   ...    ...        ...   \n",
              "1995               20.66  ...    1.0       1     0      0      46-60   \n",
              "1996               30.99  ...    0.0       0     1      0      36-45   \n",
              "1997               14.60  ...    0.0       0     0      1      46-60   \n",
              "1998               20.18  ...    0.0       0     1      0      36-45   \n",
              "1999               37.03  ...    1.0       0     1      0      36-45   \n",
              "\n",
              "      age_group_numeric  total_time_spent  total_weekly_mins total_daily_mins  \\\n",
              "0                   4.0            259.36             230.35            29.01   \n",
              "1                   4.0            422.52             381.45            41.07   \n",
              "2                   6.0            200.09             178.30            21.79   \n",
              "3                   2.0            469.21             423.30            45.91   \n",
              "4                   4.0            364.44             326.00            38.44   \n",
              "...                 ...               ...                ...              ...   \n",
              "1995                5.0            311.21             279.25            31.96   \n",
              "1996                4.0            429.74             389.45            40.29   \n",
              "1997                5.0            269.05             238.85            30.20   \n",
              "1998                4.0            308.63             278.05            30.58   \n",
              "1999                4.0            463.03             415.70            47.33   \n",
              "\n",
              "      time_threshold_exceeded  \n",
              "0                           0  \n",
              "1                           1  \n",
              "2                           0  \n",
              "3                           1  \n",
              "4                           0  \n",
              "...                       ...  \n",
              "1995                        0  \n",
              "1996                        1  \n",
              "1997                        0  \n",
              "1998                        0  \n",
              "1999                        1  \n",
              "\n",
              "[2000 rows x 24 columns]"
            ],
            "text/html": [
              "\n",
              "  <div id=\"df-a1450102-5794-4e0a-83b3-ac2dcae5ce58\" class=\"colab-df-container\">\n",
              "    <div>\n",
              "<style scoped>\n",
              "    .dataframe tbody tr th:only-of-type {\n",
              "        vertical-align: middle;\n",
              "    }\n",
              "\n",
              "    .dataframe tbody tr th {\n",
              "        vertical-align: top;\n",
              "    }\n",
              "\n",
              "    .dataframe thead th {\n",
              "        text-align: right;\n",
              "    }\n",
              "</style>\n",
              "<table border=\"1\" class=\"dataframe\">\n",
              "  <thead>\n",
              "    <tr style=\"text-align: right;\">\n",
              "      <th></th>\n",
              "      <th>year</th>\n",
              "      <th>customer_id</th>\n",
              "      <th>gender</th>\n",
              "      <th>age</th>\n",
              "      <th>no_of_days_subscribed</th>\n",
              "      <th>multi_screen</th>\n",
              "      <th>mail_subscribed</th>\n",
              "      <th>weekly_mins_watched</th>\n",
              "      <th>minimum_daily_mins</th>\n",
              "      <th>maximum_daily_mins</th>\n",
              "      <th>...</th>\n",
              "      <th>churn</th>\n",
              "      <th>Female</th>\n",
              "      <th>Male</th>\n",
              "      <th>other</th>\n",
              "      <th>age_group</th>\n",
              "      <th>age_group_numeric</th>\n",
              "      <th>total_time_spent</th>\n",
              "      <th>total_weekly_mins</th>\n",
              "      <th>total_daily_mins</th>\n",
              "      <th>time_threshold_exceeded</th>\n",
              "    </tr>\n",
              "  </thead>\n",
              "  <tbody>\n",
              "    <tr>\n",
              "      <th>0</th>\n",
              "      <td>2020</td>\n",
              "      <td>100198</td>\n",
              "      <td>Female</td>\n",
              "      <td>36</td>\n",
              "      <td>62</td>\n",
              "      <td>0</td>\n",
              "      <td>0</td>\n",
              "      <td>148.35</td>\n",
              "      <td>12.2</td>\n",
              "      <td>16.81</td>\n",
              "      <td>...</td>\n",
              "      <td>0.0</td>\n",
              "      <td>1</td>\n",
              "      <td>0</td>\n",
              "      <td>0</td>\n",
              "      <td>36-45</td>\n",
              "      <td>4.0</td>\n",
              "      <td>259.36</td>\n",
              "      <td>230.35</td>\n",
              "      <td>29.01</td>\n",
              "      <td>0</td>\n",
              "    </tr>\n",
              "    <tr>\n",
              "      <th>1</th>\n",
              "      <td>2020</td>\n",
              "      <td>100643</td>\n",
              "      <td>Female</td>\n",
              "      <td>39</td>\n",
              "      <td>149</td>\n",
              "      <td>0</td>\n",
              "      <td>0</td>\n",
              "      <td>294.45</td>\n",
              "      <td>7.7</td>\n",
              "      <td>33.37</td>\n",
              "      <td>...</td>\n",
              "      <td>0.0</td>\n",
              "      <td>1</td>\n",
              "      <td>0</td>\n",
              "      <td>0</td>\n",
              "      <td>36-45</td>\n",
              "      <td>4.0</td>\n",
              "      <td>422.52</td>\n",
              "      <td>381.45</td>\n",
              "      <td>41.07</td>\n",
              "      <td>1</td>\n",
              "    </tr>\n",
              "    <tr>\n",
              "      <th>2</th>\n",
              "      <td>2020</td>\n",
              "      <td>100756</td>\n",
              "      <td>Female</td>\n",
              "      <td>65</td>\n",
              "      <td>126</td>\n",
              "      <td>0</td>\n",
              "      <td>0</td>\n",
              "      <td>87.30</td>\n",
              "      <td>11.9</td>\n",
              "      <td>9.89</td>\n",
              "      <td>...</td>\n",
              "      <td>1.0</td>\n",
              "      <td>1</td>\n",
              "      <td>0</td>\n",
              "      <td>0</td>\n",
              "      <td>over 60</td>\n",
              "      <td>6.0</td>\n",
              "      <td>200.09</td>\n",
              "      <td>178.30</td>\n",
              "      <td>21.79</td>\n",
              "      <td>0</td>\n",
              "    </tr>\n",
              "    <tr>\n",
              "      <th>3</th>\n",
              "      <td>2020</td>\n",
              "      <td>101595</td>\n",
              "      <td>Female</td>\n",
              "      <td>24</td>\n",
              "      <td>131</td>\n",
              "      <td>0</td>\n",
              "      <td>1</td>\n",
              "      <td>321.30</td>\n",
              "      <td>9.5</td>\n",
              "      <td>36.41</td>\n",
              "      <td>...</td>\n",
              "      <td>0.0</td>\n",
              "      <td>1</td>\n",
              "      <td>0</td>\n",
              "      <td>0</td>\n",
              "      <td>19-25</td>\n",
              "      <td>2.0</td>\n",
              "      <td>469.21</td>\n",
              "      <td>423.30</td>\n",
              "      <td>45.91</td>\n",
              "      <td>1</td>\n",
              "    </tr>\n",
              "    <tr>\n",
              "      <th>4</th>\n",
              "      <td>2020</td>\n",
              "      <td>101653</td>\n",
              "      <td>Female</td>\n",
              "      <td>40</td>\n",
              "      <td>191</td>\n",
              "      <td>0</td>\n",
              "      <td>0</td>\n",
              "      <td>243.00</td>\n",
              "      <td>10.9</td>\n",
              "      <td>27.54</td>\n",
              "      <td>...</td>\n",
              "      <td>0.0</td>\n",
              "      <td>1</td>\n",
              "      <td>0</td>\n",
              "      <td>0</td>\n",
              "      <td>36-45</td>\n",
              "      <td>4.0</td>\n",
              "      <td>364.44</td>\n",
              "      <td>326.00</td>\n",
              "      <td>38.44</td>\n",
              "      <td>0</td>\n",
              "    </tr>\n",
              "    <tr>\n",
              "      <th>...</th>\n",
              "      <td>...</td>\n",
              "      <td>...</td>\n",
              "      <td>...</td>\n",
              "      <td>...</td>\n",
              "      <td>...</td>\n",
              "      <td>...</td>\n",
              "      <td>...</td>\n",
              "      <td>...</td>\n",
              "      <td>...</td>\n",
              "      <td>...</td>\n",
              "      <td>...</td>\n",
              "      <td>...</td>\n",
              "      <td>...</td>\n",
              "      <td>...</td>\n",
              "      <td>...</td>\n",
              "      <td>...</td>\n",
              "      <td>...</td>\n",
              "      <td>...</td>\n",
              "      <td>...</td>\n",
              "      <td>...</td>\n",
              "      <td>...</td>\n",
              "    </tr>\n",
              "    <tr>\n",
              "      <th>1995</th>\n",
              "      <td>2020</td>\n",
              "      <td>997132</td>\n",
              "      <td>Female</td>\n",
              "      <td>54</td>\n",
              "      <td>75</td>\n",
              "      <td>0</td>\n",
              "      <td>1</td>\n",
              "      <td>182.25</td>\n",
              "      <td>11.3</td>\n",
              "      <td>20.66</td>\n",
              "      <td>...</td>\n",
              "      <td>1.0</td>\n",
              "      <td>1</td>\n",
              "      <td>0</td>\n",
              "      <td>0</td>\n",
              "      <td>46-60</td>\n",
              "      <td>5.0</td>\n",
              "      <td>311.21</td>\n",
              "      <td>279.25</td>\n",
              "      <td>31.96</td>\n",
              "      <td>0</td>\n",
              "    </tr>\n",
              "    <tr>\n",
              "      <th>1996</th>\n",
              "      <td>2020</td>\n",
              "      <td>998086</td>\n",
              "      <td>Male</td>\n",
              "      <td>45</td>\n",
              "      <td>127</td>\n",
              "      <td>0</td>\n",
              "      <td>0</td>\n",
              "      <td>273.45</td>\n",
              "      <td>9.3</td>\n",
              "      <td>30.99</td>\n",
              "      <td>...</td>\n",
              "      <td>0.0</td>\n",
              "      <td>0</td>\n",
              "      <td>1</td>\n",
              "      <td>0</td>\n",
              "      <td>36-45</td>\n",
              "      <td>4.0</td>\n",
              "      <td>429.74</td>\n",
              "      <td>389.45</td>\n",
              "      <td>40.29</td>\n",
              "      <td>1</td>\n",
              "    </tr>\n",
              "    <tr>\n",
              "      <th>1997</th>\n",
              "      <td>2020</td>\n",
              "      <td>998474</td>\n",
              "      <td>other</td>\n",
              "      <td>53</td>\n",
              "      <td>94</td>\n",
              "      <td>0</td>\n",
              "      <td>0</td>\n",
              "      <td>128.85</td>\n",
              "      <td>15.6</td>\n",
              "      <td>14.60</td>\n",
              "      <td>...</td>\n",
              "      <td>0.0</td>\n",
              "      <td>0</td>\n",
              "      <td>0</td>\n",
              "      <td>1</td>\n",
              "      <td>46-60</td>\n",
              "      <td>5.0</td>\n",
              "      <td>269.05</td>\n",
              "      <td>238.85</td>\n",
              "      <td>30.20</td>\n",
              "      <td>0</td>\n",
              "    </tr>\n",
              "    <tr>\n",
              "      <th>1998</th>\n",
              "      <td>2020</td>\n",
              "      <td>998934</td>\n",
              "      <td>Male</td>\n",
              "      <td>40</td>\n",
              "      <td>94</td>\n",
              "      <td>0</td>\n",
              "      <td>0</td>\n",
              "      <td>178.05</td>\n",
              "      <td>10.4</td>\n",
              "      <td>20.18</td>\n",
              "      <td>...</td>\n",
              "      <td>0.0</td>\n",
              "      <td>0</td>\n",
              "      <td>1</td>\n",
              "      <td>0</td>\n",
              "      <td>36-45</td>\n",
              "      <td>4.0</td>\n",
              "      <td>308.63</td>\n",
              "      <td>278.05</td>\n",
              "      <td>30.58</td>\n",
              "      <td>0</td>\n",
              "    </tr>\n",
              "    <tr>\n",
              "      <th>1999</th>\n",
              "      <td>2020</td>\n",
              "      <td>999961</td>\n",
              "      <td>Male</td>\n",
              "      <td>37</td>\n",
              "      <td>73</td>\n",
              "      <td>0</td>\n",
              "      <td>0</td>\n",
              "      <td>326.70</td>\n",
              "      <td>10.3</td>\n",
              "      <td>37.03</td>\n",
              "      <td>...</td>\n",
              "      <td>1.0</td>\n",
              "      <td>0</td>\n",
              "      <td>1</td>\n",
              "      <td>0</td>\n",
              "      <td>36-45</td>\n",
              "      <td>4.0</td>\n",
              "      <td>463.03</td>\n",
              "      <td>415.70</td>\n",
              "      <td>47.33</td>\n",
              "      <td>1</td>\n",
              "    </tr>\n",
              "  </tbody>\n",
              "</table>\n",
              "<p>2000 rows × 24 columns</p>\n",
              "</div>\n",
              "    <div class=\"colab-df-buttons\">\n",
              "\n",
              "  <div class=\"colab-df-container\">\n",
              "    <button class=\"colab-df-convert\" onclick=\"convertToInteractive('df-a1450102-5794-4e0a-83b3-ac2dcae5ce58')\"\n",
              "            title=\"Convert this dataframe to an interactive table.\"\n",
              "            style=\"display:none;\">\n",
              "\n",
              "  <svg xmlns=\"http://www.w3.org/2000/svg\" height=\"24px\" viewBox=\"0 -960 960 960\">\n",
              "    <path d=\"M120-120v-720h720v720H120Zm60-500h600v-160H180v160Zm220 220h160v-160H400v160Zm0 220h160v-160H400v160ZM180-400h160v-160H180v160Zm440 0h160v-160H620v160ZM180-180h160v-160H180v160Zm440 0h160v-160H620v160Z\"/>\n",
              "  </svg>\n",
              "    </button>\n",
              "\n",
              "  <style>\n",
              "    .colab-df-container {\n",
              "      display:flex;\n",
              "      gap: 12px;\n",
              "    }\n",
              "\n",
              "    .colab-df-convert {\n",
              "      background-color: #E8F0FE;\n",
              "      border: none;\n",
              "      border-radius: 50%;\n",
              "      cursor: pointer;\n",
              "      display: none;\n",
              "      fill: #1967D2;\n",
              "      height: 32px;\n",
              "      padding: 0 0 0 0;\n",
              "      width: 32px;\n",
              "    }\n",
              "\n",
              "    .colab-df-convert:hover {\n",
              "      background-color: #E2EBFA;\n",
              "      box-shadow: 0px 1px 2px rgba(60, 64, 67, 0.3), 0px 1px 3px 1px rgba(60, 64, 67, 0.15);\n",
              "      fill: #174EA6;\n",
              "    }\n",
              "\n",
              "    .colab-df-buttons div {\n",
              "      margin-bottom: 4px;\n",
              "    }\n",
              "\n",
              "    [theme=dark] .colab-df-convert {\n",
              "      background-color: #3B4455;\n",
              "      fill: #D2E3FC;\n",
              "    }\n",
              "\n",
              "    [theme=dark] .colab-df-convert:hover {\n",
              "      background-color: #434B5C;\n",
              "      box-shadow: 0px 1px 3px 1px rgba(0, 0, 0, 0.15);\n",
              "      filter: drop-shadow(0px 1px 2px rgba(0, 0, 0, 0.3));\n",
              "      fill: #FFFFFF;\n",
              "    }\n",
              "  </style>\n",
              "\n",
              "    <script>\n",
              "      const buttonEl =\n",
              "        document.querySelector('#df-a1450102-5794-4e0a-83b3-ac2dcae5ce58 button.colab-df-convert');\n",
              "      buttonEl.style.display =\n",
              "        google.colab.kernel.accessAllowed ? 'block' : 'none';\n",
              "\n",
              "      async function convertToInteractive(key) {\n",
              "        const element = document.querySelector('#df-a1450102-5794-4e0a-83b3-ac2dcae5ce58');\n",
              "        const dataTable =\n",
              "          await google.colab.kernel.invokeFunction('convertToInteractive',\n",
              "                                                    [key], {});\n",
              "        if (!dataTable) return;\n",
              "\n",
              "        const docLinkHtml = 'Like what you see? Visit the ' +\n",
              "          '<a target=\"_blank\" href=https://colab.research.google.com/notebooks/data_table.ipynb>data table notebook</a>'\n",
              "          + ' to learn more about interactive tables.';\n",
              "        element.innerHTML = '';\n",
              "        dataTable['output_type'] = 'display_data';\n",
              "        await google.colab.output.renderOutput(dataTable, element);\n",
              "        const docLink = document.createElement('div');\n",
              "        docLink.innerHTML = docLinkHtml;\n",
              "        element.appendChild(docLink);\n",
              "      }\n",
              "    </script>\n",
              "  </div>\n",
              "\n",
              "\n",
              "<div id=\"df-ef935ab2-4e24-4b2c-869a-4b6d78cd1de9\">\n",
              "  <button class=\"colab-df-quickchart\" onclick=\"quickchart('df-ef935ab2-4e24-4b2c-869a-4b6d78cd1de9')\"\n",
              "            title=\"Suggest charts\"\n",
              "            style=\"display:none;\">\n",
              "\n",
              "<svg xmlns=\"http://www.w3.org/2000/svg\" height=\"24px\"viewBox=\"0 0 24 24\"\n",
              "     width=\"24px\">\n",
              "    <g>\n",
              "        <path d=\"M19 3H5c-1.1 0-2 .9-2 2v14c0 1.1.9 2 2 2h14c1.1 0 2-.9 2-2V5c0-1.1-.9-2-2-2zM9 17H7v-7h2v7zm4 0h-2V7h2v10zm4 0h-2v-4h2v4z\"/>\n",
              "    </g>\n",
              "</svg>\n",
              "  </button>\n",
              "\n",
              "<style>\n",
              "  .colab-df-quickchart {\n",
              "      --bg-color: #E8F0FE;\n",
              "      --fill-color: #1967D2;\n",
              "      --hover-bg-color: #E2EBFA;\n",
              "      --hover-fill-color: #174EA6;\n",
              "      --disabled-fill-color: #AAA;\n",
              "      --disabled-bg-color: #DDD;\n",
              "  }\n",
              "\n",
              "  [theme=dark] .colab-df-quickchart {\n",
              "      --bg-color: #3B4455;\n",
              "      --fill-color: #D2E3FC;\n",
              "      --hover-bg-color: #434B5C;\n",
              "      --hover-fill-color: #FFFFFF;\n",
              "      --disabled-bg-color: #3B4455;\n",
              "      --disabled-fill-color: #666;\n",
              "  }\n",
              "\n",
              "  .colab-df-quickchart {\n",
              "    background-color: var(--bg-color);\n",
              "    border: none;\n",
              "    border-radius: 50%;\n",
              "    cursor: pointer;\n",
              "    display: none;\n",
              "    fill: var(--fill-color);\n",
              "    height: 32px;\n",
              "    padding: 0;\n",
              "    width: 32px;\n",
              "  }\n",
              "\n",
              "  .colab-df-quickchart:hover {\n",
              "    background-color: var(--hover-bg-color);\n",
              "    box-shadow: 0 1px 2px rgba(60, 64, 67, 0.3), 0 1px 3px 1px rgba(60, 64, 67, 0.15);\n",
              "    fill: var(--button-hover-fill-color);\n",
              "  }\n",
              "\n",
              "  .colab-df-quickchart-complete:disabled,\n",
              "  .colab-df-quickchart-complete:disabled:hover {\n",
              "    background-color: var(--disabled-bg-color);\n",
              "    fill: var(--disabled-fill-color);\n",
              "    box-shadow: none;\n",
              "  }\n",
              "\n",
              "  .colab-df-spinner {\n",
              "    border: 2px solid var(--fill-color);\n",
              "    border-color: transparent;\n",
              "    border-bottom-color: var(--fill-color);\n",
              "    animation:\n",
              "      spin 1s steps(1) infinite;\n",
              "  }\n",
              "\n",
              "  @keyframes spin {\n",
              "    0% {\n",
              "      border-color: transparent;\n",
              "      border-bottom-color: var(--fill-color);\n",
              "      border-left-color: var(--fill-color);\n",
              "    }\n",
              "    20% {\n",
              "      border-color: transparent;\n",
              "      border-left-color: var(--fill-color);\n",
              "      border-top-color: var(--fill-color);\n",
              "    }\n",
              "    30% {\n",
              "      border-color: transparent;\n",
              "      border-left-color: var(--fill-color);\n",
              "      border-top-color: var(--fill-color);\n",
              "      border-right-color: var(--fill-color);\n",
              "    }\n",
              "    40% {\n",
              "      border-color: transparent;\n",
              "      border-right-color: var(--fill-color);\n",
              "      border-top-color: var(--fill-color);\n",
              "    }\n",
              "    60% {\n",
              "      border-color: transparent;\n",
              "      border-right-color: var(--fill-color);\n",
              "    }\n",
              "    80% {\n",
              "      border-color: transparent;\n",
              "      border-right-color: var(--fill-color);\n",
              "      border-bottom-color: var(--fill-color);\n",
              "    }\n",
              "    90% {\n",
              "      border-color: transparent;\n",
              "      border-bottom-color: var(--fill-color);\n",
              "    }\n",
              "  }\n",
              "</style>\n",
              "\n",
              "  <script>\n",
              "    async function quickchart(key) {\n",
              "      const quickchartButtonEl =\n",
              "        document.querySelector('#' + key + ' button');\n",
              "      quickchartButtonEl.disabled = true;  // To prevent multiple clicks.\n",
              "      quickchartButtonEl.classList.add('colab-df-spinner');\n",
              "      try {\n",
              "        const charts = await google.colab.kernel.invokeFunction(\n",
              "            'suggestCharts', [key], {});\n",
              "      } catch (error) {\n",
              "        console.error('Error during call to suggestCharts:', error);\n",
              "      }\n",
              "      quickchartButtonEl.classList.remove('colab-df-spinner');\n",
              "      quickchartButtonEl.classList.add('colab-df-quickchart-complete');\n",
              "    }\n",
              "    (() => {\n",
              "      let quickchartButtonEl =\n",
              "        document.querySelector('#df-ef935ab2-4e24-4b2c-869a-4b6d78cd1de9 button');\n",
              "      quickchartButtonEl.style.display =\n",
              "        google.colab.kernel.accessAllowed ? 'block' : 'none';\n",
              "    })();\n",
              "  </script>\n",
              "</div>\n",
              "    </div>\n",
              "  </div>\n"
            ]
          },
          "metadata": {},
          "execution_count": 123
        }
      ]
    },
    {
      "cell_type": "code",
      "source": [
        "crosstab = pd.crosstab(data['time_threshold_exceeded'], data['churn'])\n",
        "print(crosstab)"
      ],
      "metadata": {
        "id": "JUYi63_FN-Qi",
        "colab": {
          "base_uri": "https://localhost:8080/"
        },
        "outputId": "8cca2d55-57c5-4849-e865-b2469897a3ac"
      },
      "execution_count": 124,
      "outputs": [
        {
          "output_type": "stream",
          "name": "stdout",
          "text": [
            "churn                    0.0  1.0\n",
            "time_threshold_exceeded          \n",
            "0                        803  113\n",
            "1                        900  184\n"
          ]
        }
      ]
    },
    {
      "cell_type": "code",
      "execution_count": 125,
      "metadata": {
        "id": "0pHvCljAJovi",
        "colab": {
          "base_uri": "https://localhost:8080/"
        },
        "outputId": "d32783b6-d6b8-478b-ddfb-8cdcc2245e21"
      },
      "outputs": [
        {
          "output_type": "execute_result",
          "data": {
            "text/plain": [
              "3.0    973\n",
              "4.0    645\n",
              "2.0    273\n",
              "5.0     85\n",
              "1.0     12\n",
              "0.0     10\n",
              "6.0      2\n",
              "Name: maximum_days_inactive, dtype: int64"
            ]
          },
          "metadata": {},
          "execution_count": 125
        }
      ],
      "source": [
        "data.maximum_days_inactive.value_counts()"
      ]
    },
    {
      "cell_type": "code",
      "execution_count": 126,
      "metadata": {
        "id": "sD-eWdifJsCu",
        "colab": {
          "base_uri": "https://localhost:8080/"
        },
        "outputId": "d4ff1b9e-1888-4627-89ad-2dd769dd6e46"
      },
      "outputs": [
        {
          "output_type": "execute_result",
          "data": {
            "text/plain": [
              "maximum_days_inactive\n",
              "0.0    10.000000\n",
              "1.0     8.333333\n",
              "2.0    12.087912\n",
              "3.0    14.594039\n",
              "4.0    16.124031\n",
              "5.0    17.647059\n",
              "6.0    50.000000\n",
              "Name: churn, dtype: float64"
            ]
          },
          "metadata": {},
          "execution_count": 126
        }
      ],
      "source": [
        "inactive_churn = (data.groupby('maximum_days_inactive')['churn'].mean())*100\n",
        "inactive_churn"
      ]
    },
    {
      "cell_type": "code",
      "source": [
        "dInactive = data.groupby(['maximum_days_inactive','churn'], sort=False).size().reset_index(name='Count')\n",
        "print (dInactive)"
      ],
      "metadata": {
        "id": "clWsju_OVtH9",
        "colab": {
          "base_uri": "https://localhost:8080/"
        },
        "outputId": "a76c0bdb-7c40-4e9d-f3d6-60c29cffcd06"
      },
      "execution_count": 127,
      "outputs": [
        {
          "output_type": "stream",
          "name": "stdout",
          "text": [
            "    maximum_days_inactive  churn  Count\n",
            "0                     4.0    0.0    541\n",
            "1                     3.0    0.0    831\n",
            "2                     4.0    1.0    104\n",
            "3                     3.0    1.0    142\n",
            "4                     2.0    0.0    240\n",
            "5                     5.0    0.0     70\n",
            "6                     2.0    1.0     33\n",
            "7                     1.0    0.0     11\n",
            "8                     0.0    0.0      9\n",
            "9                     5.0    1.0     15\n",
            "10                    0.0    1.0      1\n",
            "11                    6.0    0.0      1\n",
            "12                    6.0    1.0      1\n",
            "13                    1.0    1.0      1\n"
          ]
        }
      ]
    },
    {
      "cell_type": "code",
      "source": [
        "data['engagement_score'] = data['weekly_mins_watched'] + data['minimum_daily_mins']\n",
        "\n",
        "# Define thresholds for categorizing engagement levels\n",
        "high_engagement_threshold = 300\n",
        "low_engagement_threshold = 100\n",
        "\n",
        "# Categorize users based on engagement levels\n",
        "data['engagement_segment'] = np.where(data['engagement_score'] >= high_engagement_threshold, 'High Engagement', 'Low Engagement')\n",
        "data['engagement_segment'] = np.where(data['engagement_score'] <= low_engagement_threshold, 'Low Engagement', data['engagement_segment'])\n",
        "\n",
        "# Calculate churn rates within each engagement segment\n",
        "engagement_churn_rates = (data.groupby('engagement_segment')['churn'].mean())*100\n",
        "\n",
        "# Print the results\n",
        "print(\"Engagement Segment Churn Rates:\")\n",
        "print(engagement_churn_rates)"
      ],
      "metadata": {
        "id": "o1UDRxGFS4nv",
        "colab": {
          "base_uri": "https://localhost:8080/"
        },
        "outputId": "0a89d2bb-33bb-4e1b-b175-9794125488f3"
      },
      "execution_count": 128,
      "outputs": [
        {
          "output_type": "stream",
          "name": "stdout",
          "text": [
            "Engagement Segment Churn Rates:\n",
            "engagement_segment\n",
            "High Engagement    19.268293\n",
            "Low Engagement     11.779661\n",
            "Name: churn, dtype: float64\n"
          ]
        }
      ]
    },
    {
      "cell_type": "code",
      "source": [
        "data.replace({'Low Engagement':0,'High Engagement':1}, inplace = True)"
      ],
      "metadata": {
        "id": "CkUz-QxfTr5s"
      },
      "execution_count": 129,
      "outputs": []
    },
    {
      "cell_type": "code",
      "execution_count": 130,
      "metadata": {
        "id": "Wd-KjYbujQhQ",
        "colab": {
          "base_uri": "https://localhost:8080/"
        },
        "outputId": "ac705027-41fa-41ed-b531-88a73329fb56"
      },
      "outputs": [
        {
          "output_type": "execute_result",
          "data": {
            "text/plain": [
              "243"
            ]
          },
          "metadata": {},
          "execution_count": 130
        }
      ],
      "source": [
        "churned_with_calls = data[(data['churn'] == 1) & (data['customer_support_calls'] > 0)]\n",
        "num_churned_with_calls = len(churned_with_calls)\n",
        "num_churned_with_calls"
      ]
    },
    {
      "cell_type": "code",
      "execution_count": 131,
      "metadata": {
        "id": "Rnzbk2QpJve_",
        "colab": {
          "base_uri": "https://localhost:8080/"
        },
        "outputId": "c61cf20a-b537-4483-a971-bd7d54887364"
      },
      "outputs": [
        {
          "output_type": "execute_result",
          "data": {
            "text/plain": [
              "year                         int64\n",
              "customer_id                  int64\n",
              "gender                      object\n",
              "age                          int64\n",
              "no_of_days_subscribed        int64\n",
              "multi_screen                 int64\n",
              "mail_subscribed              int64\n",
              "weekly_mins_watched        float64\n",
              "minimum_daily_mins         float64\n",
              "maximum_daily_mins         float64\n",
              "weekly_max_night_mins        int64\n",
              "videos_watched               int64\n",
              "maximum_days_inactive      float64\n",
              "customer_support_calls       int64\n",
              "churn                      float64\n",
              "Female                       uint8\n",
              "Male                         uint8\n",
              "other                        uint8\n",
              "age_group                   object\n",
              "age_group_numeric          float64\n",
              "total_time_spent           float64\n",
              "total_weekly_mins          float64\n",
              "total_daily_mins           float64\n",
              "time_threshold_exceeded      int64\n",
              "engagement_score           float64\n",
              "engagement_segment           int64\n",
              "dtype: object"
            ]
          },
          "metadata": {},
          "execution_count": 131
        }
      ],
      "source": [
        "data.dtypes"
      ]
    },
    {
      "cell_type": "code",
      "execution_count": 132,
      "metadata": {
        "id": "yBBOVaLNJ3R1"
      },
      "outputs": [],
      "source": [
        "data.drop('gender', axis=1, inplace = True)"
      ]
    },
    {
      "cell_type": "code",
      "execution_count": 133,
      "metadata": {
        "id": "gxrjY7XOKAki"
      },
      "outputs": [],
      "source": [
        "data.drop('age_group', axis=1, inplace = True)"
      ]
    },
    {
      "cell_type": "code",
      "execution_count": 134,
      "metadata": {
        "id": "wi9ElwK2KC8P",
        "colab": {
          "base_uri": "https://localhost:8080/"
        },
        "outputId": "b48a2fb7-f1e4-4e88-d242-d1d49fd5a49e"
      },
      "outputs": [
        {
          "output_type": "execute_result",
          "data": {
            "text/plain": [
              "year                         int64\n",
              "customer_id                  int64\n",
              "age                          int64\n",
              "no_of_days_subscribed        int64\n",
              "multi_screen                 int64\n",
              "mail_subscribed              int64\n",
              "weekly_mins_watched        float64\n",
              "minimum_daily_mins         float64\n",
              "maximum_daily_mins         float64\n",
              "weekly_max_night_mins        int64\n",
              "videos_watched               int64\n",
              "maximum_days_inactive      float64\n",
              "customer_support_calls       int64\n",
              "churn                      float64\n",
              "Female                       uint8\n",
              "Male                         uint8\n",
              "other                        uint8\n",
              "age_group_numeric          float64\n",
              "total_time_spent           float64\n",
              "total_weekly_mins          float64\n",
              "total_daily_mins           float64\n",
              "time_threshold_exceeded      int64\n",
              "engagement_score           float64\n",
              "engagement_segment           int64\n",
              "dtype: object"
            ]
          },
          "metadata": {},
          "execution_count": 134
        }
      ],
      "source": [
        "data.dtypes"
      ]
    },
    {
      "cell_type": "code",
      "execution_count": 135,
      "metadata": {
        "id": "mZTlibtTKEsl",
        "colab": {
          "base_uri": "https://localhost:8080/",
          "height": 443
        },
        "outputId": "0d1bf5c1-017a-4bd3-9fd2-2552c18c78dd"
      },
      "outputs": [
        {
          "output_type": "execute_result",
          "data": {
            "text/plain": [
              "      year  customer_id  age  no_of_days_subscribed  multi_screen  \\\n",
              "0     2020       100198   36                     62             0   \n",
              "1     2020       100643   39                    149             0   \n",
              "2     2020       100756   65                    126             0   \n",
              "3     2020       101595   24                    131             0   \n",
              "4     2020       101653   40                    191             0   \n",
              "...    ...          ...  ...                    ...           ...   \n",
              "1995  2020       997132   54                     75             0   \n",
              "1996  2020       998086   45                    127             0   \n",
              "1997  2020       998474   53                     94             0   \n",
              "1998  2020       998934   40                     94             0   \n",
              "1999  2020       999961   37                     73             0   \n",
              "\n",
              "      mail_subscribed  weekly_mins_watched  minimum_daily_mins  \\\n",
              "0                   0               148.35                12.2   \n",
              "1                   0               294.45                 7.7   \n",
              "2                   0                87.30                11.9   \n",
              "3                   1               321.30                 9.5   \n",
              "4                   0               243.00                10.9   \n",
              "...               ...                  ...                 ...   \n",
              "1995                1               182.25                11.3   \n",
              "1996                0               273.45                 9.3   \n",
              "1997                0               128.85                15.6   \n",
              "1998                0               178.05                10.4   \n",
              "1999                0               326.70                10.3   \n",
              "\n",
              "      maximum_daily_mins  weekly_max_night_mins  ...  Female  Male  other  \\\n",
              "0                  16.81                     82  ...       1     0      0   \n",
              "1                  33.37                     87  ...       1     0      0   \n",
              "2                   9.89                     91  ...       1     0      0   \n",
              "3                  36.41                    102  ...       1     0      0   \n",
              "4                  27.54                     83  ...       1     0      0   \n",
              "...                  ...                    ...  ...     ...   ...    ...   \n",
              "1995               20.66                     97  ...       1     0      0   \n",
              "1996               30.99                    116  ...       0     1      0   \n",
              "1997               14.60                    110  ...       0     0      1   \n",
              "1998               20.18                    100  ...       0     1      0   \n",
              "1999               37.03                     89  ...       0     1      0   \n",
              "\n",
              "      age_group_numeric  total_time_spent  total_weekly_mins  \\\n",
              "0                   4.0            259.36             230.35   \n",
              "1                   4.0            422.52             381.45   \n",
              "2                   6.0            200.09             178.30   \n",
              "3                   2.0            469.21             423.30   \n",
              "4                   4.0            364.44             326.00   \n",
              "...                 ...               ...                ...   \n",
              "1995                5.0            311.21             279.25   \n",
              "1996                4.0            429.74             389.45   \n",
              "1997                5.0            269.05             238.85   \n",
              "1998                4.0            308.63             278.05   \n",
              "1999                4.0            463.03             415.70   \n",
              "\n",
              "      total_daily_mins  time_threshold_exceeded  engagement_score  \\\n",
              "0                29.01                        0            160.55   \n",
              "1                41.07                        1            302.15   \n",
              "2                21.79                        0             99.20   \n",
              "3                45.91                        1            330.80   \n",
              "4                38.44                        0            253.90   \n",
              "...                ...                      ...               ...   \n",
              "1995             31.96                        0            193.55   \n",
              "1996             40.29                        1            282.75   \n",
              "1997             30.20                        0            144.45   \n",
              "1998             30.58                        0            188.45   \n",
              "1999             47.33                        1            337.00   \n",
              "\n",
              "      engagement_segment  \n",
              "0                      0  \n",
              "1                      1  \n",
              "2                      0  \n",
              "3                      1  \n",
              "4                      0  \n",
              "...                  ...  \n",
              "1995                   0  \n",
              "1996                   0  \n",
              "1997                   0  \n",
              "1998                   0  \n",
              "1999                   1  \n",
              "\n",
              "[2000 rows x 24 columns]"
            ],
            "text/html": [
              "\n",
              "  <div id=\"df-cf0f70a0-b6cc-47f7-bca9-ca9efb8514d4\" class=\"colab-df-container\">\n",
              "    <div>\n",
              "<style scoped>\n",
              "    .dataframe tbody tr th:only-of-type {\n",
              "        vertical-align: middle;\n",
              "    }\n",
              "\n",
              "    .dataframe tbody tr th {\n",
              "        vertical-align: top;\n",
              "    }\n",
              "\n",
              "    .dataframe thead th {\n",
              "        text-align: right;\n",
              "    }\n",
              "</style>\n",
              "<table border=\"1\" class=\"dataframe\">\n",
              "  <thead>\n",
              "    <tr style=\"text-align: right;\">\n",
              "      <th></th>\n",
              "      <th>year</th>\n",
              "      <th>customer_id</th>\n",
              "      <th>age</th>\n",
              "      <th>no_of_days_subscribed</th>\n",
              "      <th>multi_screen</th>\n",
              "      <th>mail_subscribed</th>\n",
              "      <th>weekly_mins_watched</th>\n",
              "      <th>minimum_daily_mins</th>\n",
              "      <th>maximum_daily_mins</th>\n",
              "      <th>weekly_max_night_mins</th>\n",
              "      <th>...</th>\n",
              "      <th>Female</th>\n",
              "      <th>Male</th>\n",
              "      <th>other</th>\n",
              "      <th>age_group_numeric</th>\n",
              "      <th>total_time_spent</th>\n",
              "      <th>total_weekly_mins</th>\n",
              "      <th>total_daily_mins</th>\n",
              "      <th>time_threshold_exceeded</th>\n",
              "      <th>engagement_score</th>\n",
              "      <th>engagement_segment</th>\n",
              "    </tr>\n",
              "  </thead>\n",
              "  <tbody>\n",
              "    <tr>\n",
              "      <th>0</th>\n",
              "      <td>2020</td>\n",
              "      <td>100198</td>\n",
              "      <td>36</td>\n",
              "      <td>62</td>\n",
              "      <td>0</td>\n",
              "      <td>0</td>\n",
              "      <td>148.35</td>\n",
              "      <td>12.2</td>\n",
              "      <td>16.81</td>\n",
              "      <td>82</td>\n",
              "      <td>...</td>\n",
              "      <td>1</td>\n",
              "      <td>0</td>\n",
              "      <td>0</td>\n",
              "      <td>4.0</td>\n",
              "      <td>259.36</td>\n",
              "      <td>230.35</td>\n",
              "      <td>29.01</td>\n",
              "      <td>0</td>\n",
              "      <td>160.55</td>\n",
              "      <td>0</td>\n",
              "    </tr>\n",
              "    <tr>\n",
              "      <th>1</th>\n",
              "      <td>2020</td>\n",
              "      <td>100643</td>\n",
              "      <td>39</td>\n",
              "      <td>149</td>\n",
              "      <td>0</td>\n",
              "      <td>0</td>\n",
              "      <td>294.45</td>\n",
              "      <td>7.7</td>\n",
              "      <td>33.37</td>\n",
              "      <td>87</td>\n",
              "      <td>...</td>\n",
              "      <td>1</td>\n",
              "      <td>0</td>\n",
              "      <td>0</td>\n",
              "      <td>4.0</td>\n",
              "      <td>422.52</td>\n",
              "      <td>381.45</td>\n",
              "      <td>41.07</td>\n",
              "      <td>1</td>\n",
              "      <td>302.15</td>\n",
              "      <td>1</td>\n",
              "    </tr>\n",
              "    <tr>\n",
              "      <th>2</th>\n",
              "      <td>2020</td>\n",
              "      <td>100756</td>\n",
              "      <td>65</td>\n",
              "      <td>126</td>\n",
              "      <td>0</td>\n",
              "      <td>0</td>\n",
              "      <td>87.30</td>\n",
              "      <td>11.9</td>\n",
              "      <td>9.89</td>\n",
              "      <td>91</td>\n",
              "      <td>...</td>\n",
              "      <td>1</td>\n",
              "      <td>0</td>\n",
              "      <td>0</td>\n",
              "      <td>6.0</td>\n",
              "      <td>200.09</td>\n",
              "      <td>178.30</td>\n",
              "      <td>21.79</td>\n",
              "      <td>0</td>\n",
              "      <td>99.20</td>\n",
              "      <td>0</td>\n",
              "    </tr>\n",
              "    <tr>\n",
              "      <th>3</th>\n",
              "      <td>2020</td>\n",
              "      <td>101595</td>\n",
              "      <td>24</td>\n",
              "      <td>131</td>\n",
              "      <td>0</td>\n",
              "      <td>1</td>\n",
              "      <td>321.30</td>\n",
              "      <td>9.5</td>\n",
              "      <td>36.41</td>\n",
              "      <td>102</td>\n",
              "      <td>...</td>\n",
              "      <td>1</td>\n",
              "      <td>0</td>\n",
              "      <td>0</td>\n",
              "      <td>2.0</td>\n",
              "      <td>469.21</td>\n",
              "      <td>423.30</td>\n",
              "      <td>45.91</td>\n",
              "      <td>1</td>\n",
              "      <td>330.80</td>\n",
              "      <td>1</td>\n",
              "    </tr>\n",
              "    <tr>\n",
              "      <th>4</th>\n",
              "      <td>2020</td>\n",
              "      <td>101653</td>\n",
              "      <td>40</td>\n",
              "      <td>191</td>\n",
              "      <td>0</td>\n",
              "      <td>0</td>\n",
              "      <td>243.00</td>\n",
              "      <td>10.9</td>\n",
              "      <td>27.54</td>\n",
              "      <td>83</td>\n",
              "      <td>...</td>\n",
              "      <td>1</td>\n",
              "      <td>0</td>\n",
              "      <td>0</td>\n",
              "      <td>4.0</td>\n",
              "      <td>364.44</td>\n",
              "      <td>326.00</td>\n",
              "      <td>38.44</td>\n",
              "      <td>0</td>\n",
              "      <td>253.90</td>\n",
              "      <td>0</td>\n",
              "    </tr>\n",
              "    <tr>\n",
              "      <th>...</th>\n",
              "      <td>...</td>\n",
              "      <td>...</td>\n",
              "      <td>...</td>\n",
              "      <td>...</td>\n",
              "      <td>...</td>\n",
              "      <td>...</td>\n",
              "      <td>...</td>\n",
              "      <td>...</td>\n",
              "      <td>...</td>\n",
              "      <td>...</td>\n",
              "      <td>...</td>\n",
              "      <td>...</td>\n",
              "      <td>...</td>\n",
              "      <td>...</td>\n",
              "      <td>...</td>\n",
              "      <td>...</td>\n",
              "      <td>...</td>\n",
              "      <td>...</td>\n",
              "      <td>...</td>\n",
              "      <td>...</td>\n",
              "      <td>...</td>\n",
              "    </tr>\n",
              "    <tr>\n",
              "      <th>1995</th>\n",
              "      <td>2020</td>\n",
              "      <td>997132</td>\n",
              "      <td>54</td>\n",
              "      <td>75</td>\n",
              "      <td>0</td>\n",
              "      <td>1</td>\n",
              "      <td>182.25</td>\n",
              "      <td>11.3</td>\n",
              "      <td>20.66</td>\n",
              "      <td>97</td>\n",
              "      <td>...</td>\n",
              "      <td>1</td>\n",
              "      <td>0</td>\n",
              "      <td>0</td>\n",
              "      <td>5.0</td>\n",
              "      <td>311.21</td>\n",
              "      <td>279.25</td>\n",
              "      <td>31.96</td>\n",
              "      <td>0</td>\n",
              "      <td>193.55</td>\n",
              "      <td>0</td>\n",
              "    </tr>\n",
              "    <tr>\n",
              "      <th>1996</th>\n",
              "      <td>2020</td>\n",
              "      <td>998086</td>\n",
              "      <td>45</td>\n",
              "      <td>127</td>\n",
              "      <td>0</td>\n",
              "      <td>0</td>\n",
              "      <td>273.45</td>\n",
              "      <td>9.3</td>\n",
              "      <td>30.99</td>\n",
              "      <td>116</td>\n",
              "      <td>...</td>\n",
              "      <td>0</td>\n",
              "      <td>1</td>\n",
              "      <td>0</td>\n",
              "      <td>4.0</td>\n",
              "      <td>429.74</td>\n",
              "      <td>389.45</td>\n",
              "      <td>40.29</td>\n",
              "      <td>1</td>\n",
              "      <td>282.75</td>\n",
              "      <td>0</td>\n",
              "    </tr>\n",
              "    <tr>\n",
              "      <th>1997</th>\n",
              "      <td>2020</td>\n",
              "      <td>998474</td>\n",
              "      <td>53</td>\n",
              "      <td>94</td>\n",
              "      <td>0</td>\n",
              "      <td>0</td>\n",
              "      <td>128.85</td>\n",
              "      <td>15.6</td>\n",
              "      <td>14.60</td>\n",
              "      <td>110</td>\n",
              "      <td>...</td>\n",
              "      <td>0</td>\n",
              "      <td>0</td>\n",
              "      <td>1</td>\n",
              "      <td>5.0</td>\n",
              "      <td>269.05</td>\n",
              "      <td>238.85</td>\n",
              "      <td>30.20</td>\n",
              "      <td>0</td>\n",
              "      <td>144.45</td>\n",
              "      <td>0</td>\n",
              "    </tr>\n",
              "    <tr>\n",
              "      <th>1998</th>\n",
              "      <td>2020</td>\n",
              "      <td>998934</td>\n",
              "      <td>40</td>\n",
              "      <td>94</td>\n",
              "      <td>0</td>\n",
              "      <td>0</td>\n",
              "      <td>178.05</td>\n",
              "      <td>10.4</td>\n",
              "      <td>20.18</td>\n",
              "      <td>100</td>\n",
              "      <td>...</td>\n",
              "      <td>0</td>\n",
              "      <td>1</td>\n",
              "      <td>0</td>\n",
              "      <td>4.0</td>\n",
              "      <td>308.63</td>\n",
              "      <td>278.05</td>\n",
              "      <td>30.58</td>\n",
              "      <td>0</td>\n",
              "      <td>188.45</td>\n",
              "      <td>0</td>\n",
              "    </tr>\n",
              "    <tr>\n",
              "      <th>1999</th>\n",
              "      <td>2020</td>\n",
              "      <td>999961</td>\n",
              "      <td>37</td>\n",
              "      <td>73</td>\n",
              "      <td>0</td>\n",
              "      <td>0</td>\n",
              "      <td>326.70</td>\n",
              "      <td>10.3</td>\n",
              "      <td>37.03</td>\n",
              "      <td>89</td>\n",
              "      <td>...</td>\n",
              "      <td>0</td>\n",
              "      <td>1</td>\n",
              "      <td>0</td>\n",
              "      <td>4.0</td>\n",
              "      <td>463.03</td>\n",
              "      <td>415.70</td>\n",
              "      <td>47.33</td>\n",
              "      <td>1</td>\n",
              "      <td>337.00</td>\n",
              "      <td>1</td>\n",
              "    </tr>\n",
              "  </tbody>\n",
              "</table>\n",
              "<p>2000 rows × 24 columns</p>\n",
              "</div>\n",
              "    <div class=\"colab-df-buttons\">\n",
              "\n",
              "  <div class=\"colab-df-container\">\n",
              "    <button class=\"colab-df-convert\" onclick=\"convertToInteractive('df-cf0f70a0-b6cc-47f7-bca9-ca9efb8514d4')\"\n",
              "            title=\"Convert this dataframe to an interactive table.\"\n",
              "            style=\"display:none;\">\n",
              "\n",
              "  <svg xmlns=\"http://www.w3.org/2000/svg\" height=\"24px\" viewBox=\"0 -960 960 960\">\n",
              "    <path d=\"M120-120v-720h720v720H120Zm60-500h600v-160H180v160Zm220 220h160v-160H400v160Zm0 220h160v-160H400v160ZM180-400h160v-160H180v160Zm440 0h160v-160H620v160ZM180-180h160v-160H180v160Zm440 0h160v-160H620v160Z\"/>\n",
              "  </svg>\n",
              "    </button>\n",
              "\n",
              "  <style>\n",
              "    .colab-df-container {\n",
              "      display:flex;\n",
              "      gap: 12px;\n",
              "    }\n",
              "\n",
              "    .colab-df-convert {\n",
              "      background-color: #E8F0FE;\n",
              "      border: none;\n",
              "      border-radius: 50%;\n",
              "      cursor: pointer;\n",
              "      display: none;\n",
              "      fill: #1967D2;\n",
              "      height: 32px;\n",
              "      padding: 0 0 0 0;\n",
              "      width: 32px;\n",
              "    }\n",
              "\n",
              "    .colab-df-convert:hover {\n",
              "      background-color: #E2EBFA;\n",
              "      box-shadow: 0px 1px 2px rgba(60, 64, 67, 0.3), 0px 1px 3px 1px rgba(60, 64, 67, 0.15);\n",
              "      fill: #174EA6;\n",
              "    }\n",
              "\n",
              "    .colab-df-buttons div {\n",
              "      margin-bottom: 4px;\n",
              "    }\n",
              "\n",
              "    [theme=dark] .colab-df-convert {\n",
              "      background-color: #3B4455;\n",
              "      fill: #D2E3FC;\n",
              "    }\n",
              "\n",
              "    [theme=dark] .colab-df-convert:hover {\n",
              "      background-color: #434B5C;\n",
              "      box-shadow: 0px 1px 3px 1px rgba(0, 0, 0, 0.15);\n",
              "      filter: drop-shadow(0px 1px 2px rgba(0, 0, 0, 0.3));\n",
              "      fill: #FFFFFF;\n",
              "    }\n",
              "  </style>\n",
              "\n",
              "    <script>\n",
              "      const buttonEl =\n",
              "        document.querySelector('#df-cf0f70a0-b6cc-47f7-bca9-ca9efb8514d4 button.colab-df-convert');\n",
              "      buttonEl.style.display =\n",
              "        google.colab.kernel.accessAllowed ? 'block' : 'none';\n",
              "\n",
              "      async function convertToInteractive(key) {\n",
              "        const element = document.querySelector('#df-cf0f70a0-b6cc-47f7-bca9-ca9efb8514d4');\n",
              "        const dataTable =\n",
              "          await google.colab.kernel.invokeFunction('convertToInteractive',\n",
              "                                                    [key], {});\n",
              "        if (!dataTable) return;\n",
              "\n",
              "        const docLinkHtml = 'Like what you see? Visit the ' +\n",
              "          '<a target=\"_blank\" href=https://colab.research.google.com/notebooks/data_table.ipynb>data table notebook</a>'\n",
              "          + ' to learn more about interactive tables.';\n",
              "        element.innerHTML = '';\n",
              "        dataTable['output_type'] = 'display_data';\n",
              "        await google.colab.output.renderOutput(dataTable, element);\n",
              "        const docLink = document.createElement('div');\n",
              "        docLink.innerHTML = docLinkHtml;\n",
              "        element.appendChild(docLink);\n",
              "      }\n",
              "    </script>\n",
              "  </div>\n",
              "\n",
              "\n",
              "<div id=\"df-34bb57b1-c762-4012-bbee-936422d055b6\">\n",
              "  <button class=\"colab-df-quickchart\" onclick=\"quickchart('df-34bb57b1-c762-4012-bbee-936422d055b6')\"\n",
              "            title=\"Suggest charts\"\n",
              "            style=\"display:none;\">\n",
              "\n",
              "<svg xmlns=\"http://www.w3.org/2000/svg\" height=\"24px\"viewBox=\"0 0 24 24\"\n",
              "     width=\"24px\">\n",
              "    <g>\n",
              "        <path d=\"M19 3H5c-1.1 0-2 .9-2 2v14c0 1.1.9 2 2 2h14c1.1 0 2-.9 2-2V5c0-1.1-.9-2-2-2zM9 17H7v-7h2v7zm4 0h-2V7h2v10zm4 0h-2v-4h2v4z\"/>\n",
              "    </g>\n",
              "</svg>\n",
              "  </button>\n",
              "\n",
              "<style>\n",
              "  .colab-df-quickchart {\n",
              "      --bg-color: #E8F0FE;\n",
              "      --fill-color: #1967D2;\n",
              "      --hover-bg-color: #E2EBFA;\n",
              "      --hover-fill-color: #174EA6;\n",
              "      --disabled-fill-color: #AAA;\n",
              "      --disabled-bg-color: #DDD;\n",
              "  }\n",
              "\n",
              "  [theme=dark] .colab-df-quickchart {\n",
              "      --bg-color: #3B4455;\n",
              "      --fill-color: #D2E3FC;\n",
              "      --hover-bg-color: #434B5C;\n",
              "      --hover-fill-color: #FFFFFF;\n",
              "      --disabled-bg-color: #3B4455;\n",
              "      --disabled-fill-color: #666;\n",
              "  }\n",
              "\n",
              "  .colab-df-quickchart {\n",
              "    background-color: var(--bg-color);\n",
              "    border: none;\n",
              "    border-radius: 50%;\n",
              "    cursor: pointer;\n",
              "    display: none;\n",
              "    fill: var(--fill-color);\n",
              "    height: 32px;\n",
              "    padding: 0;\n",
              "    width: 32px;\n",
              "  }\n",
              "\n",
              "  .colab-df-quickchart:hover {\n",
              "    background-color: var(--hover-bg-color);\n",
              "    box-shadow: 0 1px 2px rgba(60, 64, 67, 0.3), 0 1px 3px 1px rgba(60, 64, 67, 0.15);\n",
              "    fill: var(--button-hover-fill-color);\n",
              "  }\n",
              "\n",
              "  .colab-df-quickchart-complete:disabled,\n",
              "  .colab-df-quickchart-complete:disabled:hover {\n",
              "    background-color: var(--disabled-bg-color);\n",
              "    fill: var(--disabled-fill-color);\n",
              "    box-shadow: none;\n",
              "  }\n",
              "\n",
              "  .colab-df-spinner {\n",
              "    border: 2px solid var(--fill-color);\n",
              "    border-color: transparent;\n",
              "    border-bottom-color: var(--fill-color);\n",
              "    animation:\n",
              "      spin 1s steps(1) infinite;\n",
              "  }\n",
              "\n",
              "  @keyframes spin {\n",
              "    0% {\n",
              "      border-color: transparent;\n",
              "      border-bottom-color: var(--fill-color);\n",
              "      border-left-color: var(--fill-color);\n",
              "    }\n",
              "    20% {\n",
              "      border-color: transparent;\n",
              "      border-left-color: var(--fill-color);\n",
              "      border-top-color: var(--fill-color);\n",
              "    }\n",
              "    30% {\n",
              "      border-color: transparent;\n",
              "      border-left-color: var(--fill-color);\n",
              "      border-top-color: var(--fill-color);\n",
              "      border-right-color: var(--fill-color);\n",
              "    }\n",
              "    40% {\n",
              "      border-color: transparent;\n",
              "      border-right-color: var(--fill-color);\n",
              "      border-top-color: var(--fill-color);\n",
              "    }\n",
              "    60% {\n",
              "      border-color: transparent;\n",
              "      border-right-color: var(--fill-color);\n",
              "    }\n",
              "    80% {\n",
              "      border-color: transparent;\n",
              "      border-right-color: var(--fill-color);\n",
              "      border-bottom-color: var(--fill-color);\n",
              "    }\n",
              "    90% {\n",
              "      border-color: transparent;\n",
              "      border-bottom-color: var(--fill-color);\n",
              "    }\n",
              "  }\n",
              "</style>\n",
              "\n",
              "  <script>\n",
              "    async function quickchart(key) {\n",
              "      const quickchartButtonEl =\n",
              "        document.querySelector('#' + key + ' button');\n",
              "      quickchartButtonEl.disabled = true;  // To prevent multiple clicks.\n",
              "      quickchartButtonEl.classList.add('colab-df-spinner');\n",
              "      try {\n",
              "        const charts = await google.colab.kernel.invokeFunction(\n",
              "            'suggestCharts', [key], {});\n",
              "      } catch (error) {\n",
              "        console.error('Error during call to suggestCharts:', error);\n",
              "      }\n",
              "      quickchartButtonEl.classList.remove('colab-df-spinner');\n",
              "      quickchartButtonEl.classList.add('colab-df-quickchart-complete');\n",
              "    }\n",
              "    (() => {\n",
              "      let quickchartButtonEl =\n",
              "        document.querySelector('#df-34bb57b1-c762-4012-bbee-936422d055b6 button');\n",
              "      quickchartButtonEl.style.display =\n",
              "        google.colab.kernel.accessAllowed ? 'block' : 'none';\n",
              "    })();\n",
              "  </script>\n",
              "</div>\n",
              "    </div>\n",
              "  </div>\n"
            ]
          },
          "metadata": {},
          "execution_count": 135
        }
      ],
      "source": [
        "data"
      ]
    },
    {
      "cell_type": "code",
      "execution_count": 136,
      "metadata": {
        "id": "Yi7JgLFmKIUd",
        "colab": {
          "base_uri": "https://localhost:8080/"
        },
        "outputId": "0d2e61fc-8775-493e-9468-c7d848d0816d"
      },
      "outputs": [
        {
          "output_type": "execute_result",
          "data": {
            "text/plain": [
              "(2000, 24)"
            ]
          },
          "metadata": {},
          "execution_count": 136
        }
      ],
      "source": [
        "data.shape"
      ]
    },
    {
      "cell_type": "code",
      "execution_count": 137,
      "metadata": {
        "id": "wOEEhphm990A"
      },
      "outputs": [],
      "source": [
        "X = data.drop('churn', axis = 1)"
      ]
    },
    {
      "cell_type": "code",
      "execution_count": 138,
      "metadata": {
        "id": "6ZdwvDKkATls"
      },
      "outputs": [],
      "source": [
        "Y = data.churn"
      ]
    },
    {
      "cell_type": "code",
      "execution_count": 139,
      "metadata": {
        "id": "fUk7faoGABb1"
      },
      "outputs": [],
      "source": [
        "from imblearn.over_sampling import SMOTE"
      ]
    },
    {
      "cell_type": "code",
      "execution_count": 140,
      "metadata": {
        "id": "4HVa2PE0AO6D"
      },
      "outputs": [],
      "source": [
        "X_res, Y_res = SMOTE().fit_resample(X,Y)"
      ]
    },
    {
      "cell_type": "code",
      "execution_count": 141,
      "metadata": {
        "id": "ViTkUcl6AOvm",
        "colab": {
          "base_uri": "https://localhost:8080/"
        },
        "outputId": "ab81ab84-d3c9-43bb-dd12-5cbdfd61b8bb"
      },
      "outputs": [
        {
          "output_type": "execute_result",
          "data": {
            "text/plain": [
              "year  customer_id  age  no_of_days_subscribed  multi_screen  mail_subscribed  weekly_mins_watched  minimum_daily_mins  maximum_daily_mins  weekly_max_night_mins  videos_watched  maximum_days_inactive  customer_support_calls  Female  Male  other  age_group_numeric  total_time_spent  total_weekly_mins  total_daily_mins  time_threshold_exceeded  engagement_score  engagement_segment\n",
              "2020  100198       36   62                     0             0                148.350000           12.200000           16.810000           82                     1               4.000000               1                       1       0     0      4.000000           259.360000        230.350000         29.010000         0                        160.550000        0                     1\n",
              "      680910       62   79                     0             0                331.350000           12.200000           37.550000           74                     2               4.000000               1                       1       0     0      6.000000           455.100000        405.350000         49.750000         1                        343.550000        1                     1\n",
              "      681326       47   75                     0             0                214.800000           11.900000           24.340000           96                     9               4.000000               1                       1       0     0      5.000000           347.040000        310.800000         36.240000         0                        226.700000        0                     1\n",
              "      681418       34   87                     0             1                361.200000           7.100000            40.940000           115                    3               2.000000               2                       0       1     0      3.000000           524.240000        476.200000         48.040000         1                        368.300000        1                     1\n",
              "      681429       34   103                    0             0                395.969073           12.094660           44.876208           124                    4               4.085101               0                       0       0     0      3.457449           577.918725        520.947857         56.970868         1                        408.063733        0                     1\n",
              "                                                                                                                                                                                                                                                                                                                                                                                                ..\n",
              "      379836       55   62                     0             0                307.644917           8.224506            34.869424           85                     1               2.365895               4                       0       0     0      5.634105           436.252116        393.158187         43.093930         0                        315.869423        0                     1\n",
              "      379889       28   89                     1             0                371.183093           13.667923           42.068915           88                     5               4.004537               2                       0       0     0      3.000000           515.440349        459.703511         55.736838         1                        384.851015        1                     1\n",
              "      379999       48   154                    0             0                250.350000           7.200000            28.370000           89                     5               2.000000               0                       0       1     0      5.000000           374.920000        339.350000         35.570000         0                        257.550000        0                     1\n",
              "      380001       33   27                     0             0                266.400000           7.600000            30.190000           106                    3               3.000000               3                       0       1     0      3.000000           410.190000        372.400000         37.790000         1                        274.000000        0                     1\n",
              "      999961       37   73                     0             0                326.700000           10.300000           37.030000           89                     6               3.000000               1                       0       1     0      4.000000           463.030000        415.700000         47.330000         1                        337.000000        1                     1\n",
              "Length: 3406, dtype: int64"
            ]
          },
          "metadata": {},
          "execution_count": 141
        }
      ],
      "source": [
        "X_res.value_counts()"
      ]
    },
    {
      "cell_type": "code",
      "execution_count": 142,
      "metadata": {
        "id": "cclsMzHFAOlS",
        "colab": {
          "base_uri": "https://localhost:8080/"
        },
        "outputId": "b4f14ab0-7027-4dc0-e6dc-145929330445"
      },
      "outputs": [
        {
          "output_type": "execute_result",
          "data": {
            "text/plain": [
              "0.0    1703\n",
              "1.0    1703\n",
              "Name: churn, dtype: int64"
            ]
          },
          "metadata": {},
          "execution_count": 142
        }
      ],
      "source": [
        "Y_res.value_counts()"
      ]
    },
    {
      "cell_type": "markdown",
      "metadata": {
        "id": "lAMU4hrOPPjd"
      },
      "source": [
        "# **DATA PRE-PROCESSING**"
      ]
    },
    {
      "cell_type": "code",
      "execution_count": 143,
      "metadata": {
        "id": "xBnFLa_ZAVZ0"
      },
      "outputs": [],
      "source": [
        "from sklearn.model_selection import train_test_split"
      ]
    },
    {
      "cell_type": "code",
      "execution_count": 144,
      "metadata": {
        "id": "q4-op4r1AXob"
      },
      "outputs": [],
      "source": [
        "X_train,X_test, Y_train, Y_test = train_test_split(X_res,Y_res,test_size = 0.2)"
      ]
    },
    {
      "cell_type": "code",
      "execution_count": 145,
      "metadata": {
        "id": "6nJFvGZNAaWY",
        "colab": {
          "base_uri": "https://localhost:8080/",
          "height": 443
        },
        "outputId": "aa575b2e-7045-4da0-b53d-d5e9d3ee775d"
      },
      "outputs": [
        {
          "output_type": "execute_result",
          "data": {
            "text/plain": [
              "      year  customer_id  age  no_of_days_subscribed  multi_screen  \\\n",
              "2378  2020       108747   45                     82             0   \n",
              "2152  2020       951286   62                     83             0   \n",
              "1919  2020       964765   42                     67             0   \n",
              "3012  2020       147963   37                     74             0   \n",
              "757   2020       453828   46                     74             0   \n",
              "...    ...          ...  ...                    ...           ...   \n",
              "2039  2020       944853   38                     81             0   \n",
              "1057  2020       592128   35                    163             0   \n",
              "140   2020       158478   36                     92             1   \n",
              "2106  2020       837927   61                    116             0   \n",
              "1247  2020       674204   69                     77             0   \n",
              "\n",
              "      mail_subscribed  weekly_mins_watched  minimum_daily_mins  \\\n",
              "2378                0           403.563270           10.912905   \n",
              "2152                0           147.926479           11.080104   \n",
              "1919                0           316.050000            7.200000   \n",
              "3012                0           219.852397            8.922734   \n",
              "757                 1           231.150000           10.900000   \n",
              "...               ...                  ...                 ...   \n",
              "2039                0           348.751325            9.413004   \n",
              "1057                0           286.950000           12.800000   \n",
              "140                 0           396.450000            9.300000   \n",
              "2106                0           139.742528            9.291333   \n",
              "1247                1           224.100000           10.100000   \n",
              "\n",
              "      maximum_daily_mins  weekly_max_night_mins  ...  Female  Male  other  \\\n",
              "2378           45.738765                    103  ...       0     0      0   \n",
              "2152           16.764874                     89  ...       0     1      0   \n",
              "1919           35.820000                     83  ...       0     1      0   \n",
              "3012           24.920994                     91  ...       0     0      0   \n",
              "757            26.200000                     57  ...       1     0      0   \n",
              "...                  ...                    ...  ...     ...   ...    ...   \n",
              "2039           39.527150                    103  ...       0     0      0   \n",
              "1057           32.520000                    121  ...       1     0      0   \n",
              "140            44.930000                     73  ...       0     1      0   \n",
              "2106           15.835356                    117  ...       0     1      0   \n",
              "1247           25.400000                     84  ...       0     1      0   \n",
              "\n",
              "      age_group_numeric  total_time_spent  total_weekly_mins  \\\n",
              "2378           4.000000        563.406866         506.755196   \n",
              "2152           5.563699        265.263589         237.418612   \n",
              "1919           4.000000        442.070000         399.050000   \n",
              "3012           4.000000        345.090581         311.246854   \n",
              "757            5.000000        325.250000         288.150000   \n",
              "...                 ...               ...                ...   \n",
              "2039           4.000000        500.800225         451.860071   \n",
              "1057           3.000000        453.270000         407.950000   \n",
              "140            4.000000        523.680000         469.450000   \n",
              "2106           5.347779        282.042563         256.915874   \n",
              "1247           6.000000        343.600000         308.100000   \n",
              "\n",
              "      total_daily_mins  time_threshold_exceeded  engagement_score  \\\n",
              "2378         56.651670                        1        414.476175   \n",
              "2152         27.844977                        0        159.006583   \n",
              "1919         43.020000                        1        323.250000   \n",
              "3012         33.843728                        0        228.775131   \n",
              "757          37.100000                        0        242.050000   \n",
              "...                ...                      ...               ...   \n",
              "2039         48.940154                        1        358.164329   \n",
              "1057         45.320000                        1        299.750000   \n",
              "140          54.230000                        1        405.750000   \n",
              "2106         25.126689                        0        149.033861   \n",
              "1247         35.500000                        0        234.200000   \n",
              "\n",
              "      engagement_segment  \n",
              "2378                   1  \n",
              "2152                   0  \n",
              "1919                   1  \n",
              "3012                   0  \n",
              "757                    0  \n",
              "...                  ...  \n",
              "2039                   1  \n",
              "1057                   0  \n",
              "140                    1  \n",
              "2106                   0  \n",
              "1247                   0  \n",
              "\n",
              "[2724 rows x 23 columns]"
            ],
            "text/html": [
              "\n",
              "  <div id=\"df-c576392d-dfed-47a8-92c9-268c922092d0\" class=\"colab-df-container\">\n",
              "    <div>\n",
              "<style scoped>\n",
              "    .dataframe tbody tr th:only-of-type {\n",
              "        vertical-align: middle;\n",
              "    }\n",
              "\n",
              "    .dataframe tbody tr th {\n",
              "        vertical-align: top;\n",
              "    }\n",
              "\n",
              "    .dataframe thead th {\n",
              "        text-align: right;\n",
              "    }\n",
              "</style>\n",
              "<table border=\"1\" class=\"dataframe\">\n",
              "  <thead>\n",
              "    <tr style=\"text-align: right;\">\n",
              "      <th></th>\n",
              "      <th>year</th>\n",
              "      <th>customer_id</th>\n",
              "      <th>age</th>\n",
              "      <th>no_of_days_subscribed</th>\n",
              "      <th>multi_screen</th>\n",
              "      <th>mail_subscribed</th>\n",
              "      <th>weekly_mins_watched</th>\n",
              "      <th>minimum_daily_mins</th>\n",
              "      <th>maximum_daily_mins</th>\n",
              "      <th>weekly_max_night_mins</th>\n",
              "      <th>...</th>\n",
              "      <th>Female</th>\n",
              "      <th>Male</th>\n",
              "      <th>other</th>\n",
              "      <th>age_group_numeric</th>\n",
              "      <th>total_time_spent</th>\n",
              "      <th>total_weekly_mins</th>\n",
              "      <th>total_daily_mins</th>\n",
              "      <th>time_threshold_exceeded</th>\n",
              "      <th>engagement_score</th>\n",
              "      <th>engagement_segment</th>\n",
              "    </tr>\n",
              "  </thead>\n",
              "  <tbody>\n",
              "    <tr>\n",
              "      <th>2378</th>\n",
              "      <td>2020</td>\n",
              "      <td>108747</td>\n",
              "      <td>45</td>\n",
              "      <td>82</td>\n",
              "      <td>0</td>\n",
              "      <td>0</td>\n",
              "      <td>403.563270</td>\n",
              "      <td>10.912905</td>\n",
              "      <td>45.738765</td>\n",
              "      <td>103</td>\n",
              "      <td>...</td>\n",
              "      <td>0</td>\n",
              "      <td>0</td>\n",
              "      <td>0</td>\n",
              "      <td>4.000000</td>\n",
              "      <td>563.406866</td>\n",
              "      <td>506.755196</td>\n",
              "      <td>56.651670</td>\n",
              "      <td>1</td>\n",
              "      <td>414.476175</td>\n",
              "      <td>1</td>\n",
              "    </tr>\n",
              "    <tr>\n",
              "      <th>2152</th>\n",
              "      <td>2020</td>\n",
              "      <td>951286</td>\n",
              "      <td>62</td>\n",
              "      <td>83</td>\n",
              "      <td>0</td>\n",
              "      <td>0</td>\n",
              "      <td>147.926479</td>\n",
              "      <td>11.080104</td>\n",
              "      <td>16.764874</td>\n",
              "      <td>89</td>\n",
              "      <td>...</td>\n",
              "      <td>0</td>\n",
              "      <td>1</td>\n",
              "      <td>0</td>\n",
              "      <td>5.563699</td>\n",
              "      <td>265.263589</td>\n",
              "      <td>237.418612</td>\n",
              "      <td>27.844977</td>\n",
              "      <td>0</td>\n",
              "      <td>159.006583</td>\n",
              "      <td>0</td>\n",
              "    </tr>\n",
              "    <tr>\n",
              "      <th>1919</th>\n",
              "      <td>2020</td>\n",
              "      <td>964765</td>\n",
              "      <td>42</td>\n",
              "      <td>67</td>\n",
              "      <td>0</td>\n",
              "      <td>0</td>\n",
              "      <td>316.050000</td>\n",
              "      <td>7.200000</td>\n",
              "      <td>35.820000</td>\n",
              "      <td>83</td>\n",
              "      <td>...</td>\n",
              "      <td>0</td>\n",
              "      <td>1</td>\n",
              "      <td>0</td>\n",
              "      <td>4.000000</td>\n",
              "      <td>442.070000</td>\n",
              "      <td>399.050000</td>\n",
              "      <td>43.020000</td>\n",
              "      <td>1</td>\n",
              "      <td>323.250000</td>\n",
              "      <td>1</td>\n",
              "    </tr>\n",
              "    <tr>\n",
              "      <th>3012</th>\n",
              "      <td>2020</td>\n",
              "      <td>147963</td>\n",
              "      <td>37</td>\n",
              "      <td>74</td>\n",
              "      <td>0</td>\n",
              "      <td>0</td>\n",
              "      <td>219.852397</td>\n",
              "      <td>8.922734</td>\n",
              "      <td>24.920994</td>\n",
              "      <td>91</td>\n",
              "      <td>...</td>\n",
              "      <td>0</td>\n",
              "      <td>0</td>\n",
              "      <td>0</td>\n",
              "      <td>4.000000</td>\n",
              "      <td>345.090581</td>\n",
              "      <td>311.246854</td>\n",
              "      <td>33.843728</td>\n",
              "      <td>0</td>\n",
              "      <td>228.775131</td>\n",
              "      <td>0</td>\n",
              "    </tr>\n",
              "    <tr>\n",
              "      <th>757</th>\n",
              "      <td>2020</td>\n",
              "      <td>453828</td>\n",
              "      <td>46</td>\n",
              "      <td>74</td>\n",
              "      <td>0</td>\n",
              "      <td>1</td>\n",
              "      <td>231.150000</td>\n",
              "      <td>10.900000</td>\n",
              "      <td>26.200000</td>\n",
              "      <td>57</td>\n",
              "      <td>...</td>\n",
              "      <td>1</td>\n",
              "      <td>0</td>\n",
              "      <td>0</td>\n",
              "      <td>5.000000</td>\n",
              "      <td>325.250000</td>\n",
              "      <td>288.150000</td>\n",
              "      <td>37.100000</td>\n",
              "      <td>0</td>\n",
              "      <td>242.050000</td>\n",
              "      <td>0</td>\n",
              "    </tr>\n",
              "    <tr>\n",
              "      <th>...</th>\n",
              "      <td>...</td>\n",
              "      <td>...</td>\n",
              "      <td>...</td>\n",
              "      <td>...</td>\n",
              "      <td>...</td>\n",
              "      <td>...</td>\n",
              "      <td>...</td>\n",
              "      <td>...</td>\n",
              "      <td>...</td>\n",
              "      <td>...</td>\n",
              "      <td>...</td>\n",
              "      <td>...</td>\n",
              "      <td>...</td>\n",
              "      <td>...</td>\n",
              "      <td>...</td>\n",
              "      <td>...</td>\n",
              "      <td>...</td>\n",
              "      <td>...</td>\n",
              "      <td>...</td>\n",
              "      <td>...</td>\n",
              "      <td>...</td>\n",
              "    </tr>\n",
              "    <tr>\n",
              "      <th>2039</th>\n",
              "      <td>2020</td>\n",
              "      <td>944853</td>\n",
              "      <td>38</td>\n",
              "      <td>81</td>\n",
              "      <td>0</td>\n",
              "      <td>0</td>\n",
              "      <td>348.751325</td>\n",
              "      <td>9.413004</td>\n",
              "      <td>39.527150</td>\n",
              "      <td>103</td>\n",
              "      <td>...</td>\n",
              "      <td>0</td>\n",
              "      <td>0</td>\n",
              "      <td>0</td>\n",
              "      <td>4.000000</td>\n",
              "      <td>500.800225</td>\n",
              "      <td>451.860071</td>\n",
              "      <td>48.940154</td>\n",
              "      <td>1</td>\n",
              "      <td>358.164329</td>\n",
              "      <td>1</td>\n",
              "    </tr>\n",
              "    <tr>\n",
              "      <th>1057</th>\n",
              "      <td>2020</td>\n",
              "      <td>592128</td>\n",
              "      <td>35</td>\n",
              "      <td>163</td>\n",
              "      <td>0</td>\n",
              "      <td>0</td>\n",
              "      <td>286.950000</td>\n",
              "      <td>12.800000</td>\n",
              "      <td>32.520000</td>\n",
              "      <td>121</td>\n",
              "      <td>...</td>\n",
              "      <td>1</td>\n",
              "      <td>0</td>\n",
              "      <td>0</td>\n",
              "      <td>3.000000</td>\n",
              "      <td>453.270000</td>\n",
              "      <td>407.950000</td>\n",
              "      <td>45.320000</td>\n",
              "      <td>1</td>\n",
              "      <td>299.750000</td>\n",
              "      <td>0</td>\n",
              "    </tr>\n",
              "    <tr>\n",
              "      <th>140</th>\n",
              "      <td>2020</td>\n",
              "      <td>158478</td>\n",
              "      <td>36</td>\n",
              "      <td>92</td>\n",
              "      <td>1</td>\n",
              "      <td>0</td>\n",
              "      <td>396.450000</td>\n",
              "      <td>9.300000</td>\n",
              "      <td>44.930000</td>\n",
              "      <td>73</td>\n",
              "      <td>...</td>\n",
              "      <td>0</td>\n",
              "      <td>1</td>\n",
              "      <td>0</td>\n",
              "      <td>4.000000</td>\n",
              "      <td>523.680000</td>\n",
              "      <td>469.450000</td>\n",
              "      <td>54.230000</td>\n",
              "      <td>1</td>\n",
              "      <td>405.750000</td>\n",
              "      <td>1</td>\n",
              "    </tr>\n",
              "    <tr>\n",
              "      <th>2106</th>\n",
              "      <td>2020</td>\n",
              "      <td>837927</td>\n",
              "      <td>61</td>\n",
              "      <td>116</td>\n",
              "      <td>0</td>\n",
              "      <td>0</td>\n",
              "      <td>139.742528</td>\n",
              "      <td>9.291333</td>\n",
              "      <td>15.835356</td>\n",
              "      <td>117</td>\n",
              "      <td>...</td>\n",
              "      <td>0</td>\n",
              "      <td>1</td>\n",
              "      <td>0</td>\n",
              "      <td>5.347779</td>\n",
              "      <td>282.042563</td>\n",
              "      <td>256.915874</td>\n",
              "      <td>25.126689</td>\n",
              "      <td>0</td>\n",
              "      <td>149.033861</td>\n",
              "      <td>0</td>\n",
              "    </tr>\n",
              "    <tr>\n",
              "      <th>1247</th>\n",
              "      <td>2020</td>\n",
              "      <td>674204</td>\n",
              "      <td>69</td>\n",
              "      <td>77</td>\n",
              "      <td>0</td>\n",
              "      <td>1</td>\n",
              "      <td>224.100000</td>\n",
              "      <td>10.100000</td>\n",
              "      <td>25.400000</td>\n",
              "      <td>84</td>\n",
              "      <td>...</td>\n",
              "      <td>0</td>\n",
              "      <td>1</td>\n",
              "      <td>0</td>\n",
              "      <td>6.000000</td>\n",
              "      <td>343.600000</td>\n",
              "      <td>308.100000</td>\n",
              "      <td>35.500000</td>\n",
              "      <td>0</td>\n",
              "      <td>234.200000</td>\n",
              "      <td>0</td>\n",
              "    </tr>\n",
              "  </tbody>\n",
              "</table>\n",
              "<p>2724 rows × 23 columns</p>\n",
              "</div>\n",
              "    <div class=\"colab-df-buttons\">\n",
              "\n",
              "  <div class=\"colab-df-container\">\n",
              "    <button class=\"colab-df-convert\" onclick=\"convertToInteractive('df-c576392d-dfed-47a8-92c9-268c922092d0')\"\n",
              "            title=\"Convert this dataframe to an interactive table.\"\n",
              "            style=\"display:none;\">\n",
              "\n",
              "  <svg xmlns=\"http://www.w3.org/2000/svg\" height=\"24px\" viewBox=\"0 -960 960 960\">\n",
              "    <path d=\"M120-120v-720h720v720H120Zm60-500h600v-160H180v160Zm220 220h160v-160H400v160Zm0 220h160v-160H400v160ZM180-400h160v-160H180v160Zm440 0h160v-160H620v160ZM180-180h160v-160H180v160Zm440 0h160v-160H620v160Z\"/>\n",
              "  </svg>\n",
              "    </button>\n",
              "\n",
              "  <style>\n",
              "    .colab-df-container {\n",
              "      display:flex;\n",
              "      gap: 12px;\n",
              "    }\n",
              "\n",
              "    .colab-df-convert {\n",
              "      background-color: #E8F0FE;\n",
              "      border: none;\n",
              "      border-radius: 50%;\n",
              "      cursor: pointer;\n",
              "      display: none;\n",
              "      fill: #1967D2;\n",
              "      height: 32px;\n",
              "      padding: 0 0 0 0;\n",
              "      width: 32px;\n",
              "    }\n",
              "\n",
              "    .colab-df-convert:hover {\n",
              "      background-color: #E2EBFA;\n",
              "      box-shadow: 0px 1px 2px rgba(60, 64, 67, 0.3), 0px 1px 3px 1px rgba(60, 64, 67, 0.15);\n",
              "      fill: #174EA6;\n",
              "    }\n",
              "\n",
              "    .colab-df-buttons div {\n",
              "      margin-bottom: 4px;\n",
              "    }\n",
              "\n",
              "    [theme=dark] .colab-df-convert {\n",
              "      background-color: #3B4455;\n",
              "      fill: #D2E3FC;\n",
              "    }\n",
              "\n",
              "    [theme=dark] .colab-df-convert:hover {\n",
              "      background-color: #434B5C;\n",
              "      box-shadow: 0px 1px 3px 1px rgba(0, 0, 0, 0.15);\n",
              "      filter: drop-shadow(0px 1px 2px rgba(0, 0, 0, 0.3));\n",
              "      fill: #FFFFFF;\n",
              "    }\n",
              "  </style>\n",
              "\n",
              "    <script>\n",
              "      const buttonEl =\n",
              "        document.querySelector('#df-c576392d-dfed-47a8-92c9-268c922092d0 button.colab-df-convert');\n",
              "      buttonEl.style.display =\n",
              "        google.colab.kernel.accessAllowed ? 'block' : 'none';\n",
              "\n",
              "      async function convertToInteractive(key) {\n",
              "        const element = document.querySelector('#df-c576392d-dfed-47a8-92c9-268c922092d0');\n",
              "        const dataTable =\n",
              "          await google.colab.kernel.invokeFunction('convertToInteractive',\n",
              "                                                    [key], {});\n",
              "        if (!dataTable) return;\n",
              "\n",
              "        const docLinkHtml = 'Like what you see? Visit the ' +\n",
              "          '<a target=\"_blank\" href=https://colab.research.google.com/notebooks/data_table.ipynb>data table notebook</a>'\n",
              "          + ' to learn more about interactive tables.';\n",
              "        element.innerHTML = '';\n",
              "        dataTable['output_type'] = 'display_data';\n",
              "        await google.colab.output.renderOutput(dataTable, element);\n",
              "        const docLink = document.createElement('div');\n",
              "        docLink.innerHTML = docLinkHtml;\n",
              "        element.appendChild(docLink);\n",
              "      }\n",
              "    </script>\n",
              "  </div>\n",
              "\n",
              "\n",
              "<div id=\"df-5cb6bc38-55ed-4831-83eb-5b70509ec38c\">\n",
              "  <button class=\"colab-df-quickchart\" onclick=\"quickchart('df-5cb6bc38-55ed-4831-83eb-5b70509ec38c')\"\n",
              "            title=\"Suggest charts\"\n",
              "            style=\"display:none;\">\n",
              "\n",
              "<svg xmlns=\"http://www.w3.org/2000/svg\" height=\"24px\"viewBox=\"0 0 24 24\"\n",
              "     width=\"24px\">\n",
              "    <g>\n",
              "        <path d=\"M19 3H5c-1.1 0-2 .9-2 2v14c0 1.1.9 2 2 2h14c1.1 0 2-.9 2-2V5c0-1.1-.9-2-2-2zM9 17H7v-7h2v7zm4 0h-2V7h2v10zm4 0h-2v-4h2v4z\"/>\n",
              "    </g>\n",
              "</svg>\n",
              "  </button>\n",
              "\n",
              "<style>\n",
              "  .colab-df-quickchart {\n",
              "      --bg-color: #E8F0FE;\n",
              "      --fill-color: #1967D2;\n",
              "      --hover-bg-color: #E2EBFA;\n",
              "      --hover-fill-color: #174EA6;\n",
              "      --disabled-fill-color: #AAA;\n",
              "      --disabled-bg-color: #DDD;\n",
              "  }\n",
              "\n",
              "  [theme=dark] .colab-df-quickchart {\n",
              "      --bg-color: #3B4455;\n",
              "      --fill-color: #D2E3FC;\n",
              "      --hover-bg-color: #434B5C;\n",
              "      --hover-fill-color: #FFFFFF;\n",
              "      --disabled-bg-color: #3B4455;\n",
              "      --disabled-fill-color: #666;\n",
              "  }\n",
              "\n",
              "  .colab-df-quickchart {\n",
              "    background-color: var(--bg-color);\n",
              "    border: none;\n",
              "    border-radius: 50%;\n",
              "    cursor: pointer;\n",
              "    display: none;\n",
              "    fill: var(--fill-color);\n",
              "    height: 32px;\n",
              "    padding: 0;\n",
              "    width: 32px;\n",
              "  }\n",
              "\n",
              "  .colab-df-quickchart:hover {\n",
              "    background-color: var(--hover-bg-color);\n",
              "    box-shadow: 0 1px 2px rgba(60, 64, 67, 0.3), 0 1px 3px 1px rgba(60, 64, 67, 0.15);\n",
              "    fill: var(--button-hover-fill-color);\n",
              "  }\n",
              "\n",
              "  .colab-df-quickchart-complete:disabled,\n",
              "  .colab-df-quickchart-complete:disabled:hover {\n",
              "    background-color: var(--disabled-bg-color);\n",
              "    fill: var(--disabled-fill-color);\n",
              "    box-shadow: none;\n",
              "  }\n",
              "\n",
              "  .colab-df-spinner {\n",
              "    border: 2px solid var(--fill-color);\n",
              "    border-color: transparent;\n",
              "    border-bottom-color: var(--fill-color);\n",
              "    animation:\n",
              "      spin 1s steps(1) infinite;\n",
              "  }\n",
              "\n",
              "  @keyframes spin {\n",
              "    0% {\n",
              "      border-color: transparent;\n",
              "      border-bottom-color: var(--fill-color);\n",
              "      border-left-color: var(--fill-color);\n",
              "    }\n",
              "    20% {\n",
              "      border-color: transparent;\n",
              "      border-left-color: var(--fill-color);\n",
              "      border-top-color: var(--fill-color);\n",
              "    }\n",
              "    30% {\n",
              "      border-color: transparent;\n",
              "      border-left-color: var(--fill-color);\n",
              "      border-top-color: var(--fill-color);\n",
              "      border-right-color: var(--fill-color);\n",
              "    }\n",
              "    40% {\n",
              "      border-color: transparent;\n",
              "      border-right-color: var(--fill-color);\n",
              "      border-top-color: var(--fill-color);\n",
              "    }\n",
              "    60% {\n",
              "      border-color: transparent;\n",
              "      border-right-color: var(--fill-color);\n",
              "    }\n",
              "    80% {\n",
              "      border-color: transparent;\n",
              "      border-right-color: var(--fill-color);\n",
              "      border-bottom-color: var(--fill-color);\n",
              "    }\n",
              "    90% {\n",
              "      border-color: transparent;\n",
              "      border-bottom-color: var(--fill-color);\n",
              "    }\n",
              "  }\n",
              "</style>\n",
              "\n",
              "  <script>\n",
              "    async function quickchart(key) {\n",
              "      const quickchartButtonEl =\n",
              "        document.querySelector('#' + key + ' button');\n",
              "      quickchartButtonEl.disabled = true;  // To prevent multiple clicks.\n",
              "      quickchartButtonEl.classList.add('colab-df-spinner');\n",
              "      try {\n",
              "        const charts = await google.colab.kernel.invokeFunction(\n",
              "            'suggestCharts', [key], {});\n",
              "      } catch (error) {\n",
              "        console.error('Error during call to suggestCharts:', error);\n",
              "      }\n",
              "      quickchartButtonEl.classList.remove('colab-df-spinner');\n",
              "      quickchartButtonEl.classList.add('colab-df-quickchart-complete');\n",
              "    }\n",
              "    (() => {\n",
              "      let quickchartButtonEl =\n",
              "        document.querySelector('#df-5cb6bc38-55ed-4831-83eb-5b70509ec38c button');\n",
              "      quickchartButtonEl.style.display =\n",
              "        google.colab.kernel.accessAllowed ? 'block' : 'none';\n",
              "    })();\n",
              "  </script>\n",
              "</div>\n",
              "    </div>\n",
              "  </div>\n"
            ]
          },
          "metadata": {},
          "execution_count": 145
        }
      ],
      "source": [
        "X_train"
      ]
    },
    {
      "cell_type": "code",
      "execution_count": 146,
      "metadata": {
        "id": "m05a7oFhAb6E",
        "colab": {
          "base_uri": "https://localhost:8080/",
          "height": 443
        },
        "outputId": "a3ea1351-823f-4454-f453-0a11e7c9795d"
      },
      "outputs": [
        {
          "output_type": "execute_result",
          "data": {
            "text/plain": [
              "      year  customer_id  age  no_of_days_subscribed  multi_screen  \\\n",
              "2271  2020       730820   34                    159             0   \n",
              "1154  2020       633877   40                    179             0   \n",
              "1278  2020       686813   50                    104             0   \n",
              "2978  2020       944065   38                     79             0   \n",
              "3298  2020       651129   27                     80             0   \n",
              "...    ...          ...  ...                    ...           ...   \n",
              "1945  2020       973331   36                    119             0   \n",
              "2748  2020       626184   38                     93             0   \n",
              "891   2020       518133   25                     94             1   \n",
              "21    2020       108471   32                    170             0   \n",
              "453   2020       302854   47                    152             0   \n",
              "\n",
              "      mail_subscribed  weekly_mins_watched  minimum_daily_mins  \\\n",
              "2271                0           347.934951           12.224913   \n",
              "1154                0           328.800000            6.100000   \n",
              "1278                1           420.300000           13.300000   \n",
              "2978                0           343.049514            9.144683   \n",
              "3298                0           435.051051            4.566657   \n",
              "...               ...                  ...                 ...   \n",
              "1945                0           334.200000           11.200000   \n",
              "2748                0           253.502901           11.769922   \n",
              "891                 0           255.150000            8.700000   \n",
              "21                  0           369.600000            9.100000   \n",
              "453                 0           151.800000            7.500000   \n",
              "\n",
              "      maximum_daily_mins  weekly_max_night_mins  ...  Female  Male  other  \\\n",
              "2271           39.430557                    122  ...       0     1      0   \n",
              "1154           37.260000                    104  ...       0     1      0   \n",
              "1278           47.630000                    102  ...       0     1      0   \n",
              "2978           38.880945                    103  ...       0     0      0   \n",
              "3298           49.305011                    106  ...       0     0      0   \n",
              "...                  ...                    ...  ...     ...   ...    ...   \n",
              "1945           37.880000                    112  ...       0     1      0   \n",
              "2748           28.734671                    100  ...       0     0      0   \n",
              "891            28.920000                     78  ...       0     1      0   \n",
              "21             41.890000                     95  ...       0     0      1   \n",
              "453            17.200000                    124  ...       1     0      0   \n",
              "\n",
              "      age_group_numeric  total_time_spent  total_weekly_mins  \\\n",
              "2271           3.000000        521.598451         469.942981   \n",
              "1154           4.000000        476.160000         432.800000   \n",
              "1278           5.000000        583.230000         522.300000   \n",
              "2978           4.000000        494.519288         446.493660   \n",
              "3298           2.306309        595.355204         541.483536   \n",
              "...                 ...               ...                ...   \n",
              "1945           4.000000        495.280000         446.200000   \n",
              "2748           3.657552        394.925461         354.420869   \n",
              "891            2.000000        370.770000         333.150000   \n",
              "21             3.000000        515.590000         464.600000   \n",
              "453            5.000000        300.500000         275.800000   \n",
              "\n",
              "      total_daily_mins  time_threshold_exceeded  engagement_score  \\\n",
              "2271         51.655470                        1        360.159864   \n",
              "1154         43.360000                        1        334.900000   \n",
              "1278         60.930000                        1        433.600000   \n",
              "2978         48.025628                        1        352.194197   \n",
              "3298         53.871668                        1        439.617708   \n",
              "...                ...                      ...               ...   \n",
              "1945         49.080000                        1        345.400000   \n",
              "2748         40.504593                        0        265.272822   \n",
              "891          37.620000                        0        263.850000   \n",
              "21           50.990000                        1        378.700000   \n",
              "453          24.700000                        0        159.300000   \n",
              "\n",
              "      engagement_segment  \n",
              "2271                   1  \n",
              "1154                   1  \n",
              "1278                   1  \n",
              "2978                   1  \n",
              "3298                   1  \n",
              "...                  ...  \n",
              "1945                   1  \n",
              "2748                   0  \n",
              "891                    0  \n",
              "21                     1  \n",
              "453                    0  \n",
              "\n",
              "[682 rows x 23 columns]"
            ],
            "text/html": [
              "\n",
              "  <div id=\"df-844db260-3579-4f10-94dd-06598222cb51\" class=\"colab-df-container\">\n",
              "    <div>\n",
              "<style scoped>\n",
              "    .dataframe tbody tr th:only-of-type {\n",
              "        vertical-align: middle;\n",
              "    }\n",
              "\n",
              "    .dataframe tbody tr th {\n",
              "        vertical-align: top;\n",
              "    }\n",
              "\n",
              "    .dataframe thead th {\n",
              "        text-align: right;\n",
              "    }\n",
              "</style>\n",
              "<table border=\"1\" class=\"dataframe\">\n",
              "  <thead>\n",
              "    <tr style=\"text-align: right;\">\n",
              "      <th></th>\n",
              "      <th>year</th>\n",
              "      <th>customer_id</th>\n",
              "      <th>age</th>\n",
              "      <th>no_of_days_subscribed</th>\n",
              "      <th>multi_screen</th>\n",
              "      <th>mail_subscribed</th>\n",
              "      <th>weekly_mins_watched</th>\n",
              "      <th>minimum_daily_mins</th>\n",
              "      <th>maximum_daily_mins</th>\n",
              "      <th>weekly_max_night_mins</th>\n",
              "      <th>...</th>\n",
              "      <th>Female</th>\n",
              "      <th>Male</th>\n",
              "      <th>other</th>\n",
              "      <th>age_group_numeric</th>\n",
              "      <th>total_time_spent</th>\n",
              "      <th>total_weekly_mins</th>\n",
              "      <th>total_daily_mins</th>\n",
              "      <th>time_threshold_exceeded</th>\n",
              "      <th>engagement_score</th>\n",
              "      <th>engagement_segment</th>\n",
              "    </tr>\n",
              "  </thead>\n",
              "  <tbody>\n",
              "    <tr>\n",
              "      <th>2271</th>\n",
              "      <td>2020</td>\n",
              "      <td>730820</td>\n",
              "      <td>34</td>\n",
              "      <td>159</td>\n",
              "      <td>0</td>\n",
              "      <td>0</td>\n",
              "      <td>347.934951</td>\n",
              "      <td>12.224913</td>\n",
              "      <td>39.430557</td>\n",
              "      <td>122</td>\n",
              "      <td>...</td>\n",
              "      <td>0</td>\n",
              "      <td>1</td>\n",
              "      <td>0</td>\n",
              "      <td>3.000000</td>\n",
              "      <td>521.598451</td>\n",
              "      <td>469.942981</td>\n",
              "      <td>51.655470</td>\n",
              "      <td>1</td>\n",
              "      <td>360.159864</td>\n",
              "      <td>1</td>\n",
              "    </tr>\n",
              "    <tr>\n",
              "      <th>1154</th>\n",
              "      <td>2020</td>\n",
              "      <td>633877</td>\n",
              "      <td>40</td>\n",
              "      <td>179</td>\n",
              "      <td>0</td>\n",
              "      <td>0</td>\n",
              "      <td>328.800000</td>\n",
              "      <td>6.100000</td>\n",
              "      <td>37.260000</td>\n",
              "      <td>104</td>\n",
              "      <td>...</td>\n",
              "      <td>0</td>\n",
              "      <td>1</td>\n",
              "      <td>0</td>\n",
              "      <td>4.000000</td>\n",
              "      <td>476.160000</td>\n",
              "      <td>432.800000</td>\n",
              "      <td>43.360000</td>\n",
              "      <td>1</td>\n",
              "      <td>334.900000</td>\n",
              "      <td>1</td>\n",
              "    </tr>\n",
              "    <tr>\n",
              "      <th>1278</th>\n",
              "      <td>2020</td>\n",
              "      <td>686813</td>\n",
              "      <td>50</td>\n",
              "      <td>104</td>\n",
              "      <td>0</td>\n",
              "      <td>1</td>\n",
              "      <td>420.300000</td>\n",
              "      <td>13.300000</td>\n",
              "      <td>47.630000</td>\n",
              "      <td>102</td>\n",
              "      <td>...</td>\n",
              "      <td>0</td>\n",
              "      <td>1</td>\n",
              "      <td>0</td>\n",
              "      <td>5.000000</td>\n",
              "      <td>583.230000</td>\n",
              "      <td>522.300000</td>\n",
              "      <td>60.930000</td>\n",
              "      <td>1</td>\n",
              "      <td>433.600000</td>\n",
              "      <td>1</td>\n",
              "    </tr>\n",
              "    <tr>\n",
              "      <th>2978</th>\n",
              "      <td>2020</td>\n",
              "      <td>944065</td>\n",
              "      <td>38</td>\n",
              "      <td>79</td>\n",
              "      <td>0</td>\n",
              "      <td>0</td>\n",
              "      <td>343.049514</td>\n",
              "      <td>9.144683</td>\n",
              "      <td>38.880945</td>\n",
              "      <td>103</td>\n",
              "      <td>...</td>\n",
              "      <td>0</td>\n",
              "      <td>0</td>\n",
              "      <td>0</td>\n",
              "      <td>4.000000</td>\n",
              "      <td>494.519288</td>\n",
              "      <td>446.493660</td>\n",
              "      <td>48.025628</td>\n",
              "      <td>1</td>\n",
              "      <td>352.194197</td>\n",
              "      <td>1</td>\n",
              "    </tr>\n",
              "    <tr>\n",
              "      <th>3298</th>\n",
              "      <td>2020</td>\n",
              "      <td>651129</td>\n",
              "      <td>27</td>\n",
              "      <td>80</td>\n",
              "      <td>0</td>\n",
              "      <td>0</td>\n",
              "      <td>435.051051</td>\n",
              "      <td>4.566657</td>\n",
              "      <td>49.305011</td>\n",
              "      <td>106</td>\n",
              "      <td>...</td>\n",
              "      <td>0</td>\n",
              "      <td>0</td>\n",
              "      <td>0</td>\n",
              "      <td>2.306309</td>\n",
              "      <td>595.355204</td>\n",
              "      <td>541.483536</td>\n",
              "      <td>53.871668</td>\n",
              "      <td>1</td>\n",
              "      <td>439.617708</td>\n",
              "      <td>1</td>\n",
              "    </tr>\n",
              "    <tr>\n",
              "      <th>...</th>\n",
              "      <td>...</td>\n",
              "      <td>...</td>\n",
              "      <td>...</td>\n",
              "      <td>...</td>\n",
              "      <td>...</td>\n",
              "      <td>...</td>\n",
              "      <td>...</td>\n",
              "      <td>...</td>\n",
              "      <td>...</td>\n",
              "      <td>...</td>\n",
              "      <td>...</td>\n",
              "      <td>...</td>\n",
              "      <td>...</td>\n",
              "      <td>...</td>\n",
              "      <td>...</td>\n",
              "      <td>...</td>\n",
              "      <td>...</td>\n",
              "      <td>...</td>\n",
              "      <td>...</td>\n",
              "      <td>...</td>\n",
              "      <td>...</td>\n",
              "    </tr>\n",
              "    <tr>\n",
              "      <th>1945</th>\n",
              "      <td>2020</td>\n",
              "      <td>973331</td>\n",
              "      <td>36</td>\n",
              "      <td>119</td>\n",
              "      <td>0</td>\n",
              "      <td>0</td>\n",
              "      <td>334.200000</td>\n",
              "      <td>11.200000</td>\n",
              "      <td>37.880000</td>\n",
              "      <td>112</td>\n",
              "      <td>...</td>\n",
              "      <td>0</td>\n",
              "      <td>1</td>\n",
              "      <td>0</td>\n",
              "      <td>4.000000</td>\n",
              "      <td>495.280000</td>\n",
              "      <td>446.200000</td>\n",
              "      <td>49.080000</td>\n",
              "      <td>1</td>\n",
              "      <td>345.400000</td>\n",
              "      <td>1</td>\n",
              "    </tr>\n",
              "    <tr>\n",
              "      <th>2748</th>\n",
              "      <td>2020</td>\n",
              "      <td>626184</td>\n",
              "      <td>38</td>\n",
              "      <td>93</td>\n",
              "      <td>0</td>\n",
              "      <td>0</td>\n",
              "      <td>253.502901</td>\n",
              "      <td>11.769922</td>\n",
              "      <td>28.734671</td>\n",
              "      <td>100</td>\n",
              "      <td>...</td>\n",
              "      <td>0</td>\n",
              "      <td>0</td>\n",
              "      <td>0</td>\n",
              "      <td>3.657552</td>\n",
              "      <td>394.925461</td>\n",
              "      <td>354.420869</td>\n",
              "      <td>40.504593</td>\n",
              "      <td>0</td>\n",
              "      <td>265.272822</td>\n",
              "      <td>0</td>\n",
              "    </tr>\n",
              "    <tr>\n",
              "      <th>891</th>\n",
              "      <td>2020</td>\n",
              "      <td>518133</td>\n",
              "      <td>25</td>\n",
              "      <td>94</td>\n",
              "      <td>1</td>\n",
              "      <td>0</td>\n",
              "      <td>255.150000</td>\n",
              "      <td>8.700000</td>\n",
              "      <td>28.920000</td>\n",
              "      <td>78</td>\n",
              "      <td>...</td>\n",
              "      <td>0</td>\n",
              "      <td>1</td>\n",
              "      <td>0</td>\n",
              "      <td>2.000000</td>\n",
              "      <td>370.770000</td>\n",
              "      <td>333.150000</td>\n",
              "      <td>37.620000</td>\n",
              "      <td>0</td>\n",
              "      <td>263.850000</td>\n",
              "      <td>0</td>\n",
              "    </tr>\n",
              "    <tr>\n",
              "      <th>21</th>\n",
              "      <td>2020</td>\n",
              "      <td>108471</td>\n",
              "      <td>32</td>\n",
              "      <td>170</td>\n",
              "      <td>0</td>\n",
              "      <td>0</td>\n",
              "      <td>369.600000</td>\n",
              "      <td>9.100000</td>\n",
              "      <td>41.890000</td>\n",
              "      <td>95</td>\n",
              "      <td>...</td>\n",
              "      <td>0</td>\n",
              "      <td>0</td>\n",
              "      <td>1</td>\n",
              "      <td>3.000000</td>\n",
              "      <td>515.590000</td>\n",
              "      <td>464.600000</td>\n",
              "      <td>50.990000</td>\n",
              "      <td>1</td>\n",
              "      <td>378.700000</td>\n",
              "      <td>1</td>\n",
              "    </tr>\n",
              "    <tr>\n",
              "      <th>453</th>\n",
              "      <td>2020</td>\n",
              "      <td>302854</td>\n",
              "      <td>47</td>\n",
              "      <td>152</td>\n",
              "      <td>0</td>\n",
              "      <td>0</td>\n",
              "      <td>151.800000</td>\n",
              "      <td>7.500000</td>\n",
              "      <td>17.200000</td>\n",
              "      <td>124</td>\n",
              "      <td>...</td>\n",
              "      <td>1</td>\n",
              "      <td>0</td>\n",
              "      <td>0</td>\n",
              "      <td>5.000000</td>\n",
              "      <td>300.500000</td>\n",
              "      <td>275.800000</td>\n",
              "      <td>24.700000</td>\n",
              "      <td>0</td>\n",
              "      <td>159.300000</td>\n",
              "      <td>0</td>\n",
              "    </tr>\n",
              "  </tbody>\n",
              "</table>\n",
              "<p>682 rows × 23 columns</p>\n",
              "</div>\n",
              "    <div class=\"colab-df-buttons\">\n",
              "\n",
              "  <div class=\"colab-df-container\">\n",
              "    <button class=\"colab-df-convert\" onclick=\"convertToInteractive('df-844db260-3579-4f10-94dd-06598222cb51')\"\n",
              "            title=\"Convert this dataframe to an interactive table.\"\n",
              "            style=\"display:none;\">\n",
              "\n",
              "  <svg xmlns=\"http://www.w3.org/2000/svg\" height=\"24px\" viewBox=\"0 -960 960 960\">\n",
              "    <path d=\"M120-120v-720h720v720H120Zm60-500h600v-160H180v160Zm220 220h160v-160H400v160Zm0 220h160v-160H400v160ZM180-400h160v-160H180v160Zm440 0h160v-160H620v160ZM180-180h160v-160H180v160Zm440 0h160v-160H620v160Z\"/>\n",
              "  </svg>\n",
              "    </button>\n",
              "\n",
              "  <style>\n",
              "    .colab-df-container {\n",
              "      display:flex;\n",
              "      gap: 12px;\n",
              "    }\n",
              "\n",
              "    .colab-df-convert {\n",
              "      background-color: #E8F0FE;\n",
              "      border: none;\n",
              "      border-radius: 50%;\n",
              "      cursor: pointer;\n",
              "      display: none;\n",
              "      fill: #1967D2;\n",
              "      height: 32px;\n",
              "      padding: 0 0 0 0;\n",
              "      width: 32px;\n",
              "    }\n",
              "\n",
              "    .colab-df-convert:hover {\n",
              "      background-color: #E2EBFA;\n",
              "      box-shadow: 0px 1px 2px rgba(60, 64, 67, 0.3), 0px 1px 3px 1px rgba(60, 64, 67, 0.15);\n",
              "      fill: #174EA6;\n",
              "    }\n",
              "\n",
              "    .colab-df-buttons div {\n",
              "      margin-bottom: 4px;\n",
              "    }\n",
              "\n",
              "    [theme=dark] .colab-df-convert {\n",
              "      background-color: #3B4455;\n",
              "      fill: #D2E3FC;\n",
              "    }\n",
              "\n",
              "    [theme=dark] .colab-df-convert:hover {\n",
              "      background-color: #434B5C;\n",
              "      box-shadow: 0px 1px 3px 1px rgba(0, 0, 0, 0.15);\n",
              "      filter: drop-shadow(0px 1px 2px rgba(0, 0, 0, 0.3));\n",
              "      fill: #FFFFFF;\n",
              "    }\n",
              "  </style>\n",
              "\n",
              "    <script>\n",
              "      const buttonEl =\n",
              "        document.querySelector('#df-844db260-3579-4f10-94dd-06598222cb51 button.colab-df-convert');\n",
              "      buttonEl.style.display =\n",
              "        google.colab.kernel.accessAllowed ? 'block' : 'none';\n",
              "\n",
              "      async function convertToInteractive(key) {\n",
              "        const element = document.querySelector('#df-844db260-3579-4f10-94dd-06598222cb51');\n",
              "        const dataTable =\n",
              "          await google.colab.kernel.invokeFunction('convertToInteractive',\n",
              "                                                    [key], {});\n",
              "        if (!dataTable) return;\n",
              "\n",
              "        const docLinkHtml = 'Like what you see? Visit the ' +\n",
              "          '<a target=\"_blank\" href=https://colab.research.google.com/notebooks/data_table.ipynb>data table notebook</a>'\n",
              "          + ' to learn more about interactive tables.';\n",
              "        element.innerHTML = '';\n",
              "        dataTable['output_type'] = 'display_data';\n",
              "        await google.colab.output.renderOutput(dataTable, element);\n",
              "        const docLink = document.createElement('div');\n",
              "        docLink.innerHTML = docLinkHtml;\n",
              "        element.appendChild(docLink);\n",
              "      }\n",
              "    </script>\n",
              "  </div>\n",
              "\n",
              "\n",
              "<div id=\"df-325ae198-ab0e-433d-aa8e-b11a988656b0\">\n",
              "  <button class=\"colab-df-quickchart\" onclick=\"quickchart('df-325ae198-ab0e-433d-aa8e-b11a988656b0')\"\n",
              "            title=\"Suggest charts\"\n",
              "            style=\"display:none;\">\n",
              "\n",
              "<svg xmlns=\"http://www.w3.org/2000/svg\" height=\"24px\"viewBox=\"0 0 24 24\"\n",
              "     width=\"24px\">\n",
              "    <g>\n",
              "        <path d=\"M19 3H5c-1.1 0-2 .9-2 2v14c0 1.1.9 2 2 2h14c1.1 0 2-.9 2-2V5c0-1.1-.9-2-2-2zM9 17H7v-7h2v7zm4 0h-2V7h2v10zm4 0h-2v-4h2v4z\"/>\n",
              "    </g>\n",
              "</svg>\n",
              "  </button>\n",
              "\n",
              "<style>\n",
              "  .colab-df-quickchart {\n",
              "      --bg-color: #E8F0FE;\n",
              "      --fill-color: #1967D2;\n",
              "      --hover-bg-color: #E2EBFA;\n",
              "      --hover-fill-color: #174EA6;\n",
              "      --disabled-fill-color: #AAA;\n",
              "      --disabled-bg-color: #DDD;\n",
              "  }\n",
              "\n",
              "  [theme=dark] .colab-df-quickchart {\n",
              "      --bg-color: #3B4455;\n",
              "      --fill-color: #D2E3FC;\n",
              "      --hover-bg-color: #434B5C;\n",
              "      --hover-fill-color: #FFFFFF;\n",
              "      --disabled-bg-color: #3B4455;\n",
              "      --disabled-fill-color: #666;\n",
              "  }\n",
              "\n",
              "  .colab-df-quickchart {\n",
              "    background-color: var(--bg-color);\n",
              "    border: none;\n",
              "    border-radius: 50%;\n",
              "    cursor: pointer;\n",
              "    display: none;\n",
              "    fill: var(--fill-color);\n",
              "    height: 32px;\n",
              "    padding: 0;\n",
              "    width: 32px;\n",
              "  }\n",
              "\n",
              "  .colab-df-quickchart:hover {\n",
              "    background-color: var(--hover-bg-color);\n",
              "    box-shadow: 0 1px 2px rgba(60, 64, 67, 0.3), 0 1px 3px 1px rgba(60, 64, 67, 0.15);\n",
              "    fill: var(--button-hover-fill-color);\n",
              "  }\n",
              "\n",
              "  .colab-df-quickchart-complete:disabled,\n",
              "  .colab-df-quickchart-complete:disabled:hover {\n",
              "    background-color: var(--disabled-bg-color);\n",
              "    fill: var(--disabled-fill-color);\n",
              "    box-shadow: none;\n",
              "  }\n",
              "\n",
              "  .colab-df-spinner {\n",
              "    border: 2px solid var(--fill-color);\n",
              "    border-color: transparent;\n",
              "    border-bottom-color: var(--fill-color);\n",
              "    animation:\n",
              "      spin 1s steps(1) infinite;\n",
              "  }\n",
              "\n",
              "  @keyframes spin {\n",
              "    0% {\n",
              "      border-color: transparent;\n",
              "      border-bottom-color: var(--fill-color);\n",
              "      border-left-color: var(--fill-color);\n",
              "    }\n",
              "    20% {\n",
              "      border-color: transparent;\n",
              "      border-left-color: var(--fill-color);\n",
              "      border-top-color: var(--fill-color);\n",
              "    }\n",
              "    30% {\n",
              "      border-color: transparent;\n",
              "      border-left-color: var(--fill-color);\n",
              "      border-top-color: var(--fill-color);\n",
              "      border-right-color: var(--fill-color);\n",
              "    }\n",
              "    40% {\n",
              "      border-color: transparent;\n",
              "      border-right-color: var(--fill-color);\n",
              "      border-top-color: var(--fill-color);\n",
              "    }\n",
              "    60% {\n",
              "      border-color: transparent;\n",
              "      border-right-color: var(--fill-color);\n",
              "    }\n",
              "    80% {\n",
              "      border-color: transparent;\n",
              "      border-right-color: var(--fill-color);\n",
              "      border-bottom-color: var(--fill-color);\n",
              "    }\n",
              "    90% {\n",
              "      border-color: transparent;\n",
              "      border-bottom-color: var(--fill-color);\n",
              "    }\n",
              "  }\n",
              "</style>\n",
              "\n",
              "  <script>\n",
              "    async function quickchart(key) {\n",
              "      const quickchartButtonEl =\n",
              "        document.querySelector('#' + key + ' button');\n",
              "      quickchartButtonEl.disabled = true;  // To prevent multiple clicks.\n",
              "      quickchartButtonEl.classList.add('colab-df-spinner');\n",
              "      try {\n",
              "        const charts = await google.colab.kernel.invokeFunction(\n",
              "            'suggestCharts', [key], {});\n",
              "      } catch (error) {\n",
              "        console.error('Error during call to suggestCharts:', error);\n",
              "      }\n",
              "      quickchartButtonEl.classList.remove('colab-df-spinner');\n",
              "      quickchartButtonEl.classList.add('colab-df-quickchart-complete');\n",
              "    }\n",
              "    (() => {\n",
              "      let quickchartButtonEl =\n",
              "        document.querySelector('#df-325ae198-ab0e-433d-aa8e-b11a988656b0 button');\n",
              "      quickchartButtonEl.style.display =\n",
              "        google.colab.kernel.accessAllowed ? 'block' : 'none';\n",
              "    })();\n",
              "  </script>\n",
              "</div>\n",
              "    </div>\n",
              "  </div>\n"
            ]
          },
          "metadata": {},
          "execution_count": 146
        }
      ],
      "source": [
        "X_test"
      ]
    },
    {
      "cell_type": "code",
      "execution_count": 147,
      "metadata": {
        "id": "NnsXgbCxAiP_",
        "colab": {
          "base_uri": "https://localhost:8080/"
        },
        "outputId": "e83ff16a-e623-447d-9b34-5589f3d8fdfe"
      },
      "outputs": [
        {
          "output_type": "execute_result",
          "data": {
            "text/plain": [
              "2378    1.0\n",
              "2152    1.0\n",
              "1919    0.0\n",
              "3012    1.0\n",
              "757     0.0\n",
              "       ... \n",
              "2039    1.0\n",
              "1057    0.0\n",
              "140     0.0\n",
              "2106    1.0\n",
              "1247    0.0\n",
              "Name: churn, Length: 2724, dtype: float64"
            ]
          },
          "metadata": {},
          "execution_count": 147
        }
      ],
      "source": [
        "Y_train"
      ]
    },
    {
      "cell_type": "code",
      "execution_count": 148,
      "metadata": {
        "id": "rfUP6mfoAkBi",
        "colab": {
          "base_uri": "https://localhost:8080/"
        },
        "outputId": "16b9d9e6-35e5-421e-e7d8-c97f76b0f03d"
      },
      "outputs": [
        {
          "output_type": "execute_result",
          "data": {
            "text/plain": [
              "2271    1.0\n",
              "1154    0.0\n",
              "1278    0.0\n",
              "2978    1.0\n",
              "3298    1.0\n",
              "       ... \n",
              "1945    0.0\n",
              "2748    1.0\n",
              "891     0.0\n",
              "21      0.0\n",
              "453     0.0\n",
              "Name: churn, Length: 682, dtype: float64"
            ]
          },
          "metadata": {},
          "execution_count": 148
        }
      ],
      "source": [
        "Y_test"
      ]
    },
    {
      "cell_type": "markdown",
      "metadata": {
        "id": "8n2miI_ZIb63"
      },
      "source": [
        "# **LOGISTIC REGRESSION**"
      ]
    },
    {
      "cell_type": "code",
      "execution_count": 149,
      "metadata": {
        "id": "tpsoaeYwAmfl"
      },
      "outputs": [],
      "source": [
        "from sklearn.linear_model import LogisticRegression"
      ]
    },
    {
      "cell_type": "code",
      "execution_count": 150,
      "metadata": {
        "id": "f6e_5qqrApc8",
        "colab": {
          "base_uri": "https://localhost:8080/",
          "height": 74
        },
        "outputId": "c1070d52-20d2-4ecd-89b7-4d31ab1f317c"
      },
      "outputs": [
        {
          "output_type": "execute_result",
          "data": {
            "text/plain": [
              "LogisticRegression()"
            ],
            "text/html": [
              "<style>#sk-container-id-1 {color: black;background-color: white;}#sk-container-id-1 pre{padding: 0;}#sk-container-id-1 div.sk-toggleable {background-color: white;}#sk-container-id-1 label.sk-toggleable__label {cursor: pointer;display: block;width: 100%;margin-bottom: 0;padding: 0.3em;box-sizing: border-box;text-align: center;}#sk-container-id-1 label.sk-toggleable__label-arrow:before {content: \"▸\";float: left;margin-right: 0.25em;color: #696969;}#sk-container-id-1 label.sk-toggleable__label-arrow:hover:before {color: black;}#sk-container-id-1 div.sk-estimator:hover label.sk-toggleable__label-arrow:before {color: black;}#sk-container-id-1 div.sk-toggleable__content {max-height: 0;max-width: 0;overflow: hidden;text-align: left;background-color: #f0f8ff;}#sk-container-id-1 div.sk-toggleable__content pre {margin: 0.2em;color: black;border-radius: 0.25em;background-color: #f0f8ff;}#sk-container-id-1 input.sk-toggleable__control:checked~div.sk-toggleable__content {max-height: 200px;max-width: 100%;overflow: auto;}#sk-container-id-1 input.sk-toggleable__control:checked~label.sk-toggleable__label-arrow:before {content: \"▾\";}#sk-container-id-1 div.sk-estimator input.sk-toggleable__control:checked~label.sk-toggleable__label {background-color: #d4ebff;}#sk-container-id-1 div.sk-label input.sk-toggleable__control:checked~label.sk-toggleable__label {background-color: #d4ebff;}#sk-container-id-1 input.sk-hidden--visually {border: 0;clip: rect(1px 1px 1px 1px);clip: rect(1px, 1px, 1px, 1px);height: 1px;margin: -1px;overflow: hidden;padding: 0;position: absolute;width: 1px;}#sk-container-id-1 div.sk-estimator {font-family: monospace;background-color: #f0f8ff;border: 1px dotted black;border-radius: 0.25em;box-sizing: border-box;margin-bottom: 0.5em;}#sk-container-id-1 div.sk-estimator:hover {background-color: #d4ebff;}#sk-container-id-1 div.sk-parallel-item::after {content: \"\";width: 100%;border-bottom: 1px solid gray;flex-grow: 1;}#sk-container-id-1 div.sk-label:hover label.sk-toggleable__label {background-color: #d4ebff;}#sk-container-id-1 div.sk-serial::before {content: \"\";position: absolute;border-left: 1px solid gray;box-sizing: border-box;top: 0;bottom: 0;left: 50%;z-index: 0;}#sk-container-id-1 div.sk-serial {display: flex;flex-direction: column;align-items: center;background-color: white;padding-right: 0.2em;padding-left: 0.2em;position: relative;}#sk-container-id-1 div.sk-item {position: relative;z-index: 1;}#sk-container-id-1 div.sk-parallel {display: flex;align-items: stretch;justify-content: center;background-color: white;position: relative;}#sk-container-id-1 div.sk-item::before, #sk-container-id-1 div.sk-parallel-item::before {content: \"\";position: absolute;border-left: 1px solid gray;box-sizing: border-box;top: 0;bottom: 0;left: 50%;z-index: -1;}#sk-container-id-1 div.sk-parallel-item {display: flex;flex-direction: column;z-index: 1;position: relative;background-color: white;}#sk-container-id-1 div.sk-parallel-item:first-child::after {align-self: flex-end;width: 50%;}#sk-container-id-1 div.sk-parallel-item:last-child::after {align-self: flex-start;width: 50%;}#sk-container-id-1 div.sk-parallel-item:only-child::after {width: 0;}#sk-container-id-1 div.sk-dashed-wrapped {border: 1px dashed gray;margin: 0 0.4em 0.5em 0.4em;box-sizing: border-box;padding-bottom: 0.4em;background-color: white;}#sk-container-id-1 div.sk-label label {font-family: monospace;font-weight: bold;display: inline-block;line-height: 1.2em;}#sk-container-id-1 div.sk-label-container {text-align: center;}#sk-container-id-1 div.sk-container {/* jupyter's `normalize.less` sets `[hidden] { display: none; }` but bootstrap.min.css set `[hidden] { display: none !important; }` so we also need the `!important` here to be able to override the default hidden behavior on the sphinx rendered scikit-learn.org. See: https://github.com/scikit-learn/scikit-learn/issues/21755 */display: inline-block !important;position: relative;}#sk-container-id-1 div.sk-text-repr-fallback {display: none;}</style><div id=\"sk-container-id-1\" class=\"sk-top-container\"><div class=\"sk-text-repr-fallback\"><pre>LogisticRegression()</pre><b>In a Jupyter environment, please rerun this cell to show the HTML representation or trust the notebook. <br />On GitHub, the HTML representation is unable to render, please try loading this page with nbviewer.org.</b></div><div class=\"sk-container\" hidden><div class=\"sk-item\"><div class=\"sk-estimator sk-toggleable\"><input class=\"sk-toggleable__control sk-hidden--visually\" id=\"sk-estimator-id-1\" type=\"checkbox\" checked><label for=\"sk-estimator-id-1\" class=\"sk-toggleable__label sk-toggleable__label-arrow\">LogisticRegression</label><div class=\"sk-toggleable__content\"><pre>LogisticRegression()</pre></div></div></div></div></div>"
            ]
          },
          "metadata": {},
          "execution_count": 150
        }
      ],
      "source": [
        "model1 = LogisticRegression()\n",
        "model1"
      ]
    },
    {
      "cell_type": "code",
      "execution_count": 151,
      "metadata": {
        "id": "ZLMmY2I4AuH0",
        "colab": {
          "base_uri": "https://localhost:8080/"
        },
        "outputId": "4db0df4b-6ddc-4ab4-fc39-33aae29d58e0"
      },
      "outputs": [
        {
          "output_type": "execute_result",
          "data": {
            "text/plain": [
              "year                         int64\n",
              "customer_id                  int64\n",
              "age                          int64\n",
              "no_of_days_subscribed        int64\n",
              "multi_screen                 int64\n",
              "mail_subscribed              int64\n",
              "weekly_mins_watched        float64\n",
              "minimum_daily_mins         float64\n",
              "maximum_daily_mins         float64\n",
              "weekly_max_night_mins        int64\n",
              "videos_watched               int64\n",
              "maximum_days_inactive      float64\n",
              "customer_support_calls       int64\n",
              "churn                      float64\n",
              "Female                       uint8\n",
              "Male                         uint8\n",
              "other                        uint8\n",
              "age_group_numeric          float64\n",
              "total_time_spent           float64\n",
              "total_weekly_mins          float64\n",
              "total_daily_mins           float64\n",
              "time_threshold_exceeded      int64\n",
              "engagement_score           float64\n",
              "engagement_segment           int64\n",
              "dtype: object"
            ]
          },
          "metadata": {},
          "execution_count": 151
        }
      ],
      "source": [
        "data.dtypes"
      ]
    },
    {
      "cell_type": "code",
      "execution_count": 152,
      "metadata": {
        "id": "31XHHaOoAvqc",
        "colab": {
          "base_uri": "https://localhost:8080/",
          "height": 443
        },
        "outputId": "099e742a-fc6a-492d-acec-bd4711f33950"
      },
      "outputs": [
        {
          "output_type": "execute_result",
          "data": {
            "text/plain": [
              "      year  customer_id  age  no_of_days_subscribed  multi_screen  \\\n",
              "0     2020       100198   36                     62             0   \n",
              "1     2020       100643   39                    149             0   \n",
              "2     2020       100756   65                    126             0   \n",
              "3     2020       101595   24                    131             0   \n",
              "4     2020       101653   40                    191             0   \n",
              "...    ...          ...  ...                    ...           ...   \n",
              "1995  2020       997132   54                     75             0   \n",
              "1996  2020       998086   45                    127             0   \n",
              "1997  2020       998474   53                     94             0   \n",
              "1998  2020       998934   40                     94             0   \n",
              "1999  2020       999961   37                     73             0   \n",
              "\n",
              "      mail_subscribed  weekly_mins_watched  minimum_daily_mins  \\\n",
              "0                   0               148.35                12.2   \n",
              "1                   0               294.45                 7.7   \n",
              "2                   0                87.30                11.9   \n",
              "3                   1               321.30                 9.5   \n",
              "4                   0               243.00                10.9   \n",
              "...               ...                  ...                 ...   \n",
              "1995                1               182.25                11.3   \n",
              "1996                0               273.45                 9.3   \n",
              "1997                0               128.85                15.6   \n",
              "1998                0               178.05                10.4   \n",
              "1999                0               326.70                10.3   \n",
              "\n",
              "      maximum_daily_mins  weekly_max_night_mins  ...  Female  Male  other  \\\n",
              "0                  16.81                     82  ...       1     0      0   \n",
              "1                  33.37                     87  ...       1     0      0   \n",
              "2                   9.89                     91  ...       1     0      0   \n",
              "3                  36.41                    102  ...       1     0      0   \n",
              "4                  27.54                     83  ...       1     0      0   \n",
              "...                  ...                    ...  ...     ...   ...    ...   \n",
              "1995               20.66                     97  ...       1     0      0   \n",
              "1996               30.99                    116  ...       0     1      0   \n",
              "1997               14.60                    110  ...       0     0      1   \n",
              "1998               20.18                    100  ...       0     1      0   \n",
              "1999               37.03                     89  ...       0     1      0   \n",
              "\n",
              "      age_group_numeric  total_time_spent  total_weekly_mins  \\\n",
              "0                   4.0            259.36             230.35   \n",
              "1                   4.0            422.52             381.45   \n",
              "2                   6.0            200.09             178.30   \n",
              "3                   2.0            469.21             423.30   \n",
              "4                   4.0            364.44             326.00   \n",
              "...                 ...               ...                ...   \n",
              "1995                5.0            311.21             279.25   \n",
              "1996                4.0            429.74             389.45   \n",
              "1997                5.0            269.05             238.85   \n",
              "1998                4.0            308.63             278.05   \n",
              "1999                4.0            463.03             415.70   \n",
              "\n",
              "      total_daily_mins  time_threshold_exceeded  engagement_score  \\\n",
              "0                29.01                        0            160.55   \n",
              "1                41.07                        1            302.15   \n",
              "2                21.79                        0             99.20   \n",
              "3                45.91                        1            330.80   \n",
              "4                38.44                        0            253.90   \n",
              "...                ...                      ...               ...   \n",
              "1995             31.96                        0            193.55   \n",
              "1996             40.29                        1            282.75   \n",
              "1997             30.20                        0            144.45   \n",
              "1998             30.58                        0            188.45   \n",
              "1999             47.33                        1            337.00   \n",
              "\n",
              "      engagement_segment  \n",
              "0                      0  \n",
              "1                      1  \n",
              "2                      0  \n",
              "3                      1  \n",
              "4                      0  \n",
              "...                  ...  \n",
              "1995                   0  \n",
              "1996                   0  \n",
              "1997                   0  \n",
              "1998                   0  \n",
              "1999                   1  \n",
              "\n",
              "[2000 rows x 24 columns]"
            ],
            "text/html": [
              "\n",
              "  <div id=\"df-cc7fb97a-8e85-49e9-b044-a339c3ecba41\" class=\"colab-df-container\">\n",
              "    <div>\n",
              "<style scoped>\n",
              "    .dataframe tbody tr th:only-of-type {\n",
              "        vertical-align: middle;\n",
              "    }\n",
              "\n",
              "    .dataframe tbody tr th {\n",
              "        vertical-align: top;\n",
              "    }\n",
              "\n",
              "    .dataframe thead th {\n",
              "        text-align: right;\n",
              "    }\n",
              "</style>\n",
              "<table border=\"1\" class=\"dataframe\">\n",
              "  <thead>\n",
              "    <tr style=\"text-align: right;\">\n",
              "      <th></th>\n",
              "      <th>year</th>\n",
              "      <th>customer_id</th>\n",
              "      <th>age</th>\n",
              "      <th>no_of_days_subscribed</th>\n",
              "      <th>multi_screen</th>\n",
              "      <th>mail_subscribed</th>\n",
              "      <th>weekly_mins_watched</th>\n",
              "      <th>minimum_daily_mins</th>\n",
              "      <th>maximum_daily_mins</th>\n",
              "      <th>weekly_max_night_mins</th>\n",
              "      <th>...</th>\n",
              "      <th>Female</th>\n",
              "      <th>Male</th>\n",
              "      <th>other</th>\n",
              "      <th>age_group_numeric</th>\n",
              "      <th>total_time_spent</th>\n",
              "      <th>total_weekly_mins</th>\n",
              "      <th>total_daily_mins</th>\n",
              "      <th>time_threshold_exceeded</th>\n",
              "      <th>engagement_score</th>\n",
              "      <th>engagement_segment</th>\n",
              "    </tr>\n",
              "  </thead>\n",
              "  <tbody>\n",
              "    <tr>\n",
              "      <th>0</th>\n",
              "      <td>2020</td>\n",
              "      <td>100198</td>\n",
              "      <td>36</td>\n",
              "      <td>62</td>\n",
              "      <td>0</td>\n",
              "      <td>0</td>\n",
              "      <td>148.35</td>\n",
              "      <td>12.2</td>\n",
              "      <td>16.81</td>\n",
              "      <td>82</td>\n",
              "      <td>...</td>\n",
              "      <td>1</td>\n",
              "      <td>0</td>\n",
              "      <td>0</td>\n",
              "      <td>4.0</td>\n",
              "      <td>259.36</td>\n",
              "      <td>230.35</td>\n",
              "      <td>29.01</td>\n",
              "      <td>0</td>\n",
              "      <td>160.55</td>\n",
              "      <td>0</td>\n",
              "    </tr>\n",
              "    <tr>\n",
              "      <th>1</th>\n",
              "      <td>2020</td>\n",
              "      <td>100643</td>\n",
              "      <td>39</td>\n",
              "      <td>149</td>\n",
              "      <td>0</td>\n",
              "      <td>0</td>\n",
              "      <td>294.45</td>\n",
              "      <td>7.7</td>\n",
              "      <td>33.37</td>\n",
              "      <td>87</td>\n",
              "      <td>...</td>\n",
              "      <td>1</td>\n",
              "      <td>0</td>\n",
              "      <td>0</td>\n",
              "      <td>4.0</td>\n",
              "      <td>422.52</td>\n",
              "      <td>381.45</td>\n",
              "      <td>41.07</td>\n",
              "      <td>1</td>\n",
              "      <td>302.15</td>\n",
              "      <td>1</td>\n",
              "    </tr>\n",
              "    <tr>\n",
              "      <th>2</th>\n",
              "      <td>2020</td>\n",
              "      <td>100756</td>\n",
              "      <td>65</td>\n",
              "      <td>126</td>\n",
              "      <td>0</td>\n",
              "      <td>0</td>\n",
              "      <td>87.30</td>\n",
              "      <td>11.9</td>\n",
              "      <td>9.89</td>\n",
              "      <td>91</td>\n",
              "      <td>...</td>\n",
              "      <td>1</td>\n",
              "      <td>0</td>\n",
              "      <td>0</td>\n",
              "      <td>6.0</td>\n",
              "      <td>200.09</td>\n",
              "      <td>178.30</td>\n",
              "      <td>21.79</td>\n",
              "      <td>0</td>\n",
              "      <td>99.20</td>\n",
              "      <td>0</td>\n",
              "    </tr>\n",
              "    <tr>\n",
              "      <th>3</th>\n",
              "      <td>2020</td>\n",
              "      <td>101595</td>\n",
              "      <td>24</td>\n",
              "      <td>131</td>\n",
              "      <td>0</td>\n",
              "      <td>1</td>\n",
              "      <td>321.30</td>\n",
              "      <td>9.5</td>\n",
              "      <td>36.41</td>\n",
              "      <td>102</td>\n",
              "      <td>...</td>\n",
              "      <td>1</td>\n",
              "      <td>0</td>\n",
              "      <td>0</td>\n",
              "      <td>2.0</td>\n",
              "      <td>469.21</td>\n",
              "      <td>423.30</td>\n",
              "      <td>45.91</td>\n",
              "      <td>1</td>\n",
              "      <td>330.80</td>\n",
              "      <td>1</td>\n",
              "    </tr>\n",
              "    <tr>\n",
              "      <th>4</th>\n",
              "      <td>2020</td>\n",
              "      <td>101653</td>\n",
              "      <td>40</td>\n",
              "      <td>191</td>\n",
              "      <td>0</td>\n",
              "      <td>0</td>\n",
              "      <td>243.00</td>\n",
              "      <td>10.9</td>\n",
              "      <td>27.54</td>\n",
              "      <td>83</td>\n",
              "      <td>...</td>\n",
              "      <td>1</td>\n",
              "      <td>0</td>\n",
              "      <td>0</td>\n",
              "      <td>4.0</td>\n",
              "      <td>364.44</td>\n",
              "      <td>326.00</td>\n",
              "      <td>38.44</td>\n",
              "      <td>0</td>\n",
              "      <td>253.90</td>\n",
              "      <td>0</td>\n",
              "    </tr>\n",
              "    <tr>\n",
              "      <th>...</th>\n",
              "      <td>...</td>\n",
              "      <td>...</td>\n",
              "      <td>...</td>\n",
              "      <td>...</td>\n",
              "      <td>...</td>\n",
              "      <td>...</td>\n",
              "      <td>...</td>\n",
              "      <td>...</td>\n",
              "      <td>...</td>\n",
              "      <td>...</td>\n",
              "      <td>...</td>\n",
              "      <td>...</td>\n",
              "      <td>...</td>\n",
              "      <td>...</td>\n",
              "      <td>...</td>\n",
              "      <td>...</td>\n",
              "      <td>...</td>\n",
              "      <td>...</td>\n",
              "      <td>...</td>\n",
              "      <td>...</td>\n",
              "      <td>...</td>\n",
              "    </tr>\n",
              "    <tr>\n",
              "      <th>1995</th>\n",
              "      <td>2020</td>\n",
              "      <td>997132</td>\n",
              "      <td>54</td>\n",
              "      <td>75</td>\n",
              "      <td>0</td>\n",
              "      <td>1</td>\n",
              "      <td>182.25</td>\n",
              "      <td>11.3</td>\n",
              "      <td>20.66</td>\n",
              "      <td>97</td>\n",
              "      <td>...</td>\n",
              "      <td>1</td>\n",
              "      <td>0</td>\n",
              "      <td>0</td>\n",
              "      <td>5.0</td>\n",
              "      <td>311.21</td>\n",
              "      <td>279.25</td>\n",
              "      <td>31.96</td>\n",
              "      <td>0</td>\n",
              "      <td>193.55</td>\n",
              "      <td>0</td>\n",
              "    </tr>\n",
              "    <tr>\n",
              "      <th>1996</th>\n",
              "      <td>2020</td>\n",
              "      <td>998086</td>\n",
              "      <td>45</td>\n",
              "      <td>127</td>\n",
              "      <td>0</td>\n",
              "      <td>0</td>\n",
              "      <td>273.45</td>\n",
              "      <td>9.3</td>\n",
              "      <td>30.99</td>\n",
              "      <td>116</td>\n",
              "      <td>...</td>\n",
              "      <td>0</td>\n",
              "      <td>1</td>\n",
              "      <td>0</td>\n",
              "      <td>4.0</td>\n",
              "      <td>429.74</td>\n",
              "      <td>389.45</td>\n",
              "      <td>40.29</td>\n",
              "      <td>1</td>\n",
              "      <td>282.75</td>\n",
              "      <td>0</td>\n",
              "    </tr>\n",
              "    <tr>\n",
              "      <th>1997</th>\n",
              "      <td>2020</td>\n",
              "      <td>998474</td>\n",
              "      <td>53</td>\n",
              "      <td>94</td>\n",
              "      <td>0</td>\n",
              "      <td>0</td>\n",
              "      <td>128.85</td>\n",
              "      <td>15.6</td>\n",
              "      <td>14.60</td>\n",
              "      <td>110</td>\n",
              "      <td>...</td>\n",
              "      <td>0</td>\n",
              "      <td>0</td>\n",
              "      <td>1</td>\n",
              "      <td>5.0</td>\n",
              "      <td>269.05</td>\n",
              "      <td>238.85</td>\n",
              "      <td>30.20</td>\n",
              "      <td>0</td>\n",
              "      <td>144.45</td>\n",
              "      <td>0</td>\n",
              "    </tr>\n",
              "    <tr>\n",
              "      <th>1998</th>\n",
              "      <td>2020</td>\n",
              "      <td>998934</td>\n",
              "      <td>40</td>\n",
              "      <td>94</td>\n",
              "      <td>0</td>\n",
              "      <td>0</td>\n",
              "      <td>178.05</td>\n",
              "      <td>10.4</td>\n",
              "      <td>20.18</td>\n",
              "      <td>100</td>\n",
              "      <td>...</td>\n",
              "      <td>0</td>\n",
              "      <td>1</td>\n",
              "      <td>0</td>\n",
              "      <td>4.0</td>\n",
              "      <td>308.63</td>\n",
              "      <td>278.05</td>\n",
              "      <td>30.58</td>\n",
              "      <td>0</td>\n",
              "      <td>188.45</td>\n",
              "      <td>0</td>\n",
              "    </tr>\n",
              "    <tr>\n",
              "      <th>1999</th>\n",
              "      <td>2020</td>\n",
              "      <td>999961</td>\n",
              "      <td>37</td>\n",
              "      <td>73</td>\n",
              "      <td>0</td>\n",
              "      <td>0</td>\n",
              "      <td>326.70</td>\n",
              "      <td>10.3</td>\n",
              "      <td>37.03</td>\n",
              "      <td>89</td>\n",
              "      <td>...</td>\n",
              "      <td>0</td>\n",
              "      <td>1</td>\n",
              "      <td>0</td>\n",
              "      <td>4.0</td>\n",
              "      <td>463.03</td>\n",
              "      <td>415.70</td>\n",
              "      <td>47.33</td>\n",
              "      <td>1</td>\n",
              "      <td>337.00</td>\n",
              "      <td>1</td>\n",
              "    </tr>\n",
              "  </tbody>\n",
              "</table>\n",
              "<p>2000 rows × 24 columns</p>\n",
              "</div>\n",
              "    <div class=\"colab-df-buttons\">\n",
              "\n",
              "  <div class=\"colab-df-container\">\n",
              "    <button class=\"colab-df-convert\" onclick=\"convertToInteractive('df-cc7fb97a-8e85-49e9-b044-a339c3ecba41')\"\n",
              "            title=\"Convert this dataframe to an interactive table.\"\n",
              "            style=\"display:none;\">\n",
              "\n",
              "  <svg xmlns=\"http://www.w3.org/2000/svg\" height=\"24px\" viewBox=\"0 -960 960 960\">\n",
              "    <path d=\"M120-120v-720h720v720H120Zm60-500h600v-160H180v160Zm220 220h160v-160H400v160Zm0 220h160v-160H400v160ZM180-400h160v-160H180v160Zm440 0h160v-160H620v160ZM180-180h160v-160H180v160Zm440 0h160v-160H620v160Z\"/>\n",
              "  </svg>\n",
              "    </button>\n",
              "\n",
              "  <style>\n",
              "    .colab-df-container {\n",
              "      display:flex;\n",
              "      gap: 12px;\n",
              "    }\n",
              "\n",
              "    .colab-df-convert {\n",
              "      background-color: #E8F0FE;\n",
              "      border: none;\n",
              "      border-radius: 50%;\n",
              "      cursor: pointer;\n",
              "      display: none;\n",
              "      fill: #1967D2;\n",
              "      height: 32px;\n",
              "      padding: 0 0 0 0;\n",
              "      width: 32px;\n",
              "    }\n",
              "\n",
              "    .colab-df-convert:hover {\n",
              "      background-color: #E2EBFA;\n",
              "      box-shadow: 0px 1px 2px rgba(60, 64, 67, 0.3), 0px 1px 3px 1px rgba(60, 64, 67, 0.15);\n",
              "      fill: #174EA6;\n",
              "    }\n",
              "\n",
              "    .colab-df-buttons div {\n",
              "      margin-bottom: 4px;\n",
              "    }\n",
              "\n",
              "    [theme=dark] .colab-df-convert {\n",
              "      background-color: #3B4455;\n",
              "      fill: #D2E3FC;\n",
              "    }\n",
              "\n",
              "    [theme=dark] .colab-df-convert:hover {\n",
              "      background-color: #434B5C;\n",
              "      box-shadow: 0px 1px 3px 1px rgba(0, 0, 0, 0.15);\n",
              "      filter: drop-shadow(0px 1px 2px rgba(0, 0, 0, 0.3));\n",
              "      fill: #FFFFFF;\n",
              "    }\n",
              "  </style>\n",
              "\n",
              "    <script>\n",
              "      const buttonEl =\n",
              "        document.querySelector('#df-cc7fb97a-8e85-49e9-b044-a339c3ecba41 button.colab-df-convert');\n",
              "      buttonEl.style.display =\n",
              "        google.colab.kernel.accessAllowed ? 'block' : 'none';\n",
              "\n",
              "      async function convertToInteractive(key) {\n",
              "        const element = document.querySelector('#df-cc7fb97a-8e85-49e9-b044-a339c3ecba41');\n",
              "        const dataTable =\n",
              "          await google.colab.kernel.invokeFunction('convertToInteractive',\n",
              "                                                    [key], {});\n",
              "        if (!dataTable) return;\n",
              "\n",
              "        const docLinkHtml = 'Like what you see? Visit the ' +\n",
              "          '<a target=\"_blank\" href=https://colab.research.google.com/notebooks/data_table.ipynb>data table notebook</a>'\n",
              "          + ' to learn more about interactive tables.';\n",
              "        element.innerHTML = '';\n",
              "        dataTable['output_type'] = 'display_data';\n",
              "        await google.colab.output.renderOutput(dataTable, element);\n",
              "        const docLink = document.createElement('div');\n",
              "        docLink.innerHTML = docLinkHtml;\n",
              "        element.appendChild(docLink);\n",
              "      }\n",
              "    </script>\n",
              "  </div>\n",
              "\n",
              "\n",
              "<div id=\"df-1293d412-fab2-42a4-9787-25c1d2bbfd39\">\n",
              "  <button class=\"colab-df-quickchart\" onclick=\"quickchart('df-1293d412-fab2-42a4-9787-25c1d2bbfd39')\"\n",
              "            title=\"Suggest charts\"\n",
              "            style=\"display:none;\">\n",
              "\n",
              "<svg xmlns=\"http://www.w3.org/2000/svg\" height=\"24px\"viewBox=\"0 0 24 24\"\n",
              "     width=\"24px\">\n",
              "    <g>\n",
              "        <path d=\"M19 3H5c-1.1 0-2 .9-2 2v14c0 1.1.9 2 2 2h14c1.1 0 2-.9 2-2V5c0-1.1-.9-2-2-2zM9 17H7v-7h2v7zm4 0h-2V7h2v10zm4 0h-2v-4h2v4z\"/>\n",
              "    </g>\n",
              "</svg>\n",
              "  </button>\n",
              "\n",
              "<style>\n",
              "  .colab-df-quickchart {\n",
              "      --bg-color: #E8F0FE;\n",
              "      --fill-color: #1967D2;\n",
              "      --hover-bg-color: #E2EBFA;\n",
              "      --hover-fill-color: #174EA6;\n",
              "      --disabled-fill-color: #AAA;\n",
              "      --disabled-bg-color: #DDD;\n",
              "  }\n",
              "\n",
              "  [theme=dark] .colab-df-quickchart {\n",
              "      --bg-color: #3B4455;\n",
              "      --fill-color: #D2E3FC;\n",
              "      --hover-bg-color: #434B5C;\n",
              "      --hover-fill-color: #FFFFFF;\n",
              "      --disabled-bg-color: #3B4455;\n",
              "      --disabled-fill-color: #666;\n",
              "  }\n",
              "\n",
              "  .colab-df-quickchart {\n",
              "    background-color: var(--bg-color);\n",
              "    border: none;\n",
              "    border-radius: 50%;\n",
              "    cursor: pointer;\n",
              "    display: none;\n",
              "    fill: var(--fill-color);\n",
              "    height: 32px;\n",
              "    padding: 0;\n",
              "    width: 32px;\n",
              "  }\n",
              "\n",
              "  .colab-df-quickchart:hover {\n",
              "    background-color: var(--hover-bg-color);\n",
              "    box-shadow: 0 1px 2px rgba(60, 64, 67, 0.3), 0 1px 3px 1px rgba(60, 64, 67, 0.15);\n",
              "    fill: var(--button-hover-fill-color);\n",
              "  }\n",
              "\n",
              "  .colab-df-quickchart-complete:disabled,\n",
              "  .colab-df-quickchart-complete:disabled:hover {\n",
              "    background-color: var(--disabled-bg-color);\n",
              "    fill: var(--disabled-fill-color);\n",
              "    box-shadow: none;\n",
              "  }\n",
              "\n",
              "  .colab-df-spinner {\n",
              "    border: 2px solid var(--fill-color);\n",
              "    border-color: transparent;\n",
              "    border-bottom-color: var(--fill-color);\n",
              "    animation:\n",
              "      spin 1s steps(1) infinite;\n",
              "  }\n",
              "\n",
              "  @keyframes spin {\n",
              "    0% {\n",
              "      border-color: transparent;\n",
              "      border-bottom-color: var(--fill-color);\n",
              "      border-left-color: var(--fill-color);\n",
              "    }\n",
              "    20% {\n",
              "      border-color: transparent;\n",
              "      border-left-color: var(--fill-color);\n",
              "      border-top-color: var(--fill-color);\n",
              "    }\n",
              "    30% {\n",
              "      border-color: transparent;\n",
              "      border-left-color: var(--fill-color);\n",
              "      border-top-color: var(--fill-color);\n",
              "      border-right-color: var(--fill-color);\n",
              "    }\n",
              "    40% {\n",
              "      border-color: transparent;\n",
              "      border-right-color: var(--fill-color);\n",
              "      border-top-color: var(--fill-color);\n",
              "    }\n",
              "    60% {\n",
              "      border-color: transparent;\n",
              "      border-right-color: var(--fill-color);\n",
              "    }\n",
              "    80% {\n",
              "      border-color: transparent;\n",
              "      border-right-color: var(--fill-color);\n",
              "      border-bottom-color: var(--fill-color);\n",
              "    }\n",
              "    90% {\n",
              "      border-color: transparent;\n",
              "      border-bottom-color: var(--fill-color);\n",
              "    }\n",
              "  }\n",
              "</style>\n",
              "\n",
              "  <script>\n",
              "    async function quickchart(key) {\n",
              "      const quickchartButtonEl =\n",
              "        document.querySelector('#' + key + ' button');\n",
              "      quickchartButtonEl.disabled = true;  // To prevent multiple clicks.\n",
              "      quickchartButtonEl.classList.add('colab-df-spinner');\n",
              "      try {\n",
              "        const charts = await google.colab.kernel.invokeFunction(\n",
              "            'suggestCharts', [key], {});\n",
              "      } catch (error) {\n",
              "        console.error('Error during call to suggestCharts:', error);\n",
              "      }\n",
              "      quickchartButtonEl.classList.remove('colab-df-spinner');\n",
              "      quickchartButtonEl.classList.add('colab-df-quickchart-complete');\n",
              "    }\n",
              "    (() => {\n",
              "      let quickchartButtonEl =\n",
              "        document.querySelector('#df-1293d412-fab2-42a4-9787-25c1d2bbfd39 button');\n",
              "      quickchartButtonEl.style.display =\n",
              "        google.colab.kernel.accessAllowed ? 'block' : 'none';\n",
              "    })();\n",
              "  </script>\n",
              "</div>\n",
              "    </div>\n",
              "  </div>\n"
            ]
          },
          "metadata": {},
          "execution_count": 152
        }
      ],
      "source": [
        "data"
      ]
    },
    {
      "cell_type": "code",
      "execution_count": 153,
      "metadata": {
        "id": "2e6dND11A4PI",
        "colab": {
          "base_uri": "https://localhost:8080/",
          "height": 74
        },
        "outputId": "7279ea64-3dbe-4f25-fd95-4c9ccfa50ed3"
      },
      "outputs": [
        {
          "output_type": "execute_result",
          "data": {
            "text/plain": [
              "LogisticRegression()"
            ],
            "text/html": [
              "<style>#sk-container-id-2 {color: black;background-color: white;}#sk-container-id-2 pre{padding: 0;}#sk-container-id-2 div.sk-toggleable {background-color: white;}#sk-container-id-2 label.sk-toggleable__label {cursor: pointer;display: block;width: 100%;margin-bottom: 0;padding: 0.3em;box-sizing: border-box;text-align: center;}#sk-container-id-2 label.sk-toggleable__label-arrow:before {content: \"▸\";float: left;margin-right: 0.25em;color: #696969;}#sk-container-id-2 label.sk-toggleable__label-arrow:hover:before {color: black;}#sk-container-id-2 div.sk-estimator:hover label.sk-toggleable__label-arrow:before {color: black;}#sk-container-id-2 div.sk-toggleable__content {max-height: 0;max-width: 0;overflow: hidden;text-align: left;background-color: #f0f8ff;}#sk-container-id-2 div.sk-toggleable__content pre {margin: 0.2em;color: black;border-radius: 0.25em;background-color: #f0f8ff;}#sk-container-id-2 input.sk-toggleable__control:checked~div.sk-toggleable__content {max-height: 200px;max-width: 100%;overflow: auto;}#sk-container-id-2 input.sk-toggleable__control:checked~label.sk-toggleable__label-arrow:before {content: \"▾\";}#sk-container-id-2 div.sk-estimator input.sk-toggleable__control:checked~label.sk-toggleable__label {background-color: #d4ebff;}#sk-container-id-2 div.sk-label input.sk-toggleable__control:checked~label.sk-toggleable__label {background-color: #d4ebff;}#sk-container-id-2 input.sk-hidden--visually {border: 0;clip: rect(1px 1px 1px 1px);clip: rect(1px, 1px, 1px, 1px);height: 1px;margin: -1px;overflow: hidden;padding: 0;position: absolute;width: 1px;}#sk-container-id-2 div.sk-estimator {font-family: monospace;background-color: #f0f8ff;border: 1px dotted black;border-radius: 0.25em;box-sizing: border-box;margin-bottom: 0.5em;}#sk-container-id-2 div.sk-estimator:hover {background-color: #d4ebff;}#sk-container-id-2 div.sk-parallel-item::after {content: \"\";width: 100%;border-bottom: 1px solid gray;flex-grow: 1;}#sk-container-id-2 div.sk-label:hover label.sk-toggleable__label {background-color: #d4ebff;}#sk-container-id-2 div.sk-serial::before {content: \"\";position: absolute;border-left: 1px solid gray;box-sizing: border-box;top: 0;bottom: 0;left: 50%;z-index: 0;}#sk-container-id-2 div.sk-serial {display: flex;flex-direction: column;align-items: center;background-color: white;padding-right: 0.2em;padding-left: 0.2em;position: relative;}#sk-container-id-2 div.sk-item {position: relative;z-index: 1;}#sk-container-id-2 div.sk-parallel {display: flex;align-items: stretch;justify-content: center;background-color: white;position: relative;}#sk-container-id-2 div.sk-item::before, #sk-container-id-2 div.sk-parallel-item::before {content: \"\";position: absolute;border-left: 1px solid gray;box-sizing: border-box;top: 0;bottom: 0;left: 50%;z-index: -1;}#sk-container-id-2 div.sk-parallel-item {display: flex;flex-direction: column;z-index: 1;position: relative;background-color: white;}#sk-container-id-2 div.sk-parallel-item:first-child::after {align-self: flex-end;width: 50%;}#sk-container-id-2 div.sk-parallel-item:last-child::after {align-self: flex-start;width: 50%;}#sk-container-id-2 div.sk-parallel-item:only-child::after {width: 0;}#sk-container-id-2 div.sk-dashed-wrapped {border: 1px dashed gray;margin: 0 0.4em 0.5em 0.4em;box-sizing: border-box;padding-bottom: 0.4em;background-color: white;}#sk-container-id-2 div.sk-label label {font-family: monospace;font-weight: bold;display: inline-block;line-height: 1.2em;}#sk-container-id-2 div.sk-label-container {text-align: center;}#sk-container-id-2 div.sk-container {/* jupyter's `normalize.less` sets `[hidden] { display: none; }` but bootstrap.min.css set `[hidden] { display: none !important; }` so we also need the `!important` here to be able to override the default hidden behavior on the sphinx rendered scikit-learn.org. See: https://github.com/scikit-learn/scikit-learn/issues/21755 */display: inline-block !important;position: relative;}#sk-container-id-2 div.sk-text-repr-fallback {display: none;}</style><div id=\"sk-container-id-2\" class=\"sk-top-container\"><div class=\"sk-text-repr-fallback\"><pre>LogisticRegression()</pre><b>In a Jupyter environment, please rerun this cell to show the HTML representation or trust the notebook. <br />On GitHub, the HTML representation is unable to render, please try loading this page with nbviewer.org.</b></div><div class=\"sk-container\" hidden><div class=\"sk-item\"><div class=\"sk-estimator sk-toggleable\"><input class=\"sk-toggleable__control sk-hidden--visually\" id=\"sk-estimator-id-2\" type=\"checkbox\" checked><label for=\"sk-estimator-id-2\" class=\"sk-toggleable__label sk-toggleable__label-arrow\">LogisticRegression</label><div class=\"sk-toggleable__content\"><pre>LogisticRegression()</pre></div></div></div></div></div>"
            ]
          },
          "metadata": {},
          "execution_count": 153
        }
      ],
      "source": [
        "model1.fit(X_train, Y_train)"
      ]
    },
    {
      "cell_type": "code",
      "execution_count": 154,
      "metadata": {
        "id": "KhHKTeUfBMSZ"
      },
      "outputs": [],
      "source": [
        "y_pred=model1.predict(X_test)"
      ]
    },
    {
      "cell_type": "code",
      "execution_count": 155,
      "metadata": {
        "id": "s_fhOUAJVvL3"
      },
      "outputs": [],
      "source": [
        "pred_prob1 = model1.predict_proba(X_test)"
      ]
    },
    {
      "cell_type": "code",
      "execution_count": 156,
      "metadata": {
        "id": "T06MEo9oBThV",
        "colab": {
          "base_uri": "https://localhost:8080/"
        },
        "outputId": "3140dc71-f059-4517-ba48-5c376189a420"
      },
      "outputs": [
        {
          "output_type": "execute_result",
          "data": {
            "text/plain": [
              "0.5997067448680352"
            ]
          },
          "metadata": {},
          "execution_count": 156
        }
      ],
      "source": [
        "model1.score(X_test, Y_test)"
      ]
    },
    {
      "cell_type": "code",
      "execution_count": 157,
      "metadata": {
        "id": "Aw0p8bstDRIr"
      },
      "outputs": [],
      "source": [
        "from sklearn.metrics import accuracy_score"
      ]
    },
    {
      "cell_type": "code",
      "execution_count": 158,
      "metadata": {
        "id": "iUsSPBtIDZkf",
        "colab": {
          "base_uri": "https://localhost:8080/"
        },
        "outputId": "50bd36ed-684e-4162-db31-d8881aa02fcc"
      },
      "outputs": [
        {
          "output_type": "execute_result",
          "data": {
            "text/plain": [
              "0.5997067448680352"
            ]
          },
          "metadata": {},
          "execution_count": 158
        }
      ],
      "source": [
        "accuracy_score(Y_test,y_pred)"
      ]
    },
    {
      "cell_type": "code",
      "execution_count": 159,
      "metadata": {
        "id": "F8lzruygDZdI"
      },
      "outputs": [],
      "source": [
        "from sklearn.metrics import precision_score, recall_score, f1_score"
      ]
    },
    {
      "cell_type": "code",
      "execution_count": 160,
      "metadata": {
        "id": "Jb4T548lDY9f",
        "colab": {
          "base_uri": "https://localhost:8080/"
        },
        "outputId": "3df00598-05da-435c-b5c1-0398b0bd4614"
      },
      "outputs": [
        {
          "output_type": "execute_result",
          "data": {
            "text/plain": [
              "0.5895953757225434"
            ]
          },
          "metadata": {},
          "execution_count": 160
        }
      ],
      "source": [
        "precision_score(Y_test,y_pred)"
      ]
    },
    {
      "cell_type": "code",
      "execution_count": 161,
      "metadata": {
        "id": "xU0fzXnmHrD4",
        "colab": {
          "base_uri": "https://localhost:8080/"
        },
        "outputId": "8b09a9f6-cd9a-41fd-d7a8-fa29d80dbd1b"
      },
      "outputs": [
        {
          "output_type": "execute_result",
          "data": {
            "text/plain": [
              "0.608955223880597"
            ]
          },
          "metadata": {},
          "execution_count": 161
        }
      ],
      "source": [
        "recall_score(Y_test,y_pred)"
      ]
    },
    {
      "cell_type": "code",
      "source": [
        "f1_lr = f1_score(Y_test, y_pred)\n",
        "f1_lr"
      ],
      "metadata": {
        "colab": {
          "base_uri": "https://localhost:8080/"
        },
        "id": "bP8HQ4Lrej5j",
        "outputId": "738e9e2d-c9b8-452e-9e53-ef325d3883e6"
      },
      "execution_count": 162,
      "outputs": [
        {
          "output_type": "execute_result",
          "data": {
            "text/plain": [
              "0.5991189427312775"
            ]
          },
          "metadata": {},
          "execution_count": 162
        }
      ]
    },
    {
      "cell_type": "code",
      "execution_count": 163,
      "metadata": {
        "id": "ssgL44Mm7Q_E",
        "colab": {
          "base_uri": "https://localhost:8080/"
        },
        "outputId": "043b6fd7-6b01-41a8-f2f8-71f171c4cb8d"
      },
      "outputs": [
        {
          "output_type": "execute_result",
          "data": {
            "text/plain": [
              "array([[205, 142],\n",
              "       [131, 204]])"
            ]
          },
          "metadata": {},
          "execution_count": 163
        }
      ],
      "source": [
        "from sklearn import metrics\n",
        "cnf_matrix = metrics.confusion_matrix(Y_test,y_pred)\n",
        "cnf_matrix"
      ]
    },
    {
      "cell_type": "code",
      "execution_count": 164,
      "metadata": {
        "id": "d41bDPcY8Ahm",
        "colab": {
          "base_uri": "https://localhost:8080/",
          "height": 568
        },
        "outputId": "971373fd-9eeb-43f7-9c1a-eb4839728a28"
      },
      "outputs": [
        {
          "output_type": "execute_result",
          "data": {
            "text/plain": [
              "Text(0.5, 427.9555555555555, 'Predicted label')"
            ]
          },
          "metadata": {},
          "execution_count": 164
        },
        {
          "output_type": "display_data",
          "data": {
            "text/plain": [
              "<Figure size 640x480 with 2 Axes>"
            ],
            "image/png": "[encoded data removed]"
          },
          "metadata": {}
        }
      ],
      "source": [
        "class_names=[0,1] # name  of classes\n",
        "fig, ax = plt.subplots()\n",
        "tick_marks = np.arange(len(class_names))\n",
        "plt.xticks(tick_marks, class_names)\n",
        "plt.yticks(tick_marks, class_names)\n",
        "# create heatmap\n",
        "sns.heatmap(pd.DataFrame(cnf_matrix), annot=True)\n",
        "ax.xaxis.set_label_position(\"top\")\n",
        "plt.tight_layout()\n",
        "plt.title('Confusion matrix', y=1.1)\n",
        "plt.ylabel('Actual label')\n",
        "plt.xlabel('Predicted label')"
      ]
    },
    {
      "cell_type": "code",
      "execution_count": 165,
      "metadata": {
        "id": "w7TpRSqSL7Pu",
        "colab": {
          "base_uri": "https://localhost:8080/"
        },
        "outputId": "c325b037-e2f8-44d8-fec3-a69a217036c8"
      },
      "outputs": [
        {
          "output_type": "execute_result",
          "data": {
            "text/plain": [
              "array([[205, 142],\n",
              "       [131, 204]])"
            ]
          },
          "metadata": {},
          "execution_count": 165
        }
      ],
      "source": [
        "from sklearn import metrics\n",
        "cnf_matrix = metrics.confusion_matrix(Y_test,y_pred)\n",
        "cnf_matrix"
      ]
    },
    {
      "cell_type": "markdown",
      "metadata": {
        "id": "IjQBHXCWL0F2"
      },
      "source": [
        "# **KNN**"
      ]
    },
    {
      "cell_type": "code",
      "execution_count": 166,
      "metadata": {
        "id": "tDJ6krmRq7tZ"
      },
      "outputs": [],
      "source": [
        "from sklearn.neighbors import KNeighborsClassifier\n",
        "knn = KNeighborsClassifier(n_neighbors=10)"
      ]
    },
    {
      "cell_type": "code",
      "execution_count": 167,
      "metadata": {
        "id": "W6l82mwGq7p3",
        "colab": {
          "base_uri": "https://localhost:8080/",
          "height": 74
        },
        "outputId": "d25e1458-b644-496c-ac13-9adb1ffcf095"
      },
      "outputs": [
        {
          "output_type": "execute_result",
          "data": {
            "text/plain": [
              "KNeighborsClassifier(n_neighbors=10)"
            ],
            "text/html": [
              "<style>#sk-container-id-3 {color: black;background-color: white;}#sk-container-id-3 pre{padding: 0;}#sk-container-id-3 div.sk-toggleable {background-color: white;}#sk-container-id-3 label.sk-toggleable__label {cursor: pointer;display: block;width: 100%;margin-bottom: 0;padding: 0.3em;box-sizing: border-box;text-align: center;}#sk-container-id-3 label.sk-toggleable__label-arrow:before {content: \"▸\";float: left;margin-right: 0.25em;color: #696969;}#sk-container-id-3 label.sk-toggleable__label-arrow:hover:before {color: black;}#sk-container-id-3 div.sk-estimator:hover label.sk-toggleable__label-arrow:before {color: black;}#sk-container-id-3 div.sk-toggleable__content {max-height: 0;max-width: 0;overflow: hidden;text-align: left;background-color: #f0f8ff;}#sk-container-id-3 div.sk-toggleable__content pre {margin: 0.2em;color: black;border-radius: 0.25em;background-color: #f0f8ff;}#sk-container-id-3 input.sk-toggleable__control:checked~div.sk-toggleable__content {max-height: 200px;max-width: 100%;overflow: auto;}#sk-container-id-3 input.sk-toggleable__control:checked~label.sk-toggleable__label-arrow:before {content: \"▾\";}#sk-container-id-3 div.sk-estimator input.sk-toggleable__control:checked~label.sk-toggleable__label {background-color: #d4ebff;}#sk-container-id-3 div.sk-label input.sk-toggleable__control:checked~label.sk-toggleable__label {background-color: #d4ebff;}#sk-container-id-3 input.sk-hidden--visually {border: 0;clip: rect(1px 1px 1px 1px);clip: rect(1px, 1px, 1px, 1px);height: 1px;margin: -1px;overflow: hidden;padding: 0;position: absolute;width: 1px;}#sk-container-id-3 div.sk-estimator {font-family: monospace;background-color: #f0f8ff;border: 1px dotted black;border-radius: 0.25em;box-sizing: border-box;margin-bottom: 0.5em;}#sk-container-id-3 div.sk-estimator:hover {background-color: #d4ebff;}#sk-container-id-3 div.sk-parallel-item::after {content: \"\";width: 100%;border-bottom: 1px solid gray;flex-grow: 1;}#sk-container-id-3 div.sk-label:hover label.sk-toggleable__label {background-color: #d4ebff;}#sk-container-id-3 div.sk-serial::before {content: \"\";position: absolute;border-left: 1px solid gray;box-sizing: border-box;top: 0;bottom: 0;left: 50%;z-index: 0;}#sk-container-id-3 div.sk-serial {display: flex;flex-direction: column;align-items: center;background-color: white;padding-right: 0.2em;padding-left: 0.2em;position: relative;}#sk-container-id-3 div.sk-item {position: relative;z-index: 1;}#sk-container-id-3 div.sk-parallel {display: flex;align-items: stretch;justify-content: center;background-color: white;position: relative;}#sk-container-id-3 div.sk-item::before, #sk-container-id-3 div.sk-parallel-item::before {content: \"\";position: absolute;border-left: 1px solid gray;box-sizing: border-box;top: 0;bottom: 0;left: 50%;z-index: -1;}#sk-container-id-3 div.sk-parallel-item {display: flex;flex-direction: column;z-index: 1;position: relative;background-color: white;}#sk-container-id-3 div.sk-parallel-item:first-child::after {align-self: flex-end;width: 50%;}#sk-container-id-3 div.sk-parallel-item:last-child::after {align-self: flex-start;width: 50%;}#sk-container-id-3 div.sk-parallel-item:only-child::after {width: 0;}#sk-container-id-3 div.sk-dashed-wrapped {border: 1px dashed gray;margin: 0 0.4em 0.5em 0.4em;box-sizing: border-box;padding-bottom: 0.4em;background-color: white;}#sk-container-id-3 div.sk-label label {font-family: monospace;font-weight: bold;display: inline-block;line-height: 1.2em;}#sk-container-id-3 div.sk-label-container {text-align: center;}#sk-container-id-3 div.sk-container {/* jupyter's `normalize.less` sets `[hidden] { display: none; }` but bootstrap.min.css set `[hidden] { display: none !important; }` so we also need the `!important` here to be able to override the default hidden behavior on the sphinx rendered scikit-learn.org. See: https://github.com/scikit-learn/scikit-learn/issues/21755 */display: inline-block !important;position: relative;}#sk-container-id-3 div.sk-text-repr-fallback {display: none;}</style><div id=\"sk-container-id-3\" class=\"sk-top-container\"><div class=\"sk-text-repr-fallback\"><pre>KNeighborsClassifier(n_neighbors=10)</pre><b>In a Jupyter environment, please rerun this cell to show the HTML representation or trust the notebook. <br />On GitHub, the HTML representation is unable to render, please try loading this page with nbviewer.org.</b></div><div class=\"sk-container\" hidden><div class=\"sk-item\"><div class=\"sk-estimator sk-toggleable\"><input class=\"sk-toggleable__control sk-hidden--visually\" id=\"sk-estimator-id-3\" type=\"checkbox\" checked><label for=\"sk-estimator-id-3\" class=\"sk-toggleable__label sk-toggleable__label-arrow\">KNeighborsClassifier</label><div class=\"sk-toggleable__content\"><pre>KNeighborsClassifier(n_neighbors=10)</pre></div></div></div></div></div>"
            ]
          },
          "metadata": {},
          "execution_count": 167
        }
      ],
      "source": [
        "knn.fit(X_train, Y_train)"
      ]
    },
    {
      "cell_type": "code",
      "execution_count": 168,
      "metadata": {
        "id": "P8sjir_Dq7n6",
        "colab": {
          "base_uri": "https://localhost:8080/"
        },
        "outputId": "5afb77a3-d15a-4a58-a656-df05b250e23e"
      },
      "outputs": [
        {
          "output_type": "execute_result",
          "data": {
            "text/plain": [
              "0.6730205278592375"
            ]
          },
          "metadata": {},
          "execution_count": 168
        }
      ],
      "source": [
        "knn.score(X_test, Y_test)\n"
      ]
    },
    {
      "cell_type": "code",
      "execution_count": 169,
      "metadata": {
        "id": "vcIezmM48l76"
      },
      "outputs": [],
      "source": [
        "y_pred=knn.predict(X_test)"
      ]
    },
    {
      "cell_type": "code",
      "execution_count": 170,
      "metadata": {
        "id": "f4TsJs5lH7ST",
        "colab": {
          "base_uri": "https://localhost:8080/"
        },
        "outputId": "7054b1ee-03d3-4b08-83cb-07b19802a015"
      },
      "outputs": [
        {
          "output_type": "execute_result",
          "data": {
            "text/plain": [
              "0.6730205278592375"
            ]
          },
          "metadata": {},
          "execution_count": 170
        }
      ],
      "source": [
        "accuracy_score(Y_test,y_pred)"
      ]
    },
    {
      "cell_type": "code",
      "execution_count": 171,
      "metadata": {
        "id": "RkD2yydgH9b0",
        "colab": {
          "base_uri": "https://localhost:8080/"
        },
        "outputId": "79f7c711-95ae-4e19-98f1-116a35c2c668"
      },
      "outputs": [
        {
          "output_type": "execute_result",
          "data": {
            "text/plain": [
              "0.6666666666666666"
            ]
          },
          "metadata": {},
          "execution_count": 171
        }
      ],
      "source": [
        "precision_score(Y_test,y_pred)"
      ]
    },
    {
      "cell_type": "code",
      "execution_count": 172,
      "metadata": {
        "id": "5SAOBQ6_H9QO",
        "colab": {
          "base_uri": "https://localhost:8080/"
        },
        "outputId": "9b338631-70d3-4f32-e614-81b2605e7df4"
      },
      "outputs": [
        {
          "output_type": "execute_result",
          "data": {
            "text/plain": [
              "0.6686567164179105"
            ]
          },
          "metadata": {},
          "execution_count": 172
        }
      ],
      "source": [
        "recall_score(Y_test,y_pred)"
      ]
    },
    {
      "cell_type": "code",
      "source": [
        "f1_knn = f1_score(Y_test, y_pred)\n",
        "f1_knn"
      ],
      "metadata": {
        "id": "5YtXR4dYeq9O",
        "colab": {
          "base_uri": "https://localhost:8080/"
        },
        "outputId": "7b7868a3-95a0-4502-caeb-37bb21e58e16"
      },
      "execution_count": 173,
      "outputs": [
        {
          "output_type": "execute_result",
          "data": {
            "text/plain": [
              "0.6676602086438151"
            ]
          },
          "metadata": {},
          "execution_count": 173
        }
      ]
    },
    {
      "cell_type": "code",
      "execution_count": 174,
      "metadata": {
        "id": "6UIoHxbtVtG1"
      },
      "outputs": [],
      "source": [
        "pred_prob2 = knn.predict_proba(X_test)"
      ]
    },
    {
      "cell_type": "code",
      "execution_count": 175,
      "metadata": {
        "id": "9am6RrlXrbnE",
        "colab": {
          "base_uri": "https://localhost:8080/"
        },
        "outputId": "a9062cd5-ef4c-448c-9f80-c91048e9522d"
      },
      "outputs": [
        {
          "output_type": "execute_result",
          "data": {
            "text/plain": [
              "array([[235, 112],\n",
              "       [111, 224]])"
            ]
          },
          "metadata": {},
          "execution_count": 175
        }
      ],
      "source": [
        "from sklearn.metrics import confusion_matrix\n",
        "y_pred = knn.predict(X_test)\n",
        "cm = confusion_matrix(Y_test, y_pred)\n",
        "cm"
      ]
    },
    {
      "cell_type": "code",
      "execution_count": 176,
      "metadata": {
        "id": "NcFivMoMrbkB",
        "colab": {
          "base_uri": "https://localhost:8080/",
          "height": 482
        },
        "outputId": "b5cf61d5-9e24-40f1-f3fe-c43bb3bbcd3c"
      },
      "outputs": [
        {
          "output_type": "execute_result",
          "data": {
            "text/plain": [
              "Text(58.222222222222214, 0.5, 'Truth')"
            ]
          },
          "metadata": {},
          "execution_count": 176
        },
        {
          "output_type": "display_data",
          "data": {
            "text/plain": [
              "<Figure size 700x500 with 2 Axes>"
            ],
            "image/png": "[encoded data removed]"
          },
          "metadata": {}
        }
      ],
      "source": [
        "%matplotlib inline\n",
        "import matplotlib.pyplot as plt\n",
        "import seaborn as sn\n",
        "plt.figure(figsize=(7,5))\n",
        "sn.heatmap(cm, annot=True)\n",
        "plt.xlabel('Predicted')\n",
        "plt.ylabel('Truth')"
      ]
    },
    {
      "cell_type": "code",
      "execution_count": 177,
      "metadata": {
        "id": "U2NA1rYorbhT",
        "colab": {
          "base_uri": "https://localhost:8080/"
        },
        "outputId": "ffdec32c-3137-4427-e3cc-092f16342dee"
      },
      "outputs": [
        {
          "output_type": "stream",
          "name": "stdout",
          "text": [
            "              precision    recall  f1-score   support\n",
            "\n",
            "         0.0       0.68      0.68      0.68       347\n",
            "         1.0       0.67      0.67      0.67       335\n",
            "\n",
            "    accuracy                           0.67       682\n",
            "   macro avg       0.67      0.67      0.67       682\n",
            "weighted avg       0.67      0.67      0.67       682\n",
            "\n"
          ]
        }
      ],
      "source": [
        "from sklearn.metrics import classification_report\n",
        "\n",
        "print(classification_report(Y_test, y_pred))"
      ]
    },
    {
      "cell_type": "markdown",
      "metadata": {
        "id": "H-51HRgPB3TG"
      },
      "source": [
        "#**DECISION TREES**"
      ]
    },
    {
      "cell_type": "code",
      "execution_count": 178,
      "metadata": {
        "id": "KtZLysZoBvsa"
      },
      "outputs": [],
      "source": [
        "from sklearn.tree import DecisionTreeClassifier"
      ]
    },
    {
      "cell_type": "code",
      "execution_count": 179,
      "metadata": {
        "id": "IT9c2kyFCb2L",
        "colab": {
          "base_uri": "https://localhost:8080/",
          "height": 74
        },
        "outputId": "c7f2e86c-3595-456c-94bd-879fb9e9c22a"
      },
      "outputs": [
        {
          "output_type": "execute_result",
          "data": {
            "text/plain": [
              "DecisionTreeClassifier()"
            ],
            "text/html": [
              "<style>#sk-container-id-4 {color: black;background-color: white;}#sk-container-id-4 pre{padding: 0;}#sk-container-id-4 div.sk-toggleable {background-color: white;}#sk-container-id-4 label.sk-toggleable__label {cursor: pointer;display: block;width: 100%;margin-bottom: 0;padding: 0.3em;box-sizing: border-box;text-align: center;}#sk-container-id-4 label.sk-toggleable__label-arrow:before {content: \"▸\";float: left;margin-right: 0.25em;color: #696969;}#sk-container-id-4 label.sk-toggleable__label-arrow:hover:before {color: black;}#sk-container-id-4 div.sk-estimator:hover label.sk-toggleable__label-arrow:before {color: black;}#sk-container-id-4 div.sk-toggleable__content {max-height: 0;max-width: 0;overflow: hidden;text-align: left;background-color: #f0f8ff;}#sk-container-id-4 div.sk-toggleable__content pre {margin: 0.2em;color: black;border-radius: 0.25em;background-color: #f0f8ff;}#sk-container-id-4 input.sk-toggleable__control:checked~div.sk-toggleable__content {max-height: 200px;max-width: 100%;overflow: auto;}#sk-container-id-4 input.sk-toggleable__control:checked~label.sk-toggleable__label-arrow:before {content: \"▾\";}#sk-container-id-4 div.sk-estimator input.sk-toggleable__control:checked~label.sk-toggleable__label {background-color: #d4ebff;}#sk-container-id-4 div.sk-label input.sk-toggleable__control:checked~label.sk-toggleable__label {background-color: #d4ebff;}#sk-container-id-4 input.sk-hidden--visually {border: 0;clip: rect(1px 1px 1px 1px);clip: rect(1px, 1px, 1px, 1px);height: 1px;margin: -1px;overflow: hidden;padding: 0;position: absolute;width: 1px;}#sk-container-id-4 div.sk-estimator {font-family: monospace;background-color: #f0f8ff;border: 1px dotted black;border-radius: 0.25em;box-sizing: border-box;margin-bottom: 0.5em;}#sk-container-id-4 div.sk-estimator:hover {background-color: #d4ebff;}#sk-container-id-4 div.sk-parallel-item::after {content: \"\";width: 100%;border-bottom: 1px solid gray;flex-grow: 1;}#sk-container-id-4 div.sk-label:hover label.sk-toggleable__label {background-color: #d4ebff;}#sk-container-id-4 div.sk-serial::before {content: \"\";position: absolute;border-left: 1px solid gray;box-sizing: border-box;top: 0;bottom: 0;left: 50%;z-index: 0;}#sk-container-id-4 div.sk-serial {display: flex;flex-direction: column;align-items: center;background-color: white;padding-right: 0.2em;padding-left: 0.2em;position: relative;}#sk-container-id-4 div.sk-item {position: relative;z-index: 1;}#sk-container-id-4 div.sk-parallel {display: flex;align-items: stretch;justify-content: center;background-color: white;position: relative;}#sk-container-id-4 div.sk-item::before, #sk-container-id-4 div.sk-parallel-item::before {content: \"\";position: absolute;border-left: 1px solid gray;box-sizing: border-box;top: 0;bottom: 0;left: 50%;z-index: -1;}#sk-container-id-4 div.sk-parallel-item {display: flex;flex-direction: column;z-index: 1;position: relative;background-color: white;}#sk-container-id-4 div.sk-parallel-item:first-child::after {align-self: flex-end;width: 50%;}#sk-container-id-4 div.sk-parallel-item:last-child::after {align-self: flex-start;width: 50%;}#sk-container-id-4 div.sk-parallel-item:only-child::after {width: 0;}#sk-container-id-4 div.sk-dashed-wrapped {border: 1px dashed gray;margin: 0 0.4em 0.5em 0.4em;box-sizing: border-box;padding-bottom: 0.4em;background-color: white;}#sk-container-id-4 div.sk-label label {font-family: monospace;font-weight: bold;display: inline-block;line-height: 1.2em;}#sk-container-id-4 div.sk-label-container {text-align: center;}#sk-container-id-4 div.sk-container {/* jupyter's `normalize.less` sets `[hidden] { display: none; }` but bootstrap.min.css set `[hidden] { display: none !important; }` so we also need the `!important` here to be able to override the default hidden behavior on the sphinx rendered scikit-learn.org. See: https://github.com/scikit-learn/scikit-learn/issues/21755 */display: inline-block !important;position: relative;}#sk-container-id-4 div.sk-text-repr-fallback {display: none;}</style><div id=\"sk-container-id-4\" class=\"sk-top-container\"><div class=\"sk-text-repr-fallback\"><pre>DecisionTreeClassifier()</pre><b>In a Jupyter environment, please rerun this cell to show the HTML representation or trust the notebook. <br />On GitHub, the HTML representation is unable to render, please try loading this page with nbviewer.org.</b></div><div class=\"sk-container\" hidden><div class=\"sk-item\"><div class=\"sk-estimator sk-toggleable\"><input class=\"sk-toggleable__control sk-hidden--visually\" id=\"sk-estimator-id-4\" type=\"checkbox\" checked><label for=\"sk-estimator-id-4\" class=\"sk-toggleable__label sk-toggleable__label-arrow\">DecisionTreeClassifier</label><div class=\"sk-toggleable__content\"><pre>DecisionTreeClassifier()</pre></div></div></div></div></div>"
            ]
          },
          "metadata": {},
          "execution_count": 179
        }
      ],
      "source": [
        "decision_model = DecisionTreeClassifier()\n",
        "decision_model"
      ]
    },
    {
      "cell_type": "code",
      "execution_count": 180,
      "metadata": {
        "id": "_3a6iSW8C5jm",
        "colab": {
          "base_uri": "https://localhost:8080/",
          "height": 74
        },
        "outputId": "2b7f1286-d7bb-4f04-eb7d-7d99bc1eb799"
      },
      "outputs": [
        {
          "output_type": "execute_result",
          "data": {
            "text/plain": [
              "DecisionTreeClassifier()"
            ],
            "text/html": [
              "<style>#sk-container-id-5 {color: black;background-color: white;}#sk-container-id-5 pre{padding: 0;}#sk-container-id-5 div.sk-toggleable {background-color: white;}#sk-container-id-5 label.sk-toggleable__label {cursor: pointer;display: block;width: 100%;margin-bottom: 0;padding: 0.3em;box-sizing: border-box;text-align: center;}#sk-container-id-5 label.sk-toggleable__label-arrow:before {content: \"▸\";float: left;margin-right: 0.25em;color: #696969;}#sk-container-id-5 label.sk-toggleable__label-arrow:hover:before {color: black;}#sk-container-id-5 div.sk-estimator:hover label.sk-toggleable__label-arrow:before {color: black;}#sk-container-id-5 div.sk-toggleable__content {max-height: 0;max-width: 0;overflow: hidden;text-align: left;background-color: #f0f8ff;}#sk-container-id-5 div.sk-toggleable__content pre {margin: 0.2em;color: black;border-radius: 0.25em;background-color: #f0f8ff;}#sk-container-id-5 input.sk-toggleable__control:checked~div.sk-toggleable__content {max-height: 200px;max-width: 100%;overflow: auto;}#sk-container-id-5 input.sk-toggleable__control:checked~label.sk-toggleable__label-arrow:before {content: \"▾\";}#sk-container-id-5 div.sk-estimator input.sk-toggleable__control:checked~label.sk-toggleable__label {background-color: #d4ebff;}#sk-container-id-5 div.sk-label input.sk-toggleable__control:checked~label.sk-toggleable__label {background-color: #d4ebff;}#sk-container-id-5 input.sk-hidden--visually {border: 0;clip: rect(1px 1px 1px 1px);clip: rect(1px, 1px, 1px, 1px);height: 1px;margin: -1px;overflow: hidden;padding: 0;position: absolute;width: 1px;}#sk-container-id-5 div.sk-estimator {font-family: monospace;background-color: #f0f8ff;border: 1px dotted black;border-radius: 0.25em;box-sizing: border-box;margin-bottom: 0.5em;}#sk-container-id-5 div.sk-estimator:hover {background-color: #d4ebff;}#sk-container-id-5 div.sk-parallel-item::after {content: \"\";width: 100%;border-bottom: 1px solid gray;flex-grow: 1;}#sk-container-id-5 div.sk-label:hover label.sk-toggleable__label {background-color: #d4ebff;}#sk-container-id-5 div.sk-serial::before {content: \"\";position: absolute;border-left: 1px solid gray;box-sizing: border-box;top: 0;bottom: 0;left: 50%;z-index: 0;}#sk-container-id-5 div.sk-serial {display: flex;flex-direction: column;align-items: center;background-color: white;padding-right: 0.2em;padding-left: 0.2em;position: relative;}#sk-container-id-5 div.sk-item {position: relative;z-index: 1;}#sk-container-id-5 div.sk-parallel {display: flex;align-items: stretch;justify-content: center;background-color: white;position: relative;}#sk-container-id-5 div.sk-item::before, #sk-container-id-5 div.sk-parallel-item::before {content: \"\";position: absolute;border-left: 1px solid gray;box-sizing: border-box;top: 0;bottom: 0;left: 50%;z-index: -1;}#sk-container-id-5 div.sk-parallel-item {display: flex;flex-direction: column;z-index: 1;position: relative;background-color: white;}#sk-container-id-5 div.sk-parallel-item:first-child::after {align-self: flex-end;width: 50%;}#sk-container-id-5 div.sk-parallel-item:last-child::after {align-self: flex-start;width: 50%;}#sk-container-id-5 div.sk-parallel-item:only-child::after {width: 0;}#sk-container-id-5 div.sk-dashed-wrapped {border: 1px dashed gray;margin: 0 0.4em 0.5em 0.4em;box-sizing: border-box;padding-bottom: 0.4em;background-color: white;}#sk-container-id-5 div.sk-label label {font-family: monospace;font-weight: bold;display: inline-block;line-height: 1.2em;}#sk-container-id-5 div.sk-label-container {text-align: center;}#sk-container-id-5 div.sk-container {/* jupyter's `normalize.less` sets `[hidden] { display: none; }` but bootstrap.min.css set `[hidden] { display: none !important; }` so we also need the `!important` here to be able to override the default hidden behavior on the sphinx rendered scikit-learn.org. See: https://github.com/scikit-learn/scikit-learn/issues/21755 */display: inline-block !important;position: relative;}#sk-container-id-5 div.sk-text-repr-fallback {display: none;}</style><div id=\"sk-container-id-5\" class=\"sk-top-container\"><div class=\"sk-text-repr-fallback\"><pre>DecisionTreeClassifier()</pre><b>In a Jupyter environment, please rerun this cell to show the HTML representation or trust the notebook. <br />On GitHub, the HTML representation is unable to render, please try loading this page with nbviewer.org.</b></div><div class=\"sk-container\" hidden><div class=\"sk-item\"><div class=\"sk-estimator sk-toggleable\"><input class=\"sk-toggleable__control sk-hidden--visually\" id=\"sk-estimator-id-5\" type=\"checkbox\" checked><label for=\"sk-estimator-id-5\" class=\"sk-toggleable__label sk-toggleable__label-arrow\">DecisionTreeClassifier</label><div class=\"sk-toggleable__content\"><pre>DecisionTreeClassifier()</pre></div></div></div></div></div>"
            ]
          },
          "metadata": {},
          "execution_count": 180
        }
      ],
      "source": [
        "decision_model.fit(X_train, Y_train)"
      ]
    },
    {
      "cell_type": "code",
      "execution_count": 181,
      "metadata": {
        "id": "14q_VaQmC-U1"
      },
      "outputs": [],
      "source": [
        "y_pred=decision_model.predict(X_test)"
      ]
    },
    {
      "cell_type": "code",
      "execution_count": 182,
      "metadata": {
        "id": "0HDlYc_OVn-4"
      },
      "outputs": [],
      "source": [
        "pred_prob3 = decision_model.predict_proba(X_test)"
      ]
    },
    {
      "cell_type": "code",
      "execution_count": 183,
      "metadata": {
        "id": "E_0e3g00DYxs",
        "colab": {
          "base_uri": "https://localhost:8080/"
        },
        "outputId": "e3a3053b-71b2-4abc-c71f-a0def00b2b35"
      },
      "outputs": [
        {
          "output_type": "execute_result",
          "data": {
            "text/plain": [
              "0.8709677419354839"
            ]
          },
          "metadata": {},
          "execution_count": 183
        }
      ],
      "source": [
        "decision_model.score(X_test,Y_test)"
      ]
    },
    {
      "cell_type": "code",
      "execution_count": 184,
      "metadata": {
        "id": "Jv8W9yKVIP20",
        "colab": {
          "base_uri": "https://localhost:8080/"
        },
        "outputId": "9555f078-d65f-4749-cc2d-b52bee5196e0"
      },
      "outputs": [
        {
          "output_type": "execute_result",
          "data": {
            "text/plain": [
              "0.8709677419354839"
            ]
          },
          "metadata": {},
          "execution_count": 184
        }
      ],
      "source": [
        "accuracy_score(Y_test,y_pred)"
      ]
    },
    {
      "cell_type": "code",
      "execution_count": 185,
      "metadata": {
        "id": "IZLOVD6XIS6D",
        "colab": {
          "base_uri": "https://localhost:8080/"
        },
        "outputId": "6464e6e5-127e-4fa2-d6f9-9c024c1f5aba"
      },
      "outputs": [
        {
          "output_type": "execute_result",
          "data": {
            "text/plain": [
              "0.8559077809798271"
            ]
          },
          "metadata": {},
          "execution_count": 185
        }
      ],
      "source": [
        "precision_score(Y_test,y_pred)"
      ]
    },
    {
      "cell_type": "code",
      "execution_count": 186,
      "metadata": {
        "id": "khnbeNOWISv9",
        "colab": {
          "base_uri": "https://localhost:8080/"
        },
        "outputId": "a0caa2df-27c4-4d12-d48b-3458594eba17"
      },
      "outputs": [
        {
          "output_type": "execute_result",
          "data": {
            "text/plain": [
              "0.8865671641791045"
            ]
          },
          "metadata": {},
          "execution_count": 186
        }
      ],
      "source": [
        "recall_score(Y_test,y_pred)"
      ]
    },
    {
      "cell_type": "code",
      "source": [
        "f1_dt = f1_score(Y_test, y_pred)\n",
        "f1_dt"
      ],
      "metadata": {
        "id": "Nh8io8gKe3ce",
        "colab": {
          "base_uri": "https://localhost:8080/"
        },
        "outputId": "df04c235-8037-448c-f7c4-a22e972fa60f"
      },
      "execution_count": 187,
      "outputs": [
        {
          "output_type": "execute_result",
          "data": {
            "text/plain": [
              "0.870967741935484"
            ]
          },
          "metadata": {},
          "execution_count": 187
        }
      ]
    },
    {
      "cell_type": "code",
      "execution_count": 188,
      "metadata": {
        "id": "att7OoTn8itY",
        "colab": {
          "base_uri": "https://localhost:8080/"
        },
        "outputId": "3a74e6cc-c8da-4373-c7c9-331a4657ceb1"
      },
      "outputs": [
        {
          "output_type": "execute_result",
          "data": {
            "text/plain": [
              "array([[297,  50],\n",
              "       [ 38, 297]])"
            ]
          },
          "metadata": {},
          "execution_count": 188
        }
      ],
      "source": [
        "from sklearn import metrics\n",
        "cnf_matrix = metrics.confusion_matrix(Y_test,y_pred)\n",
        "cnf_matrix"
      ]
    },
    {
      "cell_type": "code",
      "execution_count": 189,
      "metadata": {
        "id": "Azzk6vMA8nu9",
        "colab": {
          "base_uri": "https://localhost:8080/",
          "height": 568
        },
        "outputId": "618ff54e-30ce-4213-81f0-44b00e7231d9"
      },
      "outputs": [
        {
          "output_type": "execute_result",
          "data": {
            "text/plain": [
              "Text(0.5, 427.9555555555555, 'Predicted label')"
            ]
          },
          "metadata": {},
          "execution_count": 189
        },
        {
          "output_type": "display_data",
          "data": {
            "text/plain": [
              "<Figure size 640x480 with 2 Axes>"
            ],
            "image/png": "[encoded data removed]"
          },
          "metadata": {}
        }
      ],
      "source": [
        "class_names=[0,1] # name  of classes\n",
        "fig, ax = plt.subplots()\n",
        "tick_marks = np.arange(len(class_names))\n",
        "plt.xticks(tick_marks, class_names)\n",
        "plt.yticks(tick_marks, class_names)\n",
        "# create heatmap\n",
        "sns.heatmap(pd.DataFrame(cnf_matrix), annot=True)\n",
        "ax.xaxis.set_label_position(\"top\")\n",
        "plt.tight_layout()\n",
        "plt.title('Confusion matrix', y=1.1)\n",
        "plt.ylabel('Actual label')\n",
        "plt.xlabel('Predicted label')"
      ]
    },
    {
      "cell_type": "markdown",
      "metadata": {
        "id": "ffjv5hWbIHEM"
      },
      "source": [
        "# **RANDOM FOREST**"
      ]
    },
    {
      "cell_type": "code",
      "execution_count": 190,
      "metadata": {
        "id": "a5Aoc7yjIIPh"
      },
      "outputs": [],
      "source": [
        "from sklearn.ensemble import RandomForestClassifier"
      ]
    },
    {
      "cell_type": "code",
      "execution_count": 191,
      "metadata": {
        "id": "jVEE29XBIERr",
        "colab": {
          "base_uri": "https://localhost:8080/",
          "height": 74
        },
        "outputId": "ceb8e501-716b-42c7-fce4-ddc356a23326"
      },
      "outputs": [
        {
          "output_type": "execute_result",
          "data": {
            "text/plain": [
              "RandomForestClassifier()"
            ],
            "text/html": [
              "<style>#sk-container-id-6 {color: black;background-color: white;}#sk-container-id-6 pre{padding: 0;}#sk-container-id-6 div.sk-toggleable {background-color: white;}#sk-container-id-6 label.sk-toggleable__label {cursor: pointer;display: block;width: 100%;margin-bottom: 0;padding: 0.3em;box-sizing: border-box;text-align: center;}#sk-container-id-6 label.sk-toggleable__label-arrow:before {content: \"▸\";float: left;margin-right: 0.25em;color: #696969;}#sk-container-id-6 label.sk-toggleable__label-arrow:hover:before {color: black;}#sk-container-id-6 div.sk-estimator:hover label.sk-toggleable__label-arrow:before {color: black;}#sk-container-id-6 div.sk-toggleable__content {max-height: 0;max-width: 0;overflow: hidden;text-align: left;background-color: #f0f8ff;}#sk-container-id-6 div.sk-toggleable__content pre {margin: 0.2em;color: black;border-radius: 0.25em;background-color: #f0f8ff;}#sk-container-id-6 input.sk-toggleable__control:checked~div.sk-toggleable__content {max-height: 200px;max-width: 100%;overflow: auto;}#sk-container-id-6 input.sk-toggleable__control:checked~label.sk-toggleable__label-arrow:before {content: \"▾\";}#sk-container-id-6 div.sk-estimator input.sk-toggleable__control:checked~label.sk-toggleable__label {background-color: #d4ebff;}#sk-container-id-6 div.sk-label input.sk-toggleable__control:checked~label.sk-toggleable__label {background-color: #d4ebff;}#sk-container-id-6 input.sk-hidden--visually {border: 0;clip: rect(1px 1px 1px 1px);clip: rect(1px, 1px, 1px, 1px);height: 1px;margin: -1px;overflow: hidden;padding: 0;position: absolute;width: 1px;}#sk-container-id-6 div.sk-estimator {font-family: monospace;background-color: #f0f8ff;border: 1px dotted black;border-radius: 0.25em;box-sizing: border-box;margin-bottom: 0.5em;}#sk-container-id-6 div.sk-estimator:hover {background-color: #d4ebff;}#sk-container-id-6 div.sk-parallel-item::after {content: \"\";width: 100%;border-bottom: 1px solid gray;flex-grow: 1;}#sk-container-id-6 div.sk-label:hover label.sk-toggleable__label {background-color: #d4ebff;}#sk-container-id-6 div.sk-serial::before {content: \"\";position: absolute;border-left: 1px solid gray;box-sizing: border-box;top: 0;bottom: 0;left: 50%;z-index: 0;}#sk-container-id-6 div.sk-serial {display: flex;flex-direction: column;align-items: center;background-color: white;padding-right: 0.2em;padding-left: 0.2em;position: relative;}#sk-container-id-6 div.sk-item {position: relative;z-index: 1;}#sk-container-id-6 div.sk-parallel {display: flex;align-items: stretch;justify-content: center;background-color: white;position: relative;}#sk-container-id-6 div.sk-item::before, #sk-container-id-6 div.sk-parallel-item::before {content: \"\";position: absolute;border-left: 1px solid gray;box-sizing: border-box;top: 0;bottom: 0;left: 50%;z-index: -1;}#sk-container-id-6 div.sk-parallel-item {display: flex;flex-direction: column;z-index: 1;position: relative;background-color: white;}#sk-container-id-6 div.sk-parallel-item:first-child::after {align-self: flex-end;width: 50%;}#sk-container-id-6 div.sk-parallel-item:last-child::after {align-self: flex-start;width: 50%;}#sk-container-id-6 div.sk-parallel-item:only-child::after {width: 0;}#sk-container-id-6 div.sk-dashed-wrapped {border: 1px dashed gray;margin: 0 0.4em 0.5em 0.4em;box-sizing: border-box;padding-bottom: 0.4em;background-color: white;}#sk-container-id-6 div.sk-label label {font-family: monospace;font-weight: bold;display: inline-block;line-height: 1.2em;}#sk-container-id-6 div.sk-label-container {text-align: center;}#sk-container-id-6 div.sk-container {/* jupyter's `normalize.less` sets `[hidden] { display: none; }` but bootstrap.min.css set `[hidden] { display: none !important; }` so we also need the `!important` here to be able to override the default hidden behavior on the sphinx rendered scikit-learn.org. See: https://github.com/scikit-learn/scikit-learn/issues/21755 */display: inline-block !important;position: relative;}#sk-container-id-6 div.sk-text-repr-fallback {display: none;}</style><div id=\"sk-container-id-6\" class=\"sk-top-container\"><div class=\"sk-text-repr-fallback\"><pre>RandomForestClassifier()</pre><b>In a Jupyter environment, please rerun this cell to show the HTML representation or trust the notebook. <br />On GitHub, the HTML representation is unable to render, please try loading this page with nbviewer.org.</b></div><div class=\"sk-container\" hidden><div class=\"sk-item\"><div class=\"sk-estimator sk-toggleable\"><input class=\"sk-toggleable__control sk-hidden--visually\" id=\"sk-estimator-id-6\" type=\"checkbox\" checked><label for=\"sk-estimator-id-6\" class=\"sk-toggleable__label sk-toggleable__label-arrow\">RandomForestClassifier</label><div class=\"sk-toggleable__content\"><pre>RandomForestClassifier()</pre></div></div></div></div></div>"
            ]
          },
          "metadata": {},
          "execution_count": 191
        }
      ],
      "source": [
        "random_model = RandomForestClassifier()\n",
        "random_model"
      ]
    },
    {
      "cell_type": "code",
      "execution_count": 192,
      "metadata": {
        "id": "XG9b2gw_TqHA",
        "colab": {
          "base_uri": "https://localhost:8080/",
          "height": 74
        },
        "outputId": "d5183314-d3bc-44f5-f072-6803e74c2a48"
      },
      "outputs": [
        {
          "output_type": "execute_result",
          "data": {
            "text/plain": [
              "RandomForestClassifier()"
            ],
            "text/html": [
              "<style>#sk-container-id-7 {color: black;background-color: white;}#sk-container-id-7 pre{padding: 0;}#sk-container-id-7 div.sk-toggleable {background-color: white;}#sk-container-id-7 label.sk-toggleable__label {cursor: pointer;display: block;width: 100%;margin-bottom: 0;padding: 0.3em;box-sizing: border-box;text-align: center;}#sk-container-id-7 label.sk-toggleable__label-arrow:before {content: \"▸\";float: left;margin-right: 0.25em;color: #696969;}#sk-container-id-7 label.sk-toggleable__label-arrow:hover:before {color: black;}#sk-container-id-7 div.sk-estimator:hover label.sk-toggleable__label-arrow:before {color: black;}#sk-container-id-7 div.sk-toggleable__content {max-height: 0;max-width: 0;overflow: hidden;text-align: left;background-color: #f0f8ff;}#sk-container-id-7 div.sk-toggleable__content pre {margin: 0.2em;color: black;border-radius: 0.25em;background-color: #f0f8ff;}#sk-container-id-7 input.sk-toggleable__control:checked~div.sk-toggleable__content {max-height: 200px;max-width: 100%;overflow: auto;}#sk-container-id-7 input.sk-toggleable__control:checked~label.sk-toggleable__label-arrow:before {content: \"▾\";}#sk-container-id-7 div.sk-estimator input.sk-toggleable__control:checked~label.sk-toggleable__label {background-color: #d4ebff;}#sk-container-id-7 div.sk-label input.sk-toggleable__control:checked~label.sk-toggleable__label {background-color: #d4ebff;}#sk-container-id-7 input.sk-hidden--visually {border: 0;clip: rect(1px 1px 1px 1px);clip: rect(1px, 1px, 1px, 1px);height: 1px;margin: -1px;overflow: hidden;padding: 0;position: absolute;width: 1px;}#sk-container-id-7 div.sk-estimator {font-family: monospace;background-color: #f0f8ff;border: 1px dotted black;border-radius: 0.25em;box-sizing: border-box;margin-bottom: 0.5em;}#sk-container-id-7 div.sk-estimator:hover {background-color: #d4ebff;}#sk-container-id-7 div.sk-parallel-item::after {content: \"\";width: 100%;border-bottom: 1px solid gray;flex-grow: 1;}#sk-container-id-7 div.sk-label:hover label.sk-toggleable__label {background-color: #d4ebff;}#sk-container-id-7 div.sk-serial::before {content: \"\";position: absolute;border-left: 1px solid gray;box-sizing: border-box;top: 0;bottom: 0;left: 50%;z-index: 0;}#sk-container-id-7 div.sk-serial {display: flex;flex-direction: column;align-items: center;background-color: white;padding-right: 0.2em;padding-left: 0.2em;position: relative;}#sk-container-id-7 div.sk-item {position: relative;z-index: 1;}#sk-container-id-7 div.sk-parallel {display: flex;align-items: stretch;justify-content: center;background-color: white;position: relative;}#sk-container-id-7 div.sk-item::before, #sk-container-id-7 div.sk-parallel-item::before {content: \"\";position: absolute;border-left: 1px solid gray;box-sizing: border-box;top: 0;bottom: 0;left: 50%;z-index: -1;}#sk-container-id-7 div.sk-parallel-item {display: flex;flex-direction: column;z-index: 1;position: relative;background-color: white;}#sk-container-id-7 div.sk-parallel-item:first-child::after {align-self: flex-end;width: 50%;}#sk-container-id-7 div.sk-parallel-item:last-child::after {align-self: flex-start;width: 50%;}#sk-container-id-7 div.sk-parallel-item:only-child::after {width: 0;}#sk-container-id-7 div.sk-dashed-wrapped {border: 1px dashed gray;margin: 0 0.4em 0.5em 0.4em;box-sizing: border-box;padding-bottom: 0.4em;background-color: white;}#sk-container-id-7 div.sk-label label {font-family: monospace;font-weight: bold;display: inline-block;line-height: 1.2em;}#sk-container-id-7 div.sk-label-container {text-align: center;}#sk-container-id-7 div.sk-container {/* jupyter's `normalize.less` sets `[hidden] { display: none; }` but bootstrap.min.css set `[hidden] { display: none !important; }` so we also need the `!important` here to be able to override the default hidden behavior on the sphinx rendered scikit-learn.org. See: https://github.com/scikit-learn/scikit-learn/issues/21755 */display: inline-block !important;position: relative;}#sk-container-id-7 div.sk-text-repr-fallback {display: none;}</style><div id=\"sk-container-id-7\" class=\"sk-top-container\"><div class=\"sk-text-repr-fallback\"><pre>RandomForestClassifier()</pre><b>In a Jupyter environment, please rerun this cell to show the HTML representation or trust the notebook. <br />On GitHub, the HTML representation is unable to render, please try loading this page with nbviewer.org.</b></div><div class=\"sk-container\" hidden><div class=\"sk-item\"><div class=\"sk-estimator sk-toggleable\"><input class=\"sk-toggleable__control sk-hidden--visually\" id=\"sk-estimator-id-7\" type=\"checkbox\" checked><label for=\"sk-estimator-id-7\" class=\"sk-toggleable__label sk-toggleable__label-arrow\">RandomForestClassifier</label><div class=\"sk-toggleable__content\"><pre>RandomForestClassifier()</pre></div></div></div></div></div>"
            ]
          },
          "metadata": {},
          "execution_count": 192
        }
      ],
      "source": [
        "random_model.fit(X_train,Y_train)"
      ]
    },
    {
      "cell_type": "code",
      "execution_count": 193,
      "metadata": {
        "id": "it1DcX1zAHss"
      },
      "outputs": [],
      "source": [
        "y_pred=random_model.predict(X_test)"
      ]
    },
    {
      "cell_type": "code",
      "execution_count": 194,
      "metadata": {
        "id": "VWchLVKMUV4n",
        "colab": {
          "base_uri": "https://localhost:8080/"
        },
        "outputId": "9c0cfbb2-0119-42b5-e0e9-f4bdb576c4d2"
      },
      "outputs": [
        {
          "output_type": "execute_result",
          "data": {
            "text/plain": [
              "0.9237536656891495"
            ]
          },
          "metadata": {},
          "execution_count": 194
        }
      ],
      "source": [
        "random_model.score(X_test, Y_test)"
      ]
    },
    {
      "cell_type": "code",
      "execution_count": 195,
      "metadata": {
        "id": "omJ7mPuvIgbf",
        "colab": {
          "base_uri": "https://localhost:8080/"
        },
        "outputId": "fbdf7842-e8dc-40e8-fd58-4f834e84be72"
      },
      "outputs": [
        {
          "output_type": "execute_result",
          "data": {
            "text/plain": [
              "0.9237536656891495"
            ]
          },
          "metadata": {},
          "execution_count": 195
        }
      ],
      "source": [
        "accuracy_score(Y_test,y_pred)"
      ]
    },
    {
      "cell_type": "code",
      "execution_count": 196,
      "metadata": {
        "id": "RrKFo6wXIh2k",
        "colab": {
          "base_uri": "https://localhost:8080/"
        },
        "outputId": "6b7bab6c-76cb-4d05-b551-757fcdab613b"
      },
      "outputs": [
        {
          "output_type": "execute_result",
          "data": {
            "text/plain": [
              "0.9274924471299094"
            ]
          },
          "metadata": {},
          "execution_count": 196
        }
      ],
      "source": [
        "precision_score(Y_test,y_pred)"
      ]
    },
    {
      "cell_type": "code",
      "execution_count": 197,
      "metadata": {
        "id": "1eFHbaKSIhuh",
        "colab": {
          "base_uri": "https://localhost:8080/"
        },
        "outputId": "f5579bb3-5203-45cf-b6cc-59716ed3884b"
      },
      "outputs": [
        {
          "output_type": "execute_result",
          "data": {
            "text/plain": [
              "0.9164179104477612"
            ]
          },
          "metadata": {},
          "execution_count": 197
        }
      ],
      "source": [
        "recall_score(Y_test,y_pred)"
      ]
    },
    {
      "cell_type": "code",
      "source": [
        "f1_rf = f1_score(Y_test, y_pred)\n",
        "f1_rf"
      ],
      "metadata": {
        "id": "_UuyArbUe8JX",
        "colab": {
          "base_uri": "https://localhost:8080/"
        },
        "outputId": "49ae18d3-c850-4bc1-a78f-42d910d0e652"
      },
      "execution_count": 198,
      "outputs": [
        {
          "output_type": "execute_result",
          "data": {
            "text/plain": [
              "0.9219219219219219"
            ]
          },
          "metadata": {},
          "execution_count": 198
        }
      ]
    },
    {
      "cell_type": "code",
      "execution_count": 199,
      "metadata": {
        "id": "PD-r5qpjVbuo"
      },
      "outputs": [],
      "source": [
        "pred_prob4 = random_model.predict_proba(X_test)"
      ]
    },
    {
      "cell_type": "code",
      "execution_count": 200,
      "metadata": {
        "id": "bTtbDM1v_jGy",
        "colab": {
          "base_uri": "https://localhost:8080/"
        },
        "outputId": "dcad9742-1be6-486f-b9ff-86e1ee4f8b58"
      },
      "outputs": [
        {
          "output_type": "execute_result",
          "data": {
            "text/plain": [
              "array([[323,  24],\n",
              "       [ 28, 307]])"
            ]
          },
          "metadata": {},
          "execution_count": 200
        }
      ],
      "source": [
        "from sklearn import metrics\n",
        "cnf_matrix = metrics.confusion_matrix(Y_test,y_pred)\n",
        "cnf_matrix"
      ]
    },
    {
      "cell_type": "code",
      "execution_count": 201,
      "metadata": {
        "id": "Ovt2OxSTAXo1",
        "colab": {
          "base_uri": "https://localhost:8080/",
          "height": 568
        },
        "outputId": "014730e9-257f-4c69-bae7-ab808ba2a3fc"
      },
      "outputs": [
        {
          "output_type": "execute_result",
          "data": {
            "text/plain": [
              "Text(0.5, 427.9555555555555, 'Predicted label')"
            ]
          },
          "metadata": {},
          "execution_count": 201
        },
        {
          "output_type": "display_data",
          "data": {
            "text/plain": [
              "<Figure size 640x480 with 2 Axes>"
            ],
            "image/png": "[encoded data removed]"
          },
          "metadata": {}
        }
      ],
      "source": [
        "class_names=[0,1] # name  of classes\n",
        "fig, ax = plt.subplots()\n",
        "tick_marks = np.arange(len(class_names))\n",
        "plt.xticks(tick_marks, class_names)\n",
        "plt.yticks(tick_marks, class_names)\n",
        "# create heatmap\n",
        "sns.heatmap(pd.DataFrame(cnf_matrix), annot=True)\n",
        "ax.xaxis.set_label_position(\"top\")\n",
        "plt.tight_layout()\n",
        "plt.title('Confusion matrix', y=1.1)\n",
        "plt.ylabel('Actual label')\n",
        "plt.xlabel('Predicted label')"
      ]
    },
    {
      "cell_type": "markdown",
      "metadata": {
        "id": "0d-eXf0U6QsH"
      },
      "source": [
        "# **BAGGING AND BOOSTING**"
      ]
    },
    {
      "cell_type": "code",
      "execution_count": 202,
      "metadata": {
        "id": "5v8WZUAGYUuD"
      },
      "outputs": [],
      "source": [
        "from sklearn.ensemble import BaggingClassifier, AdaBoostClassifier"
      ]
    },
    {
      "cell_type": "code",
      "execution_count": 203,
      "metadata": {
        "id": "-ucFaroGp8DN",
        "colab": {
          "base_uri": "https://localhost:8080/",
          "height": 74
        },
        "outputId": "83c0b34d-f170-42da-f8b1-d1db9b60d1b9"
      },
      "outputs": [
        {
          "output_type": "execute_result",
          "data": {
            "text/plain": [
              "BaggingClassifier()"
            ],
            "text/html": [
              "<style>#sk-container-id-8 {color: black;background-color: white;}#sk-container-id-8 pre{padding: 0;}#sk-container-id-8 div.sk-toggleable {background-color: white;}#sk-container-id-8 label.sk-toggleable__label {cursor: pointer;display: block;width: 100%;margin-bottom: 0;padding: 0.3em;box-sizing: border-box;text-align: center;}#sk-container-id-8 label.sk-toggleable__label-arrow:before {content: \"▸\";float: left;margin-right: 0.25em;color: #696969;}#sk-container-id-8 label.sk-toggleable__label-arrow:hover:before {color: black;}#sk-container-id-8 div.sk-estimator:hover label.sk-toggleable__label-arrow:before {color: black;}#sk-container-id-8 div.sk-toggleable__content {max-height: 0;max-width: 0;overflow: hidden;text-align: left;background-color: #f0f8ff;}#sk-container-id-8 div.sk-toggleable__content pre {margin: 0.2em;color: black;border-radius: 0.25em;background-color: #f0f8ff;}#sk-container-id-8 input.sk-toggleable__control:checked~div.sk-toggleable__content {max-height: 200px;max-width: 100%;overflow: auto;}#sk-container-id-8 input.sk-toggleable__control:checked~label.sk-toggleable__label-arrow:before {content: \"▾\";}#sk-container-id-8 div.sk-estimator input.sk-toggleable__control:checked~label.sk-toggleable__label {background-color: #d4ebff;}#sk-container-id-8 div.sk-label input.sk-toggleable__control:checked~label.sk-toggleable__label {background-color: #d4ebff;}#sk-container-id-8 input.sk-hidden--visually {border: 0;clip: rect(1px 1px 1px 1px);clip: rect(1px, 1px, 1px, 1px);height: 1px;margin: -1px;overflow: hidden;padding: 0;position: absolute;width: 1px;}#sk-container-id-8 div.sk-estimator {font-family: monospace;background-color: #f0f8ff;border: 1px dotted black;border-radius: 0.25em;box-sizing: border-box;margin-bottom: 0.5em;}#sk-container-id-8 div.sk-estimator:hover {background-color: #d4ebff;}#sk-container-id-8 div.sk-parallel-item::after {content: \"\";width: 100%;border-bottom: 1px solid gray;flex-grow: 1;}#sk-container-id-8 div.sk-label:hover label.sk-toggleable__label {background-color: #d4ebff;}#sk-container-id-8 div.sk-serial::before {content: \"\";position: absolute;border-left: 1px solid gray;box-sizing: border-box;top: 0;bottom: 0;left: 50%;z-index: 0;}#sk-container-id-8 div.sk-serial {display: flex;flex-direction: column;align-items: center;background-color: white;padding-right: 0.2em;padding-left: 0.2em;position: relative;}#sk-container-id-8 div.sk-item {position: relative;z-index: 1;}#sk-container-id-8 div.sk-parallel {display: flex;align-items: stretch;justify-content: center;background-color: white;position: relative;}#sk-container-id-8 div.sk-item::before, #sk-container-id-8 div.sk-parallel-item::before {content: \"\";position: absolute;border-left: 1px solid gray;box-sizing: border-box;top: 0;bottom: 0;left: 50%;z-index: -1;}#sk-container-id-8 div.sk-parallel-item {display: flex;flex-direction: column;z-index: 1;position: relative;background-color: white;}#sk-container-id-8 div.sk-parallel-item:first-child::after {align-self: flex-end;width: 50%;}#sk-container-id-8 div.sk-parallel-item:last-child::after {align-self: flex-start;width: 50%;}#sk-container-id-8 div.sk-parallel-item:only-child::after {width: 0;}#sk-container-id-8 div.sk-dashed-wrapped {border: 1px dashed gray;margin: 0 0.4em 0.5em 0.4em;box-sizing: border-box;padding-bottom: 0.4em;background-color: white;}#sk-container-id-8 div.sk-label label {font-family: monospace;font-weight: bold;display: inline-block;line-height: 1.2em;}#sk-container-id-8 div.sk-label-container {text-align: center;}#sk-container-id-8 div.sk-container {/* jupyter's `normalize.less` sets `[hidden] { display: none; }` but bootstrap.min.css set `[hidden] { display: none !important; }` so we also need the `!important` here to be able to override the default hidden behavior on the sphinx rendered scikit-learn.org. See: https://github.com/scikit-learn/scikit-learn/issues/21755 */display: inline-block !important;position: relative;}#sk-container-id-8 div.sk-text-repr-fallback {display: none;}</style><div id=\"sk-container-id-8\" class=\"sk-top-container\"><div class=\"sk-text-repr-fallback\"><pre>BaggingClassifier()</pre><b>In a Jupyter environment, please rerun this cell to show the HTML representation or trust the notebook. <br />On GitHub, the HTML representation is unable to render, please try loading this page with nbviewer.org.</b></div><div class=\"sk-container\" hidden><div class=\"sk-item\"><div class=\"sk-estimator sk-toggleable\"><input class=\"sk-toggleable__control sk-hidden--visually\" id=\"sk-estimator-id-8\" type=\"checkbox\" checked><label for=\"sk-estimator-id-8\" class=\"sk-toggleable__label sk-toggleable__label-arrow\">BaggingClassifier</label><div class=\"sk-toggleable__content\"><pre>BaggingClassifier()</pre></div></div></div></div></div>"
            ]
          },
          "metadata": {},
          "execution_count": 203
        }
      ],
      "source": [
        "bagging_model = BaggingClassifier()\n",
        "bagging_model"
      ]
    },
    {
      "cell_type": "code",
      "execution_count": 204,
      "metadata": {
        "id": "M-BuHNBosrNQ",
        "colab": {
          "base_uri": "https://localhost:8080/",
          "height": 74
        },
        "outputId": "211ee0b0-a3ec-4b24-b53d-04231d18d32a"
      },
      "outputs": [
        {
          "output_type": "execute_result",
          "data": {
            "text/plain": [
              "BaggingClassifier()"
            ],
            "text/html": [
              "<style>#sk-container-id-9 {color: black;background-color: white;}#sk-container-id-9 pre{padding: 0;}#sk-container-id-9 div.sk-toggleable {background-color: white;}#sk-container-id-9 label.sk-toggleable__label {cursor: pointer;display: block;width: 100%;margin-bottom: 0;padding: 0.3em;box-sizing: border-box;text-align: center;}#sk-container-id-9 label.sk-toggleable__label-arrow:before {content: \"▸\";float: left;margin-right: 0.25em;color: #696969;}#sk-container-id-9 label.sk-toggleable__label-arrow:hover:before {color: black;}#sk-container-id-9 div.sk-estimator:hover label.sk-toggleable__label-arrow:before {color: black;}#sk-container-id-9 div.sk-toggleable__content {max-height: 0;max-width: 0;overflow: hidden;text-align: left;background-color: #f0f8ff;}#sk-container-id-9 div.sk-toggleable__content pre {margin: 0.2em;color: black;border-radius: 0.25em;background-color: #f0f8ff;}#sk-container-id-9 input.sk-toggleable__control:checked~div.sk-toggleable__content {max-height: 200px;max-width: 100%;overflow: auto;}#sk-container-id-9 input.sk-toggleable__control:checked~label.sk-toggleable__label-arrow:before {content: \"▾\";}#sk-container-id-9 div.sk-estimator input.sk-toggleable__control:checked~label.sk-toggleable__label {background-color: #d4ebff;}#sk-container-id-9 div.sk-label input.sk-toggleable__control:checked~label.sk-toggleable__label {background-color: #d4ebff;}#sk-container-id-9 input.sk-hidden--visually {border: 0;clip: rect(1px 1px 1px 1px);clip: rect(1px, 1px, 1px, 1px);height: 1px;margin: -1px;overflow: hidden;padding: 0;position: absolute;width: 1px;}#sk-container-id-9 div.sk-estimator {font-family: monospace;background-color: #f0f8ff;border: 1px dotted black;border-radius: 0.25em;box-sizing: border-box;margin-bottom: 0.5em;}#sk-container-id-9 div.sk-estimator:hover {background-color: #d4ebff;}#sk-container-id-9 div.sk-parallel-item::after {content: \"\";width: 100%;border-bottom: 1px solid gray;flex-grow: 1;}#sk-container-id-9 div.sk-label:hover label.sk-toggleable__label {background-color: #d4ebff;}#sk-container-id-9 div.sk-serial::before {content: \"\";position: absolute;border-left: 1px solid gray;box-sizing: border-box;top: 0;bottom: 0;left: 50%;z-index: 0;}#sk-container-id-9 div.sk-serial {display: flex;flex-direction: column;align-items: center;background-color: white;padding-right: 0.2em;padding-left: 0.2em;position: relative;}#sk-container-id-9 div.sk-item {position: relative;z-index: 1;}#sk-container-id-9 div.sk-parallel {display: flex;align-items: stretch;justify-content: center;background-color: white;position: relative;}#sk-container-id-9 div.sk-item::before, #sk-container-id-9 div.sk-parallel-item::before {content: \"\";position: absolute;border-left: 1px solid gray;box-sizing: border-box;top: 0;bottom: 0;left: 50%;z-index: -1;}#sk-container-id-9 div.sk-parallel-item {display: flex;flex-direction: column;z-index: 1;position: relative;background-color: white;}#sk-container-id-9 div.sk-parallel-item:first-child::after {align-self: flex-end;width: 50%;}#sk-container-id-9 div.sk-parallel-item:last-child::after {align-self: flex-start;width: 50%;}#sk-container-id-9 div.sk-parallel-item:only-child::after {width: 0;}#sk-container-id-9 div.sk-dashed-wrapped {border: 1px dashed gray;margin: 0 0.4em 0.5em 0.4em;box-sizing: border-box;padding-bottom: 0.4em;background-color: white;}#sk-container-id-9 div.sk-label label {font-family: monospace;font-weight: bold;display: inline-block;line-height: 1.2em;}#sk-container-id-9 div.sk-label-container {text-align: center;}#sk-container-id-9 div.sk-container {/* jupyter's `normalize.less` sets `[hidden] { display: none; }` but bootstrap.min.css set `[hidden] { display: none !important; }` so we also need the `!important` here to be able to override the default hidden behavior on the sphinx rendered scikit-learn.org. See: https://github.com/scikit-learn/scikit-learn/issues/21755 */display: inline-block !important;position: relative;}#sk-container-id-9 div.sk-text-repr-fallback {display: none;}</style><div id=\"sk-container-id-9\" class=\"sk-top-container\"><div class=\"sk-text-repr-fallback\"><pre>BaggingClassifier()</pre><b>In a Jupyter environment, please rerun this cell to show the HTML representation or trust the notebook. <br />On GitHub, the HTML representation is unable to render, please try loading this page with nbviewer.org.</b></div><div class=\"sk-container\" hidden><div class=\"sk-item\"><div class=\"sk-estimator sk-toggleable\"><input class=\"sk-toggleable__control sk-hidden--visually\" id=\"sk-estimator-id-9\" type=\"checkbox\" checked><label for=\"sk-estimator-id-9\" class=\"sk-toggleable__label sk-toggleable__label-arrow\">BaggingClassifier</label><div class=\"sk-toggleable__content\"><pre>BaggingClassifier()</pre></div></div></div></div></div>"
            ]
          },
          "metadata": {},
          "execution_count": 204
        }
      ],
      "source": [
        "bagging_model.fit(X_train, Y_train)"
      ]
    },
    {
      "cell_type": "code",
      "execution_count": 205,
      "metadata": {
        "id": "P1zGtW3Xs0st"
      },
      "outputs": [],
      "source": [
        "y_pred=bagging_model.predict(X_test)"
      ]
    },
    {
      "cell_type": "code",
      "execution_count": 206,
      "metadata": {
        "id": "IErSrYlpVXbP"
      },
      "outputs": [],
      "source": [
        "pred_prob5 = bagging_model.predict_proba(X_test)"
      ]
    },
    {
      "cell_type": "code",
      "execution_count": 207,
      "metadata": {
        "id": "tl3rOwsds8bP",
        "colab": {
          "base_uri": "https://localhost:8080/"
        },
        "outputId": "4e6a88fb-532e-4139-e53d-b599d443a8ae"
      },
      "outputs": [
        {
          "output_type": "execute_result",
          "data": {
            "text/plain": [
              "0.9178885630498533"
            ]
          },
          "metadata": {},
          "execution_count": 207
        }
      ],
      "source": [
        "bagging_model.score(X_test,Y_test)"
      ]
    },
    {
      "cell_type": "code",
      "execution_count": 208,
      "metadata": {
        "id": "yVra6IuwItrr",
        "colab": {
          "base_uri": "https://localhost:8080/"
        },
        "outputId": "d7fbcc7f-d047-41a6-afaf-6c2e1bda6f3d"
      },
      "outputs": [
        {
          "output_type": "execute_result",
          "data": {
            "text/plain": [
              "0.9178885630498533"
            ]
          },
          "metadata": {},
          "execution_count": 208
        }
      ],
      "source": [
        "accuracy_score(Y_test,y_pred)"
      ]
    },
    {
      "cell_type": "code",
      "execution_count": 209,
      "metadata": {
        "id": "JwvoqrfFIvrV",
        "colab": {
          "base_uri": "https://localhost:8080/"
        },
        "outputId": "17ae79c0-77e4-4658-beda-4205d573a4a4"
      },
      "outputs": [
        {
          "output_type": "execute_result",
          "data": {
            "text/plain": [
              "0.9345794392523364"
            ]
          },
          "metadata": {},
          "execution_count": 209
        }
      ],
      "source": [
        "precision_score(Y_test,y_pred)"
      ]
    },
    {
      "cell_type": "code",
      "execution_count": 210,
      "metadata": {
        "id": "pVwNTmKdIvgq",
        "colab": {
          "base_uri": "https://localhost:8080/"
        },
        "outputId": "e3fb848f-e4ea-4903-bac8-0513c3caf22b"
      },
      "outputs": [
        {
          "output_type": "execute_result",
          "data": {
            "text/plain": [
              "0.8955223880597015"
            ]
          },
          "metadata": {},
          "execution_count": 210
        }
      ],
      "source": [
        "recall_score(Y_test,y_pred)"
      ]
    },
    {
      "cell_type": "code",
      "source": [
        "f1_bb = f1_score(Y_test, y_pred)\n",
        "f1_bb"
      ],
      "metadata": {
        "id": "gxB5-LULfA3g",
        "colab": {
          "base_uri": "https://localhost:8080/"
        },
        "outputId": "4405b52a-7140-4785-bd52-7fe4cacdb1a6"
      },
      "execution_count": 211,
      "outputs": [
        {
          "output_type": "execute_result",
          "data": {
            "text/plain": [
              "0.9146341463414633"
            ]
          },
          "metadata": {},
          "execution_count": 211
        }
      ]
    },
    {
      "cell_type": "code",
      "execution_count": 212,
      "metadata": {
        "id": "6KxgYmuoAhxe",
        "colab": {
          "base_uri": "https://localhost:8080/"
        },
        "outputId": "4dc1f294-add0-4a1e-ed72-05d7c506945b"
      },
      "outputs": [
        {
          "output_type": "execute_result",
          "data": {
            "text/plain": [
              "array([[326,  21],\n",
              "       [ 35, 300]])"
            ]
          },
          "metadata": {},
          "execution_count": 212
        }
      ],
      "source": [
        "from sklearn import metrics\n",
        "cnf_matrix = metrics.confusion_matrix(Y_test,y_pred)\n",
        "cnf_matrix"
      ]
    },
    {
      "cell_type": "code",
      "execution_count": 213,
      "metadata": {
        "id": "iap8Ye_tAdgl",
        "colab": {
          "base_uri": "https://localhost:8080/",
          "height": 568
        },
        "outputId": "5820eea1-f52d-45be-be1a-7642d56e9ec7"
      },
      "outputs": [
        {
          "output_type": "execute_result",
          "data": {
            "text/plain": [
              "Text(0.5, 427.9555555555555, 'Predicted label')"
            ]
          },
          "metadata": {},
          "execution_count": 213
        },
        {
          "output_type": "display_data",
          "data": {
            "text/plain": [
              "<Figure size 640x480 with 2 Axes>"
            ],
            "image/png": "[encoded data removed]"
          },
          "metadata": {}
        }
      ],
      "source": [
        "class_names=[0,1] # name  of classes\n",
        "fig, ax = plt.subplots()\n",
        "tick_marks = np.arange(len(class_names))\n",
        "plt.xticks(tick_marks, class_names)\n",
        "plt.yticks(tick_marks, class_names)\n",
        "# create heatmap\n",
        "sns.heatmap(pd.DataFrame(cnf_matrix), annot=True)\n",
        "ax.xaxis.set_label_position(\"top\")\n",
        "plt.tight_layout()\n",
        "plt.title('Confusion matrix', y=1.1)\n",
        "plt.ylabel('Actual label')\n",
        "plt.xlabel('Predicted label')"
      ]
    },
    {
      "cell_type": "markdown",
      "metadata": {
        "id": "kidvdWveCEyH"
      },
      "source": [
        "# **NAIVE BAYES**"
      ]
    },
    {
      "cell_type": "code",
      "execution_count": 214,
      "metadata": {
        "id": "SZMWJkpGs_F1"
      },
      "outputs": [],
      "source": [
        "from sklearn.naive_bayes import GaussianNB\n",
        "from sklearn.metrics import accuracy_score\n",
        "model_6= GaussianNB()"
      ]
    },
    {
      "cell_type": "code",
      "execution_count": 215,
      "metadata": {
        "id": "pNeo-X0ORQDb",
        "colab": {
          "base_uri": "https://localhost:8080/",
          "height": 74
        },
        "outputId": "f6a62906-f141-4efe-bd43-40d598da30b6"
      },
      "outputs": [
        {
          "output_type": "execute_result",
          "data": {
            "text/plain": [
              "GaussianNB()"
            ],
            "text/html": [
              "<style>#sk-container-id-10 {color: black;background-color: white;}#sk-container-id-10 pre{padding: 0;}#sk-container-id-10 div.sk-toggleable {background-color: white;}#sk-container-id-10 label.sk-toggleable__label {cursor: pointer;display: block;width: 100%;margin-bottom: 0;padding: 0.3em;box-sizing: border-box;text-align: center;}#sk-container-id-10 label.sk-toggleable__label-arrow:before {content: \"▸\";float: left;margin-right: 0.25em;color: #696969;}#sk-container-id-10 label.sk-toggleable__label-arrow:hover:before {color: black;}#sk-container-id-10 div.sk-estimator:hover label.sk-toggleable__label-arrow:before {color: black;}#sk-container-id-10 div.sk-toggleable__content {max-height: 0;max-width: 0;overflow: hidden;text-align: left;background-color: #f0f8ff;}#sk-container-id-10 div.sk-toggleable__content pre {margin: 0.2em;color: black;border-radius: 0.25em;background-color: #f0f8ff;}#sk-container-id-10 input.sk-toggleable__control:checked~div.sk-toggleable__content {max-height: 200px;max-width: 100%;overflow: auto;}#sk-container-id-10 input.sk-toggleable__control:checked~label.sk-toggleable__label-arrow:before {content: \"▾\";}#sk-container-id-10 div.sk-estimator input.sk-toggleable__control:checked~label.sk-toggleable__label {background-color: #d4ebff;}#sk-container-id-10 div.sk-label input.sk-toggleable__control:checked~label.sk-toggleable__label {background-color: #d4ebff;}#sk-container-id-10 input.sk-hidden--visually {border: 0;clip: rect(1px 1px 1px 1px);clip: rect(1px, 1px, 1px, 1px);height: 1px;margin: -1px;overflow: hidden;padding: 0;position: absolute;width: 1px;}#sk-container-id-10 div.sk-estimator {font-family: monospace;background-color: #f0f8ff;border: 1px dotted black;border-radius: 0.25em;box-sizing: border-box;margin-bottom: 0.5em;}#sk-container-id-10 div.sk-estimator:hover {background-color: #d4ebff;}#sk-container-id-10 div.sk-parallel-item::after {content: \"\";width: 100%;border-bottom: 1px solid gray;flex-grow: 1;}#sk-container-id-10 div.sk-label:hover label.sk-toggleable__label {background-color: #d4ebff;}#sk-container-id-10 div.sk-serial::before {content: \"\";position: absolute;border-left: 1px solid gray;box-sizing: border-box;top: 0;bottom: 0;left: 50%;z-index: 0;}#sk-container-id-10 div.sk-serial {display: flex;flex-direction: column;align-items: center;background-color: white;padding-right: 0.2em;padding-left: 0.2em;position: relative;}#sk-container-id-10 div.sk-item {position: relative;z-index: 1;}#sk-container-id-10 div.sk-parallel {display: flex;align-items: stretch;justify-content: center;background-color: white;position: relative;}#sk-container-id-10 div.sk-item::before, #sk-container-id-10 div.sk-parallel-item::before {content: \"\";position: absolute;border-left: 1px solid gray;box-sizing: border-box;top: 0;bottom: 0;left: 50%;z-index: -1;}#sk-container-id-10 div.sk-parallel-item {display: flex;flex-direction: column;z-index: 1;position: relative;background-color: white;}#sk-container-id-10 div.sk-parallel-item:first-child::after {align-self: flex-end;width: 50%;}#sk-container-id-10 div.sk-parallel-item:last-child::after {align-self: flex-start;width: 50%;}#sk-container-id-10 div.sk-parallel-item:only-child::after {width: 0;}#sk-container-id-10 div.sk-dashed-wrapped {border: 1px dashed gray;margin: 0 0.4em 0.5em 0.4em;box-sizing: border-box;padding-bottom: 0.4em;background-color: white;}#sk-container-id-10 div.sk-label label {font-family: monospace;font-weight: bold;display: inline-block;line-height: 1.2em;}#sk-container-id-10 div.sk-label-container {text-align: center;}#sk-container-id-10 div.sk-container {/* jupyter's `normalize.less` sets `[hidden] { display: none; }` but bootstrap.min.css set `[hidden] { display: none !important; }` so we also need the `!important` here to be able to override the default hidden behavior on the sphinx rendered scikit-learn.org. See: https://github.com/scikit-learn/scikit-learn/issues/21755 */display: inline-block !important;position: relative;}#sk-container-id-10 div.sk-text-repr-fallback {display: none;}</style><div id=\"sk-container-id-10\" class=\"sk-top-container\"><div class=\"sk-text-repr-fallback\"><pre>GaussianNB()</pre><b>In a Jupyter environment, please rerun this cell to show the HTML representation or trust the notebook. <br />On GitHub, the HTML representation is unable to render, please try loading this page with nbviewer.org.</b></div><div class=\"sk-container\" hidden><div class=\"sk-item\"><div class=\"sk-estimator sk-toggleable\"><input class=\"sk-toggleable__control sk-hidden--visually\" id=\"sk-estimator-id-10\" type=\"checkbox\" checked><label for=\"sk-estimator-id-10\" class=\"sk-toggleable__label sk-toggleable__label-arrow\">GaussianNB</label><div class=\"sk-toggleable__content\"><pre>GaussianNB()</pre></div></div></div></div></div>"
            ]
          },
          "metadata": {},
          "execution_count": 215
        }
      ],
      "source": [
        "model_6.fit(X_train,Y_train)"
      ]
    },
    {
      "cell_type": "code",
      "execution_count": 216,
      "metadata": {
        "id": "FjFriqnPRYbs",
        "colab": {
          "base_uri": "https://localhost:8080/"
        },
        "outputId": "1b8bbc9a-3f08-4c43-f692-237cddf34143"
      },
      "outputs": [
        {
          "output_type": "execute_result",
          "data": {
            "text/plain": [
              "array([1., 1., 1., 1., 1., 1., 1., 0., 0., 0., 0., 0., 0., 1., 1., 1., 0.,\n",
              "       0., 0., 1., 0., 1., 1., 1., 0., 0., 0., 1., 0., 0., 0., 1., 0., 1.,\n",
              "       0., 0., 0., 0., 0., 1., 1., 1., 0., 0., 1., 1., 1., 0., 0., 0., 0.,\n",
              "       1., 0., 1., 1., 0., 1., 0., 1., 1., 0., 0., 0., 0., 0., 1., 1., 1.,\n",
              "       0., 0., 1., 1., 0., 0., 1., 0., 0., 1., 1., 1., 1., 1., 0., 1., 0.,\n",
              "       0., 0., 1., 0., 0., 1., 0., 0., 0., 1., 1., 0., 1., 1., 1., 1., 0.,\n",
              "       0., 1., 0., 0., 1., 0., 1., 0., 1., 0., 0., 0., 1., 0., 1., 0., 0.,\n",
              "       0., 0., 1., 1., 1., 0., 0., 0., 1., 1., 0., 1., 0., 0., 1., 1., 1.,\n",
              "       0., 0., 1., 1., 1., 1., 0., 0., 1., 1., 1., 0., 1., 1., 1., 0., 1.,\n",
              "       1., 0., 0., 1., 0., 1., 1., 0., 0., 1., 0., 0., 0., 1., 0., 1., 1.,\n",
              "       0., 1., 1., 1., 0., 1., 1., 0., 0., 1., 0., 0., 0., 0., 0., 1., 0.,\n",
              "       0., 0., 1., 1., 0., 1., 0., 1., 0., 1., 1., 0., 0., 1., 0., 0., 0.,\n",
              "       0., 0., 1., 0., 0., 0., 0., 1., 0., 0., 1., 1., 0., 0., 1., 0., 0.,\n",
              "       0., 0., 0., 0., 1., 1., 1., 0., 1., 0., 1., 1., 0., 0., 1., 0., 0.,\n",
              "       0., 0., 1., 1., 0., 1., 1., 1., 0., 0., 1., 1., 1., 0., 1., 1., 1.,\n",
              "       0., 1., 0., 0., 1., 0., 0., 0., 0., 0., 0., 0., 0., 0., 0., 0., 1.,\n",
              "       1., 1., 1., 1., 0., 0., 1., 0., 0., 1., 0., 0., 0., 0., 0., 0., 1.,\n",
              "       1., 0., 1., 0., 1., 0., 0., 1., 1., 0., 0., 0., 0., 1., 1., 0., 0.,\n",
              "       1., 1., 0., 0., 0., 0., 1., 0., 0., 0., 0., 0., 0., 0., 0., 1., 0.,\n",
              "       0., 1., 0., 1., 1., 0., 1., 0., 1., 0., 0., 1., 1., 0., 0., 1., 1.,\n",
              "       0., 1., 1., 1., 0., 1., 0., 1., 0., 0., 0., 0., 0., 0., 0., 1., 1.,\n",
              "       0., 0., 0., 1., 1., 0., 1., 0., 1., 1., 1., 0., 0., 0., 1., 0., 0.,\n",
              "       0., 0., 1., 1., 1., 1., 1., 1., 1., 0., 1., 0., 0., 0., 0., 1., 0.,\n",
              "       1., 0., 0., 0., 1., 1., 0., 0., 0., 0., 1., 0., 0., 0., 0., 1., 0.,\n",
              "       1., 0., 1., 0., 0., 0., 0., 0., 1., 0., 0., 1., 0., 1., 0., 1., 0.,\n",
              "       1., 1., 0., 1., 1., 0., 1., 1., 0., 1., 0., 0., 0., 1., 0., 1., 1.,\n",
              "       0., 0., 0., 1., 1., 1., 0., 1., 1., 1., 0., 1., 0., 0., 0., 1., 1.,\n",
              "       0., 0., 1., 1., 1., 0., 1., 1., 0., 0., 0., 0., 1., 0., 0., 0., 0.,\n",
              "       0., 0., 0., 0., 0., 1., 1., 1., 1., 0., 0., 1., 0., 0., 0., 1., 0.,\n",
              "       1., 0., 0., 0., 0., 0., 0., 0., 0., 0., 1., 0., 1., 0., 1., 1., 1.,\n",
              "       0., 0., 1., 0., 1., 0., 0., 0., 0., 0., 0., 1., 0., 0., 0., 1., 1.,\n",
              "       0., 0., 1., 1., 1., 0., 1., 0., 0., 1., 0., 0., 0., 0., 0., 1., 1.,\n",
              "       1., 0., 1., 1., 0., 0., 0., 0., 0., 1., 0., 0., 0., 0., 0., 0., 0.,\n",
              "       0., 0., 1., 0., 1., 1., 0., 0., 0., 1., 0., 0., 1., 1., 0., 0., 0.,\n",
              "       0., 0., 0., 1., 0., 0., 1., 1., 0., 0., 1., 1., 1., 1., 0., 0., 1.,\n",
              "       0., 0., 1., 1., 1., 0., 1., 1., 0., 0., 0., 0., 0., 0., 0., 0., 0.,\n",
              "       1., 1., 0., 0., 1., 1., 0., 1., 0., 1., 0., 1., 0., 1., 1., 0., 1.,\n",
              "       1., 1., 0., 1., 1., 1., 0., 0., 1., 0., 0., 1., 0., 0., 1., 0., 0.,\n",
              "       0., 0., 1., 0., 0., 1., 0., 1., 1., 0., 1., 1., 1., 1., 1., 0., 0.,\n",
              "       0., 1., 1., 0., 1., 0., 1., 1., 0., 1., 1., 1., 1., 0., 1., 0., 0.,\n",
              "       1., 0.])"
            ]
          },
          "metadata": {},
          "execution_count": 216
        }
      ],
      "source": [
        "predict_train=model_6.predict(X_test)\n",
        "predict_train"
      ]
    },
    {
      "cell_type": "code",
      "execution_count": 217,
      "metadata": {
        "id": "ny3ytDpFVOt7"
      },
      "outputs": [],
      "source": [
        "pred_prob6= model_6.predict_proba(X_test)"
      ]
    },
    {
      "cell_type": "code",
      "execution_count": 218,
      "metadata": {
        "id": "-SxoayZuMYdS",
        "colab": {
          "base_uri": "https://localhost:8080/"
        },
        "outputId": "98a444e7-797a-4b75-838d-08b1d1b2735d"
      },
      "outputs": [
        {
          "output_type": "execute_result",
          "data": {
            "text/plain": [
              "0.6026392961876833"
            ]
          },
          "metadata": {},
          "execution_count": 218
        }
      ],
      "source": [
        "model_6.score(X_test,Y_test)"
      ]
    },
    {
      "cell_type": "code",
      "execution_count": 219,
      "metadata": {
        "id": "9p4TerYOMRKW",
        "colab": {
          "base_uri": "https://localhost:8080/"
        },
        "outputId": "b845368e-9918-42f5-ff59-7fd6e4a3a28f"
      },
      "outputs": [
        {
          "output_type": "execute_result",
          "data": {
            "text/plain": [
              "0.608843537414966"
            ]
          },
          "metadata": {},
          "execution_count": 219
        }
      ],
      "source": [
        "precision_score(Y_test,predict_train)"
      ]
    },
    {
      "cell_type": "code",
      "execution_count": 220,
      "metadata": {
        "id": "16fUEtFiRshw",
        "colab": {
          "base_uri": "https://localhost:8080/"
        },
        "outputId": "3bd90364-7456-4050-fa49-64d0891e6786"
      },
      "outputs": [
        {
          "output_type": "stream",
          "name": "stdout",
          "text": [
            "accuracy score 0.6026392961876833\n"
          ]
        }
      ],
      "source": [
        "trainaccuracy = accuracy_score(Y_test,predict_train)\n",
        "print('accuracy score',trainaccuracy)"
      ]
    },
    {
      "cell_type": "code",
      "execution_count": 221,
      "metadata": {
        "id": "B6YrVuIhilm3",
        "colab": {
          "base_uri": "https://localhost:8080/"
        },
        "outputId": "0ac0ba86-b8de-420c-bf14-aed507f4447f"
      },
      "outputs": [
        {
          "output_type": "execute_result",
          "data": {
            "text/plain": [
              "0.5343283582089552"
            ]
          },
          "metadata": {},
          "execution_count": 221
        }
      ],
      "source": [
        "recall_score(Y_test,predict_train)"
      ]
    },
    {
      "cell_type": "code",
      "execution_count": 222,
      "metadata": {
        "id": "T9mcMN01SO0s",
        "colab": {
          "base_uri": "https://localhost:8080/"
        },
        "outputId": "d06a7f95-542f-4569-e8c1-ae48e4b6a3fc"
      },
      "outputs": [
        {
          "output_type": "stream",
          "name": "stdout",
          "text": [
            "[[232 115]\n",
            " [156 179]]\n"
          ]
        }
      ],
      "source": [
        "from sklearn import metrics\n",
        "confusion = metrics.confusion_matrix(Y_test,predict_train)\n",
        "print(confusion)"
      ]
    },
    {
      "cell_type": "code",
      "execution_count": 223,
      "metadata": {
        "id": "mzNxzmHrSdfQ"
      },
      "outputs": [],
      "source": [
        "TP=confusion[1,1] #true positive\n",
        "TN=confusion[0,0] #true negatives\n",
        "FP=confusion[0,1] #false positives\n",
        "FN=confusion[1,0] #false negatives"
      ]
    },
    {
      "cell_type": "code",
      "execution_count": 224,
      "metadata": {
        "id": "dkeESNssWKJF",
        "colab": {
          "base_uri": "https://localhost:8080/",
          "height": 568
        },
        "outputId": "e9f38efa-2e46-43d8-e9ef-13b7abc48d95"
      },
      "outputs": [
        {
          "output_type": "execute_result",
          "data": {
            "text/plain": [
              "Text(0.5, 427.9555555555555, 'Predicted label')"
            ]
          },
          "metadata": {},
          "execution_count": 224
        },
        {
          "output_type": "display_data",
          "data": {
            "text/plain": [
              "<Figure size 640x480 with 2 Axes>"
            ],
            "image/png": "[encoded data removed]"
          },
          "metadata": {}
        }
      ],
      "source": [
        "class_names=[0,1] # name  of classes\n",
        "fig, ax = plt.subplots()\n",
        "tick_marks = np.arange(len(class_names))\n",
        "plt.xticks(tick_marks, class_names)\n",
        "plt.yticks(tick_marks, class_names)\n",
        "# create heatmap\n",
        "sns.heatmap(pd.DataFrame(confusion), annot=True)\n",
        "ax.xaxis.set_label_position(\"top\")\n",
        "plt.tight_layout()\n",
        "plt.title('Confusion matrix', y=1.1)\n",
        "plt.ylabel('Actual label')\n",
        "plt.xlabel('Predicted label')"
      ]
    },
    {
      "cell_type": "code",
      "execution_count": 225,
      "metadata": {
        "id": "QyRTFMp8O0EK"
      },
      "outputs": [],
      "source": [
        "final_data = pd.DataFrame({'Models': ['Logistic Regression', 'KNN', 'Decision Trees', 'Random Forest', 'Bagging & Boosting', 'Naive Bayes'],\n",
        "                           'Score': [model1.score(X_test, Y_test),knn.score(X_test, Y_test),decision_model.score(X_test, Y_test),random_model.score(X_test, Y_test),bagging_model.score(X_test, Y_test),accuracy_score(Y_test,predict_train)]})"
      ]
    },
    {
      "cell_type": "code",
      "execution_count": 226,
      "metadata": {
        "id": "yN9MPI2bQt9g",
        "colab": {
          "base_uri": "https://localhost:8080/",
          "height": 237
        },
        "outputId": "be68430d-f87c-4ace-a1f5-e87c47eb6cd9"
      },
      "outputs": [
        {
          "output_type": "execute_result",
          "data": {
            "text/plain": [
              "                Models     Score\n",
              "0  Logistic Regression  0.599707\n",
              "1                  KNN  0.673021\n",
              "2       Decision Trees  0.870968\n",
              "3        Random Forest  0.923754\n",
              "4   Bagging & Boosting  0.917889\n",
              "5          Naive Bayes  0.602639"
            ],
            "text/html": [
              "\n",
              "  <div id=\"df-9fd9352b-da69-4e31-9e4e-a04137bde85a\" class=\"colab-df-container\">\n",
              "    <div>\n",
              "<style scoped>\n",
              "    .dataframe tbody tr th:only-of-type {\n",
              "        vertical-align: middle;\n",
              "    }\n",
              "\n",
              "    .dataframe tbody tr th {\n",
              "        vertical-align: top;\n",
              "    }\n",
              "\n",
              "    .dataframe thead th {\n",
              "        text-align: right;\n",
              "    }\n",
              "</style>\n",
              "<table border=\"1\" class=\"dataframe\">\n",
              "  <thead>\n",
              "    <tr style=\"text-align: right;\">\n",
              "      <th></th>\n",
              "      <th>Models</th>\n",
              "      <th>Score</th>\n",
              "    </tr>\n",
              "  </thead>\n",
              "  <tbody>\n",
              "    <tr>\n",
              "      <th>0</th>\n",
              "      <td>Logistic Regression</td>\n",
              "      <td>0.599707</td>\n",
              "    </tr>\n",
              "    <tr>\n",
              "      <th>1</th>\n",
              "      <td>KNN</td>\n",
              "      <td>0.673021</td>\n",
              "    </tr>\n",
              "    <tr>\n",
              "      <th>2</th>\n",
              "      <td>Decision Trees</td>\n",
              "      <td>0.870968</td>\n",
              "    </tr>\n",
              "    <tr>\n",
              "      <th>3</th>\n",
              "      <td>Random Forest</td>\n",
              "      <td>0.923754</td>\n",
              "    </tr>\n",
              "    <tr>\n",
              "      <th>4</th>\n",
              "      <td>Bagging &amp; Boosting</td>\n",
              "      <td>0.917889</td>\n",
              "    </tr>\n",
              "    <tr>\n",
              "      <th>5</th>\n",
              "      <td>Naive Bayes</td>\n",
              "      <td>0.602639</td>\n",
              "    </tr>\n",
              "  </tbody>\n",
              "</table>\n",
              "</div>\n",
              "    <div class=\"colab-df-buttons\">\n",
              "\n",
              "  <div class=\"colab-df-container\">\n",
              "    <button class=\"colab-df-convert\" onclick=\"convertToInteractive('df-9fd9352b-da69-4e31-9e4e-a04137bde85a')\"\n",
              "            title=\"Convert this dataframe to an interactive table.\"\n",
              "            style=\"display:none;\">\n",
              "\n",
              "  <svg xmlns=\"http://www.w3.org/2000/svg\" height=\"24px\" viewBox=\"0 -960 960 960\">\n",
              "    <path d=\"M120-120v-720h720v720H120Zm60-500h600v-160H180v160Zm220 220h160v-160H400v160Zm0 220h160v-160H400v160ZM180-400h160v-160H180v160Zm440 0h160v-160H620v160ZM180-180h160v-160H180v160Zm440 0h160v-160H620v160Z\"/>\n",
              "  </svg>\n",
              "    </button>\n",
              "\n",
              "  <style>\n",
              "    .colab-df-container {\n",
              "      display:flex;\n",
              "      gap: 12px;\n",
              "    }\n",
              "\n",
              "    .colab-df-convert {\n",
              "      background-color: #E8F0FE;\n",
              "      border: none;\n",
              "      border-radius: 50%;\n",
              "      cursor: pointer;\n",
              "      display: none;\n",
              "      fill: #1967D2;\n",
              "      height: 32px;\n",
              "      padding: 0 0 0 0;\n",
              "      width: 32px;\n",
              "    }\n",
              "\n",
              "    .colab-df-convert:hover {\n",
              "      background-color: #E2EBFA;\n",
              "      box-shadow: 0px 1px 2px rgba(60, 64, 67, 0.3), 0px 1px 3px 1px rgba(60, 64, 67, 0.15);\n",
              "      fill: #174EA6;\n",
              "    }\n",
              "\n",
              "    .colab-df-buttons div {\n",
              "      margin-bottom: 4px;\n",
              "    }\n",
              "\n",
              "    [theme=dark] .colab-df-convert {\n",
              "      background-color: #3B4455;\n",
              "      fill: #D2E3FC;\n",
              "    }\n",
              "\n",
              "    [theme=dark] .colab-df-convert:hover {\n",
              "      background-color: #434B5C;\n",
              "      box-shadow: 0px 1px 3px 1px rgba(0, 0, 0, 0.15);\n",
              "      filter: drop-shadow(0px 1px 2px rgba(0, 0, 0, 0.3));\n",
              "      fill: #FFFFFF;\n",
              "    }\n",
              "  </style>\n",
              "\n",
              "    <script>\n",
              "      const buttonEl =\n",
              "        document.querySelector('#df-9fd9352b-da69-4e31-9e4e-a04137bde85a button.colab-df-convert');\n",
              "      buttonEl.style.display =\n",
              "        google.colab.kernel.accessAllowed ? 'block' : 'none';\n",
              "\n",
              "      async function convertToInteractive(key) {\n",
              "        const element = document.querySelector('#df-9fd9352b-da69-4e31-9e4e-a04137bde85a');\n",
              "        const dataTable =\n",
              "          await google.colab.kernel.invokeFunction('convertToInteractive',\n",
              "                                                    [key], {});\n",
              "        if (!dataTable) return;\n",
              "\n",
              "        const docLinkHtml = 'Like what you see? Visit the ' +\n",
              "          '<a target=\"_blank\" href=https://colab.research.google.com/notebooks/data_table.ipynb>data table notebook</a>'\n",
              "          + ' to learn more about interactive tables.';\n",
              "        element.innerHTML = '';\n",
              "        dataTable['output_type'] = 'display_data';\n",
              "        await google.colab.output.renderOutput(dataTable, element);\n",
              "        const docLink = document.createElement('div');\n",
              "        docLink.innerHTML = docLinkHtml;\n",
              "        element.appendChild(docLink);\n",
              "      }\n",
              "    </script>\n",
              "  </div>\n",
              "\n",
              "\n",
              "<div id=\"df-24cb00f3-19ad-4b98-9698-96ac9fec09e8\">\n",
              "  <button class=\"colab-df-quickchart\" onclick=\"quickchart('df-24cb00f3-19ad-4b98-9698-96ac9fec09e8')\"\n",
              "            title=\"Suggest charts\"\n",
              "            style=\"display:none;\">\n",
              "\n",
              "<svg xmlns=\"http://www.w3.org/2000/svg\" height=\"24px\"viewBox=\"0 0 24 24\"\n",
              "     width=\"24px\">\n",
              "    <g>\n",
              "        <path d=\"M19 3H5c-1.1 0-2 .9-2 2v14c0 1.1.9 2 2 2h14c1.1 0 2-.9 2-2V5c0-1.1-.9-2-2-2zM9 17H7v-7h2v7zm4 0h-2V7h2v10zm4 0h-2v-4h2v4z\"/>\n",
              "    </g>\n",
              "</svg>\n",
              "  </button>\n",
              "\n",
              "<style>\n",
              "  .colab-df-quickchart {\n",
              "      --bg-color: #E8F0FE;\n",
              "      --fill-color: #1967D2;\n",
              "      --hover-bg-color: #E2EBFA;\n",
              "      --hover-fill-color: #174EA6;\n",
              "      --disabled-fill-color: #AAA;\n",
              "      --disabled-bg-color: #DDD;\n",
              "  }\n",
              "\n",
              "  [theme=dark] .colab-df-quickchart {\n",
              "      --bg-color: #3B4455;\n",
              "      --fill-color: #D2E3FC;\n",
              "      --hover-bg-color: #434B5C;\n",
              "      --hover-fill-color: #FFFFFF;\n",
              "      --disabled-bg-color: #3B4455;\n",
              "      --disabled-fill-color: #666;\n",
              "  }\n",
              "\n",
              "  .colab-df-quickchart {\n",
              "    background-color: var(--bg-color);\n",
              "    border: none;\n",
              "    border-radius: 50%;\n",
              "    cursor: pointer;\n",
              "    display: none;\n",
              "    fill: var(--fill-color);\n",
              "    height: 32px;\n",
              "    padding: 0;\n",
              "    width: 32px;\n",
              "  }\n",
              "\n",
              "  .colab-df-quickchart:hover {\n",
              "    background-color: var(--hover-bg-color);\n",
              "    box-shadow: 0 1px 2px rgba(60, 64, 67, 0.3), 0 1px 3px 1px rgba(60, 64, 67, 0.15);\n",
              "    fill: var(--button-hover-fill-color);\n",
              "  }\n",
              "\n",
              "  .colab-df-quickchart-complete:disabled,\n",
              "  .colab-df-quickchart-complete:disabled:hover {\n",
              "    background-color: var(--disabled-bg-color);\n",
              "    fill: var(--disabled-fill-color);\n",
              "    box-shadow: none;\n",
              "  }\n",
              "\n",
              "  .colab-df-spinner {\n",
              "    border: 2px solid var(--fill-color);\n",
              "    border-color: transparent;\n",
              "    border-bottom-color: var(--fill-color);\n",
              "    animation:\n",
              "      spin 1s steps(1) infinite;\n",
              "  }\n",
              "\n",
              "  @keyframes spin {\n",
              "    0% {\n",
              "      border-color: transparent;\n",
              "      border-bottom-color: var(--fill-color);\n",
              "      border-left-color: var(--fill-color);\n",
              "    }\n",
              "    20% {\n",
              "      border-color: transparent;\n",
              "      border-left-color: var(--fill-color);\n",
              "      border-top-color: var(--fill-color);\n",
              "    }\n",
              "    30% {\n",
              "      border-color: transparent;\n",
              "      border-left-color: var(--fill-color);\n",
              "      border-top-color: var(--fill-color);\n",
              "      border-right-color: var(--fill-color);\n",
              "    }\n",
              "    40% {\n",
              "      border-color: transparent;\n",
              "      border-right-color: var(--fill-color);\n",
              "      border-top-color: var(--fill-color);\n",
              "    }\n",
              "    60% {\n",
              "      border-color: transparent;\n",
              "      border-right-color: var(--fill-color);\n",
              "    }\n",
              "    80% {\n",
              "      border-color: transparent;\n",
              "      border-right-color: var(--fill-color);\n",
              "      border-bottom-color: var(--fill-color);\n",
              "    }\n",
              "    90% {\n",
              "      border-color: transparent;\n",
              "      border-bottom-color: var(--fill-color);\n",
              "    }\n",
              "  }\n",
              "</style>\n",
              "\n",
              "  <script>\n",
              "    async function quickchart(key) {\n",
              "      const quickchartButtonEl =\n",
              "        document.querySelector('#' + key + ' button');\n",
              "      quickchartButtonEl.disabled = true;  // To prevent multiple clicks.\n",
              "      quickchartButtonEl.classList.add('colab-df-spinner');\n",
              "      try {\n",
              "        const charts = await google.colab.kernel.invokeFunction(\n",
              "            'suggestCharts', [key], {});\n",
              "      } catch (error) {\n",
              "        console.error('Error during call to suggestCharts:', error);\n",
              "      }\n",
              "      quickchartButtonEl.classList.remove('colab-df-spinner');\n",
              "      quickchartButtonEl.classList.add('colab-df-quickchart-complete');\n",
              "    }\n",
              "    (() => {\n",
              "      let quickchartButtonEl =\n",
              "        document.querySelector('#df-24cb00f3-19ad-4b98-9698-96ac9fec09e8 button');\n",
              "      quickchartButtonEl.style.display =\n",
              "        google.colab.kernel.accessAllowed ? 'block' : 'none';\n",
              "    })();\n",
              "  </script>\n",
              "</div>\n",
              "    </div>\n",
              "  </div>\n"
            ]
          },
          "metadata": {},
          "execution_count": 226
        }
      ],
      "source": [
        "final_data"
      ]
    },
    {
      "cell_type": "markdown",
      "metadata": {
        "id": "hxzdhFXutEf8"
      },
      "source": [
        "##From this we conclude that **Random** **forest** generates score of highest accuracy."
      ]
    },
    {
      "cell_type": "code",
      "execution_count": 227,
      "metadata": {
        "id": "SOfv8NFagMlS",
        "colab": {
          "base_uri": "https://localhost:8080/",
          "height": 443
        },
        "outputId": "3e6a84fb-451c-4745-dbce-11ec08d18fb9"
      },
      "outputs": [
        {
          "output_type": "execute_result",
          "data": {
            "text/plain": [
              "      year  customer_id  age  no_of_days_subscribed  multi_screen  \\\n",
              "0     2020       100198   36                     62             0   \n",
              "1     2020       100643   39                    149             0   \n",
              "2     2020       100756   65                    126             0   \n",
              "3     2020       101595   24                    131             0   \n",
              "4     2020       101653   40                    191             0   \n",
              "...    ...          ...  ...                    ...           ...   \n",
              "1995  2020       997132   54                     75             0   \n",
              "1996  2020       998086   45                    127             0   \n",
              "1997  2020       998474   53                     94             0   \n",
              "1998  2020       998934   40                     94             0   \n",
              "1999  2020       999961   37                     73             0   \n",
              "\n",
              "      mail_subscribed  weekly_mins_watched  minimum_daily_mins  \\\n",
              "0                   0               148.35                12.2   \n",
              "1                   0               294.45                 7.7   \n",
              "2                   0                87.30                11.9   \n",
              "3                   1               321.30                 9.5   \n",
              "4                   0               243.00                10.9   \n",
              "...               ...                  ...                 ...   \n",
              "1995                1               182.25                11.3   \n",
              "1996                0               273.45                 9.3   \n",
              "1997                0               128.85                15.6   \n",
              "1998                0               178.05                10.4   \n",
              "1999                0               326.70                10.3   \n",
              "\n",
              "      maximum_daily_mins  weekly_max_night_mins  ...  Female  Male  other  \\\n",
              "0                  16.81                     82  ...       1     0      0   \n",
              "1                  33.37                     87  ...       1     0      0   \n",
              "2                   9.89                     91  ...       1     0      0   \n",
              "3                  36.41                    102  ...       1     0      0   \n",
              "4                  27.54                     83  ...       1     0      0   \n",
              "...                  ...                    ...  ...     ...   ...    ...   \n",
              "1995               20.66                     97  ...       1     0      0   \n",
              "1996               30.99                    116  ...       0     1      0   \n",
              "1997               14.60                    110  ...       0     0      1   \n",
              "1998               20.18                    100  ...       0     1      0   \n",
              "1999               37.03                     89  ...       0     1      0   \n",
              "\n",
              "      age_group_numeric  total_time_spent  total_weekly_mins  \\\n",
              "0                   4.0            259.36             230.35   \n",
              "1                   4.0            422.52             381.45   \n",
              "2                   6.0            200.09             178.30   \n",
              "3                   2.0            469.21             423.30   \n",
              "4                   4.0            364.44             326.00   \n",
              "...                 ...               ...                ...   \n",
              "1995                5.0            311.21             279.25   \n",
              "1996                4.0            429.74             389.45   \n",
              "1997                5.0            269.05             238.85   \n",
              "1998                4.0            308.63             278.05   \n",
              "1999                4.0            463.03             415.70   \n",
              "\n",
              "      total_daily_mins  time_threshold_exceeded  engagement_score  \\\n",
              "0                29.01                        0            160.55   \n",
              "1                41.07                        1            302.15   \n",
              "2                21.79                        0             99.20   \n",
              "3                45.91                        1            330.80   \n",
              "4                38.44                        0            253.90   \n",
              "...                ...                      ...               ...   \n",
              "1995             31.96                        0            193.55   \n",
              "1996             40.29                        1            282.75   \n",
              "1997             30.20                        0            144.45   \n",
              "1998             30.58                        0            188.45   \n",
              "1999             47.33                        1            337.00   \n",
              "\n",
              "      engagement_segment  \n",
              "0                      0  \n",
              "1                      1  \n",
              "2                      0  \n",
              "3                      1  \n",
              "4                      0  \n",
              "...                  ...  \n",
              "1995                   0  \n",
              "1996                   0  \n",
              "1997                   0  \n",
              "1998                   0  \n",
              "1999                   1  \n",
              "\n",
              "[2000 rows x 24 columns]"
            ],
            "text/html": [
              "\n",
              "  <div id=\"df-eb145ef5-6708-4bd5-bdf6-1e6c0fc4359f\" class=\"colab-df-container\">\n",
              "    <div>\n",
              "<style scoped>\n",
              "    .dataframe tbody tr th:only-of-type {\n",
              "        vertical-align: middle;\n",
              "    }\n",
              "\n",
              "    .dataframe tbody tr th {\n",
              "        vertical-align: top;\n",
              "    }\n",
              "\n",
              "    .dataframe thead th {\n",
              "        text-align: right;\n",
              "    }\n",
              "</style>\n",
              "<table border=\"1\" class=\"dataframe\">\n",
              "  <thead>\n",
              "    <tr style=\"text-align: right;\">\n",
              "      <th></th>\n",
              "      <th>year</th>\n",
              "      <th>customer_id</th>\n",
              "      <th>age</th>\n",
              "      <th>no_of_days_subscribed</th>\n",
              "      <th>multi_screen</th>\n",
              "      <th>mail_subscribed</th>\n",
              "      <th>weekly_mins_watched</th>\n",
              "      <th>minimum_daily_mins</th>\n",
              "      <th>maximum_daily_mins</th>\n",
              "      <th>weekly_max_night_mins</th>\n",
              "      <th>...</th>\n",
              "      <th>Female</th>\n",
              "      <th>Male</th>\n",
              "      <th>other</th>\n",
              "      <th>age_group_numeric</th>\n",
              "      <th>total_time_spent</th>\n",
              "      <th>total_weekly_mins</th>\n",
              "      <th>total_daily_mins</th>\n",
              "      <th>time_threshold_exceeded</th>\n",
              "      <th>engagement_score</th>\n",
              "      <th>engagement_segment</th>\n",
              "    </tr>\n",
              "  </thead>\n",
              "  <tbody>\n",
              "    <tr>\n",
              "      <th>0</th>\n",
              "      <td>2020</td>\n",
              "      <td>100198</td>\n",
              "      <td>36</td>\n",
              "      <td>62</td>\n",
              "      <td>0</td>\n",
              "      <td>0</td>\n",
              "      <td>148.35</td>\n",
              "      <td>12.2</td>\n",
              "      <td>16.81</td>\n",
              "      <td>82</td>\n",
              "      <td>...</td>\n",
              "      <td>1</td>\n",
              "      <td>0</td>\n",
              "      <td>0</td>\n",
              "      <td>4.0</td>\n",
              "      <td>259.36</td>\n",
              "      <td>230.35</td>\n",
              "      <td>29.01</td>\n",
              "      <td>0</td>\n",
              "      <td>160.55</td>\n",
              "      <td>0</td>\n",
              "    </tr>\n",
              "    <tr>\n",
              "      <th>1</th>\n",
              "      <td>2020</td>\n",
              "      <td>100643</td>\n",
              "      <td>39</td>\n",
              "      <td>149</td>\n",
              "      <td>0</td>\n",
              "      <td>0</td>\n",
              "      <td>294.45</td>\n",
              "      <td>7.7</td>\n",
              "      <td>33.37</td>\n",
              "      <td>87</td>\n",
              "      <td>...</td>\n",
              "      <td>1</td>\n",
              "      <td>0</td>\n",
              "      <td>0</td>\n",
              "      <td>4.0</td>\n",
              "      <td>422.52</td>\n",
              "      <td>381.45</td>\n",
              "      <td>41.07</td>\n",
              "      <td>1</td>\n",
              "      <td>302.15</td>\n",
              "      <td>1</td>\n",
              "    </tr>\n",
              "    <tr>\n",
              "      <th>2</th>\n",
              "      <td>2020</td>\n",
              "      <td>100756</td>\n",
              "      <td>65</td>\n",
              "      <td>126</td>\n",
              "      <td>0</td>\n",
              "      <td>0</td>\n",
              "      <td>87.30</td>\n",
              "      <td>11.9</td>\n",
              "      <td>9.89</td>\n",
              "      <td>91</td>\n",
              "      <td>...</td>\n",
              "      <td>1</td>\n",
              "      <td>0</td>\n",
              "      <td>0</td>\n",
              "      <td>6.0</td>\n",
              "      <td>200.09</td>\n",
              "      <td>178.30</td>\n",
              "      <td>21.79</td>\n",
              "      <td>0</td>\n",
              "      <td>99.20</td>\n",
              "      <td>0</td>\n",
              "    </tr>\n",
              "    <tr>\n",
              "      <th>3</th>\n",
              "      <td>2020</td>\n",
              "      <td>101595</td>\n",
              "      <td>24</td>\n",
              "      <td>131</td>\n",
              "      <td>0</td>\n",
              "      <td>1</td>\n",
              "      <td>321.30</td>\n",
              "      <td>9.5</td>\n",
              "      <td>36.41</td>\n",
              "      <td>102</td>\n",
              "      <td>...</td>\n",
              "      <td>1</td>\n",
              "      <td>0</td>\n",
              "      <td>0</td>\n",
              "      <td>2.0</td>\n",
              "      <td>469.21</td>\n",
              "      <td>423.30</td>\n",
              "      <td>45.91</td>\n",
              "      <td>1</td>\n",
              "      <td>330.80</td>\n",
              "      <td>1</td>\n",
              "    </tr>\n",
              "    <tr>\n",
              "      <th>4</th>\n",
              "      <td>2020</td>\n",
              "      <td>101653</td>\n",
              "      <td>40</td>\n",
              "      <td>191</td>\n",
              "      <td>0</td>\n",
              "      <td>0</td>\n",
              "      <td>243.00</td>\n",
              "      <td>10.9</td>\n",
              "      <td>27.54</td>\n",
              "      <td>83</td>\n",
              "      <td>...</td>\n",
              "      <td>1</td>\n",
              "      <td>0</td>\n",
              "      <td>0</td>\n",
              "      <td>4.0</td>\n",
              "      <td>364.44</td>\n",
              "      <td>326.00</td>\n",
              "      <td>38.44</td>\n",
              "      <td>0</td>\n",
              "      <td>253.90</td>\n",
              "      <td>0</td>\n",
              "    </tr>\n",
              "    <tr>\n",
              "      <th>...</th>\n",
              "      <td>...</td>\n",
              "      <td>...</td>\n",
              "      <td>...</td>\n",
              "      <td>...</td>\n",
              "      <td>...</td>\n",
              "      <td>...</td>\n",
              "      <td>...</td>\n",
              "      <td>...</td>\n",
              "      <td>...</td>\n",
              "      <td>...</td>\n",
              "      <td>...</td>\n",
              "      <td>...</td>\n",
              "      <td>...</td>\n",
              "      <td>...</td>\n",
              "      <td>...</td>\n",
              "      <td>...</td>\n",
              "      <td>...</td>\n",
              "      <td>...</td>\n",
              "      <td>...</td>\n",
              "      <td>...</td>\n",
              "      <td>...</td>\n",
              "    </tr>\n",
              "    <tr>\n",
              "      <th>1995</th>\n",
              "      <td>2020</td>\n",
              "      <td>997132</td>\n",
              "      <td>54</td>\n",
              "      <td>75</td>\n",
              "      <td>0</td>\n",
              "      <td>1</td>\n",
              "      <td>182.25</td>\n",
              "      <td>11.3</td>\n",
              "      <td>20.66</td>\n",
              "      <td>97</td>\n",
              "      <td>...</td>\n",
              "      <td>1</td>\n",
              "      <td>0</td>\n",
              "      <td>0</td>\n",
              "      <td>5.0</td>\n",
              "      <td>311.21</td>\n",
              "      <td>279.25</td>\n",
              "      <td>31.96</td>\n",
              "      <td>0</td>\n",
              "      <td>193.55</td>\n",
              "      <td>0</td>\n",
              "    </tr>\n",
              "    <tr>\n",
              "      <th>1996</th>\n",
              "      <td>2020</td>\n",
              "      <td>998086</td>\n",
              "      <td>45</td>\n",
              "      <td>127</td>\n",
              "      <td>0</td>\n",
              "      <td>0</td>\n",
              "      <td>273.45</td>\n",
              "      <td>9.3</td>\n",
              "      <td>30.99</td>\n",
              "      <td>116</td>\n",
              "      <td>...</td>\n",
              "      <td>0</td>\n",
              "      <td>1</td>\n",
              "      <td>0</td>\n",
              "      <td>4.0</td>\n",
              "      <td>429.74</td>\n",
              "      <td>389.45</td>\n",
              "      <td>40.29</td>\n",
              "      <td>1</td>\n",
              "      <td>282.75</td>\n",
              "      <td>0</td>\n",
              "    </tr>\n",
              "    <tr>\n",
              "      <th>1997</th>\n",
              "      <td>2020</td>\n",
              "      <td>998474</td>\n",
              "      <td>53</td>\n",
              "      <td>94</td>\n",
              "      <td>0</td>\n",
              "      <td>0</td>\n",
              "      <td>128.85</td>\n",
              "      <td>15.6</td>\n",
              "      <td>14.60</td>\n",
              "      <td>110</td>\n",
              "      <td>...</td>\n",
              "      <td>0</td>\n",
              "      <td>0</td>\n",
              "      <td>1</td>\n",
              "      <td>5.0</td>\n",
              "      <td>269.05</td>\n",
              "      <td>238.85</td>\n",
              "      <td>30.20</td>\n",
              "      <td>0</td>\n",
              "      <td>144.45</td>\n",
              "      <td>0</td>\n",
              "    </tr>\n",
              "    <tr>\n",
              "      <th>1998</th>\n",
              "      <td>2020</td>\n",
              "      <td>998934</td>\n",
              "      <td>40</td>\n",
              "      <td>94</td>\n",
              "      <td>0</td>\n",
              "      <td>0</td>\n",
              "      <td>178.05</td>\n",
              "      <td>10.4</td>\n",
              "      <td>20.18</td>\n",
              "      <td>100</td>\n",
              "      <td>...</td>\n",
              "      <td>0</td>\n",
              "      <td>1</td>\n",
              "      <td>0</td>\n",
              "      <td>4.0</td>\n",
              "      <td>308.63</td>\n",
              "      <td>278.05</td>\n",
              "      <td>30.58</td>\n",
              "      <td>0</td>\n",
              "      <td>188.45</td>\n",
              "      <td>0</td>\n",
              "    </tr>\n",
              "    <tr>\n",
              "      <th>1999</th>\n",
              "      <td>2020</td>\n",
              "      <td>999961</td>\n",
              "      <td>37</td>\n",
              "      <td>73</td>\n",
              "      <td>0</td>\n",
              "      <td>0</td>\n",
              "      <td>326.70</td>\n",
              "      <td>10.3</td>\n",
              "      <td>37.03</td>\n",
              "      <td>89</td>\n",
              "      <td>...</td>\n",
              "      <td>0</td>\n",
              "      <td>1</td>\n",
              "      <td>0</td>\n",
              "      <td>4.0</td>\n",
              "      <td>463.03</td>\n",
              "      <td>415.70</td>\n",
              "      <td>47.33</td>\n",
              "      <td>1</td>\n",
              "      <td>337.00</td>\n",
              "      <td>1</td>\n",
              "    </tr>\n",
              "  </tbody>\n",
              "</table>\n",
              "<p>2000 rows × 24 columns</p>\n",
              "</div>\n",
              "    <div class=\"colab-df-buttons\">\n",
              "\n",
              "  <div class=\"colab-df-container\">\n",
              "    <button class=\"colab-df-convert\" onclick=\"convertToInteractive('df-eb145ef5-6708-4bd5-bdf6-1e6c0fc4359f')\"\n",
              "            title=\"Convert this dataframe to an interactive table.\"\n",
              "            style=\"display:none;\">\n",
              "\n",
              "  <svg xmlns=\"http://www.w3.org/2000/svg\" height=\"24px\" viewBox=\"0 -960 960 960\">\n",
              "    <path d=\"M120-120v-720h720v720H120Zm60-500h600v-160H180v160Zm220 220h160v-160H400v160Zm0 220h160v-160H400v160ZM180-400h160v-160H180v160Zm440 0h160v-160H620v160ZM180-180h160v-160H180v160Zm440 0h160v-160H620v160Z\"/>\n",
              "  </svg>\n",
              "    </button>\n",
              "\n",
              "  <style>\n",
              "    .colab-df-container {\n",
              "      display:flex;\n",
              "      gap: 12px;\n",
              "    }\n",
              "\n",
              "    .colab-df-convert {\n",
              "      background-color: #E8F0FE;\n",
              "      border: none;\n",
              "      border-radius: 50%;\n",
              "      cursor: pointer;\n",
              "      display: none;\n",
              "      fill: #1967D2;\n",
              "      height: 32px;\n",
              "      padding: 0 0 0 0;\n",
              "      width: 32px;\n",
              "    }\n",
              "\n",
              "    .colab-df-convert:hover {\n",
              "      background-color: #E2EBFA;\n",
              "      box-shadow: 0px 1px 2px rgba(60, 64, 67, 0.3), 0px 1px 3px 1px rgba(60, 64, 67, 0.15);\n",
              "      fill: #174EA6;\n",
              "    }\n",
              "\n",
              "    .colab-df-buttons div {\n",
              "      margin-bottom: 4px;\n",
              "    }\n",
              "\n",
              "    [theme=dark] .colab-df-convert {\n",
              "      background-color: #3B4455;\n",
              "      fill: #D2E3FC;\n",
              "    }\n",
              "\n",
              "    [theme=dark] .colab-df-convert:hover {\n",
              "      background-color: #434B5C;\n",
              "      box-shadow: 0px 1px 3px 1px rgba(0, 0, 0, 0.15);\n",
              "      filter: drop-shadow(0px 1px 2px rgba(0, 0, 0, 0.3));\n",
              "      fill: #FFFFFF;\n",
              "    }\n",
              "  </style>\n",
              "\n",
              "    <script>\n",
              "      const buttonEl =\n",
              "        document.querySelector('#df-eb145ef5-6708-4bd5-bdf6-1e6c0fc4359f button.colab-df-convert');\n",
              "      buttonEl.style.display =\n",
              "        google.colab.kernel.accessAllowed ? 'block' : 'none';\n",
              "\n",
              "      async function convertToInteractive(key) {\n",
              "        const element = document.querySelector('#df-eb145ef5-6708-4bd5-bdf6-1e6c0fc4359f');\n",
              "        const dataTable =\n",
              "          await google.colab.kernel.invokeFunction('convertToInteractive',\n",
              "                                                    [key], {});\n",
              "        if (!dataTable) return;\n",
              "\n",
              "        const docLinkHtml = 'Like what you see? Visit the ' +\n",
              "          '<a target=\"_blank\" href=https://colab.research.google.com/notebooks/data_table.ipynb>data table notebook</a>'\n",
              "          + ' to learn more about interactive tables.';\n",
              "        element.innerHTML = '';\n",
              "        dataTable['output_type'] = 'display_data';\n",
              "        await google.colab.output.renderOutput(dataTable, element);\n",
              "        const docLink = document.createElement('div');\n",
              "        docLink.innerHTML = docLinkHtml;\n",
              "        element.appendChild(docLink);\n",
              "      }\n",
              "    </script>\n",
              "  </div>\n",
              "\n",
              "\n",
              "<div id=\"df-4c6ccc70-ccb6-424a-83be-fca89c2c69f6\">\n",
              "  <button class=\"colab-df-quickchart\" onclick=\"quickchart('df-4c6ccc70-ccb6-424a-83be-fca89c2c69f6')\"\n",
              "            title=\"Suggest charts\"\n",
              "            style=\"display:none;\">\n",
              "\n",
              "<svg xmlns=\"http://www.w3.org/2000/svg\" height=\"24px\"viewBox=\"0 0 24 24\"\n",
              "     width=\"24px\">\n",
              "    <g>\n",
              "        <path d=\"M19 3H5c-1.1 0-2 .9-2 2v14c0 1.1.9 2 2 2h14c1.1 0 2-.9 2-2V5c0-1.1-.9-2-2-2zM9 17H7v-7h2v7zm4 0h-2V7h2v10zm4 0h-2v-4h2v4z\"/>\n",
              "    </g>\n",
              "</svg>\n",
              "  </button>\n",
              "\n",
              "<style>\n",
              "  .colab-df-quickchart {\n",
              "      --bg-color: #E8F0FE;\n",
              "      --fill-color: #1967D2;\n",
              "      --hover-bg-color: #E2EBFA;\n",
              "      --hover-fill-color: #174EA6;\n",
              "      --disabled-fill-color: #AAA;\n",
              "      --disabled-bg-color: #DDD;\n",
              "  }\n",
              "\n",
              "  [theme=dark] .colab-df-quickchart {\n",
              "      --bg-color: #3B4455;\n",
              "      --fill-color: #D2E3FC;\n",
              "      --hover-bg-color: #434B5C;\n",
              "      --hover-fill-color: #FFFFFF;\n",
              "      --disabled-bg-color: #3B4455;\n",
              "      --disabled-fill-color: #666;\n",
              "  }\n",
              "\n",
              "  .colab-df-quickchart {\n",
              "    background-color: var(--bg-color);\n",
              "    border: none;\n",
              "    border-radius: 50%;\n",
              "    cursor: pointer;\n",
              "    display: none;\n",
              "    fill: var(--fill-color);\n",
              "    height: 32px;\n",
              "    padding: 0;\n",
              "    width: 32px;\n",
              "  }\n",
              "\n",
              "  .colab-df-quickchart:hover {\n",
              "    background-color: var(--hover-bg-color);\n",
              "    box-shadow: 0 1px 2px rgba(60, 64, 67, 0.3), 0 1px 3px 1px rgba(60, 64, 67, 0.15);\n",
              "    fill: var(--button-hover-fill-color);\n",
              "  }\n",
              "\n",
              "  .colab-df-quickchart-complete:disabled,\n",
              "  .colab-df-quickchart-complete:disabled:hover {\n",
              "    background-color: var(--disabled-bg-color);\n",
              "    fill: var(--disabled-fill-color);\n",
              "    box-shadow: none;\n",
              "  }\n",
              "\n",
              "  .colab-df-spinner {\n",
              "    border: 2px solid var(--fill-color);\n",
              "    border-color: transparent;\n",
              "    border-bottom-color: var(--fill-color);\n",
              "    animation:\n",
              "      spin 1s steps(1) infinite;\n",
              "  }\n",
              "\n",
              "  @keyframes spin {\n",
              "    0% {\n",
              "      border-color: transparent;\n",
              "      border-bottom-color: var(--fill-color);\n",
              "      border-left-color: var(--fill-color);\n",
              "    }\n",
              "    20% {\n",
              "      border-color: transparent;\n",
              "      border-left-color: var(--fill-color);\n",
              "      border-top-color: var(--fill-color);\n",
              "    }\n",
              "    30% {\n",
              "      border-color: transparent;\n",
              "      border-left-color: var(--fill-color);\n",
              "      border-top-color: var(--fill-color);\n",
              "      border-right-color: var(--fill-color);\n",
              "    }\n",
              "    40% {\n",
              "      border-color: transparent;\n",
              "      border-right-color: var(--fill-color);\n",
              "      border-top-color: var(--fill-color);\n",
              "    }\n",
              "    60% {\n",
              "      border-color: transparent;\n",
              "      border-right-color: var(--fill-color);\n",
              "    }\n",
              "    80% {\n",
              "      border-color: transparent;\n",
              "      border-right-color: var(--fill-color);\n",
              "      border-bottom-color: var(--fill-color);\n",
              "    }\n",
              "    90% {\n",
              "      border-color: transparent;\n",
              "      border-bottom-color: var(--fill-color);\n",
              "    }\n",
              "  }\n",
              "</style>\n",
              "\n",
              "  <script>\n",
              "    async function quickchart(key) {\n",
              "      const quickchartButtonEl =\n",
              "        document.querySelector('#' + key + ' button');\n",
              "      quickchartButtonEl.disabled = true;  // To prevent multiple clicks.\n",
              "      quickchartButtonEl.classList.add('colab-df-spinner');\n",
              "      try {\n",
              "        const charts = await google.colab.kernel.invokeFunction(\n",
              "            'suggestCharts', [key], {});\n",
              "      } catch (error) {\n",
              "        console.error('Error during call to suggestCharts:', error);\n",
              "      }\n",
              "      quickchartButtonEl.classList.remove('colab-df-spinner');\n",
              "      quickchartButtonEl.classList.add('colab-df-quickchart-complete');\n",
              "    }\n",
              "    (() => {\n",
              "      let quickchartButtonEl =\n",
              "        document.querySelector('#df-4c6ccc70-ccb6-424a-83be-fca89c2c69f6 button');\n",
              "      quickchartButtonEl.style.display =\n",
              "        google.colab.kernel.accessAllowed ? 'block' : 'none';\n",
              "    })();\n",
              "  </script>\n",
              "</div>\n",
              "    </div>\n",
              "  </div>\n"
            ]
          },
          "metadata": {},
          "execution_count": 227
        }
      ],
      "source": [
        "data"
      ]
    },
    {
      "cell_type": "code",
      "execution_count": 228,
      "metadata": {
        "id": "0ShM4cy3gNC7"
      },
      "outputs": [],
      "source": [
        "from sklearn.metrics import roc_curve\n",
        "\n",
        "# roc curve for models\n",
        "fpr1, tpr1, thresh1 = roc_curve(Y_test, pred_prob1[:,1], pos_label=1)\n",
        "fpr2, tpr2, thresh2 = roc_curve(Y_test, pred_prob2[:,1], pos_label=1)\n",
        "fpr3, tpr3, thresh3 = roc_curve(Y_test, pred_prob3[:,1], pos_label=1)\n",
        "fpr4, tpr4, thresh4 = roc_curve(Y_test, pred_prob4[:,1], pos_label=1)\n",
        "fpr5, tpr5, thresh5 = roc_curve(Y_test, pred_prob5[:,1], pos_label=1)\n",
        "fpr6, tpr6, thresh6 = roc_curve(Y_test, pred_prob6[:,1], pos_label=1)\n",
        "\n",
        "\n",
        "# roc curve for tpr = fpr\n",
        "random_probs = [0 for i in range(len(Y_test))]\n",
        "p_fpr, p_tpr, _ = roc_curve(Y_test, random_probs, pos_label=1)"
      ]
    },
    {
      "cell_type": "code",
      "execution_count": 229,
      "metadata": {
        "id": "zuPKTmMjLaAu",
        "colab": {
          "base_uri": "https://localhost:8080/"
        },
        "outputId": "c6b3b695-ae48-4be6-98e4-1f48292c9dc2"
      },
      "outputs": [
        {
          "output_type": "stream",
          "name": "stdout",
          "text": [
            "0.6430384102542045 0.7361649963439287 0.8712374725794658 0.9709966020043872 0.9600886059615468 0.6435803690481311\n"
          ]
        }
      ],
      "source": [
        "from sklearn.metrics import roc_auc_score\n",
        "\n",
        "# auc scores\n",
        "auc_score1 = roc_auc_score(Y_test, pred_prob1[:,1])\n",
        "auc_score2 = roc_auc_score(Y_test, pred_prob2[:,1])\n",
        "auc_score3 = roc_auc_score(Y_test, pred_prob3[:,1])\n",
        "auc_score4 = roc_auc_score(Y_test, pred_prob4[:,1])\n",
        "auc_score5 = roc_auc_score(Y_test, pred_prob5[:,1])\n",
        "auc_score6 = roc_auc_score(Y_test, pred_prob6[:,1])\n",
        "print(auc_score1, auc_score2, auc_score3, auc_score4, auc_score5, auc_score6)"
      ]
    },
    {
      "cell_type": "code",
      "execution_count": 230,
      "metadata": {
        "id": "DtA6S3cFLInB",
        "colab": {
          "base_uri": "https://localhost:8080/",
          "height": 579
        },
        "outputId": "50a67112-8b92-44ea-e1d0-b3bbb2adf7d6"
      },
      "outputs": [
        {
          "output_type": "stream",
          "name": "stderr",
          "text": [
            "<ipython-input-230-029e0da9a565>:3: MatplotlibDeprecationWarning: The seaborn styles shipped by Matplotlib are deprecated since 3.6, as they no longer correspond to the styles shipped by seaborn. However, they will remain available as 'seaborn-v0_8-<style>'. Alternatively, directly use the seaborn API instead.\n",
            "  plt.style.use('seaborn')\n"
          ]
        },
        {
          "output_type": "display_data",
          "data": {
            "text/plain": [
              "<Figure size 800x550 with 1 Axes>"
            ],
            "image/png": "[encoded data removed]"
          },
          "metadata": {}
        }
      ],
      "source": [
        "# matplotlib\n",
        "import matplotlib.pyplot as plt\n",
        "plt.style.use('seaborn')\n",
        "\n",
        "# plot roc curves\n",
        "plt.plot(fpr1, tpr1, linestyle='--',color='orange', label='Logistic Regression')\n",
        "plt.plot(fpr2, tpr2, linestyle='--',color='green', label='KNN')\n",
        "plt.plot(fpr3, tpr3, linestyle='--',color='yellow', label='Decision Trees')\n",
        "plt.plot(fpr4, tpr4, linestyle='--',color='red', label='Random Forest')\n",
        "plt.plot(fpr5, tpr5, linestyle='--',color='blue', label='Bagging Boost')\n",
        "plt.plot(fpr6, tpr6, linestyle='--',color='violet', label='Naive Bayes')\n",
        "\n",
        "plt.plot(p_fpr, p_tpr, linestyle='--', color='blue')\n",
        "# title\n",
        "plt.title('ROC curve')\n",
        "# x label\n",
        "plt.xlabel('False Positive Rate')\n",
        "# y label\n",
        "plt.ylabel('True Positive rate')\n",
        "\n",
        "plt.legend(loc='best')\n",
        "plt.savefig('ROC',dpi=300)\n",
        "plt.show();"
      ]
    },
    {
      "cell_type": "code",
      "execution_count": 231,
      "metadata": {
        "id": "2ir3gLibWkvr",
        "colab": {
          "base_uri": "https://localhost:8080/",
          "height": 443
        },
        "outputId": "542106f8-6833-4844-b620-bf586849de23"
      },
      "outputs": [
        {
          "output_type": "execute_result",
          "data": {
            "text/plain": [
              "      year  customer_id  age  no_of_days_subscribed  multi_screen  \\\n",
              "0     2020       100198   36                     62             0   \n",
              "1     2020       100643   39                    149             0   \n",
              "2     2020       100756   65                    126             0   \n",
              "3     2020       101595   24                    131             0   \n",
              "4     2020       101653   40                    191             0   \n",
              "...    ...          ...  ...                    ...           ...   \n",
              "1995  2020       997132   54                     75             0   \n",
              "1996  2020       998086   45                    127             0   \n",
              "1997  2020       998474   53                     94             0   \n",
              "1998  2020       998934   40                     94             0   \n",
              "1999  2020       999961   37                     73             0   \n",
              "\n",
              "      mail_subscribed  weekly_mins_watched  minimum_daily_mins  \\\n",
              "0                   0               148.35                12.2   \n",
              "1                   0               294.45                 7.7   \n",
              "2                   0                87.30                11.9   \n",
              "3                   1               321.30                 9.5   \n",
              "4                   0               243.00                10.9   \n",
              "...               ...                  ...                 ...   \n",
              "1995                1               182.25                11.3   \n",
              "1996                0               273.45                 9.3   \n",
              "1997                0               128.85                15.6   \n",
              "1998                0               178.05                10.4   \n",
              "1999                0               326.70                10.3   \n",
              "\n",
              "      maximum_daily_mins  weekly_max_night_mins  ...  Female  Male  other  \\\n",
              "0                  16.81                     82  ...       1     0      0   \n",
              "1                  33.37                     87  ...       1     0      0   \n",
              "2                   9.89                     91  ...       1     0      0   \n",
              "3                  36.41                    102  ...       1     0      0   \n",
              "4                  27.54                     83  ...       1     0      0   \n",
              "...                  ...                    ...  ...     ...   ...    ...   \n",
              "1995               20.66                     97  ...       1     0      0   \n",
              "1996               30.99                    116  ...       0     1      0   \n",
              "1997               14.60                    110  ...       0     0      1   \n",
              "1998               20.18                    100  ...       0     1      0   \n",
              "1999               37.03                     89  ...       0     1      0   \n",
              "\n",
              "      age_group_numeric  total_time_spent  total_weekly_mins  \\\n",
              "0                   4.0            259.36             230.35   \n",
              "1                   4.0            422.52             381.45   \n",
              "2                   6.0            200.09             178.30   \n",
              "3                   2.0            469.21             423.30   \n",
              "4                   4.0            364.44             326.00   \n",
              "...                 ...               ...                ...   \n",
              "1995                5.0            311.21             279.25   \n",
              "1996                4.0            429.74             389.45   \n",
              "1997                5.0            269.05             238.85   \n",
              "1998                4.0            308.63             278.05   \n",
              "1999                4.0            463.03             415.70   \n",
              "\n",
              "      total_daily_mins  time_threshold_exceeded  engagement_score  \\\n",
              "0                29.01                        0            160.55   \n",
              "1                41.07                        1            302.15   \n",
              "2                21.79                        0             99.20   \n",
              "3                45.91                        1            330.80   \n",
              "4                38.44                        0            253.90   \n",
              "...                ...                      ...               ...   \n",
              "1995             31.96                        0            193.55   \n",
              "1996             40.29                        1            282.75   \n",
              "1997             30.20                        0            144.45   \n",
              "1998             30.58                        0            188.45   \n",
              "1999             47.33                        1            337.00   \n",
              "\n",
              "      engagement_segment  \n",
              "0                      0  \n",
              "1                      1  \n",
              "2                      0  \n",
              "3                      1  \n",
              "4                      0  \n",
              "...                  ...  \n",
              "1995                   0  \n",
              "1996                   0  \n",
              "1997                   0  \n",
              "1998                   0  \n",
              "1999                   1  \n",
              "\n",
              "[2000 rows x 24 columns]"
            ],
            "text/html": [
              "\n",
              "  <div id=\"df-f6bac248-9dd4-437e-8185-bc8631983216\" class=\"colab-df-container\">\n",
              "    <div>\n",
              "<style scoped>\n",
              "    .dataframe tbody tr th:only-of-type {\n",
              "        vertical-align: middle;\n",
              "    }\n",
              "\n",
              "    .dataframe tbody tr th {\n",
              "        vertical-align: top;\n",
              "    }\n",
              "\n",
              "    .dataframe thead th {\n",
              "        text-align: right;\n",
              "    }\n",
              "</style>\n",
              "<table border=\"1\" class=\"dataframe\">\n",
              "  <thead>\n",
              "    <tr style=\"text-align: right;\">\n",
              "      <th></th>\n",
              "      <th>year</th>\n",
              "      <th>customer_id</th>\n",
              "      <th>age</th>\n",
              "      <th>no_of_days_subscribed</th>\n",
              "      <th>multi_screen</th>\n",
              "      <th>mail_subscribed</th>\n",
              "      <th>weekly_mins_watched</th>\n",
              "      <th>minimum_daily_mins</th>\n",
              "      <th>maximum_daily_mins</th>\n",
              "      <th>weekly_max_night_mins</th>\n",
              "      <th>...</th>\n",
              "      <th>Female</th>\n",
              "      <th>Male</th>\n",
              "      <th>other</th>\n",
              "      <th>age_group_numeric</th>\n",
              "      <th>total_time_spent</th>\n",
              "      <th>total_weekly_mins</th>\n",
              "      <th>total_daily_mins</th>\n",
              "      <th>time_threshold_exceeded</th>\n",
              "      <th>engagement_score</th>\n",
              "      <th>engagement_segment</th>\n",
              "    </tr>\n",
              "  </thead>\n",
              "  <tbody>\n",
              "    <tr>\n",
              "      <th>0</th>\n",
              "      <td>2020</td>\n",
              "      <td>100198</td>\n",
              "      <td>36</td>\n",
              "      <td>62</td>\n",
              "      <td>0</td>\n",
              "      <td>0</td>\n",
              "      <td>148.35</td>\n",
              "      <td>12.2</td>\n",
              "      <td>16.81</td>\n",
              "      <td>82</td>\n",
              "      <td>...</td>\n",
              "      <td>1</td>\n",
              "      <td>0</td>\n",
              "      <td>0</td>\n",
              "      <td>4.0</td>\n",
              "      <td>259.36</td>\n",
              "      <td>230.35</td>\n",
              "      <td>29.01</td>\n",
              "      <td>0</td>\n",
              "      <td>160.55</td>\n",
              "      <td>0</td>\n",
              "    </tr>\n",
              "    <tr>\n",
              "      <th>1</th>\n",
              "      <td>2020</td>\n",
              "      <td>100643</td>\n",
              "      <td>39</td>\n",
              "      <td>149</td>\n",
              "      <td>0</td>\n",
              "      <td>0</td>\n",
              "      <td>294.45</td>\n",
              "      <td>7.7</td>\n",
              "      <td>33.37</td>\n",
              "      <td>87</td>\n",
              "      <td>...</td>\n",
              "      <td>1</td>\n",
              "      <td>0</td>\n",
              "      <td>0</td>\n",
              "      <td>4.0</td>\n",
              "      <td>422.52</td>\n",
              "      <td>381.45</td>\n",
              "      <td>41.07</td>\n",
              "      <td>1</td>\n",
              "      <td>302.15</td>\n",
              "      <td>1</td>\n",
              "    </tr>\n",
              "    <tr>\n",
              "      <th>2</th>\n",
              "      <td>2020</td>\n",
              "      <td>100756</td>\n",
              "      <td>65</td>\n",
              "      <td>126</td>\n",
              "      <td>0</td>\n",
              "      <td>0</td>\n",
              "      <td>87.30</td>\n",
              "      <td>11.9</td>\n",
              "      <td>9.89</td>\n",
              "      <td>91</td>\n",
              "      <td>...</td>\n",
              "      <td>1</td>\n",
              "      <td>0</td>\n",
              "      <td>0</td>\n",
              "      <td>6.0</td>\n",
              "      <td>200.09</td>\n",
              "      <td>178.30</td>\n",
              "      <td>21.79</td>\n",
              "      <td>0</td>\n",
              "      <td>99.20</td>\n",
              "      <td>0</td>\n",
              "    </tr>\n",
              "    <tr>\n",
              "      <th>3</th>\n",
              "      <td>2020</td>\n",
              "      <td>101595</td>\n",
              "      <td>24</td>\n",
              "      <td>131</td>\n",
              "      <td>0</td>\n",
              "      <td>1</td>\n",
              "      <td>321.30</td>\n",
              "      <td>9.5</td>\n",
              "      <td>36.41</td>\n",
              "      <td>102</td>\n",
              "      <td>...</td>\n",
              "      <td>1</td>\n",
              "      <td>0</td>\n",
              "      <td>0</td>\n",
              "      <td>2.0</td>\n",
              "      <td>469.21</td>\n",
              "      <td>423.30</td>\n",
              "      <td>45.91</td>\n",
              "      <td>1</td>\n",
              "      <td>330.80</td>\n",
              "      <td>1</td>\n",
              "    </tr>\n",
              "    <tr>\n",
              "      <th>4</th>\n",
              "      <td>2020</td>\n",
              "      <td>101653</td>\n",
              "      <td>40</td>\n",
              "      <td>191</td>\n",
              "      <td>0</td>\n",
              "      <td>0</td>\n",
              "      <td>243.00</td>\n",
              "      <td>10.9</td>\n",
              "      <td>27.54</td>\n",
              "      <td>83</td>\n",
              "      <td>...</td>\n",
              "      <td>1</td>\n",
              "      <td>0</td>\n",
              "      <td>0</td>\n",
              "      <td>4.0</td>\n",
              "      <td>364.44</td>\n",
              "      <td>326.00</td>\n",
              "      <td>38.44</td>\n",
              "      <td>0</td>\n",
              "      <td>253.90</td>\n",
              "      <td>0</td>\n",
              "    </tr>\n",
              "    <tr>\n",
              "      <th>...</th>\n",
              "      <td>...</td>\n",
              "      <td>...</td>\n",
              "      <td>...</td>\n",
              "      <td>...</td>\n",
              "      <td>...</td>\n",
              "      <td>...</td>\n",
              "      <td>...</td>\n",
              "      <td>...</td>\n",
              "      <td>...</td>\n",
              "      <td>...</td>\n",
              "      <td>...</td>\n",
              "      <td>...</td>\n",
              "      <td>...</td>\n",
              "      <td>...</td>\n",
              "      <td>...</td>\n",
              "      <td>...</td>\n",
              "      <td>...</td>\n",
              "      <td>...</td>\n",
              "      <td>...</td>\n",
              "      <td>...</td>\n",
              "      <td>...</td>\n",
              "    </tr>\n",
              "    <tr>\n",
              "      <th>1995</th>\n",
              "      <td>2020</td>\n",
              "      <td>997132</td>\n",
              "      <td>54</td>\n",
              "      <td>75</td>\n",
              "      <td>0</td>\n",
              "      <td>1</td>\n",
              "      <td>182.25</td>\n",
              "      <td>11.3</td>\n",
              "      <td>20.66</td>\n",
              "      <td>97</td>\n",
              "      <td>...</td>\n",
              "      <td>1</td>\n",
              "      <td>0</td>\n",
              "      <td>0</td>\n",
              "      <td>5.0</td>\n",
              "      <td>311.21</td>\n",
              "      <td>279.25</td>\n",
              "      <td>31.96</td>\n",
              "      <td>0</td>\n",
              "      <td>193.55</td>\n",
              "      <td>0</td>\n",
              "    </tr>\n",
              "    <tr>\n",
              "      <th>1996</th>\n",
              "      <td>2020</td>\n",
              "      <td>998086</td>\n",
              "      <td>45</td>\n",
              "      <td>127</td>\n",
              "      <td>0</td>\n",
              "      <td>0</td>\n",
              "      <td>273.45</td>\n",
              "      <td>9.3</td>\n",
              "      <td>30.99</td>\n",
              "      <td>116</td>\n",
              "      <td>...</td>\n",
              "      <td>0</td>\n",
              "      <td>1</td>\n",
              "      <td>0</td>\n",
              "      <td>4.0</td>\n",
              "      <td>429.74</td>\n",
              "      <td>389.45</td>\n",
              "      <td>40.29</td>\n",
              "      <td>1</td>\n",
              "      <td>282.75</td>\n",
              "      <td>0</td>\n",
              "    </tr>\n",
              "    <tr>\n",
              "      <th>1997</th>\n",
              "      <td>2020</td>\n",
              "      <td>998474</td>\n",
              "      <td>53</td>\n",
              "      <td>94</td>\n",
              "      <td>0</td>\n",
              "      <td>0</td>\n",
              "      <td>128.85</td>\n",
              "      <td>15.6</td>\n",
              "      <td>14.60</td>\n",
              "      <td>110</td>\n",
              "      <td>...</td>\n",
              "      <td>0</td>\n",
              "      <td>0</td>\n",
              "      <td>1</td>\n",
              "      <td>5.0</td>\n",
              "      <td>269.05</td>\n",
              "      <td>238.85</td>\n",
              "      <td>30.20</td>\n",
              "      <td>0</td>\n",
              "      <td>144.45</td>\n",
              "      <td>0</td>\n",
              "    </tr>\n",
              "    <tr>\n",
              "      <th>1998</th>\n",
              "      <td>2020</td>\n",
              "      <td>998934</td>\n",
              "      <td>40</td>\n",
              "      <td>94</td>\n",
              "      <td>0</td>\n",
              "      <td>0</td>\n",
              "      <td>178.05</td>\n",
              "      <td>10.4</td>\n",
              "      <td>20.18</td>\n",
              "      <td>100</td>\n",
              "      <td>...</td>\n",
              "      <td>0</td>\n",
              "      <td>1</td>\n",
              "      <td>0</td>\n",
              "      <td>4.0</td>\n",
              "      <td>308.63</td>\n",
              "      <td>278.05</td>\n",
              "      <td>30.58</td>\n",
              "      <td>0</td>\n",
              "      <td>188.45</td>\n",
              "      <td>0</td>\n",
              "    </tr>\n",
              "    <tr>\n",
              "      <th>1999</th>\n",
              "      <td>2020</td>\n",
              "      <td>999961</td>\n",
              "      <td>37</td>\n",
              "      <td>73</td>\n",
              "      <td>0</td>\n",
              "      <td>0</td>\n",
              "      <td>326.70</td>\n",
              "      <td>10.3</td>\n",
              "      <td>37.03</td>\n",
              "      <td>89</td>\n",
              "      <td>...</td>\n",
              "      <td>0</td>\n",
              "      <td>1</td>\n",
              "      <td>0</td>\n",
              "      <td>4.0</td>\n",
              "      <td>463.03</td>\n",
              "      <td>415.70</td>\n",
              "      <td>47.33</td>\n",
              "      <td>1</td>\n",
              "      <td>337.00</td>\n",
              "      <td>1</td>\n",
              "    </tr>\n",
              "  </tbody>\n",
              "</table>\n",
              "<p>2000 rows × 24 columns</p>\n",
              "</div>\n",
              "    <div class=\"colab-df-buttons\">\n",
              "\n",
              "  <div class=\"colab-df-container\">\n",
              "    <button class=\"colab-df-convert\" onclick=\"convertToInteractive('df-f6bac248-9dd4-437e-8185-bc8631983216')\"\n",
              "            title=\"Convert this dataframe to an interactive table.\"\n",
              "            style=\"display:none;\">\n",
              "\n",
              "  <svg xmlns=\"http://www.w3.org/2000/svg\" height=\"24px\" viewBox=\"0 -960 960 960\">\n",
              "    <path d=\"M120-120v-720h720v720H120Zm60-500h600v-160H180v160Zm220 220h160v-160H400v160Zm0 220h160v-160H400v160ZM180-400h160v-160H180v160Zm440 0h160v-160H620v160ZM180-180h160v-160H180v160Zm440 0h160v-160H620v160Z\"/>\n",
              "  </svg>\n",
              "    </button>\n",
              "\n",
              "  <style>\n",
              "    .colab-df-container {\n",
              "      display:flex;\n",
              "      gap: 12px;\n",
              "    }\n",
              "\n",
              "    .colab-df-convert {\n",
              "      background-color: #E8F0FE;\n",
              "      border: none;\n",
              "      border-radius: 50%;\n",
              "      cursor: pointer;\n",
              "      display: none;\n",
              "      fill: #1967D2;\n",
              "      height: 32px;\n",
              "      padding: 0 0 0 0;\n",
              "      width: 32px;\n",
              "    }\n",
              "\n",
              "    .colab-df-convert:hover {\n",
              "      background-color: #E2EBFA;\n",
              "      box-shadow: 0px 1px 2px rgba(60, 64, 67, 0.3), 0px 1px 3px 1px rgba(60, 64, 67, 0.15);\n",
              "      fill: #174EA6;\n",
              "    }\n",
              "\n",
              "    .colab-df-buttons div {\n",
              "      margin-bottom: 4px;\n",
              "    }\n",
              "\n",
              "    [theme=dark] .colab-df-convert {\n",
              "      background-color: #3B4455;\n",
              "      fill: #D2E3FC;\n",
              "    }\n",
              "\n",
              "    [theme=dark] .colab-df-convert:hover {\n",
              "      background-color: #434B5C;\n",
              "      box-shadow: 0px 1px 3px 1px rgba(0, 0, 0, 0.15);\n",
              "      filter: drop-shadow(0px 1px 2px rgba(0, 0, 0, 0.3));\n",
              "      fill: #FFFFFF;\n",
              "    }\n",
              "  </style>\n",
              "\n",
              "    <script>\n",
              "      const buttonEl =\n",
              "        document.querySelector('#df-f6bac248-9dd4-437e-8185-bc8631983216 button.colab-df-convert');\n",
              "      buttonEl.style.display =\n",
              "        google.colab.kernel.accessAllowed ? 'block' : 'none';\n",
              "\n",
              "      async function convertToInteractive(key) {\n",
              "        const element = document.querySelector('#df-f6bac248-9dd4-437e-8185-bc8631983216');\n",
              "        const dataTable =\n",
              "          await google.colab.kernel.invokeFunction('convertToInteractive',\n",
              "                                                    [key], {});\n",
              "        if (!dataTable) return;\n",
              "\n",
              "        const docLinkHtml = 'Like what you see? Visit the ' +\n",
              "          '<a target=\"_blank\" href=https://colab.research.google.com/notebooks/data_table.ipynb>data table notebook</a>'\n",
              "          + ' to learn more about interactive tables.';\n",
              "        element.innerHTML = '';\n",
              "        dataTable['output_type'] = 'display_data';\n",
              "        await google.colab.output.renderOutput(dataTable, element);\n",
              "        const docLink = document.createElement('div');\n",
              "        docLink.innerHTML = docLinkHtml;\n",
              "        element.appendChild(docLink);\n",
              "      }\n",
              "    </script>\n",
              "  </div>\n",
              "\n",
              "\n",
              "<div id=\"df-bf12c9a2-0726-42d2-9608-62511424ff50\">\n",
              "  <button class=\"colab-df-quickchart\" onclick=\"quickchart('df-bf12c9a2-0726-42d2-9608-62511424ff50')\"\n",
              "            title=\"Suggest charts\"\n",
              "            style=\"display:none;\">\n",
              "\n",
              "<svg xmlns=\"http://www.w3.org/2000/svg\" height=\"24px\"viewBox=\"0 0 24 24\"\n",
              "     width=\"24px\">\n",
              "    <g>\n",
              "        <path d=\"M19 3H5c-1.1 0-2 .9-2 2v14c0 1.1.9 2 2 2h14c1.1 0 2-.9 2-2V5c0-1.1-.9-2-2-2zM9 17H7v-7h2v7zm4 0h-2V7h2v10zm4 0h-2v-4h2v4z\"/>\n",
              "    </g>\n",
              "</svg>\n",
              "  </button>\n",
              "\n",
              "<style>\n",
              "  .colab-df-quickchart {\n",
              "      --bg-color: #E8F0FE;\n",
              "      --fill-color: #1967D2;\n",
              "      --hover-bg-color: #E2EBFA;\n",
              "      --hover-fill-color: #174EA6;\n",
              "      --disabled-fill-color: #AAA;\n",
              "      --disabled-bg-color: #DDD;\n",
              "  }\n",
              "\n",
              "  [theme=dark] .colab-df-quickchart {\n",
              "      --bg-color: #3B4455;\n",
              "      --fill-color: #D2E3FC;\n",
              "      --hover-bg-color: #434B5C;\n",
              "      --hover-fill-color: #FFFFFF;\n",
              "      --disabled-bg-color: #3B4455;\n",
              "      --disabled-fill-color: #666;\n",
              "  }\n",
              "\n",
              "  .colab-df-quickchart {\n",
              "    background-color: var(--bg-color);\n",
              "    border: none;\n",
              "    border-radius: 50%;\n",
              "    cursor: pointer;\n",
              "    display: none;\n",
              "    fill: var(--fill-color);\n",
              "    height: 32px;\n",
              "    padding: 0;\n",
              "    width: 32px;\n",
              "  }\n",
              "\n",
              "  .colab-df-quickchart:hover {\n",
              "    background-color: var(--hover-bg-color);\n",
              "    box-shadow: 0 1px 2px rgba(60, 64, 67, 0.3), 0 1px 3px 1px rgba(60, 64, 67, 0.15);\n",
              "    fill: var(--button-hover-fill-color);\n",
              "  }\n",
              "\n",
              "  .colab-df-quickchart-complete:disabled,\n",
              "  .colab-df-quickchart-complete:disabled:hover {\n",
              "    background-color: var(--disabled-bg-color);\n",
              "    fill: var(--disabled-fill-color);\n",
              "    box-shadow: none;\n",
              "  }\n",
              "\n",
              "  .colab-df-spinner {\n",
              "    border: 2px solid var(--fill-color);\n",
              "    border-color: transparent;\n",
              "    border-bottom-color: var(--fill-color);\n",
              "    animation:\n",
              "      spin 1s steps(1) infinite;\n",
              "  }\n",
              "\n",
              "  @keyframes spin {\n",
              "    0% {\n",
              "      border-color: transparent;\n",
              "      border-bottom-color: var(--fill-color);\n",
              "      border-left-color: var(--fill-color);\n",
              "    }\n",
              "    20% {\n",
              "      border-color: transparent;\n",
              "      border-left-color: var(--fill-color);\n",
              "      border-top-color: var(--fill-color);\n",
              "    }\n",
              "    30% {\n",
              "      border-color: transparent;\n",
              "      border-left-color: var(--fill-color);\n",
              "      border-top-color: var(--fill-color);\n",
              "      border-right-color: var(--fill-color);\n",
              "    }\n",
              "    40% {\n",
              "      border-color: transparent;\n",
              "      border-right-color: var(--fill-color);\n",
              "      border-top-color: var(--fill-color);\n",
              "    }\n",
              "    60% {\n",
              "      border-color: transparent;\n",
              "      border-right-color: var(--fill-color);\n",
              "    }\n",
              "    80% {\n",
              "      border-color: transparent;\n",
              "      border-right-color: var(--fill-color);\n",
              "      border-bottom-color: var(--fill-color);\n",
              "    }\n",
              "    90% {\n",
              "      border-color: transparent;\n",
              "      border-bottom-color: var(--fill-color);\n",
              "    }\n",
              "  }\n",
              "</style>\n",
              "\n",
              "  <script>\n",
              "    async function quickchart(key) {\n",
              "      const quickchartButtonEl =\n",
              "        document.querySelector('#' + key + ' button');\n",
              "      quickchartButtonEl.disabled = true;  // To prevent multiple clicks.\n",
              "      quickchartButtonEl.classList.add('colab-df-spinner');\n",
              "      try {\n",
              "        const charts = await google.colab.kernel.invokeFunction(\n",
              "            'suggestCharts', [key], {});\n",
              "      } catch (error) {\n",
              "        console.error('Error during call to suggestCharts:', error);\n",
              "      }\n",
              "      quickchartButtonEl.classList.remove('colab-df-spinner');\n",
              "      quickchartButtonEl.classList.add('colab-df-quickchart-complete');\n",
              "    }\n",
              "    (() => {\n",
              "      let quickchartButtonEl =\n",
              "        document.querySelector('#df-bf12c9a2-0726-42d2-9608-62511424ff50 button');\n",
              "      quickchartButtonEl.style.display =\n",
              "        google.colab.kernel.accessAllowed ? 'block' : 'none';\n",
              "    })();\n",
              "  </script>\n",
              "</div>\n",
              "    </div>\n",
              "  </div>\n"
            ]
          },
          "metadata": {},
          "execution_count": 231
        }
      ],
      "source": [
        "data"
      ]
    },
    {
      "cell_type": "markdown",
      "metadata": {
        "id": "QlxQwKFqjbaE"
      },
      "source": [
        "precision-recall curve"
      ]
    },
    {
      "cell_type": "code",
      "execution_count": 232,
      "metadata": {
        "id": "i6jYme3QWjXL"
      },
      "outputs": [],
      "source": [
        "from sklearn.metrics import precision_recall_curve"
      ]
    },
    {
      "cell_type": "code",
      "execution_count": 233,
      "metadata": {
        "id": "ifo11mFTLIje",
        "colab": {
          "base_uri": "https://localhost:8080/",
          "height": 524
        },
        "outputId": "0ea49a04-0946-42a4-a38a-062e8b85a92d"
      },
      "outputs": [
        {
          "output_type": "display_data",
          "data": {
            "text/plain": [
              "<Figure size 800x550 with 1 Axes>"
            ],
            "image/png": "[encoded data removed]"
          },
          "metadata": {}
        }
      ],
      "source": [
        "pred_prob_res = random_model.predict_proba(X_res)[:, 1]\n",
        "precision, recall, thresholds = precision_recall_curve(Y_res, pred_prob_res)\n",
        "\n",
        "plt.plot(recall, precision, marker='.')\n",
        "plt.xlabel('Recall')\n",
        "plt.ylabel('Precision')\n",
        "plt.title('Precision-Recall Curve')\n",
        "plt.show()"
      ]
    },
    {
      "cell_type": "code",
      "execution_count": 234,
      "metadata": {
        "id": "OK80QJNoLIgA"
      },
      "outputs": [],
      "source": [
        "threshold = 0.99 # Example threshold, adjust based on your needs\n",
        "\n",
        "# Classify customers based on the threshold\n",
        "predicted_classes = (pred_prob_res >= threshold).astype(int)"
      ]
    },
    {
      "cell_type": "code",
      "execution_count": 235,
      "metadata": {
        "id": "mJiZyJVKLIc3",
        "colab": {
          "base_uri": "https://localhost:8080/"
        },
        "outputId": "b37e3d2a-a0ce-466f-8144-38abcae7dc04"
      },
      "outputs": [
        {
          "output_type": "execute_result",
          "data": {
            "text/plain": [
              "array([0, 0, 0, ..., 0, 1, 0])"
            ]
          },
          "metadata": {},
          "execution_count": 235
        }
      ],
      "source": [
        "predicted_classes"
      ]
    },
    {
      "cell_type": "code",
      "execution_count": 236,
      "metadata": {
        "id": "knIt5luMLIY7",
        "colab": {
          "base_uri": "https://localhost:8080/"
        },
        "outputId": "92560d9e-653d-46b9-b85b-09fd2478206b"
      },
      "outputs": [
        {
          "output_type": "stream",
          "name": "stdout",
          "text": [
            "Number of potential churners: 297\n"
          ]
        }
      ],
      "source": [
        "num_potential_churners = sum(predicted_classes)\n",
        "print(\"Number of potential churners:\", num_potential_churners)"
      ]
    },
    {
      "cell_type": "code",
      "execution_count": 237,
      "metadata": {
        "id": "_3gxlbZgKcRO",
        "colab": {
          "base_uri": "https://localhost:8080/",
          "height": 562
        },
        "outputId": "1e440ff2-434a-45f1-cb6c-78712efc6731"
      },
      "outputs": [
        {
          "output_type": "display_data",
          "data": {
            "text/plain": [
              "<Figure size 1000x600 with 1 Axes>"
            ],
            "image/png": "[encoded data removed]"
          },
          "metadata": {}
        }
      ],
      "source": [
        "# Get feature importance scores\n",
        "feature_importances = random_model.feature_importances_\n",
        "\n",
        "# Create a DataFrame to store feature names and importance scores\n",
        "feature_importance_df = pd.DataFrame({'Feature': X_train.columns, 'Importance': feature_importances})\n",
        "\n",
        "# Sort features by importance\n",
        "feature_importance_df = feature_importance_df.sort_values(by='Importance', ascending=False)\n",
        "\n",
        "# Visualize feature importance\n",
        "plt.figure(figsize=(10, 6))\n",
        "plt.barh(feature_importance_df['Feature'], feature_importance_df['Importance'])\n",
        "plt.xlabel('Feature Importance')\n",
        "plt.ylabel('Feature')\n",
        "plt.title('Feature Importance Analysis')\n",
        "plt.show()"
      ]
    },
    {
      "cell_type": "code",
      "source": [],
      "metadata": {
        "id": "rqBMzg0nYYfp"
      },
      "execution_count": 237,
      "outputs": []
    }
  ],
  "metadata": {
    "colab": {
      "provenance": [],
      "include_colab_link": true
    },
    "kernelspec": {
      "display_name": "Python 3",
      "name": "python3"
    },
    "language_info": {
      "name": "python"
    }
  },
  "nbformat": 4,
  "nbformat_minor": 0
}