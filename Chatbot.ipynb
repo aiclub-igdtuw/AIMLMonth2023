{
  "cells": [
    {
      "cell_type": "markdown",
      "source": [
        "**Header File**"
      ],
      "metadata": {
        "id": "AybKoEhrb-Q6"
      }
    },
    {
      "cell_type": "code",
      "execution_count": 23,
      "metadata": {
        "id": "PBkpotMoGROi"
      },
      "outputs": [],
      "source": [
        "import io\n",
        "import random\n",
        "import string # to process standard python strings\n",
        "import warnings\n",
        "import numpy as np\n",
        "from sklearn.feature_extraction.text import TfidfVectorizer\n",
        "from sklearn.metrics.pairwise import cosine_similarity\n",
        "import warnings\n",
        "warnings.filterwarnings('ignore') # Ignoring warning messages"
      ]
    },
    {
      "cell_type": "markdown",
      "source": [
        "**Importing Natural Language Toolkit (nltk) for text processing**\n",
        "*   NLTK stands for \"Natural Language Toolkit\". It is a powerful tool for building computer programs that work with human language.\n",
        "*   It includes a variety of different resources that can analyze text, like dictionaries and algorithms.\n",
        "*   It makes it easier for programmers to work with text data by providing interfaces and libraries that can help classify, group, and analyze text.\n",
        "*    Overall, NLTK is a useful tool for anyone working with language data and interested in programming."
      ],
      "metadata": {
        "id": "-orH-B2hdrhs"
      }
    },
    {
      "cell_type": "code",
      "source": [
        "pip install nltk"
      ],
      "metadata": {
        "colab": {
          "base_uri": "https://localhost:8080/"
        },
        "id": "fRgk7etraGjw",
        "outputId": "cb140b17-f034-4fe8-f454-5da0059b3640"
      },
      "execution_count": 24,
      "outputs": [
        {
          "output_type": "stream",
          "name": "stdout",
          "text": [
            "Requirement already satisfied: nltk in /usr/local/lib/python3.10/dist-packages (3.8.1)\n",
            "Requirement already satisfied: click in /usr/local/lib/python3.10/dist-packages (from nltk) (8.1.4)\n",
            "Requirement already satisfied: joblib in /usr/local/lib/python3.10/dist-packages (from nltk) (1.3.1)\n",
            "Requirement already satisfied: regex>=2021.8.3 in /usr/local/lib/python3.10/dist-packages (from nltk) (2022.10.31)\n",
            "Requirement already satisfied: tqdm in /usr/local/lib/python3.10/dist-packages (from nltk) (4.65.0)\n"
          ]
        }
      ]
    },
    {
      "cell_type": "code",
      "source": [
        "import nltk\n",
        "from nltk.stem import WordNetLemmatizer\n",
        "nltk.download('popular', quiet=True) # for downloading packages\n",
        "#nltk.download('punkt') # first-time use only\n",
        "#nltk.download('wordnet') # first-time use only"
      ],
      "metadata": {
        "colab": {
          "base_uri": "https://localhost:8080/"
        },
        "id": "9QYxpoSmaKs2",
        "outputId": "9a41f8d4-f2e6-4ba9-ff32-5fbcb1391fa2"
      },
      "execution_count": 25,
      "outputs": [
        {
          "output_type": "execute_result",
          "data": {
            "text/plain": [
              "True"
            ]
          },
          "metadata": {},
          "execution_count": 25
        }
      ]
    },
    {
      "cell_type": "markdown",
      "source": [
        "**Open the text file containing the corpus for chatbot training**\n"
      ],
      "metadata": {
        "id": "gCuZQ65Ydzab"
      }
    },
    {
      "cell_type": "code",
      "source": [
        "f=open('/content/drive/MyDrive/projects/chatbot/chatbot.txt','r',errors = 'ignore')\n",
        "raw=f.read()\n",
        "raw = raw.lower()# converts to lowercase"
      ],
      "metadata": {
        "id": "K14YWecEaPYO"
      },
      "execution_count": 26,
      "outputs": []
    },
    {
      "cell_type": "markdown",
      "source": [
        "**Tokenisation**"
      ],
      "metadata": {
        "id": "8pBYAwlKjb_U"
      }
    },
    {
      "cell_type": "code",
      "source": [
        "sent_tokens = nltk.sent_tokenize(raw)# converts to list of sentences\n",
        "word_tokens = nltk.word_tokenize(raw)# converts to list of words"
      ],
      "metadata": {
        "id": "OggjuC95aYmK"
      },
      "execution_count": 27,
      "outputs": []
    },
    {
      "cell_type": "markdown",
      "source": [
        "**Preprocessing : Function to lemmatize tokens (converting words to their base form)**\n",
        "*   Function called LemTokens which will take as input the tokens and return\n",
        "\n",
        "\n",
        "normalized tokens."
      ],
      "metadata": {
        "id": "1ZTLAR2VeMGV"
      }
    },
    {
      "cell_type": "code",
      "source": [
        "lemmer = nltk.stem.WordNetLemmatizer()\n",
        "#WordNet is a semantically-oriented dictionary of English included in NLTK.\n",
        "def LemTokens(tokens):\n",
        "    return [lemmer.lemmatize(token) for token in tokens]\n",
        "remove_punct_dict = dict((ord(punct), None) for punct in string.punctuation)\n"
      ],
      "metadata": {
        "id": "7fceqRwsacsH"
      },
      "execution_count": 28,
      "outputs": []
    },
    {
      "cell_type": "markdown",
      "source": [
        "**Function to normalize the text (lemmatize and remove punctuation)**\n"
      ],
      "metadata": {
        "id": "4kHIpipZeex4"
      }
    },
    {
      "cell_type": "code",
      "source": [
        "def LemNormalize(text):\n",
        "    return LemTokens(nltk.word_tokenize(text.lower().translate(remove_punct_dict)))"
      ],
      "metadata": {
        "id": "hldBo80JehEk"
      },
      "execution_count": 29,
      "outputs": []
    },
    {
      "cell_type": "markdown",
      "source": [
        "**Greeting inputs and responses for the chatbot**\n"
      ],
      "metadata": {
        "id": "DCsv4nvmev6Z"
      }
    },
    {
      "cell_type": "code",
      "source": [
        "GREETING_INPUTS = (\"hello\", \"hi\", \"greetings\", \"sup\", \"what's up\",\"hey\",)\n",
        "GREETING_RESPONSES = [\"hi\", \"hey\", \"*nods*\", \"hi there\", \"hello\", \"I am glad! You are talking to me\"]\n",
        "def greeting(sentence): ## Function to respond to a greeting\n",
        "\n",
        "    for word in sentence.split():\n",
        "        if word.lower() in GREETING_INPUTS:\n",
        "            return random.choice(GREETING_RESPONSES)"
      ],
      "metadata": {
        "id": "9pA6EzleagR6"
      },
      "execution_count": 30,
      "outputs": []
    },
    {
      "cell_type": "markdown",
      "source": [
        "**Function to generate a response from the chatbot**\n",
        "\n",
        "\n",
        "*   After text is preprocessed, it needs to be turned into numbers. The **bag-of-words method represents** text with a vocabulary of known words and measures the presence of those words, with **no regard for word order**.\n",
        "*   This method assumes that documents with similar content are also similar in meaning.\n",
        "*   One issue with this method is that **frequent words can be weighed too heavily**and unfavorable to longer documents. The **TF-IDF method rescales word frequency** according to how often they appear across all documents.\n",
        "*   **Cosine similarity** is a measure of **how similar two documents** are based on their word frequency. It is used in generating a response from a bot by **searching the user's input for known keywords** and returning a possible response or an \"I don't understand\" message.\n"
      ],
      "metadata": {
        "id": "sjgkaB-fe4-X"
      }
    },
    {
      "cell_type": "code",
      "source": [
        "def response(user_response):\n",
        "    alexa_response=''\n",
        "    sent_tokens.append(user_response)\n",
        "    TfidfVec = TfidfVectorizer(tokenizer=LemNormalize, stop_words='english')\n",
        "    tfidf = TfidfVec.fit_transform(sent_tokens)\n",
        "    vals = cosine_similarity(tfidf[-1], tfidf)\n",
        "    idx=vals.argsort()[0][-2]\n",
        "    flat = vals.flatten()\n",
        "    flat.sort()\n",
        "    req_tfidf = flat[-2]\n",
        "    if(req_tfidf==0):\n",
        "        alexa_response=alexa_response+\"I am sorry! I don't understand you\"\n",
        "        return alexa_response\n",
        "    else:\n",
        "        alexa_response = alexa_response+sent_tokens[idx]\n",
        "        return alexa_response"
      ],
      "metadata": {
        "id": "ClD_YsBKakea"
      },
      "execution_count": 31,
      "outputs": []
    },
    {
      "cell_type": "markdown",
      "source": [
        "**Main loop of the chatbot**\n"
      ],
      "metadata": {
        "id": "JqkYklh2fCkv"
      }
    },
    {
      "cell_type": "code",
      "source": [
        "flag=True\n",
        "print(\"Alexa: My name is Alexa. I will answer your queries about Chatbots. If you want to exit, type Bye!\")\n",
        "while(flag==True):\n",
        "    user_response = input()\n",
        "    user_response=user_response.lower()\n",
        "    if(user_response!='bye'):\n",
        "        if(user_response=='thanks' or user_response=='thank you' ):\n",
        "            flag=False\n",
        "            print(\"Alexa: You are welcome..\")\n",
        "        else:\n",
        "            if(greeting(user_response)!=None):\n",
        "                print(\"Alexa: \"+greeting(user_response))\n",
        "            else:\n",
        "                print(\"Alexa: \",end=\"\")\n",
        "                print(response(user_response))\n",
        "                sent_tokens.remove(user_response)\n",
        "    else:\n",
        "        flag=False\n",
        "        print(\"Alexa: Bye! take care..\")"
      ],
      "metadata": {
        "colab": {
          "base_uri": "https://localhost:8080/"
        },
        "id": "ySmUu-Fiaoqo",
        "outputId": "e64ef550-cd8d-403d-fe71-b49dfa7f7a2b"
      },
      "execution_count": null,
      "outputs": [
        {
          "output_type": "stream",
          "name": "stdout",
          "text": [
            "Alexa: My name is Alexa. I will answer your queries about Chatbots. If you want to exit, type Bye!\n"
          ]
        }
      ]
    }
  ],
  "metadata": {
    "colab": {
      "provenance": [],
      "mount_file_id": "1nWg_jHSZPw0OVZOPKQXwoZyWbo-wQ-j-",
      "authorship_tag": "ABX9TyOs8lXiJQIOCska1qwdpW8P"
    },
    "kernelspec": {
      "display_name": "Python 3",
      "name": "python3"
    },
    "language_info": {
      "name": "python"
    }
  },
  "nbformat": 4,
  "nbformat_minor": 0
}