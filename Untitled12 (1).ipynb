{
 "cells": [
  {
   "cell_type": "code",
   "execution_count": 3,
   "id": "84bdffb2",
   "metadata": {},
   "outputs": [
    {
     "name": "stdout",
     "output_type": "stream",
     "text": [
      "Mean Squared Error: 6.1592130452769544e-30\n"
     ]
    }
   ],
   "source": [
    "import pandas as pd\n",
    "from sklearn.model_selection import train_test_split\n",
    "from sklearn.linear_model import LinearRegression\n",
    "from sklearn.metrics import mean_squared_error\n",
    "\n",
    "# Assuming you have a dataset called df\n",
    "# Replace 'your_file.csv' with the actual path to your dataset if it's in a CSV file\n",
    "# df = pd.read_csv('your_file.csv')\n",
    "dataset=pd.read_csv('wind_dataset.csv')\n",
    "\n",
    "# Preprocess the data (fill NaN values with median as mentioned earlier)\n",
    "column_medians = dataset.median()\n",
    "dataset_filled = dataset.fillna(column_medians)\n",
    "\n",
    "# Split the data into features (X) and target variable (y)\n",
    "X = dataset_filled.drop(columns=['WIND'])\n",
    "X = dataset_filled.drop(columns=['DATE']) # Drop 'WIND' column to get features\n",
    "y = dataset_filled['WIND']  # Target variable\n",
    "\n",
    "# Split the data into training and testing sets\n",
    "X_train, X_test, y_train, y_test = train_test_split(X, y, test_size=0.2, random_state=42)\n",
    "\n",
    "# Initialize the Linear Regression model\n",
    "model = LinearRegression()\n",
    "\n",
    "# Train the model using the training data\n",
    "model.fit(X_train, y_train)\n",
    "\n",
    "# Make predictions on the test data\n",
    "y_pred = model.predict(X_test)\n",
    "\n",
    "# Evaluate the model using mean squared error\n",
    "mse = mean_squared_error(y_test, y_pred)\n",
    "print(\"Mean Squared Error:\", mse)"
   ]
  },
  {
   "cell_type": "code",
   "execution_count": null,
   "id": "b5ee6aea",
   "metadata": {},
   "outputs": [],
   "source": []
  }
 ],
 "metadata": {
  "kernelspec": {
   "display_name": "Python 3 (ipykernel)",
   "language": "python",
   "name": "python3"
  },
  "language_info": {
   "codemirror_mode": {
    "name": "ipython",
    "version": 3
   },
   "file_extension": ".py",
   "mimetype": "text/x-python",
   "name": "python",
   "nbconvert_exporter": "python",
   "pygments_lexer": "ipython3",
   "version": "3.9.13"
  }
 },
 "nbformat": 4,
 "nbformat_minor": 5
}
