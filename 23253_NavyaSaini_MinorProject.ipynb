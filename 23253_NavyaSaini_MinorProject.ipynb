{
  "nbformat": 4,
  "nbformat_minor": 0,
  "metadata": {
    "colab": {
      "provenance": [],
      "toc_visible": true,
      "authorship_tag": "ABX9TyMUuIfCk6mr6XNzTQ4P1IBg",
      "include_colab_link": true
    },
    "kernelspec": {
      "name": "python3",
      "display_name": "Python 3"
    },
    "language_info": {
      "name": "python"
    }
  },
  "cells": [
    {
      "cell_type": "markdown",
      "metadata": {
        "id": "view-in-github",
        "colab_type": "text"
      },
      "source": [
        "<a href=\"https://colab.research.google.com/github/navyasaini/AIMLMonth2023/blob/main/23253_NavyaSaini_MinorProject.ipynb\" target=\"_parent\"><img src=\"https://colab.research.google.com/assets/colab-badge.svg\" alt=\"Open In Colab\"/></a>"
      ]
    },
    {
      "cell_type": "markdown",
      "source": [
        "### **Hepatitis C Prediction**"
      ],
      "metadata": {
        "id": "lGjozD97FW8Q"
      }
    },
    {
      "cell_type": "markdown",
      "source": [
        "--------------------------------------------------------------"
      ],
      "metadata": {
        "id": "UjAMnza7Pp7O"
      }
    },
    {
      "cell_type": "markdown",
      "source": [
        "**TASK 1 - Exploratory Data Analysis**"
      ],
      "metadata": {
        "id": "_EcOwrjUFFIK"
      }
    },
    {
      "cell_type": "code",
      "source": [
        "#importing libraries\n",
        "import pandas as pd\n",
        "import numpy as np\n",
        "import matplotlib.pyplot as plt\n",
        "import seaborn as sns\n",
        "import warnings\n",
        "warnings.filterwarnings('ignore')"
      ],
      "metadata": {
        "id": "d7wBykUJ2o1z"
      },
      "execution_count": 101,
      "outputs": []
    },
    {
      "cell_type": "code",
      "source": [
        "from google.colab import files\n",
        "uploaded=files.upload()"
      ],
      "metadata": {
        "colab": {
          "base_uri": "https://localhost:8080/",
          "height": 77
        },
        "id": "w803Vu3-G4ux",
        "outputId": "f3e23d6d-a32d-4937-8d76-273e2861e2ed"
      },
      "execution_count": 102,
      "outputs": [
        {
          "output_type": "display_data",
          "data": {
            "text/plain": [
              "<IPython.core.display.HTML object>"
            ],
            "text/html": [
              "\n",
              "     <input type=\"file\" id=\"files-5ab9bfb2-5c47-4b6f-8856-4151706741d3\" name=\"files[]\" multiple disabled\n",
              "        style=\"border:none\" />\n",
              "     <output id=\"result-5ab9bfb2-5c47-4b6f-8856-4151706741d3\">\n",
              "      Upload widget is only available when the cell has been executed in the\n",
              "      current browser session. Please rerun this cell to enable.\n",
              "      </output>\n",
              "      <script>// Copyright 2017 Google LLC\n",
              "//\n",
              "// Licensed under the Apache License, Version 2.0 (the \"License\");\n",
              "// you may not use this file except in compliance with the License.\n",
              "// You may obtain a copy of the License at\n",
              "//\n",
              "//      http://www.apache.org/licenses/LICENSE-2.0\n",
              "//\n",
              "// Unless required by applicable law or agreed to in writing, software\n",
              "// distributed under the License is distributed on an \"AS IS\" BASIS,\n",
              "// WITHOUT WARRANTIES OR CONDITIONS OF ANY KIND, either express or implied.\n",
              "// See the License for the specific language governing permissions and\n",
              "// limitations under the License.\n",
              "\n",
              "/**\n",
              " * @fileoverview Helpers for google.colab Python module.\n",
              " */\n",
              "(function(scope) {\n",
              "function span(text, styleAttributes = {}) {\n",
              "  const element = document.createElement('span');\n",
              "  element.textContent = text;\n",
              "  for (const key of Object.keys(styleAttributes)) {\n",
              "    element.style[key] = styleAttributes[key];\n",
              "  }\n",
              "  return element;\n",
              "}\n",
              "\n",
              "// Max number of bytes which will be uploaded at a time.\n",
              "const MAX_PAYLOAD_SIZE = 100 * 1024;\n",
              "\n",
              "function _uploadFiles(inputId, outputId) {\n",
              "  const steps = uploadFilesStep(inputId, outputId);\n",
              "  const outputElement = document.getElementById(outputId);\n",
              "  // Cache steps on the outputElement to make it available for the next call\n",
              "  // to uploadFilesContinue from Python.\n",
              "  outputElement.steps = steps;\n",
              "\n",
              "  return _uploadFilesContinue(outputId);\n",
              "}\n",
              "\n",
              "// This is roughly an async generator (not supported in the browser yet),\n",
              "// where there are multiple asynchronous steps and the Python side is going\n",
              "// to poll for completion of each step.\n",
              "// This uses a Promise to block the python side on completion of each step,\n",
              "// then passes the result of the previous step as the input to the next step.\n",
              "function _uploadFilesContinue(outputId) {\n",
              "  const outputElement = document.getElementById(outputId);\n",
              "  const steps = outputElement.steps;\n",
              "\n",
              "  const next = steps.next(outputElement.lastPromiseValue);\n",
              "  return Promise.resolve(next.value.promise).then((value) => {\n",
              "    // Cache the last promise value to make it available to the next\n",
              "    // step of the generator.\n",
              "    outputElement.lastPromiseValue = value;\n",
              "    return next.value.response;\n",
              "  });\n",
              "}\n",
              "\n",
              "/**\n",
              " * Generator function which is called between each async step of the upload\n",
              " * process.\n",
              " * @param {string} inputId Element ID of the input file picker element.\n",
              " * @param {string} outputId Element ID of the output display.\n",
              " * @return {!Iterable<!Object>} Iterable of next steps.\n",
              " */\n",
              "function* uploadFilesStep(inputId, outputId) {\n",
              "  const inputElement = document.getElementById(inputId);\n",
              "  inputElement.disabled = false;\n",
              "\n",
              "  const outputElement = document.getElementById(outputId);\n",
              "  outputElement.innerHTML = '';\n",
              "\n",
              "  const pickedPromise = new Promise((resolve) => {\n",
              "    inputElement.addEventListener('change', (e) => {\n",
              "      resolve(e.target.files);\n",
              "    });\n",
              "  });\n",
              "\n",
              "  const cancel = document.createElement('button');\n",
              "  inputElement.parentElement.appendChild(cancel);\n",
              "  cancel.textContent = 'Cancel upload';\n",
              "  const cancelPromise = new Promise((resolve) => {\n",
              "    cancel.onclick = () => {\n",
              "      resolve(null);\n",
              "    };\n",
              "  });\n",
              "\n",
              "  // Wait for the user to pick the files.\n",
              "  const files = yield {\n",
              "    promise: Promise.race([pickedPromise, cancelPromise]),\n",
              "    response: {\n",
              "      action: 'starting',\n",
              "    }\n",
              "  };\n",
              "\n",
              "  cancel.remove();\n",
              "\n",
              "  // Disable the input element since further picks are not allowed.\n",
              "  inputElement.disabled = true;\n",
              "\n",
              "  if (!files) {\n",
              "    return {\n",
              "      response: {\n",
              "        action: 'complete',\n",
              "      }\n",
              "    };\n",
              "  }\n",
              "\n",
              "  for (const file of files) {\n",
              "    const li = document.createElement('li');\n",
              "    li.append(span(file.name, {fontWeight: 'bold'}));\n",
              "    li.append(span(\n",
              "        `(${file.type || 'n/a'}) - ${file.size} bytes, ` +\n",
              "        `last modified: ${\n",
              "            file.lastModifiedDate ? file.lastModifiedDate.toLocaleDateString() :\n",
              "                                    'n/a'} - `));\n",
              "    const percent = span('0% done');\n",
              "    li.appendChild(percent);\n",
              "\n",
              "    outputElement.appendChild(li);\n",
              "\n",
              "    const fileDataPromise = new Promise((resolve) => {\n",
              "      const reader = new FileReader();\n",
              "      reader.onload = (e) => {\n",
              "        resolve(e.target.result);\n",
              "      };\n",
              "      reader.readAsArrayBuffer(file);\n",
              "    });\n",
              "    // Wait for the data to be ready.\n",
              "    let fileData = yield {\n",
              "      promise: fileDataPromise,\n",
              "      response: {\n",
              "        action: 'continue',\n",
              "      }\n",
              "    };\n",
              "\n",
              "    // Use a chunked sending to avoid message size limits. See b/62115660.\n",
              "    let position = 0;\n",
              "    do {\n",
              "      const length = Math.min(fileData.byteLength - position, MAX_PAYLOAD_SIZE);\n",
              "      const chunk = new Uint8Array(fileData, position, length);\n",
              "      position += length;\n",
              "\n",
              "      const base64 = btoa(String.fromCharCode.apply(null, chunk));\n",
              "      yield {\n",
              "        response: {\n",
              "          action: 'append',\n",
              "          file: file.name,\n",
              "          data: base64,\n",
              "        },\n",
              "      };\n",
              "\n",
              "      let percentDone = fileData.byteLength === 0 ?\n",
              "          100 :\n",
              "          Math.round((position / fileData.byteLength) * 100);\n",
              "      percent.textContent = `${percentDone}% done`;\n",
              "\n",
              "    } while (position < fileData.byteLength);\n",
              "  }\n",
              "\n",
              "  // All done.\n",
              "  yield {\n",
              "    response: {\n",
              "      action: 'complete',\n",
              "    }\n",
              "  };\n",
              "}\n",
              "\n",
              "scope.google = scope.google || {};\n",
              "scope.google.colab = scope.google.colab || {};\n",
              "scope.google.colab._files = {\n",
              "  _uploadFiles,\n",
              "  _uploadFilesContinue,\n",
              "};\n",
              "})(self);\n",
              "</script> "
            ]
          },
          "metadata": {}
        },
        {
          "output_type": "stream",
          "name": "stdout",
          "text": [
            "Saving HepatitisCdata.csv to HepatitisCdata (2).csv\n"
          ]
        }
      ]
    },
    {
      "cell_type": "markdown",
      "source": [
        "--------------------------------------------------------------"
      ],
      "metadata": {
        "id": "uoc4ujrMPlTR"
      }
    },
    {
      "cell_type": "markdown",
      "source": [
        "**QUESTION 1**\n",
        "Are there any missing values in the dataset? If so, how will you handle them? What is the distribution of different diagnosis categories in the dataset?"
      ],
      "metadata": {
        "id": "aCcU-8x1ETFY"
      }
    },
    {
      "cell_type": "code",
      "source": [
        "#import dataset\n",
        "dataset= pd.read_csv('HepatitisCdata.csv')\n",
        "#preview dataset\n",
        "dataset.head()"
      ],
      "metadata": {
        "colab": {
          "base_uri": "https://localhost:8080/",
          "height": 206
        },
        "id": "NLL4ym7Y2cS8",
        "outputId": "a06dec5c-9ec3-4178-8c30-36faff5c6dba"
      },
      "execution_count": null,
      "outputs": [
        {
          "output_type": "execute_result",
          "data": {
            "text/plain": [
              "   Unnamed: 0       Category  Age Sex   ALB   ALP   ALT   AST   BIL    CHE  \\\n",
              "0           1  0=Blood Donor   32   m  38.5  52.5   7.7  22.1   7.5   6.93   \n",
              "1           2  0=Blood Donor   32   m  38.5  70.3  18.0  24.7   3.9  11.17   \n",
              "2           3  0=Blood Donor   32   m  46.9  74.7  36.2  52.6   6.1   8.84   \n",
              "3           4  0=Blood Donor   32   m  43.2  52.0  30.6  22.6  18.9   7.33   \n",
              "4           5  0=Blood Donor   32   m  39.2  74.1  32.6  24.8   9.6   9.15   \n",
              "\n",
              "   CHOL   CREA   GGT  PROT  \n",
              "0  3.23  106.0  12.1  69.0  \n",
              "1  4.80   74.0  15.6  76.5  \n",
              "2  5.20   86.0  33.2  79.3  \n",
              "3  4.74   80.0  33.8  75.7  \n",
              "4  4.32   76.0  29.9  68.7  "
            ],
            "text/html": [
              "\n",
              "  <div id=\"df-d0956f0c-e3a5-49db-8999-e999c30ff11d\">\n",
              "    <div class=\"colab-df-container\">\n",
              "      <div>\n",
              "<style scoped>\n",
              "    .dataframe tbody tr th:only-of-type {\n",
              "        vertical-align: middle;\n",
              "    }\n",
              "\n",
              "    .dataframe tbody tr th {\n",
              "        vertical-align: top;\n",
              "    }\n",
              "\n",
              "    .dataframe thead th {\n",
              "        text-align: right;\n",
              "    }\n",
              "</style>\n",
              "<table border=\"1\" class=\"dataframe\">\n",
              "  <thead>\n",
              "    <tr style=\"text-align: right;\">\n",
              "      <th></th>\n",
              "      <th>Unnamed: 0</th>\n",
              "      <th>Category</th>\n",
              "      <th>Age</th>\n",
              "      <th>Sex</th>\n",
              "      <th>ALB</th>\n",
              "      <th>ALP</th>\n",
              "      <th>ALT</th>\n",
              "      <th>AST</th>\n",
              "      <th>BIL</th>\n",
              "      <th>CHE</th>\n",
              "      <th>CHOL</th>\n",
              "      <th>CREA</th>\n",
              "      <th>GGT</th>\n",
              "      <th>PROT</th>\n",
              "    </tr>\n",
              "  </thead>\n",
              "  <tbody>\n",
              "    <tr>\n",
              "      <th>0</th>\n",
              "      <td>1</td>\n",
              "      <td>0=Blood Donor</td>\n",
              "      <td>32</td>\n",
              "      <td>m</td>\n",
              "      <td>38.5</td>\n",
              "      <td>52.5</td>\n",
              "      <td>7.7</td>\n",
              "      <td>22.1</td>\n",
              "      <td>7.5</td>\n",
              "      <td>6.93</td>\n",
              "      <td>3.23</td>\n",
              "      <td>106.0</td>\n",
              "      <td>12.1</td>\n",
              "      <td>69.0</td>\n",
              "    </tr>\n",
              "    <tr>\n",
              "      <th>1</th>\n",
              "      <td>2</td>\n",
              "      <td>0=Blood Donor</td>\n",
              "      <td>32</td>\n",
              "      <td>m</td>\n",
              "      <td>38.5</td>\n",
              "      <td>70.3</td>\n",
              "      <td>18.0</td>\n",
              "      <td>24.7</td>\n",
              "      <td>3.9</td>\n",
              "      <td>11.17</td>\n",
              "      <td>4.80</td>\n",
              "      <td>74.0</td>\n",
              "      <td>15.6</td>\n",
              "      <td>76.5</td>\n",
              "    </tr>\n",
              "    <tr>\n",
              "      <th>2</th>\n",
              "      <td>3</td>\n",
              "      <td>0=Blood Donor</td>\n",
              "      <td>32</td>\n",
              "      <td>m</td>\n",
              "      <td>46.9</td>\n",
              "      <td>74.7</td>\n",
              "      <td>36.2</td>\n",
              "      <td>52.6</td>\n",
              "      <td>6.1</td>\n",
              "      <td>8.84</td>\n",
              "      <td>5.20</td>\n",
              "      <td>86.0</td>\n",
              "      <td>33.2</td>\n",
              "      <td>79.3</td>\n",
              "    </tr>\n",
              "    <tr>\n",
              "      <th>3</th>\n",
              "      <td>4</td>\n",
              "      <td>0=Blood Donor</td>\n",
              "      <td>32</td>\n",
              "      <td>m</td>\n",
              "      <td>43.2</td>\n",
              "      <td>52.0</td>\n",
              "      <td>30.6</td>\n",
              "      <td>22.6</td>\n",
              "      <td>18.9</td>\n",
              "      <td>7.33</td>\n",
              "      <td>4.74</td>\n",
              "      <td>80.0</td>\n",
              "      <td>33.8</td>\n",
              "      <td>75.7</td>\n",
              "    </tr>\n",
              "    <tr>\n",
              "      <th>4</th>\n",
              "      <td>5</td>\n",
              "      <td>0=Blood Donor</td>\n",
              "      <td>32</td>\n",
              "      <td>m</td>\n",
              "      <td>39.2</td>\n",
              "      <td>74.1</td>\n",
              "      <td>32.6</td>\n",
              "      <td>24.8</td>\n",
              "      <td>9.6</td>\n",
              "      <td>9.15</td>\n",
              "      <td>4.32</td>\n",
              "      <td>76.0</td>\n",
              "      <td>29.9</td>\n",
              "      <td>68.7</td>\n",
              "    </tr>\n",
              "  </tbody>\n",
              "</table>\n",
              "</div>\n",
              "      <button class=\"colab-df-convert\" onclick=\"convertToInteractive('df-d0956f0c-e3a5-49db-8999-e999c30ff11d')\"\n",
              "              title=\"Convert this dataframe to an interactive table.\"\n",
              "              style=\"display:none;\">\n",
              "        \n",
              "  <svg xmlns=\"http://www.w3.org/2000/svg\" height=\"24px\"viewBox=\"0 0 24 24\"\n",
              "       width=\"24px\">\n",
              "    <path d=\"M0 0h24v24H0V0z\" fill=\"none\"/>\n",
              "    <path d=\"M18.56 5.44l.94 2.06.94-2.06 2.06-.94-2.06-.94-.94-2.06-.94 2.06-2.06.94zm-11 1L8.5 8.5l.94-2.06 2.06-.94-2.06-.94L8.5 2.5l-.94 2.06-2.06.94zm10 10l.94 2.06.94-2.06 2.06-.94-2.06-.94-.94-2.06-.94 2.06-2.06.94z\"/><path d=\"M17.41 7.96l-1.37-1.37c-.4-.4-.92-.59-1.43-.59-.52 0-1.04.2-1.43.59L10.3 9.45l-7.72 7.72c-.78.78-.78 2.05 0 2.83L4 21.41c.39.39.9.59 1.41.59.51 0 1.02-.2 1.41-.59l7.78-7.78 2.81-2.81c.8-.78.8-2.07 0-2.86zM5.41 20L4 18.59l7.72-7.72 1.47 1.35L5.41 20z\"/>\n",
              "  </svg>\n",
              "      </button>\n",
              "      \n",
              "  <style>\n",
              "    .colab-df-container {\n",
              "      display:flex;\n",
              "      flex-wrap:wrap;\n",
              "      gap: 12px;\n",
              "    }\n",
              "\n",
              "    .colab-df-convert {\n",
              "      background-color: #E8F0FE;\n",
              "      border: none;\n",
              "      border-radius: 50%;\n",
              "      cursor: pointer;\n",
              "      display: none;\n",
              "      fill: #1967D2;\n",
              "      height: 32px;\n",
              "      padding: 0 0 0 0;\n",
              "      width: 32px;\n",
              "    }\n",
              "\n",
              "    .colab-df-convert:hover {\n",
              "      background-color: #E2EBFA;\n",
              "      box-shadow: 0px 1px 2px rgba(60, 64, 67, 0.3), 0px 1px 3px 1px rgba(60, 64, 67, 0.15);\n",
              "      fill: #174EA6;\n",
              "    }\n",
              "\n",
              "    [theme=dark] .colab-df-convert {\n",
              "      background-color: #3B4455;\n",
              "      fill: #D2E3FC;\n",
              "    }\n",
              "\n",
              "    [theme=dark] .colab-df-convert:hover {\n",
              "      background-color: #434B5C;\n",
              "      box-shadow: 0px 1px 3px 1px rgba(0, 0, 0, 0.15);\n",
              "      filter: drop-shadow(0px 1px 2px rgba(0, 0, 0, 0.3));\n",
              "      fill: #FFFFFF;\n",
              "    }\n",
              "  </style>\n",
              "\n",
              "      <script>\n",
              "        const buttonEl =\n",
              "          document.querySelector('#df-d0956f0c-e3a5-49db-8999-e999c30ff11d button.colab-df-convert');\n",
              "        buttonEl.style.display =\n",
              "          google.colab.kernel.accessAllowed ? 'block' : 'none';\n",
              "\n",
              "        async function convertToInteractive(key) {\n",
              "          const element = document.querySelector('#df-d0956f0c-e3a5-49db-8999-e999c30ff11d');\n",
              "          const dataTable =\n",
              "            await google.colab.kernel.invokeFunction('convertToInteractive',\n",
              "                                                     [key], {});\n",
              "          if (!dataTable) return;\n",
              "\n",
              "          const docLinkHtml = 'Like what you see? Visit the ' +\n",
              "            '<a target=\"_blank\" href=https://colab.research.google.com/notebooks/data_table.ipynb>data table notebook</a>'\n",
              "            + ' to learn more about interactive tables.';\n",
              "          element.innerHTML = '';\n",
              "          dataTable['output_type'] = 'display_data';\n",
              "          await google.colab.output.renderOutput(dataTable, element);\n",
              "          const docLink = document.createElement('div');\n",
              "          docLink.innerHTML = docLinkHtml;\n",
              "          element.appendChild(docLink);\n",
              "        }\n",
              "      </script>\n",
              "    </div>\n",
              "  </div>\n",
              "  "
            ]
          },
          "metadata": {},
          "execution_count": 88
        }
      ]
    },
    {
      "cell_type": "code",
      "source": [
        "#to check the missing values in the dataset\n",
        "missing_data = dataset.isnull().sum()\n",
        "\n",
        "#print the columns with missing data\n",
        "print(\"Columns with missing data:\")\n",
        "for column, count in missing_data.items():\n",
        "    if count > 0:\n",
        "        print(f\"{column}: {count} missing values\")"
      ],
      "metadata": {
        "colab": {
          "base_uri": "https://localhost:8080/"
        },
        "id": "f0ABDWFz5YgC",
        "outputId": "fdacaacf-0619-45a9-8a3e-a5d0650346c0"
      },
      "execution_count": null,
      "outputs": [
        {
          "output_type": "stream",
          "name": "stdout",
          "text": [
            "Columns with missing data:\n",
            "ALB: 1 missing values\n",
            "ALP: 18 missing values\n",
            "ALT: 1 missing values\n",
            "CHOL: 10 missing values\n",
            "PROT: 1 missing values\n"
          ]
        }
      ]
    },
    {
      "cell_type": "code",
      "source": [
        "#to handle the missing values in the dataset\n",
        "dataset = dataset.fillna(dataset.mean())\n",
        "#to check if missing values have been handled\n",
        "missing_data_after = dataset.isnull().sum()\n",
        "print(\"Columns with missing data after handling:\")\n",
        "for column, count in missing_data_after.items():\n",
        "    if count > 0:\n",
        "        print(f\"{column}: {count} missing values\")"
      ],
      "metadata": {
        "colab": {
          "base_uri": "https://localhost:8080/"
        },
        "id": "zH-iDvUY7x2X",
        "outputId": "2368f5dd-d529-4536-f3a3-155bf249df9d"
      },
      "execution_count": null,
      "outputs": [
        {
          "output_type": "stream",
          "name": "stdout",
          "text": [
            "Columns with missing data after handling:\n"
          ]
        }
      ]
    },
    {
      "cell_type": "code",
      "source": [
        "print(dataset.columns)"
      ],
      "metadata": {
        "colab": {
          "base_uri": "https://localhost:8080/"
        },
        "id": "h8-XjZzE-UkG",
        "outputId": "981219e7-3278-47be-a641-b334f6bfe74e"
      },
      "execution_count": null,
      "outputs": [
        {
          "output_type": "stream",
          "name": "stdout",
          "text": [
            "Index(['Unnamed: 0', 'Category', 'Age', 'Sex', 'ALB', 'ALP', 'ALT', 'AST',\n",
            "       'BIL', 'CHE', 'CHOL', 'CREA', 'GGT', 'PROT'],\n",
            "      dtype='object')\n"
          ]
        }
      ]
    },
    {
      "cell_type": "code",
      "source": [
        "#distribution of different diagnosis categories in the dataset\n",
        "diagnosis_counts = dataset['Category'].value_counts()\n",
        "print(\"Distribution of Diagnosis Categories:\")\n",
        "for category, count in diagnosis_counts.items():\n",
        "    print(f\"{category}: {count} occurrences\")"
      ],
      "metadata": {
        "colab": {
          "base_uri": "https://localhost:8080/"
        },
        "id": "Pige6iLD9wBL",
        "outputId": "6d448c60-d28c-4631-93a4-b9bae0e834ff"
      },
      "execution_count": null,
      "outputs": [
        {
          "output_type": "stream",
          "name": "stdout",
          "text": [
            "Distribution of Diagnosis Categories:\n",
            "0=Blood Donor: 533 occurrences\n",
            "3=Cirrhosis: 30 occurrences\n",
            "1=Hepatitis: 24 occurrences\n",
            "2=Fibrosis: 21 occurrences\n",
            "0s=suspect Blood Donor: 7 occurrences\n"
          ]
        }
      ]
    },
    {
      "cell_type": "markdown",
      "source": [
        "**Summarizing my analysis and observation** :\n",
        "This dataset has many missing values as displayed above.To handle the missing values in the dataset we took mean of the values.At last the distribution of different diagnosis categories exhibited the diseases and their occurences."
      ],
      "metadata": {
        "id": "hVQPiiC9-0OF"
      }
    },
    {
      "cell_type": "markdown",
      "source": [
        "--------------------------------------------------------------"
      ],
      "metadata": {
        "id": "j6pQL8y7Pg9g"
      }
    },
    {
      "cell_type": "markdown",
      "source": [
        "**QUESTION 2**\n",
        "Perform feature encoding or transformation on categorical variables (such as sex) in the dataset. Which encoding technique would be most suitable?"
      ],
      "metadata": {
        "id": "EhuFT1A2AOW5"
      }
    },
    {
      "cell_type": "code",
      "source": [
        "#encoding categorical value- category\n",
        "category_encoded = pd.get_dummies(dataset['Category'], prefix='Category')\n",
        "#encoding categorical value- sex\n",
        "sex_encoded = pd.get_dummies(dataset['Sex'], prefix='Sex', drop_first=True)\n",
        "\n",
        "encoded_dataset = pd.concat([dataset, category_encoded, sex_encoded], axis=1)\n",
        "encoded_dataset = pd.concat([dataset, category_encoded, sex_encoded], axis=1)\n",
        "print(encoded_dataset.head())"
      ],
      "metadata": {
        "colab": {
          "base_uri": "https://localhost:8080/"
        },
        "id": "gAr1A5NQAVPd",
        "outputId": "5c616faf-d2ec-4eb4-921f-79d39a4bbb2a"
      },
      "execution_count": null,
      "outputs": [
        {
          "output_type": "stream",
          "name": "stdout",
          "text": [
            "   Unnamed: 0       Category  Age Sex   ALB   ALP   ALT   AST   BIL    CHE  \\\n",
            "0           1  0=Blood Donor   32   m  38.5  52.5   7.7  22.1   7.5   6.93   \n",
            "1           2  0=Blood Donor   32   m  38.5  70.3  18.0  24.7   3.9  11.17   \n",
            "2           3  0=Blood Donor   32   m  46.9  74.7  36.2  52.6   6.1   8.84   \n",
            "3           4  0=Blood Donor   32   m  43.2  52.0  30.6  22.6  18.9   7.33   \n",
            "4           5  0=Blood Donor   32   m  39.2  74.1  32.6  24.8   9.6   9.15   \n",
            "\n",
            "   CHOL   CREA   GGT  PROT  Category_0=Blood Donor  \\\n",
            "0  3.23  106.0  12.1  69.0                       1   \n",
            "1  4.80   74.0  15.6  76.5                       1   \n",
            "2  5.20   86.0  33.2  79.3                       1   \n",
            "3  4.74   80.0  33.8  75.7                       1   \n",
            "4  4.32   76.0  29.9  68.7                       1   \n",
            "\n",
            "   Category_0s=suspect Blood Donor  Category_1=Hepatitis  Category_2=Fibrosis  \\\n",
            "0                                0                     0                    0   \n",
            "1                                0                     0                    0   \n",
            "2                                0                     0                    0   \n",
            "3                                0                     0                    0   \n",
            "4                                0                     0                    0   \n",
            "\n",
            "   Category_3=Cirrhosis  Sex_m  \n",
            "0                     0      1  \n",
            "1                     0      1  \n",
            "2                     0      1  \n",
            "3                     0      1  \n",
            "4                     0      1  \n"
          ]
        }
      ]
    },
    {
      "cell_type": "markdown",
      "source": [
        "**Summarizing my analysis and observation:** For encoding categorical value category we use one-hot encoding to create binary columns for each category as it contains distinct categories whereas for sex we use binary coding as it is the gender and contains two categories male and female."
      ],
      "metadata": {
        "id": "Cz1iz9OFC6QY"
      }
    },
    {
      "cell_type": "markdown",
      "source": [
        "--------------------------------------------------------------"
      ],
      "metadata": {
        "id": "ziFZ6SiGPb5t"
      }
    },
    {
      "cell_type": "markdown",
      "source": [
        "**QUESTION 3** Analyze the distribution and range of values for each clinical and demographic feature in the dataset. Are there any outliers or extreme values?\n"
      ],
      "metadata": {
        "id": "gKERrtc0DjM3"
      }
    },
    {
      "cell_type": "code",
      "source": [
        "#columns (clinical and demographic features)\n",
        "columns_of_interest = ['Age', 'ALB', 'ALP', 'ALT', 'AST', 'BIL', 'CHE', 'CHOL', 'CREA', 'GGT', 'PROT']\n",
        "\n",
        "#analyse features\n",
        "for column in columns_of_interest:\n",
        "    min_value = dataset[column].min()\n",
        "    max_value = dataset[column].max()\n",
        "    mean_value = dataset[column].mean()\n",
        "    median_value = dataset[column].median()\n",
        "    std_value = dataset[column].std()\n",
        "\n",
        "    #plot a histogram to visualize the distribution\n",
        "    plt.figure()\n",
        "    plt.hist(dataset[column], bins=20)\n",
        "    plt.xlabel(column)\n",
        "    plt.ylabel('Frequency')\n",
        "    plt.title(f'Distribution of {column}')\n",
        "    plt.show()\n",
        "\n",
        "    #summary statistics\n",
        "    print(f\"Summary statistics for {column}:\")\n",
        "    print(f\"  Minimum: {min_value}\")\n",
        "    print(f\"  Maximum: {max_value}\")\n",
        "    print(f\"  Mean: {mean_value:.2f}\")\n",
        "    print(f\"  Median: {median_value:.2f}\")\n",
        "    print(f\"  Standard Deviation: {std_value:.2f}\")\n",
        "    print()"
      ],
      "metadata": {
        "colab": {
          "base_uri": "https://localhost:8080/",
          "height": 1000
        },
        "id": "QQtkRP5aDvW7",
        "outputId": "b92d398a-5b44-4e37-8d7d-a37f61082330"
      },
      "execution_count": null,
      "outputs": [
        {
          "output_type": "display_data",
          "data": {
            "text/plain": [
              "<Figure size 640x480 with 1 Axes>"
            ],
            "image/png": "[encoded data removed]"
          },
          "metadata": {}
        },
        {
          "output_type": "stream",
          "name": "stdout",
          "text": [
            "Summary statistics for Age:\n",
            "  Minimum: 19\n",
            "  Maximum: 77\n",
            "  Mean: 47.41\n",
            "  Median: 47.00\n",
            "  Standard Deviation: 10.06\n",
            "\n"
          ]
        },
        {
          "output_type": "display_data",
          "data": {
            "text/plain": [
              "<Figure size 640x480 with 1 Axes>"
            ],
            "image/png": "[encoded data removed]"
          },
          "metadata": {}
        },
        {
          "output_type": "stream",
          "name": "stdout",
          "text": [
            "Summary statistics for ALB:\n",
            "  Minimum: 14.9\n",
            "  Maximum: 82.2\n",
            "  Mean: 41.62\n",
            "  Median: 41.90\n",
            "  Standard Deviation: 5.78\n",
            "\n"
          ]
        },
        {
          "output_type": "display_data",
          "data": {
            "text/plain": [
              "<Figure size 640x480 with 1 Axes>"
            ],
            "image/png": "[encoded data removed]"
          },
          "metadata": {}
        },
        {
          "output_type": "stream",
          "name": "stdout",
          "text": [
            "Summary statistics for ALP:\n",
            "  Minimum: 11.3\n",
            "  Maximum: 416.6\n",
            "  Mean: 68.28\n",
            "  Median: 66.70\n",
            "  Standard Deviation: 25.64\n",
            "\n"
          ]
        },
        {
          "output_type": "display_data",
          "data": {
            "text/plain": [
              "<Figure size 640x480 with 1 Axes>"
            ],
            "image/png": "[encoded data removed]"
          },
          "metadata": {}
        },
        {
          "output_type": "stream",
          "name": "stdout",
          "text": [
            "Summary statistics for ALT:\n",
            "  Minimum: 0.9\n",
            "  Maximum: 325.3\n",
            "  Mean: 28.45\n",
            "  Median: 23.00\n",
            "  Standard Deviation: 25.45\n",
            "\n"
          ]
        },
        {
          "output_type": "display_data",
          "data": {
            "text/plain": [
              "<Figure size 640x480 with 1 Axes>"
            ],
            "image/png": "[encoded data removed]"
          },
          "metadata": {}
        },
        {
          "output_type": "stream",
          "name": "stdout",
          "text": [
            "Summary statistics for AST:\n",
            "  Minimum: 10.6\n",
            "  Maximum: 324.0\n",
            "  Mean: 34.79\n",
            "  Median: 25.90\n",
            "  Standard Deviation: 33.09\n",
            "\n"
          ]
        },
        {
          "output_type": "display_data",
          "data": {
            "text/plain": [
              "<Figure size 640x480 with 1 Axes>"
            ],
            "image/png": "[encoded data removed]"
          },
          "metadata": {}
        },
        {
          "output_type": "stream",
          "name": "stdout",
          "text": [
            "Summary statistics for BIL:\n",
            "  Minimum: 0.8\n",
            "  Maximum: 254.0\n",
            "  Mean: 11.40\n",
            "  Median: 7.30\n",
            "  Standard Deviation: 19.67\n",
            "\n"
          ]
        },
        {
          "output_type": "display_data",
          "data": {
            "text/plain": [
              "<Figure size 640x480 with 1 Axes>"
            ],
            "image/png": "[encoded data removed]"
          },
          "metadata": {}
        },
        {
          "output_type": "stream",
          "name": "stdout",
          "text": [
            "Summary statistics for CHE:\n",
            "  Minimum: 1.42\n",
            "  Maximum: 16.41\n",
            "  Mean: 8.20\n",
            "  Median: 8.26\n",
            "  Standard Deviation: 2.21\n",
            "\n"
          ]
        },
        {
          "output_type": "display_data",
          "data": {
            "text/plain": [
              "<Figure size 640x480 with 1 Axes>"
            ],
            "image/png": "[encoded data removed]"
          },
          "metadata": {}
        },
        {
          "output_type": "stream",
          "name": "stdout",
          "text": [
            "Summary statistics for CHOL:\n",
            "  Minimum: 1.43\n",
            "  Maximum: 9.67\n",
            "  Mean: 5.37\n",
            "  Median: 5.31\n",
            "  Standard Deviation: 1.12\n",
            "\n"
          ]
        },
        {
          "output_type": "display_data",
          "data": {
            "text/plain": [
              "<Figure size 640x480 with 1 Axes>"
            ],
            "image/png": "[encoded data removed]"
          },
          "metadata": {}
        },
        {
          "output_type": "stream",
          "name": "stdout",
          "text": [
            "Summary statistics for CREA:\n",
            "  Minimum: 8.0\n",
            "  Maximum: 1079.1\n",
            "  Mean: 81.29\n",
            "  Median: 77.00\n",
            "  Standard Deviation: 49.76\n",
            "\n"
          ]
        },
        {
          "output_type": "display_data",
          "data": {
            "text/plain": [
              "<Figure size 640x480 with 1 Axes>"
            ],
            "image/png": "[encoded data removed]"
          },
          "metadata": {}
        },
        {
          "output_type": "stream",
          "name": "stdout",
          "text": [
            "Summary statistics for GGT:\n",
            "  Minimum: 4.5\n",
            "  Maximum: 650.9\n",
            "  Mean: 39.53\n",
            "  Median: 23.30\n",
            "  Standard Deviation: 54.66\n",
            "\n"
          ]
        },
        {
          "output_type": "display_data",
          "data": {
            "text/plain": [
              "<Figure size 640x480 with 1 Axes>"
            ],
            "image/png": "[encoded data removed]"
          },
          "metadata": {}
        },
        {
          "output_type": "stream",
          "name": "stdout",
          "text": [
            "Summary statistics for PROT:\n",
            "  Minimum: 44.8\n",
            "  Maximum: 90.0\n",
            "  Mean: 72.04\n",
            "  Median: 72.20\n",
            "  Standard Deviation: 5.40\n",
            "\n"
          ]
        }
      ]
    },
    {
      "cell_type": "markdown",
      "source": [
        "**Summarizing my analysis and observation:** To analyse the distribution and range of values for every feature in the dataset we calculate the basic statistics like min max median mean median and standard deviation and plot histograms for easy visualisation of the dataset. Also BIl category has extreme values."
      ],
      "metadata": {
        "id": "vLmsBuMSE4tJ"
      }
    },
    {
      "cell_type": "markdown",
      "source": [
        "--------------------------------------------------------------"
      ],
      "metadata": {
        "id": "xAd_Fw5aPWZ_"
      }
    },
    {
      "cell_type": "markdown",
      "source": [
        "**QUESTION 4** Can you explore the correlations between features and the diagnosis of hepatitis C? Are there any strong correlations or dependencies?\n"
      ],
      "metadata": {
        "id": "8-vEd3bxGWtB"
      }
    },
    {
      "cell_type": "code",
      "source": [
        "print(dataset.columns)"
      ],
      "metadata": {
        "colab": {
          "base_uri": "https://localhost:8080/"
        },
        "id": "OESxRHsKH5MI",
        "outputId": "a4c7d395-7536-4fd2-b2af-6db63d92099f"
      },
      "execution_count": null,
      "outputs": [
        {
          "output_type": "stream",
          "name": "stdout",
          "text": [
            "Index(['Unnamed: 0', 'Category', 'Age', 'Sex', 'ALB', 'ALP', 'ALT', 'AST',\n",
            "       'BIL', 'CHE', 'CHOL', 'CREA', 'GGT', 'PROT'],\n",
            "      dtype='object')\n"
          ]
        }
      ]
    },
    {
      "cell_type": "code",
      "source": [
        "print(dataset.head)"
      ],
      "metadata": {
        "colab": {
          "base_uri": "https://localhost:8080/"
        },
        "id": "7MYDGri4I7Rx",
        "outputId": "7dd5aa23-296a-4c47-f0bb-e066bcae587e"
      },
      "execution_count": null,
      "outputs": [
        {
          "output_type": "stream",
          "name": "stdout",
          "text": [
            "<bound method NDFrame.head of      Unnamed: 0       Category  Age Sex   ALB        ALP    ALT    AST   BIL  \\\n",
            "0             1  0=Blood Donor   32   m  38.5   52.50000    7.7   22.1   7.5   \n",
            "1             2  0=Blood Donor   32   m  38.5   70.30000   18.0   24.7   3.9   \n",
            "2             3  0=Blood Donor   32   m  46.9   74.70000   36.2   52.6   6.1   \n",
            "3             4  0=Blood Donor   32   m  43.2   52.00000   30.6   22.6  18.9   \n",
            "4             5  0=Blood Donor   32   m  39.2   74.10000   32.6   24.8   9.6   \n",
            "..          ...            ...  ...  ..   ...        ...    ...    ...   ...   \n",
            "610         611    3=Cirrhosis   62   f  32.0  416.60000    5.9  110.3  50.0   \n",
            "611         612    3=Cirrhosis   64   f  24.0  102.80000    2.9   44.4  20.0   \n",
            "612         613    3=Cirrhosis   64   f  29.0   87.30000    3.5   99.0  48.0   \n",
            "613         614    3=Cirrhosis   46   f  33.0   68.28392   39.0   62.0  20.0   \n",
            "614         615    3=Cirrhosis   59   f  36.0   68.28392  100.0   80.0  12.0   \n",
            "\n",
            "       CHE  CHOL   CREA    GGT  PROT  \n",
            "0     6.93  3.23  106.0   12.1  69.0  \n",
            "1    11.17  4.80   74.0   15.6  76.5  \n",
            "2     8.84  5.20   86.0   33.2  79.3  \n",
            "3     7.33  4.74   80.0   33.8  75.7  \n",
            "4     9.15  4.32   76.0   29.9  68.7  \n",
            "..     ...   ...    ...    ...   ...  \n",
            "610   5.57  6.30   55.7  650.9  68.5  \n",
            "611   1.54  3.02   63.0   35.9  71.3  \n",
            "612   1.66  3.63   66.7   64.2  82.0  \n",
            "613   3.56  4.20   52.0   50.0  71.0  \n",
            "614   9.07  5.30   67.0   34.0  68.0  \n",
            "\n",
            "[615 rows x 14 columns]>\n"
          ]
        }
      ]
    },
    {
      "cell_type": "code",
      "source": [
        "#explore the correlation between features and diagnosis of hepatitis C\n",
        "category_mapping = {'0=Blood Donor': 0, '1=Hepatitis': 1, '2=Fibrosis': 2, '3=Cirrhosis': 3}\n",
        "dataset['Category'] = dataset['Category'].map(category_mapping)\n",
        "correlation_matrix = dataset.corr()\n",
        "print(correlation_matrix)"
      ],
      "metadata": {
        "colab": {
          "base_uri": "https://localhost:8080/"
        },
        "id": "v7kLv5_dGdIS",
        "outputId": "7b66be78-f4fe-44c3-d690-62c35804be00"
      },
      "execution_count": null,
      "outputs": [
        {
          "output_type": "stream",
          "name": "stdout",
          "text": [
            "            Unnamed: 0  Category       Age       ALB       ALP       ALT  \\\n",
            "Unnamed: 0    1.000000  0.546629  0.420477 -0.309379  0.022402 -0.034996   \n",
            "Category      0.546629  1.000000  0.124079 -0.313387  0.051908  0.094894   \n",
            "Age           0.420477  0.124079  1.000000 -0.197005  0.168473 -0.006017   \n",
            "ALB          -0.309379 -0.313387 -0.197005  1.000000 -0.138858  0.001606   \n",
            "ALP           0.022402  0.051908  0.168473 -0.138858  1.000000  0.172461   \n",
            "ALT          -0.034996  0.094894 -0.006017  0.001606  0.172461  1.000000   \n",
            "AST           0.332626  0.645396  0.088666 -0.193397  0.062202  0.273325   \n",
            "BIL           0.181459  0.499293  0.032492 -0.221650  0.048600 -0.038468   \n",
            "CHE          -0.270549 -0.370050 -0.075093  0.375848  0.032971  0.146953   \n",
            "CHOL         -0.085709 -0.304692  0.123978  0.204803  0.121914  0.068023   \n",
            "CREA         -0.025987  0.203624 -0.022296 -0.001573  0.149554 -0.043025   \n",
            "GGT           0.247781  0.477942  0.153087 -0.155555  0.442262  0.248086   \n",
            "PROT         -0.113735  0.012627 -0.153665  0.550033 -0.053633  0.094373   \n",
            "\n",
            "                 AST       BIL       CHE      CHOL      CREA       GGT  \\\n",
            "Unnamed: 0  0.332626  0.181459 -0.270549 -0.085709 -0.025987  0.247781   \n",
            "Category    0.645396  0.499293 -0.370050 -0.304692  0.203624  0.477942   \n",
            "Age         0.088666  0.032492 -0.075093  0.123978 -0.022296  0.153087   \n",
            "ALB        -0.193397 -0.221650  0.375848  0.204803 -0.001573 -0.155555   \n",
            "ALP         0.062202  0.048600  0.032971  0.121914  0.149554  0.442262   \n",
            "ALT         0.273325 -0.038468  0.146953  0.068023 -0.043025  0.248086   \n",
            "AST         1.000000  0.312231 -0.208536 -0.207507 -0.021387  0.491263   \n",
            "BIL         0.312231  1.000000 -0.333172 -0.156261  0.031224  0.217024   \n",
            "CHE        -0.208536 -0.333172  1.000000  0.420163 -0.011157 -0.110345   \n",
            "CHOL       -0.207507 -0.156261  0.420163  1.000000 -0.047667 -0.006828   \n",
            "CREA       -0.021387  0.031224 -0.011157 -0.047667  1.000000  0.121003   \n",
            "GGT         0.491263  0.217024 -0.110345 -0.006828  0.121003  1.000000   \n",
            "PROT        0.039888 -0.041309  0.293184  0.206546 -0.031693 -0.011735   \n",
            "\n",
            "                PROT  \n",
            "Unnamed: 0 -0.113735  \n",
            "Category    0.012627  \n",
            "Age        -0.153665  \n",
            "ALB         0.550033  \n",
            "ALP        -0.053633  \n",
            "ALT         0.094373  \n",
            "AST         0.039888  \n",
            "BIL        -0.041309  \n",
            "CHE         0.293184  \n",
            "CHOL        0.206546  \n",
            "CREA       -0.031693  \n",
            "GGT        -0.011735  \n",
            "PROT        1.000000  \n"
          ]
        }
      ]
    },
    {
      "cell_type": "code",
      "source": [
        "#display strong correlations or dependencies\n",
        "threshold = 0.7\n",
        "strong_correlations = correlation_matrix.abs() > threshold\n",
        "strong_correlations = strong_correlations.mask(np.triu(np.ones(strong_correlations.shape)).astype(bool))\n",
        "strong_correlation_pairs = strong_correlations.stack().reset_index()\n",
        "strong_correlation_pairs.columns = ['Feature 1', 'Feature 2', 'Correlation']\n",
        "print(strong_correlation_pairs)\n"
      ],
      "metadata": {
        "colab": {
          "base_uri": "https://localhost:8080/"
        },
        "id": "nSF0SyoWOaGM",
        "outputId": "b054c9e7-d046-409d-d4d7-743d4620768b"
      },
      "execution_count": null,
      "outputs": [
        {
          "output_type": "stream",
          "name": "stdout",
          "text": [
            "   Feature 1   Feature 2 Correlation\n",
            "0   Category  Unnamed: 0       False\n",
            "1        Age  Unnamed: 0       False\n",
            "2        Age    Category       False\n",
            "3        ALB  Unnamed: 0       False\n",
            "4        ALB    Category       False\n",
            "..       ...         ...         ...\n",
            "73      PROT         BIL       False\n",
            "74      PROT         CHE       False\n",
            "75      PROT        CHOL       False\n",
            "76      PROT        CREA       False\n",
            "77      PROT         GGT       False\n",
            "\n",
            "[78 rows x 3 columns]\n"
          ]
        }
      ]
    },
    {
      "cell_type": "markdown",
      "source": [
        "**Summarizing my analysis and observation:** We have explored the correlation between features and diagnosis of hepatitis C using the correlation matrix.  "
      ],
      "metadata": {
        "id": "xlMGJ5vMNhnY"
      }
    },
    {
      "cell_type": "markdown",
      "source": [
        "--------------------------------------------------------------"
      ],
      "metadata": {
        "id": "6I5z7x6ZPQhH"
      }
    },
    {
      "cell_type": "markdown",
      "source": [
        "**QUESTION 5** Are there imbalances in the distribution of positive and negative hepatitis C diagnoses, such as a higher frequency of one category? How might this impact the classification task, and how will you address it?\n"
      ],
      "metadata": {
        "id": "rdXvDG67PGsY"
      }
    },
    {
      "cell_type": "code",
      "source": [
        "category_counts = dataset['Category'].value_counts()\n",
        "#Print the frequency distribution\n",
        "print(category_counts)\n"
      ],
      "metadata": {
        "colab": {
          "base_uri": "https://localhost:8080/"
        },
        "id": "VE9mVJR3POH8",
        "outputId": "95464cdc-2159-49b9-9193-e55f3c4e5011"
      },
      "execution_count": null,
      "outputs": [
        {
          "output_type": "stream",
          "name": "stdout",
          "text": [
            "0.0    533\n",
            "3.0     30\n",
            "1.0     24\n",
            "2.0     21\n",
            "Name: Category, dtype: int64\n"
          ]
        }
      ]
    },
    {
      "cell_type": "code",
      "source": [
        "plt.bar(category_counts.index, category_counts.values)\n",
        "plt.xlabel('Category')\n",
        "plt.ylabel('Frequency')\n",
        "plt.title('Distribution of Hepatitis C Diagnoses')\n",
        "plt.show()\n"
      ],
      "metadata": {
        "colab": {
          "base_uri": "https://localhost:8080/",
          "height": 472
        },
        "id": "DcEtNWcpGG8n",
        "outputId": "c5d7e0b9-b9e5-4b95-ad67-5baba9d9c3fc"
      },
      "execution_count": null,
      "outputs": [
        {
          "output_type": "display_data",
          "data": {
            "text/plain": [
              "<Figure size 640x480 with 1 Axes>"
            ],
            "image/png": "[encoded data removed]"
          },
          "metadata": {}
        }
      ]
    },
    {
      "cell_type": "markdown",
      "source": [
        "On analysing the above graph we observe that there is imbalance in the distribution of positive and negative hepatitis C diagnoses.It can impact the classification task in the following ways:\n",
        "**Bias:**The classifier may become biased towards the majority class (the category with higher frequency). This bias can lead to lower accuracy and poorer performance in predicting the minority class.\n",
        "**Misclassification:**The classifier may struggle to accurately classify instances of the minority class due to the lack of sufficient training data. This can result in higher false negative or false positive rates for the minority class."
      ],
      "metadata": {
        "id": "49w1ax-FHtm4"
      }
    },
    {
      "cell_type": "markdown",
      "source": [
        "To address it we can adjust the class weights during training to give more importance to the minority class. This way, the classifier focuses more on correctly classifying instances from the minority class."
      ],
      "metadata": {
        "id": "6LX6rlb3IRZ9"
      }
    },
    {
      "cell_type": "markdown",
      "source": [
        "--------------------------------------------------------------"
      ],
      "metadata": {
        "id": "jCr4dNZedZMU"
      }
    },
    {
      "cell_type": "markdown",
      "source": [
        "## **TASK 2 - Classification/Regression**"
      ],
      "metadata": {
        "id": "S-b9XPCJIyyF"
      }
    },
    {
      "cell_type": "markdown",
      "source": [
        "--------------------------------------------------------------"
      ],
      "metadata": {
        "id": "L-CiHTTOdV5D"
      }
    },
    {
      "cell_type": "markdown",
      "source": [
        "### Data Preprocessing"
      ],
      "metadata": {
        "id": "uupwALlEI8F5"
      }
    },
    {
      "cell_type": "code",
      "source": [
        "print(dataset.head)"
      ],
      "metadata": {
        "colab": {
          "base_uri": "https://localhost:8080/"
        },
        "id": "pdK2nJcVJM8A",
        "outputId": "13fc6c0a-587a-4d3d-adde-4b4d7f6c3382"
      },
      "execution_count": null,
      "outputs": [
        {
          "output_type": "stream",
          "name": "stdout",
          "text": [
            "<bound method NDFrame.head of      Unnamed: 0  Category  Age Sex   ALB        ALP    ALT    AST   BIL  \\\n",
            "0             1       0.0   32   m  38.5   52.50000    7.7   22.1   7.5   \n",
            "1             2       0.0   32   m  38.5   70.30000   18.0   24.7   3.9   \n",
            "2             3       0.0   32   m  46.9   74.70000   36.2   52.6   6.1   \n",
            "3             4       0.0   32   m  43.2   52.00000   30.6   22.6  18.9   \n",
            "4             5       0.0   32   m  39.2   74.10000   32.6   24.8   9.6   \n",
            "..          ...       ...  ...  ..   ...        ...    ...    ...   ...   \n",
            "610         611       3.0   62   f  32.0  416.60000    5.9  110.3  50.0   \n",
            "611         612       3.0   64   f  24.0  102.80000    2.9   44.4  20.0   \n",
            "612         613       3.0   64   f  29.0   87.30000    3.5   99.0  48.0   \n",
            "613         614       3.0   46   f  33.0   68.28392   39.0   62.0  20.0   \n",
            "614         615       3.0   59   f  36.0   68.28392  100.0   80.0  12.0   \n",
            "\n",
            "       CHE  CHOL   CREA    GGT  PROT  \n",
            "0     6.93  3.23  106.0   12.1  69.0  \n",
            "1    11.17  4.80   74.0   15.6  76.5  \n",
            "2     8.84  5.20   86.0   33.2  79.3  \n",
            "3     7.33  4.74   80.0   33.8  75.7  \n",
            "4     9.15  4.32   76.0   29.9  68.7  \n",
            "..     ...   ...    ...    ...   ...  \n",
            "610   5.57  6.30   55.7  650.9  68.5  \n",
            "611   1.54  3.02   63.0   35.9  71.3  \n",
            "612   1.66  3.63   66.7   64.2  82.0  \n",
            "613   3.56  4.20   52.0   50.0  71.0  \n",
            "614   9.07  5.30   67.0   34.0  68.0  \n",
            "\n",
            "[615 rows x 14 columns]>\n"
          ]
        }
      ]
    },
    {
      "cell_type": "code",
      "source": [
        "print(dataset.keys)"
      ],
      "metadata": {
        "colab": {
          "base_uri": "https://localhost:8080/"
        },
        "id": "eVTjqC3aJ-_U",
        "outputId": "1d1935cb-af9a-4853-a002-156a02f4b87e"
      },
      "execution_count": null,
      "outputs": [
        {
          "output_type": "stream",
          "name": "stdout",
          "text": [
            "<bound method NDFrame.keys of      Unnamed: 0  Category  Age Sex   ALB        ALP    ALT    AST   BIL  \\\n",
            "0             1       0.0   32   m  38.5   52.50000    7.7   22.1   7.5   \n",
            "1             2       0.0   32   m  38.5   70.30000   18.0   24.7   3.9   \n",
            "2             3       0.0   32   m  46.9   74.70000   36.2   52.6   6.1   \n",
            "3             4       0.0   32   m  43.2   52.00000   30.6   22.6  18.9   \n",
            "4             5       0.0   32   m  39.2   74.10000   32.6   24.8   9.6   \n",
            "..          ...       ...  ...  ..   ...        ...    ...    ...   ...   \n",
            "610         611       3.0   62   f  32.0  416.60000    5.9  110.3  50.0   \n",
            "611         612       3.0   64   f  24.0  102.80000    2.9   44.4  20.0   \n",
            "612         613       3.0   64   f  29.0   87.30000    3.5   99.0  48.0   \n",
            "613         614       3.0   46   f  33.0   68.28392   39.0   62.0  20.0   \n",
            "614         615       3.0   59   f  36.0   68.28392  100.0   80.0  12.0   \n",
            "\n",
            "       CHE  CHOL   CREA    GGT  PROT  \n",
            "0     6.93  3.23  106.0   12.1  69.0  \n",
            "1    11.17  4.80   74.0   15.6  76.5  \n",
            "2     8.84  5.20   86.0   33.2  79.3  \n",
            "3     7.33  4.74   80.0   33.8  75.7  \n",
            "4     9.15  4.32   76.0   29.9  68.7  \n",
            "..     ...   ...    ...    ...   ...  \n",
            "610   5.57  6.30   55.7  650.9  68.5  \n",
            "611   1.54  3.02   63.0   35.9  71.3  \n",
            "612   1.66  3.63   66.7   64.2  82.0  \n",
            "613   3.56  4.20   52.0   50.0  71.0  \n",
            "614   9.07  5.30   67.0   34.0  68.0  \n",
            "\n",
            "[615 rows x 14 columns]>\n"
          ]
        }
      ]
    },
    {
      "cell_type": "code",
      "source": [
        "dataset.name = 'my_dataframe'\n",
        "print(dataset.name)"
      ],
      "metadata": {
        "colab": {
          "base_uri": "https://localhost:8080/"
        },
        "id": "eXNjPownKTE2",
        "outputId": "0258110e-5f9c-4024-d377-1e92f72f9802"
      },
      "execution_count": null,
      "outputs": [
        {
          "output_type": "stream",
          "name": "stdout",
          "text": [
            "my_dataframe\n"
          ]
        }
      ]
    },
    {
      "cell_type": "code",
      "source": [
        "from sklearn.preprocessing import LabelEncoder, StandardScaler\n",
        "from sklearn.model_selection import train_test_split\n",
        "\n",
        "df=dataset.drop('Unnamed: 0', axis=1)\n",
        "\n",
        "#encoding categorical variables\n",
        "categorical_cols = ['Sex']\n",
        "label_encoder = LabelEncoder()\n",
        "\n",
        "for col in categorical_cols:\n",
        "    df[col] = label_encoder.fit_transform(df[col])\n",
        "\n",
        "#split the data into features (X) and target (y)\n",
        "X = df.drop('Category', axis=1)  # Features\n",
        "y = df['Category']  # Target\n",
        "\n",
        "#split the data into training and testing sets\n",
        "X_train, X_test, y_train, y_test = train_test_split(X, y, test_size=0.2, random_state=42)\n",
        "\n",
        "#scale numerical features\n",
        "numerical_cols = ['Age', 'ALB', 'ALP', 'ALT', 'AST', 'BIL', 'CHE', 'CHOL', 'CREA', 'GGT', 'PROT']  # List of numerical column names\n",
        "scaler = StandardScaler()\n",
        "\n",
        "X_train[numerical_cols] = scaler.fit_transform(X_train[numerical_cols])\n",
        "X_test[numerical_cols] = scaler.transform(X_test[numerical_cols])"
      ],
      "metadata": {
        "id": "f7IiwhULJawR"
      },
      "execution_count": null,
      "outputs": []
    },
    {
      "cell_type": "markdown",
      "source": [
        "now the data is preprocessed"
      ],
      "metadata": {
        "id": "F3lhTsueKxiy"
      }
    },
    {
      "cell_type": "markdown",
      "source": [
        "--------------------------------------------------------------"
      ],
      "metadata": {
        "id": "jdWmoMEldkDU"
      }
    },
    {
      "cell_type": "markdown",
      "source": [
        "### Feature Engineering"
      ],
      "metadata": {
        "id": "foREbdDOK0nx"
      }
    },
    {
      "cell_type": "code",
      "source": [
        "#creating a new feature by combining existing features\n",
        "df['ALB/AST'] = df['ALB'] / df['AST']\n",
        "\n",
        "#transforming a feature using a mathematical function\n",
        "df['log_ALP'] = np.log(df['ALP'])\n",
        "\n",
        "#binning a numerical feature into categorical bins\n",
        "bins = [0, 50, 100, np.inf]\n",
        "labels = ['low', 'medium', 'high']\n",
        "df['Age_Group'] = pd.cut(df['Age'], bins=bins, labels=labels)\n",
        "\n",
        "#normalizing numerical features\n",
        "numeric_cols = ['ALB', 'ALT', 'AST']\n",
        "df[numeric_cols] = (df[numeric_cols] - df[numeric_cols].mean()) / df[numeric_cols].std()\n",
        "\n",
        "#to print the modified DataFrame\n",
        "print(df.head())"
      ],
      "metadata": {
        "colab": {
          "base_uri": "https://localhost:8080/"
        },
        "id": "D7BsfWYSK5ls",
        "outputId": "bed5e2d0-1732-4c84-9143-ae29d1feb3ca"
      },
      "execution_count": null,
      "outputs": [
        {
          "output_type": "stream",
          "name": "stdout",
          "text": [
            "   Category  Age  Sex       ALB   ALP       ALT       AST   BIL    CHE  CHOL  \\\n",
            "0       0.0   32    1 -0.540208  52.5 -0.815390 -0.383381   7.5   6.93  3.23   \n",
            "1       0.0   32    1 -0.540208  70.3 -0.410658 -0.304809   3.9  11.17  4.80   \n",
            "2       0.0   32    1  0.914106  74.7  0.304499  0.538328   6.1   8.84  5.20   \n",
            "3       0.0   32    1  0.273516  52.0  0.084451 -0.368271  18.9   7.33  4.74   \n",
            "4       0.0   32    1 -0.419015  74.1  0.163040 -0.301787   9.6   9.15  4.32   \n",
            "\n",
            "    CREA   GGT  PROT   ALB/AST   log_ALP Age_Group  \n",
            "0  106.0  12.1  69.0  1.742081  3.960813       low  \n",
            "1   74.0  15.6  76.5  1.558704  4.252772       low  \n",
            "2   86.0  33.2  79.3  0.891635  4.313480       low  \n",
            "3   80.0  33.8  75.7  1.911504  3.951244       low  \n",
            "4   76.0  29.9  68.7  1.580645  4.305416       low  \n"
          ]
        }
      ]
    },
    {
      "cell_type": "markdown",
      "source": [
        "--------------------------------------------------------------"
      ],
      "metadata": {
        "id": "_saLIr2qdoZK"
      }
    },
    {
      "cell_type": "markdown",
      "source": [
        "### Split dataset in train-test (80:20 ratio)"
      ],
      "metadata": {
        "id": "TJO7ebnKNAWR"
      }
    },
    {
      "cell_type": "code",
      "source": [
        "from sklearn.model_selection import train_test_split\n",
        "\n",
        "#splitting the dataset into features (X) and target variable (y)\n",
        "X = df.drop('Category', axis=1)\n",
        "y = df['Category']\n",
        "\n",
        "#splitting the dataset into training and testing sets\n",
        "X_train, X_test, y_train, y_test = train_test_split(X, y, test_size=0.2, random_state=42)\n",
        "\n",
        "#to print the shapes of the resulting datasets\n",
        "print(\"Training set shape:\", X_train.shape, y_train.shape)\n",
        "print(\"Testing set shape:\", X_test.shape, y_test.shape)\n"
      ],
      "metadata": {
        "colab": {
          "base_uri": "https://localhost:8080/"
        },
        "id": "tubgv283NKu_",
        "outputId": "bb0c0c42-93ed-4b25-e114-4a6dd8dee2bf"
      },
      "execution_count": null,
      "outputs": [
        {
          "output_type": "stream",
          "name": "stdout",
          "text": [
            "Training set shape: (492, 15) (492,)\n",
            "Testing set shape: (123, 15) (123,)\n"
          ]
        }
      ]
    },
    {
      "cell_type": "markdown",
      "source": [
        "we have used train_test_split function from scikit-learn library to split the dataset into training and testing sets. The test_size parameter is set to 0.2, indicating that 20% of the data will be used for testing."
      ],
      "metadata": {
        "id": "gUbKUavIODdq"
      }
    },
    {
      "cell_type": "markdown",
      "source": [
        "--------------------------------------------------------------"
      ],
      "metadata": {
        "id": "I9qLkBMIdxSy"
      }
    },
    {
      "cell_type": "markdown",
      "source": [
        "### Model Selection"
      ],
      "metadata": {
        "id": "NLwS8gegmw2h"
      }
    },
    {
      "cell_type": "code",
      "source": [
        "import pandas as pd\n",
        "from sklearn.model_selection import train_test_split\n",
        "from sklearn.impute import SimpleImputer\n",
        "from sklearn.preprocessing import OneHotEncoder\n",
        "from sklearn.compose import ColumnTransformer\n",
        "from sklearn.pipeline import Pipeline\n",
        "from sklearn.linear_model import LogisticRegression\n",
        "from sklearn.ensemble import RandomForestClassifier\n",
        "from sklearn.model_selection import cross_val_score\n",
        "\n",
        "#split the dataset into train and test sets\n",
        "train_df, test_df = train_test_split(dataset, test_size=0.2, random_state=42)\n",
        "\n",
        "#separate the features and the target variable in the train set\n",
        "X_train = train_df.drop(columns=['Category'])\n",
        "y_train = train_df['Category']\n",
        "\n",
        "#preprocessing pipelines for numeric and categorical columns\n",
        "numeric_pipeline = Pipeline([\n",
        "    ('imputer', SimpleImputer(strategy='mean'))\n",
        "])\n",
        "\n",
        "categorical_pipeline = Pipeline([\n",
        "    ('imputer', SimpleImputer(strategy='most_frequent')),\n",
        "    ('encoder', OneHotEncoder())\n",
        "])\n",
        "\n",
        "#column transformer to apply different preprocessing pipelines to different columns\n",
        "preprocessor = ColumnTransformer([\n",
        "    ('numeric', numeric_pipeline, X_train.select_dtypes(include=['float', 'int']).columns),\n",
        "    ('categorical', categorical_pipeline, X_train.select_dtypes(include=['object']).columns)\n",
        "])\n",
        "\n",
        "#transform the train set\n",
        "X_train_transformed = preprocessor.fit_transform(X_train)\n",
        "\n",
        "#reset indices of X_train_transformed and y_train\n",
        "X_train_transformed = pd.DataFrame(X_train_transformed, index=X_train.index)\n",
        "y_train = y_train.loc[X_train.index]\n",
        "\n",
        "#handle missing values in the target variable\n",
        "y_train_imputed = y_train.dropna()\n",
        "X_train_imputed = X_train_transformed.loc[y_train_imputed.index]\n",
        "\n",
        "#define the models to evaluate\n",
        "models = [\n",
        "    LogisticRegression(),\n",
        "    RandomForestClassifier()\n",
        "]\n",
        "\n",
        "#perform model selection using cross-validation\n",
        "for model in models:\n",
        "    scores = cross_val_score(model, X_train_imputed, y_train_imputed, cv=5)  # 5-fold cross-validation\n",
        "    avg_score = scores.mean()\n",
        "    print(f\"{model.__class__.__name__} - Average Accuracy: {avg_score:.2f}\")\n"
      ],
      "metadata": {
        "colab": {
          "base_uri": "https://localhost:8080/"
        },
        "id": "dG9Px98wpj0q",
        "outputId": "6b8a5354-fcdf-4d9d-8039-d50a78479d04"
      },
      "execution_count": null,
      "outputs": [
        {
          "output_type": "stream",
          "name": "stdout",
          "text": [
            "LogisticRegression - Average Accuracy: 0.95\n",
            "RandomForestClassifier - Average Accuracy: 0.98\n"
          ]
        }
      ]
    },
    {
      "cell_type": "markdown",
      "source": [
        "--------------------------------------------------------------"
      ],
      "metadata": {
        "id": "82zfAF38d_fk"
      }
    },
    {
      "cell_type": "markdown",
      "source": [
        "### Model Training"
      ],
      "metadata": {
        "id": "xb2xNsNEsXfY"
      }
    },
    {
      "cell_type": "code",
      "source": [
        "print(dataset.head)"
      ],
      "metadata": {
        "colab": {
          "base_uri": "https://localhost:8080/"
        },
        "id": "3zix01ye0EIV",
        "outputId": "67af044d-28e1-4c0c-bab1-21887db0d6fc"
      },
      "execution_count": null,
      "outputs": [
        {
          "output_type": "stream",
          "name": "stdout",
          "text": [
            "<bound method NDFrame.head of      Unnamed: 0  Category  Age Sex   ALB        ALP    ALT    AST   BIL  \\\n",
            "0             1       0.0   32   m  38.5   52.50000    7.7   22.1   7.5   \n",
            "1             2       0.0   32   m  38.5   70.30000   18.0   24.7   3.9   \n",
            "2             3       0.0   32   m  46.9   74.70000   36.2   52.6   6.1   \n",
            "3             4       0.0   32   m  43.2   52.00000   30.6   22.6  18.9   \n",
            "4             5       0.0   32   m  39.2   74.10000   32.6   24.8   9.6   \n",
            "..          ...       ...  ...  ..   ...        ...    ...    ...   ...   \n",
            "610         611       3.0   62   f  32.0  416.60000    5.9  110.3  50.0   \n",
            "611         612       3.0   64   f  24.0  102.80000    2.9   44.4  20.0   \n",
            "612         613       3.0   64   f  29.0   87.30000    3.5   99.0  48.0   \n",
            "613         614       3.0   46   f  33.0   68.28392   39.0   62.0  20.0   \n",
            "614         615       3.0   59   f  36.0   68.28392  100.0   80.0  12.0   \n",
            "\n",
            "       CHE  CHOL   CREA    GGT  PROT  \n",
            "0     6.93  3.23  106.0   12.1  69.0  \n",
            "1    11.17  4.80   74.0   15.6  76.5  \n",
            "2     8.84  5.20   86.0   33.2  79.3  \n",
            "3     7.33  4.74   80.0   33.8  75.7  \n",
            "4     9.15  4.32   76.0   29.9  68.7  \n",
            "..     ...   ...    ...    ...   ...  \n",
            "610   5.57  6.30   55.7  650.9  68.5  \n",
            "611   1.54  3.02   63.0   35.9  71.3  \n",
            "612   1.66  3.63   66.7   64.2  82.0  \n",
            "613   3.56  4.20   52.0   50.0  71.0  \n",
            "614   9.07  5.30   67.0   34.0  68.0  \n",
            "\n",
            "[615 rows x 14 columns]>\n"
          ]
        }
      ]
    },
    {
      "cell_type": "code",
      "source": [
        "from sklearn.pipeline import make_pipeline\n",
        "from sklearn.impute import SimpleImputer\n",
        "\n",
        "#create the pipeline with imputer and classifier\n",
        "pipeline = make_pipeline(SimpleImputer(strategy='mean'), RandomForestClassifier())\n",
        "\n",
        "#fit the pipeline on the training data\n",
        "pipeline.fit(X_train_imputed, y_train)\n",
        "\n",
        "#make predictions on the test set\n",
        "y_pred = pipeline.predict(X_test_imputed)"
      ],
      "metadata": {
        "id": "uFul4cY5-EdB"
      },
      "execution_count": null,
      "outputs": []
    },
    {
      "cell_type": "code",
      "source": [
        "model.fit(X_train_imputed, y_train)\n"
      ],
      "metadata": {
        "colab": {
          "base_uri": "https://localhost:8080/",
          "height": 74
        },
        "id": "gBVZTXCh_7BS",
        "outputId": "1947fbcc-3830-425c-8d54-ec9919174945"
      },
      "execution_count": null,
      "outputs": [
        {
          "output_type": "execute_result",
          "data": {
            "text/plain": [
              "RandomForestClassifier()"
            ],
            "text/html": [
              "<style>#sk-container-id-1 {color: black;background-color: white;}#sk-container-id-1 pre{padding: 0;}#sk-container-id-1 div.sk-toggleable {background-color: white;}#sk-container-id-1 label.sk-toggleable__label {cursor: pointer;display: block;width: 100%;margin-bottom: 0;padding: 0.3em;box-sizing: border-box;text-align: center;}#sk-container-id-1 label.sk-toggleable__label-arrow:before {content: \"▸\";float: left;margin-right: 0.25em;color: #696969;}#sk-container-id-1 label.sk-toggleable__label-arrow:hover:before {color: black;}#sk-container-id-1 div.sk-estimator:hover label.sk-toggleable__label-arrow:before {color: black;}#sk-container-id-1 div.sk-toggleable__content {max-height: 0;max-width: 0;overflow: hidden;text-align: left;background-color: #f0f8ff;}#sk-container-id-1 div.sk-toggleable__content pre {margin: 0.2em;color: black;border-radius: 0.25em;background-color: #f0f8ff;}#sk-container-id-1 input.sk-toggleable__control:checked~div.sk-toggleable__content {max-height: 200px;max-width: 100%;overflow: auto;}#sk-container-id-1 input.sk-toggleable__control:checked~label.sk-toggleable__label-arrow:before {content: \"▾\";}#sk-container-id-1 div.sk-estimator input.sk-toggleable__control:checked~label.sk-toggleable__label {background-color: #d4ebff;}#sk-container-id-1 div.sk-label input.sk-toggleable__control:checked~label.sk-toggleable__label {background-color: #d4ebff;}#sk-container-id-1 input.sk-hidden--visually {border: 0;clip: rect(1px 1px 1px 1px);clip: rect(1px, 1px, 1px, 1px);height: 1px;margin: -1px;overflow: hidden;padding: 0;position: absolute;width: 1px;}#sk-container-id-1 div.sk-estimator {font-family: monospace;background-color: #f0f8ff;border: 1px dotted black;border-radius: 0.25em;box-sizing: border-box;margin-bottom: 0.5em;}#sk-container-id-1 div.sk-estimator:hover {background-color: #d4ebff;}#sk-container-id-1 div.sk-parallel-item::after {content: \"\";width: 100%;border-bottom: 1px solid gray;flex-grow: 1;}#sk-container-id-1 div.sk-label:hover label.sk-toggleable__label {background-color: #d4ebff;}#sk-container-id-1 div.sk-serial::before {content: \"\";position: absolute;border-left: 1px solid gray;box-sizing: border-box;top: 0;bottom: 0;left: 50%;z-index: 0;}#sk-container-id-1 div.sk-serial {display: flex;flex-direction: column;align-items: center;background-color: white;padding-right: 0.2em;padding-left: 0.2em;position: relative;}#sk-container-id-1 div.sk-item {position: relative;z-index: 1;}#sk-container-id-1 div.sk-parallel {display: flex;align-items: stretch;justify-content: center;background-color: white;position: relative;}#sk-container-id-1 div.sk-item::before, #sk-container-id-1 div.sk-parallel-item::before {content: \"\";position: absolute;border-left: 1px solid gray;box-sizing: border-box;top: 0;bottom: 0;left: 50%;z-index: -1;}#sk-container-id-1 div.sk-parallel-item {display: flex;flex-direction: column;z-index: 1;position: relative;background-color: white;}#sk-container-id-1 div.sk-parallel-item:first-child::after {align-self: flex-end;width: 50%;}#sk-container-id-1 div.sk-parallel-item:last-child::after {align-self: flex-start;width: 50%;}#sk-container-id-1 div.sk-parallel-item:only-child::after {width: 0;}#sk-container-id-1 div.sk-dashed-wrapped {border: 1px dashed gray;margin: 0 0.4em 0.5em 0.4em;box-sizing: border-box;padding-bottom: 0.4em;background-color: white;}#sk-container-id-1 div.sk-label label {font-family: monospace;font-weight: bold;display: inline-block;line-height: 1.2em;}#sk-container-id-1 div.sk-label-container {text-align: center;}#sk-container-id-1 div.sk-container {/* jupyter's `normalize.less` sets `[hidden] { display: none; }` but bootstrap.min.css set `[hidden] { display: none !important; }` so we also need the `!important` here to be able to override the default hidden behavior on the sphinx rendered scikit-learn.org. See: https://github.com/scikit-learn/scikit-learn/issues/21755 */display: inline-block !important;position: relative;}#sk-container-id-1 div.sk-text-repr-fallback {display: none;}</style><div id=\"sk-container-id-1\" class=\"sk-top-container\"><div class=\"sk-text-repr-fallback\"><pre>RandomForestClassifier()</pre><b>In a Jupyter environment, please rerun this cell to show the HTML representation or trust the notebook. <br />On GitHub, the HTML representation is unable to render, please try loading this page with nbviewer.org.</b></div><div class=\"sk-container\" hidden><div class=\"sk-item\"><div class=\"sk-estimator sk-toggleable\"><input class=\"sk-toggleable__control sk-hidden--visually\" id=\"sk-estimator-id-1\" type=\"checkbox\" checked><label for=\"sk-estimator-id-1\" class=\"sk-toggleable__label sk-toggleable__label-arrow\">RandomForestClassifier</label><div class=\"sk-toggleable__content\"><pre>RandomForestClassifier()</pre></div></div></div></div></div>"
            ]
          },
          "metadata": {},
          "execution_count": 49
        }
      ]
    },
    {
      "cell_type": "code",
      "source": [
        "model = RandomForestClassifier()\n",
        "model.fit(X_train_imputed, y_train)\n",
        "\n",
        "#to check feature importances\n",
        "importances = model.feature_importances_\n",
        "print(importances)\n"
      ],
      "metadata": {
        "colab": {
          "base_uri": "https://localhost:8080/"
        },
        "id": "TtmoNPvoAOiQ",
        "outputId": "5f13800f-60a2-4f88-e8b0-9fa14d86dea6"
      },
      "execution_count": null,
      "outputs": [
        {
          "output_type": "stream",
          "name": "stdout",
          "text": [
            "[0.07496624 0.07264551 0.07028343 0.08322552 0.07719095 0.07734583\n",
            " 0.08692036 0.08245361 0.0945909  0.08398428 0.09622628 0.06436617\n",
            " 0.01416452 0.02163639]\n"
          ]
        }
      ]
    },
    {
      "cell_type": "code",
      "source": [
        "print(\"Shape of X_train_imputed:\", X_train_imputed.shape)\n",
        "print(\"Shape of y_train:\", y_train.shape)\n"
      ],
      "metadata": {
        "colab": {
          "base_uri": "https://localhost:8080/"
        },
        "id": "jgoxAoK7-nBK",
        "outputId": "aee0f94b-9cdf-48f6-a61b-3ae1b2b6504d"
      },
      "execution_count": null,
      "outputs": [
        {
          "output_type": "stream",
          "name": "stdout",
          "text": [
            "Shape of X_train_imputed: (488, 14)\n",
            "Shape of y_train: (488,)\n"
          ]
        }
      ]
    },
    {
      "cell_type": "code",
      "source": [
        "X_train.reset_index(drop=True, inplace=True)\n",
        "y_train.reset_index(drop=True, inplace=True)\n",
        "\n",
        "#create a new DataFrame with imputed values\n",
        "X_train_imputed = pd.DataFrame(X_train_imputed, columns=X_train.columns)\n",
        "\n",
        "#reset the indices of X_train_imputed to match the new indices of X_train\n",
        "X_train_imputed.reset_index(drop=True, inplace=True)\n",
        "\n",
        "#sssign the values of y_train based on the common indices\n",
        "y_train = y_train.loc[X_train_imputed.index]\n"
      ],
      "metadata": {
        "id": "T1cDlKxg_gF8"
      },
      "execution_count": null,
      "outputs": []
    },
    {
      "cell_type": "markdown",
      "source": [
        "--------------------------------------------------------------"
      ],
      "metadata": {
        "id": "mxXw1J2KePzh"
      }
    },
    {
      "cell_type": "markdown",
      "source": [
        "### Model Evaluation"
      ],
      "metadata": {
        "id": "bDEMtnkzAich"
      }
    },
    {
      "cell_type": "code",
      "source": [
        "import pandas as pd\n",
        "from sklearn.metrics import accuracy_score\n",
        "\n",
        "#drop samples with missing target values from the test set\n",
        "X_test_clean = X_test.dropna()\n",
        "y_test_clean = y_test[X_test_clean.index]\n",
        "\n",
        "#make predictions on the cleaned test set\n",
        "y_pred = model.predict(X_test_clean)\n",
        "\n",
        "#calculate the accuracy score\n",
        "accuracy = accuracy_score(y_test_clean, y_pred)\n",
        "\n",
        "#print the accuracy score\n",
        "print(\"Accuracy:\", accuracy)\n"
      ],
      "metadata": {
        "colab": {
          "base_uri": "https://localhost:8080/"
        },
        "id": "1qRHUF5IDiNz",
        "outputId": "d92fb10f-aff0-471c-e93b-2fce9efbf057"
      },
      "execution_count": null,
      "outputs": [
        {
          "output_type": "stream",
          "name": "stdout",
          "text": [
            "Accuracy: 1.0\n"
          ]
        }
      ]
    },
    {
      "cell_type": "markdown",
      "source": [
        "--------------------------------------------------------------"
      ],
      "metadata": {
        "id": "Klg3adb5eWm4"
      }
    },
    {
      "cell_type": "markdown",
      "source": [
        "### Fine tune the model"
      ],
      "metadata": {
        "id": "YSJlyScwEF4p"
      }
    },
    {
      "cell_type": "code",
      "source": [
        "from sklearn.feature_selection import RFE\n",
        "from sklearn.ensemble import RandomForestClassifier\n",
        "\n",
        "#create the feature selector object\n",
        "estimator = RandomForestClassifier()  # Replace with your chosen estimator\n",
        "feature_selector = RFE(estimator)\n",
        "\n",
        "#set the desired number of features\n",
        "n_features_to_select = 5\n",
        "feature_selector.n_features_to_select = n_features_to_select\n",
        "\n",
        "#fit the feature selector on the training data\n",
        "feature_selector.fit(X_train_imputed, y_train)\n",
        "\n",
        "#get the selected feature indices and column names\n",
        "selected_feature_indices = feature_selector.support_\n",
        "selected_feature_names = X_train.columns[selected_feature_indices]\n",
        "\n",
        "#print the selected feature names\n",
        "print(\"Selected Features:\")\n",
        "for feature_name in selected_feature_names:\n",
        "    print(feature_name)\n"
      ],
      "metadata": {
        "colab": {
          "base_uri": "https://localhost:8080/"
        },
        "id": "TLG_skj9Usky",
        "outputId": "3674f65c-e400-437f-f08c-ef1244ba6de2"
      },
      "execution_count": null,
      "outputs": [
        {
          "output_type": "stream",
          "name": "stdout",
          "text": [
            "Selected Features:\n",
            "ALB\n",
            "ALP\n",
            "CHE\n",
            "CHOL\n",
            "GGT\n"
          ]
        }
      ]
    },
    {
      "cell_type": "code",
      "source": [
        "#separate the selected features and target variable\n",
        "X_selected = dataset[['ALB', 'ALP', 'CHE', 'CHOL', 'GGT']]\n",
        "y = dataset['Category']\n",
        "\n",
        "#handle missing values in the feature matrix and target variable\n",
        "data = pd.concat([X_selected, y], axis=1)\n",
        "data = data.dropna()\n",
        "\n",
        "#separate the updated features (X) and target variable (y)\n",
        "X_selected = data.drop('Category', axis=1)\n",
        "y = data['Category']\n",
        "\n",
        "#split the data into training and testing sets\n",
        "X_train, X_test, y_train, y_test = train_test_split(X_selected, y, test_size=0.2, random_state=42)\n",
        "param_grid = {\n",
        "    'n_estimators': [50, 100, 200],\n",
        "    'max_depth': [None, 5, 10],\n",
        "    'min_samples_split': [2, 5, 10],\n",
        "    'min_samples_leaf': [1, 2, 4]\n",
        "}\n",
        "model = RandomForestClassifier()\n",
        "grid_search = GridSearchCV(model, param_grid, cv=5)\n",
        "grid_search.fit(X_train, y_train)\n",
        "best_model = grid_search.best_estimator_\n",
        "best_params = grid_search.best_params_\n",
        "print(\"Best Parameters:\", best_params)\n",
        "y_pred = best_model.predict(X_test)\n",
        "accuracy = accuracy_score(y_test, y_pred)\n",
        "print(\"Accuracy:\", accuracy)"
      ],
      "metadata": {
        "colab": {
          "base_uri": "https://localhost:8080/"
        },
        "id": "QYX2hC7xWtoT",
        "outputId": "cfe75341-2c46-409f-e9b3-28bba85f132b"
      },
      "execution_count": null,
      "outputs": [
        {
          "output_type": "stream",
          "name": "stdout",
          "text": [
            "Best Parameters: {'max_depth': None, 'min_samples_leaf': 1, 'min_samples_split': 5, 'n_estimators': 50}\n",
            "Accuracy: 0.9016393442622951\n"
          ]
        }
      ]
    },
    {
      "cell_type": "markdown",
      "source": [
        "--------------------------------------------------------------"
      ],
      "metadata": {
        "id": "1FGU_DTfeocn"
      }
    },
    {
      "cell_type": "markdown",
      "source": [
        "### Make Predictions"
      ],
      "metadata": {
        "id": "UJzKrC9CYv-C"
      }
    },
    {
      "cell_type": "code",
      "source": [
        "#use the best model from grid search\n",
        "best_model = RandomForestClassifier(max_depth=None, min_samples_leaf=1, min_samples_split=5, n_estimators=50)\n",
        "\n",
        "#fit the best model on the training data\n",
        "best_model.fit(X_train, y_train)\n",
        "\n",
        "#make predictions on the test data\n",
        "y_pred = best_model.predict(X_test)\n",
        "\n",
        "#print the predicted values\n",
        "print(y_pred)"
      ],
      "metadata": {
        "colab": {
          "base_uri": "https://localhost:8080/"
        },
        "id": "4oG3GemjZAgU",
        "outputId": "9245c4a0-804a-4592-ac90-12e6b96ff27a"
      },
      "execution_count": null,
      "outputs": [
        {
          "output_type": "stream",
          "name": "stdout",
          "text": [
            "[0. 0. 0. 0. 0. 0. 0. 0. 0. 0. 0. 0. 0. 0. 0. 0. 0. 0. 0. 0. 0. 0. 0. 0.\n",
            " 0. 0. 0. 0. 0. 3. 0. 0. 0. 0. 0. 0. 0. 0. 0. 0. 0. 0. 0. 0. 0. 0. 0. 0.\n",
            " 0. 0. 0. 1. 0. 0. 1. 0. 0. 0. 0. 0. 3. 0. 0. 1. 0. 0. 0. 0. 0. 3. 1. 0.\n",
            " 0. 1. 0. 0. 0. 0. 0. 0. 0. 0. 0. 0. 3. 0. 0. 0. 0. 0. 0. 0. 0. 0. 0. 0.\n",
            " 0. 0. 0. 3. 0. 0. 0. 0. 0. 0. 0. 0. 0. 0. 0. 0. 0. 0. 0. 0. 0. 0. 0. 0.\n",
            " 2. 0.]\n"
          ]
        }
      ]
    },
    {
      "cell_type": "markdown",
      "source": [
        "--------------------------------------------------------------"
      ],
      "metadata": {
        "id": "M4fxHqorewjq"
      }
    },
    {
      "cell_type": "markdown",
      "source": [
        "### **Summarize my model's performance by evaluation metrices**"
      ],
      "metadata": {
        "id": "SiRz83rCZ2SS"
      }
    },
    {
      "cell_type": "code",
      "source": [
        "from sklearn.metrics import accuracy_score, precision_score, recall_score, f1_score\n",
        "\n",
        "#make predictions on the test data\n",
        "y_pred = best_model.predict(X_test)\n",
        "\n",
        "#to calculate accuracy\n",
        "accuracy = accuracy_score(y_test, y_pred)\n",
        "\n",
        "#to calculate precision\n",
        "precision = precision_score(y_test, y_pred, average='weighted')\n",
        "\n",
        "#to calculate recall\n",
        "recall = recall_score(y_test, y_pred, average='weighted')\n",
        "\n",
        "#to calculate F1-score\n",
        "f1 = f1_score(y_test, y_pred, average='weighted')\n",
        "\n",
        "#print the evaluation metrics\n",
        "print(\"Accuracy:\", accuracy)\n",
        "print(\"Precision:\", precision)\n",
        "print(\"Recall:\", recall)\n",
        "print(\"F1-score:\", f1)"
      ],
      "metadata": {
        "colab": {
          "base_uri": "https://localhost:8080/"
        },
        "id": "fh4Gd7rnbfc-",
        "outputId": "ef3b6192-7d26-4d31-e4c6-d2319c6dbb4c"
      },
      "execution_count": null,
      "outputs": [
        {
          "output_type": "stream",
          "name": "stdout",
          "text": [
            "Accuracy: 0.8852459016393442\n",
            "Precision: 0.8512479692807561\n",
            "Recall: 0.8852459016393442\n",
            "F1-score: 0.8675552714693939\n"
          ]
        }
      ]
    },
    {
      "cell_type": "markdown",
      "source": [
        "The **accuracy** of my model is **0.885**, indicating it correctly predicts the category for 88.5% of the samples.\n",
        "The **precision** score of **0.851** suggests that when the model predicts a positive category, it is correct around 85.1% of the time.\n",
        "The **recall** score of **0.885** indicates that the model can identify around 88.5% of the positive samples correctly.\n",
        "The **F1-score** of **0.868** indicates that my model achieved a good balance between precision and recall."
      ],
      "metadata": {
        "id": "T76sd1AAcS9s"
      }
    },
    {
      "cell_type": "markdown",
      "source": [
        "--------------------------------------------------------------"
      ],
      "metadata": {
        "id": "kNYKaW6Ke5SG"
      }
    }
  ]
}