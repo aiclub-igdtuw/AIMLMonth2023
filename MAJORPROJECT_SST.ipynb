{
  "nbformat": 4,
  "nbformat_minor": 0,
  "metadata": {
    "colab": {
      "provenance": [],
      "include_colab_link": true
    },
    "kernelspec": {
      "name": "python3",
      "display_name": "Python 3"
    },
    "language_info": {
      "name": "python"
    },
    "widgets": {
      "application/vnd.jupyter.widget-state+json": {
        "a4f276fd86da4933aa8da262bebea506": {
          "model_module": "@jupyter-widgets/controls",
          "model_name": "FileUploadModel",
          "model_module_version": "1.5.0",
          "state": {
            "_counter": 5,
            "_dom_classes": [],
            "_model_module": "@jupyter-widgets/controls",
            "_model_module_version": "1.5.0",
            "_model_name": "FileUploadModel",
            "_view_count": null,
            "_view_module": "@jupyter-widgets/controls",
            "_view_module_version": "1.5.0",
            "_view_name": "FileUploadView",
            "accept": ".jpg",
            "button_style": "",
            "data": [
              null,
              null,
              null,
              null,
              null
            ],
            "description": "Upload",
            "description_tooltip": null,
            "disabled": false,
            "error": "",
            "icon": "upload",
            "layout": "IPY_MODEL_f020ab6ffde54dc888e26ded5b5896cf",
            "metadata": [
              {
                "name": "stock9.jpg",
                "type": "image/jpeg",
                "size": 36214,
                "lastModified": 1694298273257
              },
              {
                "name": "stock4.jpg",
                "type": "image/jpeg",
                "size": 35495,
                "lastModified": 1694297227382
              },
              {
                "name": "stock3.jpg",
                "type": "image/jpeg",
                "size": 69922,
                "lastModified": 1694297216444
              },
              {
                "name": "stock2.jpg",
                "type": "image/jpeg",
                "size": 37483,
                "lastModified": 1694297196327
              },
              {
                "name": "stock.jpg",
                "type": "image/jpeg",
                "size": 56141,
                "lastModified": 1694297109377
              }
            ],
            "multiple": true,
            "style": "IPY_MODEL_5a3511a296d24b518318af70c0e62d17"
          }
        },
        "f020ab6ffde54dc888e26ded5b5896cf": {
          "model_module": "@jupyter-widgets/base",
          "model_name": "LayoutModel",
          "model_module_version": "1.2.0",
          "state": {
            "_model_module": "@jupyter-widgets/base",
            "_model_module_version": "1.2.0",
            "_model_name": "LayoutModel",
            "_view_count": null,
            "_view_module": "@jupyter-widgets/base",
            "_view_module_version": "1.2.0",
            "_view_name": "LayoutView",
            "align_content": null,
            "align_items": null,
            "align_self": null,
            "border": null,
            "bottom": null,
            "display": null,
            "flex": null,
            "flex_flow": null,
            "grid_area": null,
            "grid_auto_columns": null,
            "grid_auto_flow": null,
            "grid_auto_rows": null,
            "grid_column": null,
            "grid_gap": null,
            "grid_row": null,
            "grid_template_areas": null,
            "grid_template_columns": null,
            "grid_template_rows": null,
            "height": null,
            "justify_content": null,
            "justify_items": null,
            "left": null,
            "margin": null,
            "max_height": null,
            "max_width": null,
            "min_height": null,
            "min_width": null,
            "object_fit": null,
            "object_position": null,
            "order": null,
            "overflow": null,
            "overflow_x": null,
            "overflow_y": null,
            "padding": null,
            "right": null,
            "top": null,
            "visibility": null,
            "width": null
          }
        },
        "5a3511a296d24b518318af70c0e62d17": {
          "model_module": "@jupyter-widgets/controls",
          "model_name": "ButtonStyleModel",
          "model_module_version": "1.5.0",
          "state": {
            "_model_module": "@jupyter-widgets/controls",
            "_model_module_version": "1.5.0",
            "_model_name": "ButtonStyleModel",
            "_view_count": null,
            "_view_module": "@jupyter-widgets/base",
            "_view_module_version": "1.2.0",
            "_view_name": "StyleView",
            "button_color": null,
            "font_weight": ""
          }
        }
      }
    }
  },
  "cells": [
    {
      "cell_type": "markdown",
      "metadata": {
        "id": "view-in-github",
        "colab_type": "text"
      },
      "source": [
        "<a href=\"https://colab.research.google.com/github/samridhi2004/AIMLMonth2023/blob/main/MAJORPROJECT_SST.ipynb\" target=\"_parent\"><img src=\"https://colab.research.google.com/assets/colab-badge.svg\" alt=\"Open In Colab\"/></a>"
      ]
    },
    {
      "cell_type": "code",
      "execution_count": null,
      "metadata": {
        "colab": {
          "base_uri": "https://localhost:8080/",
          "height": 73
        },
        "id": "w4XKvTgi8PL3",
        "outputId": "9c48dccd-1fef-482e-a7d9-928f2de18233"
      },
      "outputs": [
        {
          "output_type": "display_data",
          "data": {
            "text/plain": [
              "<IPython.core.display.HTML object>"
            ],
            "text/html": [
              "\n",
              "     <input type=\"file\" id=\"files-03069e1b-0970-434b-8e1f-678f491274f6\" name=\"files[]\" multiple disabled\n",
              "        style=\"border:none\" />\n",
              "     <output id=\"result-03069e1b-0970-434b-8e1f-678f491274f6\">\n",
              "      Upload widget is only available when the cell has been executed in the\n",
              "      current browser session. Please rerun this cell to enable.\n",
              "      </output>\n",
              "      <script>// Copyright 2017 Google LLC\n",
              "//\n",
              "// Licensed under the Apache License, Version 2.0 (the \"License\");\n",
              "// you may not use this file except in compliance with the License.\n",
              "// You may obtain a copy of the License at\n",
              "//\n",
              "//      http://www.apache.org/licenses/LICENSE-2.0\n",
              "//\n",
              "// Unless required by applicable law or agreed to in writing, software\n",
              "// distributed under the License is distributed on an \"AS IS\" BASIS,\n",
              "// WITHOUT WARRANTIES OR CONDITIONS OF ANY KIND, either express or implied.\n",
              "// See the License for the specific language governing permissions and\n",
              "// limitations under the License.\n",
              "\n",
              "/**\n",
              " * @fileoverview Helpers for google.colab Python module.\n",
              " */\n",
              "(function(scope) {\n",
              "function span(text, styleAttributes = {}) {\n",
              "  const element = document.createElement('span');\n",
              "  element.textContent = text;\n",
              "  for (const key of Object.keys(styleAttributes)) {\n",
              "    element.style[key] = styleAttributes[key];\n",
              "  }\n",
              "  return element;\n",
              "}\n",
              "\n",
              "// Max number of bytes which will be uploaded at a time.\n",
              "const MAX_PAYLOAD_SIZE = 100 * 1024;\n",
              "\n",
              "function _uploadFiles(inputId, outputId) {\n",
              "  const steps = uploadFilesStep(inputId, outputId);\n",
              "  const outputElement = document.getElementById(outputId);\n",
              "  // Cache steps on the outputElement to make it available for the next call\n",
              "  // to uploadFilesContinue from Python.\n",
              "  outputElement.steps = steps;\n",
              "\n",
              "  return _uploadFilesContinue(outputId);\n",
              "}\n",
              "\n",
              "// This is roughly an async generator (not supported in the browser yet),\n",
              "// where there are multiple asynchronous steps and the Python side is going\n",
              "// to poll for completion of each step.\n",
              "// This uses a Promise to block the python side on completion of each step,\n",
              "// then passes the result of the previous step as the input to the next step.\n",
              "function _uploadFilesContinue(outputId) {\n",
              "  const outputElement = document.getElementById(outputId);\n",
              "  const steps = outputElement.steps;\n",
              "\n",
              "  const next = steps.next(outputElement.lastPromiseValue);\n",
              "  return Promise.resolve(next.value.promise).then((value) => {\n",
              "    // Cache the last promise value to make it available to the next\n",
              "    // step of the generator.\n",
              "    outputElement.lastPromiseValue = value;\n",
              "    return next.value.response;\n",
              "  });\n",
              "}\n",
              "\n",
              "/**\n",
              " * Generator function which is called between each async step of the upload\n",
              " * process.\n",
              " * @param {string} inputId Element ID of the input file picker element.\n",
              " * @param {string} outputId Element ID of the output display.\n",
              " * @return {!Iterable<!Object>} Iterable of next steps.\n",
              " */\n",
              "function* uploadFilesStep(inputId, outputId) {\n",
              "  const inputElement = document.getElementById(inputId);\n",
              "  inputElement.disabled = false;\n",
              "\n",
              "  const outputElement = document.getElementById(outputId);\n",
              "  outputElement.innerHTML = '';\n",
              "\n",
              "  const pickedPromise = new Promise((resolve) => {\n",
              "    inputElement.addEventListener('change', (e) => {\n",
              "      resolve(e.target.files);\n",
              "    });\n",
              "  });\n",
              "\n",
              "  const cancel = document.createElement('button');\n",
              "  inputElement.parentElement.appendChild(cancel);\n",
              "  cancel.textContent = 'Cancel upload';\n",
              "  const cancelPromise = new Promise((resolve) => {\n",
              "    cancel.onclick = () => {\n",
              "      resolve(null);\n",
              "    };\n",
              "  });\n",
              "\n",
              "  // Wait for the user to pick the files.\n",
              "  const files = yield {\n",
              "    promise: Promise.race([pickedPromise, cancelPromise]),\n",
              "    response: {\n",
              "      action: 'starting',\n",
              "    }\n",
              "  };\n",
              "\n",
              "  cancel.remove();\n",
              "\n",
              "  // Disable the input element since further picks are not allowed.\n",
              "  inputElement.disabled = true;\n",
              "\n",
              "  if (!files) {\n",
              "    return {\n",
              "      response: {\n",
              "        action: 'complete',\n",
              "      }\n",
              "    };\n",
              "  }\n",
              "\n",
              "  for (const file of files) {\n",
              "    const li = document.createElement('li');\n",
              "    li.append(span(file.name, {fontWeight: 'bold'}));\n",
              "    li.append(span(\n",
              "        `(${file.type || 'n/a'}) - ${file.size} bytes, ` +\n",
              "        `last modified: ${\n",
              "            file.lastModifiedDate ? file.lastModifiedDate.toLocaleDateString() :\n",
              "                                    'n/a'} - `));\n",
              "    const percent = span('0% done');\n",
              "    li.appendChild(percent);\n",
              "\n",
              "    outputElement.appendChild(li);\n",
              "\n",
              "    const fileDataPromise = new Promise((resolve) => {\n",
              "      const reader = new FileReader();\n",
              "      reader.onload = (e) => {\n",
              "        resolve(e.target.result);\n",
              "      };\n",
              "      reader.readAsArrayBuffer(file);\n",
              "    });\n",
              "    // Wait for the data to be ready.\n",
              "    let fileData = yield {\n",
              "      promise: fileDataPromise,\n",
              "      response: {\n",
              "        action: 'continue',\n",
              "      }\n",
              "    };\n",
              "\n",
              "    // Use a chunked sending to avoid message size limits. See b/62115660.\n",
              "    let position = 0;\n",
              "    do {\n",
              "      const length = Math.min(fileData.byteLength - position, MAX_PAYLOAD_SIZE);\n",
              "      const chunk = new Uint8Array(fileData, position, length);\n",
              "      position += length;\n",
              "\n",
              "      const base64 = btoa(String.fromCharCode.apply(null, chunk));\n",
              "      yield {\n",
              "        response: {\n",
              "          action: 'append',\n",
              "          file: file.name,\n",
              "          data: base64,\n",
              "        },\n",
              "      };\n",
              "\n",
              "      let percentDone = fileData.byteLength === 0 ?\n",
              "          100 :\n",
              "          Math.round((position / fileData.byteLength) * 100);\n",
              "      percent.textContent = `${percentDone}% done`;\n",
              "\n",
              "    } while (position < fileData.byteLength);\n",
              "  }\n",
              "\n",
              "  // All done.\n",
              "  yield {\n",
              "    response: {\n",
              "      action: 'complete',\n",
              "    }\n",
              "  };\n",
              "}\n",
              "\n",
              "scope.google = scope.google || {};\n",
              "scope.google.colab = scope.google.colab || {};\n",
              "scope.google.colab._files = {\n",
              "  _uploadFiles,\n",
              "  _uploadFilesContinue,\n",
              "};\n",
              "})(self);\n",
              "</script> "
            ]
          },
          "metadata": {}
        },
        {
          "output_type": "stream",
          "name": "stdout",
          "text": [
            "Saving dataset.csv to dataset (1).csv\n"
          ]
        }
      ],
      "source": [
        "from google.colab import files\n",
        "uploaded = files.upload()\n"
      ]
    },
    {
      "cell_type": "code",
      "source": [],
      "metadata": {
        "id": "JYSuIyMZ31ad"
      },
      "execution_count": null,
      "outputs": []
    },
    {
      "cell_type": "code",
      "source": [],
      "metadata": {
        "id": "9qYgX3WweNtH"
      },
      "execution_count": null,
      "outputs": []
    },
    {
      "cell_type": "code",
      "source": [
        "from google.colab import files\n",
        "uploaded = files.upload()\n",
        "\n"
      ],
      "metadata": {
        "colab": {
          "base_uri": "https://localhost:8080/",
          "height": 73
        },
        "id": "3_sqGWUwNblE",
        "outputId": "126ab5e3-ce05-4ed1-e646-c7c0576b89c9"
      },
      "execution_count": null,
      "outputs": [
        {
          "output_type": "display_data",
          "data": {
            "text/plain": [
              "<IPython.core.display.HTML object>"
            ],
            "text/html": [
              "\n",
              "     <input type=\"file\" id=\"files-3de4bdf8-387d-44f5-86a2-1be69560db7d\" name=\"files[]\" multiple disabled\n",
              "        style=\"border:none\" />\n",
              "     <output id=\"result-3de4bdf8-387d-44f5-86a2-1be69560db7d\">\n",
              "      Upload widget is only available when the cell has been executed in the\n",
              "      current browser session. Please rerun this cell to enable.\n",
              "      </output>\n",
              "      <script>// Copyright 2017 Google LLC\n",
              "//\n",
              "// Licensed under the Apache License, Version 2.0 (the \"License\");\n",
              "// you may not use this file except in compliance with the License.\n",
              "// You may obtain a copy of the License at\n",
              "//\n",
              "//      http://www.apache.org/licenses/LICENSE-2.0\n",
              "//\n",
              "// Unless required by applicable law or agreed to in writing, software\n",
              "// distributed under the License is distributed on an \"AS IS\" BASIS,\n",
              "// WITHOUT WARRANTIES OR CONDITIONS OF ANY KIND, either express or implied.\n",
              "// See the License for the specific language governing permissions and\n",
              "// limitations under the License.\n",
              "\n",
              "/**\n",
              " * @fileoverview Helpers for google.colab Python module.\n",
              " */\n",
              "(function(scope) {\n",
              "function span(text, styleAttributes = {}) {\n",
              "  const element = document.createElement('span');\n",
              "  element.textContent = text;\n",
              "  for (const key of Object.keys(styleAttributes)) {\n",
              "    element.style[key] = styleAttributes[key];\n",
              "  }\n",
              "  return element;\n",
              "}\n",
              "\n",
              "// Max number of bytes which will be uploaded at a time.\n",
              "const MAX_PAYLOAD_SIZE = 100 * 1024;\n",
              "\n",
              "function _uploadFiles(inputId, outputId) {\n",
              "  const steps = uploadFilesStep(inputId, outputId);\n",
              "  const outputElement = document.getElementById(outputId);\n",
              "  // Cache steps on the outputElement to make it available for the next call\n",
              "  // to uploadFilesContinue from Python.\n",
              "  outputElement.steps = steps;\n",
              "\n",
              "  return _uploadFilesContinue(outputId);\n",
              "}\n",
              "\n",
              "// This is roughly an async generator (not supported in the browser yet),\n",
              "// where there are multiple asynchronous steps and the Python side is going\n",
              "// to poll for completion of each step.\n",
              "// This uses a Promise to block the python side on completion of each step,\n",
              "// then passes the result of the previous step as the input to the next step.\n",
              "function _uploadFilesContinue(outputId) {\n",
              "  const outputElement = document.getElementById(outputId);\n",
              "  const steps = outputElement.steps;\n",
              "\n",
              "  const next = steps.next(outputElement.lastPromiseValue);\n",
              "  return Promise.resolve(next.value.promise).then((value) => {\n",
              "    // Cache the last promise value to make it available to the next\n",
              "    // step of the generator.\n",
              "    outputElement.lastPromiseValue = value;\n",
              "    return next.value.response;\n",
              "  });\n",
              "}\n",
              "\n",
              "/**\n",
              " * Generator function which is called between each async step of the upload\n",
              " * process.\n",
              " * @param {string} inputId Element ID of the input file picker element.\n",
              " * @param {string} outputId Element ID of the output display.\n",
              " * @return {!Iterable<!Object>} Iterable of next steps.\n",
              " */\n",
              "function* uploadFilesStep(inputId, outputId) {\n",
              "  const inputElement = document.getElementById(inputId);\n",
              "  inputElement.disabled = false;\n",
              "\n",
              "  const outputElement = document.getElementById(outputId);\n",
              "  outputElement.innerHTML = '';\n",
              "\n",
              "  const pickedPromise = new Promise((resolve) => {\n",
              "    inputElement.addEventListener('change', (e) => {\n",
              "      resolve(e.target.files);\n",
              "    });\n",
              "  });\n",
              "\n",
              "  const cancel = document.createElement('button');\n",
              "  inputElement.parentElement.appendChild(cancel);\n",
              "  cancel.textContent = 'Cancel upload';\n",
              "  const cancelPromise = new Promise((resolve) => {\n",
              "    cancel.onclick = () => {\n",
              "      resolve(null);\n",
              "    };\n",
              "  });\n",
              "\n",
              "  // Wait for the user to pick the files.\n",
              "  const files = yield {\n",
              "    promise: Promise.race([pickedPromise, cancelPromise]),\n",
              "    response: {\n",
              "      action: 'starting',\n",
              "    }\n",
              "  };\n",
              "\n",
              "  cancel.remove();\n",
              "\n",
              "  // Disable the input element since further picks are not allowed.\n",
              "  inputElement.disabled = true;\n",
              "\n",
              "  if (!files) {\n",
              "    return {\n",
              "      response: {\n",
              "        action: 'complete',\n",
              "      }\n",
              "    };\n",
              "  }\n",
              "\n",
              "  for (const file of files) {\n",
              "    const li = document.createElement('li');\n",
              "    li.append(span(file.name, {fontWeight: 'bold'}));\n",
              "    li.append(span(\n",
              "        `(${file.type || 'n/a'}) - ${file.size} bytes, ` +\n",
              "        `last modified: ${\n",
              "            file.lastModifiedDate ? file.lastModifiedDate.toLocaleDateString() :\n",
              "                                    'n/a'} - `));\n",
              "    const percent = span('0% done');\n",
              "    li.appendChild(percent);\n",
              "\n",
              "    outputElement.appendChild(li);\n",
              "\n",
              "    const fileDataPromise = new Promise((resolve) => {\n",
              "      const reader = new FileReader();\n",
              "      reader.onload = (e) => {\n",
              "        resolve(e.target.result);\n",
              "      };\n",
              "      reader.readAsArrayBuffer(file);\n",
              "    });\n",
              "    // Wait for the data to be ready.\n",
              "    let fileData = yield {\n",
              "      promise: fileDataPromise,\n",
              "      response: {\n",
              "        action: 'continue',\n",
              "      }\n",
              "    };\n",
              "\n",
              "    // Use a chunked sending to avoid message size limits. See b/62115660.\n",
              "    let position = 0;\n",
              "    do {\n",
              "      const length = Math.min(fileData.byteLength - position, MAX_PAYLOAD_SIZE);\n",
              "      const chunk = new Uint8Array(fileData, position, length);\n",
              "      position += length;\n",
              "\n",
              "      const base64 = btoa(String.fromCharCode.apply(null, chunk));\n",
              "      yield {\n",
              "        response: {\n",
              "          action: 'append',\n",
              "          file: file.name,\n",
              "          data: base64,\n",
              "        },\n",
              "      };\n",
              "\n",
              "      let percentDone = fileData.byteLength === 0 ?\n",
              "          100 :\n",
              "          Math.round((position / fileData.byteLength) * 100);\n",
              "      percent.textContent = `${percentDone}% done`;\n",
              "\n",
              "    } while (position < fileData.byteLength);\n",
              "  }\n",
              "\n",
              "  // All done.\n",
              "  yield {\n",
              "    response: {\n",
              "      action: 'complete',\n",
              "    }\n",
              "  };\n",
              "}\n",
              "\n",
              "scope.google = scope.google || {};\n",
              "scope.google.colab = scope.google.colab || {};\n",
              "scope.google.colab._files = {\n",
              "  _uploadFiles,\n",
              "  _uploadFilesContinue,\n",
              "};\n",
              "})(self);\n",
              "</script> "
            ]
          },
          "metadata": {}
        },
        {
          "output_type": "stream",
          "name": "stdout",
          "text": [
            "Saving PyAudio-0.2.11-cp310-cp310-win_amd64.whl to PyAudio-0.2.11-cp310-cp310-win_amd64.whl\n"
          ]
        }
      ]
    },
    {
      "cell_type": "code",
      "source": [
        "from google.colab import files\n",
        "uploaded = files.upload()\n"
      ],
      "metadata": {
        "colab": {
          "base_uri": "https://localhost:8080/",
          "height": 73
        },
        "id": "iyeN6bUZ-I4d",
        "outputId": "9f490e25-8099-4672-b7fd-85df259b0bb9"
      },
      "execution_count": null,
      "outputs": [
        {
          "output_type": "display_data",
          "data": {
            "text/plain": [
              "<IPython.core.display.HTML object>"
            ],
            "text/html": [
              "\n",
              "     <input type=\"file\" id=\"files-968fc027-3768-4032-bdaf-fe2b1fc94092\" name=\"files[]\" multiple disabled\n",
              "        style=\"border:none\" />\n",
              "     <output id=\"result-968fc027-3768-4032-bdaf-fe2b1fc94092\">\n",
              "      Upload widget is only available when the cell has been executed in the\n",
              "      current browser session. Please rerun this cell to enable.\n",
              "      </output>\n",
              "      <script>// Copyright 2017 Google LLC\n",
              "//\n",
              "// Licensed under the Apache License, Version 2.0 (the \"License\");\n",
              "// you may not use this file except in compliance with the License.\n",
              "// You may obtain a copy of the License at\n",
              "//\n",
              "//      http://www.apache.org/licenses/LICENSE-2.0\n",
              "//\n",
              "// Unless required by applicable law or agreed to in writing, software\n",
              "// distributed under the License is distributed on an \"AS IS\" BASIS,\n",
              "// WITHOUT WARRANTIES OR CONDITIONS OF ANY KIND, either express or implied.\n",
              "// See the License for the specific language governing permissions and\n",
              "// limitations under the License.\n",
              "\n",
              "/**\n",
              " * @fileoverview Helpers for google.colab Python module.\n",
              " */\n",
              "(function(scope) {\n",
              "function span(text, styleAttributes = {}) {\n",
              "  const element = document.createElement('span');\n",
              "  element.textContent = text;\n",
              "  for (const key of Object.keys(styleAttributes)) {\n",
              "    element.style[key] = styleAttributes[key];\n",
              "  }\n",
              "  return element;\n",
              "}\n",
              "\n",
              "// Max number of bytes which will be uploaded at a time.\n",
              "const MAX_PAYLOAD_SIZE = 100 * 1024;\n",
              "\n",
              "function _uploadFiles(inputId, outputId) {\n",
              "  const steps = uploadFilesStep(inputId, outputId);\n",
              "  const outputElement = document.getElementById(outputId);\n",
              "  // Cache steps on the outputElement to make it available for the next call\n",
              "  // to uploadFilesContinue from Python.\n",
              "  outputElement.steps = steps;\n",
              "\n",
              "  return _uploadFilesContinue(outputId);\n",
              "}\n",
              "\n",
              "// This is roughly an async generator (not supported in the browser yet),\n",
              "// where there are multiple asynchronous steps and the Python side is going\n",
              "// to poll for completion of each step.\n",
              "// This uses a Promise to block the python side on completion of each step,\n",
              "// then passes the result of the previous step as the input to the next step.\n",
              "function _uploadFilesContinue(outputId) {\n",
              "  const outputElement = document.getElementById(outputId);\n",
              "  const steps = outputElement.steps;\n",
              "\n",
              "  const next = steps.next(outputElement.lastPromiseValue);\n",
              "  return Promise.resolve(next.value.promise).then((value) => {\n",
              "    // Cache the last promise value to make it available to the next\n",
              "    // step of the generator.\n",
              "    outputElement.lastPromiseValue = value;\n",
              "    return next.value.response;\n",
              "  });\n",
              "}\n",
              "\n",
              "/**\n",
              " * Generator function which is called between each async step of the upload\n",
              " * process.\n",
              " * @param {string} inputId Element ID of the input file picker element.\n",
              " * @param {string} outputId Element ID of the output display.\n",
              " * @return {!Iterable<!Object>} Iterable of next steps.\n",
              " */\n",
              "function* uploadFilesStep(inputId, outputId) {\n",
              "  const inputElement = document.getElementById(inputId);\n",
              "  inputElement.disabled = false;\n",
              "\n",
              "  const outputElement = document.getElementById(outputId);\n",
              "  outputElement.innerHTML = '';\n",
              "\n",
              "  const pickedPromise = new Promise((resolve) => {\n",
              "    inputElement.addEventListener('change', (e) => {\n",
              "      resolve(e.target.files);\n",
              "    });\n",
              "  });\n",
              "\n",
              "  const cancel = document.createElement('button');\n",
              "  inputElement.parentElement.appendChild(cancel);\n",
              "  cancel.textContent = 'Cancel upload';\n",
              "  const cancelPromise = new Promise((resolve) => {\n",
              "    cancel.onclick = () => {\n",
              "      resolve(null);\n",
              "    };\n",
              "  });\n",
              "\n",
              "  // Wait for the user to pick the files.\n",
              "  const files = yield {\n",
              "    promise: Promise.race([pickedPromise, cancelPromise]),\n",
              "    response: {\n",
              "      action: 'starting',\n",
              "    }\n",
              "  };\n",
              "\n",
              "  cancel.remove();\n",
              "\n",
              "  // Disable the input element since further picks are not allowed.\n",
              "  inputElement.disabled = true;\n",
              "\n",
              "  if (!files) {\n",
              "    return {\n",
              "      response: {\n",
              "        action: 'complete',\n",
              "      }\n",
              "    };\n",
              "  }\n",
              "\n",
              "  for (const file of files) {\n",
              "    const li = document.createElement('li');\n",
              "    li.append(span(file.name, {fontWeight: 'bold'}));\n",
              "    li.append(span(\n",
              "        `(${file.type || 'n/a'}) - ${file.size} bytes, ` +\n",
              "        `last modified: ${\n",
              "            file.lastModifiedDate ? file.lastModifiedDate.toLocaleDateString() :\n",
              "                                    'n/a'} - `));\n",
              "    const percent = span('0% done');\n",
              "    li.appendChild(percent);\n",
              "\n",
              "    outputElement.appendChild(li);\n",
              "\n",
              "    const fileDataPromise = new Promise((resolve) => {\n",
              "      const reader = new FileReader();\n",
              "      reader.onload = (e) => {\n",
              "        resolve(e.target.result);\n",
              "      };\n",
              "      reader.readAsArrayBuffer(file);\n",
              "    });\n",
              "    // Wait for the data to be ready.\n",
              "    let fileData = yield {\n",
              "      promise: fileDataPromise,\n",
              "      response: {\n",
              "        action: 'continue',\n",
              "      }\n",
              "    };\n",
              "\n",
              "    // Use a chunked sending to avoid message size limits. See b/62115660.\n",
              "    let position = 0;\n",
              "    do {\n",
              "      const length = Math.min(fileData.byteLength - position, MAX_PAYLOAD_SIZE);\n",
              "      const chunk = new Uint8Array(fileData, position, length);\n",
              "      position += length;\n",
              "\n",
              "      const base64 = btoa(String.fromCharCode.apply(null, chunk));\n",
              "      yield {\n",
              "        response: {\n",
              "          action: 'append',\n",
              "          file: file.name,\n",
              "          data: base64,\n",
              "        },\n",
              "      };\n",
              "\n",
              "      let percentDone = fileData.byteLength === 0 ?\n",
              "          100 :\n",
              "          Math.round((position / fileData.byteLength) * 100);\n",
              "      percent.textContent = `${percentDone}% done`;\n",
              "\n",
              "    } while (position < fileData.byteLength);\n",
              "  }\n",
              "\n",
              "  // All done.\n",
              "  yield {\n",
              "    response: {\n",
              "      action: 'complete',\n",
              "    }\n",
              "  };\n",
              "}\n",
              "\n",
              "scope.google = scope.google || {};\n",
              "scope.google.colab = scope.google.colab || {};\n",
              "scope.google.colab._files = {\n",
              "  _uploadFiles,\n",
              "  _uploadFilesContinue,\n",
              "};\n",
              "})(self);\n",
              "</script> "
            ]
          },
          "metadata": {}
        },
        {
          "output_type": "stream",
          "name": "stdout",
          "text": [
            "Saving stock.jpg to stock.jpg\n"
          ]
        }
      ]
    },
    {
      "cell_type": "code",
      "source": [
        "from google.colab import files\n",
        "uploaded = files.upload()\n"
      ],
      "metadata": {
        "colab": {
          "base_uri": "https://localhost:8080/",
          "height": 73
        },
        "id": "lNJFyXVGOzB7",
        "outputId": "6acfbde6-f537-4aaf-e9ed-80a82582df50"
      },
      "execution_count": null,
      "outputs": [
        {
          "output_type": "display_data",
          "data": {
            "text/plain": [
              "<IPython.core.display.HTML object>"
            ],
            "text/html": [
              "\n",
              "     <input type=\"file\" id=\"files-f6ad13b0-fa2c-4b20-b009-f9d5cffc1968\" name=\"files[]\" multiple disabled\n",
              "        style=\"border:none\" />\n",
              "     <output id=\"result-f6ad13b0-fa2c-4b20-b009-f9d5cffc1968\">\n",
              "      Upload widget is only available when the cell has been executed in the\n",
              "      current browser session. Please rerun this cell to enable.\n",
              "      </output>\n",
              "      <script>// Copyright 2017 Google LLC\n",
              "//\n",
              "// Licensed under the Apache License, Version 2.0 (the \"License\");\n",
              "// you may not use this file except in compliance with the License.\n",
              "// You may obtain a copy of the License at\n",
              "//\n",
              "//      http://www.apache.org/licenses/LICENSE-2.0\n",
              "//\n",
              "// Unless required by applicable law or agreed to in writing, software\n",
              "// distributed under the License is distributed on an \"AS IS\" BASIS,\n",
              "// WITHOUT WARRANTIES OR CONDITIONS OF ANY KIND, either express or implied.\n",
              "// See the License for the specific language governing permissions and\n",
              "// limitations under the License.\n",
              "\n",
              "/**\n",
              " * @fileoverview Helpers for google.colab Python module.\n",
              " */\n",
              "(function(scope) {\n",
              "function span(text, styleAttributes = {}) {\n",
              "  const element = document.createElement('span');\n",
              "  element.textContent = text;\n",
              "  for (const key of Object.keys(styleAttributes)) {\n",
              "    element.style[key] = styleAttributes[key];\n",
              "  }\n",
              "  return element;\n",
              "}\n",
              "\n",
              "// Max number of bytes which will be uploaded at a time.\n",
              "const MAX_PAYLOAD_SIZE = 100 * 1024;\n",
              "\n",
              "function _uploadFiles(inputId, outputId) {\n",
              "  const steps = uploadFilesStep(inputId, outputId);\n",
              "  const outputElement = document.getElementById(outputId);\n",
              "  // Cache steps on the outputElement to make it available for the next call\n",
              "  // to uploadFilesContinue from Python.\n",
              "  outputElement.steps = steps;\n",
              "\n",
              "  return _uploadFilesContinue(outputId);\n",
              "}\n",
              "\n",
              "// This is roughly an async generator (not supported in the browser yet),\n",
              "// where there are multiple asynchronous steps and the Python side is going\n",
              "// to poll for completion of each step.\n",
              "// This uses a Promise to block the python side on completion of each step,\n",
              "// then passes the result of the previous step as the input to the next step.\n",
              "function _uploadFilesContinue(outputId) {\n",
              "  const outputElement = document.getElementById(outputId);\n",
              "  const steps = outputElement.steps;\n",
              "\n",
              "  const next = steps.next(outputElement.lastPromiseValue);\n",
              "  return Promise.resolve(next.value.promise).then((value) => {\n",
              "    // Cache the last promise value to make it available to the next\n",
              "    // step of the generator.\n",
              "    outputElement.lastPromiseValue = value;\n",
              "    return next.value.response;\n",
              "  });\n",
              "}\n",
              "\n",
              "/**\n",
              " * Generator function which is called between each async step of the upload\n",
              " * process.\n",
              " * @param {string} inputId Element ID of the input file picker element.\n",
              " * @param {string} outputId Element ID of the output display.\n",
              " * @return {!Iterable<!Object>} Iterable of next steps.\n",
              " */\n",
              "function* uploadFilesStep(inputId, outputId) {\n",
              "  const inputElement = document.getElementById(inputId);\n",
              "  inputElement.disabled = false;\n",
              "\n",
              "  const outputElement = document.getElementById(outputId);\n",
              "  outputElement.innerHTML = '';\n",
              "\n",
              "  const pickedPromise = new Promise((resolve) => {\n",
              "    inputElement.addEventListener('change', (e) => {\n",
              "      resolve(e.target.files);\n",
              "    });\n",
              "  });\n",
              "\n",
              "  const cancel = document.createElement('button');\n",
              "  inputElement.parentElement.appendChild(cancel);\n",
              "  cancel.textContent = 'Cancel upload';\n",
              "  const cancelPromise = new Promise((resolve) => {\n",
              "    cancel.onclick = () => {\n",
              "      resolve(null);\n",
              "    };\n",
              "  });\n",
              "\n",
              "  // Wait for the user to pick the files.\n",
              "  const files = yield {\n",
              "    promise: Promise.race([pickedPromise, cancelPromise]),\n",
              "    response: {\n",
              "      action: 'starting',\n",
              "    }\n",
              "  };\n",
              "\n",
              "  cancel.remove();\n",
              "\n",
              "  // Disable the input element since further picks are not allowed.\n",
              "  inputElement.disabled = true;\n",
              "\n",
              "  if (!files) {\n",
              "    return {\n",
              "      response: {\n",
              "        action: 'complete',\n",
              "      }\n",
              "    };\n",
              "  }\n",
              "\n",
              "  for (const file of files) {\n",
              "    const li = document.createElement('li');\n",
              "    li.append(span(file.name, {fontWeight: 'bold'}));\n",
              "    li.append(span(\n",
              "        `(${file.type || 'n/a'}) - ${file.size} bytes, ` +\n",
              "        `last modified: ${\n",
              "            file.lastModifiedDate ? file.lastModifiedDate.toLocaleDateString() :\n",
              "                                    'n/a'} - `));\n",
              "    const percent = span('0% done');\n",
              "    li.appendChild(percent);\n",
              "\n",
              "    outputElement.appendChild(li);\n",
              "\n",
              "    const fileDataPromise = new Promise((resolve) => {\n",
              "      const reader = new FileReader();\n",
              "      reader.onload = (e) => {\n",
              "        resolve(e.target.result);\n",
              "      };\n",
              "      reader.readAsArrayBuffer(file);\n",
              "    });\n",
              "    // Wait for the data to be ready.\n",
              "    let fileData = yield {\n",
              "      promise: fileDataPromise,\n",
              "      response: {\n",
              "        action: 'continue',\n",
              "      }\n",
              "    };\n",
              "\n",
              "    // Use a chunked sending to avoid message size limits. See b/62115660.\n",
              "    let position = 0;\n",
              "    do {\n",
              "      const length = Math.min(fileData.byteLength - position, MAX_PAYLOAD_SIZE);\n",
              "      const chunk = new Uint8Array(fileData, position, length);\n",
              "      position += length;\n",
              "\n",
              "      const base64 = btoa(String.fromCharCode.apply(null, chunk));\n",
              "      yield {\n",
              "        response: {\n",
              "          action: 'append',\n",
              "          file: file.name,\n",
              "          data: base64,\n",
              "        },\n",
              "      };\n",
              "\n",
              "      let percentDone = fileData.byteLength === 0 ?\n",
              "          100 :\n",
              "          Math.round((position / fileData.byteLength) * 100);\n",
              "      percent.textContent = `${percentDone}% done`;\n",
              "\n",
              "    } while (position < fileData.byteLength);\n",
              "  }\n",
              "\n",
              "  // All done.\n",
              "  yield {\n",
              "    response: {\n",
              "      action: 'complete',\n",
              "    }\n",
              "  };\n",
              "}\n",
              "\n",
              "scope.google = scope.google || {};\n",
              "scope.google.colab = scope.google.colab || {};\n",
              "scope.google.colab._files = {\n",
              "  _uploadFiles,\n",
              "  _uploadFilesContinue,\n",
              "};\n",
              "})(self);\n",
              "</script> "
            ]
          },
          "metadata": {}
        },
        {
          "output_type": "stream",
          "name": "stdout",
          "text": [
            "Saving dataset.csv to dataset.csv\n"
          ]
        }
      ]
    },
    {
      "cell_type": "code",
      "source": [
        "!python -m pip install --upgrade pip"
      ],
      "metadata": {
        "colab": {
          "base_uri": "https://localhost:8080/"
        },
        "id": "qKhZQwGTSceX",
        "outputId": "9b99545c-063f-4748-9a4a-c55433f3fb96"
      },
      "execution_count": null,
      "outputs": [
        {
          "output_type": "stream",
          "name": "stdout",
          "text": [
            "Requirement already satisfied: pip in /usr/local/lib/python3.10/dist-packages (23.1.2)\n",
            "Collecting pip\n",
            "  Downloading pip-23.2.1-py3-none-any.whl (2.1 MB)\n",
            "\u001b[2K     \u001b[90m━━━━━━━━━━━━━━━━━━━━━━━━━━━━━━━━━━━━━━━━\u001b[0m \u001b[32m2.1/2.1 MB\u001b[0m \u001b[31m10.0 MB/s\u001b[0m eta \u001b[36m0:00:00\u001b[0m\n",
            "\u001b[?25hInstalling collected packages: pip\n",
            "  Attempting uninstall: pip\n",
            "    Found existing installation: pip 23.1.2\n",
            "    Uninstalling pip-23.1.2:\n",
            "      Successfully uninstalled pip-23.1.2\n",
            "Successfully installed pip-23.2.1\n"
          ]
        }
      ]
    },
    {
      "cell_type": "code",
      "source": [
        "!pip install ipywidgets\n"
      ],
      "metadata": {
        "colab": {
          "base_uri": "https://localhost:8080/"
        },
        "id": "ou8ndjZc58k0",
        "outputId": "2e30b978-62ec-4ff2-cc28-31a1b4bf33a7"
      },
      "execution_count": null,
      "outputs": [
        {
          "output_type": "stream",
          "name": "stdout",
          "text": [
            "Requirement already satisfied: ipywidgets in /usr/local/lib/python3.10/dist-packages (7.7.1)\n",
            "Requirement already satisfied: ipykernel>=4.5.1 in /usr/local/lib/python3.10/dist-packages (from ipywidgets) (5.5.6)\n",
            "Requirement already satisfied: ipython-genutils~=0.2.0 in /usr/local/lib/python3.10/dist-packages (from ipywidgets) (0.2.0)\n",
            "Requirement already satisfied: traitlets>=4.3.1 in /usr/local/lib/python3.10/dist-packages (from ipywidgets) (5.7.1)\n",
            "Requirement already satisfied: widgetsnbextension~=3.6.0 in /usr/local/lib/python3.10/dist-packages (from ipywidgets) (3.6.5)\n",
            "Requirement already satisfied: ipython>=4.0.0 in /usr/local/lib/python3.10/dist-packages (from ipywidgets) (7.34.0)\n",
            "Requirement already satisfied: jupyterlab-widgets>=1.0.0 in /usr/local/lib/python3.10/dist-packages (from ipywidgets) (3.0.8)\n",
            "Requirement already satisfied: jupyter-client in /usr/local/lib/python3.10/dist-packages (from ipykernel>=4.5.1->ipywidgets) (6.1.12)\n",
            "Requirement already satisfied: tornado>=4.2 in /usr/local/lib/python3.10/dist-packages (from ipykernel>=4.5.1->ipywidgets) (6.3.2)\n",
            "Requirement already satisfied: setuptools>=18.5 in /usr/local/lib/python3.10/dist-packages (from ipython>=4.0.0->ipywidgets) (67.7.2)\n",
            "Collecting jedi>=0.16 (from ipython>=4.0.0->ipywidgets)\n",
            "  Obtaining dependency information for jedi>=0.16 from https://files.pythonhosted.org/packages/8e/46/7e3ae3aa2dcfcffc5138c6cef5448523218658411c84a2000bf75c8d3ec1/jedi-0.19.0-py2.py3-none-any.whl.metadata\n",
            "  Downloading jedi-0.19.0-py2.py3-none-any.whl.metadata (22 kB)\n",
            "Requirement already satisfied: decorator in /usr/local/lib/python3.10/dist-packages (from ipython>=4.0.0->ipywidgets) (4.4.2)\n",
            "Requirement already satisfied: pickleshare in /usr/local/lib/python3.10/dist-packages (from ipython>=4.0.0->ipywidgets) (0.7.5)\n",
            "Requirement already satisfied: prompt-toolkit!=3.0.0,!=3.0.1,<3.1.0,>=2.0.0 in /usr/local/lib/python3.10/dist-packages (from ipython>=4.0.0->ipywidgets) (3.0.39)\n",
            "Requirement already satisfied: pygments in /usr/local/lib/python3.10/dist-packages (from ipython>=4.0.0->ipywidgets) (2.16.1)\n",
            "Requirement already satisfied: backcall in /usr/local/lib/python3.10/dist-packages (from ipython>=4.0.0->ipywidgets) (0.2.0)\n",
            "Requirement already satisfied: matplotlib-inline in /usr/local/lib/python3.10/dist-packages (from ipython>=4.0.0->ipywidgets) (0.1.6)\n",
            "Requirement already satisfied: pexpect>4.3 in /usr/local/lib/python3.10/dist-packages (from ipython>=4.0.0->ipywidgets) (4.8.0)\n",
            "Requirement already satisfied: notebook>=4.4.1 in /usr/local/lib/python3.10/dist-packages (from widgetsnbextension~=3.6.0->ipywidgets) (6.5.5)\n",
            "Requirement already satisfied: parso<0.9.0,>=0.8.3 in /usr/local/lib/python3.10/dist-packages (from jedi>=0.16->ipython>=4.0.0->ipywidgets) (0.8.3)\n",
            "Requirement already satisfied: jinja2 in /usr/local/lib/python3.10/dist-packages (from notebook>=4.4.1->widgetsnbextension~=3.6.0->ipywidgets) (3.1.2)\n",
            "Requirement already satisfied: pyzmq<25,>=17 in /usr/local/lib/python3.10/dist-packages (from notebook>=4.4.1->widgetsnbextension~=3.6.0->ipywidgets) (23.2.1)\n",
            "Requirement already satisfied: argon2-cffi in /usr/local/lib/python3.10/dist-packages (from notebook>=4.4.1->widgetsnbextension~=3.6.0->ipywidgets) (23.1.0)\n",
            "Requirement already satisfied: jupyter-core>=4.6.1 in /usr/local/lib/python3.10/dist-packages (from notebook>=4.4.1->widgetsnbextension~=3.6.0->ipywidgets) (5.3.1)\n",
            "Requirement already satisfied: nbformat in /usr/local/lib/python3.10/dist-packages (from notebook>=4.4.1->widgetsnbextension~=3.6.0->ipywidgets) (5.9.2)\n",
            "Requirement already satisfied: nbconvert>=5 in /usr/local/lib/python3.10/dist-packages (from notebook>=4.4.1->widgetsnbextension~=3.6.0->ipywidgets) (6.5.4)\n",
            "Requirement already satisfied: nest-asyncio>=1.5 in /usr/local/lib/python3.10/dist-packages (from notebook>=4.4.1->widgetsnbextension~=3.6.0->ipywidgets) (1.5.7)\n",
            "Requirement already satisfied: Send2Trash>=1.8.0 in /usr/local/lib/python3.10/dist-packages (from notebook>=4.4.1->widgetsnbextension~=3.6.0->ipywidgets) (1.8.2)\n",
            "Requirement already satisfied: terminado>=0.8.3 in /usr/local/lib/python3.10/dist-packages (from notebook>=4.4.1->widgetsnbextension~=3.6.0->ipywidgets) (0.17.1)\n",
            "Requirement already satisfied: prometheus-client in /usr/local/lib/python3.10/dist-packages (from notebook>=4.4.1->widgetsnbextension~=3.6.0->ipywidgets) (0.17.1)\n",
            "Requirement already satisfied: nbclassic>=0.4.7 in /usr/local/lib/python3.10/dist-packages (from notebook>=4.4.1->widgetsnbextension~=3.6.0->ipywidgets) (1.0.0)\n",
            "Requirement already satisfied: python-dateutil>=2.1 in /usr/local/lib/python3.10/dist-packages (from jupyter-client->ipykernel>=4.5.1->ipywidgets) (2.8.2)\n",
            "Requirement already satisfied: ptyprocess>=0.5 in /usr/local/lib/python3.10/dist-packages (from pexpect>4.3->ipython>=4.0.0->ipywidgets) (0.7.0)\n",
            "Requirement already satisfied: wcwidth in /usr/local/lib/python3.10/dist-packages (from prompt-toolkit!=3.0.0,!=3.0.1,<3.1.0,>=2.0.0->ipython>=4.0.0->ipywidgets) (0.2.6)\n",
            "Requirement already satisfied: platformdirs>=2.5 in /usr/local/lib/python3.10/dist-packages (from jupyter-core>=4.6.1->notebook>=4.4.1->widgetsnbextension~=3.6.0->ipywidgets) (3.10.0)\n",
            "Requirement already satisfied: jupyter-server>=1.8 in /usr/local/lib/python3.10/dist-packages (from nbclassic>=0.4.7->notebook>=4.4.1->widgetsnbextension~=3.6.0->ipywidgets) (1.24.0)\n",
            "Requirement already satisfied: notebook-shim>=0.2.3 in /usr/local/lib/python3.10/dist-packages (from nbclassic>=0.4.7->notebook>=4.4.1->widgetsnbextension~=3.6.0->ipywidgets) (0.2.3)\n",
            "Requirement already satisfied: lxml in /usr/local/lib/python3.10/dist-packages (from nbconvert>=5->notebook>=4.4.1->widgetsnbextension~=3.6.0->ipywidgets) (4.9.3)\n",
            "Requirement already satisfied: beautifulsoup4 in /usr/local/lib/python3.10/dist-packages (from nbconvert>=5->notebook>=4.4.1->widgetsnbextension~=3.6.0->ipywidgets) (4.11.2)\n",
            "Requirement already satisfied: bleach in /usr/local/lib/python3.10/dist-packages (from nbconvert>=5->notebook>=4.4.1->widgetsnbextension~=3.6.0->ipywidgets) (6.0.0)\n",
            "Requirement already satisfied: defusedxml in /usr/local/lib/python3.10/dist-packages (from nbconvert>=5->notebook>=4.4.1->widgetsnbextension~=3.6.0->ipywidgets) (0.7.1)\n",
            "Requirement already satisfied: entrypoints>=0.2.2 in /usr/local/lib/python3.10/dist-packages (from nbconvert>=5->notebook>=4.4.1->widgetsnbextension~=3.6.0->ipywidgets) (0.4)\n",
            "Requirement already satisfied: jupyterlab-pygments in /usr/local/lib/python3.10/dist-packages (from nbconvert>=5->notebook>=4.4.1->widgetsnbextension~=3.6.0->ipywidgets) (0.2.2)\n",
            "Requirement already satisfied: MarkupSafe>=2.0 in /usr/local/lib/python3.10/dist-packages (from nbconvert>=5->notebook>=4.4.1->widgetsnbextension~=3.6.0->ipywidgets) (2.1.3)\n",
            "Requirement already satisfied: mistune<2,>=0.8.1 in /usr/local/lib/python3.10/dist-packages (from nbconvert>=5->notebook>=4.4.1->widgetsnbextension~=3.6.0->ipywidgets) (0.8.4)\n",
            "Requirement already satisfied: nbclient>=0.5.0 in /usr/local/lib/python3.10/dist-packages (from nbconvert>=5->notebook>=4.4.1->widgetsnbextension~=3.6.0->ipywidgets) (0.8.0)\n",
            "Requirement already satisfied: packaging in /usr/local/lib/python3.10/dist-packages (from nbconvert>=5->notebook>=4.4.1->widgetsnbextension~=3.6.0->ipywidgets) (23.1)\n",
            "Requirement already satisfied: pandocfilters>=1.4.1 in /usr/local/lib/python3.10/dist-packages (from nbconvert>=5->notebook>=4.4.1->widgetsnbextension~=3.6.0->ipywidgets) (1.5.0)\n",
            "Requirement already satisfied: tinycss2 in /usr/local/lib/python3.10/dist-packages (from nbconvert>=5->notebook>=4.4.1->widgetsnbextension~=3.6.0->ipywidgets) (1.2.1)\n",
            "Requirement already satisfied: fastjsonschema in /usr/local/lib/python3.10/dist-packages (from nbformat->notebook>=4.4.1->widgetsnbextension~=3.6.0->ipywidgets) (2.18.0)\n",
            "Requirement already satisfied: jsonschema>=2.6 in /usr/local/lib/python3.10/dist-packages (from nbformat->notebook>=4.4.1->widgetsnbextension~=3.6.0->ipywidgets) (4.19.0)\n",
            "Requirement already satisfied: six>=1.5 in /usr/local/lib/python3.10/dist-packages (from python-dateutil>=2.1->jupyter-client->ipykernel>=4.5.1->ipywidgets) (1.16.0)\n",
            "Requirement already satisfied: argon2-cffi-bindings in /usr/local/lib/python3.10/dist-packages (from argon2-cffi->notebook>=4.4.1->widgetsnbextension~=3.6.0->ipywidgets) (21.2.0)\n",
            "Requirement already satisfied: attrs>=22.2.0 in /usr/local/lib/python3.10/dist-packages (from jsonschema>=2.6->nbformat->notebook>=4.4.1->widgetsnbextension~=3.6.0->ipywidgets) (23.1.0)\n",
            "Requirement already satisfied: jsonschema-specifications>=2023.03.6 in /usr/local/lib/python3.10/dist-packages (from jsonschema>=2.6->nbformat->notebook>=4.4.1->widgetsnbextension~=3.6.0->ipywidgets) (2023.7.1)\n",
            "Requirement already satisfied: referencing>=0.28.4 in /usr/local/lib/python3.10/dist-packages (from jsonschema>=2.6->nbformat->notebook>=4.4.1->widgetsnbextension~=3.6.0->ipywidgets) (0.30.2)\n",
            "Requirement already satisfied: rpds-py>=0.7.1 in /usr/local/lib/python3.10/dist-packages (from jsonschema>=2.6->nbformat->notebook>=4.4.1->widgetsnbextension~=3.6.0->ipywidgets) (0.10.2)\n",
            "Requirement already satisfied: anyio<4,>=3.1.0 in /usr/local/lib/python3.10/dist-packages (from jupyter-server>=1.8->nbclassic>=0.4.7->notebook>=4.4.1->widgetsnbextension~=3.6.0->ipywidgets) (3.7.1)\n",
            "Requirement already satisfied: websocket-client in /usr/local/lib/python3.10/dist-packages (from jupyter-server>=1.8->nbclassic>=0.4.7->notebook>=4.4.1->widgetsnbextension~=3.6.0->ipywidgets) (1.6.2)\n",
            "Requirement already satisfied: cffi>=1.0.1 in /usr/local/lib/python3.10/dist-packages (from argon2-cffi-bindings->argon2-cffi->notebook>=4.4.1->widgetsnbextension~=3.6.0->ipywidgets) (1.15.1)\n",
            "Requirement already satisfied: soupsieve>1.2 in /usr/local/lib/python3.10/dist-packages (from beautifulsoup4->nbconvert>=5->notebook>=4.4.1->widgetsnbextension~=3.6.0->ipywidgets) (2.5)\n",
            "Requirement already satisfied: webencodings in /usr/local/lib/python3.10/dist-packages (from bleach->nbconvert>=5->notebook>=4.4.1->widgetsnbextension~=3.6.0->ipywidgets) (0.5.1)\n",
            "Requirement already satisfied: idna>=2.8 in /usr/local/lib/python3.10/dist-packages (from anyio<4,>=3.1.0->jupyter-server>=1.8->nbclassic>=0.4.7->notebook>=4.4.1->widgetsnbextension~=3.6.0->ipywidgets) (3.4)\n",
            "Requirement already satisfied: sniffio>=1.1 in /usr/local/lib/python3.10/dist-packages (from anyio<4,>=3.1.0->jupyter-server>=1.8->nbclassic>=0.4.7->notebook>=4.4.1->widgetsnbextension~=3.6.0->ipywidgets) (1.3.0)\n",
            "Requirement already satisfied: exceptiongroup in /usr/local/lib/python3.10/dist-packages (from anyio<4,>=3.1.0->jupyter-server>=1.8->nbclassic>=0.4.7->notebook>=4.4.1->widgetsnbextension~=3.6.0->ipywidgets) (1.1.3)\n",
            "Requirement already satisfied: pycparser in /usr/local/lib/python3.10/dist-packages (from cffi>=1.0.1->argon2-cffi-bindings->argon2-cffi->notebook>=4.4.1->widgetsnbextension~=3.6.0->ipywidgets) (2.21)\n",
            "Downloading jedi-0.19.0-py2.py3-none-any.whl (1.6 MB)\n",
            "\u001b[2K   \u001b[90m━━━━━━━━━━━━━━━━━━━━━━━━━━━━━━━━━━━━━━━━\u001b[0m \u001b[32m1.6/1.6 MB\u001b[0m \u001b[31m7.5 MB/s\u001b[0m eta \u001b[36m0:00:00\u001b[0m\n",
            "\u001b[?25hInstalling collected packages: jedi\n",
            "Successfully installed jedi-0.19.0\n",
            "\u001b[33mWARNING: Running pip as the 'root' user can result in broken permissions and conflicting behaviour with the system package manager. It is recommended to use a virtual environment instead: https://pip.pypa.io/warnings/venv\u001b[0m\u001b[33m\n",
            "\u001b[0m"
          ]
        }
      ]
    },
    {
      "cell_type": "code",
      "source": [],
      "metadata": {
        "id": "txPGsT2D1u-h"
      },
      "execution_count": null,
      "outputs": []
    },
    {
      "cell_type": "code",
      "source": [
        "#(1) Security: Train model to detect intruders on camera"
      ],
      "metadata": {
        "id": "JWC5K0U_58qC"
      },
      "execution_count": null,
      "outputs": []
    },
    {
      "cell_type": "code",
      "source": [
        "import tensorflow as tf\n",
        "from tensorflow.keras import layers, models\n",
        "from tensorflow.keras.preprocessing.image import ImageDataGenerator, load_img, img_to_array\n",
        "import numpy as np\n",
        "import pandas as pd\n",
        "import os\n",
        "from ipywidgets import FileUpload  # Import FileUpload from IPython widgets\n",
        "from IPython.display import display\n",
        "\n",
        "# Initialize empty lists for image paths and labels\n",
        "image_paths = []\n",
        "labels = []\n",
        "\n",
        "# Define a data generator for loading and augmenting images\n",
        "datagen = ImageDataGenerator(\n",
        "    rescale=1.0/255.0,  # Rescale pixel values to [0, 1]\n",
        "    rotation_range=20,\n",
        "    width_shift_range=0.2,\n",
        "    height_shift_range=0.2,\n",
        "    shear_range=0.2,\n",
        "    zoom_range=0.2,\n",
        "    horizontal_flip=True,\n",
        "    fill_mode='nearest'\n",
        ")\n",
        "\n",
        "# Define the model architecture (you can customize this)\n",
        "model = models.Sequential([\n",
        "    layers.Conv2D(32, (3, 3), activation='relu', input_shape=(224, 224, 3)),\n",
        "    layers.MaxPooling2D((2, 2)),\n",
        "    layers.Conv2D(64, (3, 3), activation='relu'),\n",
        "    layers.MaxPooling2D((2, 2)),\n",
        "    layers.Conv2D(128, (3, 3), activation='relu'),\n",
        "    layers.MaxPooling2D((2, 2)),\n",
        "    layers.Flatten(),\n",
        "    layers.Dense(128, activation='relu'),\n",
        "    layers.Dropout(0.5),\n",
        "    layers.Dense(1, activation='sigmoid')  # Binary classification (intruder or not)\n",
        "])\n",
        "\n",
        "# Compile the model\n",
        "model.compile(optimizer='adam', loss='binary_crossentropy', metrics=['accuracy'])\n",
        "\n",
        "# Create a file upload widget\n",
        "upload = FileUpload(accept='.jpg', multiple=True)\n",
        "\n",
        "# Display the file upload widget\n",
        "display(upload)\n",
        "\n",
        "# Process uploaded images and train the model\n",
        "def process_uploaded_images(change):\n",
        "    uploaded_files = upload.value\n",
        "\n",
        "    for filename, file_info in uploaded_files.items():\n",
        "        # Save the uploaded file to a temporary location\n",
        "        with open(filename, 'wb') as f:\n",
        "            f.write(file_info['content'])\n",
        "\n",
        "        image_paths.append(filename)\n",
        "\n",
        "    # Use the image_paths list in your code for further processing\n",
        "    print(\"Uploaded image paths:\", image_paths)\n",
        "\n",
        "    # Ensure the image files exist\n",
        "    for img_path in image_paths:\n",
        "        if not os.path.isfile(img_path):\n",
        "            raise FileNotFoundError(f\"Image file not found: {img_path}\")\n",
        "\n",
        "    # Collect labels for the uploaded images\n",
        "    # You should customize this part to collect labels for each image\n",
        "    # For example, you can load labels from a predefined list\n",
        "\n",
        "    # Example: Predefined list of labels corresponding to the uploaded images\n",
        "    predefined_labels = ['1', '0', '1', '0', '1']\n",
        "\n",
        "    # Ensure the number of labels matches the number of uploaded images\n",
        "    if len(predefined_labels) != len(image_paths):\n",
        "        raise ValueError(\"Number of labels does not match the number of uploaded images.\")\n",
        "\n",
        "    # Add predefined labels to the labels list\n",
        "    labels.extend(predefined_labels)\n",
        "\n",
        "    # Example: Train the model using the uploaded images and labels (replace this with your own logic)\n",
        "    batch_size = 32\n",
        "    epochs = 10\n",
        "\n",
        "    train_generator = datagen.flow_from_dataframe(\n",
        "        dataframe=pd.DataFrame({'Image_Path': image_paths, 'Label': labels}),\n",
        "        x_col='Image_Path',\n",
        "        y_col='Label',\n",
        "        target_size=(224, 224),\n",
        "        batch_size=batch_size,\n",
        "        class_mode='binary'\n",
        "    )\n",
        "\n",
        "    # Compile the model before training\n",
        "    model.compile(optimizer='adam', loss='binary_crossentropy', metrics=['accuracy'])\n",
        "\n",
        "    # Train the model\n",
        "    history = model.fit(train_generator, epochs=epochs)\n",
        "\n",
        "    # Save the trained model\n",
        "    model.save(\"intruder_detection_model.h5\")\n",
        "\n",
        "    # Intruder detection for uploaded images\n",
        "    threshold = 0.6  # Adjust the threshold as needed\n",
        "\n",
        "    for img_path, label in zip(image_paths, labels):\n",
        "        image = load_img(img_path, target_size=(224, 224))\n",
        "        image = img_to_array(image)\n",
        "        image = image / 255.0\n",
        "        image = np.expand_dims(image, axis=0)\n",
        "        prediction = model.predict(image)\n",
        "\n",
        "        # Check if the prediction indicates an intruder\n",
        "        if prediction > threshold:\n",
        "            print(f\"Intruder detected in {img_path} with label {label}\")\n",
        "        else:\n",
        "            print(f\"No intruder detected in {img_path} with label {label}\")\n",
        "\n",
        "# Observe changes in the file upload widget\n",
        "upload.observe(process_uploaded_images, names='value')\n"
      ],
      "metadata": {
        "colab": {
          "base_uri": "https://localhost:8080/",
          "height": 659,
          "referenced_widgets": [
            "a4f276fd86da4933aa8da262bebea506",
            "f020ab6ffde54dc888e26ded5b5896cf",
            "5a3511a296d24b518318af70c0e62d17"
          ]
        },
        "id": "pym1uZ6153QJ",
        "outputId": "df177816-13a0-4165-a533-3d27781bf7a7"
      },
      "execution_count": null,
      "outputs": [
        {
          "output_type": "display_data",
          "data": {
            "text/plain": [
              "FileUpload(value={}, accept='.jpg', description='Upload', multiple=True)"
            ],
            "application/vnd.jupyter.widget-view+json": {
              "version_major": 2,
              "version_minor": 0,
              "model_id": "a4f276fd86da4933aa8da262bebea506"
            }
          },
          "metadata": {}
        },
        {
          "output_type": "stream",
          "name": "stdout",
          "text": [
            "Uploaded image paths: ['stock9.jpg', 'stock4.jpg', 'stock3.jpg', 'stock2.jpg', 'stock.jpg']\n",
            "Found 5 validated image filenames belonging to 2 classes.\n",
            "Epoch 1/10\n",
            "1/1 [==============================] - 2s 2s/step - loss: 0.6943 - accuracy: 0.4000\n",
            "Epoch 2/10\n",
            "1/1 [==============================] - 1s 751ms/step - loss: 0.8367 - accuracy: 0.8000\n",
            "Epoch 3/10\n",
            "1/1 [==============================] - 1s 1s/step - loss: 1.2923 - accuracy: 0.6000\n",
            "Epoch 4/10\n",
            "1/1 [==============================] - 1s 1s/step - loss: 1.2020 - accuracy: 0.6000\n",
            "Epoch 5/10\n",
            "1/1 [==============================] - 1s 685ms/step - loss: 0.7707 - accuracy: 0.4000\n",
            "Epoch 6/10\n",
            "1/1 [==============================] - 1s 688ms/step - loss: 0.6685 - accuracy: 0.8000\n",
            "Epoch 7/10\n",
            "1/1 [==============================] - 1s 682ms/step - loss: 0.6964 - accuracy: 0.4000\n",
            "Epoch 8/10\n",
            "1/1 [==============================] - 1s 672ms/step - loss: 0.6857 - accuracy: 0.6000\n",
            "Epoch 9/10\n",
            "1/1 [==============================] - 1s 665ms/step - loss: 0.7041 - accuracy: 0.4000\n",
            "Epoch 10/10\n",
            "1/1 [==============================] - 1s 665ms/step - loss: 0.7306 - accuracy: 0.6000\n"
          ]
        },
        {
          "output_type": "stream",
          "name": "stderr",
          "text": [
            "/usr/local/lib/python3.10/dist-packages/keras/src/engine/training.py:3000: UserWarning: You are saving your model as an HDF5 file via `model.save()`. This file format is considered legacy. We recommend using instead the native Keras format, e.g. `model.save('my_model.keras')`.\n",
            "  saving_api.save_model(\n"
          ]
        },
        {
          "output_type": "stream",
          "name": "stdout",
          "text": [
            "1/1 [==============================] - 0s 106ms/step\n",
            "No intruder detected in stock9.jpg with label 1\n",
            "1/1 [==============================] - 0s 51ms/step\n",
            "No intruder detected in stock4.jpg with label 0\n",
            "1/1 [==============================] - 0s 44ms/step\n",
            "No intruder detected in stock3.jpg with label 1\n",
            "1/1 [==============================] - 0s 44ms/step\n",
            "No intruder detected in stock2.jpg with label 0\n",
            "1/1 [==============================] - 0s 45ms/step\n",
            "No intruder detected in stock.jpg with label 1\n"
          ]
        }
      ]
    },
    {
      "cell_type": "code",
      "source": [],
      "metadata": {
        "id": "AW16npkNDotR"
      },
      "execution_count": null,
      "outputs": []
    },
    {
      "cell_type": "code",
      "source": [
        "#(2)Statement: Identify and prevent water leaks."
      ],
      "metadata": {
        "id": "_RyboUP4HePs"
      },
      "execution_count": null,
      "outputs": []
    },
    {
      "cell_type": "code",
      "source": [
        "pip install Faker\n"
      ],
      "metadata": {
        "id": "Mpv-0j78WsFp",
        "outputId": "0e215e1d-4cc1-4184-c803-fdf64444db90",
        "colab": {
          "base_uri": "https://localhost:8080/"
        }
      },
      "execution_count": null,
      "outputs": [
        {
          "output_type": "stream",
          "name": "stdout",
          "text": [
            "Collecting Faker\n",
            "  Downloading Faker-19.6.0-py3-none-any.whl (1.7 MB)\n",
            "\u001b[2K     \u001b[90m━━━━━━━━━━━━━━━━━━━━━━━━━━━━━━━━━━━━━━━━\u001b[0m \u001b[32m1.7/1.7 MB\u001b[0m \u001b[31m9.8 MB/s\u001b[0m eta \u001b[36m0:00:00\u001b[0m\n",
            "\u001b[?25hRequirement already satisfied: python-dateutil>=2.4 in /usr/local/lib/python3.10/dist-packages (from Faker) (2.8.2)\n",
            "Requirement already satisfied: six>=1.5 in /usr/local/lib/python3.10/dist-packages (from python-dateutil>=2.4->Faker) (1.16.0)\n",
            "Installing collected packages: Faker\n",
            "Successfully installed Faker-19.6.0\n"
          ]
        }
      ]
    },
    {
      "cell_type": "code",
      "source": [
        "#(2)Statement: Identify and prevent water leaks."
      ],
      "metadata": {
        "id": "PCerW4S3W9iQ"
      },
      "execution_count": null,
      "outputs": []
    },
    {
      "cell_type": "code",
      "source": [
        "import pandas as pd\n",
        "import numpy as np\n",
        "from faker import Faker  # To generate fake data\n",
        "\n",
        "# Generate synthetic data\n",
        "fake = Faker()\n",
        "np.random.seed(0)\n",
        "\n",
        "num_samples = 100\n",
        "locations = [fake.city() for _ in range(num_samples)]\n",
        "leak_probabilities = np.random.uniform(0, 1, num_samples)\n",
        "sensor_readings = np.random.normal(0, 1, num_samples)\n",
        "timestamps = pd.date_range(start='2023-09-01', periods=num_samples, freq='H')\n",
        "\n",
        "# Create a DataFrame\n",
        "data = {\n",
        "    'Location': locations,\n",
        "    'Leak_Probability': leak_probabilities,\n",
        "    'Sensor_Reading': sensor_readings,\n",
        "    'Timestamp': timestamps\n",
        "}\n",
        "\n",
        "df = pd.DataFrame(data)\n",
        "\n",
        "# Sample data\n",
        "print(df.head())\n",
        "\n",
        "# Analysis\n",
        "leak_threshold = 0.5  # Adjust the threshold as needed\n",
        "leak_detected = df['Leak_Probability'] > leak_threshold\n",
        "leak_count = leak_detected.sum()\n",
        "\n",
        "print(f\"Number of leaks detected: {leak_count}\")\n",
        "\n",
        "# Prevention (simplified)\n",
        "def prevent_leak(location):\n",
        "    # Replace this with your prevention logic\n",
        "    return f\"Water leak prevented at {location}\"\n",
        "\n",
        "df['Prevention_Action'] = df.apply(lambda row: prevent_leak(row['Location']) if row['Leak_Probability'] > leak_threshold else 'No action needed', axis=1)\n",
        "\n",
        "# Sample data with prevention actions\n",
        "print(df.head())\n"
      ],
      "metadata": {
        "colab": {
          "base_uri": "https://localhost:8080/"
        },
        "id": "ZpauN5NMHb23",
        "outputId": "722f3c07-754a-4a68-89ba-ebc5da289783"
      },
      "execution_count": null,
      "outputs": [
        {
          "output_type": "stream",
          "name": "stdout",
          "text": [
            "             Location  Leak_Probability  Sensor_Reading           Timestamp\n",
            "0  Port Connorchester          0.548814       -1.165150 2023-09-01 00:00:00\n",
            "1         Robertmouth          0.715189        0.900826 2023-09-01 01:00:00\n",
            "2      New Brentshire          0.602763        0.465662 2023-09-01 02:00:00\n",
            "3           Port Sean          0.544883       -1.536244 2023-09-01 03:00:00\n",
            "4           Moonhaven          0.423655        1.488252 2023-09-01 04:00:00\n",
            "Number of leaks detected: 49\n",
            "             Location  Leak_Probability  Sensor_Reading           Timestamp  \\\n",
            "0  Port Connorchester          0.548814       -1.165150 2023-09-01 00:00:00   \n",
            "1         Robertmouth          0.715189        0.900826 2023-09-01 01:00:00   \n",
            "2      New Brentshire          0.602763        0.465662 2023-09-01 02:00:00   \n",
            "3           Port Sean          0.544883       -1.536244 2023-09-01 03:00:00   \n",
            "4           Moonhaven          0.423655        1.488252 2023-09-01 04:00:00   \n",
            "\n",
            "                            Prevention_Action  \n",
            "0  Water leak prevented at Port Connorchester  \n",
            "1         Water leak prevented at Robertmouth  \n",
            "2      Water leak prevented at New Brentshire  \n",
            "3           Water leak prevented at Port Sean  \n",
            "4                            No action needed  \n"
          ]
        }
      ]
    },
    {
      "cell_type": "code",
      "source": [],
      "metadata": {
        "id": "I5GnjqeRJaFM"
      },
      "execution_count": null,
      "outputs": []
    },
    {
      "cell_type": "code",
      "source": [
        "pip install comtypes\n"
      ],
      "metadata": {
        "colab": {
          "base_uri": "https://localhost:8080/"
        },
        "id": "sY_R4oOMKPvY",
        "outputId": "583f491c-23ae-4cce-92c0-64548ca918af"
      },
      "execution_count": null,
      "outputs": [
        {
          "output_type": "stream",
          "name": "stdout",
          "text": [
            "Collecting comtypes\n",
            "  Obtaining dependency information for comtypes from https://files.pythonhosted.org/packages/c2/a7/fe4bd49b5c4afa7a7ed3852abda6909e48c00715e6a134e47055381113aa/comtypes-1.2.0-py2.py3-none-any.whl.metadata\n",
            "  Downloading comtypes-1.2.0-py2.py3-none-any.whl.metadata (3.7 kB)\n",
            "Downloading comtypes-1.2.0-py2.py3-none-any.whl (184 kB)\n",
            "\u001b[2K   \u001b[90m━━━━━━━━━━━━━━━━━━━━━━━━━━━━━━━━━━━━━━━━\u001b[0m \u001b[32m184.3/184.3 kB\u001b[0m \u001b[31m3.2 MB/s\u001b[0m eta \u001b[36m0:00:00\u001b[0m\n",
            "\u001b[?25hInstalling collected packages: comtypes\n",
            "Successfully installed comtypes-1.2.0\n",
            "\u001b[33mWARNING: Running pip as the 'root' user can result in broken permissions and conflicting behaviour with the system package manager. It is recommended to use a virtual environment instead: https://pip.pypa.io/warnings/venv\u001b[0m\u001b[33m\n",
            "\u001b[0m"
          ]
        }
      ]
    },
    {
      "cell_type": "code",
      "source": [
        "pip install gTTS\n"
      ],
      "metadata": {
        "colab": {
          "base_uri": "https://localhost:8080/"
        },
        "id": "Gt2b_vyMJ4mW",
        "outputId": "743acf61-3a6f-4f78-caf8-1221e010d552"
      },
      "execution_count": null,
      "outputs": [
        {
          "output_type": "stream",
          "name": "stdout",
          "text": [
            "Collecting gTTS\n",
            "  Downloading gTTS-2.3.2-py3-none-any.whl (28 kB)\n",
            "Requirement already satisfied: requests<3,>=2.27 in /usr/local/lib/python3.10/dist-packages (from gTTS) (2.31.0)\n",
            "Requirement already satisfied: click<8.2,>=7.1 in /usr/local/lib/python3.10/dist-packages (from gTTS) (8.1.7)\n",
            "Requirement already satisfied: charset-normalizer<4,>=2 in /usr/local/lib/python3.10/dist-packages (from requests<3,>=2.27->gTTS) (3.2.0)\n",
            "Requirement already satisfied: idna<4,>=2.5 in /usr/local/lib/python3.10/dist-packages (from requests<3,>=2.27->gTTS) (3.4)\n",
            "Requirement already satisfied: urllib3<3,>=1.21.1 in /usr/local/lib/python3.10/dist-packages (from requests<3,>=2.27->gTTS) (2.0.4)\n",
            "Requirement already satisfied: certifi>=2017.4.17 in /usr/local/lib/python3.10/dist-packages (from requests<3,>=2.27->gTTS) (2023.7.22)\n",
            "Installing collected packages: gTTS\n",
            "Successfully installed gTTS-2.3.2\n",
            "\u001b[33mWARNING: Running pip as the 'root' user can result in broken permissions and conflicting behaviour with the system package manager. It is recommended to use a virtual environment instead: https://pip.pypa.io/warnings/venv\u001b[0m\u001b[33m\n",
            "\u001b[0m"
          ]
        }
      ]
    },
    {
      "cell_type": "code",
      "source": [
        "from gtts import gTTS\n",
        "import os\n",
        "\n",
        "# Function to speak text\n",
        "def speak_text(text):\n",
        "    tts = gTTS(text=text, lang='en')\n",
        "    tts.save('temp.mp3')\n",
        "    os.system('mpg123 temp.mp3')  # You may need to install mpg123: sudo apt-get install mpg123\n",
        "\n",
        "# Usage:\n",
        "speak_text(\"Turning on the lights in the kitchen.\")\n",
        "\n"
      ],
      "metadata": {
        "id": "szBrI1HIK22o"
      },
      "execution_count": null,
      "outputs": []
    },
    {
      "cell_type": "code",
      "source": [],
      "metadata": {
        "id": "82d7B95BOSUF"
      },
      "execution_count": null,
      "outputs": []
    },
    {
      "cell_type": "code",
      "source": [
        "#(3)Behavior-Based Recommendations: ML can analyze historical user behavior to provide recommendations for optimizing home systems. For example, it might suggest adjusting the thermostat by a few degrees to save energy without sacrificing comfort."
      ],
      "metadata": {
        "id": "GgxaRRz-OSXc"
      },
      "execution_count": null,
      "outputs": []
    },
    {
      "cell_type": "code",
      "source": [
        "import pandas as pd\n",
        "from sklearn.model_selection import train_test_split\n",
        "from sklearn.ensemble import RandomForestClassifier\n",
        "from sklearn.metrics import accuracy_score\n",
        "from joblib import dump\n",
        "\n",
        "# Create a DataFrame with the sample dataset\n",
        "data = {\n",
        "    'Category': ['lights', 'lights', 'thermostat', 'thermostat', 'lights'],\n",
        "    'Action_needed': [1, 1, 0, 0, 1],\n",
        "    'Question': [0, 0, 1, 1, 0],\n",
        "    'Subcategory': ['kitchen', 'kitchen', 'living_room', 'living_room', 'bathroom'],\n",
        "    'Action': ['on', 'off', 'cool', 'warm', 'on'],\n",
        "    'Time': ['today', 'tomorrow', 'today', 'tomorrow', 'hour'],\n",
        "}\n",
        "\n",
        "# Create a DataFrame from the data\n",
        "dataset = pd.DataFrame(data)\n",
        "\n",
        "# Perform one-hot encoding for categorical columns\n",
        "dataset = pd.get_dummies(dataset, columns=['Category', 'Subcategory', 'Action', 'Time'], drop_first=True)\n",
        "\n",
        "# Split the dataset into training and testing sets\n",
        "X = dataset.drop(['Action_needed'], axis=1)\n",
        "y = dataset['Action_needed']\n",
        "X_train, X_test, y_train, y_test = train_test_split(X, y, test_size=0.2, random_state=42)\n",
        "\n",
        "# Train a machine learning model (Random Forest Classifier)\n",
        "clf = RandomForestClassifier(n_estimators=100, random_state=42)\n",
        "clf.fit(X_train, y_train)\n",
        "\n",
        "# Evaluate the model\n",
        "y_pred = clf.predict(X_test)\n",
        "accuracy = accuracy_score(y_test, y_pred)\n",
        "print(f\"Accuracy: {accuracy:.2f}\")\n",
        "\n",
        "# Save the trained model for future recommendations\n",
        "dump(clf, 'recommendation_model.joblib')\n",
        "\n",
        "# Function to provide recommendations based on user behavior\n",
        "def get_recommendations(user_behavior):\n",
        "    # user_behavior is a dictionary containing user behavior data\n",
        "    # Example: {'Category': 'lights', 'Subcategory': 'kitchen', 'Action': 'on', 'Time': 'today'}\n",
        "\n",
        "    # Create a DataFrame from user input and perform one-hot encoding\n",
        "    user_df = pd.DataFrame([user_behavior])\n",
        "\n",
        "    # Ensure that the input DataFrame has the same one-hot encoding columns as the training data\n",
        "    missing_cols = set(X_train.columns) - set(user_df.columns)\n",
        "    for col in missing_cols:\n",
        "        user_df[col] = 0\n",
        "\n",
        "    user_df = user_df[X_train.columns]  # Reorder columns to match training data\n",
        "\n",
        "    # Make a recommendation using the trained model\n",
        "    recommendation = clf.predict(user_df)[0]\n",
        "\n",
        "    return recommendation\n",
        "\n",
        "# Example usage:\n",
        "user_behavior = {\n",
        "    'Category': 'lights',\n",
        "    'Subcategory': 'kitchen',\n",
        "    'Action': 'on',\n",
        "    'Time': 'today'\n",
        "}\n",
        "\n",
        "recommendation = get_recommendations(user_behavior)\n",
        "if recommendation == 1:\n",
        "    print(\"Recommendation: Adjust the lights in the kitchen.\")\n",
        "else:\n",
        "    print(\"No specific action recommended.\")\n"
      ],
      "metadata": {
        "colab": {
          "base_uri": "https://localhost:8080/"
        },
        "id": "LMzUQXo8OO_O",
        "outputId": "5b25ac7d-c060-4baa-e599-6e5c27a660ba"
      },
      "execution_count": null,
      "outputs": [
        {
          "output_type": "stream",
          "name": "stdout",
          "text": [
            "Accuracy: 1.00\n",
            "Recommendation: Adjust the lights in the kitchen.\n"
          ]
        }
      ]
    },
    {
      "cell_type": "code",
      "source": [],
      "metadata": {
        "id": "cSATLXO-OPBv"
      },
      "execution_count": null,
      "outputs": []
    },
    {
      "cell_type": "code",
      "source": [
        "#Voice Control: ML-driven NLP interfaces like voice assistants can enable users to control various home systems using natural language commands, making it convenient to adjust settings for comfort and energy efficiency."
      ],
      "metadata": {
        "id": "7ITiwxd3JaIx"
      },
      "execution_count": null,
      "outputs": []
    },
    {
      "cell_type": "code",
      "source": [
        "# Import necessary libraries\n",
        "import pandas as pd\n",
        "from sklearn.model_selection import train_test_split\n",
        "from sklearn.feature_extraction.text import TfidfVectorizer\n",
        "from sklearn.naive_bayes import MultinomialNB\n",
        "from sklearn.metrics import accuracy_score\n",
        "import joblib\n",
        "import pyttsx3  # For text-to-speech conversion\n",
        "import speech_recognition as sr  # For speech recognition\n",
        "import subprocess  # For executing actions in the system\n",
        "\n",
        "# Load the dataset\n",
        "dataset = pd.read_csv(\"dataset.csv\")\n",
        "\n",
        "# Data preprocessing\n",
        "# Assuming you have labeled data with 'Sentence' as input and 'Action' as output\n",
        "X = dataset['Sentence']\n",
        "y = dataset['Action']\n",
        "\n",
        "# Split the data into training and testing sets\n",
        "X_train, X_test, y_train, y_test = train_test_split(X, y, test_size=0.2, random_state=42)\n",
        "\n",
        "# Feature extraction using TF-IDF\n",
        "tfidf_vectorizer = TfidfVectorizer(max_features=1000)\n",
        "X_train_tfidf = tfidf_vectorizer.fit_transform(X_train)\n",
        "X_test_tfidf = tfidf_vectorizer.transform(X_test)\n",
        "\n",
        "# Train a classification model (e.g., Naive Bayes)\n",
        "classifier = MultinomialNB()\n",
        "classifier.fit(X_train_tfidf, y_train)\n",
        "\n",
        "# Evaluate the model\n",
        "y_pred = classifier.predict(X_test_tfidf)\n",
        "accuracy = accuracy_score(y_test, y_pred)\n",
        "print(f\"Model Accuracy: {accuracy}\")\n",
        "\n",
        "# Save the trained model for later use\n",
        "joblib.dump(classifier, \"voice_assistant_model.pkl\")\n",
        "joblib.dump(tfidf_vectorizer, \"tfidf_vectorizer.pkl\")\n",
        "\n",
        "# Initialize text-to-speech engine\n",
        "engine = pyttsx3.init()\n",
        "\n",
        "# Initialize speech recognition engine\n",
        "recognizer = sr.Recognizer()\n",
        "\n",
        "# Main voice control loop\n",
        "while True:\n",
        "    try:\n",
        "        with sr.Microphone() as source:\n",
        "            print(\"Listening for a command...\")\n",
        "            audio = recognizer.listen(source)\n",
        "            command = recognizer.recognize_google(audio).lower()  # Convert speech to text\n",
        "\n",
        "            if command == \"stop\":\n",
        "                break  # Exit the loop if the user says \"stop\"\n",
        "\n",
        "            # Preprocess the command text\n",
        "            command_tfidf = tfidf_vectorizer.transform([command])\n",
        "\n",
        "            # Predict the action using the trained model\n",
        "            predicted_action = classifier.predict(command_tfidf)[0]\n",
        "\n",
        "            # Perform the action based on the predicted action\n",
        "            if predicted_action == 'on':\n",
        "                subprocess.run([\"turn_on_action\"])  # Replace with the actual command for turning on\n",
        "            elif predicted_action == 'off':\n",
        "                subprocess.run([\"turn_off_action\"])  # Replace with the actual command for turning off\n",
        "\n",
        "            # Speak the response\n",
        "            response = f\"Turning {predicted_action} the {predicted_device}.\"\n",
        "            engine.say(response)\n",
        "            engine.runAndWait()\n",
        "\n",
        "    except sr.UnknownValueError:\n",
        "        print(\"Could not understand the audio.\")\n",
        "    except sr.RequestError as e:\n",
        "        print(f\"Could not request results: {e}\")\n",
        "\n",
        "# Cleanup\n",
        "engine.stop()\n"
      ],
      "metadata": {
        "colab": {
          "base_uri": "https://localhost:8080/",
          "height": 384
        },
        "id": "kGQMUaRWHb6T",
        "outputId": "56d95842-56a9-447e-c8bf-1ac2d3191257"
      },
      "execution_count": null,
      "outputs": [
        {
          "output_type": "error",
          "ename": "ModuleNotFoundError",
          "evalue": "ignored",
          "traceback": [
            "\u001b[0;31m---------------------------------------------------------------------------\u001b[0m",
            "\u001b[0;31mModuleNotFoundError\u001b[0m                       Traceback (most recent call last)",
            "\u001b[0;32m<ipython-input-36-030541df0cab>\u001b[0m in \u001b[0;36m<cell line: 8>\u001b[0;34m()\u001b[0m\n\u001b[1;32m      6\u001b[0m \u001b[0;32mfrom\u001b[0m \u001b[0msklearn\u001b[0m\u001b[0;34m.\u001b[0m\u001b[0mmetrics\u001b[0m \u001b[0;32mimport\u001b[0m \u001b[0maccuracy_score\u001b[0m\u001b[0;34m\u001b[0m\u001b[0;34m\u001b[0m\u001b[0m\n\u001b[1;32m      7\u001b[0m \u001b[0;32mimport\u001b[0m \u001b[0mjoblib\u001b[0m\u001b[0;34m\u001b[0m\u001b[0;34m\u001b[0m\u001b[0m\n\u001b[0;32m----> 8\u001b[0;31m \u001b[0;32mimport\u001b[0m \u001b[0mpyttsx3\u001b[0m  \u001b[0;31m# For text-to-speech conversion\u001b[0m\u001b[0;34m\u001b[0m\u001b[0;34m\u001b[0m\u001b[0m\n\u001b[0m\u001b[1;32m      9\u001b[0m \u001b[0;32mimport\u001b[0m \u001b[0mspeech_recognition\u001b[0m \u001b[0;32mas\u001b[0m \u001b[0msr\u001b[0m  \u001b[0;31m# For speech recognition\u001b[0m\u001b[0;34m\u001b[0m\u001b[0;34m\u001b[0m\u001b[0m\n\u001b[1;32m     10\u001b[0m \u001b[0;32mimport\u001b[0m \u001b[0msubprocess\u001b[0m  \u001b[0;31m# For executing actions in the system\u001b[0m\u001b[0;34m\u001b[0m\u001b[0;34m\u001b[0m\u001b[0m\n",
            "\u001b[0;31mModuleNotFoundError\u001b[0m: No module named 'pyttsx3'",
            "",
            "\u001b[0;31m---------------------------------------------------------------------------\u001b[0;32m\nNOTE: If your import is failing due to a missing package, you can\nmanually install dependencies using either !pip or !apt.\n\nTo view examples of installing some common dependencies, click the\n\"Open Examples\" button below.\n\u001b[0;31m---------------------------------------------------------------------------\u001b[0m\n"
          ],
          "errorDetails": {
            "actions": [
              {
                "action": "open_url",
                "actionText": "Open Examples",
                "url": "/notebooks/snippets/importing_libraries.ipynb"
              }
            ]
          }
        }
      ]
    },
    {
      "cell_type": "code",
      "source": [],
      "metadata": {
        "id": "oUQAwH6gIpYB"
      },
      "execution_count": null,
      "outputs": []
    },
    {
      "cell_type": "code",
      "source": [
        "#(4)Adaptive Lighting: ML can analyze natural light levels, occupancy, and user preferences to adjust the brightness and color temperature of lighting fixtures throughout the day. This creates a comfortable and energy-efficient lighting environment."
      ],
      "metadata": {
        "id": "saXXHY49IpeB"
      },
      "execution_count": null,
      "outputs": []
    },
    {
      "cell_type": "code",
      "source": [
        "import pandas as pd\n",
        "import numpy as np\n",
        "\n",
        "# Create a DataFrame with the dataset\n",
        "data = {\n",
        "    \"Room\": [\"Living Room\", \"Bedroom\", \"Kitchen\", \"Bathroom\", \"Dining Room\"],\n",
        "    \"action\": [\"on\", \"on\", \"on\", \"on\", \"on\"],\n",
        "    \"time\": [\n",
        "        \"2023-09-10 05:30:00\",\n",
        "        \"2023-09-10 07:45:00\",\n",
        "        \"2023-09-10 18:30:00\",\n",
        "        \"2023-09-10 22:15:00\",\n",
        "        \"2023-09-10 20:00:00\",\n",
        "    ],\n",
        "    \"brightness\": [80, 90, 100, 70, 85],  # Adjust brightness values as needed\n",
        "}\n",
        "\n",
        "df = pd.DataFrame(data)\n",
        "\n",
        "# Get the current time\n",
        "current_time = pd.to_datetime(\"2023-09-10 02:44:55\")\n",
        "\n",
        "# Calculate the time of sunrise and sunset\n",
        "sunrise_time = current_time.replace(hour=6, minute=0, second=0)\n",
        "sunset_time = current_time.replace(hour=18, minute=0, second=0)\n",
        "\n",
        "# Create a dictionary to store the light settings for each room\n",
        "light_settings = {}\n",
        "\n",
        "# Iterate over the rows in the dataset\n",
        "for index, row in df.iterrows():\n",
        "    # Get the room name, action, and time\n",
        "    room_name = row[\"Room\"]\n",
        "    action = row[\"action\"]\n",
        "    time = pd.to_datetime(row[\"time\"])\n",
        "\n",
        "    # If the action is \"on\", turn on the light\n",
        "    if action == \"on\":\n",
        "        # Get the brightness from the dataset\n",
        "        brightness = row[\"brightness\"]\n",
        "\n",
        "        # Calculate the color temperature based on time of day\n",
        "        if time < sunrise_time:\n",
        "            color_temperature = 2700\n",
        "        elif time < sunset_time:\n",
        "            color_temperature = 3500\n",
        "        else:\n",
        "            color_temperature = 4500\n",
        "\n",
        "        # Update the light settings dictionary\n",
        "        light_settings[room_name] = {\"brightness\": brightness, \"color_temperature\": color_temperature}\n",
        "\n",
        "# Print the light settings dictionary\n",
        "print(light_settings)\n"
      ],
      "metadata": {
        "colab": {
          "base_uri": "https://localhost:8080/"
        },
        "id": "epvY0-QdzTie",
        "outputId": "1cf35e1a-ea9f-4109-ef48-f8e6509a0ded"
      },
      "execution_count": null,
      "outputs": [
        {
          "output_type": "stream",
          "name": "stdout",
          "text": [
            "{'Living Room': {'brightness': 80, 'color_temperature': 2700}, 'Bedroom': {'brightness': 90, 'color_temperature': 3500}, 'Kitchen': {'brightness': 100, 'color_temperature': 4500}, 'Bathroom': {'brightness': 70, 'color_temperature': 4500}, 'Dining Room': {'brightness': 85, 'color_temperature': 4500}}\n"
          ]
        }
      ]
    },
    {
      "cell_type": "code",
      "source": [],
      "metadata": {
        "id": "vt0mkrYZVFqi"
      },
      "execution_count": null,
      "outputs": []
    },
    {
      "cell_type": "code",
      "source": [
        "#(5)AI helps to train the ML for the lights in the kitchen ."
      ],
      "metadata": {
        "id": "n8h6CxQdTAQv"
      },
      "execution_count": null,
      "outputs": []
    },
    {
      "cell_type": "code",
      "source": [
        "import pandas as pd\n",
        "\n",
        "# Read the dataset\n",
        "df = pd.read_csv(\"dataset.csv\")\n",
        "\n",
        "# Get the rows where the category is \"lights\" and the action is either \"on\" or \"off\" and the time is \"today\" or \"tomorrow\"\n",
        "rows = df[\n",
        "    (df[\"Category\"] == \"lights\")\n",
        "    & ((df[\"Action_needed\"] == 1) | (df[\"Action_needed\"] == 0))\n",
        "    & ((df[\"Time\"] == \"today\") | (df[\"Time\"] == \"tomorrow\"))\n",
        "]\n",
        "\n",
        "# Convert the Sentence column to a list of lists\n",
        "sentences = []\n",
        "for index, row in rows.iterrows():\n",
        "    sentences.append([word for word in row[\"Sentence\"].split(\" \")])\n",
        "\n",
        "# Print the sentences\n",
        "print(\"The following sentences can be used to control the lights in the kitchen today or tomorrow:\")\n",
        "for sentence in sentences:\n",
        "    print(sentence)\n"
      ],
      "metadata": {
        "colab": {
          "base_uri": "https://localhost:8080/"
        },
        "id": "d_4qmBrLYVex",
        "outputId": "872f200e-dbfd-4611-9330-f02e27f88db2"
      },
      "execution_count": null,
      "outputs": [
        {
          "output_type": "stream",
          "name": "stdout",
          "text": [
            "The following sentences can be used to control the lights in the kitchen today or tomorrow:\n",
            "['Illuminate', 'the', 'kitchen', 'today.']\n",
            "['Illuminate', 'the', 'kitchen', 'tomorrow.']\n",
            "['Illuminate', 'the', 'dining', 'room', 'today.']\n",
            "[\"Don't\", 'illuminate', 'the', 'dining', 'room', 'today.']\n",
            "['Illuminate', 'the', 'dining', 'room', 'tomorrow.']\n",
            "['Can', 'you', 'make', 'it', 'less', 'dark', 'in', 'the', 'bathroom', 'tomorrow?']\n",
            "['Can', 'you', 'make', 'it', 'less', 'dark', 'in', 'the', 'toilet', 'tomorrow?']\n"
          ]
        }
      ]
    },
    {
      "cell_type": "code",
      "source": [],
      "metadata": {
        "id": "_Hz79LGPYVhc"
      },
      "execution_count": null,
      "outputs": []
    },
    {
      "cell_type": "code",
      "source": [
        "#(6)Problem: Predict the energy consumption of a smart home based on the weather forecast, the occupancy of the home, and the usage of appliances."
      ],
      "metadata": {
        "id": "9ZtIFi9FgNuq"
      },
      "execution_count": null,
      "outputs": []
    },
    {
      "cell_type": "code",
      "source": [
        "import pandas as pd\n",
        "import numpy as np\n",
        "from datetime import datetime, timedelta\n",
        "from sklearn.ensemble import RandomForestRegressor\n",
        "from sklearn.metrics import mean_absolute_error, mean_squared_error\n",
        "\n",
        "# Step 1: Generate Synthetic Data\n",
        "start_date = datetime(2023, 1, 1)\n",
        "end_date = datetime(2023, 12, 31)\n",
        "date_range = pd.date_range(start_date, end_date, freq='H')\n",
        "\n",
        "data = {\n",
        "    'Timestamp': date_range,\n",
        "    'Temperature (C)': np.random.uniform(10, 30, len(date_range)),\n",
        "    'Humidity (%)': np.random.uniform(30, 70, len(date_range)),\n",
        "    'Occupancy': np.random.choice([0, 1], len(date_range)),\n",
        "    'Lights': np.random.choice([0, 1], len(date_range)),\n",
        "    'AC': np.random.choice([0, 1], len(date_range)),\n",
        "    'TV': np.random.choice([0, 1], len(date_range)),\n",
        "}\n",
        "\n",
        "df = pd.DataFrame(data)\n",
        "\n",
        "# Save the synthetic data to a CSV file\n",
        "df.to_csv('smart_home_data.csv', index=False)\n",
        "\n",
        "# Step 2: Data Preprocessing\n",
        "data = pd.read_csv('smart_home_data.csv')\n",
        "data['Timestamp'] = pd.to_datetime(data['Timestamp'])\n",
        "data['Day of Week'] = data['Timestamp'].dt.dayofweek\n",
        "data['Hour of Day'] = data['Timestamp'].dt.hour\n",
        "data.drop('Timestamp', axis=1, inplace=True)\n",
        "X = data[['Temperature (C)', 'Humidity (%)', 'Occupancy', 'Day of Week', 'Hour of Day']]\n",
        "y = data[['Lights', 'AC', 'TV']]\n",
        "\n",
        "# Step 3: Train a Machine Learning Model\n",
        "model = RandomForestRegressor(n_estimators=100, random_state=42)\n",
        "model.fit(X, y)\n",
        "\n",
        "# Step 4: Make Predictions\n",
        "new_data = pd.DataFrame({\n",
        "    'Temperature (C)': [25.0],\n",
        "    'Humidity (%)': [50.0],\n",
        "    'Occupancy': [1],\n",
        "    'Day of Week': [2],  # Wednesday\n",
        "    'Hour of Day': [14],  # 2:00 PM\n",
        "})\n",
        "\n",
        "predictions = model.predict(new_data)\n",
        "\n",
        "print(\"Predicted Lights Usage:\", predictions[0][0])\n",
        "print(\"Predicted AC Usage:\", predictions[0][1])\n",
        "print(\"Predicted TV Usage:\", predictions[0][2])\n",
        "\n",
        "# Step 5: Evaluate the Model\n",
        "actual_values = np.array([[1, 1, 0]])  # Example actual values (replace with real data)\n",
        "\n",
        "mae = mean_absolute_error(actual_values, predictions)\n",
        "mse = mean_squared_error(actual_values, predictions)\n",
        "\n",
        "print(\"Mean Absolute Error (MAE):\", mae)\n",
        "print(\"Mean Squared Error (MSE):\", mse)\n"
      ],
      "metadata": {
        "colab": {
          "base_uri": "https://localhost:8080/"
        },
        "id": "P-K8cYkagxqM",
        "outputId": "8734fac8-6d69-472d-f334-bad15bce34a1"
      },
      "execution_count": null,
      "outputs": [
        {
          "output_type": "stream",
          "name": "stdout",
          "text": [
            "Predicted Lights Usage: 0.45\n",
            "Predicted AC Usage: 0.64\n",
            "Predicted TV Usage: 0.44\n",
            "Mean Absolute Error (MAE): 0.45\n",
            "Mean Squared Error (MSE): 0.20856666666666668\n"
          ]
        }
      ]
    },
    {
      "cell_type": "code",
      "source": [],
      "metadata": {
        "id": "eVYA2ZLAGBMD"
      },
      "execution_count": null,
      "outputs": []
    },
    {
      "cell_type": "code",
      "source": [
        "#(7)Problem: Detect anomalies in the energy consumption of a smart home."
      ],
      "metadata": {
        "id": "ApBcGVAPGf_r"
      },
      "execution_count": null,
      "outputs": []
    },
    {
      "cell_type": "code",
      "source": [
        "import pandas as pd\n",
        "import numpy as np\n",
        "from sklearn.ensemble import IsolationForest\n",
        "import matplotlib.pyplot as plt\n",
        "\n",
        "# Generate example data\n",
        "np.random.seed(0)\n",
        "timestamps = pd.date_range(start=\"2023-01-01\", end=\"2023-01-30\", freq=\"H\")\n",
        "energy_consumption = np.random.normal(loc=50, scale=10, size=len(timestamps))\n",
        "\n",
        "# Create a DataFrame\n",
        "df = pd.DataFrame({\"Timestamp\": timestamps, \"EnergyConsumption\": energy_consumption})\n",
        "\n",
        "# Introduce some anomalies\n",
        "anomaly_indices = np.random.choice(len(df), size=5, replace=False)  # Add 5 anomalies\n",
        "df.loc[anomaly_indices, \"EnergyConsumption\"] += 30\n",
        "\n",
        "# Visualize the dataset (optional)\n",
        "plt.plot(df[\"Timestamp\"], df[\"EnergyConsumption\"])\n",
        "plt.xlabel('Time')\n",
        "plt.ylabel('Energy Consumption')\n",
        "plt.title('Energy Consumption Over Time')\n",
        "plt.show()\n",
        "\n",
        "# Perform anomaly detection using Isolation Forest\n",
        "X = df[\"EnergyConsumption\"].values.reshape(-1, 1)\n",
        "clf = IsolationForest(contamination=0.05, random_state=42)\n",
        "anomaly_labels = clf.fit_predict(X)\n",
        "\n",
        "# Add anomaly labels to the original dataset\n",
        "df[\"Anomaly\"] = anomaly_labels\n",
        "\n",
        "# Visualize the anomalies (optional)\n",
        "plt.scatter(df[\"Timestamp\"], df[\"EnergyConsumption\"], c=df[\"Anomaly\"], cmap='viridis')\n",
        "plt.xlabel('Time')\n",
        "plt.ylabel('Energy Consumption')\n",
        "plt.title('Energy Consumption Anomalies')\n",
        "plt.show()\n",
        "\n",
        "# Display the rows with anomalies\n",
        "anomalies = df[df[\"Anomaly\"] == -1]\n",
        "print(\"Detected anomalies:\")\n",
        "print(anomalies)\n"
      ],
      "metadata": {
        "colab": {
          "base_uri": "https://localhost:8080/",
          "height": 1000
        },
        "id": "qB3-IZagGjnW",
        "outputId": "f0a4ead0-3ce9-462e-e04f-13acc58aa2bb"
      },
      "execution_count": null,
      "outputs": [
        {
          "output_type": "display_data",
          "data": {
            "text/plain": [
              "<Figure size 640x480 with 1 Axes>"
            ],
            "image/png": "[encoded data removed]"
          },
          "metadata": {}
        },
        {
          "output_type": "display_data",
          "data": {
            "text/plain": [
              "<Figure size 640x480 with 1 Axes>"
            ],
            "image/png": "[encoded data removed]"
          },
          "metadata": {}
        },
        {
          "output_type": "stream",
          "name": "stdout",
          "text": [
            "Detected anomalies:\n",
            "              Timestamp  EnergyConsumption  Anomaly\n",
            "3   2023-01-01 03:00:00          72.408932       -1\n",
            "20  2023-01-01 20:00:00          24.470102       -1\n",
            "24  2023-01-02 00:00:00          72.697546       -1\n",
            "37  2023-01-02 13:00:00          92.023798       -1\n",
            "144 2023-01-07 00:00:00          73.831448       -1\n",
            "162 2023-01-07 18:00:00          89.494208       -1\n",
            "183 2023-01-08 15:00:00          27.765968       -1\n",
            "198 2023-01-09 06:00:00          71.632359       -1\n",
            "218 2023-01-10 02:00:00          72.593090       -1\n",
            "237 2023-01-10 21:00:00          29.300150       -1\n",
            "271 2023-01-12 07:00:00          22.274072       -1\n",
            "279 2023-01-12 15:00:00          70.644929       -1\n",
            "292 2023-01-13 04:00:00          73.039167       -1\n",
            "327 2023-01-14 15:00:00          72.567235       -1\n",
            "334 2023-01-14 22:00:00          23.408278       -1\n",
            "344 2023-01-15 08:00:00          75.590774       -1\n",
            "346 2023-01-15 10:00:00          76.353065       -1\n",
            "382 2023-01-16 22:00:00          27.444358       -1\n",
            "413 2023-01-18 05:00:00          77.665333       -1\n",
            "422 2023-01-18 14:00:00          29.053969       -1\n",
            "427 2023-01-18 19:00:00          22.603228       -1\n",
            "457 2023-01-20 01:00:00          27.985587       -1\n",
            "465 2023-01-20 09:00:00          74.124537       -1\n",
            "468 2023-01-20 12:00:00          27.113800       -1\n",
            "485 2023-01-21 05:00:00          23.443809       -1\n",
            "494 2023-01-21 14:00:00          76.962241       -1\n",
            "528 2023-01-23 00:00:00          26.304131       -1\n",
            "530 2023-01-23 02:00:00          27.603959       -1\n",
            "547 2023-01-23 19:00:00          24.408153       -1\n",
            "556 2023-01-24 04:00:00          26.358262       -1\n",
            "589 2023-01-25 13:00:00          19.538569       -1\n",
            "651 2023-01-28 03:00:00          26.794057       -1\n",
            "685 2023-01-29 13:00:00          21.654455       -1\n",
            "686 2023-01-29 14:00:00          71.167910       -1\n",
            "689 2023-01-29 17:00:00          73.807454       -1\n"
          ]
        }
      ]
    },
    {
      "cell_type": "code",
      "source": [],
      "metadata": {
        "id": "-Gxa6ixPGjqv"
      },
      "execution_count": null,
      "outputs": []
    },
    {
      "cell_type": "code",
      "source": [
        "#(8)Problem: Control the lighting in a smart home based on the presence of people."
      ],
      "metadata": {
        "id": "umwIZ8HfGgMH"
      },
      "execution_count": null,
      "outputs": []
    },
    {
      "cell_type": "code",
      "source": [
        "import pandas as pd\n",
        "import random\n",
        "import time\n",
        "\n",
        "# Generate a simplified dataset\n",
        "data = {\n",
        "    'Room': ['Living Room', 'Kitchen', 'Bedroom', 'Bathroom'],\n",
        "    'Light_Status': ['off'] * 4,\n",
        "    'Presence': [random.choice([0, 1]) for _ in range(4)]\n",
        "}\n",
        "\n",
        "# Create a DataFrame\n",
        "df = pd.DataFrame(data)\n",
        "\n",
        "# Define a function to control lights based on presence with accuracy factor\n",
        "def control_lights(room, light_status, presence, accuracy_factor=0.9):\n",
        "    if presence == 1 and light_status == 'off':\n",
        "        print(f\"Attempting to turn on the light in the {room}...\")\n",
        "        # Simulate the possibility of the action failing due to accuracy factor\n",
        "        if random.uniform(0, 1) <= accuracy_factor:\n",
        "            print(f\"Turning on the light in the {room}.\")\n",
        "            # Add your code here to control the lights (e.g., set the Light_Status to 'on')\n",
        "            # You can use APIs or GPIO control for actual hardware\n",
        "            time.sleep(1)  # Simulate the time it takes to turn on the light\n",
        "            return 'on'\n",
        "        else:\n",
        "            print(f\"Failed to turn on the light in the {room}.\")\n",
        "            return 'off'\n",
        "\n",
        "    elif presence == 0 and light_status == 'on':\n",
        "        print(f\"Attempting to turn off the light in the {room}...\")\n",
        "        # Simulate the possibility of the action failing due to accuracy factor\n",
        "        if random.uniform(0, 1) <= accuracy_factor:\n",
        "            print(f\"Turning off the light in the {room}.\")\n",
        "            # Add your code here to control the lights (e.g., set the Light_Status to 'off')\n",
        "            # You can use APIs or GPIO control for actual hardware\n",
        "            time.sleep(1)  # Simulate the time it takes to turn off the light\n",
        "            return 'off'\n",
        "        else:\n",
        "            print(f\"Failed to turn off the light in the {room}.\")\n",
        "            return 'on'\n",
        "\n",
        "    else:\n",
        "        print(f\"No action needed for the light in the {room}.\")\n",
        "        return light_status\n",
        "\n",
        "# Simulate controlling lights based on presence with accuracy factor\n",
        "for index, row in df.iterrows():\n",
        "    room = row['Room']\n",
        "    light_status = row['Light_Status']\n",
        "    presence = row['Presence']\n",
        "\n",
        "    new_light_status = control_lights(room, light_status, presence)\n",
        "\n",
        "    # Update the Light_Status in the DataFrame\n",
        "    df.at[index, 'Light_Status'] = new_light_status\n",
        "\n",
        "# Save the updated dataset to a CSV file\n",
        "df.to_csv('smart_home_dataset_updated_with_accuracy.csv', index=False)\n"
      ],
      "metadata": {
        "id": "qgolz3bUGvnZ",
        "outputId": "d54a8851-7e6c-49c8-e440-242ad136b2f0",
        "colab": {
          "base_uri": "https://localhost:8080/"
        }
      },
      "execution_count": null,
      "outputs": [
        {
          "output_type": "stream",
          "name": "stdout",
          "text": [
            "Attempting to turn on the light in the Living Room...\n",
            "Turning on the light in the Living Room.\n",
            "No action needed for the light in the Kitchen.\n",
            "No action needed for the light in the Bedroom.\n",
            "No action needed for the light in the Bathroom.\n"
          ]
        }
      ]
    },
    {
      "cell_type": "code",
      "source": [],
      "metadata": {
        "id": "WhIrNvBhGvqo"
      },
      "execution_count": null,
      "outputs": []
    },
    {
      "cell_type": "code",
      "source": [
        "#(9)getting the temperature for a specific zone"
      ],
      "metadata": {
        "id": "lCLYkopkTCYW"
      },
      "execution_count": null,
      "outputs": []
    },
    {
      "cell_type": "code",
      "source": [
        "import csv\n",
        "import random\n",
        "import os\n",
        "\n",
        "# Define the file path to your dataset file (update with the correct path)\n",
        "file_path = 'dataset.csv'\n",
        "\n",
        "# Function to read the dataset from the CSV file\n",
        "def read_dataset(file_path):\n",
        "    data = []\n",
        "    try:\n",
        "        with open(file_path, 'r') as csvfile:\n",
        "            read_csv = csv.reader(csvfile)\n",
        "            data = list(read_csv)\n",
        "    except FileNotFoundError:\n",
        "        print(f\"Error: '{file_path}' not found. Please check the file path.\")\n",
        "    return data\n",
        "\n",
        "# Get the current time (you can use this if needed)\n",
        "current_time = '2023-09-09 20:21:08 PST'\n",
        "\n",
        "# Define a function to get the temperature setting for a given zone\n",
        "def get_temperature_setting(zone, data):\n",
        "    for row in data:\n",
        "        if row[1] == zone:\n",
        "            temperature_setting = row[2]\n",
        "            return temperature_setting\n",
        "    return random.randint(65, 75)\n",
        "\n",
        "# Define a function to set the temperature setting for a given zone (you can implement this if needed)\n",
        "def set_temperature_setting(zone, temperature_setting):\n",
        "    # Implement your logic to set the temperature setting here\n",
        "    print(f\"Setting temperature for {zone} to {temperature_setting}.\")\n",
        "\n",
        "# Define a function to adjust the temperature setting for a given zone\n",
        "def adjust_temperature_setting(zone, temperature_setting, data):\n",
        "    current_temperature_setting = get_temperature_setting(zone, data)\n",
        "    if temperature_setting != current_temperature_setting:\n",
        "        set_temperature_setting(zone, temperature_setting)\n",
        "\n",
        "# Read the dataset from the CSV file\n",
        "data = read_dataset(file_path)\n",
        "\n",
        "if data:\n",
        "    # Get the zone from the user\n",
        "    zone = input('Enter the zone: ')\n",
        "\n",
        "    # Get the temperature setting from the user\n",
        "    temperature_setting = int(input('Enter the temperature setting: '))\n",
        "\n",
        "    # Adjust the temperature setting for the zone\n",
        "    adjust_temperature_setting(zone, temperature_setting, data)\n"
      ],
      "metadata": {
        "colab": {
          "base_uri": "https://localhost:8080/"
        },
        "id": "DGuvP9_GTAhX",
        "outputId": "71a796f0-f795-4413-9796-1d33410c7996"
      },
      "execution_count": null,
      "outputs": [
        {
          "output_type": "stream",
          "name": "stdout",
          "text": [
            "Enter the zone: bedroom\n",
            "Enter the temperature setting: 25\n",
            "Setting temperature for bedroom to 25.\n"
          ]
        }
      ]
    },
    {
      "cell_type": "code",
      "source": [],
      "metadata": {
        "id": "TUsH_TMblT0L"
      },
      "execution_count": null,
      "outputs": []
    },
    {
      "cell_type": "code",
      "source": [
        "#(10)Model for training of  solving a multi-label text classification problem by categorizing sentences into three different labels: \"Category,\" \"Action,\" and \"Time.\""
      ],
      "metadata": {
        "id": "zLHfOKlrTAtW"
      },
      "execution_count": null,
      "outputs": []
    },
    {
      "cell_type": "code",
      "source": [
        "import pandas as pd\n",
        "from sklearn.model_selection import train_test_split\n",
        "from sklearn.feature_extraction.text import TfidfVectorizer\n",
        "from sklearn.preprocessing import LabelEncoder\n",
        "from sklearn.naive_bayes import MultinomialNB\n",
        "from sklearn.metrics import accuracy_score, classification_report\n",
        "\n",
        "# Load the dataset\n",
        "data = pd.read_csv(\"dataset.csv\")\n",
        "\n",
        "# Preprocessing: Tokenization, TF-IDF Vectorization\n",
        "tfidf_vectorizer = TfidfVectorizer(stop_words='english')\n",
        "X = tfidf_vectorizer.fit_transform(data['Sentence'])\n",
        "y_category = data['Category']\n",
        "y_action = data['Action']\n",
        "y_time = data['Time']\n",
        "\n",
        "# Encode categorical variables\n",
        "label_encoder = LabelEncoder()\n",
        "y_category_encoded = label_encoder.fit_transform(y_category)\n",
        "y_action_encoded = label_encoder.fit_transform(y_action)\n",
        "y_time_encoded = label_encoder.fit_transform(y_time)\n",
        "\n",
        "# Split the dataset into training and testing sets\n",
        "X_train, X_test, y_cat_train, y_cat_test, y_act_train, y_act_test, y_time_train, y_time_test = train_test_split(\n",
        "    X, y_category_encoded, y_action_encoded, y_time_encoded, test_size=0.2, random_state=42\n",
        ")\n",
        "\n",
        "# Build and train models (Multinomial Naive Bayes in this example)\n",
        "category_model = MultinomialNB()\n",
        "category_model.fit(X_train, y_cat_train)\n",
        "\n",
        "action_model = MultinomialNB()\n",
        "action_model.fit(X_train, y_act_train)\n",
        "\n",
        "time_model = MultinomialNB()\n",
        "time_model.fit(X_train, y_time_train)\n",
        "\n",
        "# Evaluate models\n",
        "y_cat_pred = category_model.predict(X_test)\n",
        "y_act_pred = action_model.predict(X_test)\n",
        "y_time_pred = time_model.predict(X_test)\n",
        "\n",
        "# Calculate accuracy\n",
        "cat_accuracy = accuracy_score(y_cat_test, y_cat_pred)\n",
        "act_accuracy = accuracy_score(y_act_test, y_act_pred)\n",
        "time_accuracy = accuracy_score(y_time_test, y_time_pred)\n",
        "\n",
        "# Print results\n",
        "print(\"Category Classification Accuracy:\", cat_accuracy)\n",
        "print(\"Action Classification Accuracy:\", act_accuracy)\n",
        "print(\"Time Classification Accuracy:\", time_accuracy)\n",
        "\n",
        "# You can now use these models for inference based on user input sentences.\n"
      ],
      "metadata": {
        "colab": {
          "base_uri": "https://localhost:8080/"
        },
        "id": "BPwuRoA2ZqmG",
        "outputId": "7c3bf4c5-43f1-4c44-8765-ebb977154575"
      },
      "execution_count": null,
      "outputs": [
        {
          "output_type": "stream",
          "name": "stdout",
          "text": [
            "Category Classification Accuracy: 0.7518796992481203\n",
            "Action Classification Accuracy: 0.7894736842105263\n",
            "Time Classification Accuracy: 0.6240601503759399\n"
          ]
        }
      ]
    },
    {
      "cell_type": "code",
      "source": [
        "pip install SpeechRecognition\n"
      ],
      "metadata": {
        "colab": {
          "base_uri": "https://localhost:8080/"
        },
        "id": "0-JCxPCRulcH",
        "outputId": "bce7ce0a-0a39-47a0-a5d7-61f2fe1d18fe"
      },
      "execution_count": null,
      "outputs": [
        {
          "output_type": "stream",
          "name": "stdout",
          "text": [
            "Collecting SpeechRecognition\n",
            "  Downloading SpeechRecognition-3.10.0-py2.py3-none-any.whl (32.8 MB)\n",
            "\u001b[2K     \u001b[90m━━━━━━━━━━━━━━━━━━━━━━━━━━━━━━━━━━━━━━━━\u001b[0m \u001b[32m32.8/32.8 MB\u001b[0m \u001b[31m26.9 MB/s\u001b[0m eta \u001b[36m0:00:00\u001b[0m\n",
            "\u001b[?25hRequirement already satisfied: requests>=2.26.0 in /usr/local/lib/python3.10/dist-packages (from SpeechRecognition) (2.31.0)\n",
            "Requirement already satisfied: charset-normalizer<4,>=2 in /usr/local/lib/python3.10/dist-packages (from requests>=2.26.0->SpeechRecognition) (3.2.0)\n",
            "Requirement already satisfied: idna<4,>=2.5 in /usr/local/lib/python3.10/dist-packages (from requests>=2.26.0->SpeechRecognition) (3.4)\n",
            "Requirement already satisfied: urllib3<3,>=1.21.1 in /usr/local/lib/python3.10/dist-packages (from requests>=2.26.0->SpeechRecognition) (2.0.4)\n",
            "Requirement already satisfied: certifi>=2017.4.17 in /usr/local/lib/python3.10/dist-packages (from requests>=2.26.0->SpeechRecognition) (2023.7.22)\n",
            "Installing collected packages: SpeechRecognition\n",
            "Successfully installed SpeechRecognition-3.10.0\n",
            "\u001b[33mWARNING: Running pip as the 'root' user can result in broken permissions and conflicting behaviour with the system package manager. It is recommended to use a virtual environment instead: https://pip.pypa.io/warnings/venv\u001b[0m\u001b[33m\n",
            "\u001b[0m"
          ]
        }
      ]
    },
    {
      "cell_type": "code",
      "source": [
        "import speech_recognition as sr\n",
        "\n",
        "# Initialize the recognizer\n",
        "recognizer = sr.Recognizer()\n",
        "\n",
        "# Function to control home systems\n",
        "def control_home_systems():\n",
        "    print(\"Listening for a command...\")\n",
        "    with sr.Microphone() as source:\n",
        "        try:\n",
        "            audio = recognizer.listen(source, timeout=10)\n",
        "            command = recognizer.recognize_google(audio)\n",
        "\n",
        "            # Process the user command using the ML models\n",
        "            # For example, predict the category, action, and time from the command\n",
        "\n",
        "            # Implement actions based on the predictions\n",
        "            print(\"User command:\", command)\n",
        "\n",
        "        except sr.WaitTimeoutError:\n",
        "            print(\"No command detected. Please try again.\")\n",
        "\n",
        "if __name__ == \"__main__\":\n",
        "    while True:\n",
        "        control_home_systems()\n"
      ],
      "metadata": {
        "colab": {
          "base_uri": "https://localhost:8080/",
          "height": 460
        },
        "id": "Leuc4hNdulp3",
        "outputId": "50f5dae1-996c-42c0-e92e-f7e284a2ecb5"
      },
      "execution_count": null,
      "outputs": [
        {
          "output_type": "stream",
          "name": "stdout",
          "text": [
            "Listening for a command...\n"
          ]
        },
        {
          "output_type": "error",
          "ename": "AttributeError",
          "evalue": "ignored",
          "traceback": [
            "\u001b[0;31m---------------------------------------------------------------------------\u001b[0m",
            "\u001b[0;31mModuleNotFoundError\u001b[0m                       Traceback (most recent call last)",
            "\u001b[0;32m/usr/local/lib/python3.10/dist-packages/speech_recognition/__init__.py\u001b[0m in \u001b[0;36mget_pyaudio\u001b[0;34m()\u001b[0m\n\u001b[1;32m    107\u001b[0m         \u001b[0;32mtry\u001b[0m\u001b[0;34m:\u001b[0m\u001b[0;34m\u001b[0m\u001b[0;34m\u001b[0m\u001b[0m\n\u001b[0;32m--> 108\u001b[0;31m             \u001b[0;32mimport\u001b[0m \u001b[0mpyaudio\u001b[0m\u001b[0;34m\u001b[0m\u001b[0;34m\u001b[0m\u001b[0m\n\u001b[0m\u001b[1;32m    109\u001b[0m         \u001b[0;32mexcept\u001b[0m \u001b[0mImportError\u001b[0m\u001b[0;34m:\u001b[0m\u001b[0;34m\u001b[0m\u001b[0;34m\u001b[0m\u001b[0m\n",
            "\u001b[0;31mModuleNotFoundError\u001b[0m: No module named 'pyaudio'",
            "\nDuring handling of the above exception, another exception occurred:\n",
            "\u001b[0;31mAttributeError\u001b[0m                            Traceback (most recent call last)",
            "\u001b[0;32m<ipython-input-38-2448d2122a67>\u001b[0m in \u001b[0;36m<cell line: 23>\u001b[0;34m()\u001b[0m\n\u001b[1;32m     23\u001b[0m \u001b[0;32mif\u001b[0m \u001b[0m__name__\u001b[0m \u001b[0;34m==\u001b[0m \u001b[0;34m\"__main__\"\u001b[0m\u001b[0;34m:\u001b[0m\u001b[0;34m\u001b[0m\u001b[0;34m\u001b[0m\u001b[0m\n\u001b[1;32m     24\u001b[0m     \u001b[0;32mwhile\u001b[0m \u001b[0;32mTrue\u001b[0m\u001b[0;34m:\u001b[0m\u001b[0;34m\u001b[0m\u001b[0;34m\u001b[0m\u001b[0m\n\u001b[0;32m---> 25\u001b[0;31m         \u001b[0mcontrol_home_systems\u001b[0m\u001b[0;34m(\u001b[0m\u001b[0;34m)\u001b[0m\u001b[0;34m\u001b[0m\u001b[0;34m\u001b[0m\u001b[0m\n\u001b[0m",
            "\u001b[0;32m<ipython-input-38-2448d2122a67>\u001b[0m in \u001b[0;36mcontrol_home_systems\u001b[0;34m()\u001b[0m\n\u001b[1;32m      7\u001b[0m \u001b[0;32mdef\u001b[0m \u001b[0mcontrol_home_systems\u001b[0m\u001b[0;34m(\u001b[0m\u001b[0;34m)\u001b[0m\u001b[0;34m:\u001b[0m\u001b[0;34m\u001b[0m\u001b[0;34m\u001b[0m\u001b[0m\n\u001b[1;32m      8\u001b[0m     \u001b[0mprint\u001b[0m\u001b[0;34m(\u001b[0m\u001b[0;34m\"Listening for a command...\"\u001b[0m\u001b[0;34m)\u001b[0m\u001b[0;34m\u001b[0m\u001b[0;34m\u001b[0m\u001b[0m\n\u001b[0;32m----> 9\u001b[0;31m     \u001b[0;32mwith\u001b[0m \u001b[0msr\u001b[0m\u001b[0;34m.\u001b[0m\u001b[0mMicrophone\u001b[0m\u001b[0;34m(\u001b[0m\u001b[0;34m)\u001b[0m \u001b[0;32mas\u001b[0m \u001b[0msource\u001b[0m\u001b[0;34m:\u001b[0m\u001b[0;34m\u001b[0m\u001b[0;34m\u001b[0m\u001b[0m\n\u001b[0m\u001b[1;32m     10\u001b[0m         \u001b[0;32mtry\u001b[0m\u001b[0;34m:\u001b[0m\u001b[0;34m\u001b[0m\u001b[0;34m\u001b[0m\u001b[0m\n\u001b[1;32m     11\u001b[0m             \u001b[0maudio\u001b[0m \u001b[0;34m=\u001b[0m \u001b[0mrecognizer\u001b[0m\u001b[0;34m.\u001b[0m\u001b[0mlisten\u001b[0m\u001b[0;34m(\u001b[0m\u001b[0msource\u001b[0m\u001b[0;34m,\u001b[0m \u001b[0mtimeout\u001b[0m\u001b[0;34m=\u001b[0m\u001b[0;36m10\u001b[0m\u001b[0;34m)\u001b[0m\u001b[0;34m\u001b[0m\u001b[0;34m\u001b[0m\u001b[0m\n",
            "\u001b[0;32m/usr/local/lib/python3.10/dist-packages/speech_recognition/__init__.py\u001b[0m in \u001b[0;36m__init__\u001b[0;34m(self, device_index, sample_rate, chunk_size)\u001b[0m\n\u001b[1;32m     78\u001b[0m \u001b[0;34m\u001b[0m\u001b[0m\n\u001b[1;32m     79\u001b[0m         \u001b[0;31m# set up PyAudio\u001b[0m\u001b[0;34m\u001b[0m\u001b[0;34m\u001b[0m\u001b[0m\n\u001b[0;32m---> 80\u001b[0;31m         \u001b[0mself\u001b[0m\u001b[0;34m.\u001b[0m\u001b[0mpyaudio_module\u001b[0m \u001b[0;34m=\u001b[0m \u001b[0mself\u001b[0m\u001b[0;34m.\u001b[0m\u001b[0mget_pyaudio\u001b[0m\u001b[0;34m(\u001b[0m\u001b[0;34m)\u001b[0m\u001b[0;34m\u001b[0m\u001b[0;34m\u001b[0m\u001b[0m\n\u001b[0m\u001b[1;32m     81\u001b[0m         \u001b[0maudio\u001b[0m \u001b[0;34m=\u001b[0m \u001b[0mself\u001b[0m\u001b[0;34m.\u001b[0m\u001b[0mpyaudio_module\u001b[0m\u001b[0;34m.\u001b[0m\u001b[0mPyAudio\u001b[0m\u001b[0;34m(\u001b[0m\u001b[0;34m)\u001b[0m\u001b[0;34m\u001b[0m\u001b[0;34m\u001b[0m\u001b[0m\n\u001b[1;32m     82\u001b[0m         \u001b[0;32mtry\u001b[0m\u001b[0;34m:\u001b[0m\u001b[0;34m\u001b[0m\u001b[0;34m\u001b[0m\u001b[0m\n",
            "\u001b[0;32m/usr/local/lib/python3.10/dist-packages/speech_recognition/__init__.py\u001b[0m in \u001b[0;36mget_pyaudio\u001b[0;34m()\u001b[0m\n\u001b[1;32m    108\u001b[0m             \u001b[0;32mimport\u001b[0m \u001b[0mpyaudio\u001b[0m\u001b[0;34m\u001b[0m\u001b[0;34m\u001b[0m\u001b[0m\n\u001b[1;32m    109\u001b[0m         \u001b[0;32mexcept\u001b[0m \u001b[0mImportError\u001b[0m\u001b[0;34m:\u001b[0m\u001b[0;34m\u001b[0m\u001b[0;34m\u001b[0m\u001b[0m\n\u001b[0;32m--> 110\u001b[0;31m             \u001b[0;32mraise\u001b[0m \u001b[0mAttributeError\u001b[0m\u001b[0;34m(\u001b[0m\u001b[0;34m\"Could not find PyAudio; check installation\"\u001b[0m\u001b[0;34m)\u001b[0m\u001b[0;34m\u001b[0m\u001b[0;34m\u001b[0m\u001b[0m\n\u001b[0m\u001b[1;32m    111\u001b[0m         \u001b[0;32mfrom\u001b[0m \u001b[0mdistutils\u001b[0m\u001b[0;34m.\u001b[0m\u001b[0mversion\u001b[0m \u001b[0;32mimport\u001b[0m \u001b[0mLooseVersion\u001b[0m\u001b[0;34m\u001b[0m\u001b[0;34m\u001b[0m\u001b[0m\n\u001b[1;32m    112\u001b[0m         \u001b[0;32mif\u001b[0m \u001b[0mLooseVersion\u001b[0m\u001b[0;34m(\u001b[0m\u001b[0mpyaudio\u001b[0m\u001b[0;34m.\u001b[0m\u001b[0m__version__\u001b[0m\u001b[0;34m)\u001b[0m \u001b[0;34m<\u001b[0m \u001b[0mLooseVersion\u001b[0m\u001b[0;34m(\u001b[0m\u001b[0;34m\"0.2.11\"\u001b[0m\u001b[0;34m)\u001b[0m\u001b[0;34m:\u001b[0m\u001b[0;34m\u001b[0m\u001b[0;34m\u001b[0m\u001b[0m\n",
            "\u001b[0;31mAttributeError\u001b[0m: Could not find PyAudio; check installation"
          ]
        }
      ]
    },
    {
      "cell_type": "code",
      "source": [],
      "metadata": {
        "id": "BSGj4ccVZqsL"
      },
      "execution_count": null,
      "outputs": []
    },
    {
      "cell_type": "code",
      "source": [
        "import pandas as pd\n",
        "from sklearn.model_selection import train_test_split\n",
        "from sklearn.ensemble import RandomForestClassifier\n",
        "from sklearn.preprocessing import LabelEncoder\n",
        "from sklearn.metrics import accuracy_score\n",
        "\n",
        "# Load the dataset\n",
        "data = pd.read_csv('dataset.csv')  # Replace 'your_dataset.csv' with your dataset file\n",
        "\n",
        "# Prepare the data\n",
        "X = data[['Category', 'Subcategory', 'Time']]\n",
        "y = data['Action']\n",
        "\n",
        "# Encode categorical features\n",
        "label_encoders = {}\n",
        "for col in X.columns:\n",
        "    label_encoders[col] = LabelEncoder()\n",
        "    X[col] = label_encoders[col].fit_transform(X[col])\n",
        "\n",
        "# Split the data into training and testing sets\n",
        "X_train, X_test, y_train, y_test = train_test_split(X, y, test_size=0.2, random_state=42)\n",
        "\n",
        "# Train a Random Forest Classifier\n",
        "clf = RandomForestClassifier(n_estimators=100, random_state=42)\n",
        "clf.fit(X_train, y_train)\n",
        "\n",
        "# Now you can use the trained model to predict lighting control actions for new scenarios:\n",
        "new_scenario = pd.DataFrame({'Category': ['lights'], 'Subcategory': ['kitchen'], 'Time': ['today']})\n",
        "\n",
        "# Encode the new scenario data using the same label encoders\n",
        "for col in new_scenario.columns:\n",
        "    if col in label_encoders:\n",
        "        new_scenario[col] = label_encoders[col].transform(new_scenario[col])\n",
        "\n",
        "predicted_action = clf.predict(new_scenario)\n",
        "print(f\"Predicted Action: {predicted_action[0]}\")\n"
      ],
      "metadata": {
        "colab": {
          "base_uri": "https://localhost:8080/"
        },
        "id": "5SOVLFgOTDiS",
        "outputId": "8ab3f082-77da-4571-926d-1fa86596ebc3"
      },
      "execution_count": null,
      "outputs": [
        {
          "output_type": "stream",
          "name": "stdout",
          "text": [
            "Predicted Action: on\n"
          ]
        },
        {
          "output_type": "stream",
          "name": "stderr",
          "text": [
            "<ipython-input-35-e48bf385f0fc>:18: SettingWithCopyWarning: \n",
            "A value is trying to be set on a copy of a slice from a DataFrame.\n",
            "Try using .loc[row_indexer,col_indexer] = value instead\n",
            "\n",
            "See the caveats in the documentation: https://pandas.pydata.org/pandas-docs/stable/user_guide/indexing.html#returning-a-view-versus-a-copy\n",
            "  X[col] = label_encoders[col].fit_transform(X[col])\n",
            "<ipython-input-35-e48bf385f0fc>:18: SettingWithCopyWarning: \n",
            "A value is trying to be set on a copy of a slice from a DataFrame.\n",
            "Try using .loc[row_indexer,col_indexer] = value instead\n",
            "\n",
            "See the caveats in the documentation: https://pandas.pydata.org/pandas-docs/stable/user_guide/indexing.html#returning-a-view-versus-a-copy\n",
            "  X[col] = label_encoders[col].fit_transform(X[col])\n",
            "<ipython-input-35-e48bf385f0fc>:18: SettingWithCopyWarning: \n",
            "A value is trying to be set on a copy of a slice from a DataFrame.\n",
            "Try using .loc[row_indexer,col_indexer] = value instead\n",
            "\n",
            "See the caveats in the documentation: https://pandas.pydata.org/pandas-docs/stable/user_guide/indexing.html#returning-a-view-versus-a-copy\n",
            "  X[col] = label_encoders[col].fit_transform(X[col])\n"
          ]
        }
      ]
    },
    {
      "cell_type": "code",
      "source": [],
      "metadata": {
        "id": "tZt8SkwXs6qB"
      },
      "execution_count": null,
      "outputs": []
    },
    {
      "cell_type": "code",
      "source": [
        "!pip install tpot\n"
      ],
      "metadata": {
        "colab": {
          "base_uri": "https://localhost:8080/"
        },
        "id": "uwUXd9UN8R-y",
        "outputId": "27f9bf28-848d-43da-c6ce-9c55724235e0"
      },
      "execution_count": null,
      "outputs": [
        {
          "output_type": "stream",
          "name": "stdout",
          "text": [
            "Collecting tpot\n",
            "  Obtaining dependency information for tpot from https://files.pythonhosted.org/packages/7b/a7/0060d028906ecd058b1331c3ce6f3f19ba03464b21dc9abbbaf66b0a1091/TPOT-0.12.1-py3-none-any.whl.metadata\n",
            "  Downloading TPOT-0.12.1-py3-none-any.whl.metadata (2.0 kB)\n",
            "Requirement already satisfied: numpy>=1.16.3 in /usr/local/lib/python3.10/dist-packages (from tpot) (1.23.5)\n",
            "Requirement already satisfied: scipy>=1.3.1 in /usr/local/lib/python3.10/dist-packages (from tpot) (1.10.1)\n",
            "Requirement already satisfied: scikit-learn>=0.22.0 in /usr/local/lib/python3.10/dist-packages (from tpot) (1.2.2)\n",
            "Collecting deap>=1.2 (from tpot)\n",
            "  Obtaining dependency information for deap>=1.2 from https://files.pythonhosted.org/packages/2e/c9/db3d645fdcd9054f484c5b582c3b6b0a2a34270e54edca9dde47661db251/deap-1.4.1-cp310-cp310-manylinux_2_5_x86_64.manylinux1_x86_64.manylinux_2_17_x86_64.manylinux2014_x86_64.whl.metadata\n",
            "  Downloading deap-1.4.1-cp310-cp310-manylinux_2_5_x86_64.manylinux1_x86_64.manylinux_2_17_x86_64.manylinux2014_x86_64.whl.metadata (13 kB)\n",
            "Collecting update-checker>=0.16 (from tpot)\n",
            "  Downloading update_checker-0.18.0-py3-none-any.whl (7.0 kB)\n",
            "Requirement already satisfied: tqdm>=4.36.1 in /usr/local/lib/python3.10/dist-packages (from tpot) (4.66.1)\n",
            "Collecting stopit>=1.1.1 (from tpot)\n",
            "  Downloading stopit-1.1.2.tar.gz (18 kB)\n",
            "  Preparing metadata (setup.py) ... \u001b[?25l\u001b[?25hdone\n",
            "Requirement already satisfied: pandas>=0.24.2 in /usr/local/lib/python3.10/dist-packages (from tpot) (1.5.3)\n",
            "Requirement already satisfied: joblib>=0.13.2 in /usr/local/lib/python3.10/dist-packages (from tpot) (1.3.2)\n",
            "Requirement already satisfied: xgboost>=1.1.0 in /usr/local/lib/python3.10/dist-packages (from tpot) (1.7.6)\n",
            "Requirement already satisfied: python-dateutil>=2.8.1 in /usr/local/lib/python3.10/dist-packages (from pandas>=0.24.2->tpot) (2.8.2)\n",
            "Requirement already satisfied: pytz>=2020.1 in /usr/local/lib/python3.10/dist-packages (from pandas>=0.24.2->tpot) (2023.3.post1)\n",
            "Requirement already satisfied: threadpoolctl>=2.0.0 in /usr/local/lib/python3.10/dist-packages (from scikit-learn>=0.22.0->tpot) (3.2.0)\n",
            "Requirement already satisfied: requests>=2.3.0 in /usr/local/lib/python3.10/dist-packages (from update-checker>=0.16->tpot) (2.31.0)\n",
            "Requirement already satisfied: six>=1.5 in /usr/local/lib/python3.10/dist-packages (from python-dateutil>=2.8.1->pandas>=0.24.2->tpot) (1.16.0)\n",
            "Requirement already satisfied: charset-normalizer<4,>=2 in /usr/local/lib/python3.10/dist-packages (from requests>=2.3.0->update-checker>=0.16->tpot) (3.2.0)\n",
            "Requirement already satisfied: idna<4,>=2.5 in /usr/local/lib/python3.10/dist-packages (from requests>=2.3.0->update-checker>=0.16->tpot) (3.4)\n",
            "Requirement already satisfied: urllib3<3,>=1.21.1 in /usr/local/lib/python3.10/dist-packages (from requests>=2.3.0->update-checker>=0.16->tpot) (2.0.4)\n",
            "Requirement already satisfied: certifi>=2017.4.17 in /usr/local/lib/python3.10/dist-packages (from requests>=2.3.0->update-checker>=0.16->tpot) (2023.7.22)\n",
            "Downloading TPOT-0.12.1-py3-none-any.whl (87 kB)\n",
            "\u001b[2K   \u001b[90m━━━━━━━━━━━━━━━━━━━━━━━━━━━━━━━━━━━━━━━━\u001b[0m \u001b[32m87.4/87.4 kB\u001b[0m \u001b[31m5.6 MB/s\u001b[0m eta \u001b[36m0:00:00\u001b[0m\n",
            "\u001b[?25hDownloading deap-1.4.1-cp310-cp310-manylinux_2_5_x86_64.manylinux1_x86_64.manylinux_2_17_x86_64.manylinux2014_x86_64.whl (135 kB)\n",
            "\u001b[2K   \u001b[90m━━━━━━━━━━━━━━━━━━━━━━━━━━━━━━━━━━━━━━━━\u001b[0m \u001b[32m135.4/135.4 kB\u001b[0m \u001b[31m10.2 MB/s\u001b[0m eta \u001b[36m0:00:00\u001b[0m\n",
            "\u001b[?25hBuilding wheels for collected packages: stopit\n",
            "  Building wheel for stopit (setup.py) ... \u001b[?25l\u001b[?25hdone\n",
            "  Created wheel for stopit: filename=stopit-1.1.2-py3-none-any.whl size=11939 sha256=a406c61bfa87b458c06af3709338a112cab454c22b6e4b542ebcee8d4f805c04\n",
            "  Stored in directory: /root/.cache/pip/wheels/af/f9/87/bf5b3d565c2a007b4dae9d8142dccc85a9f164e517062dd519\n",
            "Successfully built stopit\n",
            "Installing collected packages: stopit, deap, update-checker, tpot\n",
            "Successfully installed deap-1.4.1 stopit-1.1.2 tpot-0.12.1 update-checker-0.18.0\n",
            "\u001b[33mWARNING: Running pip as the 'root' user can result in broken permissions and conflicting behaviour with the system package manager. It is recommended to use a virtual environment instead: https://pip.pypa.io/warnings/venv\u001b[0m\u001b[33m\n",
            "\u001b[0m"
          ]
        }
      ]
    },
    {
      "cell_type": "code",
      "source": [],
      "metadata": {
        "id": "vBVtED2aAsWo"
      },
      "execution_count": null,
      "outputs": []
    },
    {
      "cell_type": "code",
      "source": [
        "import pandas as pd\n",
        "from sklearn.model_selection import train_test_split\n",
        "from sklearn.linear_model import LinearRegression\n",
        "\n",
        "# Sample dataframe\n",
        "df = pd.DataFrame({\n",
        "  'date': ['1/1/2020','1/2/2020','1/3/2020'],\n",
        "  'temp': [68, 65, 67],\n",
        "  'humidity': [60, 55, 58],\n",
        "  'setpoint': [67, 64, 65]\n",
        "})\n",
        "\n",
        "# Split data into training and test sets\n",
        "X_train, X_test, y_train, y_test = train_test_split(df[['temp', 'humidity']], df['setpoint'], test_size=0.2)\n",
        "\n",
        "# Create and train model\n",
        "model = LinearRegression()\n",
        "model.fit(X_train, y_train)\n",
        "\n",
        "# Make predictions and score model\n",
        "y_pred = model.predict(X_test)\n",
        "from sklearn.metrics import r2_score\n",
        "print(r2_score(y_test, y_pred))\n",
        "\n",
        "# Function to predict optimal setpoint\n",
        "def predict_setpoint(temp, humidity):\n",
        "  input = [[temp, humidity]]\n",
        "  return model.predict(input)[0]\n",
        "\n",
        "# Get optimal setpoint for sample data\n",
        "temp = 65\n",
        "humidity = 58\n",
        "optimal = predict_setpoint(temp, humidity)\n",
        "print(\"Optimal Setpoint:\", optimal)"
      ],
      "metadata": {
        "colab": {
          "base_uri": "https://localhost:8080/"
        },
        "id": "8oBIZxQ6Asla",
        "outputId": "996d4d3f-e5b5-4810-8cc3-0248aca294db"
      },
      "execution_count": null,
      "outputs": [
        {
          "output_type": "stream",
          "name": "stdout",
          "text": [
            "nan\n",
            "Optimal Setpoint: 65.32352941176471\n"
          ]
        },
        {
          "output_type": "stream",
          "name": "stderr",
          "text": [
            "/usr/local/lib/python3.10/dist-packages/sklearn/metrics/_regression.py:918: UndefinedMetricWarning: R^2 score is not well-defined with less than two samples.\n",
            "  warnings.warn(msg, UndefinedMetricWarning)\n",
            "/usr/local/lib/python3.10/dist-packages/sklearn/base.py:439: UserWarning: X does not have valid feature names, but LinearRegression was fitted with feature names\n",
            "  warnings.warn(\n"
          ]
        }
      ]
    },
    {
      "cell_type": "code",
      "source": [],
      "metadata": {
        "id": "nx9_kOUSYOqs"
      },
      "execution_count": null,
      "outputs": []
    },
    {
      "cell_type": "code",
      "source": [
        "import pandas as pd\n",
        "from sklearn.model_selection import train_test_split\n",
        "from sklearn.feature_extraction.text import CountVectorizer\n",
        "from sklearn.naive_bayes import MultinomialNB\n",
        "from sklearn.metrics import accuracy_score, classification_report\n",
        "\n",
        "# Load the dataset\n",
        "data = pd.read_csv('dataset.csv')\n",
        "\n",
        "# Split the dataset into training and testing sets\n",
        "X = data['Sentence']\n",
        "y = data['Action']\n",
        "X_train, X_test, y_train, y_test = train_test_split(X, y, test_size=0.2, random_state=42)\n",
        "\n",
        "# Text vectorization using CountVectorizer\n",
        "vectorizer = CountVectorizer()\n",
        "X_train = vectorizer.fit_transform(X_train)\n",
        "X_test = vectorizer.transform(X_test)\n",
        "\n",
        "# Choose a machine learning model (Naive Bayes in this example)\n",
        "model = MultinomialNB()\n",
        "\n",
        "# Train the model\n",
        "model.fit(X_train, y_train)\n",
        "\n",
        "# Predict on the testing data\n",
        "y_pred = model.predict(X_test)\n",
        "\n",
        "# Evaluate the model\n",
        "accuracy = accuracy_score(y_test, y_pred)\n",
        "report = classification_report(y_test, y_pred)\n",
        "\n",
        "print(f'Accuracy: {accuracy}')\n",
        "print(report)\n"
      ],
      "metadata": {
        "colab": {
          "base_uri": "https://localhost:8080/"
        },
        "id": "Zlq91xO2TDxZ",
        "outputId": "d128a700-782a-42e2-9b9e-832cc93169f3"
      },
      "execution_count": null,
      "outputs": [
        {
          "output_type": "stream",
          "name": "stdout",
          "text": [
            "Accuracy: 0.8796992481203008\n",
            "              precision    recall  f1-score   support\n",
            "\n",
            "        down       0.60      0.60      0.60         5\n",
            "        none       0.96      0.91      0.93        75\n",
            "         off       0.79      0.88      0.83        17\n",
            "          on       0.81      0.86      0.83        29\n",
            "        open       0.83      1.00      0.91         5\n",
            "          up       1.00      0.50      0.67         2\n",
            "\n",
            "    accuracy                           0.88       133\n",
            "   macro avg       0.83      0.79      0.80       133\n",
            "weighted avg       0.89      0.88      0.88       133\n",
            "\n"
          ]
        }
      ]
    },
    {
      "cell_type": "code",
      "source": [],
      "metadata": {
        "id": "aVAaL8f0TD_a"
      },
      "execution_count": null,
      "outputs": []
    },
    {
      "cell_type": "code",
      "source": [
        "!pip install scikit-learn\n"
      ],
      "metadata": {
        "colab": {
          "base_uri": "https://localhost:8080/"
        },
        "id": "wsXk1EaLPv3j",
        "outputId": "8a3aa652-bc4e-4ab5-d555-ca46ebe80301"
      },
      "execution_count": null,
      "outputs": [
        {
          "output_type": "stream",
          "name": "stdout",
          "text": [
            "Requirement already satisfied: scikit-learn in /usr/local/lib/python3.10/dist-packages (1.2.2)\n",
            "Requirement already satisfied: numpy>=1.17.3 in /usr/local/lib/python3.10/dist-packages (from scikit-learn) (1.23.5)\n",
            "Requirement already satisfied: scipy>=1.3.2 in /usr/local/lib/python3.10/dist-packages (from scikit-learn) (1.10.1)\n",
            "Requirement already satisfied: joblib>=1.1.1 in /usr/local/lib/python3.10/dist-packages (from scikit-learn) (1.3.2)\n",
            "Requirement already satisfied: threadpoolctl>=2.0.0 in /usr/local/lib/python3.10/dist-packages (from scikit-learn) (3.2.0)\n"
          ]
        }
      ]
    },
    {
      "cell_type": "code",
      "source": [
        "import pandas as pd\n",
        "\n",
        "csv_filename = next(iter(uploaded))\n",
        "df = pd.read_csv(csv_filename)\n",
        "\n",
        "print(df.head())\n",
        "\n",
        "print(df.describe())\n",
        "\n",
        "print(df.columns)\n",
        "\n",
        "print(df.dtypes)\n",
        "\n",
        "print(df.isnull().sum())\n"
      ],
      "metadata": {
        "colab": {
          "base_uri": "https://localhost:8080/"
        },
        "id": "LXR4ksqkQHjd",
        "outputId": "9a3026e5-1d0a-4eac-fb30-c3630a394025"
      },
      "execution_count": null,
      "outputs": [
        {
          "output_type": "stream",
          "name": "stdout",
          "text": [
            "   Number Category  Action_needed  Question Subcategory Action      Time  \\\n",
            "0       1   lights              1         0     kitchen     on     today   \n",
            "1       2   lights              1         0     kitchen     on  tomorrow   \n",
            "2       3   lights              1         0     kitchen     on      hour   \n",
            "3       4   lights              1         0     kitchen     on       day   \n",
            "4       5   lights              1         0  diningroom     on     today   \n",
            "\n",
            "                                        Sentence  \n",
            "0                  Illuminate the kitchen today.  \n",
            "1               Illuminate the kitchen tomorrow.  \n",
            "2  Turn on the light in the kitchen in 10 hours.  \n",
            "3     Turn on the light in the kitchen in 1 day.  \n",
            "4              Illuminate the dining room today.  \n",
            "           Number  Action_needed    Question\n",
            "count  663.000000     663.000000  663.000000\n",
            "mean   332.000000       0.886878    0.552036\n",
            "std    191.535897       0.316981    0.497660\n",
            "min      1.000000       0.000000    0.000000\n",
            "25%    166.500000       1.000000    0.000000\n",
            "50%    332.000000       1.000000    1.000000\n",
            "75%    497.500000       1.000000    1.000000\n",
            "max    663.000000       1.000000    1.000000\n",
            "Index(['Number', 'Category', 'Action_needed', 'Question', 'Subcategory',\n",
            "       'Action', 'Time', 'Sentence'],\n",
            "      dtype='object')\n",
            "Number            int64\n",
            "Category         object\n",
            "Action_needed     int64\n",
            "Question          int64\n",
            "Subcategory      object\n",
            "Action           object\n",
            "Time             object\n",
            "Sentence         object\n",
            "dtype: object\n",
            "Number           0\n",
            "Category         0\n",
            "Action_needed    0\n",
            "Question         0\n",
            "Subcategory      0\n",
            "Action           0\n",
            "Time             0\n",
            "Sentence         0\n",
            "dtype: int64\n"
          ]
        }
      ]
    },
    {
      "cell_type": "markdown",
      "source": [
        "TASK 1: EDA (Exploratory Data Analysis)"
      ],
      "metadata": {
        "id": "LtQvorYdJ1V8"
      }
    },
    {
      "cell_type": "code",
      "source": [
        "\n",
        "import pandas as pd\n",
        "\n",
        "import matplotlib.pyplot as plt\n",
        "\n",
        "import seaborn as sns\n",
        "\n",
        "data = {\n",
        "    \"Number\": [1, 2, 3, 4, 5],\n",
        "    \"Category\": [\"lights\", \"lights\", \"lights\", \"lights\", \"lights\"],\n",
        "    \"Action_needed\": [1, 1, 1, 1, 1],\n",
        "    \"Question\": [0, 0, 0, 0, 0],\n",
        "    \"Subcategory\": [\"kitchen\", \"kitchen\", \"kitchen\", \"kitchen\", \"diningroom\"],\n",
        "    \"Action\": [\"on\", \"on\", \"on\", \"on\", \"on\"],\n",
        "    \"Time\": [\"today\", \"tomorrow\", \"hour\", \"day\", \"today\"],\n",
        "    \"Sentence\": [\n",
        "        \"Illuminate the kitchen today.\",\n",
        "        \"Illuminate the kitchen tomorrow.\",\n",
        "        \"Turn on the light in the kitchen in 10 hours.\",\n",
        "        \"Turn on the light in the kitchen in 1 day.\",\n",
        "        \"Illuminate the dining room today.\"\n",
        "    ]\n",
        "}\n",
        "\n",
        "df = pd.DataFrame(data)\n",
        "\n",
        "print(df.head())\n",
        "\n",
        "print(df.describe())\n",
        "\n",
        "corr_matrix = df.corr()\n",
        "plt.figure(figsize=(8, 6))\n",
        "sns.heatmap(corr_matrix, annot=True, cmap=\"coolwarm\", center=0)\n",
        "plt.title(\"Correlation Heatmap\")\n",
        "plt.show()\n",
        "\n",
        "plt.figure(figsize=(8, 6))\n",
        "sns.countplot(data=df, x=\"Category\")\n",
        "plt.title(\"Count of Categories\")\n",
        "plt.show()\n",
        "\n",
        "plt.figure(figsize=(8, 6))\n",
        "sns.countplot(data=df, x=\"Action\")\n",
        "plt.title(\"Count of Actions\")\n",
        "plt.show()\n",
        "\n",
        "sns.pairplot(df, hue=\"Action_needed\")\n",
        "plt.suptitle(\"Pairplot of Numerical Columns\", y=1.02)\n",
        "plt.show()\n"
      ],
      "metadata": {
        "colab": {
          "base_uri": "https://localhost:8080/",
          "height": 1000
        },
        "id": "4hloFFr1QRak",
        "outputId": "a807acab-83d3-438d-b667-1a44bea045eb"
      },
      "execution_count": null,
      "outputs": [
        {
          "output_type": "stream",
          "name": "stdout",
          "text": [
            "   Number Category  Action_needed  Question Subcategory Action      Time  \\\n",
            "0       1   lights              1         0     kitchen     on     today   \n",
            "1       2   lights              1         0     kitchen     on  tomorrow   \n",
            "2       3   lights              1         0     kitchen     on      hour   \n",
            "3       4   lights              1         0     kitchen     on       day   \n",
            "4       5   lights              1         0  diningroom     on     today   \n",
            "\n",
            "                                        Sentence  \n",
            "0                  Illuminate the kitchen today.  \n",
            "1               Illuminate the kitchen tomorrow.  \n",
            "2  Turn on the light in the kitchen in 10 hours.  \n",
            "3     Turn on the light in the kitchen in 1 day.  \n",
            "4              Illuminate the dining room today.  \n",
            "         Number  Action_needed  Question\n",
            "count  5.000000            5.0       5.0\n",
            "mean   3.000000            1.0       0.0\n",
            "std    1.581139            0.0       0.0\n",
            "min    1.000000            1.0       0.0\n",
            "25%    2.000000            1.0       0.0\n",
            "50%    3.000000            1.0       0.0\n",
            "75%    4.000000            1.0       0.0\n",
            "max    5.000000            1.0       0.0\n"
          ]
        },
        {
          "output_type": "stream",
          "name": "stderr",
          "text": [
            "<ipython-input-19-4687d8e73b48>:33: FutureWarning: The default value of numeric_only in DataFrame.corr is deprecated. In a future version, it will default to False. Select only valid columns or specify the value of numeric_only to silence this warning.\n",
            "  corr_matrix = df.corr()\n"
          ]
        },
        {
          "output_type": "display_data",
          "data": {
            "text/plain": [
              "<Figure size 800x600 with 2 Axes>"
            ],
            "image/png": "[encoded data removed]"
          },
          "metadata": {}
        },
        {
          "output_type": "display_data",
          "data": {
            "text/plain": [
              "<Figure size 800x600 with 1 Axes>"
            ],
            "image/png": "[encoded data removed]"
          },
          "metadata": {}
        },
        {
          "output_type": "display_data",
          "data": {
            "text/plain": [
              "<Figure size 800x600 with 1 Axes>"
            ],
            "image/png": "[encoded data removed]"
          },
          "metadata": {}
        },
        {
          "output_type": "display_data",
          "data": {
            "text/plain": [
              "<Figure size 613.611x500 with 6 Axes>"
            ],
            "image/png": "[encoded data removed]"
          },
          "metadata": {}
        }
      ]
    },
    {
      "cell_type": "markdown",
      "source": [
        "**The summary of the above EDA task performed is as follows          The dataset provides insights into actions and questions, likely related to home automation. It includes attributes like 'Number', 'Category', 'Action_needed', 'Question', 'Subcategory', 'Action', 'Time', and 'Sentence'. With 663 entries, each representing an action or question, the dataset serves as a glimpse into this domain.**"
      ],
      "metadata": {
        "id": "nL4LPtd5hSE_"
      }
    },
    {
      "cell_type": "markdown",
      "source": [
        "### Statement 1: Subcategory Insights and Necessity\n"
      ],
      "metadata": {
        "id": "CWHzLMn1nNNC"
      }
    },
    {
      "cell_type": "code",
      "source": [
        "import pandas as pd\n",
        "import matplotlib.pyplot as plt\n",
        "import seaborn as sns\n",
        "\n",
        "df = pd.read_csv('dataset.csv')\n",
        "\n",
        "\n",
        "plt.figure(figsize=(10, 6))\n",
        "sns.barplot(data=df, x='Subcategory', y='Action_needed')\n",
        "plt.title('Action Necessity by Subcategory')\n",
        "plt.xlabel('Subcategory')\n",
        "plt.ylabel('Mean Action Necessity')\n",
        "plt.xticks(rotation=45)\n",
        "plt.show()\n"
      ],
      "metadata": {
        "colab": {
          "base_uri": "https://localhost:8080/",
          "height": 616
        },
        "id": "5dPjOKI3nS0H",
        "outputId": "d1f1dbb6-d23e-4d3a-f079-61179f83fc89"
      },
      "execution_count": null,
      "outputs": [
        {
          "output_type": "display_data",
          "data": {
            "text/plain": [
              "<Figure size 1000x600 with 1 Axes>"
            ],
            "image/png": "[encoded data removed]"
          },
          "metadata": {}
        }
      ]
    },
    {
      "cell_type": "markdown",
      "source": [
        "summary of the above statement is that it shows us to Investigate the necessity of actions based on subcategories. Analyze whether certain subcategories tend to have a higher proportion of actions that are needed, and explore potential patterns or reasons for this variation.\n",
        "\n"
      ],
      "metadata": {
        "id": "2RM5BxH0ntUP"
      }
    },
    {
      "cell_type": "markdown",
      "source": [
        "# **Statement 2: Predicting Action Necessity**"
      ],
      "metadata": {
        "id": "iCT5pbAVoCOC"
      }
    },
    {
      "cell_type": "code",
      "source": [
        "from sklearn.model_selection import train_test_split\n",
        "from sklearn.ensemble import RandomForestClassifier\n",
        "from sklearn.metrics import accuracy_score\n",
        "\n",
        "df = pd.read_csv('dataset.csv')\n",
        "\n",
        "X = df[['Category', 'Subcategory', 'Time']]\n",
        "y = df['Action_needed']\n",
        "\n",
        "X = pd.get_dummies(X)\n",
        "\n",
        "X_train, X_test, y_train, y_test = train_test_split(X, y, test_size=0.2, random_state=42)\n",
        "\n",
        "clf = RandomForestClassifier(random_state=42)\n",
        "clf.fit(X_train, y_train)\n",
        "\n",
        "y_pred = clf.predict(X_test)\n",
        "accuracy = accuracy_score(y_test, y_pred)\n",
        "print(f'Accuracy: {accuracy:.2f}')\n"
      ],
      "metadata": {
        "colab": {
          "base_uri": "https://localhost:8080/"
        },
        "id": "UJGZLSPYoPna",
        "outputId": "766062db-2d1b-497f-f2fb-66ece1fdd227"
      },
      "execution_count": null,
      "outputs": [
        {
          "output_type": "stream",
          "name": "stdout",
          "text": [
            "Accuracy: 0.87\n"
          ]
        }
      ]
    },
    {
      "cell_type": "markdown",
      "source": [
        "the summary of the above statement is to build a predictive model to determine whether an action is needed based on attributes such as 'Category', 'Subcategory', and 'Time'. Utilize machine learning algorithms to predict the likelihood of an action being necessary and investigate which features contribute the most to this prediction."
      ],
      "metadata": {
        "id": "I8EEoOwBonIS"
      }
    },
    {
      "cell_type": "markdown",
      "source": [
        "\n",
        "\n",
        "```\n",
        "\n",
        "```\n",
        "\n",
        "##  Statement 3: Analyzing Action and Question Distribution"
      ],
      "metadata": {
        "id": "DQIdDtaDpMUL"
      }
    },
    {
      "cell_type": "code",
      "source": [
        "import pandas as pd\n",
        "import matplotlib.pyplot as plt\n",
        "import seaborn as sns\n",
        "\n",
        "# Load the dataset (replace 'your_dataset.csv' with the actual file name)\n",
        "df = pd.read_csv('dataset.csv')\n",
        "\n",
        "# Analyze distribution of actions and questions across categories\n",
        "plt.figure(figsize=(10, 6))\n",
        "sns.countplot(data=df, x='Category', hue='Question')\n",
        "plt.title('Distribution of Actions and Questions Across Categories')\n",
        "plt.xlabel('Category')\n",
        "plt.ylabel('Count')\n",
        "plt.xticks(rotation=45)\n",
        "plt.legend(title='Question')\n",
        "plt.show()\n"
      ],
      "metadata": {
        "colab": {
          "base_uri": "https://localhost:8080/",
          "height": 633
        },
        "id": "wzisc56spONx",
        "outputId": "d350b9e6-b249-4588-a74d-99ac550de06f"
      },
      "execution_count": null,
      "outputs": [
        {
          "output_type": "display_data",
          "data": {
            "text/plain": [
              "<Figure size 1000x600 with 1 Axes>"
            ],
            "image/png": "[encoded data removed]"
          },
          "metadata": {}
        }
      ]
    },
    {
      "cell_type": "markdown",
      "source": [
        "the summary of this statement is to explore the dataset to analyze the distribution of actions and questions across different categories and subcategories. Identify trends and patterns in the frequency of actions, assess whether certain subcategories have a higher proportion of questions, and determine whether any specific time references are associated with particular categories."
      ],
      "metadata": {
        "id": "4oQl0Kh8pZ_D"
      }
    },
    {
      "cell_type": "markdown",
      "source": [
        "## Statement 4: Time-based Patterns and Action Requirement\n",
        "\n"
      ],
      "metadata": {
        "id": "09TyIn0KpjQN"
      }
    },
    {
      "cell_type": "code",
      "source": [
        "import pandas as pd\n",
        "import matplotlib.pyplot as plt\n",
        "import seaborn as sns\n",
        "\n",
        "df = pd.read_csv('dataset.csv')\n",
        "\n",
        "plt.figure(figsize=(10, 6))\n",
        "sns.barplot(data=df, x='Time', y='Action_needed')\n",
        "plt.title('Action Necessity by Time')\n",
        "plt.xlabel('Time Reference')\n",
        "plt.ylabel('Mean Action Necessity')\n",
        "plt.xticks(rotation=45)\n",
        "plt.show()\n"
      ],
      "metadata": {
        "colab": {
          "base_uri": "https://localhost:8080/",
          "height": 609
        },
        "id": "8gPXvYUSpp5K",
        "outputId": "9155dc09-1fe1-4db9-d33c-e4f0c9c685a1"
      },
      "execution_count": null,
      "outputs": [
        {
          "output_type": "display_data",
          "data": {
            "text/plain": [
              "<Figure size 1000x600 with 1 Axes>"
            ],
            "image/png": "[encoded data removed]"
          },
          "metadata": {}
        }
      ]
    },
    {
      "cell_type": "markdown",
      "source": [
        "the summary of the above statement is to examine time-related trends in action necessity. Determine whether certain times (e.g., \"today,\" \"tomorrow\") are associated with higher or lower action requirements, and identify any temporal patterns that emerge across different categories.\n",
        "\n"
      ],
      "metadata": {
        "id": "tkeafUBmpx5m"
      }
    },
    {
      "cell_type": "markdown",
      "source": [
        "In all four analyses, data visualization was instrumental in uncovering trends, patterns, and relationships within the dataset. Each problem statement provided a unique perspective on the data and enabled us to extract actionable insights based on the specific focus of the analysis. These EDA models serve as starting points for deeper exploration and decision-making in the respective problem domains.\n",
        "\n",
        "\n",
        "\n",
        "\n"
      ],
      "metadata": {
        "id": "AzhihZNaqdAo"
      }
    }
  ]
}